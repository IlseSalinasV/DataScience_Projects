{
 "cells": [
  {
   "cell_type": "markdown",
   "metadata": {},
   "source": [
    "¡Hola!\n",
    "\n",
    "Mi nombre es Tonatiuh Cruz. Me complace revisar tu proyecto hoy.\n",
    "\n",
    "Al identificar cualquier error inicialmente, simplemente los destacaré. Te animo a localizar y abordar los problemas de forma independiente como parte de tu preparación para un rol como data-scientist. En un entorno profesional, tu líder de equipo seguiría un enfoque similar. Si encuentras la tarea desafiante, proporcionaré una pista más específica en la próxima iteración.\n",
    "\n",
    "Encontrarás mis comentarios a continuación - **por favor no los muevas, modifiques o elimines**.\n",
    "\n",
    "Puedes encontrar mis comentarios en cajas verdes, amarillas o rojas como esta:\n",
    "\n",
    "<div class=\"alert alert-block alert-success\">\n",
    "<b>Comentario del revisor</b> <a class=\"tocSkip\"></a>\n",
    "\n",
    "Éxito. Todo está hecho correctamente.\n",
    "</div>\n",
    "\n",
    "<div class=\"alert alert-block alert-warning\">\n",
    "<b>Comentario del revisor</b> <a class=\"tocSkip\"></a>\n",
    "\n",
    "Observaciones. Algunas recomendaciones.\n",
    "</div>\n",
    "\n",
    "<div class=\"alert alert-block alert-danger\">\n",
    "<b>Comentario del revisor</b> <a class=\"tocSkip\"></a>\n",
    "\n",
    "Necesita corrección. El bloque requiere algunas correcciones. El trabajo no puede ser aceptado con comentarios en rojo.\n",
    "</div>\n",
    "\n",
    "Puedes responderme utilizando esto:\n",
    "\n",
    "<div class=\"alert alert-block alert-info\">\n",
    "<b>Respuesta del estudiante.</b> <a class=\"tocSkip\"></a>\n",
    "</div>"
   ]
  },
  {
   "cell_type": "markdown",
   "metadata": {
    "id": "3rYiDeEH0q0f"
   },
   "source": [
    "# ¿Cuál es la mejor tarifa?\n",
    "\n",
    "Trabajas como analista para el operador de telecomunicaciones Megaline. La empresa ofrece a sus clientes dos tarifas de prepago, Surf y Ultimate. El departamento comercial quiere saber cuál de las tarifas genera más ingresos para poder ajustar el presupuesto de publicidad.\n",
    "\n",
    "Vas a realizar un análisis preliminar de las tarifas basado en una selección de clientes relativamente pequeña. Tendrás los datos de 500 clientes de Megaline: quiénes son los clientes, de dónde son, qué tarifa usan, así como la cantidad de llamadas que hicieron y los mensajes de texto que enviaron en 2018. Tu trabajo es analizar el comportamiento de los clientes y determinar qué tarifa de prepago genera más ingresos."
   ]
  },
  {
   "cell_type": "markdown",
   "metadata": {
    "id": "VNddPNRQ0q0w"
   },
   "source": [
    "[Te proporcionamos algunos comentarios para orientarte mientras completas este proyecto. Pero debes asegurarte de eliminar todos los comentarios entre corchetes antes de entregar tu proyecto.]\n",
    "\n",
    "[Antes de sumergirte en el análisis de datos, explica por tu propia cuenta el propósito del proyecto y las acciones que planeas realizar.]\n",
    "\n",
    "[Ten en cuenta que estudiar, modificar y analizar datos es un proceso iterativo. Es normal volver a los pasos anteriores y corregirlos/ampliarlos para permitir nuevos pasos.]"
   ]
  },
  {
   "cell_type": "markdown",
   "metadata": {
    "id": "MQi4IPy70q0y"
   },
   "source": [
    "## Inicialización"
   ]
  },
  {
   "cell_type": "code",
   "execution_count": 1,
   "metadata": {
    "id": "MtYIuBxu0q0z"
   },
   "outputs": [],
   "source": [
    "# Cargar todas las librerías\n",
    "import pandas as pd\n",
    "from scipy import stats as st\n",
    "import matplotlib.pyplot as plt\n",
    "import numpy as np\n",
    "import math"
   ]
  },
  {
   "cell_type": "markdown",
   "metadata": {},
   "source": [
    "<div class=\"alert alert-block alert-warning\">\n",
    "<b>Comentario revisor</b> <a class=\"tocSkip\"></a>\n",
    "\n",
    "\n",
    "Recomiendo cargar la libreria math. De esta manera, puedes realizar redondeos con otros métodos. \n",
    "</div>"
   ]
  },
  {
   "cell_type": "markdown",
   "metadata": {
    "id": "4ysWWC5i0q00"
   },
   "source": [
    "## Cargar datos"
   ]
  },
  {
   "cell_type": "code",
   "execution_count": 2,
   "metadata": {
    "id": "CCqPW7rS0q01"
   },
   "outputs": [],
   "source": [
    "# Carga los archivos de datos en diferentes DataFrames\n",
    "df_calls = pd.read_csv('/datasets/megaline_calls.csv')\n",
    "df_internet = pd.read_csv('/datasets/megaline_internet.csv')\n",
    "df_messages = pd.read_csv('/datasets/megaline_messages.csv')\n",
    "df_plans = pd.read_csv('/datasets/megaline_plans.csv')\n",
    "df_users = pd.read_csv('/datasets/megaline_users.csv')"
   ]
  },
  {
   "cell_type": "markdown",
   "metadata": {
    "id": "69qqoJ3r0q01"
   },
   "source": [
    "## Preparar los datos"
   ]
  },
  {
   "cell_type": "markdown",
   "metadata": {
    "id": "vUuZw80S0q01"
   },
   "source": [
    "[Los datos para este proyecto se dividen en varias tablas. Explora cada una para tener una comprensión inicial de los datos. Si es necesario, haz las correcciones requeridas en cada tabla.]"
   ]
  },
  {
   "cell_type": "markdown",
   "metadata": {
    "id": "ohBhimvH0q01"
   },
   "source": [
    "## Tarifas"
   ]
  },
  {
   "cell_type": "code",
   "execution_count": 3,
   "metadata": {
    "id": "GptqP3Q40q02"
   },
   "outputs": [
    {
     "name": "stdout",
     "output_type": "stream",
     "text": [
      "<class 'pandas.core.frame.DataFrame'>\n",
      "RangeIndex: 2 entries, 0 to 1\n",
      "Data columns (total 8 columns):\n",
      " #   Column                 Non-Null Count  Dtype  \n",
      "---  ------                 --------------  -----  \n",
      " 0   messages_included      2 non-null      int64  \n",
      " 1   mb_per_month_included  2 non-null      int64  \n",
      " 2   minutes_included       2 non-null      int64  \n",
      " 3   usd_monthly_pay        2 non-null      int64  \n",
      " 4   usd_per_gb             2 non-null      int64  \n",
      " 5   usd_per_message        2 non-null      float64\n",
      " 6   usd_per_minute         2 non-null      float64\n",
      " 7   plan_name              2 non-null      object \n",
      "dtypes: float64(2), int64(5), object(1)\n",
      "memory usage: 256.0+ bytes\n"
     ]
    }
   ],
   "source": [
    "# Imprime la información general/resumida sobre el DataFrame de las tarifas\n",
    "df_plans.info()"
   ]
  },
  {
   "cell_type": "code",
   "execution_count": 4,
   "metadata": {
    "id": "64xzjwL70q02",
    "scrolled": true
   },
   "outputs": [
    {
     "name": "stdout",
     "output_type": "stream",
     "text": [
      "   messages_included  mb_per_month_included  minutes_included  \\\n",
      "0                 50                  15360               500   \n",
      "1               1000                  30720              3000   \n",
      "\n",
      "   usd_monthly_pay  usd_per_gb  usd_per_message  usd_per_minute plan_name  \n",
      "0               20          10             0.03            0.03      surf  \n",
      "1               70           7             0.01            0.01  ultimate  \n"
     ]
    }
   ],
   "source": [
    "# Imprime una muestra de los datos para las tarifas\n",
    "print(df_plans.sample(2)) "
   ]
  },
  {
   "cell_type": "markdown",
   "metadata": {
    "id": "mEc_3_hs0q02"
   },
   "source": [
    "[Describe lo que ves y observas en la información general y en la muestra de datos impresa para el precio de datos anterior. ¿Hay algún problema (tipos de datos no adecuados, datos ausentes, etc.) que pudieran necesitar investigación y cambios adicionales? ¿Cómo se puede arreglar?]\n",
    "\n",
    "Solo existen dos planes de teléfono disponibles para los usuarios y dependiendo del que se escoja tendrá las caracterísitcas en cantidad correspondientes a éste. Con respecto a la información obtenida, al parecer no hay valores ausentes y el tipo de valor concuerda según la columna descrita.  "
   ]
  },
  {
   "cell_type": "markdown",
   "metadata": {
    "id": "R3C05i1l0q03"
   },
   "source": [
    "## Corregir datos"
   ]
  },
  {
   "cell_type": "markdown",
   "metadata": {
    "id": "bIi8StZI0q03"
   },
   "source": [
    "[Corrige los problemas obvios con los datos basándote en las observaciones iniciales.]"
   ]
  },
  {
   "cell_type": "code",
   "execution_count": 5,
   "metadata": {
    "id": "Y7SVmjGn0q03"
   },
   "outputs": [],
   "source": [
    "#no es necesario ya que no se presentan errores en los datos"
   ]
  },
  {
   "cell_type": "markdown",
   "metadata": {
    "id": "LJir7bml0q03"
   },
   "source": [
    "## Enriquecer los datos"
   ]
  },
  {
   "cell_type": "markdown",
   "metadata": {
    "id": "eqADpCfg0q04"
   },
   "source": [
    "[Agrega factores adicionales a los datos si crees que pudieran ser útiles.]"
   ]
  },
  {
   "cell_type": "code",
   "execution_count": 6,
   "metadata": {
    "id": "gfcIEuXV0q04"
   },
   "outputs": [
    {
     "name": "stdout",
     "output_type": "stream",
     "text": [
      "   messages_included  mb_per_month_included  minutes_included  \\\n",
      "1               1000                   30.0              3000   \n",
      "0                 50                   15.0               500   \n",
      "\n",
      "   usd_monthly_pay  usd_per_gb  usd_per_message  usd_per_minute plan_name  \n",
      "1               70           7             0.01            0.01  ultimate  \n",
      "0               20          10             0.03            0.03      surf  \n"
     ]
    }
   ],
   "source": [
    "# La columna mb_per_month_included tiene valores muy altos que puden ser convertidos de megabytes a gigabytes con la siguiente conversion\n",
    "def mb_to_gb(megabytes):\n",
    "    return megabytes / 1024\n",
    "\n",
    "# Se aplica la conversion a la columna 'mb_per_month_included' para pasar de mb a gb\n",
    "# Es importante recalcar que esta division redondeara el resultado\n",
    "df_plans['mb_per_month_included'] = df_plans['mb_per_month_included'].apply(lambda x: mb_to_gb(x))\n",
    "\n",
    "print(df_plans.sample(2)) "
   ]
  },
  {
   "cell_type": "markdown",
   "metadata": {},
   "source": [
    "<div class=\"alert alert-block alert-warning\">\n",
    "<b>Comentario Revisor</b> <a class=\"tocSkip\"></a>\n",
    "\n",
    "Muy buen trabajo, solamente te sugiero que en este apartado menciones un poco sobre la transformación que se debe realizar de megabytes a gigabytes. \n",
    "</div>"
   ]
  },
  {
   "cell_type": "markdown",
   "metadata": {
    "id": "1n2X6WXf0q04"
   },
   "source": [
    "## Usuarios/as"
   ]
  },
  {
   "cell_type": "code",
   "execution_count": 7,
   "metadata": {
    "id": "2NgjWFqx0q05"
   },
   "outputs": [
    {
     "name": "stdout",
     "output_type": "stream",
     "text": [
      "<class 'pandas.core.frame.DataFrame'>\n",
      "RangeIndex: 500 entries, 0 to 499\n",
      "Data columns (total 8 columns):\n",
      " #   Column      Non-Null Count  Dtype \n",
      "---  ------      --------------  ----- \n",
      " 0   user_id     500 non-null    int64 \n",
      " 1   first_name  500 non-null    object\n",
      " 2   last_name   500 non-null    object\n",
      " 3   age         500 non-null    int64 \n",
      " 4   city        500 non-null    object\n",
      " 5   reg_date    500 non-null    object\n",
      " 6   plan        500 non-null    object\n",
      " 7   churn_date  34 non-null     object\n",
      "dtypes: int64(2), object(6)\n",
      "memory usage: 31.4+ KB\n"
     ]
    }
   ],
   "source": [
    "# Imprime la información general/resumida sobre el DataFrame de usuarios\n",
    "df_users.info()"
   ]
  },
  {
   "cell_type": "code",
   "execution_count": 8,
   "metadata": {
    "id": "1IN1L9uh0q05"
   },
   "outputs": [
    {
     "name": "stdout",
     "output_type": "stream",
     "text": [
      "     user_id first_name  last_name  age  \\\n",
      "315     1315       Mora  Schroeder   45   \n",
      "107     1107       Lane       Cash   61   \n",
      "366     1366        Rod       Huff   62   \n",
      "91      1091     Taylor     Oliver   38   \n",
      "495     1495      Fidel     Sharpe   67   \n",
      "\n",
      "                                          city    reg_date      plan  \\\n",
      "315                       Raleigh-Cary, NC MSA  2018-04-26      surf   \n",
      "107  New York-Newark-Jersey City, NY-NJ-PA MSA  2018-11-15  ultimate   \n",
      "366                   Cincinnati, OH-KY-IN MSA  2018-07-30      surf   \n",
      "91    Riverside-San Bernardino-Ontario, CA MSA  2018-05-04  ultimate   \n",
      "495  New York-Newark-Jersey City, NY-NJ-PA MSA  2018-09-04      surf   \n",
      "\n",
      "     churn_date  \n",
      "315  2018-10-03  \n",
      "107         NaN  \n",
      "366         NaN  \n",
      "91          NaN  \n",
      "495         NaN  \n"
     ]
    }
   ],
   "source": [
    "# Imprime una muestra de datos para usuarios\n",
    "print(df_users.sample(5))"
   ]
  },
  {
   "cell_type": "markdown",
   "metadata": {
    "id": "dCZoUq4f0q06"
   },
   "source": [
    "[Describe lo que ves y observas en la información general y en la muestra de datos impresa para el precio de datos anterior. ¿Hay algún problema (tipos de datos no adecuados, datos ausentes, etc.) que pudieran necesitar investigación y cambios adicionales? ¿Cómo se puede arreglar?]\n",
    "\n",
    "Al parecer en la columna churn_date existen solamente 34 de los 500 datos de entradas que no son nulos, por lo tanto hay que analizarla y corregirla. De acuerdo con la información previa del proyecto, se sabe que churn_date es la fecha en la que el usuario dejó de usar el servicio. Es por eso que si este valor es nulo, significa que la tarifa se estaba usando cuando fue extraída esta base de datos. Esto quiere decir que de los 500 usuarios, 466 siguen ocupando su plan teléfonico por lo que la fecha estipulada será una establecida que caracterizara esta situación del usuario. Por si acaso se verificará a continuación si hay usuarios duplicados ya que solo pueden estar en uno de los dos planes telefónicos disponibles. Adicional, con el fin de complementar el análisis, podríamos decir de los registros que no tienen valores en la variable churn_date son aquellos que estan actualizados y que no han culimnado los planes de los usuarios que los registraron.\n"
   ]
  },
  {
   "cell_type": "markdown",
   "metadata": {
    "id": "BX5FQh_I0q06"
   },
   "source": [
    "### Corregir los datos"
   ]
  },
  {
   "cell_type": "markdown",
   "metadata": {
    "id": "8OdKMwJv0q06"
   },
   "source": [
    "[Corrige los problemas obvios con los datos basándote en las observaciones iniciales.]"
   ]
  },
  {
   "cell_type": "code",
   "execution_count": 9,
   "metadata": {
    "id": "yUqX-K0C0q07",
    "scrolled": true
   },
   "outputs": [
    {
     "name": "stdout",
     "output_type": "stream",
     "text": [
      "La cantidad de valores nulos es:  0 \n",
      "\n",
      "<class 'pandas.core.frame.DataFrame'>\n",
      "RangeIndex: 500 entries, 0 to 499\n",
      "Data columns (total 8 columns):\n",
      " #   Column      Non-Null Count  Dtype \n",
      "---  ------      --------------  ----- \n",
      " 0   user_id     500 non-null    int64 \n",
      " 1   first_name  500 non-null    object\n",
      " 2   last_name   500 non-null    object\n",
      " 3   age         500 non-null    int64 \n",
      " 4   city        500 non-null    object\n",
      " 5   reg_date    500 non-null    object\n",
      " 6   plan        500 non-null    object\n",
      " 7   churn_date  500 non-null    object\n",
      "dtypes: int64(2), object(6)\n",
      "memory usage: 31.4+ KB\n",
      "\n",
      "      user_id first_name last_name  age  \\\n",
      "219     1219      Gavin    Keller   51   \n",
      "107     1107       Lane      Cash   61   \n",
      "242     1242   Lashunda     Johns   37   \n",
      "115     1115    Yevette      Yang   21   \n",
      "260     1260       Alia   Aguilar   36   \n",
      "\n",
      "                                          city    reg_date      plan  \\\n",
      "219            Detroit-Warren-Dearborn, MI MSA  2018-05-14      surf   \n",
      "107  New York-Newark-Jersey City, NY-NJ-PA MSA  2018-11-15  ultimate   \n",
      "242          San Antonio-New Braunfels, TX MSA  2018-06-02      surf   \n",
      "115                            El Paso, TX MSA  2018-11-19      surf   \n",
      "260     Los Angeles-Long Beach-Anaheim, CA MSA  2018-12-02      surf   \n",
      "\n",
      "    churn_date  \n",
      "219          0  \n",
      "107          0  \n",
      "242          0  \n",
      "115          0  \n",
      "260          0   \n",
      "\n",
      "Cantidad de usuarios duplicados: 0\n"
     ]
    }
   ],
   "source": [
    "# El formato que tiene churn_date es aaaa-mm-dd en las filas donde si tiene esta informacion correcta\n",
    "# La intencion es llenar los valores nulos con fecha 0000-00-00 para que este en el mismo formato \n",
    "df_users.fillna(value=0, inplace=True)\n",
    "print('La cantidad de valores nulos es: ', df_users['churn_date'].isna().sum(), '\\n')\n",
    "df_users.info()\n",
    "print('\\n',df_users.sample(5), '\\n')\n",
    "\n",
    "# Verifiquemos si hay usuarios repetidos ya que solo pueden estan en uno de los dos planes - Resultado no hay usuarios duplicados\n",
    "df_users_dup = df_users[df_users['user_id'].duplicated()]\n",
    "cant_users_dup = len(df_users_dup)\n",
    "print(\"Cantidad de usuarios duplicados:\", cant_users_dup)"
   ]
  },
  {
   "cell_type": "markdown",
   "metadata": {
    "id": "ycwuARJp0q07"
   },
   "source": [
    "### Enriquecer los datos"
   ]
  },
  {
   "cell_type": "markdown",
   "metadata": {
    "id": "96NIh4CJ0q08"
   },
   "source": [
    "[Agrega factores adicionales a los datos si crees que pudieran ser útiles.]"
   ]
  },
  {
   "cell_type": "code",
   "execution_count": 10,
   "metadata": {
    "id": "iq0AaBS90q08"
   },
   "outputs": [
    {
     "name": "stdout",
     "output_type": "stream",
     "text": [
      "<class 'pandas.core.frame.DataFrame'>\n",
      "RangeIndex: 500 entries, 0 to 499\n",
      "Data columns (total 8 columns):\n",
      " #   Column      Non-Null Count  Dtype         \n",
      "---  ------      --------------  -----         \n",
      " 0   user_id     500 non-null    int64         \n",
      " 1   first_name  500 non-null    object        \n",
      " 2   last_name   500 non-null    object        \n",
      " 3   age         500 non-null    int64         \n",
      " 4   city        500 non-null    object        \n",
      " 5   reg_date    500 non-null    datetime64[ns]\n",
      " 6   plan        500 non-null    object        \n",
      " 7   churn_date  500 non-null    datetime64[ns]\n",
      "dtypes: datetime64[ns](2), int64(2), object(4)\n",
      "memory usage: 31.4+ KB\n",
      "\n",
      "      user_id first_name last_name  age  \\\n",
      "325     1325     Cleora     Lyons   43   \n",
      "276     1276     Karmen    Carney   20   \n",
      "216     1216      Reita    Atkins   29   \n",
      "466     1466   Alphonse    Harmon   56   \n",
      "175     1175     Shiloh  Stafford   25   \n",
      "\n",
      "                                          city   reg_date  plan churn_date  \n",
      "325        Dallas-Fort Worth-Arlington, TX MSA 2018-06-26  surf 1970-01-01  \n",
      "276              Phoenix-Mesa-Chandler, AZ MSA 2018-02-14  surf 1970-01-01  \n",
      "216     San Francisco-Oakland-Berkeley, CA MSA 2018-06-19  surf 1970-01-01  \n",
      "466     Los Angeles-Long Beach-Anaheim, CA MSA 2018-01-26  surf 2018-09-17  \n",
      "175  New York-Newark-Jersey City, NY-NJ-PA MSA 2018-09-30  surf 1970-01-01  \n"
     ]
    }
   ],
   "source": [
    "# Se convierten las columnas 'reg_date' y 'churn_date' de tipo objeto a fecha\n",
    "df_users['reg_date'] = pd.to_datetime(df_users['reg_date'], errors='coerce', format='%Y-%m-%d')\n",
    "df_users['churn_date'] = pd.to_datetime(df_users['churn_date'], errors='coerce', format='%Y-%m-%d') # Los 0 los convierte a NaT Not a Time\n",
    "\n",
    "# Para fechas no establecidas originalmente se define fecha_epoch\n",
    "# Define fecha_epoch (1 de enero de 1970) como un marcador especial y reemplaza NaT por esta fecha\n",
    "fecha_epoch = pd.Timestamp('1970-01-01')\n",
    "df_users['churn_date'].fillna(fecha_epoch, inplace=True)\n",
    "\n",
    "df_users.info()\n",
    "print('\\n', df_users.sample(5))"
   ]
  },
  {
   "cell_type": "markdown",
   "metadata": {},
   "source": [
    "<div class=\"alert alert-block alert-warning\">\n",
    "<b>Comentario Revisor</b> <a class=\"tocSkip\"></a>\n",
    "\n",
    "En todos los casos en los que cambiamos el tipo de variable a datetime, te recomiendo agregar el argumento \"format='%Y-%m-%d'\" dentro de la función to_datetime(). De esta manera, puedes asegurarte siempre de que el formato de la fecha que deseas cambiar sea el que necesitas.\n",
    "</div>"
   ]
  },
  {
   "cell_type": "markdown",
   "metadata": {},
   "source": [
    "<div class=\"alert alert-block alert-warning\">\n",
    "<b>Comentario Revisor</b> <a class=\"tocSkip\"></a>\n",
    "\n",
    "Muy buena conclusión, pero a manera de complementar el análisis qué podríamos decir de los registros que no tienen valores en la variable churn_date?\n",
    "</div>"
   ]
  },
  {
   "cell_type": "markdown",
   "metadata": {
    "id": "o7MeKCid0q08"
   },
   "source": [
    "## Llamadas"
   ]
  },
  {
   "cell_type": "code",
   "execution_count": 11,
   "metadata": {
    "id": "6dDlnoDm0q08"
   },
   "outputs": [
    {
     "name": "stdout",
     "output_type": "stream",
     "text": [
      "<class 'pandas.core.frame.DataFrame'>\n",
      "RangeIndex: 137735 entries, 0 to 137734\n",
      "Data columns (total 4 columns):\n",
      " #   Column     Non-Null Count   Dtype  \n",
      "---  ------     --------------   -----  \n",
      " 0   id         137735 non-null  object \n",
      " 1   user_id    137735 non-null  int64  \n",
      " 2   call_date  137735 non-null  object \n",
      " 3   duration   137735 non-null  float64\n",
      "dtypes: float64(1), int64(1), object(2)\n",
      "memory usage: 4.2+ MB\n"
     ]
    }
   ],
   "source": [
    "# Imprime la información general/resumida sobre el DataFrame de las llamadas\n",
    "df_calls.info()"
   ]
  },
  {
   "cell_type": "code",
   "execution_count": 12,
   "metadata": {
    "id": "kuh1vlNB0q09"
   },
   "outputs": [
    {
     "name": "stdout",
     "output_type": "stream",
     "text": [
      "              id  user_id   call_date  duration\n",
      "12619    1055_26     1055  2018-07-27      0.00\n",
      "87505   1321_141     1321  2018-09-02      0.00\n",
      "90173    1327_98     1327  2018-11-19      9.34\n",
      "102137  1362_903     1362  2018-12-21      0.00\n",
      "75010   1264_351     1264  2018-12-25     12.37\n"
     ]
    }
   ],
   "source": [
    "# Imprime una muestra de datos para las llamadas\n",
    "print(df_calls.sample(5))"
   ]
  },
  {
   "cell_type": "markdown",
   "metadata": {
    "id": "DOAxYJSx0q09"
   },
   "source": [
    "[Describe lo que ves y observas en la información general y en la muestra de datos impresa para el precio de datos anterior. ¿Hay algún problema (tipos de datos no adecuados, datos ausentes, etc.) que pudieran necesitar investigación y cambios adicionales? ¿Cómo se puede arreglar?]\n",
    "\n",
    "De acuerdo con la información presentada, no es necesario hacer algún ajuste ya que los datos están correctos. Lo único que se podría mejorar es pasar la columna call_date a tipo datetime en vez de que permanezca como objeto. Sobre aquellos usuarios que en sus llamadas tiene duración 0 es porque por el momento no ha ocupado este servicio."
   ]
  },
  {
   "cell_type": "markdown",
   "metadata": {
    "id": "S7hzxmbX0q0-"
   },
   "source": [
    "### Corregir los datos"
   ]
  },
  {
   "cell_type": "markdown",
   "metadata": {
    "id": "YxWyAjD20q0-"
   },
   "source": [
    "[Corrige los problemas obvios con los datos basándote en las observaciones iniciales.]"
   ]
  },
  {
   "cell_type": "code",
   "execution_count": 13,
   "metadata": {
    "id": "S2r8xA4f0q0-"
   },
   "outputs": [],
   "source": [
    "#no es necesario ya que no se presentan errores en los datos"
   ]
  },
  {
   "cell_type": "markdown",
   "metadata": {
    "id": "KrMgTrlG0q0_"
   },
   "source": [
    "### Enriquecer los datos"
   ]
  },
  {
   "cell_type": "markdown",
   "metadata": {
    "id": "a9MbmEvE0q0_"
   },
   "source": [
    "[Agrega factores adicionales a los datos si crees que pudieran ser útiles.]"
   ]
  },
  {
   "cell_type": "code",
   "execution_count": 14,
   "metadata": {
    "id": "iZ1avpA_0q0_"
   },
   "outputs": [
    {
     "name": "stdout",
     "output_type": "stream",
     "text": [
      "<class 'pandas.core.frame.DataFrame'>\n",
      "RangeIndex: 137735 entries, 0 to 137734\n",
      "Data columns (total 4 columns):\n",
      " #   Column     Non-Null Count   Dtype         \n",
      "---  ------     --------------   -----         \n",
      " 0   id         137735 non-null  object        \n",
      " 1   user_id    137735 non-null  int64         \n",
      " 2   call_date  137735 non-null  datetime64[ns]\n",
      " 3   duration   137735 non-null  float64       \n",
      "dtypes: datetime64[ns](1), float64(1), int64(1), object(1)\n",
      "memory usage: 4.2+ MB\n",
      "\n",
      "               id  user_id  call_date  duration\n",
      "9363    1042_292     1042 2018-08-13     12.97\n",
      "125036  1440_552     1440 2018-08-23      0.00\n",
      "105617   1373_97     1373 2018-12-05      6.49\n",
      "42605   1156_210     1156 2018-04-26      3.47\n",
      "101343   1362_82     1362 2018-03-25      9.64\n"
     ]
    }
   ],
   "source": [
    "# Se cambia la columna 'call_date' de tipo objeto a datetime\n",
    "df_calls['call_date'] = pd.to_datetime(df_calls['call_date'], errors='coerce')\n",
    "df_calls.info()\n",
    "print('\\n', df_calls.sample(5))"
   ]
  },
  {
   "cell_type": "markdown",
   "metadata": {},
   "source": [
    "<div class=\"alert alert-block alert-warning\">\n",
    "<b>Comentario Revisor</b> <a class=\"tocSkip\"></a>\n",
    "\n",
    "Qué podríamos decir hasta el momento de las llamadas que tienen una duración de 0?\n",
    "</div>"
   ]
  },
  {
   "cell_type": "markdown",
   "metadata": {
    "id": "mOUZSi180q0_"
   },
   "source": [
    "## Mensajes"
   ]
  },
  {
   "cell_type": "code",
   "execution_count": 15,
   "metadata": {
    "id": "R-bYJpdV0q1A"
   },
   "outputs": [
    {
     "name": "stdout",
     "output_type": "stream",
     "text": [
      "<class 'pandas.core.frame.DataFrame'>\n",
      "RangeIndex: 76051 entries, 0 to 76050\n",
      "Data columns (total 3 columns):\n",
      " #   Column        Non-Null Count  Dtype \n",
      "---  ------        --------------  ----- \n",
      " 0   id            76051 non-null  object\n",
      " 1   user_id       76051 non-null  int64 \n",
      " 2   message_date  76051 non-null  object\n",
      "dtypes: int64(1), object(2)\n",
      "memory usage: 1.7+ MB\n"
     ]
    }
   ],
   "source": [
    "# Imprime la información general/resumida sobre el DataFrame de los mensajes\n",
    "df_messages.info()"
   ]
  },
  {
   "cell_type": "code",
   "execution_count": 16,
   "metadata": {
    "id": "mCEl2iGE0q1A"
   },
   "outputs": [
    {
     "name": "stdout",
     "output_type": "stream",
     "text": [
      "             id  user_id message_date\n",
      "21157  1132_379     1132   2018-11-28\n",
      "57290  1362_368     1362   2018-12-03\n",
      "36409   1242_81     1242   2018-11-12\n",
      "11451  1077_722     1077   2018-12-11\n",
      "19861  1126_751     1126   2018-06-07\n"
     ]
    }
   ],
   "source": [
    "# Imprime una muestra de datos para los mensajes\n",
    "print(df_messages.sample(5))"
   ]
  },
  {
   "cell_type": "markdown",
   "metadata": {
    "id": "04xDj7KH0q1A"
   },
   "source": [
    "[Describe lo que ves y observas en la información general y en la muestra de datos impresa para el precio de datos anterior. ¿Hay algún problema (tipos de datos no adecuados, datos ausentes, etc.) que pudieran necesitar investigación y cambios adicionales? ¿Cómo se puede arreglar?]\n",
    "\n",
    "De acuerdo con la información presentada, no es necesario hacer algún ajuste ya que los datos están correctos. Lo único que se podría mejorar es pasar la columna message_date a tipo datetime en vez de que permanezca como objeto."
   ]
  },
  {
   "cell_type": "markdown",
   "metadata": {
    "id": "Sprfak900q1B"
   },
   "source": [
    "### Corregir los datos"
   ]
  },
  {
   "cell_type": "markdown",
   "metadata": {
    "id": "eGw7d9j10q1B"
   },
   "source": [
    "[Corrige los problemas obvios con los datos basándote en las observaciones iniciales.]"
   ]
  },
  {
   "cell_type": "code",
   "execution_count": 17,
   "metadata": {
    "id": "vsllvkoa0q1B"
   },
   "outputs": [],
   "source": [
    "#no es necesario ya que no se presentan errores en los datos"
   ]
  },
  {
   "cell_type": "markdown",
   "metadata": {
    "id": "HvLid7iD0q1B"
   },
   "source": [
    "### Enriquecer los datos"
   ]
  },
  {
   "cell_type": "markdown",
   "metadata": {
    "id": "8nhPFKIe0q1C"
   },
   "source": [
    "[Agrega factores adicionales a los datos si crees que pudieran ser útiles.]"
   ]
  },
  {
   "cell_type": "code",
   "execution_count": 18,
   "metadata": {
    "id": "zYEXZac10q1C"
   },
   "outputs": [
    {
     "name": "stdout",
     "output_type": "stream",
     "text": [
      "<class 'pandas.core.frame.DataFrame'>\n",
      "RangeIndex: 76051 entries, 0 to 76050\n",
      "Data columns (total 3 columns):\n",
      " #   Column        Non-Null Count  Dtype         \n",
      "---  ------        --------------  -----         \n",
      " 0   id            76051 non-null  object        \n",
      " 1   user_id       76051 non-null  int64         \n",
      " 2   message_date  76051 non-null  datetime64[ns]\n",
      "dtypes: datetime64[ns](1), int64(1), object(1)\n",
      "memory usage: 1.7+ MB\n",
      "\n",
      "               id  user_id message_date\n",
      "52604   1336_612     1336   2018-07-04\n",
      "21672  1132_1118     1132   2018-08-01\n",
      "17620   1114_668     1114   2018-10-01\n",
      "35315    1227_18     1227   2018-12-30\n",
      "72464    1470_92     1470   2018-05-23\n"
     ]
    }
   ],
   "source": [
    "# Se cambia la columna 'message_date' de tipo objeto a datetime\n",
    "df_messages['message_date'] = pd.to_datetime(df_messages['message_date'], errors='coerce')\n",
    "df_messages.info()\n",
    "print('\\n', df_messages.sample(5))"
   ]
  },
  {
   "cell_type": "markdown",
   "metadata": {
    "id": "bStkaxn40q1C"
   },
   "source": [
    "## Internet"
   ]
  },
  {
   "cell_type": "code",
   "execution_count": 19,
   "metadata": {
    "id": "e-Uz5qyn0q1C"
   },
   "outputs": [
    {
     "name": "stdout",
     "output_type": "stream",
     "text": [
      "<class 'pandas.core.frame.DataFrame'>\n",
      "RangeIndex: 104825 entries, 0 to 104824\n",
      "Data columns (total 4 columns):\n",
      " #   Column        Non-Null Count   Dtype  \n",
      "---  ------        --------------   -----  \n",
      " 0   id            104825 non-null  object \n",
      " 1   user_id       104825 non-null  int64  \n",
      " 2   session_date  104825 non-null  object \n",
      " 3   mb_used       104825 non-null  float64\n",
      "dtypes: float64(1), int64(1), object(2)\n",
      "memory usage: 3.2+ MB\n"
     ]
    }
   ],
   "source": [
    "# Imprime la información general/resumida sobre el DataFrame de internet\n",
    "df_internet.info()"
   ]
  },
  {
   "cell_type": "code",
   "execution_count": 20,
   "metadata": {
    "id": "9r3x_XLw0q1C"
   },
   "outputs": [
    {
     "name": "stdout",
     "output_type": "stream",
     "text": [
      "             id  user_id session_date  mb_used\n",
      "3612    1022_23     1022   2018-06-20   640.16\n",
      "31951   1145_87     1145   2018-08-29   117.75\n",
      "2137   1010_319     1010   2018-04-30   269.25\n",
      "94385   1440_23     1440   2018-10-06   233.89\n",
      "14644  1066_541     1066   2018-11-05   395.34\n"
     ]
    }
   ],
   "source": [
    "# Imprime una muestra de datos para el tráfico de internet\n",
    "print(df_internet.sample(5))"
   ]
  },
  {
   "cell_type": "markdown",
   "metadata": {
    "id": "EzOG5ik30q1D"
   },
   "source": [
    "[Describe lo que ves y observas en la información general y en la muestra de datos impresa para el precio de datos anterior. ¿Hay algún problema (tipos de datos no adecuados, datos ausentes, etc.) que pudieran necesitar investigación y cambios adicionales? ¿Cómo se puede arreglar?]\n",
    "\n",
    "De acuerdo con la información presentada, no es necesario hacer algún ajuste ya que los datos están correctos. Lo único que se podría mejorar es pasar la columna session_date a tipo datetime en vez de que permanezca como objeto."
   ]
  },
  {
   "cell_type": "markdown",
   "metadata": {
    "id": "yA0tkPFg0q1D"
   },
   "source": [
    "### Corregir los datos"
   ]
  },
  {
   "cell_type": "markdown",
   "metadata": {
    "id": "zlZMuIEK0q1D"
   },
   "source": [
    "[Corrige los problemas obvios con los datos basándote en las observaciones iniciales.]"
   ]
  },
  {
   "cell_type": "code",
   "execution_count": 21,
   "metadata": {
    "id": "zVeanzdd0q1E"
   },
   "outputs": [
    {
     "name": "stdout",
     "output_type": "stream",
     "text": [
      "             id  user_id session_date   mb_used\n",
      "40185  1181_357     1181   2018-05-13  0.000000\n",
      "64441  1295_471     1295   2018-12-13  0.082236\n",
      "9967   1050_389     1050   2018-04-18  0.733398\n",
      "40236  1181_425     1181   2018-05-08  0.000000\n",
      "65879   1305_48     1305   2018-12-15  0.261543\n"
     ]
    }
   ],
   "source": [
    "# La columna mb_used se convierte a gb por calculos posteriores\n",
    "def mb_to_gb(megabytes):\n",
    "    return megabytes / 1024\n",
    "\n",
    "# Se aplica la conversion a la columna 'mb_used' para pasar de mb a gb\n",
    "# Es importante recalcar que esta division redondeara el resultado\n",
    "df_internet['mb_used'] = df_internet['mb_used'].apply(lambda x: mb_to_gb(x))\n",
    "\n",
    "print(df_internet.sample(5))"
   ]
  },
  {
   "cell_type": "markdown",
   "metadata": {
    "id": "e8_mLF4a0q1E"
   },
   "source": [
    "### Enriquecer los datos"
   ]
  },
  {
   "cell_type": "markdown",
   "metadata": {
    "id": "xhNdn2tE0q1E"
   },
   "source": [
    "[Agrega factores adicionales a los datos si crees que pudieran ser útiles.]"
   ]
  },
  {
   "cell_type": "code",
   "execution_count": 22,
   "metadata": {
    "id": "ESiYPIEK0q1E"
   },
   "outputs": [
    {
     "name": "stdout",
     "output_type": "stream",
     "text": [
      "<class 'pandas.core.frame.DataFrame'>\n",
      "RangeIndex: 104825 entries, 0 to 104824\n",
      "Data columns (total 4 columns):\n",
      " #   Column        Non-Null Count   Dtype         \n",
      "---  ------        --------------   -----         \n",
      " 0   id            104825 non-null  object        \n",
      " 1   user_id       104825 non-null  int64         \n",
      " 2   session_date  104825 non-null  datetime64[ns]\n",
      " 3   mb_used       104825 non-null  float64       \n",
      "dtypes: datetime64[ns](1), float64(1), int64(1), object(1)\n",
      "memory usage: 3.2+ MB\n",
      "\n",
      "              id  user_id session_date   mb_used\n",
      "31334   1144_29     1144   2018-07-02  0.696270\n",
      "57366  1258_468     1258   2018-07-25  0.539912\n",
      "73572  1346_153     1346   2018-12-13  0.000000\n",
      "80086  1374_162     1374   2018-07-02  0.254502\n",
      "8488   1044_127     1044   2018-09-16  0.596719\n"
     ]
    }
   ],
   "source": [
    "# Se cambia la columna 'session_date' de tipo objeto a datetime\n",
    "df_internet['session_date'] = pd.to_datetime(df_internet['session_date'], errors='coerce')\n",
    "df_internet.info()\n",
    "print('\\n', df_internet.sample(5))"
   ]
  },
  {
   "cell_type": "markdown",
   "metadata": {},
   "source": [
    "<div class=\"alert alert-block alert-warning\">\n",
    "<b>Comentario revisor</b> <a class=\"tocSkip\"></a>\n",
    "\n",
    "\n",
    "Te recomiendo solamente comentar que cuando agrupemos los datos vamos a tener que redondear hacia arriba lo valores de la transformación de mbegabyter a gigabyte, para este ejercicio debemos hacer el redondeo superior dado que se cobra el costo extra en cuanto se pasa de los límites.Por lo que es necesario hacer la transformación de mb a gb y después hacer el redondeo.  \n",
    "</div>"
   ]
  },
  {
   "cell_type": "markdown",
   "metadata": {
    "id": "3UA2cqIW0q1E"
   },
   "source": [
    "## Estudiar las condiciones de las tarifas"
   ]
  },
  {
   "cell_type": "markdown",
   "metadata": {
    "id": "T86Sqltq0q1F"
   },
   "source": [
    "[Es sumamente importante entender cómo funcionan las tarifas, cómo se les cobra a los usuarios en función de su plan de suscripción. Así que te sugerimos imprimir la información de la tarifa para ver una vez más sus condiciones.]"
   ]
  },
  {
   "cell_type": "code",
   "execution_count": 23,
   "metadata": {
    "id": "i409op8p0q1F"
   },
   "outputs": [
    {
     "name": "stdout",
     "output_type": "stream",
     "text": [
      "   messages_included  mb_per_month_included  minutes_included  \\\n",
      "0                 50                   15.0               500   \n",
      "1               1000                   30.0              3000   \n",
      "\n",
      "   usd_monthly_pay  usd_per_gb  usd_per_message  usd_per_minute plan_name  \n",
      "0               20          10             0.03            0.03      surf  \n",
      "1               70           7             0.01            0.01  ultimate  \n",
      "<class 'pandas.core.frame.DataFrame'>\n",
      "RangeIndex: 2 entries, 0 to 1\n",
      "Data columns (total 8 columns):\n",
      " #   Column                 Non-Null Count  Dtype  \n",
      "---  ------                 --------------  -----  \n",
      " 0   messages_included      2 non-null      int64  \n",
      " 1   mb_per_month_included  2 non-null      float64\n",
      " 2   minutes_included       2 non-null      int64  \n",
      " 3   usd_monthly_pay        2 non-null      int64  \n",
      " 4   usd_per_gb             2 non-null      int64  \n",
      " 5   usd_per_message        2 non-null      float64\n",
      " 6   usd_per_minute         2 non-null      float64\n",
      " 7   plan_name              2 non-null      object \n",
      "dtypes: float64(3), int64(4), object(1)\n",
      "memory usage: 256.0+ bytes\n"
     ]
    }
   ],
   "source": [
    "# Imprime las condiciones de la tarifa y asegúrate de que te quedan claras\n",
    "print(df_plans)\n",
    "df_plans.info()"
   ]
  },
  {
   "cell_type": "markdown",
   "metadata": {
    "id": "hMR1tP5d0q1F"
   },
   "source": [
    "## Agregar datos por usuario\n",
    "\n",
    "[Ahora que los datos están limpios, agrega los datos por usuario y por periodo para que solo haya un registro por usuario y por periodo. Esto facilitará mucho el análisis posterior.]"
   ]
  },
  {
   "cell_type": "code",
   "execution_count": 24,
   "metadata": {
    "id": "A332cedB0q1G"
   },
   "outputs": [
    {
     "name": "stdout",
     "output_type": "stream",
     "text": [
      "      user_id  month  numero_de_llamadas\n",
      "0        1000     12                  16\n",
      "1        1001      8                  27\n",
      "2        1001      9                  49\n",
      "3        1001     10                  65\n",
      "4        1001     11                  64\n",
      "...       ...    ...                 ...\n",
      "2253     1498     12                  39\n",
      "2254     1499      9                  41\n",
      "2255     1499     10                  53\n",
      "2256     1499     11                  45\n",
      "2257     1499     12                  65\n",
      "\n",
      "[2258 rows x 3 columns]\n"
     ]
    }
   ],
   "source": [
    "# Calcula el número de llamadas hechas por cada usuario al mes. Guarda el resultado.\n",
    "llamadas_por_mes = df_calls.groupby([df_calls['user_id'], df_calls['call_date'].dt.month])['user_id'].count() #de la fecha completa importa el mes solamente\n",
    "llamadas_por_mes = llamadas_por_mes.reset_index(name='numero_de_llamadas')\n",
    "llamadas_por_mes = llamadas_por_mes.rename(columns={'call_date': 'month'})\n",
    "print(llamadas_por_mes)\n",
    "\n",
    "\n",
    "#pivot_calls = df_calls.pivot_table(index=['user_id', 'call_date'],\n",
    "#                            values=['duration'],\n",
    "#                            aggfunc=['sum','count']).reset_index()\n",
    "#print(pivot_calls)"
   ]
  },
  {
   "cell_type": "markdown",
   "metadata": {},
   "source": [
    "<div class=\"alert alert-block alert-warning\">\n",
    "\n",
    "<b>Comentario revisor</b> <a class=\"tocSkip\"></a>\n",
    "\n",
    "Si bien es correcta la forma de agrupar para sacar la duración de las llamadas por cada ususario, para proximas ocasiones puedes hacer uso de la siguiente forma:\n",
    "    \n",
    "    pivot_calls = calls.pivot_table(index=['user_id', 'month'],\n",
    "                                values=['duration'],\n",
    "                                aggfunc=['sum','count']).reset_index()\n",
    "\n",
    "</div>\n",
    "\n"
   ]
  },
  {
   "cell_type": "code",
   "execution_count": 25,
   "metadata": {
    "id": "aw2cmuql0q1G"
   },
   "outputs": [
    {
     "name": "stdout",
     "output_type": "stream",
     "text": [
      "      user_id  month  minutos_utilizados\n",
      "0        1000     12              116.83\n",
      "1        1001      8              171.14\n",
      "2        1001      9              297.69\n",
      "3        1001     10              374.11\n",
      "4        1001     11              404.59\n",
      "...       ...    ...                 ...\n",
      "2253     1498     12              324.77\n",
      "2254     1499      9              330.37\n",
      "2255     1499     10              363.28\n",
      "2256     1499     11              288.56\n",
      "2257     1499     12              468.10\n",
      "\n",
      "[2258 rows x 3 columns]\n"
     ]
    }
   ],
   "source": [
    "# Calcula la cantidad de minutos usados por cada usuario al mes. Guarda el resultado.\n",
    "minutos_por_mes = df_calls.groupby([df_calls['user_id'], df_calls['call_date'].dt.month])['duration'].sum()\n",
    "minutos_por_mes = minutos_por_mes.reset_index(name='minutos_utilizados')\n",
    "minutos_por_mes = minutos_por_mes.rename(columns={'call_date': 'month'})\n",
    "print(minutos_por_mes)"
   ]
  },
  {
   "cell_type": "code",
   "execution_count": 26,
   "metadata": {
    "id": "CcQvNHn60q1G"
   },
   "outputs": [
    {
     "name": "stdout",
     "output_type": "stream",
     "text": [
      "      user_id  month  numero_de_mensajes\n",
      "0        1000     12                  11\n",
      "1        1001      8                  30\n",
      "2        1001      9                  44\n",
      "3        1001     10                  53\n",
      "4        1001     11                  36\n",
      "...       ...    ...                 ...\n",
      "1801     1496      9                  21\n",
      "1802     1496     10                  18\n",
      "1803     1496     11                  13\n",
      "1804     1496     12                  11\n",
      "1805     1497     12                  50\n",
      "\n",
      "[1806 rows x 3 columns]\n"
     ]
    }
   ],
   "source": [
    "# Calcula el número de mensajes enviados por cada usuario al mes. Guarda el resultado.\n",
    "mensajes_por_mes = df_messages.groupby([df_messages['user_id'], df_messages['message_date'].dt.month])['user_id'].count() #de la fecha completa importa el mes solamente\n",
    "mensajes_por_mes = mensajes_por_mes.reset_index(name='numero_de_mensajes')\n",
    "mensajes_por_mes = mensajes_por_mes.rename(columns={'message_date': 'month'})\n",
    "print(mensajes_por_mes)"
   ]
  },
  {
   "cell_type": "code",
   "execution_count": 27,
   "metadata": {
    "id": "H1AqN2eG0q1H"
   },
   "outputs": [
    {
     "name": "stdout",
     "output_type": "stream",
     "text": [
      "      user_id  month  volumen_de_internet\n",
      "0        1000     12             1.856904\n",
      "1        1001      8             6.756982\n",
      "2        1001      9            13.002754\n",
      "3        1001     10            21.807119\n",
      "4        1001     11            18.070605\n",
      "...       ...    ...                  ...\n",
      "2272     1498     12            22.595400\n",
      "2273     1499      9            12.680430\n",
      "2274     1499     10            19.035576\n",
      "2275     1499     11            16.419756\n",
      "2276     1499     12            21.542197\n",
      "\n",
      "[2277 rows x 3 columns]\n"
     ]
    }
   ],
   "source": [
    "# Calcula el volumen del tráfico de Internet usado por cada usuario al mes. Guarda el resultado.\n",
    "volumen_por_mes = df_internet.groupby([df_internet['user_id'], df_internet['session_date'].dt.month])['mb_used'].sum()\n",
    "volumen_por_mes = volumen_por_mes.reset_index(name='volumen_de_internet')\n",
    "volumen_por_mes = volumen_por_mes.rename(columns={'session_date': 'month'})\n",
    "print(volumen_por_mes)"
   ]
  },
  {
   "cell_type": "markdown",
   "metadata": {
    "id": "VDfYXnj80q1H"
   },
   "source": [
    "[Junta los datos agregados en un DataFrame para que haya un registro que represente lo que consumió un usuario único en un mes determinado.]"
   ]
  },
  {
   "cell_type": "code",
   "execution_count": 28,
   "metadata": {
    "id": "FW99ykyf0q1H"
   },
   "outputs": [
    {
     "name": "stdout",
     "output_type": "stream",
     "text": [
      "      user_id  month  numero_de_llamadas  minutos_utilizados  \\\n",
      "0        1000     12                16.0              116.83   \n",
      "1        1001      8                27.0              171.14   \n",
      "2        1001      9                49.0              297.69   \n",
      "3        1001     10                65.0              374.11   \n",
      "4        1001     11                64.0              404.59   \n",
      "...       ...    ...                 ...                 ...   \n",
      "2288     1349     12                 NaN                 NaN   \n",
      "2289     1361      5                 NaN                 NaN   \n",
      "2290     1482     10                 NaN                 NaN   \n",
      "2291     1108     12                 NaN                 NaN   \n",
      "2292     1311      6                 NaN                 NaN   \n",
      "\n",
      "      numero_de_mensajes  volumen_de_internet  \n",
      "0                   11.0             1.856904  \n",
      "1                   30.0             6.756982  \n",
      "2                   44.0            13.002754  \n",
      "3                   53.0            21.807119  \n",
      "4                   36.0            18.070605  \n",
      "...                  ...                  ...  \n",
      "2288                61.0            12.734287  \n",
      "2289                 2.0             1.484072  \n",
      "2290                 2.0                  NaN  \n",
      "2291                 NaN             0.227705  \n",
      "2292                 NaN             1.463701  \n",
      "\n",
      "[2293 rows x 6 columns]\n"
     ]
    }
   ],
   "source": [
    "# Fusiona los datos de llamadas, minutos, mensajes e Internet con base en user_id y month\n",
    "# Para eso fue necesario cambiar el titulo de las fechas donde solo nos importaba el mes a month\n",
    "merged_data = pd.merge(llamadas_por_mes, minutos_por_mes, on=['user_id', 'month'], how='outer')\n",
    "merged_data = pd.merge(merged_data, mensajes_por_mes, on=['user_id', 'month'], how='outer')\n",
    "merged_data = pd.merge(merged_data, volumen_por_mes, on=['user_id', 'month'], how='outer')\n",
    "print(merged_data)\n",
    "\n",
    "# Si hay valores NaN puede ser porque los usuarios no hicieron llamadas o mandaron mensajes ese mes "
   ]
  },
  {
   "cell_type": "markdown",
   "metadata": {},
   "source": [
    "<div class=\"alert alert-block alert-success\">\n",
    "<b>Comentario del revisor</b> <a class=\"tocSkip\"></a>\n",
    "\n",
    "Muy buen trabajo!! el merge es correcto para unir todas las bases trabajadas.\n",
    "    \n",
    "</div>"
   ]
  },
  {
   "cell_type": "code",
   "execution_count": 29,
   "metadata": {
    "id": "0dNOXHag0q1H"
   },
   "outputs": [
    {
     "name": "stdout",
     "output_type": "stream",
     "text": [
      "plan\n",
      "surf        339\n",
      "ultimate    161\n",
      "Name: user_id, dtype: int64 \n",
      "\n",
      "      user_id  month  numero_de_llamadas  minutos_utilizados  \\\n",
      "0        1000     12                16.0              116.83   \n",
      "1        1001      8                27.0              171.14   \n",
      "2        1001      9                49.0              297.69   \n",
      "3        1001     10                65.0              374.11   \n",
      "4        1001     11                64.0              404.59   \n",
      "...       ...    ...                 ...                 ...   \n",
      "2288     1349     12                 NaN                 NaN   \n",
      "2289     1361      5                 NaN                 NaN   \n",
      "2290     1482     10                 NaN                 NaN   \n",
      "2291     1108     12                 NaN                 NaN   \n",
      "2292     1311      6                 NaN                 NaN   \n",
      "\n",
      "      numero_de_mensajes  volumen_de_internet      plan  \n",
      "0                   11.0             1.856904  ultimate  \n",
      "1                   30.0             6.756982      surf  \n",
      "2                   44.0            13.002754      surf  \n",
      "3                   53.0            21.807119      surf  \n",
      "4                   36.0            18.070605      surf  \n",
      "...                  ...                  ...       ...  \n",
      "2288                61.0            12.734287      surf  \n",
      "2289                 2.0             1.484072      surf  \n",
      "2290                 2.0                  NaN  ultimate  \n",
      "2291                 NaN             0.227705  ultimate  \n",
      "2292                 NaN             1.463701  ultimate  \n",
      "\n",
      "[2293 rows x 7 columns]\n",
      "<class 'pandas.core.frame.DataFrame'>\n",
      "Int64Index: 2293 entries, 0 to 2292\n",
      "Data columns (total 7 columns):\n",
      " #   Column               Non-Null Count  Dtype  \n",
      "---  ------               --------------  -----  \n",
      " 0   user_id              2293 non-null   int64  \n",
      " 1   month                2293 non-null   int64  \n",
      " 2   numero_de_llamadas   2258 non-null   float64\n",
      " 3   minutos_utilizados   2258 non-null   float64\n",
      " 4   numero_de_mensajes   1806 non-null   float64\n",
      " 5   volumen_de_internet  2277 non-null   float64\n",
      " 6   plan                 2293 non-null   object \n",
      "dtypes: float64(4), int64(2), object(1)\n",
      "memory usage: 143.3+ KB\n"
     ]
    }
   ],
   "source": [
    "# Añade la información de la tarifa\n",
    "df_plans = df_plans.rename(columns={'plan_name': 'plan'})\n",
    "\n",
    "# Se funcionan usuarios con planes y se agrupan los usuarios por el plan que han elegido y contar cuántos usuarios hay en cada plan\n",
    "fusion = pd.merge(df_users, df_plans, on='plan', how='left')\n",
    "users_per_plan = fusion.groupby('plan')['user_id'].count()\n",
    "print(users_per_plan, '\\n')\n",
    "\n",
    "# Se obtiene un dataframe para fusionarlo con merge_data anterior\n",
    "users_plan_df = fusion[['user_id', 'plan']]\n",
    "merged_data = pd.merge(merged_data, users_plan_df, on='user_id', how='left')\n",
    "print(merged_data)\n",
    "merged_data.info()"
   ]
  },
  {
   "cell_type": "markdown",
   "metadata": {
    "id": "1IwGo4wg0q1I"
   },
   "source": [
    "[Calcula los ingresos mensuales por usuario (resta el límite del paquete gratuito del número total de llamadas, mensajes de texto y datos; multiplica el resultado por el valor del plan de llamadas; añade la tarifa mensual en función del plan de llamadas). Nota: Dadas las condiciones del plan, ¡esto podría no ser tan trivial como un par de líneas! Así que no pasa nada si dedicas algo de tiempo a ello.]"
   ]
  },
  {
   "cell_type": "code",
   "execution_count": 30,
   "metadata": {
    "id": "5FGCf_c60q1I"
   },
   "outputs": [
    {
     "name": "stdout",
     "output_type": "stream",
     "text": [
      "      user_id  ingresos_mensuales\n",
      "0        1000           70.000000\n",
      "1        1001           20.000000\n",
      "2        1001           20.000000\n",
      "3        1001           88.161191\n",
      "4        1001           50.706055\n",
      "...       ...                 ...\n",
      "2288     1349           20.330000\n",
      "2289     1361           20.000000\n",
      "2290     1482           70.000000\n",
      "2291     1108           70.000000\n",
      "2292     1311           70.000000\n",
      "\n",
      "[2293 rows x 2 columns]\n",
      "<class 'pandas.core.frame.DataFrame'>\n",
      "Int64Index: 2293 entries, 0 to 2292\n",
      "Data columns (total 8 columns):\n",
      " #   Column               Non-Null Count  Dtype  \n",
      "---  ------               --------------  -----  \n",
      " 0   user_id              2293 non-null   int64  \n",
      " 1   month                2293 non-null   int64  \n",
      " 2   numero_de_llamadas   2258 non-null   float64\n",
      " 3   minutos_utilizados   2258 non-null   float64\n",
      " 4   numero_de_mensajes   1806 non-null   float64\n",
      " 5   volumen_de_internet  2277 non-null   float64\n",
      " 6   plan                 2293 non-null   object \n",
      " 7   ingresos_mensuales   2293 non-null   float64\n",
      "dtypes: float64(5), int64(2), object(1)\n",
      "memory usage: 161.2+ KB\n"
     ]
    }
   ],
   "source": [
    "# Calcula el ingreso mensual para cada usuario\n",
    "# Calcula el exceso de llamadas, mensajes y datos para cada usuario\n",
    "\n",
    "# Se obtiene de cada plan por separado sus valores\n",
    "# Detalles del plan 'Surf'\n",
    "surf_messages_included = df_plans.loc[0, 'messages_included'] #50\n",
    "surf_mb_per_month_included = df_plans.loc[0, 'mb_per_month_included'] #15360 = 15 ya convertido anteriormente pero manteniendo mismo nombre\n",
    "surf_minutes_included = df_plans.loc[0, 'minutes_included'] #500\n",
    "surf_usd_monthly_pay = df_plans.loc[0, 'usd_monthly_pay'] #20\n",
    "surf_usd_per_gb = df_plans.loc[0, 'usd_per_gb'] #10\n",
    "surf_usd_per_message = df_plans.loc[0, 'usd_per_message'] #0.03\n",
    "surf_usd_per_minute = df_plans.loc[0, 'usd_per_minute'] #0.03\n",
    "\n",
    "# Detalles del plan 'Ultimate'\n",
    "ultimate_messages_included = df_plans.loc[1, 'messages_included'] #1000\n",
    "ultimate_mb_per_month_included = df_plans.loc[1, 'mb_per_month_included'] #30720 = 30 ya convertido anteriormente pero manteniendo mismo nombre\n",
    "ultimate_minutes_included = df_plans.loc[1, 'minutes_included'] #3000\n",
    "ultimate_usd_monthly_pay = df_plans.loc[1, 'usd_monthly_pay'] #70\n",
    "ultimate_usd_per_gb = df_plans.loc[1, 'usd_per_gb'] #7\n",
    "ultimate_usd_per_message = df_plans.loc[1, 'usd_per_message'] #0.01\n",
    "ultimate_usd_per_minute = df_plans.loc[1, 'usd_per_minute'] #0.01\n",
    "\n",
    "# Funcion para calcular los ingresos mensuales por usuario\n",
    "def calcular_ingresos(row):\n",
    "    if row['plan'] == 'surf':\n",
    "        exceso_llamadas = max(0, row['minutos_utilizados'] - surf_minutes_included)\n",
    "        exceso_mensajes = max(0, row['numero_de_mensajes'] - surf_messages_included)\n",
    "        exceso_datos = max(0, row['volumen_de_internet'] - surf_mb_per_month_included) #El volumen ya esta en gb\n",
    "        ingresos_exceso_llamadas = exceso_llamadas * surf_usd_per_minute\n",
    "        ingresos_exceso_mensajes = exceso_mensajes * surf_usd_per_message\n",
    "        ingresos_exceso_datos = exceso_datos * surf_usd_per_gb #El resultado ya esta en gb \n",
    "        total_ingresos_exceso = ingresos_exceso_llamadas + ingresos_exceso_mensajes + ingresos_exceso_datos\n",
    "        ingresos_mensuales = surf_usd_monthly_pay + total_ingresos_exceso\n",
    "    elif row['plan'] == 'ultimate':\n",
    "        exceso_llamadas = max(0, row['minutos_utilizados'] - ultimate_minutes_included)\n",
    "        exceso_mensajes = max(0, row['numero_de_mensajes'] - ultimate_messages_included)\n",
    "        exceso_datos = max(0, row['volumen_de_internet'] - ultimate_mb_per_month_included) #El volumen ya esta en gb\n",
    "        ingresos_exceso_llamadas = exceso_llamadas * ultimate_usd_per_minute\n",
    "        ingresos_exceso_mensajes = exceso_mensajes * ultimate_usd_per_message\n",
    "        ingresos_exceso_datos = exceso_datos * ultimate_usd_per_gb #El resultado ya esta en gb\n",
    "        total_ingresos_exceso = ingresos_exceso_llamadas + ingresos_exceso_mensajes + ingresos_exceso_datos\n",
    "        ingresos_mensuales = ultimate_usd_monthly_pay + total_ingresos_exceso\n",
    "    else:\n",
    "        ingresos_mensuales = 0  # No se ha definido el plan correctamente\n",
    "    return ingresos_mensuales\n",
    "\n",
    "# Se aplica la funcion para calcular ingresos mensuales a cada fila del DataFrame\n",
    "merged_data['ingresos_mensuales'] = merged_data.apply(calcular_ingresos, axis=1)\n",
    "\n",
    "print(merged_data[['user_id', 'ingresos_mensuales']])\n",
    "\n",
    "merged_data.info()"
   ]
  },
  {
   "cell_type": "markdown",
   "metadata": {},
   "source": [
    "<div class=\"alert alert-block alert-danger\">\n",
    "<b>Comentario revisor</b> <a class=\"tocSkip\"></a>\n",
    "\n",
    "\n",
    "Recuerda que para este punto, es necesario que ya tengamos los valores redondeados de la duración de las llamadas y redondear la transformación de megabytes a gigabytes. Esto cobra importancia dado que estamos calculando por cuanto se paso cada usuario, entonces el no redondear puede alterar este valor.\n",
    "</div>"
   ]
  },
  {
   "cell_type": "markdown",
   "metadata": {
    "id": "-jtyHzJb0q1I"
   },
   "source": [
    "## Estudia el comportamiento de usuario"
   ]
  },
  {
   "cell_type": "markdown",
   "metadata": {
    "id": "AxU3Y0N70q1J"
   },
   "source": [
    "[Calcula algunas estadísticas descriptivas para los datos agregados y fusionados que nos sean útiles y que muestren un panorama general captado por los datos. Dibuja gráficos útiles para facilitar la comprensión. Dado que la tarea principal es comparar las tarifas y decidir cuál es más rentable, las estadísticas y gráficas deben calcularse por tarifa.]\n",
    "\n",
    "[En los comentarios hallarás pistas relevantes para las llamadas, pero no las hay para los mensajes e Internet. Sin embargo, el principio del estudio estadístico que se aplica para ellos es el mismo que para las llamadas.]"
   ]
  },
  {
   "cell_type": "markdown",
   "metadata": {
    "id": "vtW4CJEe0q1J"
   },
   "source": [
    "### Llamadas"
   ]
  },
  {
   "cell_type": "code",
   "execution_count": 31,
   "metadata": {
    "id": "Jf5v5--k0q1J"
   },
   "outputs": [
    {
     "data": {
      "image/png": "[encoded data removed]",
      "text/plain": [
       "<Figure size 720x432 with 1 Axes>"
      ]
     },
     "metadata": {
      "needs_background": "light"
     },
     "output_type": "display_data"
    }
   ],
   "source": [
    "# Compara la duración promedio de llamadas por cada plan y por cada mes. Traza un gráfico de barras para visualizarla.\n",
    "duracion_promedio_llamadas = merged_data.groupby(['plan', merged_data['month']])['minutos_utilizados'].mean().unstack()\n",
    "\n",
    "# Configuracion de grafico\n",
    "fig, ax = plt.subplots(figsize=(10, 6))\n",
    "\n",
    "# Eje x se separa por los meses del año y para cada mes se agrega la info correspondiente de ambos planes\n",
    "for month in duracion_promedio_llamadas.columns:\n",
    "    ax.bar(month - 0.2, duracion_promedio_llamadas.loc['surf', month], width=0.4, align='center', label='Surf', color='lightblue')\n",
    "    ax.bar(month + 0.2, duracion_promedio_llamadas.loc['ultimate', month], width=0.4, align='center', label='Ultimate', color='lightgreen')\n",
    "\n",
    "# Datos del grafico\n",
    "ax.set_title('Duración Promedio de Llamadas por Mes y Plan')\n",
    "ax.set_xlabel('Mes')\n",
    "ax.set_ylabel('Duración Promedio de Llamadas')\n",
    "ax.set_xticks(duracion_promedio_llamadas.columns)\n",
    "ax.set_xticklabels(['Enero', 'Febrero', 'Marzo', 'Abril', 'Mayo', 'Junio', 'Julio', 'Agosto', 'Septiembre', 'Octubre', 'Noviembre', 'Diciembre'], rotation=45)\n",
    "ax.legend(['Surf', 'Ultimate'], loc='upper left', bbox_to_anchor=(1, 1))\n",
    "\n",
    "plt.tight_layout()\n",
    "plt.show()"
   ]
  },
  {
   "cell_type": "code",
   "execution_count": 32,
   "metadata": {
    "id": "QoLqW1S_0q1J"
   },
   "outputs": [
    {
     "data": {
      "image/png": "[encoded data removed]",
      "text/plain": [
       "<Figure size 720x432 with 1 Axes>"
      ]
     },
     "metadata": {
      "needs_background": "light"
     },
     "output_type": "display_data"
    }
   ],
   "source": [
    "# Compara el número de minutos mensuales que necesitan los usuarios de cada plan. Traza un histograma.\n",
    "\n",
    "# Se filtra primero los datos de cada plan y los minutos utilizados\n",
    "minutos_surf = merged_data.loc[merged_data['plan'] == 'surf', 'minutos_utilizados']\n",
    "minutos_ultimate = merged_data.loc[merged_data['plan'] == 'ultimate', 'minutos_utilizados']\n",
    "\n",
    "plt.figure(figsize=(10, 6))\n",
    "# Se traza el histograma para los minutos utilizados por el plan Surf\n",
    "plt.hist(minutos_surf, bins=30, alpha=0.7, label='Surf', color='aqua')\n",
    "\n",
    "# Se traza el histograma para los minutos utilizados por el plan Ultimate\n",
    "plt.hist(minutos_ultimate, bins=30, alpha=0.7, label='Ultimate', color='violet')\n",
    "\n",
    "# Datos del grafico\n",
    "plt.title('Número de Minutos Mensuales Utilizados por Plan')\n",
    "plt.xlabel('Minutos Utilizados')\n",
    "plt.ylabel('Frecuencia')\n",
    "plt.legend()\n",
    "\n",
    "plt.grid(True)\n",
    "plt.tight_layout()\n",
    "plt.show()"
   ]
  },
  {
   "cell_type": "markdown",
   "metadata": {
    "id": "bLS9T8OH0q1K"
   },
   "source": [
    "[Calcula la media y la variable de la duración de las llamadas para averiguar si los usuarios de los distintos planes se comportan de forma diferente al realizar sus llamadas.]"
   ]
  },
  {
   "cell_type": "code",
   "execution_count": 33,
   "metadata": {
    "id": "oSndbAnt0q1K"
   },
   "outputs": [
    {
     "name": "stdout",
     "output_type": "stream",
     "text": [
      "Media de la duración mensual de llamadas: 77429.18833333334\n",
      "Varianza de la duración mensual de llamadas: 4600227296.029725\n"
     ]
    }
   ],
   "source": [
    "# Calcula la media y la varianza de la duración mensual de llamadas.\n",
    "# Duracion de total de llamadas por mes \n",
    "duracion_llamadas_por_mes = merged_data.groupby(merged_data['month'])['minutos_utilizados'].sum()\n",
    "\n",
    "# Calcula la media de la duración mensual de llamadas\n",
    "media_duracion_llamadas = duracion_llamadas_por_mes.mean()\n",
    "\n",
    "# Calcula la varianza de la duración mensual de llamadas\n",
    "varianza_duracion_llamadas = duracion_llamadas_por_mes.var()\n",
    "\n",
    "print(\"Media de la duración mensual de llamadas:\", media_duracion_llamadas)\n",
    "print(\"Varianza de la duración mensual de llamadas:\", varianza_duracion_llamadas)"
   ]
  },
  {
   "cell_type": "code",
   "execution_count": 34,
   "metadata": {
    "id": "nZzoRUKc0q1K"
   },
   "outputs": [
    {
     "data": {
      "image/png": "[encoded data removed]",
      "text/plain": [
       "<Figure size 720x432 with 1 Axes>"
      ]
     },
     "metadata": {
      "needs_background": "light"
     },
     "output_type": "display_data"
    }
   ],
   "source": [
    "# Traza un diagrama de caja para visualizar la distribución de la duración mensual de llamadas\n",
    "# Se agrupan los datos por mes y se extrae la duracion de la llamadas por mes\n",
    "duracion_llamadas_por_mes = merged_data.groupby(merged_data['month'])['minutos_utilizados'].sum()\n",
    "\n",
    "# Configuracion del diagrama de caja\n",
    "plt.figure(figsize=(10, 6))\n",
    "plt.boxplot(duracion_llamadas_por_mes.values)\n",
    "\n",
    "plt.title('Distribución de la Duración Mensual de Llamadas')\n",
    "plt.xlabel('Mes')\n",
    "plt.ylabel('Duración de Llamadas')\n",
    "plt.grid(True)\n",
    "\n",
    "plt.show()"
   ]
  },
  {
   "cell_type": "markdown",
   "metadata": {
    "id": "r627zBO50q1K"
   },
   "source": [
    "[Elabora las conclusiones sobre el comportamiento de los usuarios con respecto a las llamadas. ¿Su comportamiento varía en función del plan?]\n",
    "\n",
    "Con base en la información adquirida de los gráficos anteriores, el comportamiento de los usuarios con respecto a las llamadas sí varía en función del plan que manejan. Los usuarios del plan surf están utilizando más minutos en promedio que los del plan ultimate, esta información podría ser útil para revisar las características y limitaciones de cada plan para comprender la razón por la que los usuarios del plan surf podrían estar utilizando más minutos. \n",
    "Se podría ofrecer un número limitado de minutos pero a un precio más bajo, lo que podría motivar a los usuarios a hacer un uso más intensivo de las llamadas. Además de el diagrama de cajan puede ayudar a revelar si es que hay diferencias en la dispersión de los datos y la presencia de valores atípicos entre los usuarios de los diferentes planes."
   ]
  },
  {
   "cell_type": "markdown",
   "metadata": {
    "id": "8idKy8Wh0q1L"
   },
   "source": [
    "### Mensajes"
   ]
  },
  {
   "cell_type": "code",
   "execution_count": 35,
   "metadata": {
    "id": "NXLxiTit0q1L"
   },
   "outputs": [
    {
     "data": {
      "image/png": "[encoded data removed]",
      "text/plain": [
       "<Figure size 720x432 with 1 Axes>"
      ]
     },
     "metadata": {
      "needs_background": "light"
     },
     "output_type": "display_data"
    }
   ],
   "source": [
    "# Comprara el número de mensajes que tienden a enviar cada mes los usuarios de cada plan\n",
    "mensajes_por_mes_y_plan = merged_data.groupby(['month', 'plan'])['numero_de_mensajes'].sum().unstack()\n",
    "\n",
    "# Configuracion de grafico\n",
    "fig, ax = plt.subplots(figsize=(10, 6))\n",
    "\n",
    "# Eje x se separa por los meses del año y para cada mes se agrega la info correspondiente de ambos planes\n",
    "for month in mensajes_por_mes_y_plan.index:\n",
    "    ax.bar(month - 0.2, mensajes_por_mes_y_plan.loc[month, 'surf'], width=0.4, align='center', label='Surf', color='lightblue')\n",
    "    ax.bar(month + 0.2, mensajes_por_mes_y_plan.loc[month, 'ultimate'], width=0.4, align='center', label='Ultimate', color='lightgreen')\n",
    "\n",
    "# Datos del grafico\n",
    "ax.set_title('Número de Mensajes por Mes y Plan')\n",
    "ax.set_xlabel('Mes')\n",
    "ax.set_ylabel('Número de Mensajes')\n",
    "ax.set_xticks(range(1, 13))\n",
    "ax.set_xticklabels(['Enero', 'Febrero', 'Marzo', 'Abril', 'Mayo', 'Junio', 'Julio', 'Agosto', 'Septiembre', 'Octubre', 'Noviembre', 'Diciembre'], rotation=45)\n",
    "ax.legend(['Surf', 'Ultimate'], loc='upper left', bbox_to_anchor=(1, 1))\n",
    "\n",
    "plt.tight_layout()\n",
    "plt.show()"
   ]
  },
  {
   "cell_type": "code",
   "execution_count": 36,
   "metadata": {
    "id": "GRI_R7xF0q1L"
   },
   "outputs": [
    {
     "name": "stdout",
     "output_type": "stream",
     "text": [
      "Media de los mensajes mandados mensualmente: 6337.583333333333\n",
      "Varianza de la duración mensual de llamadas: 38186593.53787879\n"
     ]
    }
   ],
   "source": [
    "# EXTRA: Calcula la media y la varianza del numero de mensajes mandados mensualmente\n",
    "# Numero de mensajes total por mes \n",
    "numero_de_mensajes_por_mes = merged_data.groupby(merged_data['month'])['numero_de_mensajes'].sum()\n",
    "\n",
    "# Calcula la media de los mensajes mandados\n",
    "media_mensajes = numero_de_mensajes_por_mes.mean()\n",
    "\n",
    "# Calcula la varianza de la duración mensual de llamadas\n",
    "varianza_mensajes = numero_de_mensajes_por_mes.var()\n",
    "\n",
    "print(\"Media de los mensajes mandados mensualmente:\", media_mensajes)\n",
    "print(\"Varianza de la duración mensual de llamadas:\", varianza_mensajes)"
   ]
  },
  {
   "cell_type": "code",
   "execution_count": 37,
   "metadata": {
    "id": "dtFwCGAp0q1M"
   },
   "outputs": [
    {
     "data": {
      "image/png": "[encoded data removed]",
      "text/plain": [
       "<Figure size 720x432 with 1 Axes>"
      ]
     },
     "metadata": {
      "needs_background": "light"
     },
     "output_type": "display_data"
    }
   ],
   "source": [
    "# EXTRA: Traza un diagrama de caja para visualizar la distribución de la cantidad de mensajes mandados mensualmente\n",
    "# Se agrupan los datos por mes y se extrae la duracion de la llamadas por mes\n",
    "numero_de_mensajes_por_mes = merged_data.groupby(merged_data['month'])['numero_de_mensajes'].sum()\n",
    "\n",
    "# Configuracion del diagrama de caja\n",
    "plt.figure(figsize=(10, 6))\n",
    "plt.boxplot(duracion_llamadas_por_mes.values)\n",
    "\n",
    "plt.title('Distribución de los Mensajes mandados Mensualmente')\n",
    "plt.xlabel('Mes')\n",
    "plt.ylabel('Cantidad de Mensajes')\n",
    "plt.grid(True)\n",
    "\n",
    "plt.show()"
   ]
  },
  {
   "cell_type": "markdown",
   "metadata": {
    "id": "390SSL480q1M"
   },
   "source": [
    "[Elabora las conclusiones sobre el comportamiento de los usuarios con respecto a los mensajes. ¿Su comportamiento varía en función del plan?]\n",
    "\n",
    "Igualmente, como pasaba en el caso de las llamadas, se observa que hay mayor cantidad de mensajes enviados por parte de los usuarios que tienen el plan surf que los de ultimate a pesar de que el precio por mensaje es menor. Además de que la cantidad de mensajes es mucho mayor a finales del año suponiendo que hay mayor comunicación entre las personas por celebraciones navideñas y de año nuevo. Se pueden implementar estrategias con los clientes del plan ultimate para motivarlos a usar más este servicio de tal forma que la media incremente en el número de mensajes mandados. "
   ]
  },
  {
   "cell_type": "markdown",
   "metadata": {
    "id": "42YSypXz0q1M"
   },
   "source": [
    "### Internet"
   ]
  },
  {
   "cell_type": "code",
   "execution_count": 38,
   "metadata": {
    "id": "lSuKPtjh0q1M"
   },
   "outputs": [
    {
     "data": {
      "image/png": "[encoded data removed]",
      "text/plain": [
       "<Figure size 720x432 with 1 Axes>"
      ]
     },
     "metadata": {
      "needs_background": "light"
     },
     "output_type": "display_data"
    }
   ],
   "source": [
    "# Compara la cantidad de tráfico de Internet consumido por usuarios por plan\n",
    "trafico_internet_por_mes_y_plan = merged_data.groupby(['month', 'plan'])['volumen_de_internet'].sum().unstack()\n",
    "\n",
    "# Configuracion de grafico\n",
    "fig, ax = plt.subplots(figsize=(10, 6))\n",
    "\n",
    "# Eje x se separa por los meses del año y para cada mes se agrega la info correspondiente de ambos planes\n",
    "for month in trafico_internet_por_mes_y_plan.index:\n",
    "    ax.bar(month - 0.2, trafico_internet_por_mes_y_plan.loc[month, 'surf'], width=0.4, align='center', label='Surf', color='aqua')\n",
    "    ax.bar(month + 0.2, trafico_internet_por_mes_y_plan.loc[month, 'ultimate'], width=0.4, align='center', label='Ultimate', color='violet')\n",
    "\n",
    "# Datos del grafico\n",
    "ax.set_title('Cantidad de Tráfico de Internet por Mes y Plan')\n",
    "ax.set_xlabel('Mes')\n",
    "ax.set_ylabel('Volumen de Internet (MB)')\n",
    "ax.set_xticks(range(1, 13))\n",
    "ax.set_xticklabels(['Enero', 'Febrero', 'Marzo', 'Abril', 'Mayo', 'Junio', 'Julio', 'Agosto', 'Septiembre', 'Octubre', 'Noviembre', 'Diciembre'], rotation=45)\n",
    "ax.legend(['Surf', 'Ultimate'], loc='upper left', bbox_to_anchor=(1, 1))\n",
    "\n",
    "plt.tight_layout()\n",
    "plt.show()"
   ]
  },
  {
   "cell_type": "code",
   "execution_count": 39,
   "metadata": {
    "id": "wnh8jYXi0q1N"
   },
   "outputs": [
    {
     "name": "stdout",
     "output_type": "stream",
     "text": [
      "Media del tráfico de Internet mensual: 3128.31735921224\n",
      "Varianza del tráfico de Internet mensual: 7508764.469331763\n"
     ]
    }
   ],
   "source": [
    "# EXTRA: Calcula la media y la varianza del la cantidad de tráfico de Internet mensual\n",
    "trafico_internet_mensual = merged_data.groupby('month')['volumen_de_internet'].sum()\n",
    "\n",
    "# Se calcula la media y la varianza del trafico de Internet mensual\n",
    "media_trafico_mensual = trafico_internet_mensual.mean()\n",
    "varianza_trafico_mensual = trafico_internet_mensual.var()\n",
    "\n",
    "print(\"Media del tráfico de Internet mensual:\", media_trafico_mensual)\n",
    "print(\"Varianza del tráfico de Internet mensual:\", varianza_trafico_mensual)"
   ]
  },
  {
   "cell_type": "code",
   "execution_count": 40,
   "metadata": {
    "id": "5VlyJ9ry0q1N"
   },
   "outputs": [
    {
     "data": {
      "image/png": "[encoded data removed]",
      "text/plain": [
       "<Figure size 720x432 with 1 Axes>"
      ]
     },
     "metadata": {
      "needs_background": "light"
     },
     "output_type": "display_data"
    }
   ],
   "source": [
    "# EXTRA: Traza un diagrama de caja para visualizar el tráfico de Internet mensual\n",
    "# Crear un diagrama de caja\n",
    "plt.figure(figsize=(10, 6))\n",
    "trafico_internet_mensual.plot(kind='box')\n",
    "plt.title('Distribución del Tráfico de Internet Mensual')\n",
    "plt.xlabel('Mes')\n",
    "plt.ylabel('Volumen de Internet (MB)')\n",
    "plt.grid(True)\n",
    "plt.show()"
   ]
  },
  {
   "cell_type": "markdown",
   "metadata": {
    "id": "UN9zwuMP0q1N"
   },
   "source": [
    "[Elabora las conclusiones sobre cómo los usuarios tienden a consumir el tráfico de Internet. ¿Su comportamiento varía en función del plan?]\n",
    "\n",
    "De acuerdo con el diagrama de caja, el intervalo en el que se encuentra la media está entre los 2 a 4 a la 1e6 MB y observando lo que incluye el plan surf no es suficiente por lo que se puede hacer una modificación en este plan obviamente también incrementando el precio para llegar a este límite inferior y así los usuarios cuenten con mayor cantidad de MB para usar en Internet."
   ]
  },
  {
   "cell_type": "markdown",
   "metadata": {},
   "source": [
    "<div class=\"alert alert-block alert-success\">\n",
    "<b>Comentario revisor</b> <a class=\"tocSkip\"></a>\n",
    "\n",
    " Muy buena prática la de usar distintos tipos de gráficas identificar algunos hallazgos y llegar a conclusiones\n",
    "</div>"
   ]
  },
  {
   "cell_type": "markdown",
   "metadata": {
    "id": "tCijq3260q1N"
   },
   "source": [
    "## Ingreso"
   ]
  },
  {
   "cell_type": "markdown",
   "metadata": {
    "id": "9nq5IAcy0q1O"
   },
   "source": [
    "[Del mismo modo que has estudiado el comportamiento de los usuarios, describe estadísticamente los ingresos de los planes.]"
   ]
  },
  {
   "cell_type": "markdown",
   "metadata": {},
   "source": [
    "<div class=\"alert alert-block alert-warning\">\n",
    "\n",
    "<b>Comentario revisor</b> <a class=\"tocSkip\"></a>\n",
    "\n",
    "Cuando hacemos análisis de datos, es muy buena prática eliminar valores atipicos que puedan sesgar nuestros resultados. En este caso elaminar estos valores puedes ser útiles para tener una mejor respuesta de las pruebas de hipóstesis sobre si son iguales o diferentes los ingresos promedios de los usuarios de ambos planes y de los ingresos promedio de los usuarios del área NY-NJ.\n",
    "\n",
    "</div>"
   ]
  },
  {
   "cell_type": "code",
   "execution_count": 41,
   "metadata": {
    "id": "tz-dq_V00q1O"
   },
   "outputs": [
    {
     "data": {
      "image/png": "[encoded data removed]",
      "text/plain": [
       "<Figure size 720x432 with 1 Axes>"
      ]
     },
     "metadata": {
      "needs_background": "light"
     },
     "output_type": "display_data"
    }
   ],
   "source": [
    "# Compara los ingresos que ha tenido cada plan \n",
    "ingresos_por_plan = merged_data.groupby('plan')['ingresos_mensuales'].sum()\n",
    "\n",
    "# Grafico de barras para comparar los ingresos por plan\n",
    "plt.figure(figsize=(10, 6))\n",
    "ingresos_por_plan.plot(kind='bar', color=['lightblue', 'lightgreen'])\n",
    "plt.title('Ingresos Totales por Plan')\n",
    "plt.xlabel('Plan')\n",
    "plt.ylabel('Ingresos Totales ($)')\n",
    "plt.xticks(rotation=0)\n",
    "plt.grid(axis='y')\n",
    "plt.show()"
   ]
  },
  {
   "cell_type": "code",
   "execution_count": 42,
   "metadata": {
    "id": "0Y1v8ZUz0q1P"
   },
   "outputs": [
    {
     "name": "stdout",
     "output_type": "stream",
     "text": [
      "Media de los Ingresos Mensuales: 11837.224973502607\n",
      "Varianza de los Ingresos Mensuales: 109007667.58193332\n"
     ]
    }
   ],
   "source": [
    "# Calcula la media y la varianza los ingresos mensuales\n",
    "total_ingreso_mensual = merged_data.groupby('month')['ingresos_mensuales'].sum()\n",
    "\n",
    "# Se calcula la media y la varianza del trafico de Internet mensual\n",
    "media_ingreso_mensual = total_ingreso_mensual.mean()\n",
    "varianza_ingreso_mensual = total_ingreso_mensual.var()\n",
    "\n",
    "print(\"Media de los Ingresos Mensuales:\", media_ingreso_mensual)\n",
    "print(\"Varianza de los Ingresos Mensuales:\", varianza_ingreso_mensual)"
   ]
  },
  {
   "cell_type": "code",
   "execution_count": 43,
   "metadata": {
    "id": "bYmwxyVh0q1P"
   },
   "outputs": [
    {
     "data": {
      "image/png": "[encoded data removed]",
      "text/plain": [
       "<Figure size 720x432 with 1 Axes>"
      ]
     },
     "metadata": {
      "needs_background": "light"
     },
     "output_type": "display_data"
    }
   ],
   "source": [
    "# Traza un diagrama de caja para visualizar el tráfico de Internet mensual\n",
    "# Crear un diagrama de caja\n",
    "plt.figure(figsize=(10, 6))\n",
    "total_ingreso_mensual.plot(kind='box')\n",
    "plt.title('Distribución de los Ingresos Mensuales')\n",
    "plt.xlabel('Mes')\n",
    "plt.ylabel('Ingresos Mensuales')\n",
    "plt.grid(True)\n",
    "plt.show()"
   ]
  },
  {
   "cell_type": "markdown",
   "metadata": {
    "id": "KAFidcXZ0q1P"
   },
   "source": [
    "[Elabora las conclusiones sobre cómo difiere el ingreso entre los planes.]\n",
    "\n",
    "Aunque haya más cantidad de usuarios en el plan surf, se puede observar que el plan que se tiene más ingresos es el ultimate. Con base en la información anterior, se podrían implementar estrategias para equiparar o inclusive superar los ingresos del plan ultimate con el surf proponiendo un rango de minutos más largo en las llamadas o precios más llamativos para los clientes ya que son la mayoría representada."
   ]
  },
  {
   "cell_type": "markdown",
   "metadata": {
    "id": "ajJ7VKeI0q1Q"
   },
   "source": [
    "## Prueba las hipótesis estadísticas"
   ]
  },
  {
   "cell_type": "markdown",
   "metadata": {
    "id": "AdXAZ-yL0q1Q"
   },
   "source": [
    "[Prueba la hipótesis de que son diferentes los ingresos promedio procedentes de los usuarios de los planes de llamada Ultimate y Surf.]"
   ]
  },
  {
   "cell_type": "markdown",
   "metadata": {
    "id": "IQwa_hsh0q1Q"
   },
   "source": [
    "[Elabora las hipótesis nula y alternativa, escoge la prueba estadística, determina el valor alfa.]"
   ]
  },
  {
   "cell_type": "code",
   "execution_count": 44,
   "metadata": {
    "id": "nFoPNlPq0q1R"
   },
   "outputs": [
    {
     "name": "stdout",
     "output_type": "stream",
     "text": [
      "Valor p: 4.881852673479799e-25\n",
      "Rechazar la hipótesis nula: Hay una diferencia significativa en los ingresos promedio.\n"
     ]
    }
   ],
   "source": [
    "# Prueba las hipótesis\n",
    "# Nula (H0): Los ingresos promedio de los usuarios de los planes de llamada ultimate y surf son iguales\n",
    "# Alternativa (H1): Los ingresos promedio de los usuarios de los planes de llamada Ultimate y Surf son diferentes.\n",
    "\n",
    "ingresos_surf = merged_data[merged_data['plan'] == 'surf']['ingresos_mensuales']\n",
    "ingresos_ultimate = merged_data[merged_data['plan'] == 'ultimate']['ingresos_mensuales']\n",
    "\n",
    "# Se realiza una prueba t de dos muestras independientes\n",
    "results = st.ttest_ind(ingresos_surf, ingresos_ultimate, equal_var=False)  # Agregar equal_var=False\n",
    "alfa = 0.05\n",
    "\n",
    "print(\"Valor p:\", results.pvalue)\n",
    "\n",
    "# Comparar el valor p con el valor alfa\n",
    "if results.pvalue < alfa:\n",
    "    print(\"Rechazar la hipótesis nula: Hay una diferencia significativa en los ingresos promedio.\")\n",
    "else:\n",
    "    print(\"No se puede rechazar la hipótesis nula: No hay suficiente evidencia para afirmar una diferencia significativa en los ingresos promedio.\")"
   ]
  },
  {
   "cell_type": "markdown",
   "metadata": {},
   "source": [
    "\n",
    "<div class=\"alert alert-block alert-danger\">\n",
    "<b>Comentario Revisor</b> <a class=\"tocSkip\"></a>\n",
    "\n",
    "Te recomiendo que dentro de la función de stats.ttest_ind adiciones el elemento \"equal_var = False\" dado que para estos datos no podemos asegurar que las varianzas son iguales entre planes.\n",
    "</div>"
   ]
  },
  {
   "cell_type": "markdown",
   "metadata": {
    "id": "tCcAruM60q1R"
   },
   "source": [
    "[Prueba la hipótesis de que el ingreso promedio de los usuarios del área NY-NJ es diferente al de los usuarios de otras regiones.]"
   ]
  },
  {
   "cell_type": "markdown",
   "metadata": {
    "id": "LsBgitqj0q1R"
   },
   "source": [
    "[Elabora las hipótesis nula y alternativa, escoge la prueba estadística, determina el valor alfa.]"
   ]
  },
  {
   "cell_type": "code",
   "execution_count": 45,
   "metadata": {
    "id": "Cqcj7wrZ0q1S"
   },
   "outputs": [
    {
     "name": "stdout",
     "output_type": "stream",
     "text": [
      "Valor p: 0.01860947297497195\n",
      "Rechazar la hipótesis nula: El ingreso promedio de los usuarios del área NY-NJ es diferente al de los usuarios de otras regiones.\n"
     ]
    }
   ],
   "source": [
    "# Prueba las hipótesis\n",
    "# Nula (H0): El ingreso promedio de los usuarios del área NY-NJ es igual al de los usuarios de otras regiones\n",
    "# Alternativa (H1): El ingreso promedio de los usuarios del área NY-NJ es diferente al de los usuarios de otras regiones\n",
    "\n",
    "# Se fusionan los datos y se renombra la columna city a region\n",
    "merged_data = pd.merge(merged_data, df_users[['user_id', 'city']], on='user_id', how='left')\n",
    "merged_data.rename(columns={'city': 'region'}, inplace=True)\n",
    "\n",
    "# Se limpian los datos (se eliminan las filas con regiones faltantes)\n",
    "merged_data.dropna(subset=['region'], inplace=True)\n",
    "\n",
    "# Eliminar filas duplicadas si es necesario\n",
    "merged_data.drop_duplicates(inplace=True)\n",
    "\n",
    "# Se obtienen los ingresos mensuales de los usuarios de la region de NY-NJ y de otras regiones\n",
    "ingresos_nynj = merged_data[merged_data['region'] == 'New York-Newark-Jersey City, NY-NJ-PA MSA']['ingresos_mensuales']\n",
    "ingresos_otras_regiones = merged_data[merged_data['region'] != 'New York-Newark-Jersey City, NY-NJ-PA MSA']['ingresos_mensuales']\n",
    "\n",
    "# Se realiza la prueba t de dos muestras independientes\n",
    "results = st.ttest_ind(ingresos_nynj, ingresos_otras_regiones, equal_var=False)\n",
    "\n",
    "alfa = 0.05\n",
    "print(\"Valor p:\", results.pvalue)\n",
    "\n",
    "if results.pvalue < alfa:\n",
    "    print(\"Rechazar la hipótesis nula: El ingreso promedio de los usuarios del área NY-NJ es diferente al de los usuarios de otras regiones.\")\n",
    "else:\n",
    "    print(\"No se puede rechazar la hipótesis nula: No hay suficiente evidencia para afirmar una diferencia significativa en los ingresos promedio.\")"
   ]
  },
  {
   "cell_type": "markdown",
   "metadata": {},
   "source": [
    "<div class=\"alert alert-block alert-danger\">\n",
    "<b>Comentario revisor</b> <a class=\"tocSkip\"></a>\n",
    "\n",
    "\n",
    "Te recomiendo verificar esta segunda prueba de hipótesis. Este resultado puede cambiar cuando hagamos los ajustes que te comento a lo largo del código. \n",
    "</div>"
   ]
  },
  {
   "cell_type": "markdown",
   "metadata": {
    "id": "bbTR8UQO0q1T"
   },
   "source": [
    "## Conclusión general\n",
    "\n",
    "[En esta sección final, enumera tus conclusiones importantes. Asegúrate de que estas abarquen todas las decisiones (suposiciones) importantes que adoptaste y que determinaron la forma elegida para procesar y analizar los datos.]"
   ]
  },
  {
   "cell_type": "code",
   "execution_count": 46,
   "metadata": {},
   "outputs": [],
   "source": [
    "#Durante el proceso de análisis entre los dos tipos de planes que ocupaban los usuarios, se observo que la tendencia es en utilizar el plan surf ya que cuenta con las características suficientes y económicas para satisfacer sus necesidades. Lo que se podría hacer en ambos planes es implementar cambios especialmente en la parte de los precios y MB para que sea más atractivo y aumentar los ingresos mensuales de ambos planes. "
   ]
  },
  {
   "cell_type": "code",
   "execution_count": null,
   "metadata": {},
   "outputs": [],
   "source": [
    "<div class=\"alert alert-block alert-warning\">\n",
    "<b>Comentario revisor</b> <a class=\"tocSkip\"></a>\n",
    "\n",
    "En general creo que hiciste un muy buen trabajo con el proyecto, pudiste limpiar y trabajar las bases de datos de beuna manera, así como juntar la información. Además, considero que el análisis con las gráficas y con las pruebas de hipótesis es muy acertado. No obstante, recuerda que siempre podemos mejorar y te menciono algunos puntos que debes considerar:\n",
    "\n",
    "* Realizar un análisis inicial de registros duplicados en todas las bases de datos  \n",
    "    \n",
    "*  verificar que redondeamos las variables antes de hacer la agrupación por usuario\n",
    "    \n",
    "*  verificar la segunda prueba de hipótesis\n",
    "</div>"
   ]
  },
  {
   "cell_type": "code",
   "execution_count": null,
   "metadata": {},
   "outputs": [],
   "source": []
  }
 ],
 "metadata": {
  "ExecuteTimeLog": [
   {
    "duration": 828,
    "start_time": "2021-11-16T09:21:11.304Z"
   },
   {
    "duration": 893,
    "start_time": "2021-11-16T09:21:17.728Z"
   },
   {
    "duration": 1150,
    "start_time": "2021-11-16T09:21:29.568Z"
   },
   {
    "duration": 3,
    "start_time": "2021-11-16T09:24:14.495Z"
   },
   {
    "duration": 120,
    "start_time": "2021-11-16T09:24:46.630Z"
   },
   {
    "duration": 3,
    "start_time": "2021-11-16T09:28:27.882Z"
   },
   {
    "duration": 4,
    "start_time": "2021-11-16T09:29:54.281Z"
   },
   {
    "duration": 3,
    "start_time": "2021-11-16T09:30:45.936Z"
   },
   {
    "duration": 4,
    "start_time": "2021-11-16T09:31:06.300Z"
   },
   {
    "duration": 113,
    "start_time": "2021-11-16T09:31:37.208Z"
   },
   {
    "duration": 143,
    "start_time": "2021-11-16T09:31:48.656Z"
   },
   {
    "duration": 98,
    "start_time": "2021-11-16T09:31:55.678Z"
   },
   {
    "duration": 3,
    "start_time": "2021-11-16T09:32:08.535Z"
   },
   {
    "duration": 111,
    "start_time": "2021-11-16T09:32:10.120Z"
   },
   {
    "duration": 3,
    "start_time": "2021-11-16T09:32:15.732Z"
   },
   {
    "duration": 4,
    "start_time": "2021-11-16T09:32:29.423Z"
   },
   {
    "duration": 3,
    "start_time": "2021-11-16T10:03:03.074Z"
   },
   {
    "duration": 3,
    "start_time": "2021-11-16T10:10:01.288Z"
   },
   {
    "duration": 3,
    "start_time": "2021-11-16T10:10:46.923Z"
   },
   {
    "duration": 121,
    "start_time": "2021-11-16T10:37:46.494Z"
   },
   {
    "duration": 125,
    "start_time": "2021-11-16T10:38:20.632Z"
   },
   {
    "duration": 112,
    "start_time": "2021-11-16T10:46:53.001Z"
   },
   {
    "duration": 110,
    "start_time": "2021-11-16T10:48:25.775Z"
   },
   {
    "duration": 3,
    "start_time": "2021-11-16T10:50:18.720Z"
   },
   {
    "duration": 4,
    "start_time": "2021-11-16T10:50:37.649Z"
   },
   {
    "duration": 2,
    "start_time": "2021-11-16T10:50:51.884Z"
   },
   {
    "duration": 3,
    "start_time": "2021-11-16T10:51:56.237Z"
   },
   {
    "duration": 101,
    "start_time": "2021-11-16T10:53:13.791Z"
   },
   {
    "duration": 3,
    "start_time": "2021-11-16T10:55:59.186Z"
   },
   {
    "duration": 3,
    "start_time": "2021-11-16T10:56:10.751Z"
   },
   {
    "duration": 3,
    "start_time": "2021-11-16T10:56:49.038Z"
   },
   {
    "duration": 3,
    "start_time": "2021-11-16T10:56:49.174Z"
   },
   {
    "duration": 4,
    "start_time": "2021-11-16T10:56:49.414Z"
   },
   {
    "duration": 3,
    "start_time": "2021-11-16T10:56:49.680Z"
   },
   {
    "duration": 3,
    "start_time": "2021-11-16T10:56:50.370Z"
   },
   {
    "duration": 114,
    "start_time": "2021-11-16T10:59:34.518Z"
   },
   {
    "duration": 3,
    "start_time": "2021-11-16T11:01:41.201Z"
   },
   {
    "duration": 116,
    "start_time": "2021-11-16T11:01:48.754Z"
   },
   {
    "duration": 3,
    "start_time": "2021-11-16T11:02:16.685Z"
   },
   {
    "duration": 3,
    "start_time": "2021-11-16T11:02:19.479Z"
   },
   {
    "duration": 3,
    "start_time": "2021-11-16T11:02:47.067Z"
   },
   {
    "duration": 3,
    "start_time": "2021-11-16T11:02:49.353Z"
   },
   {
    "duration": 3,
    "start_time": "2021-11-16T11:03:07.835Z"
   },
   {
    "duration": 3,
    "start_time": "2021-11-16T11:03:07.953Z"
   },
   {
    "duration": 112,
    "start_time": "2021-11-16T11:07:52.072Z"
   },
   {
    "duration": 187,
    "start_time": "2021-11-16T11:09:23.468Z"
   },
   {
    "duration": 4,
    "start_time": "2021-11-16T11:10:01.455Z"
   },
   {
    "duration": 3,
    "start_time": "2021-11-16T11:10:05.069Z"
   },
   {
    "duration": 4,
    "start_time": "2021-11-16T11:10:13.376Z"
   },
   {
    "duration": 3,
    "start_time": "2021-11-16T11:10:14.434Z"
   },
   {
    "duration": 3,
    "start_time": "2021-11-16T11:10:22.853Z"
   },
   {
    "duration": 4,
    "start_time": "2021-11-16T11:27:29.279Z"
   },
   {
    "duration": 4,
    "start_time": "2021-11-16T11:29:08.919Z"
   },
   {
    "duration": 118,
    "start_time": "2021-11-16T11:29:46.703Z"
   },
   {
    "duration": 437,
    "start_time": "2021-11-16T11:36:02.181Z"
   },
   {
    "duration": 157,
    "start_time": "2021-11-16T11:36:14.388Z"
   },
   {
    "duration": 207,
    "start_time": "2021-11-16T11:47:15.898Z"
   },
   {
    "duration": 3,
    "start_time": "2021-11-16T11:53:52.092Z"
   },
   {
    "duration": 3,
    "start_time": "2021-11-16T11:53:52.236Z"
   },
   {
    "duration": 3,
    "start_time": "2021-11-16T11:59:12.005Z"
   },
   {
    "duration": 112,
    "start_time": "2021-11-16T12:00:33.446Z"
   },
   {
    "duration": 3,
    "start_time": "2021-11-16T12:02:14.453Z"
   },
   {
    "duration": 3,
    "start_time": "2021-11-16T12:02:39.512Z"
   },
   {
    "duration": 106,
    "start_time": "2021-11-16T12:03:03.460Z"
   },
   {
    "duration": 3,
    "start_time": "2021-11-17T20:37:21.139Z"
   },
   {
    "duration": 3,
    "start_time": "2021-11-17T20:37:22.229Z"
   },
   {
    "duration": 3,
    "start_time": "2021-11-17T20:38:38.806Z"
   },
   {
    "duration": 3,
    "start_time": "2021-11-17T20:38:41.958Z"
   },
   {
    "duration": 3,
    "start_time": "2021-11-17T20:43:46.551Z"
   },
   {
    "duration": 4,
    "start_time": "2021-11-17T20:58:21.835Z"
   },
   {
    "duration": 3,
    "start_time": "2021-11-17T20:59:21.872Z"
   },
   {
    "duration": 4,
    "start_time": "2021-11-17T20:59:45.352Z"
   },
   {
    "duration": 4,
    "start_time": "2021-11-17T20:59:49.646Z"
   },
   {
    "duration": 159,
    "start_time": "2021-11-17T21:02:26.949Z"
   },
   {
    "duration": 3,
    "start_time": "2021-11-17T21:03:53.461Z"
   },
   {
    "duration": 3,
    "start_time": "2021-11-17T21:03:53.694Z"
   },
   {
    "duration": 3,
    "start_time": "2021-11-17T21:05:28.145Z"
   },
   {
    "duration": 116,
    "start_time": "2021-11-17T21:05:57.787Z"
   },
   {
    "duration": 3,
    "start_time": "2021-11-17T21:06:37.993Z"
   },
   {
    "duration": 3,
    "start_time": "2021-11-17T21:06:38.261Z"
   },
   {
    "duration": 3,
    "start_time": "2021-11-17T21:11:54.358Z"
   },
   {
    "duration": 3,
    "start_time": "2021-11-17T21:12:43.846Z"
   },
   {
    "duration": 4,
    "start_time": "2021-11-17T21:13:08.773Z"
   },
   {
    "duration": 3,
    "start_time": "2021-11-17T21:14:44.441Z"
   },
   {
    "duration": 3,
    "start_time": "2021-11-17T21:15:42.059Z"
   },
   {
    "duration": 4,
    "start_time": "2021-11-17T21:15:51.995Z"
   },
   {
    "duration": 3,
    "start_time": "2021-11-17T21:15:53.923Z"
   },
   {
    "duration": 3,
    "start_time": "2021-11-17T21:15:55.282Z"
   },
   {
    "duration": 3,
    "start_time": "2021-11-17T21:16:28.492Z"
   },
   {
    "duration": 3,
    "start_time": "2021-11-17T21:16:32.603Z"
   },
   {
    "duration": 3,
    "start_time": "2021-11-17T21:17:06.941Z"
   },
   {
    "duration": 98,
    "start_time": "2021-11-17T21:18:05.733Z"
   },
   {
    "duration": 4,
    "start_time": "2021-11-17T21:21:35.255Z"
   },
   {
    "duration": 3,
    "start_time": "2021-11-17T21:21:37.804Z"
   },
   {
    "duration": 4,
    "start_time": "2021-11-17T21:23:06.071Z"
   },
   {
    "duration": 3,
    "start_time": "2021-11-17T21:23:24.799Z"
   },
   {
    "duration": 3,
    "start_time": "2021-11-17T21:23:32.591Z"
   },
   {
    "duration": 98,
    "start_time": "2021-11-17T21:28:31.559Z"
   },
   {
    "duration": 3,
    "start_time": "2021-11-17T21:28:45.448Z"
   },
   {
    "duration": 3,
    "start_time": "2021-11-17T21:29:17.303Z"
   },
   {
    "duration": 3,
    "start_time": "2021-11-17T21:29:29.617Z"
   },
   {
    "duration": 3,
    "start_time": "2021-11-17T21:29:32.681Z"
   },
   {
    "duration": 3,
    "start_time": "2021-11-17T21:36:11.474Z"
   },
   {
    "duration": 3,
    "start_time": "2021-11-17T21:36:14.791Z"
   },
   {
    "duration": 3,
    "start_time": "2021-11-17T21:36:53.943Z"
   },
   {
    "duration": 3,
    "start_time": "2021-11-17T21:36:56.165Z"
   },
   {
    "duration": 4,
    "start_time": "2021-11-17T21:37:16.590Z"
   },
   {
    "duration": 3,
    "start_time": "2021-11-17T21:37:22.702Z"
   },
   {
    "duration": 4,
    "start_time": "2021-11-17T21:38:03.479Z"
   },
   {
    "duration": 3,
    "start_time": "2021-11-17T21:38:08.601Z"
   },
   {
    "duration": 3,
    "start_time": "2021-11-17T21:38:12.928Z"
   },
   {
    "duration": 3,
    "start_time": "2021-11-17T21:38:48.896Z"
   },
   {
    "duration": 2,
    "start_time": "2021-11-17T21:38:49.171Z"
   },
   {
    "duration": 4,
    "start_time": "2021-11-17T21:39:57.889Z"
   },
   {
    "duration": 3,
    "start_time": "2021-11-17T21:39:58.057Z"
   },
   {
    "duration": 3,
    "start_time": "2021-11-17T21:41:20.108Z"
   },
   {
    "duration": 3,
    "start_time": "2021-11-17T21:41:20.629Z"
   },
   {
    "duration": 3,
    "start_time": "2021-11-17T21:42:49.136Z"
   },
   {
    "duration": 3,
    "start_time": "2021-11-17T21:43:15.137Z"
   },
   {
    "duration": 4,
    "start_time": "2021-11-17T21:43:16.766Z"
   },
   {
    "duration": 4,
    "start_time": "2021-11-17T21:43:31.711Z"
   },
   {
    "duration": 3,
    "start_time": "2021-11-17T21:43:36.312Z"
   },
   {
    "duration": 4,
    "start_time": "2021-11-17T21:45:08.825Z"
   },
   {
    "duration": 4,
    "start_time": "2021-11-17T21:45:10.119Z"
   },
   {
    "duration": 4,
    "start_time": "2021-11-17T21:45:13.748Z"
   },
   {
    "duration": 3,
    "start_time": "2021-11-17T21:45:22.219Z"
   },
   {
    "duration": 3,
    "start_time": "2021-11-17T21:45:33.412Z"
   },
   {
    "duration": 2,
    "start_time": "2021-11-17T21:46:01.885Z"
   },
   {
    "duration": 3,
    "start_time": "2021-11-17T21:46:03.628Z"
   },
   {
    "duration": 107,
    "start_time": "2021-11-17T21:47:32.512Z"
   },
   {
    "duration": 103,
    "start_time": "2021-11-17T21:50:36.243Z"
   },
   {
    "duration": 3,
    "start_time": "2021-11-18T06:28:31.440Z"
   },
   {
    "duration": 3,
    "start_time": "2021-11-18T06:29:00.168Z"
   },
   {
    "duration": 3,
    "start_time": "2021-11-18T06:31:27.008Z"
   },
   {
    "duration": 2,
    "start_time": "2021-11-18T06:35:34.288Z"
   },
   {
    "duration": 2,
    "start_time": "2021-11-18T06:38:04.527Z"
   }
  ],
  "colab": {
   "provenance": []
  },
  "kernelspec": {
   "display_name": "Python 3 (ipykernel)",
   "language": "python",
   "name": "python3"
  },
  "language_info": {
   "codemirror_mode": {
    "name": "ipython",
    "version": 3
   },
   "file_extension": ".py",
   "mimetype": "text/x-python",
   "name": "python",
   "nbconvert_exporter": "python",
   "pygments_lexer": "ipython3",
   "version": "3.9.5"
  },
  "toc": {
   "base_numbering": 1,
   "nav_menu": {},
   "number_sections": true,
   "sideBar": true,
   "skip_h1_title": false,
   "title_cell": "Table of Contents",
   "title_sidebar": "Contents",
   "toc_cell": false,
   "toc_position": {},
   "toc_section_display": true,
   "toc_window_display": true
  }
 },
 "nbformat": 4,
 "nbformat_minor": 1
}
