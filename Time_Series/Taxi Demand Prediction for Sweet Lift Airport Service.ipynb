{
 "cells": [
  {
   "cell_type": "markdown",
   "metadata": {},
   "source": [
    "¡ Hola Ilse! Como te va?\n",
    "\n",
    "\n",
    "\n",
    " Mi nombre es Facundo Lozano! Un gusto conocerte, seré tu revisor en este proyecto.\n",
    "\n",
    "\n",
    "\n",
    " A continuación un poco sobre la modalidad de revisión que usaremos:\n",
    "\n",
    "\n",
    "\n",
    " Cuando enccuentro un error por primera vez, simplemente lo señalaré, te dejaré encontrarlo y arreglarlo tú cuenta. Además, a lo largo del texto iré haciendo algunas observaciones sobre mejora en tu código y también haré comentarios sobre tus percepciones sobre el tema. Pero si aún no puedes realizar esta tarea, te daré una pista más precisa en la próxima iteración y también algunos ejemplos prácticos. Estaré abierto a comentarios y discusiones sobre el tema.\n",
    "\n",
    "\n",
    "\n",
    " Encontrará mis comentarios a continuación: **no los mueva, modifique ni elimine**.\n",
    "\n",
    "\n",
    "\n",
    " Puedes encontrar mis comentarios en cuadros verdes, amarillos o rojos como este:\n",
    "\n",
    "\n",
    "\n",
    " <div class=\"alert alert-block alert-success\">\n",
    "\n",
    " <b>Comentario del revisor.</b> <a class=\"tocSkip\"></a>\n",
    "\n",
    "\n",
    "\n",
    " Exito. Todo se ha hecho de forma exitosa.\n",
    "\n",
    " </div>\n",
    "\n",
    "\n",
    "\n",
    " <div class=\"alert alert-block alert-warning\">\n",
    "\n",
    " <b>Comentario del revisor.</b> <a class=\"tocSkip\"></a>\n",
    "\n",
    "\n",
    "\n",
    " Observación. Algunas recomendaciones.\n",
    "\n",
    " </div>\n",
    "\n",
    "\n",
    "\n",
    " <div class=\"alert alert-block alert-danger\">\n",
    "\n",
    "\n",
    "\n",
    " <b>Comentario del revisor.</b> <a class=\"tocSkip\"></a>\n",
    "\n",
    "\n",
    "\n",
    " Necesita arreglos. Este apartado necesita algunas correcciones. El trabajo no puede ser aceptado con comentarios rojos.\n",
    "\n",
    " </div>\n",
    "\n",
    "\n",
    "\n",
    " Puedes responder utilizando esto:\n",
    "\n",
    "\n",
    "\n",
    " <div class=\"alert alert-block alert-info\">\n",
    "\n",
    " <b>Respuesta de estudiante.</b> <a class=\"tocSkip\"></a>\n",
    "\n",
    " </div>"
   ]
  },
  {
   "cell_type": "markdown",
   "metadata": {},
   "source": [
    "<div class=\"alert alert-block alert-success\">\n",
    "<b>Review General. (Iteración 2) </b> <a class=\"tocSkip\"></a>\n",
    "\n",
    "Hola Ilse! Felicitaciones porque has corregido los detalles marcados en nuestra iteración anterior. Ahora si este proyecto está en total condiciones de ser aprobado, bien hecho!\n",
    "    \n",
    "Éxitos en tu camino dentro del mundo de los datos y saludos!"
   ]
  },
  {
   "cell_type": "markdown",
   "metadata": {},
   "source": [
    "<div class=\"alert alert-block alert-success\">\n",
    "<b>Review General. (Iteración 1) </b> <a class=\"tocSkip\"></a>\n",
    "    \n",
    "Ilse, quería tomarme este tiempo al inicio de tu proyecto para comentarte mis apreciaciones generales de esta iteración de tu entrega.\n",
    "\n",
    "Siempre me gusta comenzar dando la bienvenida al mundo de los datos a los estudiantes, te deseo lo mejor y espero que consigas lograr tus objetivos. Personalmente me gusta brindar el siguiente consejo, \"Está bien equivocarse, es normal y es lo mejor que te puede pasar. Aprendemos de los errores y eso te hará mejor programadora ya que podrás descubrir cosas a medida que avances y son estas cosas las que te darán esa experiencia para ser una gran cientifica de datos.\"\n",
    "    \n",
    "Ahora si yendo a esta notebook.  Felicitaciones Ilse, has hecho un gran trabajo a lo largo del proyecto, quiero destacar tu gran manejo tanto de python como de las herramientas ML para el modelado, solo hubo unos pequeños puntos importantes al proyecto que nos hemos olvidado pero que estoy seguro que podrás corregir para nuestra próxima iteración! :)\n",
    "    \n",
    "Éxitos y saludos Ilse, espero a nuestra próxima iteraicón!"
   ]
  },
  {
   "cell_type": "markdown",
   "metadata": {},
   "source": [
    "# Sprint 13 - Ilse Salinas\n",
    "\n",
    "# Descripción del proyecto\n",
    "\n",
    "La compañía Sweet Lift Taxi ha recopilado datos históricos sobre pedidos de taxis en los aeropuertos. Para atraer a más conductores durante las horas pico, necesitamos predecir la cantidad de pedidos de taxis para la próxima hora. Construye un modelo para dicha predicción.\n",
    "\n",
    "La métrica RECM en el conjunto de prueba no debe ser superior a 48.\n",
    "\n",
    "## Instrucciones del proyecto.\n",
    "\n",
    "1. Descarga los datos y haz el remuestreo por una hora.\n",
    "2. Analiza los datos\n",
    "3. Entrena diferentes modelos con diferentes hiperparámetros. La muestra de prueba debe ser el 10% del conjunto de datos inicial.4. Prueba los datos usando la muestra de prueba y proporciona una conclusión.\n",
    "\n",
    "## Descripción de los datos\n",
    "\n",
    "Los datos se almacenan en el archivo `taxi.csv`. \t\n",
    "El número de pedidos está en la columna `num_orders`."
   ]
  },
  {
   "cell_type": "markdown",
   "metadata": {},
   "source": [
    "## Preparación"
   ]
  },
  {
   "cell_type": "code",
   "execution_count": 1,
   "metadata": {},
   "outputs": [],
   "source": [
    "# importar librerias\n",
    "import pandas as pd\n",
    "import numpy as np\n",
    "import matplotlib.pyplot as plt\n",
    "from statsmodels.tsa.seasonal import seasonal_decompose\n",
    "from sklearn.model_selection import train_test_split\n",
    "from sklearn.ensemble import RandomForestRegressor\n",
    "from sklearn.metrics import mean_squared_error\n",
    "import xgboost as xgb"
   ]
  },
  {
   "cell_type": "code",
   "execution_count": 2,
   "metadata": {},
   "outputs": [
    {
     "name": "stdout",
     "output_type": "stream",
     "text": [
      "Informacion del dataframe: \n",
      "\n",
      "<class 'pandas.core.frame.DataFrame'>\n",
      "RangeIndex: 26496 entries, 0 to 26495\n",
      "Data columns (total 2 columns):\n",
      " #   Column      Non-Null Count  Dtype \n",
      "---  ------      --------------  ----- \n",
      " 0   datetime    26496 non-null  object\n",
      " 1   num_orders  26496 non-null  int64 \n",
      "dtypes: int64(1), object(1)\n",
      "memory usage: 414.1+ KB\n",
      "\n",
      "               datetime  num_orders\n",
      "0  2018-03-01 00:00:00           9\n",
      "1  2018-03-01 00:10:00          14\n",
      "2  2018-03-01 00:20:00          28\n",
      "3  2018-03-01 00:30:00          20\n",
      "4  2018-03-01 00:40:00          32\n"
     ]
    }
   ],
   "source": [
    "# leer los datos\n",
    "df = pd.read_csv('/datasets/taxi.csv')\n",
    "print('Informacion del dataframe: \\n')\n",
    "df.info()\n",
    "print('\\n',df.head())"
   ]
  },
  {
   "cell_type": "code",
   "execution_count": 3,
   "metadata": {},
   "outputs": [
    {
     "name": "stdout",
     "output_type": "stream",
     "text": [
      "Valores nulos por columna:\n",
      " datetime      0\n",
      "num_orders    0\n",
      "dtype: int64\n"
     ]
    }
   ],
   "source": [
    "# checar si hay valores nulos\n",
    "print('Valores nulos por columna:\\n', df.isnull().sum())"
   ]
  },
  {
   "cell_type": "code",
   "execution_count": 4,
   "metadata": {},
   "outputs": [
    {
     "name": "stdout",
     "output_type": "stream",
     "text": [
      "\n",
      "Tipo de dato de la columna datetime: datetime64[ns]\n"
     ]
    }
   ],
   "source": [
    "# cambiar tipo de dato de objeto a fecha\n",
    "df['datetime'] = pd.to_datetime(df['datetime'])\n",
    "print('\\nTipo de dato de la columna datetime:', df['datetime'].dtype)"
   ]
  },
  {
   "cell_type": "code",
   "execution_count": 5,
   "metadata": {},
   "outputs": [
    {
     "name": "stdout",
     "output_type": "stream",
     "text": [
      "Indice ha sido modificado, columna datetime es nuevo indice.\n",
      "\n",
      "\n",
      "Informacion del dataframe: \n",
      "\n",
      "<class 'pandas.core.frame.DataFrame'>\n",
      "DatetimeIndex: 26496 entries, 2018-03-01 00:00:00 to 2018-08-31 23:50:00\n",
      "Data columns (total 1 columns):\n",
      " #   Column      Non-Null Count  Dtype\n",
      "---  ------      --------------  -----\n",
      " 0   num_orders  26496 non-null  int64\n",
      "dtypes: int64(1)\n",
      "memory usage: 414.0 KB\n"
     ]
    }
   ],
   "source": [
    "# columna de fecha como indice\n",
    "df.set_index('datetime', inplace=True)\n",
    "print('Indice ha sido modificado, columna datetime es nuevo indice.\\n')\n",
    "print('\\nInformacion del dataframe: \\n')\n",
    "df.info()"
   ]
  },
  {
   "cell_type": "code",
   "execution_count": 6,
   "metadata": {},
   "outputs": [
    {
     "name": "stdout",
     "output_type": "stream",
     "text": [
      "Primeras cinco filas del dataframe: \n",
      "\n",
      "                     num_orders\n",
      "datetime                       \n",
      "2018-03-01 00:00:00           9\n",
      "2018-03-01 00:10:00          14\n",
      "2018-03-01 00:20:00          28\n",
      "2018-03-01 00:30:00          20\n",
      "2018-03-01 00:40:00          32\n"
     ]
    }
   ],
   "source": [
    "# imprimir muestra de dataframe\n",
    "print('Primeras cinco filas del dataframe: \\n')\n",
    "print(df.head())"
   ]
  },
  {
   "cell_type": "markdown",
   "metadata": {},
   "source": [
    "  <div class=\"alert alert-block alert-success\">\n",
    "\n",
    "\n",
    " <b>Comentario del revisor. (Iteración 1)</b> <a class=\"tocSkip\"></a>\n",
    "\n",
    "Hasta aquí excelente procedimiento de importanción de librerías manteniendolas por separado de nuestros datos, por otro lado excelente procedimiento de carga de datos. Sigamos!"
   ]
  },
  {
   "cell_type": "markdown",
   "metadata": {},
   "source": [
    "## Análisis"
   ]
  },
  {
   "cell_type": "code",
   "execution_count": 7,
   "metadata": {},
   "outputs": [
    {
     "name": "stdout",
     "output_type": "stream",
     "text": [
      "Primeras cinco filas del dataframe: \n",
      "\n",
      "                     num_orders\n",
      "datetime                       \n",
      "2018-03-01 00:00:00         124\n",
      "2018-03-01 01:00:00          85\n",
      "2018-03-01 02:00:00          71\n",
      "2018-03-01 03:00:00          66\n",
      "2018-03-01 04:00:00          43\n"
     ]
    }
   ],
   "source": [
    "# remuestrear de tal forma que cada punto de datos de los datos originales caigan dentro de intervalos de una hora\n",
    "# se suman los taxis pedidos por cada hora transcurrida\n",
    "df_hourly = df.resample('H').sum()\n",
    "print('Primeras cinco filas del dataframe: \\n')\n",
    "print(df_hourly.head())"
   ]
  },
  {
   "cell_type": "markdown",
   "metadata": {},
   "source": [
    "  <div class=\"alert alert-block alert-success\">\n",
    "\n",
    "\n",
    " <b>Comentario del revisor. (Iteración 1)</b> <a class=\"tocSkip\"></a>\n",
    "\n",
    "Bien hecho al resamplear nuestros datos mediante 1H!"
   ]
  },
  {
   "cell_type": "code",
   "execution_count": 8,
   "metadata": {},
   "outputs": [
    {
     "name": "stdout",
     "output_type": "stream",
     "text": [
      "                     num_orders  hour  day_of_week  month  diff\n",
      "datetime                                                       \n",
      "2018-06-20 14:00:00          73    14            2      6 -20.0\n",
      "2018-04-13 23:00:00         105    23            4      4  48.0\n",
      "2018-06-02 13:00:00          53    13            5      6  16.0\n"
     ]
    }
   ],
   "source": [
    "# incluir características que puedan ayudar al modelo a capturar patrones temporales y tendencias\n",
    "# caracteristicas del calendario\n",
    "df_hourly['hour'] = df_hourly.index.hour\n",
    "df_hourly['day_of_week'] = df_hourly.index.dayofweek\n",
    "df_hourly['month'] = df_hourly.index.month\n",
    "\n",
    "# calcular la diferencia para hacer la serie más estacionaria\n",
    "df_hourly['diff'] = df_hourly['num_orders'].diff()\n",
    "df_hourly['diff'] = df_hourly['num_orders'].diff().shift(-1)\n",
    "\n",
    "\n",
    "print(df_hourly.sample(3))"
   ]
  },
  {
   "cell_type": "markdown",
   "metadata": {},
   "source": [
    "<div class=\"alert alert-block alert-success\">\n",
    "\n",
    "\n",
    "<b>Comentario del revisor. (Iteración 1)</b> <a class=\"tocSkip\"></a>\n",
    "\n",
    "Perfecta creación de nuevas features derivadas del index como así los diferenciales, si quisieramos podríamos agregar más cantidad de días diferenciales!"
   ]
  },
  {
   "cell_type": "code",
   "execution_count": 9,
   "metadata": {},
   "outputs": [
    {
     "data": {
      "image/png": "[encoded data removed]",
      "text/plain": [
       "<Figure size 1200x600 with 1 Axes>"
      ]
     },
     "metadata": {},
     "output_type": "display_data"
    }
   ],
   "source": [
    "# suavizar grafica con la media movil \n",
    "# calcular la media movil simple con una ventana de 24 horas \n",
    "df_hourly['MMS_24h'] = df_hourly['num_orders'].rolling(window=24).mean()\n",
    "\n",
    "# graficar los datos originales y la media movil\n",
    "plt.figure(figsize=(12, 6))\n",
    "plt.plot(df_hourly['num_orders'], label='Datos Originales')\n",
    "plt.plot(df_hourly['MMS_24h'], label='Media Móvil Simple 24h', color='orange')\n",
    "plt.title('Número de Pedidos de Taxis por Hora')\n",
    "plt.xlabel('Fecha')\n",
    "plt.ylabel('Número de Taxis Pedidos')\n",
    "plt.legend()\n",
    "plt.show()"
   ]
  },
  {
   "cell_type": "markdown",
   "metadata": {},
   "source": [
    "  <div class=\"alert alert-block alert-success\">\n",
    "\n",
    "\n",
    " <b>Comentario del revisor. (Iteración 1)</b> <a class=\"tocSkip\"></a>\n",
    "\n",
    "Excelente visualización de los pedidos a lo largo del tiempo como así la media movil!"
   ]
  },
  {
   "cell_type": "markdown",
   "metadata": {},
   "source": [
    "En la grafica se puede observar la tendencia del aumento de pedido de taxis en loss meses de julio a agosto correspondiente ete periodo a las vacaciones de verano. De acuerdo con esta gráfica se puede observar que la serie temporal demostrada no es estacionaria porque el valor medio cambia. No obstante, si hacemos un análisis de año tras año, probable y muy seguramente se repetiría el mismo patrón haciéndolo estacionario."
   ]
  },
  {
   "cell_type": "code",
   "execution_count": 10,
   "metadata": {},
   "outputs": [],
   "source": [
    "# manejar filas con valores nulos \n",
    "df_hourly.dropna(inplace=True)"
   ]
  },
  {
   "cell_type": "code",
   "execution_count": 11,
   "metadata": {},
   "outputs": [],
   "source": [
    "# crear columna del target dentro del dataframe correspondiente a cantidad de pedidos para la proxima hora\n",
    "df_hourly['target'] = df_hourly['num_orders'].shift(-1)\n",
    "df_hourly.dropna(inplace=True)"
   ]
  },
  {
   "cell_type": "code",
   "execution_count": 12,
   "metadata": {},
   "outputs": [
    {
     "name": "stdout",
     "output_type": "stream",
     "text": [
      "                     num_orders  hour  day_of_week  month  diff    MMS_24h  \\\n",
      "datetime                                                                     \n",
      "2018-03-01 23:00:00          58    23            3      3  32.0  56.833333   \n",
      "2018-03-02 00:00:00          90     0            4      3  30.0  55.416667   \n",
      "2018-03-02 01:00:00         120     1            4      3 -45.0  56.875000   \n",
      "2018-03-02 02:00:00          75     2            4      3 -11.0  57.041667   \n",
      "2018-03-02 03:00:00          64     3            4      3 -44.0  56.958333   \n",
      "\n",
      "                     target  \n",
      "datetime                     \n",
      "2018-03-01 23:00:00    90.0  \n",
      "2018-03-02 00:00:00   120.0  \n",
      "2018-03-02 01:00:00    75.0  \n",
      "2018-03-02 02:00:00    64.0  \n",
      "2018-03-02 03:00:00    20.0  \n"
     ]
    }
   ],
   "source": [
    "# impresion del dataframe completo\n",
    "print(df_hourly.head())"
   ]
  },
  {
   "cell_type": "markdown",
   "metadata": {},
   "source": [
    "  <div class=\"alert alert-block alert-success\">\n",
    "\n",
    "\n",
    " <b>Comentario del revisor. (Iteración 1)</b> <a class=\"tocSkip\"></a>\n",
    "\n",
    "Previo a continuar Ilse deberíamos poder visualizar las diferentes gráficas provista por el seasonal_decompose, deberíamos poder ver tanto a partir de los métodos .trend, .resid y .seasonal\n",
    "    \n",
    "    Excelente agregado de lo solicitado Ilse!"
   ]
  },
  {
   "cell_type": "code",
   "execution_count": 13,
   "metadata": {},
   "outputs": [],
   "source": [
    "# aplicar seasonal_decompose\n",
    "decomposed = seasonal_decompose(df_hourly['num_orders'], model='additive', period=24)\n",
    "\n",
    "# acceder a las componentes\n",
    "trend = decomposed.trend\n",
    "seasonal = decomposed.seasonal\n",
    "residual = decomposed.resid"
   ]
  },
  {
   "cell_type": "code",
   "execution_count": 14,
   "metadata": {},
   "outputs": [
    {
     "data": {
      "image/png": "[encoded data removed]",
      "text/plain": [
       "<Figure size 1200x1000 with 4 Axes>"
      ]
     },
     "metadata": {},
     "output_type": "display_data"
    }
   ],
   "source": [
    "# graficar las componentes de la descomposicion estacional\n",
    "plt.figure(figsize=(12, 10))\n",
    "\n",
    "plt.subplot(411)\n",
    "plt.plot(df_hourly['num_orders'], label='Original')\n",
    "plt.legend(loc='upper left')\n",
    "\n",
    "plt.subplot(412)\n",
    "plt.plot(trend, label='Trend')\n",
    "plt.legend(loc='upper left')\n",
    "\n",
    "plt.subplot(413)\n",
    "plt.plot(seasonal, label='Seasonal')\n",
    "plt.legend(loc='upper left')\n",
    "\n",
    "plt.subplot(414)\n",
    "plt.plot(residual, label='Residual')\n",
    "plt.legend(loc='upper left')\n",
    "\n",
    "plt.tight_layout()\n",
    "plt.show()"
   ]
  },
  {
   "cell_type": "markdown",
   "metadata": {},
   "source": [
    "## Formación"
   ]
  },
  {
   "cell_type": "code",
   "execution_count": 15,
   "metadata": {},
   "outputs": [],
   "source": [
    "# definir caracteristicas y objetivo\n",
    "features_df_hourly = ['num_orders', 'MMS_24h', 'diff', 'hour', 'day_of_week', 'month']\n",
    "features = df_hourly[features_df_hourly]\n",
    "target = df_hourly['target']"
   ]
  },
  {
   "cell_type": "code",
   "execution_count": 16,
   "metadata": {},
   "outputs": [],
   "source": [
    "# dividir en conjunto de entrenamiento y prueba - 90% entrenamiento y 10% prueba\n",
    "features_train, features_test, target_train, target_test = train_test_split(features, target, test_size=0.1, shuffle=False)"
   ]
  },
  {
   "cell_type": "code",
   "execution_count": 17,
   "metadata": {},
   "outputs": [
    {
     "name": "stdout",
     "output_type": "stream",
     "text": [
      "Tamaño de features_train: (3951, 6)\n",
      "Tamaño de features_test: (440, 6)\n",
      "Tamaño de target_train: (3951,)\n",
      "Tamaño de target_test: (440,)\n",
      "\n",
      "\n"
     ]
    }
   ],
   "source": [
    "# verificar tamaño de caracteristicas y objetivos de entrenamiento y prueba\n",
    "print(\"Tamaño de features_train:\", features_train.shape)\n",
    "print(\"Tamaño de features_test:\", features_test.shape)\n",
    "print(\"Tamaño de target_train:\", target_train.shape)\n",
    "print(\"Tamaño de target_test:\", target_test.shape)\n",
    "print(\"\\n\")"
   ]
  },
  {
   "cell_type": "markdown",
   "metadata": {},
   "source": [
    "  <div class=\"alert alert-block alert-success\">\n",
    "\n",
    "\n",
    " <b>Comentario del revisor. (Iteración 1)</b> <a class=\"tocSkip\"></a>\n",
    "\n",
    "Excelente divisón de los datos mediante train_test_split! Sigamos así Ilse!"
   ]
  },
  {
   "cell_type": "markdown",
   "metadata": {},
   "source": [
    "### Modelo Bosque Aleatorio"
   ]
  },
  {
   "cell_type": "code",
   "execution_count": 18,
   "metadata": {},
   "outputs": [],
   "source": [
    "# rf_model = RandomForestRegressor(n_estimators=100, max_depth=10) - RMSE = 15.23\n",
    "# reducir numero de estimadores, desactivar bootstrap\n",
    "rf_model = RandomForestRegressor(n_estimators=5, max_depth=2, random_state=42, bootstrap=False)\n",
    "rf_model.fit(features_train, target_train)\n",
    "rf_pred = rf_model.predict(features_test)"
   ]
  },
  {
   "cell_type": "markdown",
   "metadata": {},
   "source": [
    "### Modelo XGBoost"
   ]
  },
  {
   "cell_type": "code",
   "execution_count": 19,
   "metadata": {},
   "outputs": [],
   "source": [
    "# xgb_model = xgb.XGBRegressor(n_estimators=100, learning_rate=0.1) - RMSE = 12.25\n",
    "# xgb_model.fit(features_train, target_train)\n",
    "\n",
    "# xgb_model = xgb.XGBRegressor(n_estimators=10, learning_rate=1.0, max_depth=1, random_state=42) - RMSE = 33.42\n",
    "\n",
    "xgb_model = xgb.XGBRegressor(\n",
    "    n_estimators=5,             # Reducir el número de estimadores\n",
    "    learning_rate=2.0,          # Aumentar la tasa de aprendizaje\n",
    "    max_depth=1,                # Reducir la profundidad máxima de los árboles\n",
    "    subsample=0.3,              # Reducir la proporción de muestras\n",
    "    colsample_bytree=0.3,       # Reducir la proporción de características\n",
    "    gamma=20,                   # Aumentar el parámetro gamma\n",
    "    reg_lambda=20,              # Aumentar la regularización L2\n",
    "    reg_alpha=20,               # Aumentar la regularización L1\n",
    "    min_child_weight=20,        # Aumentar min_child_weight\n",
    "    random_state=42\n",
    ")\n",
    "xgb_model.fit(features_train, target_train, eval_set=[(features_test, target_test)], early_stopping_rounds=5, verbose=False)\n",
    "xgb_pred = xgb_model.predict(features_test)"
   ]
  },
  {
   "cell_type": "markdown",
   "metadata": {},
   "source": [
    "  <div class=\"alert alert-block alert-success\">\n",
    "\n",
    "\n",
    " <b>Comentario del revisor. (Iteración 1)</b> <a class=\"tocSkip\"></a>\n",
    "\n",
    "Perfecto procedimiento de los modelos Ilse! PPor un lado hemos creado un modelo, las declaraciones, los uso de hiperparametros y el entrenamiento estan perfectamente implementados! Si quisieramos mejorarlo podríamos implementar lógicas de loops para observar como diferentes valores impactan en el modelo."
   ]
  },
  {
   "cell_type": "markdown",
   "metadata": {},
   "source": [
    "## Prueba"
   ]
  },
  {
   "cell_type": "code",
   "execution_count": 20,
   "metadata": {},
   "outputs": [
    {
     "name": "stdout",
     "output_type": "stream",
     "text": [
      "Random Forest RMSE: 64.13641480209311\n"
     ]
    }
   ],
   "source": [
    "# prueba recm en modelos superior a 48 - RECM = RMSE\n",
    "rf_rmse = mean_squared_error(target_test, rf_pred, squared=False)\n",
    "print(f'Random Forest RMSE: {rf_rmse}')"
   ]
  },
  {
   "cell_type": "code",
   "execution_count": 21,
   "metadata": {},
   "outputs": [
    {
     "name": "stdout",
     "output_type": "stream",
     "text": [
      "XGBoost RMSE: 59.33409169551525\n"
     ]
    }
   ],
   "source": [
    "xgb_rmse = mean_squared_error(target_test, xgb_pred, squared=False)\n",
    "print(f'XGBoost RMSE: {xgb_rmse}')"
   ]
  },
  {
   "cell_type": "markdown",
   "metadata": {},
   "source": [
    "  <div class=\"alert alert-block alert-success\">\n",
    "\n",
    "\n",
    " <b>Comentario del revisor. (Iteración 1)</b> <a class=\"tocSkip\"></a>\n",
    "\n",
    "Buenos resultados, excelnete elección de métrica acorde a nuestro problema!"
   ]
  },
  {
   "cell_type": "markdown",
   "metadata": {},
   "source": [
    "# Lista de revisión"
   ]
  },
  {
   "cell_type": "markdown",
   "metadata": {},
   "source": [
    "- [x]  \t\n",
    "Jupyter Notebook está abierto.\n",
    "- [ ]  El código no tiene errores\n",
    "- [ ]  Las celdas con el código han sido colocadas en el orden de ejecución.\n",
    "- [ ]  \t\n",
    "Los datos han sido descargados y preparados.\n",
    "- [ ]  Se ha realizado el paso 2: los datos han sido analizados\n",
    "- [ ]  Se entrenó el modelo y se seleccionaron los hiperparámetros\n",
    "- [ ]  Se han evaluado los modelos. Se expuso una conclusión\n",
    "- [ ] La *RECM* para el conjunto de prueba no es más de 48"
   ]
  }
 ],
 "metadata": {
  "ExecuteTimeLog": [
   {
    "duration": 489,
    "start_time": "2024-07-31T20:50:29.867Z"
   },
   {
    "duration": 52,
    "start_time": "2024-07-31T20:51:05.040Z"
   },
   {
    "duration": 8,
    "start_time": "2024-07-31T20:55:10.926Z"
   },
   {
    "duration": 422,
    "start_time": "2024-07-31T20:59:18.838Z"
   },
   {
    "duration": 37,
    "start_time": "2024-07-31T20:59:20.071Z"
   },
   {
    "duration": 8,
    "start_time": "2024-07-31T21:05:23.015Z"
   },
   {
    "duration": 5,
    "start_time": "2024-07-31T21:05:30.888Z"
   },
   {
    "duration": 17,
    "start_time": "2024-07-31T21:06:21.714Z"
   },
   {
    "duration": 446,
    "start_time": "2024-07-31T21:11:58.209Z"
   },
   {
    "duration": 39,
    "start_time": "2024-07-31T21:12:00.205Z"
   },
   {
    "duration": 9,
    "start_time": "2024-07-31T21:12:23.193Z"
   },
   {
    "duration": 341,
    "start_time": "2024-07-31T21:22:55.418Z"
   },
   {
    "duration": 40,
    "start_time": "2024-07-31T21:23:07.005Z"
   },
   {
    "duration": 452,
    "start_time": "2024-07-31T21:23:54.529Z"
   },
   {
    "duration": 38,
    "start_time": "2024-07-31T21:23:54.985Z"
   },
   {
    "duration": 8,
    "start_time": "2024-07-31T21:23:55.026Z"
   },
   {
    "duration": 62,
    "start_time": "2024-07-31T21:23:55.037Z"
   },
   {
    "duration": 1026,
    "start_time": "2024-07-31T21:27:46.922Z"
   },
   {
    "duration": 504,
    "start_time": "2024-07-31T21:30:08.381Z"
   },
   {
    "duration": 43,
    "start_time": "2024-07-31T21:30:09.713Z"
   },
   {
    "duration": 7,
    "start_time": "2024-07-31T21:30:25.526Z"
   },
   {
    "duration": 4301,
    "start_time": "2024-07-31T21:30:54.741Z"
   },
   {
    "duration": 411,
    "start_time": "2024-07-31T21:34:40.000Z"
   },
   {
    "duration": 716,
    "start_time": "2024-07-31T21:35:05.811Z"
   },
   {
    "duration": 103,
    "start_time": "2024-07-31T21:35:06.530Z"
   },
   {
    "duration": 10,
    "start_time": "2024-07-31T21:35:06.636Z"
   },
   {
    "duration": 460,
    "start_time": "2024-07-31T21:35:06.649Z"
   },
   {
    "duration": 434,
    "start_time": "2024-07-31T21:40:17.045Z"
   },
   {
    "duration": 387,
    "start_time": "2024-07-31T21:41:26.686Z"
   },
   {
    "duration": 688,
    "start_time": "2024-07-31T21:41:34.359Z"
   },
   {
    "duration": 99,
    "start_time": "2024-07-31T21:41:35.051Z"
   },
   {
    "duration": 9,
    "start_time": "2024-07-31T21:41:35.153Z"
   },
   {
    "duration": 419,
    "start_time": "2024-07-31T21:41:35.164Z"
   },
   {
    "duration": 423,
    "start_time": "2024-07-31T21:41:35.587Z"
   },
   {
    "duration": 478,
    "start_time": "2024-07-31T21:42:34.389Z"
   },
   {
    "duration": 456,
    "start_time": "2024-07-31T21:42:42.470Z"
   },
   {
    "duration": 422,
    "start_time": "2024-07-31T21:43:53.621Z"
   },
   {
    "duration": 663,
    "start_time": "2024-07-31T21:44:03.134Z"
   },
   {
    "duration": 97,
    "start_time": "2024-07-31T21:44:03.801Z"
   },
   {
    "duration": 9,
    "start_time": "2024-07-31T21:44:03.901Z"
   },
   {
    "duration": 421,
    "start_time": "2024-07-31T21:44:03.914Z"
   },
   {
    "duration": 448,
    "start_time": "2024-07-31T21:44:04.338Z"
   },
   {
    "duration": 675,
    "start_time": "2024-07-31T21:47:34.244Z"
   },
   {
    "duration": 115,
    "start_time": "2024-07-31T21:47:34.923Z"
   },
   {
    "duration": 8,
    "start_time": "2024-07-31T21:47:35.041Z"
   },
   {
    "duration": 451,
    "start_time": "2024-07-31T21:47:35.052Z"
   },
   {
    "duration": 429,
    "start_time": "2024-07-31T21:47:35.508Z"
   },
   {
    "duration": 729,
    "start_time": "2024-07-31T21:55:04.088Z"
   },
   {
    "duration": 98,
    "start_time": "2024-07-31T21:55:04.821Z"
   },
   {
    "duration": 8,
    "start_time": "2024-07-31T21:55:04.922Z"
   },
   {
    "duration": 11,
    "start_time": "2024-07-31T21:55:04.933Z"
   },
   {
    "duration": 509,
    "start_time": "2024-07-31T21:55:04.947Z"
   },
   {
    "duration": 1175,
    "start_time": "2024-07-31T21:57:26.015Z"
   },
   {
    "duration": 41,
    "start_time": "2024-07-31T21:57:27.194Z"
   },
   {
    "duration": 9,
    "start_time": "2024-07-31T21:57:27.238Z"
   },
   {
    "duration": 40,
    "start_time": "2024-07-31T21:57:27.250Z"
   },
   {
    "duration": 464,
    "start_time": "2024-07-31T21:57:27.295Z"
   },
   {
    "duration": 541,
    "start_time": "2024-07-31T22:01:33.405Z"
   },
   {
    "duration": 1205,
    "start_time": "2024-07-31T22:01:51.361Z"
   },
   {
    "duration": 55,
    "start_time": "2024-07-31T22:01:52.569Z"
   },
   {
    "duration": 9,
    "start_time": "2024-07-31T22:01:52.628Z"
   },
   {
    "duration": 13,
    "start_time": "2024-07-31T22:01:52.642Z"
   },
   {
    "duration": 504,
    "start_time": "2024-07-31T22:01:52.659Z"
   },
   {
    "duration": 532,
    "start_time": "2024-07-31T22:01:53.167Z"
   },
   {
    "duration": 0,
    "start_time": "2024-07-31T22:01:53.702Z"
   },
   {
    "duration": 0,
    "start_time": "2024-07-31T22:01:53.704Z"
   },
   {
    "duration": 48,
    "start_time": "2024-07-31T22:02:10.416Z"
   },
   {
    "duration": 4991,
    "start_time": "2024-08-01T16:38:15.340Z"
   },
   {
    "duration": 50,
    "start_time": "2024-08-01T16:38:20.335Z"
   },
   {
    "duration": 24,
    "start_time": "2024-08-01T16:38:20.388Z"
   },
   {
    "duration": 11,
    "start_time": "2024-08-01T16:38:20.415Z"
   },
   {
    "duration": 487,
    "start_time": "2024-08-01T16:38:20.430Z"
   },
   {
    "duration": 494,
    "start_time": "2024-08-01T16:38:20.920Z"
   },
   {
    "duration": 0,
    "start_time": "2024-08-01T16:38:21.417Z"
   },
   {
    "duration": 0,
    "start_time": "2024-08-01T16:38:21.419Z"
   },
   {
    "duration": 1151,
    "start_time": "2024-08-01T16:49:26.638Z"
   },
   {
    "duration": 43,
    "start_time": "2024-08-01T16:49:28.517Z"
   },
   {
    "duration": 12,
    "start_time": "2024-08-01T16:49:29.902Z"
   },
   {
    "duration": 11,
    "start_time": "2024-08-01T16:49:32.445Z"
   },
   {
    "duration": 7,
    "start_time": "2024-08-01T16:51:14.341Z"
   },
   {
    "duration": 1171,
    "start_time": "2024-08-01T16:55:53.724Z"
   },
   {
    "duration": 66,
    "start_time": "2024-08-01T16:55:58.406Z"
   },
   {
    "duration": 12,
    "start_time": "2024-08-01T16:56:25.604Z"
   },
   {
    "duration": 471,
    "start_time": "2024-08-01T16:56:27.558Z"
   },
   {
    "duration": 531,
    "start_time": "2024-08-01T16:56:33.999Z"
   },
   {
    "duration": 1263,
    "start_time": "2024-08-01T17:00:16.898Z"
   },
   {
    "duration": 91,
    "start_time": "2024-08-01T17:00:25.734Z"
   },
   {
    "duration": 12,
    "start_time": "2024-08-01T17:00:39.074Z"
   },
   {
    "duration": 472,
    "start_time": "2024-08-01T17:00:40.061Z"
   },
   {
    "duration": 580,
    "start_time": "2024-08-01T17:00:44.821Z"
   },
   {
    "duration": 1223,
    "start_time": "2024-08-01T17:02:05.225Z"
   },
   {
    "duration": 72,
    "start_time": "2024-08-01T17:02:07.294Z"
   },
   {
    "duration": 12,
    "start_time": "2024-08-01T17:02:32.680Z"
   },
   {
    "duration": 454,
    "start_time": "2024-08-01T17:02:34.872Z"
   },
   {
    "duration": 525,
    "start_time": "2024-08-01T17:02:39.365Z"
   },
   {
    "duration": 1202,
    "start_time": "2024-08-01T18:47:22.025Z"
   },
   {
    "duration": 836,
    "start_time": "2024-08-01T18:47:24.843Z"
   },
   {
    "duration": 48,
    "start_time": "2024-08-01T18:47:34.165Z"
   },
   {
    "duration": 39,
    "start_time": "2024-08-01T18:47:52.887Z"
   },
   {
    "duration": 43,
    "start_time": "2024-08-01T18:48:30.226Z"
   },
   {
    "duration": 42,
    "start_time": "2024-08-01T18:48:50.749Z"
   },
   {
    "duration": 42,
    "start_time": "2024-08-01T18:49:35.255Z"
   },
   {
    "duration": 41,
    "start_time": "2024-08-01T18:49:50.520Z"
   },
   {
    "duration": 45,
    "start_time": "2024-08-01T18:49:53.790Z"
   },
   {
    "duration": 67,
    "start_time": "2024-08-01T18:50:30.692Z"
   },
   {
    "duration": 67,
    "start_time": "2024-08-01T18:50:47.172Z"
   },
   {
    "duration": 51,
    "start_time": "2024-08-01T19:19:37.175Z"
   },
   {
    "duration": 46,
    "start_time": "2024-08-01T19:19:51.518Z"
   },
   {
    "duration": 46,
    "start_time": "2024-08-01T19:20:31.620Z"
   },
   {
    "duration": 43,
    "start_time": "2024-08-01T19:20:38.399Z"
   },
   {
    "duration": 50,
    "start_time": "2024-08-01T19:20:59.911Z"
   },
   {
    "duration": 1206,
    "start_time": "2024-08-01T19:21:49.889Z"
   },
   {
    "duration": 56,
    "start_time": "2024-08-01T19:21:51.739Z"
   },
   {
    "duration": 8,
    "start_time": "2024-08-01T19:21:55.946Z"
   },
   {
    "duration": 1180,
    "start_time": "2024-08-01T19:24:18.683Z"
   },
   {
    "duration": 54,
    "start_time": "2024-08-01T19:24:22.151Z"
   },
   {
    "duration": 8,
    "start_time": "2024-08-01T19:24:24.277Z"
   },
   {
    "duration": 11,
    "start_time": "2024-08-01T19:24:25.657Z"
   },
   {
    "duration": 428,
    "start_time": "2024-08-01T19:24:52.217Z"
   },
   {
    "duration": 772,
    "start_time": "2024-08-01T19:25:28.776Z"
   },
   {
    "duration": 1187,
    "start_time": "2024-08-01T19:26:28.122Z"
   },
   {
    "duration": 56,
    "start_time": "2024-08-01T19:26:29.313Z"
   },
   {
    "duration": 8,
    "start_time": "2024-08-01T19:26:32.681Z"
   },
   {
    "duration": 12,
    "start_time": "2024-08-01T19:26:33.507Z"
   },
   {
    "duration": 1619,
    "start_time": "2024-08-01T19:26:37.935Z"
   },
   {
    "duration": 500,
    "start_time": "2024-08-01T19:26:49.869Z"
   },
   {
    "duration": 770,
    "start_time": "2024-08-01T19:26:54.533Z"
   },
   {
    "duration": 1146,
    "start_time": "2024-08-01T19:29:25.346Z"
   },
   {
    "duration": 57,
    "start_time": "2024-08-01T19:29:26.496Z"
   },
   {
    "duration": 8,
    "start_time": "2024-08-01T19:29:26.556Z"
   },
   {
    "duration": 11,
    "start_time": "2024-08-01T19:29:26.567Z"
   },
   {
    "duration": 405,
    "start_time": "2024-08-01T19:29:26.612Z"
   },
   {
    "duration": 779,
    "start_time": "2024-08-01T19:29:27.021Z"
   },
   {
    "duration": 10,
    "start_time": "2024-08-01T19:29:27.803Z"
   },
   {
    "duration": 4,
    "start_time": "2024-08-01T19:29:27.818Z"
   },
   {
    "duration": 1184,
    "start_time": "2024-08-01T19:30:45.619Z"
   },
   {
    "duration": 55,
    "start_time": "2024-08-01T19:30:46.811Z"
   },
   {
    "duration": 8,
    "start_time": "2024-08-01T19:30:46.869Z"
   },
   {
    "duration": 37,
    "start_time": "2024-08-01T19:30:46.880Z"
   },
   {
    "duration": 396,
    "start_time": "2024-08-01T19:30:46.921Z"
   },
   {
    "duration": 779,
    "start_time": "2024-08-01T19:30:47.320Z"
   },
   {
    "duration": 4,
    "start_time": "2024-08-01T19:30:48.111Z"
   },
   {
    "duration": 3,
    "start_time": "2024-08-01T19:30:48.119Z"
   },
   {
    "duration": 1199,
    "start_time": "2024-08-01T19:32:31.597Z"
   },
   {
    "duration": 57,
    "start_time": "2024-08-01T19:32:32.800Z"
   },
   {
    "duration": 8,
    "start_time": "2024-08-01T19:32:32.860Z"
   },
   {
    "duration": 11,
    "start_time": "2024-08-01T19:32:32.871Z"
   },
   {
    "duration": 426,
    "start_time": "2024-08-01T19:32:32.911Z"
   },
   {
    "duration": 787,
    "start_time": "2024-08-01T19:32:33.340Z"
   },
   {
    "duration": 3,
    "start_time": "2024-08-01T19:32:34.130Z"
   },
   {
    "duration": 3,
    "start_time": "2024-08-01T19:32:34.137Z"
   },
   {
    "duration": 1205,
    "start_time": "2024-08-01T19:52:11.590Z"
   },
   {
    "duration": 57,
    "start_time": "2024-08-01T19:52:14.045Z"
   },
   {
    "duration": 8,
    "start_time": "2024-08-01T19:52:16.390Z"
   },
   {
    "duration": 19,
    "start_time": "2024-08-01T19:52:22.028Z"
   },
   {
    "duration": 388,
    "start_time": "2024-08-01T19:52:41.581Z"
   },
   {
    "duration": 28,
    "start_time": "2024-08-01T19:54:14.502Z"
   },
   {
    "duration": 19,
    "start_time": "2024-08-01T19:55:27.083Z"
   },
   {
    "duration": 997,
    "start_time": "2024-08-01T19:56:27.623Z"
   },
   {
    "duration": 1151,
    "start_time": "2024-08-01T19:59:25.545Z"
   },
   {
    "duration": 57,
    "start_time": "2024-08-01T19:59:26.700Z"
   },
   {
    "duration": 8,
    "start_time": "2024-08-01T19:59:26.764Z"
   },
   {
    "duration": 40,
    "start_time": "2024-08-01T19:59:26.775Z"
   },
   {
    "duration": 426,
    "start_time": "2024-08-01T19:59:26.819Z"
   },
   {
    "duration": 26,
    "start_time": "2024-08-01T19:59:27.249Z"
   },
   {
    "duration": 1032,
    "start_time": "2024-08-01T19:59:27.279Z"
   },
   {
    "duration": 4,
    "start_time": "2024-08-01T19:59:28.314Z"
   },
   {
    "duration": 4,
    "start_time": "2024-08-01T19:59:28.322Z"
   },
   {
    "duration": 1373,
    "start_time": "2024-08-01T20:06:37.247Z"
   },
   {
    "duration": 52,
    "start_time": "2024-08-01T20:06:38.623Z"
   },
   {
    "duration": 8,
    "start_time": "2024-08-01T20:06:38.678Z"
   },
   {
    "duration": 40,
    "start_time": "2024-08-01T20:06:38.689Z"
   },
   {
    "duration": 475,
    "start_time": "2024-08-01T20:06:38.734Z"
   },
   {
    "duration": 22,
    "start_time": "2024-08-01T20:06:39.212Z"
   },
   {
    "duration": 1021,
    "start_time": "2024-08-01T20:06:39.237Z"
   },
   {
    "duration": 5,
    "start_time": "2024-08-01T20:06:40.261Z"
   },
   {
    "duration": 4,
    "start_time": "2024-08-01T20:06:40.269Z"
   },
   {
    "duration": 5083,
    "start_time": "2024-08-01T22:26:44.672Z"
   },
   {
    "duration": 52,
    "start_time": "2024-08-01T22:26:50.830Z"
   },
   {
    "duration": 1413,
    "start_time": "2024-08-01T22:27:10.898Z"
   },
   {
    "duration": 40,
    "start_time": "2024-08-01T22:27:13.227Z"
   },
   {
    "duration": 8,
    "start_time": "2024-08-01T22:27:39.231Z"
   },
   {
    "duration": 14,
    "start_time": "2024-08-01T22:28:04.628Z"
   },
   {
    "duration": 14,
    "start_time": "2024-08-01T22:28:22.377Z"
   },
   {
    "duration": 6,
    "start_time": "2024-08-01T22:28:57.845Z"
   },
   {
    "duration": 17,
    "start_time": "2024-08-01T22:29:26.443Z"
   },
   {
    "duration": 12,
    "start_time": "2024-08-01T22:29:43.049Z"
   },
   {
    "duration": 1361,
    "start_time": "2024-08-01T22:34:16.158Z"
   },
   {
    "duration": 42,
    "start_time": "2024-08-01T22:34:17.522Z"
   },
   {
    "duration": 12,
    "start_time": "2024-08-01T22:34:19.026Z"
   },
   {
    "duration": 15,
    "start_time": "2024-08-01T22:34:19.795Z"
   },
   {
    "duration": 13,
    "start_time": "2024-08-01T22:34:24.762Z"
   },
   {
    "duration": 6,
    "start_time": "2024-08-01T22:34:28.977Z"
   },
   {
    "duration": 13,
    "start_time": "2024-08-01T22:34:35.624Z"
   },
   {
    "duration": 476,
    "start_time": "2024-08-01T22:34:44.999Z"
   },
   {
    "duration": 12,
    "start_time": "2024-08-01T22:36:37.338Z"
   },
   {
    "duration": 14,
    "start_time": "2024-08-01T22:37:53.706Z"
   },
   {
    "duration": 16,
    "start_time": "2024-08-01T22:38:22.342Z"
   },
   {
    "duration": 9,
    "start_time": "2024-08-01T22:41:30.690Z"
   },
   {
    "duration": 8,
    "start_time": "2024-08-01T22:42:01.597Z"
   },
   {
    "duration": 1354,
    "start_time": "2024-08-01T22:51:55.388Z"
   },
   {
    "duration": 39,
    "start_time": "2024-08-01T22:51:56.746Z"
   },
   {
    "duration": 8,
    "start_time": "2024-08-01T22:51:56.788Z"
   },
   {
    "duration": 38,
    "start_time": "2024-08-01T22:51:56.800Z"
   },
   {
    "duration": 15,
    "start_time": "2024-08-01T22:51:56.845Z"
   },
   {
    "duration": 6,
    "start_time": "2024-08-01T22:51:56.863Z"
   },
   {
    "duration": 14,
    "start_time": "2024-08-01T22:51:56.872Z"
   },
   {
    "duration": 59,
    "start_time": "2024-08-01T22:51:56.889Z"
   },
   {
    "duration": 468,
    "start_time": "2024-08-01T22:51:59.999Z"
   },
   {
    "duration": 11,
    "start_time": "2024-08-01T22:52:00.470Z"
   },
   {
    "duration": 11,
    "start_time": "2024-08-01T22:52:00.484Z"
   },
   {
    "duration": 10,
    "start_time": "2024-08-01T22:52:00.497Z"
   },
   {
    "duration": 6,
    "start_time": "2024-08-01T22:52:00.511Z"
   },
   {
    "duration": 7,
    "start_time": "2024-08-01T22:52:00.535Z"
   },
   {
    "duration": 4,
    "start_time": "2024-08-01T22:52:00.544Z"
   },
   {
    "duration": 1570,
    "start_time": "2024-08-01T22:59:19.609Z"
   },
   {
    "duration": 39,
    "start_time": "2024-08-01T22:59:21.184Z"
   },
   {
    "duration": 13,
    "start_time": "2024-08-01T22:59:21.226Z"
   },
   {
    "duration": 14,
    "start_time": "2024-08-01T22:59:21.242Z"
   },
   {
    "duration": 14,
    "start_time": "2024-08-01T22:59:21.262Z"
   },
   {
    "duration": 54,
    "start_time": "2024-08-01T22:59:21.280Z"
   },
   {
    "duration": 13,
    "start_time": "2024-08-01T22:59:21.337Z"
   },
   {
    "duration": 19,
    "start_time": "2024-08-01T22:59:21.353Z"
   },
   {
    "duration": 436,
    "start_time": "2024-08-01T22:59:21.375Z"
   },
   {
    "duration": 11,
    "start_time": "2024-08-01T22:59:21.813Z"
   },
   {
    "duration": 12,
    "start_time": "2024-08-01T22:59:21.827Z"
   },
   {
    "duration": 9,
    "start_time": "2024-08-01T22:59:21.842Z"
   },
   {
    "duration": 7,
    "start_time": "2024-08-01T22:59:21.853Z"
   },
   {
    "duration": 6,
    "start_time": "2024-08-01T22:59:21.866Z"
   },
   {
    "duration": 6,
    "start_time": "2024-08-01T22:59:21.875Z"
   },
   {
    "duration": 477,
    "start_time": "2024-08-01T22:59:21.884Z"
   },
   {
    "duration": 0,
    "start_time": "2024-08-01T22:59:22.364Z"
   },
   {
    "duration": 0,
    "start_time": "2024-08-01T22:59:22.366Z"
   },
   {
    "duration": 0,
    "start_time": "2024-08-01T22:59:22.368Z"
   },
   {
    "duration": 1547,
    "start_time": "2024-08-01T23:00:12.340Z"
   },
   {
    "duration": 46,
    "start_time": "2024-08-01T23:00:13.890Z"
   },
   {
    "duration": 8,
    "start_time": "2024-08-01T23:00:13.939Z"
   },
   {
    "duration": 14,
    "start_time": "2024-08-01T23:00:13.952Z"
   },
   {
    "duration": 14,
    "start_time": "2024-08-01T23:00:13.971Z"
   },
   {
    "duration": 6,
    "start_time": "2024-08-01T23:00:13.988Z"
   },
   {
    "duration": 15,
    "start_time": "2024-08-01T23:00:14.034Z"
   },
   {
    "duration": 16,
    "start_time": "2024-08-01T23:00:14.053Z"
   },
   {
    "duration": 439,
    "start_time": "2024-08-01T23:00:14.072Z"
   },
   {
    "duration": 9,
    "start_time": "2024-08-01T23:00:14.514Z"
   },
   {
    "duration": 13,
    "start_time": "2024-08-01T23:00:14.526Z"
   },
   {
    "duration": 8,
    "start_time": "2024-08-01T23:00:14.542Z"
   },
   {
    "duration": 7,
    "start_time": "2024-08-01T23:00:14.554Z"
   },
   {
    "duration": 6,
    "start_time": "2024-08-01T23:00:14.567Z"
   },
   {
    "duration": 6,
    "start_time": "2024-08-01T23:00:14.575Z"
   },
   {
    "duration": 1122,
    "start_time": "2024-08-01T23:00:14.584Z"
   },
   {
    "duration": 1679,
    "start_time": "2024-08-01T23:00:15.709Z"
   },
   {
    "duration": 6,
    "start_time": "2024-08-01T23:00:17.391Z"
   },
   {
    "duration": 6,
    "start_time": "2024-08-01T23:00:17.433Z"
   },
   {
    "duration": 1530,
    "start_time": "2024-08-01T23:03:17.656Z"
   },
   {
    "duration": 46,
    "start_time": "2024-08-01T23:03:19.190Z"
   },
   {
    "duration": 9,
    "start_time": "2024-08-01T23:03:19.239Z"
   },
   {
    "duration": 17,
    "start_time": "2024-08-01T23:03:19.251Z"
   },
   {
    "duration": 15,
    "start_time": "2024-08-01T23:03:19.274Z"
   },
   {
    "duration": 44,
    "start_time": "2024-08-01T23:03:19.292Z"
   },
   {
    "duration": 14,
    "start_time": "2024-08-01T23:03:19.339Z"
   },
   {
    "duration": 16,
    "start_time": "2024-08-01T23:03:19.356Z"
   },
   {
    "duration": 460,
    "start_time": "2024-08-01T23:03:19.375Z"
   },
   {
    "duration": 11,
    "start_time": "2024-08-01T23:03:19.838Z"
   },
   {
    "duration": 12,
    "start_time": "2024-08-01T23:03:19.852Z"
   },
   {
    "duration": 9,
    "start_time": "2024-08-01T23:03:19.868Z"
   },
   {
    "duration": 6,
    "start_time": "2024-08-01T23:03:19.881Z"
   },
   {
    "duration": 7,
    "start_time": "2024-08-01T23:03:19.938Z"
   },
   {
    "duration": 7,
    "start_time": "2024-08-01T23:03:19.949Z"
   },
   {
    "duration": 2187,
    "start_time": "2024-08-01T23:03:19.960Z"
   },
   {
    "duration": 2514,
    "start_time": "2024-08-01T23:03:22.150Z"
   },
   {
    "duration": 6,
    "start_time": "2024-08-01T23:03:24.666Z"
   },
   {
    "duration": 6,
    "start_time": "2024-08-01T23:03:24.675Z"
   },
   {
    "duration": 5359,
    "start_time": "2024-08-01T23:05:58.231Z"
   },
   {
    "duration": 6970,
    "start_time": "2024-08-01T23:06:05.266Z"
   },
   {
    "duration": 5,
    "start_time": "2024-08-01T23:06:14.155Z"
   },
   {
    "duration": 5,
    "start_time": "2024-08-01T23:06:17.065Z"
   },
   {
    "duration": 1074,
    "start_time": "2024-08-01T23:06:47.141Z"
   },
   {
    "duration": 1258,
    "start_time": "2024-08-01T23:06:49.527Z"
   },
   {
    "duration": 5,
    "start_time": "2024-08-01T23:06:52.470Z"
   },
   {
    "duration": 5,
    "start_time": "2024-08-01T23:06:53.736Z"
   },
   {
    "duration": 30,
    "start_time": "2024-08-01T23:08:53.097Z"
   },
   {
    "duration": 1567,
    "start_time": "2024-08-01T23:09:55.931Z"
   },
   {
    "duration": 47,
    "start_time": "2024-08-01T23:09:57.501Z"
   },
   {
    "duration": 8,
    "start_time": "2024-08-01T23:09:57.551Z"
   },
   {
    "duration": 15,
    "start_time": "2024-08-01T23:09:57.562Z"
   },
   {
    "duration": 15,
    "start_time": "2024-08-01T23:09:57.581Z"
   },
   {
    "duration": 6,
    "start_time": "2024-08-01T23:09:57.633Z"
   },
   {
    "duration": 13,
    "start_time": "2024-08-01T23:09:57.643Z"
   },
   {
    "duration": 17,
    "start_time": "2024-08-01T23:09:57.659Z"
   },
   {
    "duration": 445,
    "start_time": "2024-08-01T23:09:57.678Z"
   },
   {
    "duration": 9,
    "start_time": "2024-08-01T23:09:58.126Z"
   },
   {
    "duration": 11,
    "start_time": "2024-08-01T23:09:58.137Z"
   },
   {
    "duration": 9,
    "start_time": "2024-08-01T23:09:58.150Z"
   },
   {
    "duration": 6,
    "start_time": "2024-08-01T23:09:58.162Z"
   },
   {
    "duration": 6,
    "start_time": "2024-08-01T23:09:58.174Z"
   },
   {
    "duration": 51,
    "start_time": "2024-08-01T23:09:58.184Z"
   },
   {
    "duration": 31,
    "start_time": "2024-08-01T23:09:58.237Z"
   },
   {
    "duration": 177,
    "start_time": "2024-08-01T23:09:58.271Z"
   },
   {
    "duration": 7,
    "start_time": "2024-08-01T23:09:58.451Z"
   },
   {
    "duration": 7,
    "start_time": "2024-08-01T23:09:58.462Z"
   },
   {
    "duration": 1515,
    "start_time": "2024-08-01T23:13:17.276Z"
   },
   {
    "duration": 46,
    "start_time": "2024-08-01T23:13:18.795Z"
   },
   {
    "duration": 9,
    "start_time": "2024-08-01T23:13:18.844Z"
   },
   {
    "duration": 17,
    "start_time": "2024-08-01T23:13:18.857Z"
   },
   {
    "duration": 56,
    "start_time": "2024-08-01T23:13:18.878Z"
   },
   {
    "duration": 6,
    "start_time": "2024-08-01T23:13:18.938Z"
   },
   {
    "duration": 14,
    "start_time": "2024-08-01T23:13:18.948Z"
   },
   {
    "duration": 16,
    "start_time": "2024-08-01T23:13:18.965Z"
   },
   {
    "duration": 437,
    "start_time": "2024-08-01T23:13:18.986Z"
   },
   {
    "duration": 9,
    "start_time": "2024-08-01T23:13:19.428Z"
   },
   {
    "duration": 9,
    "start_time": "2024-08-01T23:13:19.440Z"
   },
   {
    "duration": 10,
    "start_time": "2024-08-01T23:13:19.452Z"
   },
   {
    "duration": 6,
    "start_time": "2024-08-01T23:13:19.465Z"
   },
   {
    "duration": 7,
    "start_time": "2024-08-01T23:13:19.474Z"
   },
   {
    "duration": 54,
    "start_time": "2024-08-01T23:13:19.485Z"
   },
   {
    "duration": 35,
    "start_time": "2024-08-01T23:13:19.556Z"
   },
   {
    "duration": 239,
    "start_time": "2024-08-01T23:13:19.595Z"
   },
   {
    "duration": 6,
    "start_time": "2024-08-01T23:13:19.837Z"
   },
   {
    "duration": 6,
    "start_time": "2024-08-01T23:13:19.846Z"
   },
   {
    "duration": 129,
    "start_time": "2024-08-01T23:13:39.229Z"
   },
   {
    "duration": 5,
    "start_time": "2024-08-01T23:13:42.475Z"
   },
   {
    "duration": 4,
    "start_time": "2024-08-01T23:13:43.283Z"
   },
   {
    "duration": 421,
    "start_time": "2024-08-01T23:13:48.347Z"
   },
   {
    "duration": 5,
    "start_time": "2024-08-01T23:13:52.267Z"
   },
   {
    "duration": 11,
    "start_time": "2024-08-01T23:13:53.654Z"
   },
   {
    "duration": 1544,
    "start_time": "2024-08-01T23:14:59.941Z"
   },
   {
    "duration": 46,
    "start_time": "2024-08-01T23:15:01.489Z"
   },
   {
    "duration": 8,
    "start_time": "2024-08-01T23:15:01.537Z"
   },
   {
    "duration": 16,
    "start_time": "2024-08-01T23:15:01.548Z"
   },
   {
    "duration": 18,
    "start_time": "2024-08-01T23:15:01.568Z"
   },
   {
    "duration": 49,
    "start_time": "2024-08-01T23:15:01.589Z"
   },
   {
    "duration": 14,
    "start_time": "2024-08-01T23:15:01.641Z"
   },
   {
    "duration": 16,
    "start_time": "2024-08-01T23:15:01.658Z"
   },
   {
    "duration": 426,
    "start_time": "2024-08-01T23:15:01.677Z"
   },
   {
    "duration": 9,
    "start_time": "2024-08-01T23:15:02.106Z"
   },
   {
    "duration": 20,
    "start_time": "2024-08-01T23:15:02.117Z"
   },
   {
    "duration": 8,
    "start_time": "2024-08-01T23:15:02.141Z"
   },
   {
    "duration": 7,
    "start_time": "2024-08-01T23:15:02.153Z"
   },
   {
    "duration": 7,
    "start_time": "2024-08-01T23:15:02.166Z"
   },
   {
    "duration": 6,
    "start_time": "2024-08-01T23:15:02.175Z"
   },
   {
    "duration": 32,
    "start_time": "2024-08-01T23:15:02.233Z"
   },
   {
    "duration": 303,
    "start_time": "2024-08-01T23:15:02.268Z"
   },
   {
    "duration": 7,
    "start_time": "2024-08-01T23:15:02.574Z"
   },
   {
    "duration": 11,
    "start_time": "2024-08-01T23:15:02.642Z"
   },
   {
    "duration": 5145,
    "start_time": "2024-08-06T04:56:28.833Z"
   },
   {
    "duration": 47,
    "start_time": "2024-08-06T04:56:33.982Z"
   },
   {
    "duration": 9,
    "start_time": "2024-08-06T04:56:34.032Z"
   },
   {
    "duration": 15,
    "start_time": "2024-08-06T04:56:34.044Z"
   },
   {
    "duration": 48,
    "start_time": "2024-08-06T04:56:34.065Z"
   },
   {
    "duration": 7,
    "start_time": "2024-08-06T04:56:34.115Z"
   },
   {
    "duration": 14,
    "start_time": "2024-08-06T04:56:34.126Z"
   },
   {
    "duration": 19,
    "start_time": "2024-08-06T04:56:34.143Z"
   },
   {
    "duration": 447,
    "start_time": "2024-08-06T04:56:34.164Z"
   },
   {
    "duration": 9,
    "start_time": "2024-08-06T04:56:34.615Z"
   },
   {
    "duration": 10,
    "start_time": "2024-08-06T04:56:34.627Z"
   },
   {
    "duration": 8,
    "start_time": "2024-08-06T04:56:34.640Z"
   },
   {
    "duration": 11,
    "start_time": "2024-08-06T04:56:34.652Z"
   },
   {
    "duration": 1189,
    "start_time": "2024-08-06T04:56:34.705Z"
   },
   {
    "duration": 10,
    "start_time": "2024-08-06T04:56:35.897Z"
   },
   {
    "duration": 6,
    "start_time": "2024-08-06T04:56:35.911Z"
   },
   {
    "duration": 5,
    "start_time": "2024-08-06T04:56:35.921Z"
   },
   {
    "duration": 30,
    "start_time": "2024-08-06T04:56:35.930Z"
   },
   {
    "duration": 149,
    "start_time": "2024-08-06T04:56:35.963Z"
   },
   {
    "duration": 6,
    "start_time": "2024-08-06T04:56:36.115Z"
   },
   {
    "duration": 7,
    "start_time": "2024-08-06T04:56:36.124Z"
   }
  ],
  "kernelspec": {
   "display_name": "Python 3 (ipykernel)",
   "language": "python",
   "name": "python3"
  },
  "language_info": {
   "codemirror_mode": {
    "name": "ipython",
    "version": 3
   },
   "file_extension": ".py",
   "mimetype": "text/x-python",
   "name": "python",
   "nbconvert_exporter": "python",
   "pygments_lexer": "ipython3",
   "version": "3.9.19"
  },
  "toc": {
   "base_numbering": 1,
   "nav_menu": {},
   "number_sections": true,
   "sideBar": true,
   "skip_h1_title": true,
   "title_cell": "Table of Contents",
   "title_sidebar": "Contents",
   "toc_cell": false,
   "toc_position": {},
   "toc_section_display": true,
   "toc_window_display": false
  }
 },
 "nbformat": 4,
 "nbformat_minor": 2
}
