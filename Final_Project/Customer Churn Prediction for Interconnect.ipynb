{
 "cells": [
  {
   "cell_type": "markdown",
   "metadata": {},
   "source": [
    "Hola &#x1F600;\n",
    "\n",
    "Soy **Hesus Garcia**  como \"Jesús\" pero con H. Sé que puede ser confuso al principio, pero una vez que lo recuerdes, ¡nunca lo olvidarás! &#x1F31D;\t. Como revisor de código de Practicum, estoy emocionado de examinar tus proyectos y ayudarte a mejorar tus habilidades en programación. si has cometido algún error, no te preocupes, pues ¡estoy aquí para ayudarte a corregirlo y hacer que tu código brille! &#x1F31F;. Si encuentro algún detalle en tu código, te lo señalaré para que lo corrijas, ya que mi objetivo es ayudarte a prepararte para un ambiente de trabajo real, donde el líder de tu equipo actuaría de la misma manera. Si no puedes solucionar el problema, te proporcionaré más información en la próxima oportunidad. Cuando encuentres un comentario,  **por favor, no los muevas, no los modifiques ni los borres**. \n",
    "\n",
    "Revisaré cuidadosamente todas las implementaciones que has realizado para cumplir con los requisitos y te proporcionaré mis comentarios de la siguiente manera:\n",
    "\n",
    "\n",
    "<div class=\"alert alert-block alert-success\">\n",
    "<b>Comentario del revisor</b> <a class=“tocSkip”></a>\n",
    "Si todo está perfecto.\n",
    "</div>\n",
    "\n",
    "<div class=\"alert alert-block alert-warning\">\n",
    "<b>Comentario del revisor</b> <a class=“tocSkip”></a>\n",
    "Si tu código está bien pero se puede mejorar o hay algún detalle que le hace falta.\n",
    "</div>\n",
    "\n",
    "<div class=\"alert alert-block alert-danger\">\n",
    "<b>Comentario del revisor</b> <a class=“tocSkip”></a>\n",
    "Si de pronto hace falta algo o existe algún problema con tu código o conclusiones.\n",
    "</div>\n",
    "\n",
    "Puedes responderme de esta forma:\n",
    "<div class=\"alert alert-block alert-info\">\n",
    "<b>Respuesta del estudiante</b> <a class=“tocSkip”></a>\n",
    "</div>\n",
    "\n",
    "</br>\n",
    "\n",
    "**¡Empecemos!**  &#x1F680;"
   ]
  },
  {
   "cell_type": "markdown",
   "metadata": {},
   "source": [
    "Hecho por: Ilse Salinas\n",
    "\n",
    "# Proyecto final\n",
    "## Descripción\n",
    "Al operador de telecomunicaciones Interconnect le gustaría poder pronosticar su tasa de cancelación de clientes. Si se descubre que un usuario o usuaria planea irse, se le ofrecerán códigos promocionales y opciones de planes especiales. El equipo de marketing de Interconnect ha recopilado algunos de los datos personales de sus clientes, incluyendo información sobre sus planes y contratos.\n",
    "\n",
    "### Servicios de Interconnect\n",
    "\n",
    "Interconnect proporciona principalmente dos tipos de servicios:\n",
    "\n",
    "1. Comunicación por teléfono fijo. El teléfono se puede conectar a varias líneas de manera simultánea.\n",
    "2. Internet. La red se puede configurar a través de una línea telefónica (DSL, *línea de abonado digital*) o a través de un cable de fibra óptica.\n",
    "\n",
    "Algunos otros servicios que ofrece la empresa incluyen:\n",
    "\n",
    "- Seguridad en Internet: software antivirus (*ProtecciónDeDispositivo*) y un bloqueador de sitios web maliciosos (*SeguridadEnLínea*).\n",
    "- Una línea de soporte técnico (*SoporteTécnico*).\n",
    "- Almacenamiento de archivos en la nube y backup de datos (*BackupOnline*).\n",
    "- Streaming de TV (*StreamingTV*) y directorio de películas (*StreamingPelículas*)\n",
    "\n",
    "La clientela puede elegir entre un pago mensual o firmar un contrato de 1 o 2 años. Puede utilizar varios métodos de pago y recibir una factura electrónica después de una transacción.\n",
    "\n",
    "### Descripción de los datos\n",
    "\n",
    "Los datos consisten en archivos obtenidos de diferentes fuentes:\n",
    "\n",
    "- `contract.csv` — información del contrato;\n",
    "- `personal.csv` — datos personales del cliente;\n",
    "- `internet.csv` — información sobre los servicios de Internet;\n",
    "- `phone.csv` — información sobre los servicios telefónicos.\n",
    "\n",
    "En cada archivo, la columna `customerID` (ID de cliente) contiene un código único asignado a cada cliente. La información del contrato es válida a partir del 1 de febrero de 2020.\n"
   ]
  },
  {
   "cell_type": "markdown",
   "metadata": {},
   "source": [
    "## Preprocesamiento de los datos\n",
    "### Importación de librerías"
   ]
  },
  {
   "cell_type": "code",
   "execution_count": 1,
   "metadata": {},
   "outputs": [],
   "source": [
    "import numpy as np\n",
    "import pandas as pd\n",
    "import matplotlib.pyplot as plt\n",
    "import seaborn as sns\n",
    "from sklearn.model_selection import train_test_split\n",
    "from sklearn.linear_model import LogisticRegression\n",
    "from sklearn.utils import shuffle\n",
    "from sklearn.model_selection import StratifiedKFold, cross_val_predict, cross_val_score\n",
    "from sklearn.metrics import f1_score, roc_auc_score, accuracy_score, precision_score, recall_score, confusion_matrix, ConfusionMatrixDisplay, classification_report\n",
    "from sklearn.ensemble import RandomForestRegressor\n",
    "import xgboost as xgb"
   ]
  },
  {
   "cell_type": "markdown",
   "metadata": {},
   "source": [
    "<div class=\"alert alert-block alert-warning\">\n",
    "<b>Comentario del revisor</b> <a class=“tocSkip”></a>\n",
    "Quería proporcionarte algunos comentarios sobre la organización de los imports en tu código. Entiendo que esto se te proporcionó como parte de una plantilla, sin embargo es importante destacar el orden de los imports. \n",
    "    \n",
    "Es preferible agrupar los imports siguiendo el siguiente orden:\n",
    "\n",
    "Imports de la biblioteca estándar de Python.\n",
    "Imports de bibliotecas de terceros relacionadas.\n",
    "Imports específicos de la aplicación local o biblioteca personalizada.\n",
    "Para mejorar la legibilidad del código, también es recomendable dejar una línea en blanco entre cada grupo de imports, pero solo un import por línea.\n",
    "Te dejo esta referencia con ejemplos:  \n",
    "https://pep8.org/#imports\n",
    "\n",
    "</div>"
   ]
  },
  {
   "cell_type": "markdown",
   "metadata": {},
   "source": [
    "### Extracción y limpieza de los datos"
   ]
  },
  {
   "cell_type": "code",
   "execution_count": 2,
   "metadata": {},
   "outputs": [],
   "source": [
    "df_contract = pd.read_csv('/datasets/final_provider/contract.csv')\n",
    "df_personal = pd.read_csv('/datasets/final_provider/personal.csv')\n",
    "df_internet = pd.read_csv('/datasets/final_provider/internet.csv')\n",
    "df_phone = pd.read_csv('/datasets/final_provider/phone.csv')"
   ]
  },
  {
   "cell_type": "code",
   "execution_count": 3,
   "metadata": {},
   "outputs": [],
   "source": [
    "# Funcion de eliminar duplicados\n",
    "def duplicados(df):\n",
    "    sin_duplicados = df.drop_duplicates()\n",
    "    print(f'Dataframe sin duplicados.')\n",
    "    return sin_duplicados"
   ]
  },
  {
   "cell_type": "code",
   "execution_count": 4,
   "metadata": {},
   "outputs": [],
   "source": [
    "# Funcion de nulos\n",
    "def nulos(df):\n",
    "    for columna in df.columns:\n",
    "        if df[columna].dtype == 'int64' or df[columna].dtype == 'Int64'or df[columna].dtype == 'float64':\n",
    "            # Reemplazar valores nulos por 0 en columnas enteras\n",
    "            df[columna] = df[columna].fillna(0)\n",
    "        elif df[columna].dtype == 'object':\n",
    "            # Reemplazar valores nulos por 'indeterminado' en columnas de tipo objeto\n",
    "            df[columna] = df[columna].fillna('indeterminado')\n",
    "    print(f'Dataframe sin nulos.')\n",
    "    return df"
   ]
  },
  {
   "cell_type": "code",
   "execution_count": 5,
   "metadata": {},
   "outputs": [],
   "source": [
    "# Funcion de cambio de tipo de variable\n",
    "def convertir_a_datetime(df, columna):\n",
    "    df[columna] = pd.to_datetime(df_contract[columna], errors='coerce')\n",
    "    return df"
   ]
  },
  {
   "cell_type": "code",
   "execution_count": 6,
   "metadata": {},
   "outputs": [],
   "source": [
    "# Funcion que limpia columna 'customerID', pone en mayusculas y quita espacios\n",
    "def limpia_id(df, columna):\n",
    "    df[columna] = df[columna].str.upper()\n",
    "    df[columna] = df[columna].str.replace(' ', '')\n",
    "    return df"
   ]
  },
  {
   "cell_type": "code",
   "execution_count": 7,
   "metadata": {},
   "outputs": [],
   "source": [
    "# Funcion para renombrar columnas con formato especificado\n",
    "def formato_columna(columna):\n",
    "    nuevo_nombre = columna[0].upper()  # Convertir la primera letra a mayuscula\n",
    "    guion_bajo_agregado = False  # Bandera para verificar si ya se añadió el guion bajo\n",
    "    for char in columna[1:]:\n",
    "        if char.isupper() and not guion_bajo_agregado:\n",
    "            nuevo_nombre += '_'  # Insertar un guion bajo antes de las letras mayusculas\n",
    "            guion_bajo_agregado = True  # Evitar agregar más guiones bajos\n",
    "        nuevo_nombre += char\n",
    "    return nuevo_nombre\n",
    "\n",
    "# Funcion para aplicar la renombracion a todas las columnas\n",
    "def renombrar_columna(df):\n",
    "    df.columns = [formato_columna(col) for col in df.columns]\n",
    "    return df"
   ]
  },
  {
   "cell_type": "markdown",
   "metadata": {},
   "source": [
    "#### Dataframe 1"
   ]
  },
  {
   "cell_type": "code",
   "execution_count": 8,
   "metadata": {},
   "outputs": [
    {
     "name": "stdout",
     "output_type": "stream",
     "text": [
      "Informacion del dataframe \"contract\": \n",
      "\n",
      "<class 'pandas.core.frame.DataFrame'>\n",
      "RangeIndex: 7043 entries, 0 to 7042\n",
      "Data columns (total 8 columns):\n",
      " #   Column            Non-Null Count  Dtype  \n",
      "---  ------            --------------  -----  \n",
      " 0   customerID        7043 non-null   object \n",
      " 1   BeginDate         7043 non-null   object \n",
      " 2   EndDate           7043 non-null   object \n",
      " 3   Type              7043 non-null   object \n",
      " 4   PaperlessBilling  7043 non-null   object \n",
      " 5   PaymentMethod     7043 non-null   object \n",
      " 6   MonthlyCharges    7043 non-null   float64\n",
      " 7   TotalCharges      7043 non-null   object \n",
      "dtypes: float64(1), object(7)\n",
      "memory usage: 440.3+ KB\n",
      "\n",
      "    customerID   BeginDate              EndDate            Type  \\\n",
      "0  7590-VHVEG  2020-01-01                   No  Month-to-month   \n",
      "1  5575-GNVDE  2017-04-01                   No        One year   \n",
      "2  3668-QPYBK  2019-10-01  2019-12-01 00:00:00  Month-to-month   \n",
      "3  7795-CFOCW  2016-05-01                   No        One year   \n",
      "4  9237-HQITU  2019-09-01  2019-11-01 00:00:00  Month-to-month   \n",
      "\n",
      "  PaperlessBilling              PaymentMethod  MonthlyCharges TotalCharges  \n",
      "0              Yes           Electronic check           29.85        29.85  \n",
      "1               No               Mailed check           56.95       1889.5  \n",
      "2              Yes               Mailed check           53.85       108.15  \n",
      "3               No  Bank transfer (automatic)           42.30      1840.75  \n",
      "4              Yes           Electronic check           70.70       151.65  \n"
     ]
    }
   ],
   "source": [
    "print('Informacion del dataframe \"contract\": \\n')\n",
    "df_contract.info()\n",
    "print('\\n',df_contract.head(5))"
   ]
  },
  {
   "cell_type": "markdown",
   "metadata": {},
   "source": [
    "Nota: Hay que cambiar el tipo de dato de las columnas 'BeginDate' y 'EndDate' a tipo datetime y la columna 'TotalCharges' a flotante. Se puede observar que la columna EndDate contiene algunas filas con la palabra 'No', esto supongo que implica que aunque el cliente haya empezado un plan de cualquier tipo eso no significa que lo vaya a finalizar. Hay que prestar atención entonces a aquellos que si tienen una fecha puesta y aún mas si el tiempo entre el incio y el fin es más corto ya que facilmente se puede ir sin poder haberle promocionado algo al cliente. \n",
    "También es necesario limpiar en todos los dataframees la columna 'customerID' ya que es donde la información coincide entre clientes de diferentes planes. Esto es a futuro cuando juntemos todos los dataframes en uno solo y se maneje esta información en el modelo."
   ]
  },
  {
   "cell_type": "code",
   "execution_count": 9,
   "metadata": {},
   "outputs": [],
   "source": [
    "# Renombra columnas\n",
    "df_contract = renombrar_columna(df_contract)"
   ]
  },
  {
   "cell_type": "code",
   "execution_count": 10,
   "metadata": {},
   "outputs": [
    {
     "name": "stdout",
     "output_type": "stream",
     "text": [
      "Begin_Date conteo de \"No\": 0\n",
      "End_Date conteo de \"No\": 5174\n"
     ]
    }
   ],
   "source": [
    "# Contar cuantos 'No' hay en la columna 'BeginDate' y 'EndDate'\n",
    "conteo_no = df_contract['Begin_Date'].value_counts().get('No', 0)\n",
    "print('Begin_Date conteo de \"No\":',conteo_no)\n",
    "conteo_no = df_contract['End_Date'].value_counts().get('No', 0)\n",
    "print('End_Date conteo de \"No\":',conteo_no)"
   ]
  },
  {
   "cell_type": "code",
   "execution_count": 11,
   "metadata": {},
   "outputs": [
    {
     "name": "stdout",
     "output_type": "stream",
     "text": [
      "  Begin_Date   End_Date            Type\n",
      "0 2020-01-01 1900-01-01  Month-to-month\n",
      "1 2017-04-01 1900-01-01        One year\n",
      "2 2019-10-01 2019-12-01  Month-to-month\n",
      "3 2016-05-01 1900-01-01        One year\n",
      "4 2019-09-01 2019-11-01  Month-to-month\n"
     ]
    }
   ],
   "source": [
    "# Reemplazar 'No' con NaT y despues NaT con fecha estandar '1900-01-01'\n",
    "# La fecha eestandar significa que no hay tiempo asignado\n",
    "df_contract['End_Date'] = df_contract['End_Date'].replace('No', pd.NaT)\n",
    "df_contract['End_Date'] = df_contract['End_Date'].fillna(pd.Timestamp('1900-01-01'))\n",
    "\n",
    "# Convertir columnas a datetime\n",
    "df_contract = convertir_a_datetime(df_contract, 'End_Date')\n",
    "df_contract = convertir_a_datetime(df_contract, 'Begin_Date')\n",
    "\n",
    "print(df_contract[['Begin_Date', 'End_Date', 'Type']].head())"
   ]
  },
  {
   "cell_type": "code",
   "execution_count": 12,
   "metadata": {},
   "outputs": [],
   "source": [
    "# Cambiar tipo de columna 'TotalCharges'\n",
    "df_contract['Total_Charges'].replace('', np.nan, inplace=True)\n",
    "df_contract['Total_Charges'] = pd.to_numeric(df_contract['Total_Charges'], errors='coerce')"
   ]
  },
  {
   "cell_type": "code",
   "execution_count": 13,
   "metadata": {},
   "outputs": [],
   "source": [
    "# Es necesario limpiar en todos los dataframes la columna 'customerID' ya que es donde la informacion coincide entre clientes de diferentes planes\n",
    "df_contract = limpia_id(df_contract,'Customer_ID')"
   ]
  },
  {
   "cell_type": "code",
   "execution_count": 14,
   "metadata": {},
   "outputs": [
    {
     "name": "stdout",
     "output_type": "stream",
     "text": [
      "Dataframe sin nulos.\n",
      "Dataframe sin duplicados.\n",
      "<class 'pandas.core.frame.DataFrame'>\n",
      "Int64Index: 7043 entries, 0 to 7042\n",
      "Data columns (total 8 columns):\n",
      " #   Column             Non-Null Count  Dtype         \n",
      "---  ------             --------------  -----         \n",
      " 0   Customer_ID        7043 non-null   object        \n",
      " 1   Begin_Date         7043 non-null   datetime64[ns]\n",
      " 2   End_Date           7043 non-null   datetime64[ns]\n",
      " 3   Type               7043 non-null   object        \n",
      " 4   Paperless_Billing  7043 non-null   object        \n",
      " 5   Payment_Method     7043 non-null   object        \n",
      " 6   Monthly_Charges    7043 non-null   float64       \n",
      " 7   Total_Charges      7043 non-null   float64       \n",
      "dtypes: datetime64[ns](2), float64(2), object(4)\n",
      "memory usage: 495.2+ KB\n"
     ]
    }
   ],
   "source": [
    "df_contract = nulos(df_contract)\n",
    "df_contract = duplicados(df_contract)\n",
    "df_contract.info()"
   ]
  },
  {
   "cell_type": "markdown",
   "metadata": {},
   "source": [
    "#### Dataframe 2"
   ]
  },
  {
   "cell_type": "code",
   "execution_count": 15,
   "metadata": {},
   "outputs": [
    {
     "name": "stdout",
     "output_type": "stream",
     "text": [
      "Informacion del dataframe \"personal\": \n",
      "\n",
      "<class 'pandas.core.frame.DataFrame'>\n",
      "RangeIndex: 7043 entries, 0 to 7042\n",
      "Data columns (total 5 columns):\n",
      " #   Column         Non-Null Count  Dtype \n",
      "---  ------         --------------  ----- \n",
      " 0   customerID     7043 non-null   object\n",
      " 1   gender         7043 non-null   object\n",
      " 2   SeniorCitizen  7043 non-null   int64 \n",
      " 3   Partner        7043 non-null   object\n",
      " 4   Dependents     7043 non-null   object\n",
      "dtypes: int64(1), object(4)\n",
      "memory usage: 275.2+ KB\n",
      "\n",
      "       customerID  gender  SeniorCitizen Partner Dependents\n",
      "4713  7544-ZVIKX    Male              0     Yes        Yes\n",
      "1107  0971-QIFJK  Female              0     Yes         No\n",
      "6054  9445-SZLCH  Female              0     Yes        Yes\n",
      "201   8544-GOQSH  Female              0      No         No\n",
      "3082  3401-URHDA    Male              0      No         No\n"
     ]
    }
   ],
   "source": [
    "print('Informacion del dataframe \"personal\": \\n')\n",
    "df_personal.info()\n",
    "print('\\n',df_personal.sample(5))"
   ]
  },
  {
   "cell_type": "code",
   "execution_count": 16,
   "metadata": {},
   "outputs": [],
   "source": [
    "# Renombra columnas\n",
    "df_personal = renombrar_columna(df_personal)"
   ]
  },
  {
   "cell_type": "code",
   "execution_count": 17,
   "metadata": {},
   "outputs": [],
   "source": [
    "# Cambiar tipo de columna 'SeniorCitizen' de float a int\n",
    "df_personal['Senior_Citizen'].fillna(0, inplace=True)\n",
    "df_personal['Senior_Citizen'] = df_personal['Senior_Citizen'].astype(int)"
   ]
  },
  {
   "cell_type": "code",
   "execution_count": 18,
   "metadata": {},
   "outputs": [],
   "source": [
    "# Es necesario limpiar en todos los dataframes la columna 'customerID' ya que es donde la informacion coincide entre clientes de diferentes planes\n",
    "df_personal = limpia_id(df_personal,'Customer_ID')"
   ]
  },
  {
   "cell_type": "code",
   "execution_count": 19,
   "metadata": {},
   "outputs": [
    {
     "name": "stdout",
     "output_type": "stream",
     "text": [
      "Dataframe sin nulos.\n",
      "Dataframe sin duplicados.\n",
      "<class 'pandas.core.frame.DataFrame'>\n",
      "Int64Index: 7043 entries, 0 to 7042\n",
      "Data columns (total 5 columns):\n",
      " #   Column          Non-Null Count  Dtype \n",
      "---  ------          --------------  ----- \n",
      " 0   Customer_ID     7043 non-null   object\n",
      " 1   Gender          7043 non-null   object\n",
      " 2   Senior_Citizen  7043 non-null   int64 \n",
      " 3   Partner         7043 non-null   object\n",
      " 4   Dependents      7043 non-null   object\n",
      "dtypes: int64(1), object(4)\n",
      "memory usage: 330.1+ KB\n"
     ]
    }
   ],
   "source": [
    "df_personal = nulos(df_personal)\n",
    "df_personal = duplicados(df_personal)\n",
    "df_personal.info()"
   ]
  },
  {
   "cell_type": "markdown",
   "metadata": {},
   "source": [
    "#### Dataframe 3"
   ]
  },
  {
   "cell_type": "code",
   "execution_count": 20,
   "metadata": {},
   "outputs": [
    {
     "name": "stdout",
     "output_type": "stream",
     "text": [
      "Informacion del dataframe \"internet\": \n",
      "\n",
      "<class 'pandas.core.frame.DataFrame'>\n",
      "RangeIndex: 5517 entries, 0 to 5516\n",
      "Data columns (total 8 columns):\n",
      " #   Column            Non-Null Count  Dtype \n",
      "---  ------            --------------  ----- \n",
      " 0   customerID        5517 non-null   object\n",
      " 1   InternetService   5517 non-null   object\n",
      " 2   OnlineSecurity    5517 non-null   object\n",
      " 3   OnlineBackup      5517 non-null   object\n",
      " 4   DeviceProtection  5517 non-null   object\n",
      " 5   TechSupport       5517 non-null   object\n",
      " 6   StreamingTV       5517 non-null   object\n",
      " 7   StreamingMovies   5517 non-null   object\n",
      "dtypes: object(8)\n",
      "memory usage: 344.9+ KB\n",
      "\n",
      "    customerID InternetService OnlineSecurity OnlineBackup DeviceProtection  \\\n",
      "0  7590-VHVEG             DSL             No          Yes               No   \n",
      "1  5575-GNVDE             DSL            Yes           No              Yes   \n",
      "2  3668-QPYBK             DSL            Yes          Yes               No   \n",
      "3  7795-CFOCW             DSL            Yes           No              Yes   \n",
      "4  9237-HQITU     Fiber optic             No           No               No   \n",
      "\n",
      "  TechSupport StreamingTV StreamingMovies  \n",
      "0          No          No              No  \n",
      "1          No          No              No  \n",
      "2          No          No              No  \n",
      "3         Yes          No              No  \n",
      "4          No          No              No  \n"
     ]
    }
   ],
   "source": [
    "print('Informacion del dataframe \"internet\": \\n')\n",
    "df_internet.info()\n",
    "print('\\n',df_internet.head(5))"
   ]
  },
  {
   "cell_type": "markdown",
   "metadata": {},
   "source": [
    "Nota: Este dataframe presenta menos cantidad de filas que los otros dos anteriores (este dataframe tiene 5517 y los otros dos 7043), supongo que esto se debe a que no todo mundo contrata el plan de internet sino que solamente el del telefono. Para aquellos que si obtuvieron la opcion del internet es posible que como extras obtengan o no otros servicios adicionales. En este caso, para aquellos clientes que no cuenten con internet, en el dataframe general se rellenaran estos espacios con valores negativos para que se tomen en cuenta el total de clientes presentes. "
   ]
  },
  {
   "cell_type": "code",
   "execution_count": 21,
   "metadata": {},
   "outputs": [],
   "source": [
    "# Renombra columnas\n",
    "df_internet = renombrar_columna(df_internet)"
   ]
  },
  {
   "cell_type": "code",
   "execution_count": 22,
   "metadata": {},
   "outputs": [],
   "source": [
    "# Es necesario limpiar en todos los dataframes la columna 'customerID' ya que es donde la informacion coincide entre clientes de diferentes planes\n",
    "df_internet = limpia_id(df_internet,'Customer_ID')"
   ]
  },
  {
   "cell_type": "markdown",
   "metadata": {},
   "source": [
    "Nota: Hay que checar cuantos ids hay comun de este con los dataframes anteriores y los que no esten en este ponerles valores nulos para que sean 7043 para que el dataframe final sea de este largo, lo mismo pasa con el de telefono."
   ]
  },
  {
   "cell_type": "code",
   "execution_count": 23,
   "metadata": {},
   "outputs": [
    {
     "name": "stdout",
     "output_type": "stream",
     "text": [
      "Dataframe sin nulos.\n",
      "Dataframe sin duplicados.\n",
      "<class 'pandas.core.frame.DataFrame'>\n",
      "Int64Index: 5517 entries, 0 to 5516\n",
      "Data columns (total 8 columns):\n",
      " #   Column             Non-Null Count  Dtype \n",
      "---  ------             --------------  ----- \n",
      " 0   Customer_ID        5517 non-null   object\n",
      " 1   Internet_Service   5517 non-null   object\n",
      " 2   Online_Security    5517 non-null   object\n",
      " 3   Online_Backup      5517 non-null   object\n",
      " 4   Device_Protection  5517 non-null   object\n",
      " 5   Tech_Support       5517 non-null   object\n",
      " 6   Streaming_TV       5517 non-null   object\n",
      " 7   Streaming_Movies   5517 non-null   object\n",
      "dtypes: object(8)\n",
      "memory usage: 387.9+ KB\n"
     ]
    }
   ],
   "source": [
    "df_internet = nulos(df_internet)\n",
    "df_internet = duplicados(df_internet)\n",
    "df_internet.info()"
   ]
  },
  {
   "cell_type": "markdown",
   "metadata": {},
   "source": [
    "#### Dataframe 4"
   ]
  },
  {
   "cell_type": "code",
   "execution_count": 24,
   "metadata": {},
   "outputs": [
    {
     "name": "stdout",
     "output_type": "stream",
     "text": [
      "Informacion del dataframe \"phone\": \n",
      "\n",
      "<class 'pandas.core.frame.DataFrame'>\n",
      "RangeIndex: 6361 entries, 0 to 6360\n",
      "Data columns (total 2 columns):\n",
      " #   Column         Non-Null Count  Dtype \n",
      "---  ------         --------------  ----- \n",
      " 0   customerID     6361 non-null   object\n",
      " 1   MultipleLines  6361 non-null   object\n",
      "dtypes: object(2)\n",
      "memory usage: 99.5+ KB\n",
      "\n",
      "    customerID MultipleLines\n",
      "0  5575-GNVDE            No\n",
      "1  3668-QPYBK            No\n",
      "2  9237-HQITU            No\n",
      "3  9305-CDSKC           Yes\n",
      "4  1452-KIOVK           Yes\n"
     ]
    }
   ],
   "source": [
    "print('Informacion del dataframe \"phone\": \\n')\n",
    "df_phone.info()\n",
    "print('\\n',df_phone.head(5))"
   ]
  },
  {
   "cell_type": "markdown",
   "metadata": {},
   "source": [
    "Nota: Pasa exactamente algo similar a lo anterior, no todos los clientes cuentan con el servicio de telefono es por ellos que quienes no cuenten con este servicio se rellenara con valores negativos. De esta forma se tendra el dataframe general completo con los 7043 clientes."
   ]
  },
  {
   "cell_type": "code",
   "execution_count": 25,
   "metadata": {},
   "outputs": [],
   "source": [
    "# Renombra columnas\n",
    "df_phone = renombrar_columna(df_phone)"
   ]
  },
  {
   "cell_type": "code",
   "execution_count": 26,
   "metadata": {},
   "outputs": [],
   "source": [
    "# Es necesario limpiar en todos los dataframes la columna 'customerID' ya que es donde la informacion coincide entre clientes de diferentes planes\n",
    "df_phone = limpia_id(df_phone,'Customer_ID')"
   ]
  },
  {
   "cell_type": "code",
   "execution_count": 27,
   "metadata": {},
   "outputs": [
    {
     "name": "stdout",
     "output_type": "stream",
     "text": [
      "Dataframe sin nulos.\n",
      "Dataframe sin duplicados.\n",
      "<class 'pandas.core.frame.DataFrame'>\n",
      "Int64Index: 6361 entries, 0 to 6360\n",
      "Data columns (total 2 columns):\n",
      " #   Column          Non-Null Count  Dtype \n",
      "---  ------          --------------  ----- \n",
      " 0   Customer_ID     6361 non-null   object\n",
      " 1   Multiple_Lines  6361 non-null   object\n",
      "dtypes: object(2)\n",
      "memory usage: 149.1+ KB\n",
      "\n",
      " Dataframes listos para EDA.\n"
     ]
    }
   ],
   "source": [
    "df_phone = nulos(df_phone)\n",
    "df_phone = duplicados(df_phone)\n",
    "df_phone.info()\n",
    "\n",
    "print('\\n Dataframes listos para EDA.')"
   ]
  },
  {
   "cell_type": "markdown",
   "metadata": {},
   "source": [
    "### Dataframe general"
   ]
  },
  {
   "cell_type": "code",
   "execution_count": 28,
   "metadata": {},
   "outputs": [
    {
     "name": "stdout",
     "output_type": "stream",
     "text": [
      "Clientes sin servicio de Internet: 1526\n",
      "<class 'pandas.core.frame.DataFrame'>\n",
      "RangeIndex: 7043 entries, 0 to 7042\n",
      "Data columns (total 8 columns):\n",
      " #   Column             Non-Null Count  Dtype \n",
      "---  ------             --------------  ----- \n",
      " 0   Customer_ID        7043 non-null   object\n",
      " 1   Internet_Service   7043 non-null   object\n",
      " 2   Online_Security    7043 non-null   object\n",
      " 3   Online_Backup      7043 non-null   object\n",
      " 4   Device_Protection  7043 non-null   object\n",
      " 5   Tech_Support       7043 non-null   object\n",
      " 6   Streaming_TV       7043 non-null   object\n",
      " 7   Streaming_Movies   7043 non-null   object\n",
      "dtypes: object(8)\n",
      "memory usage: 440.3+ KB\n",
      "     Customer_ID Internet_Service Online_Security Online_Backup  \\\n",
      "563   9450-TRJUU      Fiber optic              No            No   \n",
      "3681  7508-DQAKK              DSL             Yes           Yes   \n",
      "5481  6304-IJFSQ              DSL              No           Yes   \n",
      "1805  7401-JIXNM              DSL             Yes           Yes   \n",
      "476   0795-LAFGP              DSL             Yes           Yes   \n",
      "\n",
      "     Device_Protection Tech_Support Streaming_TV Streaming_Movies  \n",
      "563                 No           No          Yes               No  \n",
      "3681               Yes          Yes          Yes              Yes  \n",
      "5481                No           No           No               No  \n",
      "1805               Yes          Yes          Yes              Yes  \n",
      "476                Yes          Yes          Yes              Yes  \n"
     ]
    }
   ],
   "source": [
    "# Rellenar dataframe de internet con valores de quienes no tengan esta servicio con valores negativos\n",
    "\n",
    "# Encontrar los 'customerID' de df_personal que no están en df_internet\n",
    "clientes_sin_internet = df_personal[~df_personal['Customer_ID'].isin(df_internet['Customer_ID'])]\n",
    "\n",
    "# Mostrar los customerID que no están en df_internet\n",
    "print(f\"Clientes sin servicio de Internet: {len(clientes_sin_internet)}\")\n",
    "\n",
    "# Crear un nuevo DataFrame para los clientes que no están en df_internet\n",
    "# Rellenar las columnas de servicios de Internet con 'No'\n",
    "nueva_fila = clientes_sin_internet[['Customer_ID']].copy()\n",
    "nueva_fila['Internet_Service'] = 'No'\n",
    "nueva_fila['Online_Security'] = 'No'\n",
    "nueva_fila['Online_Backup'] = 'No'\n",
    "nueva_fila['Device_Protection'] = 'No'\n",
    "nueva_fila['Tech_Support'] = 'No'\n",
    "nueva_fila['Streaming_TV'] = 'No'\n",
    "nueva_fila['Streaming_Movies'] = 'No'\n",
    "\n",
    "# Agregar las nuevas filas al DataFrame df_internet\n",
    "df_internet = pd.concat([df_internet, nueva_fila], ignore_index=True)\n",
    "df_internet.info()\n",
    "print(df_internet.sample(5))"
   ]
  },
  {
   "cell_type": "code",
   "execution_count": 29,
   "metadata": {},
   "outputs": [
    {
     "name": "stdout",
     "output_type": "stream",
     "text": [
      "Clientes sin servicio de Internet: 682\n",
      "<class 'pandas.core.frame.DataFrame'>\n",
      "RangeIndex: 7043 entries, 0 to 7042\n",
      "Data columns (total 2 columns):\n",
      " #   Column          Non-Null Count  Dtype \n",
      "---  ------          --------------  ----- \n",
      " 0   Customer_ID     7043 non-null   object\n",
      " 1   Multiple_Lines  7043 non-null   object\n",
      "dtypes: object(2)\n",
      "memory usage: 110.2+ KB\n",
      "     Customer_ID Multiple_Lines\n",
      "3796  2642-MAWLJ             No\n",
      "3732  7184-LRUUR             No\n",
      "3661  2984-MIIZL             No\n",
      "5709  1597-LHYNC            Yes\n",
      "4659  1156-ZFYDO             No\n"
     ]
    }
   ],
   "source": [
    "# Rellenar dataframe de telefono con valores de quienes no tengan esta servicio con valores negativos\n",
    "# Encontrar los 'customerID' de df_personal que no están en df_phone\n",
    "clientes_sin_telefono = df_personal[~df_personal['Customer_ID'].isin(df_phone['Customer_ID'])]\n",
    "\n",
    "# Mostrar los customerID que no están en df_phone\n",
    "print(f\"Clientes sin servicio de Internet: {len(clientes_sin_telefono)}\")\n",
    "\n",
    "# Crear un nuevo DataFrame para los clientes que no están en df_internet\n",
    "# Rellenar las columnas de servicios de Internet con 'No'\n",
    "nueva_fila = clientes_sin_telefono[['Customer_ID']].copy()\n",
    "nueva_fila['Multiple_Lines'] = 'No'\n",
    "\n",
    "# Agregar las nuevas filas al DataFrame df_phone\n",
    "df_phone = pd.concat([df_phone, nueva_fila], ignore_index=True)\n",
    "df_phone.info()\n",
    "print(df_phone.sample(5))"
   ]
  },
  {
   "cell_type": "code",
   "execution_count": 30,
   "metadata": {},
   "outputs": [
    {
     "name": "stdout",
     "output_type": "stream",
     "text": [
      "<class 'pandas.core.frame.DataFrame'>\n",
      "Int64Index: 7043 entries, 0 to 7042\n",
      "Data columns (total 20 columns):\n",
      " #   Column             Non-Null Count  Dtype         \n",
      "---  ------             --------------  -----         \n",
      " 0   Customer_ID        7043 non-null   object        \n",
      " 1   Begin_Date         7043 non-null   datetime64[ns]\n",
      " 2   End_Date           7043 non-null   datetime64[ns]\n",
      " 3   Type               7043 non-null   object        \n",
      " 4   Paperless_Billing  7043 non-null   object        \n",
      " 5   Payment_Method     7043 non-null   object        \n",
      " 6   Monthly_Charges    7043 non-null   float64       \n",
      " 7   Total_Charges      7043 non-null   float64       \n",
      " 8   Gender             7043 non-null   object        \n",
      " 9   Senior_Citizen     7043 non-null   int64         \n",
      " 10  Partner            7043 non-null   object        \n",
      " 11  Dependents         7043 non-null   object        \n",
      " 12  Internet_Service   7043 non-null   object        \n",
      " 13  Online_Security    7043 non-null   object        \n",
      " 14  Online_Backup      7043 non-null   object        \n",
      " 15  Device_Protection  7043 non-null   object        \n",
      " 16  Tech_Support       7043 non-null   object        \n",
      " 17  Streaming_TV       7043 non-null   object        \n",
      " 18  Streaming_Movies   7043 non-null   object        \n",
      " 19  Multiple_Lines     7043 non-null   object        \n",
      "dtypes: datetime64[ns](2), float64(2), int64(1), object(15)\n",
      "memory usage: 1.1+ MB\n"
     ]
    }
   ],
   "source": [
    "# Juntamos los 4 dataframes en un solo dataframe general usando 'Customer_ID' como clave\n",
    "df = pd.merge(df_contract, df_personal, on='Customer_ID', how='inner')\n",
    "\n",
    "# Combinar el resultado con df_internet\n",
    "df = pd.merge(df, df_internet, on='Customer_ID', how='inner')\n",
    "\n",
    "# Combinar el resultado con df_phone\n",
    "df = pd.merge(df, df_phone, on='Customer_ID', how='inner')\n",
    "\n",
    "df.info()"
   ]
  },
  {
   "cell_type": "code",
   "execution_count": 31,
   "metadata": {},
   "outputs": [
    {
     "name": "stdout",
     "output_type": "stream",
     "text": [
      "Cantidad de valores únicos en 'Customer_ID': 7043\n"
     ]
    }
   ],
   "source": [
    "# Contar la cantidad de valores únicos en la columna 'customerID'\n",
    "clientes_unicos = df['Customer_ID'].nunique()\n",
    "print(f\"Cantidad de valores únicos en 'Customer_ID': {clientes_unicos}\")"
   ]
  },
  {
   "cell_type": "code",
   "execution_count": 32,
   "metadata": {},
   "outputs": [
    {
     "name": "stdout",
     "output_type": "stream",
     "text": [
      "     Customer_ID Begin_Date   End_Date            Type Paperless_Billing  \\\n",
      "1900  0754-EEBDC 2019-10-01 1900-01-01        Two year                No   \n",
      "3603  1501-SGHBW 2019-08-01 2019-10-01  Month-to-month                No   \n",
      "3428  8749-JMNKX 2015-08-01 2019-11-01  Month-to-month               Yes   \n",
      "4764  2962-XPMCQ 2019-11-01 2020-01-01  Month-to-month               Yes   \n",
      "277   3179-GBRWV 2018-05-01 1900-01-01  Month-to-month               Yes   \n",
      "\n",
      "                 Payment_Method  Monthly_Charges  Total_Charges Gender  \\\n",
      "1900               Mailed check            19.90          76.65   Male   \n",
      "3603               Mailed check            45.85          81.00   Male   \n",
      "3428  Bank transfer (automatic)            93.80        4750.95   Male   \n",
      "4764           Electronic check            45.15          98.50   Male   \n",
      "277   Bank transfer (automatic)            64.95        1339.80   Male   \n",
      "\n",
      "      Senior_Citizen Partner Dependents Internet_Service Online_Security  \\\n",
      "1900               0     Yes        Yes               No              No   \n",
      "3603               0      No         No              DSL              No   \n",
      "3428               1     Yes         No      Fiber optic             Yes   \n",
      "4764               0      No         No              DSL              No   \n",
      "277                1     Yes         No              DSL             Yes   \n",
      "\n",
      "     Online_Backup Device_Protection Tech_Support Streaming_TV  \\\n",
      "1900            No                No           No           No   \n",
      "3603            No                No           No           No   \n",
      "3428            No               Yes           No          Yes   \n",
      "4764            No                No           No           No   \n",
      "277            Yes                No           No           No   \n",
      "\n",
      "     Streaming_Movies Multiple_Lines  \n",
      "1900               No             No  \n",
      "3603               No             No  \n",
      "3428               No            Yes  \n",
      "4764               No             No  \n",
      "277               Yes             No  \n"
     ]
    }
   ],
   "source": [
    "print(df.sample(5))"
   ]
  },
  {
   "cell_type": "markdown",
   "metadata": {},
   "source": [
    "<div class=\"alert alert-block alert-success\">\n",
    "<b>Comentarios del Revisor</b> <a class=\"tocSkip\"></a><br>\n",
    "Quiero darte un consejo útil: en lugar de usar la función `print` para mostrar tus DataFrames en Jupyter Notebook, simplemente escribe el nombre del DataFrame en una celda.\n",
    "\n",
    "En otras palabras, en lugar de hacer esto:\n",
    "\n",
    "```python\n",
    "print(mi_dataframe)\n",
    "```\n",
    "\n",
    "Puedes hacer esto en una celda por separado:\n",
    "\n",
    "```python\n",
    "mi_dataframe\n",
    "```\n",
    "\n",
    "Cuando lo haces de esta manera, Jupyter Notebook interpreta y muestra tus DataFrames de una manera más agradable, haciéndolos más fáciles de leer. No es necesario usar `print` en este caso.\n",
    "\n",
    "Espero que esta sugerencia te ayude a trabajar de manera más eficiente en tus proyectos. ¡Sigue adelante y sigue aprendiendo!\n",
    "</div>\n"
   ]
  },
  {
   "cell_type": "markdown",
   "metadata": {},
   "source": [
    "<div class=\"alert alert-block alert-success\">\n",
    "<b>Comentario del revisor</b> <a class=“tocSkip”></a>\n",
    "\n",
    "¡Felicidades por completar esta sección con éxito! Has hecho un gran trabajo. Los valores esperados para esta sección se han cumplido con éxito gracias a tu dedicación y esfuerzo. Continúa así y sigue aprendiendo, ¡estoy seguro de que tendrás éxito en todo lo que te propongas!</div>\n"
   ]
  },
  {
   "cell_type": "markdown",
   "metadata": {},
   "source": [
    "## EDA: Demostración visual"
   ]
  },
  {
   "cell_type": "markdown",
   "metadata": {},
   "source": [
    "Este análisis exploratorio de datos (EDA) con visualizaciones puede ayudarnos a no solo entender mejor el comportamiento de los clientes sino al deducir información relevante sobre la cancelación de servicios en Interconnect, en la que nos podemos enfocar en los siguientes aspectos clave:"
   ]
  },
  {
   "cell_type": "markdown",
   "metadata": {},
   "source": [
    "####  Número de clientes dados de baja\n",
    "Hay que definir primero la cantidad de clientes que tienen ya establecida una fecha de cancelación de uso de servicios, esto es para enfocarnos particularmente en este grupo e identificar posteriormente que fue lo que los hizo retirarse. En el siguiente gráfico, se puede observar que el número de clientes que decide retirarse es aproximadamente del 26.5%. "
   ]
  },
  {
   "cell_type": "code",
   "execution_count": 33,
   "metadata": {},
   "outputs": [
    {
     "data": {
      "image/png": "[encoded data removed]",
      "text/plain": [
       "<Figure size 1000x500 with 1 Axes>"
      ]
     },
     "metadata": {},
     "output_type": "display_data"
    }
   ],
   "source": [
    "# Crear una nueva columna que indique si el cliente tiene fecha de baja\n",
    "df['Tiene_Baja'] = df['End_Date'] != '1900-01-01'\n",
    "\n",
    "# Contar cuantos clientes tienen o no tienen fecha de baja\n",
    "clientes_baja = df['Tiene_Baja'].value_counts()\n",
    "\n",
    "plt.figure(figsize=(10, 5))\n",
    "ax = clientes_baja.plot(kind='bar', color=['#1f77b4', '#ff7f0e'])\n",
    "\n",
    "# Agregar los numeros encima de las barras\n",
    "for i, count in enumerate(clientes_baja):\n",
    "    ax.text(i, count + 50, str(count), ha='center', fontsize=12)\n",
    "\n",
    "plt.title('Número de Clientes con y sin Fecha de Baja', fontsize=14)\n",
    "plt.ylabel('Número de Clientes', fontsize=12)\n",
    "plt.xticks(ticks=[0, 1], labels=['Sin Fecha de Baja', 'Con Fecha de Baja'], rotation=0, fontsize=12)\n",
    "\n",
    "plt.show()"
   ]
  },
  {
   "cell_type": "markdown",
   "metadata": {},
   "source": [
    "####  Tipo de contrato de los clientes.\n",
    "Es importante definir que tipo de contrato tienen los clientes para saber su preferencia y al mismo tiempo cuántos de cada uno de ellos tiene la mayor tasa de cancelación. En este caso, se puede observar que hay mayor número de cancelaciones por parte de los clientes que solo adquieren el servicio durante un mes, esto puede a dar a entender que es por la falta de calidad de los servicios que no fue superada por su expectativa inicial o puede ser por el costo de estos mismos. "
   ]
  },
  {
   "cell_type": "code",
   "execution_count": 34,
   "metadata": {},
   "outputs": [
    {
     "data": {
      "image/png": "[encoded data removed]",
      "text/plain": [
       "<Figure size 1000x600 with 1 Axes>"
      ]
     },
     "metadata": {},
     "output_type": "display_data"
    }
   ],
   "source": [
    "# Contar el numero de clientes por tipo de plan\n",
    "clientes_por_tipo_plan = df['Type'].value_counts()\n",
    "\n",
    "# Contar cuantos de ellos tienen fecha de cancelacion\n",
    "clientes_con_cancelacion = df[df['End_Date'] != '1900-01-01']['Type'].value_counts()\n",
    "\n",
    "# Crear un DataFrame para facilitar la comparación\n",
    "datos = pd.DataFrame({\n",
    "    'Total Clientes': clientes_por_tipo_plan,\n",
    "    'Clientes con Cancelación': clientes_con_cancelacion\n",
    "}).fillna(0)  # Llenar con 0 donde no hay cancelaciones\n",
    "\n",
    "plt.figure(figsize=(10, 6))\n",
    "bar_width = 0.4\n",
    "x = range(len(datos))\n",
    "\n",
    "plt.bar(x, datos['Total Clientes'], width=bar_width, label='Total Clientes', color='#1f77b4', edgecolor='black', alpha=0.6)\n",
    "plt.bar(x, datos['Clientes con Cancelación'], width=bar_width, label='Clientes con Cancelación', color='#ff7f0e', edgecolor='black', alpha=0.8)\n",
    "\n",
    "plt.title('Número de Clientes por Tipo de Plan', fontsize=14)\n",
    "plt.xlabel('Tipo de Plan', fontsize=12)\n",
    "plt.ylabel('Número de Clientes', fontsize=12)\n",
    "\n",
    "plt.xticks(x, datos.index, rotation=45)\n",
    "plt.legend()\n",
    "plt.grid(axis='y', alpha=0.75)\n",
    "\n",
    "for i in x:\n",
    "    plt.text(i, datos['Total Clientes'][i] + 5, int(datos['Total Clientes'][i]), ha='center', va='bottom')\n",
    "    plt.text(i, datos['Clientes con Cancelación'][i] + 5, int(datos['Clientes con Cancelación'][i]), ha='center', va='bottom')\n",
    "\n",
    "plt.tight_layout()\n",
    "plt.show()"
   ]
  },
  {
   "cell_type": "markdown",
   "metadata": {},
   "source": [
    "####  Número de clientes con fecha próxima de cancelación\n",
    "Es de suma importancia verificar que tan próxima esta la fecha de término de servicio no solo para preguntar si el cliente desea renovar el contrato o no sino también para verificar si el cliente ha estado contento con los servicios, obtener sugerencias de su parte y también otorgarle promociones. Por esta razón, a continuación se observa los meses en donde hay mayor cantidad de bajas, esto para que se considere realizar una estrategia de marketing y generar promociones que sean atractivas para los clientes."
   ]
  },
  {
   "cell_type": "code",
   "execution_count": 35,
   "metadata": {
    "scrolled": true
   },
   "outputs": [
    {
     "name": "stderr",
     "output_type": "stream",
     "text": [
      "/tmp/ipykernel_228/2744465599.py:5: SettingWithCopyWarning: \n",
      "A value is trying to be set on a copy of a slice from a DataFrame.\n",
      "Try using .loc[row_indexer,col_indexer] = value instead\n",
      "\n",
      "See the caveats in the documentation: https://pandas.pydata.org/pandas-docs/stable/user_guide/indexing.html#returning-a-view-versus-a-copy\n",
      "  df_filtered['End_Month'] = df_filtered['End_Date'].dt.month_name()  # Nombre del mes\n"
     ]
    },
    {
     "data": {
      "image/png": "[encoded data removed]",
      "text/plain": [
       "<Figure size 1000x400 with 1 Axes>"
      ]
     },
     "metadata": {},
     "output_type": "display_data"
    },
    {
     "name": "stdout",
     "output_type": "stream",
     "text": [
      "January     460.0\n",
      "October     458.0\n",
      "November    485.0\n",
      "December    466.0\n",
      "Name: End_Month, dtype: float64\n"
     ]
    }
   ],
   "source": [
    "# Filtrar los clientes que tienen una fecha de baja real\n",
    "df_filtered = df[df['End_Date'] != '1900-01-01']\n",
    "\n",
    "# Extraer el mes de la fecha de baja\n",
    "df_filtered['End_Month'] = df_filtered['End_Date'].dt.month_name()  # Nombre del mes\n",
    "\n",
    "# Contar el numero de bajas por mes\n",
    "bajas_por_mes = df_filtered['End_Month'].value_counts().sort_index()\n",
    "\n",
    "# Reordenar los meses para la visualizacion\n",
    "ordered_months = ['January', 'February', 'March', 'April', 'May', 'June', \n",
    "                  'July', 'August', 'September', 'October', 'November', 'December']\n",
    "bajas_por_mes = bajas_por_mes.reindex(ordered_months)\n",
    "\n",
    "# Filtrar solo los meses con bajas\n",
    "bajas_por_mes = bajas_por_mes[bajas_por_mes > 0]\n",
    "\n",
    "plt.figure(figsize=(10, 4))\n",
    "bajas_por_mes.plot(kind='bar', color='#1f77b4', edgecolor='black')\n",
    "\n",
    "plt.title('Número de Bajas por Mes', fontsize=14)\n",
    "plt.xlabel('Mes', fontsize=12)\n",
    "plt.ylabel('Número de Bajas', fontsize=12)\n",
    "\n",
    "plt.xticks(rotation=45)\n",
    "plt.grid(axis='y', alpha=0.75)\n",
    "plt.show()\n",
    "\n",
    "# Mostrar los conteos de bajas por mes\n",
    "print(bajas_por_mes)"
   ]
  },
  {
   "cell_type": "markdown",
   "metadata": {},
   "source": [
    "####  Distribución de clientes por tipo de servicio contratado y cancelaciones\n",
    "En cuanto a los servicios, es indispensable saber que servicios son los que contratan los clientes para obtener una tendencia hacia donde se pueden dirigir el mayor número de ventas y también promociones. Los siguientes servicios son: instalación de teléfono fijo con y sin líneas múltiples, internet que puede instalarse mediante línea telefónica DSL o fibra óptica. \n",
    "\n",
    "Por otro lado como extras están el software antivirus, soporte técnico, almacenamiento en la nube, streaming tv y directorio de peliculas. A continuación, observamos cuántos clientes cuentan con servicios básicos y extras asi como cuantos de cada uno han decidido retirarse por estos mismos servicios."
   ]
  },
  {
   "cell_type": "code",
   "execution_count": 36,
   "metadata": {},
   "outputs": [
    {
     "data": {
      "image/png": "[encoded data removed]",
      "text/plain": [
       "<Figure size 1800x1000 with 6 Axes>"
      ]
     },
     "metadata": {},
     "output_type": "display_data"
    }
   ],
   "source": [
    "# Lista de servicios a analizar\n",
    "servicios = ['Multiple_Lines', 'Online_Security', 'Online_Backup', 'Device_Protection', 'Tech_Support', 'Streaming_TV', 'Streaming_Movies']\n",
    "\n",
    "# Inicializar listas\n",
    "servicio_labels = []\n",
    "total_tienen_servicio = []\n",
    "total_no_tienen_servicio = []\n",
    "cancelaron_tienen_servicio = []\n",
    "cancelaron_no_tienen_servicio = []\n",
    "\n",
    "# Recorrer cada servicio y calcular las metricas\n",
    "for servicio in servicios:\n",
    "    # Crear una columna temporal que indique si el cliente tiene el servicio\n",
    "    df[servicio + '_Tiene'] = df[servicio].apply(lambda x: 'Sí' if x == 'Yes' else 'No')\n",
    "    \n",
    "    # Contar total de clientes que tienen y no tienen el servicio\n",
    "    total_count = df[servicio + '_Tiene'].value_counts()\n",
    "\n",
    "    # Contar clientes que cancelaron y tienen el servicio\n",
    "    cancel_count_tienen = df[(df['End_Date'] != '1900-01-01') & (df[servicio + '_Tiene'] == 'Sí')].shape[0]\n",
    "    \n",
    "    # Contar clientes que cancelaron y no tienen el servicio\n",
    "    cancel_count_no_tienen = df[(df['End_Date'] != '1900-01-01') & (df[servicio + '_Tiene'] == 'No')].shape[0]\n",
    "\n",
    "    # Agregar los resultados a las listas\n",
    "    servicio_labels.append(servicio)\n",
    "    total_tienen_servicio.append(total_count.get('Sí', 0))\n",
    "    total_no_tienen_servicio.append(total_count.get('No', 0))\n",
    "    cancelaron_tienen_servicio.append(cancel_count_tienen)\n",
    "    cancelaron_no_tienen_servicio.append(cancel_count_no_tienen)\n",
    "\n",
    "# Crear una columna que indique si el cliente tiene o no internet\n",
    "df['Tiene_Internet'] = df['Internet_Service'].apply(lambda x: 'Sí' if x != 'No' else 'No')\n",
    "\n",
    "# Contar cuantos clientes tienen y no tienen internet\n",
    "clientes_internet = df['Tiene_Internet'].value_counts()\n",
    "\n",
    "# Contar cuantos clientes con cancelación tienen y no tienen internet\n",
    "clientes_con_cancelacion_internet = df[(df['End_Date'] != '1900-01-01')]['Tiene_Internet'].value_counts()\n",
    "\n",
    "datos_internet = pd.DataFrame({\n",
    "    'Total Clientes': clientes_internet,\n",
    "    'Clientes con Cancelación': clientes_con_cancelacion_internet\n",
    "}).fillna(0)  # Llenar con 0 donde no hay cancelaciones\n",
    "\n",
    "# Configurar el grafico en bloques de 2x3 (2 filas, 3 columnas)\n",
    "num_filas = 2\n",
    "num_columnas = 3\n",
    "fig, axes = plt.subplots(nrows=num_filas, ncols=num_columnas, figsize=(18, 10))\n",
    "bar_width = 0.35\n",
    "\n",
    "# Recorrer los servicios y graficar cada uno en un bloque\n",
    "for i, servicio in enumerate(servicios):\n",
    "    if i >= num_filas * num_columnas - 1:  # Dejar un espacio para el gráfico de Internet\n",
    "        break\n",
    "\n",
    "    ax = axes[i // num_columnas, i % num_columnas] \n",
    "    index = [0, 1]\n",
    "    \n",
    "    # Barras para clientes que tienen y no tienen el servicio\n",
    "    ax.bar(index, [total_tienen_servicio[i], total_no_tienen_servicio[i]], bar_width, label='Clientes', color='#1f77b4', alpha=0.6, edgecolor='black')\n",
    "    \n",
    "    # Barras para cancelaciones sobre quienes tienen el servicio\n",
    "    ax.bar(index, [cancelaron_tienen_servicio[i], cancelaron_no_tienen_servicio[i]], bar_width, label='Cancelaron', color='#ff7f0e', alpha=0.8, edgecolor='black')\n",
    "    \n",
    "    ax.set_xlabel(f'{servicio}')\n",
    "    ax.set_ylabel('Número de Clientes')\n",
    "    ax.set_title(f'Solicitud y Cancelación de {servicio.replace(\"_\", \" \")} por Clientes')  # Título ajustado\n",
    "    ax.set_xticks(index)\n",
    "    ax.set_xticklabels(['Sí lo tienen', 'No lo tienen'])  # Ajustar etiquetas del eje X\n",
    "    ax.legend()\n",
    "\n",
    "# Agregar el grafico de internet en el ultimo bloque\n",
    "ax_internet = axes[-1, -1]\n",
    "x = range(len(datos_internet))\n",
    "\n",
    "# Barras para clientes con y sin internet\n",
    "ax_internet.bar(x, datos_internet['Total Clientes'], width=bar_width, label='Total Clientes', color='#1f77b4', edgecolor='black', alpha=0.6)\n",
    "ax_internet.bar(x, datos_internet['Clientes con Cancelación'], width=bar_width, label='Clientes con Cancelación', color='#ff7f0e', edgecolor='black', alpha=0.8)\n",
    "\n",
    "# Configuraciones del grafico de internet\n",
    "ax_internet.set_title('Solicitud y Cancelación de Internet por Clientes', fontsize=12)  # Título ajustado\n",
    "ax_internet.set_xlabel('Tiene Internet', fontsize=10)\n",
    "ax_internet.set_ylabel('Número de Clientes', fontsize=10)\n",
    "ax_internet.set_xticks(x)\n",
    "ax_internet.set_xticklabels(['Sí lo tienen', 'No lo tienen'], rotation=0)  # Ajustar etiquetas del eje X\n",
    "ax_internet.legend()\n",
    "\n",
    "# Añadir texto sobre las barras\n",
    "for i in x:\n",
    "    ax_internet.text(i, datos_internet['Total Clientes'][i] + 5, int(datos_internet['Total Clientes'][i]), ha='center', va='bottom')\n",
    "    ax_internet.text(i, datos_internet['Clientes con Cancelación'][i] + 5, int(datos_internet['Clientes con Cancelación'][i]), ha='center', va='bottom')\n",
    "\n",
    "plt.tight_layout()\n",
    "plt.show()"
   ]
  },
  {
   "cell_type": "markdown",
   "metadata": {},
   "source": [
    "En casi todos los servicios, a excepción del internet, hay mayor número de cancelaciones cuando los clientes ni siquiera los han solicitado enfócando el problema entonces en lo que son lo dos servicios básicos de internet y teléfono fijo. Aún no se sabe si el problema está arraigado a que sea la falta de calidad en estos servicios o si es más enfocado a la cuestión el precio de éstos mismos. No obstante sería bueno revisar el punto de calidad para que así se le garantice al cliente que con la compañía obtendrá el mejor de los servicios."
   ]
  },
  {
   "cell_type": "markdown",
   "metadata": {},
   "source": [
    "####  Distribución de clientes por tipo de pago"
   ]
  },
  {
   "cell_type": "markdown",
   "metadata": {},
   "source": [
    "Se está asumiendo que el problema raíz de que la tasa de cancelación aumente es por la calidad de los servicios básicos, no obstante también hay que verificar si por otro lado, los clientes están cancelando debido a los costos de éstos mismos. A continuación, se puede observar dependiendo del plan del cliente los costos mensuales y anuales que éstos representan. De esta manera, nos podemos dar una idea de si el precio está influyendo en que la tasa de cancelación incremente o no."
   ]
  },
  {
   "cell_type": "code",
   "execution_count": 37,
   "metadata": {},
   "outputs": [
    {
     "data": {
      "image/png": "[encoded data removed]",
      "text/plain": [
       "<Figure size 1400x1200 with 6 Axes>"
      ]
     },
     "metadata": {},
     "output_type": "display_data"
    }
   ],
   "source": [
    "# Filtrar por tipo de contrato\n",
    "monthly_customers = df[df['Type'] == 'Month-to-month']\n",
    "one_year_customers = df[df['Type'] == 'One year']\n",
    "two_year_customers = df[df['Type'] == 'Two year']\n",
    "\n",
    "# Crear una figura y subplots para cada plan\n",
    "fig, axs = plt.subplots(3, 2, figsize=(14, 12))\n",
    "\n",
    "# Gráficos para el plan Mensual\n",
    "axs[0, 0].hist(monthly_customers['Monthly_Charges'], bins=20, color='blue', alpha=0.7, edgecolor='black')\n",
    "axs[0, 0].set_title('Costos Mensuales - Plan Mensual')\n",
    "axs[0, 1].hist(monthly_customers['Total_Charges'], bins=20, color='green', alpha=0.7, edgecolor='black')\n",
    "axs[0, 1].set_title('Costos Totales - Plan Mensual')\n",
    "\n",
    "# Gráficos para el plan de 1 Año\n",
    "axs[1, 0].hist(one_year_customers['Monthly_Charges'], bins=20, color='blue', alpha=0.7, edgecolor='black')\n",
    "axs[1, 0].set_title('Costos Mensuales - Plan de 1 Año')\n",
    "axs[1, 1].hist(one_year_customers['Total_Charges'], bins=20, color='green', alpha=0.7, edgecolor='black')\n",
    "axs[1, 1].set_title('Costos Totales - Plan de 1 Año')\n",
    "\n",
    "# Gráficos para el plan de 2 Años\n",
    "axs[2, 0].hist(two_year_customers['Monthly_Charges'], bins=20, color='blue', alpha=0.7, edgecolor='black')\n",
    "axs[2, 0].set_title('Costos Mensuales - Plan de 2 Años')\n",
    "axs[2, 1].hist(two_year_customers['Total_Charges'], bins=20, color='green', alpha=0.7, edgecolor='black')\n",
    "axs[2, 1].set_title('Costos Totales - Plan de 2 Años')\n",
    "\n",
    "# Etiquetas comunes\n",
    "for ax in axs.flat:\n",
    "    ax.set_xlabel('Costo ($)')\n",
    "    ax.set_ylabel('Número de Clientes')\n",
    "\n",
    "plt.tight_layout()\n",
    "plt.show()\n"
   ]
  },
  {
   "cell_type": "markdown",
   "metadata": {},
   "source": [
    "Los gráficos muestran que los clientes de planes mensuales tienden a optar por costos más bajos y acumulan menores costos totales debido a una alta tasa de cancelación temprana. En contraste, los clientes de planes a 1 y 2 años están más dispuestos a pagar costos más altos, tanto mensuales como totales, aunque el número de clientes disminuye a medida que los costos aumentan. Los planes a largo plazo atraen a una clientela más diversa en cuanto a disposición de pago, mientras que los clientes de planes mensuales buscan opciones más económicas y de menor duración."
   ]
  },
  {
   "cell_type": "markdown",
   "metadata": {},
   "source": [
    "####  Distribución de clientes por dependientes, pareja, jubilados y genero\n",
    "Muchas veces sino es que la mayoría, los servicios son usualmente compartidos por más de una persona que lo utiliza. Es por ello que a continuación se realiza este análisis, para dedterminar si estos factores externos a los de la misma compañía infieren en la tasa de cancelación."
   ]
  },
  {
   "cell_type": "code",
   "execution_count": 38,
   "metadata": {},
   "outputs": [
    {
     "data": {
      "image/png": "[encoded data removed]",
      "text/plain": [
       "<Figure size 1500x1000 with 4 Axes>"
      ]
     },
     "metadata": {},
     "output_type": "display_data"
    }
   ],
   "source": [
    "# Definir las categorías a analizar\n",
    "categorias = ['Dependents', 'Partner', 'Senior_Citizen', 'Gender']\n",
    "\n",
    "# Inicializar un diccionario para almacenar los resultados\n",
    "resultados = {}\n",
    "\n",
    "# Recorrer cada categoría y calcular las métricas\n",
    "for categoria in categorias:\n",
    "    # Obtener los valores únicos en cada categoría\n",
    "    valores = df[categoria].unique()\n",
    "    \n",
    "    total_categoria = []\n",
    "    cancelaron_categoria = []\n",
    "    \n",
    "    for valor in valores:\n",
    "        # Contar total de clientes por valor en la categoría\n",
    "        total_count = df[df[categoria] == valor].shape[0]\n",
    "        \n",
    "        # Contar clientes que cancelaron por valor en la categoría\n",
    "        cancel_count = df[(df['End_Date'] != '1900-01-01') & (df[categoria] == valor)].shape[0]\n",
    "\n",
    "        total_categoria.append(total_count)\n",
    "        cancelaron_categoria.append(cancel_count)\n",
    "    \n",
    "    resultados[categoria] = {'valores': valores, 'total': total_categoria, 'cancelaron': cancelaron_categoria}\n",
    "\n",
    "# Crear gráficos para cada categoría\n",
    "fig, axes = plt.subplots(nrows=2, ncols=2, figsize=(15, 10))\n",
    "\n",
    "# Recorrer cada categoría y graficar\n",
    "for i, categoria in enumerate(categorias):\n",
    "    ax = axes[i // 2, i % 2]  # Definir posición en la cuadrícula\n",
    "    \n",
    "    valores = resultados[categoria]['valores']\n",
    "    total = resultados[categoria]['total']\n",
    "    cancelaron = resultados[categoria]['cancelaron']\n",
    "    \n",
    "    index = range(len(valores))\n",
    "    bar_width = 0.4\n",
    "    \n",
    "    # Barras para total de clientes por valor en la categoría\n",
    "    ax.bar(index, total, bar_width, label=f'Clientes por {categoria}', color='#1f77b4', alpha=0.6, edgecolor='black')\n",
    "    \n",
    "    # Barras para clientes que cancelaron por valor en la categoría\n",
    "    ax.bar(index, cancelaron, bar_width, label='Cancelaron', color='#ff7f0e', alpha=0.8, edgecolor='black')\n",
    "    \n",
    "    # Añadir etiquetas y título\n",
    "    ax.set_xlabel(categoria)\n",
    "    ax.set_ylabel('Número de Clientes')\n",
    "    ax.set_title(f'Clientes por {categoria} vs Cancelaciones')\n",
    "    ax.set_xticks(index)\n",
    "    ax.set_xticklabels(valores, rotation=45, ha='right')\n",
    "    ax.legend()\n",
    "\n",
    "# Ajustar el layout\n",
    "plt.tight_layout()\n",
    "plt.show()"
   ]
  },
  {
   "cell_type": "markdown",
   "metadata": {},
   "source": [
    "Los gráficos muestran que los clientes sin dependientes y los ciudadanos mayores tienen una mayor tasa de cancelación en comparación con aquellos con dependientes y los que no son ciudadanos mayores. En cambio, no se observan diferencias significativas en las tasas de cancelación entre clientes con o sin pareja, ni entre géneros, lo que sugiere que estos factores no influyen de manera considerable en las cancelaciones. Por tanto, la presencia de dependientes y la condición de ciudadano mayor parecen ser más relevantes para la tasa de cancelación."
   ]
  },
  {
   "cell_type": "markdown",
   "metadata": {},
   "source": [
    "####  Matriz de correlación de características"
   ]
  },
  {
   "cell_type": "markdown",
   "metadata": {},
   "source": [
    "## Modelo\n",
    "En cuanto al modelo, es necesario definir las caracteristicas a ocupar las cuales con el análisis previo de la información se ha decidido cuales de ellas verdaderamente influyen en que un cliente se retire o permanezca con los servicios proporcionados por la compañía.  \n",
    "\n",
    "Además, en este caso, se ha definido que la característica objetivo sea la columna 'End_Date' es igual a 'Yes' para definir si el cliente se va de la compañía. Para ello lo que se realizará es agregar columnas nuevas al dataframe, donde se desglose la columna 'Begin_Date' en comienzo de año, mes, dia, dia entre semana y fin de semana y tamién una columna donde 'End_Date' esté definida si en ceros y unos donde simbolizan si el cliente se va o no llamada 'Churn' nuestro objetivo. Adicional a esto, es necesario codificar aquellas columnas categóricas con one-hot coding para convertirlas en variables numéricas. "
   ]
  },
  {
   "cell_type": "markdown",
   "metadata": {},
   "source": [
    "### Definición de características y objetivo"
   ]
  },
  {
   "cell_type": "code",
   "execution_count": 39,
   "metadata": {},
   "outputs": [],
   "source": [
    "# Eliminar columnas creadas para el EDA\n",
    "df = df.drop(columns=['Tiene_Baja', 'Multiple_Lines_Tiene','Online_Security_Tiene','Online_Security_Tiene','Online_Backup_Tiene','Device_Protection_Tiene','Tech_Support_Tiene','Streaming_TV_Tiene','Streaming_Movies_Tiene','Tiene_Internet'])"
   ]
  },
  {
   "cell_type": "code",
   "execution_count": 40,
   "metadata": {},
   "outputs": [
    {
     "name": "stdout",
     "output_type": "stream",
     "text": [
      "<class 'pandas.core.frame.DataFrame'>\n",
      "Int64Index: 7043 entries, 0 to 7042\n",
      "Data columns (total 23 columns):\n",
      " #   Column             Non-Null Count  Dtype  \n",
      "---  ------             --------------  -----  \n",
      " 0   Type               7043 non-null   object \n",
      " 1   Paperless_Billing  7043 non-null   object \n",
      " 2   Payment_Method     7043 non-null   object \n",
      " 3   Monthly_Charges    7043 non-null   float64\n",
      " 4   Total_Charges      7043 non-null   float64\n",
      " 5   Gender             7043 non-null   object \n",
      " 6   Senior_Citizen     7043 non-null   int64  \n",
      " 7   Partner            7043 non-null   object \n",
      " 8   Dependents         7043 non-null   object \n",
      " 9   Internet_Service   7043 non-null   object \n",
      " 10  Online_Security    7043 non-null   object \n",
      " 11  Online_Backup      7043 non-null   object \n",
      " 12  Device_Protection  7043 non-null   object \n",
      " 13  Tech_Support       7043 non-null   object \n",
      " 14  Streaming_TV       7043 non-null   object \n",
      " 15  Streaming_Movies   7043 non-null   object \n",
      " 16  Multiple_Lines     7043 non-null   object \n",
      " 17  Churn              7043 non-null   int64  \n",
      " 18  Begin_Year         7043 non-null   int64  \n",
      " 19  Begin_Month        7043 non-null   int64  \n",
      " 20  Begin_Day          7043 non-null   int64  \n",
      " 21  Begin_Weekday      7043 non-null   int64  \n",
      " 22  Begin_Weekend      7043 non-null   int64  \n",
      "dtypes: float64(2), int64(7), object(14)\n",
      "memory usage: 1.3+ MB\n"
     ]
    }
   ],
   "source": [
    "# Crear columna 'Churn' (1 si el cliente se fue, 0 si sigue con la compañía)\n",
    "df['Churn'] = df['End_Date'].apply(lambda x: 1 if x != pd.Timestamp('1900-01-01') else 0)\n",
    "\n",
    "# Convertir la columna 'Begin_Date' a diferentes componentes\n",
    "df['Begin_Year'] = df['Begin_Date'].dt.year\n",
    "df['Begin_Month'] = df['Begin_Date'].dt.month\n",
    "df['Begin_Day'] = df['Begin_Date'].dt.day\n",
    "df['Begin_Weekday'] = df['Begin_Date'].dt.weekday  # 0: Lunes, 6: Domingo\n",
    "df['Begin_Weekend'] = df['Begin_Weekday'].apply(lambda x: 1 if x >= 5 else 0)\n",
    "\n",
    "# Eliminar las columnas de fecha\n",
    "df = df.drop(columns=['Begin_Date', 'End_Date','Customer_ID'])\n",
    "df.info()"
   ]
  },
  {
   "cell_type": "code",
   "execution_count": 41,
   "metadata": {},
   "outputs": [],
   "source": [
    "# Convertir las columnas con \"Yes\" y \"No\" en variables binarias\n",
    "binary_columns = ['Online_Security', 'Online_Backup', \n",
    "                  'Device_Protection', 'Tech_Support', 'Streaming_TV', \n",
    "                  'Streaming_Movies', 'Multiple_Lines', 'Paperless_Billing', 'Partner', 'Dependents']\n",
    "df[binary_columns] = df[binary_columns].replace({'Yes': 1, 'No': 0})\n",
    "\n",
    "# Convertir las columnas categóricas 'Type' e 'Internet_Service' utilizando One-Hot Encoding\n",
    "df = pd.get_dummies(df, columns=['Type', 'Internet_Service','Payment_Method', 'Gender'], drop_first=True)"
   ]
  },
  {
   "cell_type": "code",
   "execution_count": 42,
   "metadata": {},
   "outputs": [
    {
     "data": {
      "image/png": "[encoded data removed]",
      "text/plain": [
       "<Figure size 800x600 with 2 Axes>"
      ]
     },
     "metadata": {},
     "output_type": "display_data"
    }
   ],
   "source": [
    "# Calcular la matriz de correlación\n",
    "correlation_matrix = df.corr()\n",
    "\n",
    "# Extraer la correlación de todas las características con respecto a 'Churn'\n",
    "churn_correlation = correlation_matrix[['Churn']]\n",
    "\n",
    "# Visualizar la correlación con 'Churn'\n",
    "plt.figure(figsize=(8, 6))\n",
    "sns.heatmap(churn_correlation, annot=True, fmt='.2f', cmap='coolwarm', center=0)\n",
    "plt.title('Correlación con la variable objetivo: Churn')\n",
    "plt.show()"
   ]
  },
  {
   "cell_type": "markdown",
   "metadata": {},
   "source": [
    "Primero que nada, hay que destacar que es de suma importancia eliminar aquellas columnas que tengan una correlación de 1 o-1 con la variable objetivo 'Churn' ya que si se incluyen en el modelo esto puede afectar que las predicciones sean exactas. \n",
    "Ahora después de haber analizado este punto, con el objetivo de que el modelo no maneje información irreleevante, se ha decidio que se tienen que retirar del modelo las siguientes columnas ya que no aportarían al resultado de la tasa de cancelación: \n",
    "Aquí algunas sugerencias de características que podrías descartar fácilmente, ya que su correlación con Churn es baja:\n",
    "\n",
    "1. Gender_Male: Correlación = -0.01\n",
    "2. Payment_Method_Mailed check: Correlación = -0.09\n",
    "3. Payment_Method_Credit card (automatic): Correlación = -0.09\n",
    "4. Internet_Service_No: Correlación = -0.23\n",
    "5. Begin_Weekend: Correlación = -0.00\n",
    "6. Begin_Weekday: Correlación = 0.03\n",
    "7. Begin_Day: Correlación = 0.18 (moderadamente baja)\n",
    "8. Payment_Method_Electronic check: Correlación = 0.09\n",
    "9. Senior_Citizen: Correlación = 0.15\n",
    "10. Tech_Support: Correlación = 0.16\n",
    "11. Device_Protection: Correlación = 0.16\n",
    "12. Online_Security: Correlación = -0.08\n",
    "13. Online_Backup: Correlación = -0.08\n",
    "14. Streaming_TV: Correlación = 0.06\n",
    "15. Streaming_Movies: Correlación = 0.04"
   ]
  },
  {
   "cell_type": "code",
   "execution_count": 43,
   "metadata": {},
   "outputs": [],
   "source": [
    "# Omitir las columnas innecesarias\n",
    "df = df.drop(columns=['Gender_Male','Payment_Method_Mailed check','Payment_Method_Credit card (automatic)','Internet_Service_No','Begin_Weekend','Begin_Weekday','Begin_Day','Payment_Method_Electronic check','Senior_Citizen','Tech_Support','Device_Protection','Online_Security','Online_Backup','Streaming_TV','Streaming_Movies'])"
   ]
  },
  {
   "cell_type": "code",
   "execution_count": 44,
   "metadata": {},
   "outputs": [
    {
     "name": "stdout",
     "output_type": "stream",
     "text": [
      "<class 'pandas.core.frame.DataFrame'>\n",
      "Int64Index: 7043 entries, 0 to 7042\n",
      "Data columns (total 12 columns):\n",
      " #   Column                        Non-Null Count  Dtype  \n",
      "---  ------                        --------------  -----  \n",
      " 0   Paperless_Billing             7043 non-null   int64  \n",
      " 1   Monthly_Charges               7043 non-null   float64\n",
      " 2   Total_Charges                 7043 non-null   float64\n",
      " 3   Partner                       7043 non-null   int64  \n",
      " 4   Dependents                    7043 non-null   int64  \n",
      " 5   Multiple_Lines                7043 non-null   int64  \n",
      " 6   Churn                         7043 non-null   int64  \n",
      " 7   Begin_Year                    7043 non-null   int64  \n",
      " 8   Begin_Month                   7043 non-null   int64  \n",
      " 9   Type_One year                 7043 non-null   uint8  \n",
      " 10  Type_Two year                 7043 non-null   uint8  \n",
      " 11  Internet_Service_Fiber optic  7043 non-null   uint8  \n",
      "dtypes: float64(2), int64(7), uint8(3)\n",
      "memory usage: 570.9 KB\n"
     ]
    }
   ],
   "source": [
    "df.info()"
   ]
  },
  {
   "cell_type": "markdown",
   "metadata": {},
   "source": [
    "### Conjuntos de entrenamiento y prueba"
   ]
  },
  {
   "cell_type": "code",
   "execution_count": 45,
   "metadata": {},
   "outputs": [],
   "source": [
    "# Definir características y objetivo\n",
    "features = df.drop(columns=['Churn'])\n",
    "target = df['Churn']"
   ]
  },
  {
   "cell_type": "code",
   "execution_count": 46,
   "metadata": {},
   "outputs": [],
   "source": [
    "# dividir en conjunto de entrenamiento y prueba - 70% entrenamiento y 30% prueba\n",
    "features_train, features_test, target_train, target_test = train_test_split(features, target, test_size=0.3, shuffle=False)"
   ]
  },
  {
   "cell_type": "code",
   "execution_count": 47,
   "metadata": {},
   "outputs": [
    {
     "name": "stdout",
     "output_type": "stream",
     "text": [
      "Tamaño de features_train: (4930, 11)\n",
      "Tamaño de features_test: (2113, 11)\n",
      "Tamaño de target_train: (4930,)\n",
      "Tamaño de target_test: (2113,)\n",
      "\n",
      "\n"
     ]
    }
   ],
   "source": [
    "# verificar tamaño de caracteristicas y objetivos de entrenamiento y prueba\n",
    "print(\"Tamaño de features_train:\", features_train.shape)\n",
    "print(\"Tamaño de features_test:\", features_test.shape)\n",
    "print(\"Tamaño de target_train:\", target_train.shape)\n",
    "print(\"Tamaño de target_test:\", target_test.shape)\n",
    "print(\"\\n\")"
   ]
  },
  {
   "cell_type": "markdown",
   "metadata": {},
   "source": [
    "### Desbalance de clases\n",
    "Es fundamental verificar si existe un desbalance de clases antes de incorporar los datos al modelo, es decir, si hay una diferencia significativa en el número de clientes que deciden cancelar o continuar con el servicio. Esto es importante para evitar un sobreajuste en las predicciones, ya que el modelo podría sesgarse hacia una respuesta debido a la distribución de los datos, es decir, que en realidad la tasa sea mucho menor de lo que aparenta y que la compañía no se tenga que preocupar de perder clientes lo cual es falso."
   ]
  },
  {
   "cell_type": "code",
   "execution_count": 48,
   "metadata": {},
   "outputs": [
    {
     "name": "stdout",
     "output_type": "stream",
     "text": [
      "Conteo de instancias por clase (cliente se da de baja o no):\n",
      "0    5174\n",
      "1    1869\n",
      "Name: Churn, dtype: int64\n"
     ]
    }
   ],
   "source": [
    "# Contamos cuantos clientes tienen actividad y cuantos otros no\n",
    "target_counts = df['Churn'].value_counts()\n",
    "\n",
    "print(\"Conteo de instancias por clase (cliente se da de baja o no):\")\n",
    "print(target_counts)"
   ]
  },
  {
   "cell_type": "markdown",
   "metadata": {},
   "source": [
    "Observamos que el número de clientes que decide quedarse es mayor por un 73% en comparación con los que cancelan demostrando un desbalance entre clases. Para abordar este desbalance, podemos optar por dos enfoques: aumentar el número de clientes que cancelan o reducir el de aquellos que se quedan. Se probarán ambas opciones para determinar cuál es más efectiva para mejorar el rendimiento del modelo."
   ]
  },
  {
   "cell_type": "code",
   "execution_count": 49,
   "metadata": {},
   "outputs": [],
   "source": [
    "# Esta funcion es para poder hacer un sobremuestreo\n",
    "def upsample(features, target, repeat):\n",
    "    features_zeros = features[target == 0]\n",
    "    features_ones = features[target == 1]\n",
    "    target_zeros = target[target == 0]\n",
    "    target_ones = target[target == 1]\n",
    "\n",
    "    features_upsampled = pd.concat([features_zeros] + [features_ones] * repeat)\n",
    "    target_upsampled = pd.concat([target_zeros] + [target_ones] * repeat)\n",
    "\n",
    "    features_upsampled, target_upsampled = shuffle(features_upsampled, target_upsampled, random_state=12345)\n",
    "\n",
    "    return features_upsampled, target_upsampled\n",
    "\n",
    "features_upsampled, target_upsampled = upsample(features_train, target_train, 4)"
   ]
  },
  {
   "cell_type": "code",
   "execution_count": 50,
   "metadata": {},
   "outputs": [],
   "source": [
    "# Esta funcion es para poder hacer un submuestreo\n",
    "def downsample(features, target, fraction):\n",
    "    features_zeros = features[target == 0]\n",
    "    features_ones = features[target == 1]\n",
    "    target_zeros = target[target == 0]\n",
    "    target_ones = target[target == 1]\n",
    "\n",
    "    features_downsampled = pd.concat([features_zeros.sample(frac=fraction, random_state=12345)] + [features_ones])\n",
    "    target_downsampled = pd.concat([target_zeros.sample(frac=fraction, random_state=12345)] + [target_ones])\n",
    "\n",
    "    features_downsampled, target_downsampled = shuffle(features_downsampled, target_downsampled, random_state=12345)\n",
    "\n",
    "    return features_downsampled, target_downsampled\n",
    "\n",
    "\n",
    "features_downsampled, target_downsampled = downsample(features_train, target_train, 0.5)"
   ]
  },
  {
   "cell_type": "markdown",
   "metadata": {},
   "source": [
    "Aplicamos el submuestreo y sobremuestreo solo a las caracteristicas y objetivo del conjunto de entrenamiento."
   ]
  },
  {
   "cell_type": "code",
   "execution_count": 51,
   "metadata": {},
   "outputs": [],
   "source": [
    "features_upsampled, target_upsampled = upsample(features_train, target_train, 4)  # '4' significa que repetirás 4 veces la clase minoritaria"
   ]
  },
  {
   "cell_type": "code",
   "execution_count": 52,
   "metadata": {},
   "outputs": [],
   "source": [
    "features_downsampled, target_downsampled = downsample(features_train, target_train, 0.5)  # '0.5' significa que mantienes el 50% de la clase mayoritaria"
   ]
  },
  {
   "cell_type": "markdown",
   "metadata": {},
   "source": [
    "### Modelo con sobremuestreo de clases y Validación cruzada"
   ]
  },
  {
   "cell_type": "code",
   "execution_count": 53,
   "metadata": {},
   "outputs": [
    {
     "name": "stdout",
     "output_type": "stream",
     "text": [
      "Resultados (sobremuestreo):\n",
      "Accuracy: 0.77\n",
      "Precision: 0.78\n",
      "Recall: 0.86\n",
      "F1 Score: 0.82\n",
      "ROC AUC: 0.84\n"
     ]
    },
    {
     "data": {
      "image/png": "[encoded data removed]",
      "text/plain": [
       "<Figure size 640x480 with 2 Axes>"
      ]
     },
     "metadata": {},
     "output_type": "display_data"
    }
   ],
   "source": [
    "# Modelo con sobremuestreo\n",
    "model = LogisticRegression(random_state=12345, max_iter=1000)\n",
    "\n",
    "# Configurar validación cruzada estratificada\n",
    "skf = StratifiedKFold(n_splits=5, random_state=12345, shuffle=True)\n",
    "\n",
    "# Usar cross_val_predict para obtener predicciones\n",
    "predictions_upsampled = cross_val_predict(model, features_upsampled, target_upsampled, cv=skf)\n",
    "\n",
    "# Calcular métricas\n",
    "accuracy_upsampled = accuracy_score(target_upsampled, predictions_upsampled)\n",
    "precision_upsampled = precision_score(target_upsampled, predictions_upsampled)\n",
    "recall_upsampled = recall_score(target_upsampled, predictions_upsampled)\n",
    "f1_upsampled = f1_score(target_upsampled, predictions_upsampled)\n",
    "roc_auc_upsampled = roc_auc_score(target_upsampled, model.fit(features_upsampled, target_upsampled).predict_proba(features_upsampled)[:, 1])\n",
    "\n",
    "print(f\"Resultados (sobremuestreo):\")\n",
    "print(f\"Accuracy: {accuracy_upsampled:.2f}\")\n",
    "print(f\"Precision: {precision_upsampled:.2f}\")\n",
    "print(f\"Recall: {recall_upsampled:.2f}\")\n",
    "print(f\"F1 Score: {f1_upsampled:.2f}\")\n",
    "print(f\"ROC AUC: {roc_auc_upsampled:.2f}\")\n",
    "\n",
    "# Generar matriz de confusión\n",
    "conf_matrix_upsampled = confusion_matrix(target_upsampled, predictions_upsampled)\n",
    "disp = ConfusionMatrixDisplay(confusion_matrix=conf_matrix_upsampled)\n",
    "disp.plot()\n",
    "plt.title('Matriz de Confusión (Sobremuestreo)')\n",
    "plt.show()"
   ]
  },
  {
   "cell_type": "markdown",
   "metadata": {},
   "source": [
    "### Modelo con submuestreo de clases"
   ]
  },
  {
   "cell_type": "code",
   "execution_count": 54,
   "metadata": {
    "scrolled": true
   },
   "outputs": [
    {
     "name": "stdout",
     "output_type": "stream",
     "text": [
      "Resultados (submuestreo):\n",
      "Accuracy: 0.75\n",
      "Precision: 0.71\n",
      "Recall: 0.67\n",
      "F1 Score: 0.69\n",
      "ROC AUC: 0.83\n"
     ]
    },
    {
     "data": {
      "image/png": "[encoded data removed]",
      "text/plain": [
       "<Figure size 640x480 with 2 Axes>"
      ]
     },
     "metadata": {},
     "output_type": "display_data"
    }
   ],
   "source": [
    "# Modelo con submuestreo\n",
    "model = LogisticRegression(random_state=12345, max_iter=1000)\n",
    "\n",
    "# Usar cross_val_predict para obtener predicciones en submuestreo\n",
    "predictions_downsampled = cross_val_predict(model, features_downsampled, target_downsampled, cv=skf)\n",
    "\n",
    "# Calcular métricas\n",
    "accuracy_downsampled = accuracy_score(target_downsampled, predictions_downsampled)\n",
    "precision_downsampled = precision_score(target_downsampled, predictions_downsampled)\n",
    "recall_downsampled = recall_score(target_downsampled, predictions_downsampled)\n",
    "f1_downsampled = f1_score(target_downsampled, predictions_downsampled)\n",
    "roc_auc_downsampled = roc_auc_score(target_downsampled, model.fit(features_downsampled, target_downsampled).predict_proba(features_downsampled)[:, 1])\n",
    "\n",
    "print(f\"Resultados (submuestreo):\")\n",
    "print(f\"Accuracy: {accuracy_downsampled:.2f}\")\n",
    "print(f\"Precision: {precision_downsampled:.2f}\")\n",
    "print(f\"Recall: {recall_downsampled:.2f}\")\n",
    "print(f\"F1 Score: {f1_downsampled:.2f}\")\n",
    "print(f\"ROC AUC: {roc_auc_downsampled:.2f}\")\n",
    "\n",
    "# Generar matriz de confusión\n",
    "conf_matrix_downsampled = confusion_matrix(target_downsampled, predictions_downsampled)\n",
    "disp_downsampled = ConfusionMatrixDisplay(confusion_matrix=conf_matrix_downsampled)\n",
    "disp_downsampled.plot()\n",
    "plt.title('Matriz de Confusión (Submuestreo)')\n",
    "plt.show()"
   ]
  },
  {
   "cell_type": "markdown",
   "metadata": {},
   "source": [
    "Al hacer la comparación entre los datos obtenidos de las métricas en ambos modelos de sobremuestreo y submuestreo, se observa que el modelo con el sobremuestreo es superior y con mejores valores para accuracy, precision, recall, F1 score, y ROC AUC.\n",
    "Por lo tanto, el modelo de sobremuestreo continúa siendo el más efectivo, especialmente en términos de recall, que es crucial para la identificación de clientes que se dan de baja."
   ]
  },
  {
   "cell_type": "markdown",
   "metadata": {},
   "source": [
    "<div class=\"alert alert-block alert-danger\">\n",
    "<b>Comentario del revisor</b> <a class=\"tocSkip\"></a>\n",
    "\n",
    "He notado que en las secciones 4.4 y 4.5, al entrenar los modelos con sobremuestreo y submuestreo, estás obteniendo métricas de evaluación perfectas, es decir, todos los valores de accuracy, precision, recall, F1 Score y ROC AUC son 1.00. Esto es altamente inusual y sugiere que podría haber algún error en el proceso de modelado.\n",
    "\n",
    "**Por qué no es natural tener siempre 1.00 en las métricas:**\n",
    "\n",
    "- **Fuga de datos (Data Leakage):** Es posible que información del conjunto de prueba esté siendo filtrada al modelo durante el entrenamiento. Por ejemplo, si sin querer incluyes la variable objetivo como una de las características, el modelo aprenderá a predecir perfectamente, pero no será útil en datos nuevos.\n",
    "\n",
    "- **Variables altamente correlacionadas:** Si alguna de las características está directamente correlacionada con la variable objetivo (por ejemplo, una columna que indica directamente si el cliente canceló), el modelo puede predecir con precisión perfecta sin generalizar correctamente.\n",
    "\n",
    "- **Procesamiento indebido de datos:** Si el sobremuestreo o submuestreo se aplica después de dividir los datos en entrenamiento y prueba, y de alguna manera afecta al conjunto de prueba, esto puede causar resultados engañosamente altos.\n",
    "\n",
    "**Cómo revisar y corregir los errores:**\n",
    "\n",
    "1. **Verifica la presencia de Data Leakage:**\n",
    "\n",
    "   - Asegúrate de que no estás incluyendo la variable objetivo 'Churn' o alguna transformación de ella en las características de entrenamiento.\n",
    "\n",
    "\n",
    "2. **Revisa las características utilizadas:**\n",
    "\n",
    "   - Examina la correlación entre las características y la variable objetivo. Si alguna característica tiene una correlación muy cercana a 1 o -1, podría estar causando que el modelo aprenda de forma trivial.\n",
    "   - Específicamente, la columna 'Contract_Duration_Days' podría ser problemática si los clientes que no han cancelado tienen una duración fija (por ejemplo, 0 días) y los que han cancelado tienen otra duración distinta.\n",
    "\n",
    "3. **Aplica el sobremuestreo y submuestreo correctamente:**\n",
    "\n",
    "   - El sobremuestreo y submuestreo deben aplicarse **solo** al conjunto de entrenamiento, **después** de haber dividido los datos en entrenamiento y prueba.\n",
    "   - Asegúrate de que no estás incluyendo datos del conjunto de prueba en el proceso de sobremuestreo o submuestreo.\n",
    "\n",
    "4. **Revisa la validación cruzada:**\n",
    "\n",
    "   - Confirma que la validación cruzada está bien configurada y que no hay mezcla de datos entre los pliegues (folds).\n",
    "   - Considera utilizar `cross_val_predict` para obtener predicciones en el conjunto de entrenamiento y calcular las métricas de manera más realista.\n",
    "\n",
    "5. **Evalúa el modelo con una matriz de confusión:**\n",
    "\n",
    "   - Genera una matriz de confusión para ver cómo se están distribuyendo las predicciones.\n",
    "   - Esto te permitirá identificar si el modelo está prediciendo una sola clase o si realmente está acertando en todas las predicciones.\n",
    "\n"
   ]
  },
  {
   "cell_type": "markdown",
   "metadata": {},
   "source": [
    "<div class=\"alert alert-block alert-info\">\n",
    "<b>Respuesta del estudiante</b> <a class=“tocSkip”></a>\n",
    "    \n",
    "Muchas gracias por las observaciones, me ayudaron mucho a poder identificar mis errores y mejorar mi código. \n",
    "</div>\n"
   ]
  },
  {
   "cell_type": "markdown",
   "metadata": {},
   "source": [
    "## Conclusión"
   ]
  },
  {
   "cell_type": "markdown",
   "metadata": {},
   "source": []
  },
  {
   "cell_type": "markdown",
   "metadata": {},
   "source": [
    "<div class=\"alert alert-block alert-warning\">\n",
    "<b>Comentario final</b> <a class=\"tocSkip\"></a>\n",
    "\n",
    "¡Excelente trabajo, Ilse! Has demostrado habilidades sólidas en análisis y visualización de datos.\n",
    "\n",
    "**Aspectos positivos:**\n",
    "\n",
    "- Realizaste una limpieza y preparación de datos adecuada.\n",
    "- Utilizaste correctamente diversas técnicas de análisis y pruebas estadísticas.\n",
    "- Las visualizaciones son apropiadas y apoyan tus conclusiones.\n",
    "\n",
    "**Sugerencias para mejorar:**\n",
    "\n",
    "- Corregir la sección de sobre muestro y submuestreo en donde haya Precision: 1.00\n",
    "    \n",
    "\n",
    "¡Sigue así y mucho éxito en tus futuros proyectos! 🚀\n",
    "\n",
    "</div>\n"
   ]
  },
  {
   "cell_type": "markdown",
   "metadata": {},
   "source": [
    "En este proyecto, la regresión logística demostró ser un modelo adecuado para predecir la tasa de baja de clientes. Su simplicidad, capacidad de interpretación y eficiencia computacional lo convierten en una herramienta ideal para el análisis de deserción. Este modelo no solo permitió identificar con precisión las características que influyen en la decisión de los clientes de abandonar el servicio, sino que también ofrece probabilidades que pueden ayudar a tomar decisiones estratégicas basadas en datos.\n",
    "\n",
    "Este enfoque proporciona una base sólida para campañas de marketing personalizadas dirigidas a reducir la tasa de deserción. Las empresas pueden centrarse en mejorar los servicios que más afectan la retención de clientes, y al mismo tiempo, realizar promociones específicas para retener a aquellos usuarios con un mayor riesgo de baja.\n",
    "\n"
   ]
  },
  {
   "cell_type": "markdown",
   "metadata": {},
   "source": [
    "# Comentario Final del Revisor \n",
    "<div class=\"alert alert-block alert-success\">\n",
    "<b>Comentario del revisor</b> <a class=\"tocSkip\"></a>\n",
    "\n",
    "¡Hola Ilse! 😊\n",
    "\n",
    "¡Felicidades por completar tu proyecto final! Has realizado un trabajo impresionante al analizar los datos de Interconnect para predecir la tasa de cancelación de clientes. A continuación, te presento mis comentarios:\n",
    "\n",
    "#### Aspectos Positivos:\n",
    "\n",
    "- **Preprocesamiento de datos exhaustivo:** Has demostrado una gran habilidad al limpiar y preparar los datos de múltiples fuentes, manejando valores nulos, duplicados y tipos de datos. La creación de funciones para automatizar este proceso muestra un enfoque eficiente y profesional.\n",
    "\n",
    "- **Análisis Exploratorio de Datos (EDA):** Tu EDA es completo y bien estructurado. Las visualizaciones son claras y ayudan a entender mejor el comportamiento de los clientes. Has identificado correctamente patrones importantes, como la mayor tasa de cancelación en contratos mensuales y entre clientes sin dependientes.\n",
    "\n",
    "- **Manejo del desbalance de clases:** Abordaste adecuadamente el problema del desbalance de clases utilizando técnicas de sobremuestreo y submuestreo, lo cual es esencial para obtener un modelo equilibrado y justo.\n",
    "\n",
    "- **Conclusiones sólidas:** Tus conclusiones están bien fundamentadas y ofrecen recomendaciones prácticas que podrían ayudar a la empresa a reducir la tasa de deserción.\n",
    "\n",
    "\n",
    "#### Áreas para Seguir Investigando:\n",
    "\n",
    "- **Análisis de satisfacción del cliente:** Podrías incorporar datos sobre satisfacción o feedback de los clientes para enriquecer el modelo y hacerlo más predictivo.\n",
    "\n",
    "- **Segmentación de clientes:** Explora la posibilidad de segmentar a los clientes en grupos más pequeños para ofrecer soluciones y estrategias más personalizadas.\n",
    "\n",
    "- **Feature Engineering avanzado:** Investiga técnicas más avanzadas de ingeniería de características, como la creación de variables interactivas o el uso de transformaciones no lineales.\n",
    "\n",
    "¡Sigue adelante! Tu dedicación y esfuerzo se reflejan en este proyecto. Estás en el camino correcto para convertirte en una excelente profesional en ciencia de datos. ¡Mucho éxito en tus futuros proyectos! 🚀🌟\n",
    "\n",
    "</div>\n"
   ]
  }
 ],
 "metadata": {
  "ExecuteTimeLog": [
   {
    "duration": 10,
    "start_time": "2024-09-19T20:20:35.629Z"
   },
   {
    "duration": 277,
    "start_time": "2024-09-19T20:26:08.139Z"
   },
   {
    "duration": 78,
    "start_time": "2024-09-19T20:27:55.415Z"
   },
   {
    "duration": 10,
    "start_time": "2024-09-19T20:28:53.035Z"
   },
   {
    "duration": 10,
    "start_time": "2024-09-19T20:29:12.350Z"
   },
   {
    "duration": 295,
    "start_time": "2024-09-19T20:31:04.822Z"
   },
   {
    "duration": 31,
    "start_time": "2024-09-19T20:31:06.207Z"
   },
   {
    "duration": 26,
    "start_time": "2024-09-19T20:31:08.212Z"
   },
   {
    "duration": 319,
    "start_time": "2024-09-19T20:31:57.498Z"
   },
   {
    "duration": 31,
    "start_time": "2024-09-19T20:31:58.866Z"
   },
   {
    "duration": 26,
    "start_time": "2024-09-19T20:31:59.692Z"
   },
   {
    "duration": 25,
    "start_time": "2024-09-19T20:41:21.633Z"
   },
   {
    "duration": 12,
    "start_time": "2024-09-19T20:41:42.859Z"
   },
   {
    "duration": 378,
    "start_time": "2024-09-19T20:43:47.982Z"
   },
   {
    "duration": 45,
    "start_time": "2024-09-19T20:43:48.793Z"
   },
   {
    "duration": 22,
    "start_time": "2024-09-19T20:43:50.874Z"
   },
   {
    "duration": 23,
    "start_time": "2024-09-19T20:44:22.585Z"
   },
   {
    "duration": 374,
    "start_time": "2024-09-19T20:45:00.383Z"
   },
   {
    "duration": 45,
    "start_time": "2024-09-19T20:45:01.185Z"
   },
   {
    "duration": 24,
    "start_time": "2024-09-19T20:45:01.750Z"
   },
   {
    "duration": 14,
    "start_time": "2024-09-19T20:45:09.726Z"
   },
   {
    "duration": 12,
    "start_time": "2024-09-19T20:45:13.830Z"
   },
   {
    "duration": 12,
    "start_time": "2024-09-19T20:45:14.320Z"
   },
   {
    "duration": 176,
    "start_time": "2024-09-19T22:49:50.750Z"
   },
   {
    "duration": 277,
    "start_time": "2024-09-19T22:50:00.201Z"
   },
   {
    "duration": 67,
    "start_time": "2024-09-19T22:50:02.546Z"
   },
   {
    "duration": 15,
    "start_time": "2024-09-19T22:50:03.873Z"
   },
   {
    "duration": 2,
    "start_time": "2024-09-19T22:55:38.582Z"
   },
   {
    "duration": 174,
    "start_time": "2024-09-19T22:55:44.361Z"
   },
   {
    "duration": 6,
    "start_time": "2024-09-19T22:55:58.774Z"
   },
   {
    "duration": 6,
    "start_time": "2024-09-19T22:56:18.399Z"
   },
   {
    "duration": 295,
    "start_time": "2024-09-19T22:59:51.714Z"
   },
   {
    "duration": 31,
    "start_time": "2024-09-19T22:59:53.121Z"
   },
   {
    "duration": 15,
    "start_time": "2024-09-19T23:00:05.531Z"
   },
   {
    "duration": 3,
    "start_time": "2024-09-19T23:00:09.842Z"
   },
   {
    "duration": 6,
    "start_time": "2024-09-19T23:00:20.239Z"
   },
   {
    "duration": 273,
    "start_time": "2024-09-19T23:14:08.097Z"
   },
   {
    "duration": 37,
    "start_time": "2024-09-19T23:14:09.256Z"
   },
   {
    "duration": 3,
    "start_time": "2024-09-19T23:14:14.215Z"
   },
   {
    "duration": 17,
    "start_time": "2024-09-19T23:14:17.804Z"
   },
   {
    "duration": 2,
    "start_time": "2024-09-19T23:14:20.741Z"
   },
   {
    "duration": 6,
    "start_time": "2024-09-19T23:14:22.351Z"
   },
   {
    "duration": 698,
    "start_time": "2024-09-19T23:14:28.198Z"
   },
   {
    "duration": 276,
    "start_time": "2024-09-19T23:26:53.977Z"
   },
   {
    "duration": 35,
    "start_time": "2024-09-19T23:26:54.684Z"
   },
   {
    "duration": 2,
    "start_time": "2024-09-19T23:27:21.204Z"
   },
   {
    "duration": 3,
    "start_time": "2024-09-19T23:27:31.685Z"
   },
   {
    "duration": 3,
    "start_time": "2024-09-19T23:27:33.179Z"
   },
   {
    "duration": 15,
    "start_time": "2024-09-19T23:27:35.147Z"
   },
   {
    "duration": 2,
    "start_time": "2024-09-19T23:27:38.749Z"
   },
   {
    "duration": 5,
    "start_time": "2024-09-19T23:27:39.777Z"
   },
   {
    "duration": 2309,
    "start_time": "2024-09-19T23:29:14.529Z"
   },
   {
    "duration": 85,
    "start_time": "2024-09-19T23:29:21.173Z"
   },
   {
    "duration": 253,
    "start_time": "2024-09-19T23:29:46.806Z"
   },
   {
    "duration": 31,
    "start_time": "2024-09-19T23:29:47.933Z"
   },
   {
    "duration": 2,
    "start_time": "2024-09-19T23:29:48.888Z"
   },
   {
    "duration": 3,
    "start_time": "2024-09-19T23:29:49.412Z"
   },
   {
    "duration": 2,
    "start_time": "2024-09-19T23:29:49.896Z"
   },
   {
    "duration": 15,
    "start_time": "2024-09-19T23:29:53.834Z"
   },
   {
    "duration": 2,
    "start_time": "2024-09-19T23:30:03.204Z"
   },
   {
    "duration": 5,
    "start_time": "2024-09-19T23:30:04.099Z"
   },
   {
    "duration": 1864,
    "start_time": "2024-09-19T23:30:14.750Z"
   },
   {
    "duration": 7,
    "start_time": "2024-09-19T23:30:51.157Z"
   },
   {
    "duration": 312,
    "start_time": "2024-09-19T23:32:46.648Z"
   },
   {
    "duration": 31,
    "start_time": "2024-09-19T23:32:47.637Z"
   },
   {
    "duration": 3,
    "start_time": "2024-09-19T23:32:48.643Z"
   },
   {
    "duration": 3,
    "start_time": "2024-09-19T23:32:50.186Z"
   },
   {
    "duration": 3,
    "start_time": "2024-09-19T23:32:51.715Z"
   },
   {
    "duration": 17,
    "start_time": "2024-09-19T23:33:00.190Z"
   },
   {
    "duration": 2,
    "start_time": "2024-09-19T23:33:09.351Z"
   },
   {
    "duration": 5,
    "start_time": "2024-09-19T23:33:09.934Z"
   },
   {
    "duration": 1877,
    "start_time": "2024-09-19T23:33:11.185Z"
   },
   {
    "duration": 14,
    "start_time": "2024-09-19T23:33:57.829Z"
   },
   {
    "duration": 12,
    "start_time": "2024-09-19T23:34:17.469Z"
   },
   {
    "duration": 280,
    "start_time": "2024-09-19T23:34:37.183Z"
   },
   {
    "duration": 32,
    "start_time": "2024-09-19T23:34:37.787Z"
   },
   {
    "duration": 2,
    "start_time": "2024-09-19T23:34:38.149Z"
   },
   {
    "duration": 3,
    "start_time": "2024-09-19T23:34:38.433Z"
   },
   {
    "duration": 2,
    "start_time": "2024-09-19T23:34:39.455Z"
   },
   {
    "duration": 15,
    "start_time": "2024-09-19T23:34:43.101Z"
   },
   {
    "duration": 11,
    "start_time": "2024-09-19T23:35:01.665Z"
   },
   {
    "duration": 276,
    "start_time": "2024-09-19T23:35:13.702Z"
   },
   {
    "duration": 29,
    "start_time": "2024-09-19T23:35:14.092Z"
   },
   {
    "duration": 2,
    "start_time": "2024-09-19T23:35:14.441Z"
   },
   {
    "duration": 3,
    "start_time": "2024-09-19T23:35:14.942Z"
   },
   {
    "duration": 3,
    "start_time": "2024-09-19T23:35:15.202Z"
   },
   {
    "duration": 16,
    "start_time": "2024-09-19T23:35:15.819Z"
   },
   {
    "duration": 2,
    "start_time": "2024-09-19T23:35:16.168Z"
   },
   {
    "duration": 5,
    "start_time": "2024-09-19T23:35:16.940Z"
   },
   {
    "duration": 1824,
    "start_time": "2024-09-19T23:35:18.271Z"
   },
   {
    "duration": 322,
    "start_time": "2024-09-19T23:39:47.637Z"
   },
   {
    "duration": 32,
    "start_time": "2024-09-19T23:39:48.480Z"
   },
   {
    "duration": 2,
    "start_time": "2024-09-19T23:39:49.391Z"
   },
   {
    "duration": 3,
    "start_time": "2024-09-19T23:39:50.649Z"
   },
   {
    "duration": 3,
    "start_time": "2024-09-19T23:39:51.099Z"
   },
   {
    "duration": 15,
    "start_time": "2024-09-19T23:39:52.606Z"
   },
   {
    "duration": 6,
    "start_time": "2024-09-19T23:41:18.507Z"
   },
   {
    "duration": 4,
    "start_time": "2024-09-19T23:41:28.562Z"
   },
   {
    "duration": 10,
    "start_time": "2024-09-19T23:42:41.595Z"
   },
   {
    "duration": 272,
    "start_time": "2024-09-19T23:45:31.991Z"
   },
   {
    "duration": 30,
    "start_time": "2024-09-19T23:45:32.668Z"
   },
   {
    "duration": 3,
    "start_time": "2024-09-19T23:45:34.779Z"
   },
   {
    "duration": 3,
    "start_time": "2024-09-19T23:45:35.364Z"
   },
   {
    "duration": 2,
    "start_time": "2024-09-19T23:45:37.424Z"
   },
   {
    "duration": 15,
    "start_time": "2024-09-19T23:45:38.287Z"
   },
   {
    "duration": 6,
    "start_time": "2024-09-19T23:45:43.353Z"
   },
   {
    "duration": 201,
    "start_time": "2024-09-19T23:45:57.908Z"
   },
   {
    "duration": 12,
    "start_time": "2024-09-19T23:46:15.831Z"
   },
   {
    "duration": 11,
    "start_time": "2024-09-19T23:46:27.696Z"
   },
   {
    "duration": 310,
    "start_time": "2024-09-19T23:49:24.952Z"
   },
   {
    "duration": 30,
    "start_time": "2024-09-19T23:49:25.281Z"
   },
   {
    "duration": 2,
    "start_time": "2024-09-19T23:49:25.463Z"
   },
   {
    "duration": 3,
    "start_time": "2024-09-19T23:49:26.029Z"
   },
   {
    "duration": 2,
    "start_time": "2024-09-19T23:49:26.503Z"
   },
   {
    "duration": 15,
    "start_time": "2024-09-19T23:49:29.075Z"
   },
   {
    "duration": 4,
    "start_time": "2024-09-19T23:49:30.468Z"
   },
   {
    "duration": 13,
    "start_time": "2024-09-19T23:49:32.142Z"
   },
   {
    "duration": 700,
    "start_time": "2024-09-19T23:50:01.058Z"
   },
   {
    "duration": 288,
    "start_time": "2024-09-19T23:51:42.272Z"
   },
   {
    "duration": 31,
    "start_time": "2024-09-19T23:51:43.807Z"
   },
   {
    "duration": 3,
    "start_time": "2024-09-19T23:51:44.422Z"
   },
   {
    "duration": 4,
    "start_time": "2024-09-19T23:51:45.198Z"
   },
   {
    "duration": 3,
    "start_time": "2024-09-19T23:51:46.536Z"
   },
   {
    "duration": 15,
    "start_time": "2024-09-19T23:51:48.235Z"
   },
   {
    "duration": 5,
    "start_time": "2024-09-19T23:52:00.710Z"
   },
   {
    "duration": 12,
    "start_time": "2024-09-19T23:52:02.773Z"
   },
   {
    "duration": 716,
    "start_time": "2024-09-19T23:52:07.484Z"
   },
   {
    "duration": 46,
    "start_time": "2024-09-19T23:53:21.249Z"
   },
   {
    "duration": 15,
    "start_time": "2024-09-19T23:53:58.193Z"
   },
   {
    "duration": 3,
    "start_time": "2024-09-19T23:54:06.431Z"
   },
   {
    "duration": 299,
    "start_time": "2024-09-19T23:54:49.731Z"
   },
   {
    "duration": 30,
    "start_time": "2024-09-19T23:54:50.687Z"
   },
   {
    "duration": 3,
    "start_time": "2024-09-19T23:54:51.182Z"
   },
   {
    "duration": 3,
    "start_time": "2024-09-19T23:54:51.683Z"
   },
   {
    "duration": 2,
    "start_time": "2024-09-19T23:54:52.184Z"
   },
   {
    "duration": 15,
    "start_time": "2024-09-19T23:54:53.227Z"
   },
   {
    "duration": 6,
    "start_time": "2024-09-19T23:54:57.513Z"
   },
   {
    "duration": 17,
    "start_time": "2024-09-19T23:54:58.833Z"
   },
   {
    "duration": 5,
    "start_time": "2024-09-19T23:55:02.640Z"
   },
   {
    "duration": 10,
    "start_time": "2024-09-19T23:55:04.043Z"
   },
   {
    "duration": 11,
    "start_time": "2024-09-19T23:56:17.143Z"
   },
   {
    "duration": 301,
    "start_time": "2024-09-19T23:56:48.957Z"
   },
   {
    "duration": 32,
    "start_time": "2024-09-19T23:56:49.999Z"
   },
   {
    "duration": 3,
    "start_time": "2024-09-19T23:56:50.464Z"
   },
   {
    "duration": 4,
    "start_time": "2024-09-19T23:56:50.767Z"
   },
   {
    "duration": 3,
    "start_time": "2024-09-19T23:56:51.113Z"
   },
   {
    "duration": 14,
    "start_time": "2024-09-19T23:56:52.977Z"
   },
   {
    "duration": 5,
    "start_time": "2024-09-19T23:56:56.343Z"
   },
   {
    "duration": 12,
    "start_time": "2024-09-19T23:57:04.741Z"
   },
   {
    "duration": 5,
    "start_time": "2024-09-19T23:57:05.545Z"
   },
   {
    "duration": 9,
    "start_time": "2024-09-19T23:57:08.254Z"
   },
   {
    "duration": 12,
    "start_time": "2024-09-19T23:57:18.736Z"
   },
   {
    "duration": 313,
    "start_time": "2024-09-19T23:57:41.233Z"
   },
   {
    "duration": 29,
    "start_time": "2024-09-19T23:57:41.770Z"
   },
   {
    "duration": 3,
    "start_time": "2024-09-19T23:57:42.066Z"
   },
   {
    "duration": 5,
    "start_time": "2024-09-19T23:57:42.339Z"
   },
   {
    "duration": 2,
    "start_time": "2024-09-19T23:57:42.492Z"
   },
   {
    "duration": 15,
    "start_time": "2024-09-19T23:57:42.804Z"
   },
   {
    "duration": 5,
    "start_time": "2024-09-19T23:57:43.125Z"
   },
   {
    "duration": 14,
    "start_time": "2024-09-19T23:57:43.316Z"
   },
   {
    "duration": 6,
    "start_time": "2024-09-19T23:57:43.515Z"
   },
   {
    "duration": 10,
    "start_time": "2024-09-19T23:57:44.955Z"
   },
   {
    "duration": 11,
    "start_time": "2024-09-19T23:57:49.336Z"
   },
   {
    "duration": 277,
    "start_time": "2024-09-20T00:00:58.511Z"
   },
   {
    "duration": 30,
    "start_time": "2024-09-20T00:00:58.850Z"
   },
   {
    "duration": 2,
    "start_time": "2024-09-20T00:00:59.020Z"
   },
   {
    "duration": 3,
    "start_time": "2024-09-20T00:00:59.193Z"
   },
   {
    "duration": 2,
    "start_time": "2024-09-20T00:00:59.386Z"
   },
   {
    "duration": 15,
    "start_time": "2024-09-20T00:01:00.038Z"
   },
   {
    "duration": 7,
    "start_time": "2024-09-20T00:01:01.233Z"
   },
   {
    "duration": 13,
    "start_time": "2024-09-20T00:01:01.783Z"
   },
   {
    "duration": 5,
    "start_time": "2024-09-20T00:01:02.653Z"
   },
   {
    "duration": 10,
    "start_time": "2024-09-20T00:01:03.590Z"
   },
   {
    "duration": 180,
    "start_time": "2024-09-20T00:01:26.612Z"
   },
   {
    "duration": 15,
    "start_time": "2024-09-20T00:01:34.414Z"
   },
   {
    "duration": 316,
    "start_time": "2024-09-20T00:02:07.631Z"
   },
   {
    "duration": 31,
    "start_time": "2024-09-20T00:02:08.477Z"
   },
   {
    "duration": 2,
    "start_time": "2024-09-20T00:02:08.797Z"
   },
   {
    "duration": 4,
    "start_time": "2024-09-20T00:02:08.946Z"
   },
   {
    "duration": 2,
    "start_time": "2024-09-20T00:02:09.099Z"
   },
   {
    "duration": 16,
    "start_time": "2024-09-20T00:02:09.516Z"
   },
   {
    "duration": 5,
    "start_time": "2024-09-20T00:02:10.366Z"
   },
   {
    "duration": 15,
    "start_time": "2024-09-20T00:02:10.704Z"
   },
   {
    "duration": 6,
    "start_time": "2024-09-20T00:02:13.051Z"
   },
   {
    "duration": 13,
    "start_time": "2024-09-20T00:02:13.884Z"
   },
   {
    "duration": 12,
    "start_time": "2024-09-20T00:02:25.789Z"
   },
   {
    "duration": 306,
    "start_time": "2024-09-20T00:03:03.759Z"
   },
   {
    "duration": 29,
    "start_time": "2024-09-20T00:03:04.487Z"
   },
   {
    "duration": 2,
    "start_time": "2024-09-20T00:03:04.783Z"
   },
   {
    "duration": 4,
    "start_time": "2024-09-20T00:03:05.318Z"
   },
   {
    "duration": 2,
    "start_time": "2024-09-20T00:03:05.790Z"
   },
   {
    "duration": 17,
    "start_time": "2024-09-20T00:03:06.715Z"
   },
   {
    "duration": 5,
    "start_time": "2024-09-20T00:03:12.197Z"
   },
   {
    "duration": 13,
    "start_time": "2024-09-20T00:03:14.269Z"
   },
   {
    "duration": 6,
    "start_time": "2024-09-20T00:03:17.262Z"
   },
   {
    "duration": 9,
    "start_time": "2024-09-20T00:03:18.726Z"
   },
   {
    "duration": 11,
    "start_time": "2024-09-20T00:03:28.954Z"
   },
   {
    "duration": 11,
    "start_time": "2024-09-20T00:04:06.371Z"
   },
   {
    "duration": 279,
    "start_time": "2024-09-20T00:11:04.799Z"
   },
   {
    "duration": 31,
    "start_time": "2024-09-20T00:11:05.126Z"
   },
   {
    "duration": 3,
    "start_time": "2024-09-20T00:11:05.282Z"
   },
   {
    "duration": 4,
    "start_time": "2024-09-20T00:11:05.433Z"
   },
   {
    "duration": 3,
    "start_time": "2024-09-20T00:11:05.596Z"
   },
   {
    "duration": 15,
    "start_time": "2024-09-20T00:11:06.307Z"
   },
   {
    "duration": 6,
    "start_time": "2024-09-20T00:11:07.767Z"
   },
   {
    "duration": 15,
    "start_time": "2024-09-20T00:11:08.041Z"
   },
   {
    "duration": 5,
    "start_time": "2024-09-20T00:11:10.779Z"
   },
   {
    "duration": 17,
    "start_time": "2024-09-20T00:11:12.246Z"
   },
   {
    "duration": 12,
    "start_time": "2024-09-20T00:11:25.613Z"
   },
   {
    "duration": 4,
    "start_time": "2024-09-20T00:11:39.849Z"
   },
   {
    "duration": 312,
    "start_time": "2024-09-20T00:12:51.551Z"
   },
   {
    "duration": 41,
    "start_time": "2024-09-20T00:12:51.890Z"
   },
   {
    "duration": 3,
    "start_time": "2024-09-20T00:12:52.034Z"
   },
   {
    "duration": 3,
    "start_time": "2024-09-20T00:12:52.204Z"
   },
   {
    "duration": 3,
    "start_time": "2024-09-20T00:12:52.402Z"
   },
   {
    "duration": 19,
    "start_time": "2024-09-20T00:12:53.403Z"
   },
   {
    "duration": 5,
    "start_time": "2024-09-20T00:12:57.344Z"
   },
   {
    "duration": 13,
    "start_time": "2024-09-20T00:12:57.851Z"
   },
   {
    "duration": 6,
    "start_time": "2024-09-20T00:12:58.107Z"
   },
   {
    "duration": 17,
    "start_time": "2024-09-20T00:12:58.619Z"
   },
   {
    "duration": 13,
    "start_time": "2024-09-20T00:13:08.007Z"
   },
   {
    "duration": 3,
    "start_time": "2024-09-20T00:13:16.562Z"
   },
   {
    "duration": 15,
    "start_time": "2024-09-20T00:13:17.976Z"
   },
   {
    "duration": 14,
    "start_time": "2024-09-20T00:13:32.411Z"
   },
   {
    "duration": 177,
    "start_time": "2024-09-20T00:17:39.902Z"
   },
   {
    "duration": 26,
    "start_time": "2024-09-20T00:19:23.321Z"
   },
   {
    "duration": 312,
    "start_time": "2024-09-20T00:20:22.729Z"
   },
   {
    "duration": 30,
    "start_time": "2024-09-20T00:20:23.056Z"
   },
   {
    "duration": 2,
    "start_time": "2024-09-20T00:20:23.217Z"
   },
   {
    "duration": 4,
    "start_time": "2024-09-20T00:20:23.352Z"
   },
   {
    "duration": 3,
    "start_time": "2024-09-20T00:20:23.507Z"
   },
   {
    "duration": 16,
    "start_time": "2024-09-20T00:20:24.080Z"
   },
   {
    "duration": 7,
    "start_time": "2024-09-20T00:20:25.015Z"
   },
   {
    "duration": 14,
    "start_time": "2024-09-20T00:20:25.366Z"
   },
   {
    "duration": 6,
    "start_time": "2024-09-20T00:20:25.640Z"
   },
   {
    "duration": 18,
    "start_time": "2024-09-20T00:20:25.980Z"
   },
   {
    "duration": 13,
    "start_time": "2024-09-20T00:20:29.214Z"
   },
   {
    "duration": 4,
    "start_time": "2024-09-20T00:20:29.471Z"
   },
   {
    "duration": 16,
    "start_time": "2024-09-20T00:20:29.769Z"
   },
   {
    "duration": 11,
    "start_time": "2024-09-20T00:20:34.144Z"
   },
   {
    "duration": 17,
    "start_time": "2024-09-20T00:20:46.066Z"
   },
   {
    "duration": 9,
    "start_time": "2024-09-20T00:23:28.701Z"
   },
   {
    "duration": 11,
    "start_time": "2024-09-20T00:23:43.649Z"
   },
   {
    "duration": 281,
    "start_time": "2024-09-20T00:27:13.380Z"
   },
   {
    "duration": 31,
    "start_time": "2024-09-20T00:27:13.682Z"
   },
   {
    "duration": 3,
    "start_time": "2024-09-20T00:27:13.816Z"
   },
   {
    "duration": 5,
    "start_time": "2024-09-20T00:27:13.953Z"
   },
   {
    "duration": 2,
    "start_time": "2024-09-20T00:27:14.096Z"
   },
   {
    "duration": 15,
    "start_time": "2024-09-20T00:27:14.372Z"
   },
   {
    "duration": 5,
    "start_time": "2024-09-20T00:27:14.631Z"
   },
   {
    "duration": 12,
    "start_time": "2024-09-20T00:27:14.774Z"
   },
   {
    "duration": 5,
    "start_time": "2024-09-20T00:27:14.904Z"
   },
   {
    "duration": 16,
    "start_time": "2024-09-20T00:27:15.041Z"
   },
   {
    "duration": 12,
    "start_time": "2024-09-20T00:27:15.323Z"
   },
   {
    "duration": 3,
    "start_time": "2024-09-20T00:27:15.445Z"
   },
   {
    "duration": 14,
    "start_time": "2024-09-20T00:27:15.586Z"
   },
   {
    "duration": 12,
    "start_time": "2024-09-20T00:27:15.871Z"
   },
   {
    "duration": 16,
    "start_time": "2024-09-20T00:27:16.162Z"
   },
   {
    "duration": 10,
    "start_time": "2024-09-20T00:27:16.443Z"
   },
   {
    "duration": 10,
    "start_time": "2024-09-20T00:27:16.592Z"
   },
   {
    "duration": 3,
    "start_time": "2024-09-20T00:27:20.277Z"
   },
   {
    "duration": 25,
    "start_time": "2024-09-20T00:27:21.332Z"
   },
   {
    "duration": 2811,
    "start_time": "2024-09-20T00:32:17.730Z"
   },
   {
    "duration": 40,
    "start_time": "2024-09-20T00:32:20.544Z"
   },
   {
    "duration": 3,
    "start_time": "2024-09-20T00:32:20.586Z"
   },
   {
    "duration": 4,
    "start_time": "2024-09-20T00:32:20.591Z"
   },
   {
    "duration": 3,
    "start_time": "2024-09-20T00:32:20.597Z"
   },
   {
    "duration": 35,
    "start_time": "2024-09-20T00:32:20.601Z"
   },
   {
    "duration": 6,
    "start_time": "2024-09-20T00:32:21.290Z"
   },
   {
    "duration": 14,
    "start_time": "2024-09-20T00:32:22.121Z"
   },
   {
    "duration": 6,
    "start_time": "2024-09-20T00:32:22.441Z"
   },
   {
    "duration": 19,
    "start_time": "2024-09-20T00:32:22.798Z"
   },
   {
    "duration": 13,
    "start_time": "2024-09-20T00:32:24.419Z"
   },
   {
    "duration": 5,
    "start_time": "2024-09-20T00:32:24.756Z"
   },
   {
    "duration": 16,
    "start_time": "2024-09-20T00:32:24.994Z"
   },
   {
    "duration": 13,
    "start_time": "2024-09-20T00:32:25.341Z"
   },
   {
    "duration": 18,
    "start_time": "2024-09-20T00:32:25.904Z"
   },
   {
    "duration": 11,
    "start_time": "2024-09-20T00:32:26.250Z"
   },
   {
    "duration": 11,
    "start_time": "2024-09-20T00:32:26.483Z"
   },
   {
    "duration": 3,
    "start_time": "2024-09-20T00:32:27.856Z"
   },
   {
    "duration": 27,
    "start_time": "2024-09-20T00:32:29.419Z"
   },
   {
    "duration": 2656,
    "start_time": "2024-09-20T19:57:43.444Z"
   },
   {
    "duration": 74,
    "start_time": "2024-09-20T19:57:48.579Z"
   },
   {
    "duration": 2,
    "start_time": "2024-09-20T19:57:58.915Z"
   },
   {
    "duration": 4,
    "start_time": "2024-09-20T19:58:01.008Z"
   },
   {
    "duration": 4,
    "start_time": "2024-09-20T19:58:03.851Z"
   },
   {
    "duration": 15,
    "start_time": "2024-09-20T19:58:05.272Z"
   },
   {
    "duration": 5,
    "start_time": "2024-09-20T20:03:43.799Z"
   },
   {
    "duration": 13,
    "start_time": "2024-09-20T20:03:45.342Z"
   },
   {
    "duration": 5,
    "start_time": "2024-09-20T20:03:52.223Z"
   },
   {
    "duration": 7,
    "start_time": "2024-09-20T20:03:53.759Z"
   },
   {
    "duration": 16,
    "start_time": "2024-09-20T20:03:56.037Z"
   },
   {
    "duration": 977,
    "start_time": "2024-09-20T20:04:41.217Z"
   },
   {
    "duration": 31,
    "start_time": "2024-09-20T20:04:42.196Z"
   },
   {
    "duration": 2,
    "start_time": "2024-09-20T20:04:42.229Z"
   },
   {
    "duration": 4,
    "start_time": "2024-09-20T20:04:42.544Z"
   },
   {
    "duration": 3,
    "start_time": "2024-09-20T20:04:43.571Z"
   },
   {
    "duration": 15,
    "start_time": "2024-09-20T20:04:46.368Z"
   },
   {
    "duration": 5,
    "start_time": "2024-09-20T20:05:01.638Z"
   },
   {
    "duration": 17,
    "start_time": "2024-09-20T20:05:01.825Z"
   },
   {
    "duration": 6,
    "start_time": "2024-09-20T20:05:06.109Z"
   },
   {
    "duration": 235,
    "start_time": "2024-09-20T20:05:06.868Z"
   },
   {
    "duration": 334,
    "start_time": "2024-09-20T20:05:13.361Z"
   },
   {
    "duration": 36,
    "start_time": "2024-09-20T20:05:27.457Z"
   },
   {
    "duration": 207,
    "start_time": "2024-09-20T20:05:37.278Z"
   },
   {
    "duration": 950,
    "start_time": "2024-09-20T20:06:03.435Z"
   },
   {
    "duration": 32,
    "start_time": "2024-09-20T20:06:04.388Z"
   },
   {
    "duration": 4,
    "start_time": "2024-09-20T20:06:06.409Z"
   },
   {
    "duration": 3,
    "start_time": "2024-09-20T20:06:09.991Z"
   },
   {
    "duration": 3,
    "start_time": "2024-09-20T20:06:10.758Z"
   },
   {
    "duration": 15,
    "start_time": "2024-09-20T20:06:11.665Z"
   },
   {
    "duration": 5,
    "start_time": "2024-09-20T20:06:19.458Z"
   },
   {
    "duration": 14,
    "start_time": "2024-09-20T20:06:19.900Z"
   },
   {
    "duration": 6,
    "start_time": "2024-09-20T20:06:21.784Z"
   },
   {
    "duration": 11,
    "start_time": "2024-09-20T20:06:22.452Z"
   },
   {
    "duration": 18,
    "start_time": "2024-09-20T20:06:27.585Z"
   },
   {
    "duration": 974,
    "start_time": "2024-09-20T20:10:37.996Z"
   },
   {
    "duration": 31,
    "start_time": "2024-09-20T20:10:45.646Z"
   },
   {
    "duration": 3,
    "start_time": "2024-09-20T20:10:46.549Z"
   },
   {
    "duration": 3,
    "start_time": "2024-09-20T20:10:48.643Z"
   },
   {
    "duration": 3,
    "start_time": "2024-09-20T20:10:51.828Z"
   },
   {
    "duration": 3,
    "start_time": "2024-09-20T20:10:53.310Z"
   },
   {
    "duration": 15,
    "start_time": "2024-09-20T20:10:57.111Z"
   },
   {
    "duration": 5,
    "start_time": "2024-09-20T20:11:46.014Z"
   },
   {
    "duration": 14,
    "start_time": "2024-09-20T20:11:49.814Z"
   },
   {
    "duration": 6,
    "start_time": "2024-09-20T20:11:54.109Z"
   },
   {
    "duration": 6,
    "start_time": "2024-09-20T20:11:55.279Z"
   },
   {
    "duration": 17,
    "start_time": "2024-09-20T20:11:56.497Z"
   },
   {
    "duration": 11,
    "start_time": "2024-09-20T20:12:15.432Z"
   },
   {
    "duration": 3,
    "start_time": "2024-09-20T20:12:25.982Z"
   },
   {
    "duration": 7,
    "start_time": "2024-09-20T20:12:36.001Z"
   },
   {
    "duration": 15,
    "start_time": "2024-09-20T20:12:38.878Z"
   },
   {
    "duration": 12,
    "start_time": "2024-09-20T20:12:46.158Z"
   },
   {
    "duration": 6,
    "start_time": "2024-09-20T20:20:16.735Z"
   },
   {
    "duration": 19,
    "start_time": "2024-09-20T20:20:34.535Z"
   },
   {
    "duration": 9,
    "start_time": "2024-09-20T20:21:05.181Z"
   },
   {
    "duration": 6,
    "start_time": "2024-09-20T20:22:39.273Z"
   },
   {
    "duration": 11,
    "start_time": "2024-09-20T20:22:41.670Z"
   },
   {
    "duration": 988,
    "start_time": "2024-09-20T20:54:55.598Z"
   },
   {
    "duration": 37,
    "start_time": "2024-09-20T20:54:57.488Z"
   },
   {
    "duration": 2,
    "start_time": "2024-09-20T20:54:57.766Z"
   },
   {
    "duration": 4,
    "start_time": "2024-09-20T20:54:58.146Z"
   },
   {
    "duration": 2,
    "start_time": "2024-09-20T20:54:58.484Z"
   },
   {
    "duration": 3,
    "start_time": "2024-09-20T20:54:58.983Z"
   },
   {
    "duration": 15,
    "start_time": "2024-09-20T20:54:59.757Z"
   },
   {
    "duration": 5,
    "start_time": "2024-09-20T20:55:00.717Z"
   },
   {
    "duration": 13,
    "start_time": "2024-09-20T20:55:01.028Z"
   },
   {
    "duration": 5,
    "start_time": "2024-09-20T20:55:01.745Z"
   },
   {
    "duration": 7,
    "start_time": "2024-09-20T20:55:03.298Z"
   },
   {
    "duration": 19,
    "start_time": "2024-09-20T20:55:03.457Z"
   },
   {
    "duration": 12,
    "start_time": "2024-09-20T20:55:04.014Z"
   },
   {
    "duration": 3,
    "start_time": "2024-09-20T20:55:04.227Z"
   },
   {
    "duration": 6,
    "start_time": "2024-09-20T20:55:04.423Z"
   },
   {
    "duration": 16,
    "start_time": "2024-09-20T20:55:04.654Z"
   },
   {
    "duration": 11,
    "start_time": "2024-09-20T20:55:05.204Z"
   },
   {
    "duration": 6,
    "start_time": "2024-09-20T20:55:06.401Z"
   },
   {
    "duration": 17,
    "start_time": "2024-09-20T20:55:07.557Z"
   },
   {
    "duration": 13,
    "start_time": "2024-09-20T20:55:08.439Z"
   },
   {
    "duration": 6,
    "start_time": "2024-09-20T20:55:10.278Z"
   },
   {
    "duration": 10,
    "start_time": "2024-09-20T20:55:10.483Z"
   },
   {
    "duration": 16,
    "start_time": "2024-09-20T20:55:34.674Z"
   },
   {
    "duration": 997,
    "start_time": "2024-09-20T20:56:20.808Z"
   },
   {
    "duration": 36,
    "start_time": "2024-09-20T20:56:21.807Z"
   },
   {
    "duration": 3,
    "start_time": "2024-09-20T20:56:21.845Z"
   },
   {
    "duration": 3,
    "start_time": "2024-09-20T20:56:21.852Z"
   },
   {
    "duration": 3,
    "start_time": "2024-09-20T20:56:21.856Z"
   },
   {
    "duration": 3,
    "start_time": "2024-09-20T20:56:21.861Z"
   },
   {
    "duration": 14,
    "start_time": "2024-09-20T20:56:21.894Z"
   },
   {
    "duration": 6,
    "start_time": "2024-09-20T20:56:22.172Z"
   },
   {
    "duration": 13,
    "start_time": "2024-09-20T20:56:22.322Z"
   },
   {
    "duration": 5,
    "start_time": "2024-09-20T20:56:22.507Z"
   },
   {
    "duration": 6,
    "start_time": "2024-09-20T20:56:22.679Z"
   },
   {
    "duration": 16,
    "start_time": "2024-09-20T20:56:22.814Z"
   },
   {
    "duration": 11,
    "start_time": "2024-09-20T20:56:23.080Z"
   },
   {
    "duration": 3,
    "start_time": "2024-09-20T20:56:23.227Z"
   },
   {
    "duration": 6,
    "start_time": "2024-09-20T20:56:23.360Z"
   },
   {
    "duration": 14,
    "start_time": "2024-09-20T20:56:23.499Z"
   },
   {
    "duration": 12,
    "start_time": "2024-09-20T20:56:23.783Z"
   },
   {
    "duration": 6,
    "start_time": "2024-09-20T20:56:24.067Z"
   },
   {
    "duration": 16,
    "start_time": "2024-09-20T20:56:24.351Z"
   },
   {
    "duration": 9,
    "start_time": "2024-09-20T20:56:24.663Z"
   },
   {
    "duration": 6,
    "start_time": "2024-09-20T20:56:24.996Z"
   },
   {
    "duration": 11,
    "start_time": "2024-09-20T20:56:25.135Z"
   },
   {
    "duration": 3,
    "start_time": "2024-09-20T20:56:28.622Z"
   },
   {
    "duration": 17,
    "start_time": "2024-09-20T20:56:30.602Z"
   },
   {
    "duration": 6,
    "start_time": "2024-09-20T20:57:34.698Z"
   },
   {
    "duration": 1006,
    "start_time": "2024-09-20T20:58:25.188Z"
   },
   {
    "duration": 34,
    "start_time": "2024-09-20T20:58:26.197Z"
   },
   {
    "duration": 3,
    "start_time": "2024-09-20T20:58:26.233Z"
   },
   {
    "duration": 3,
    "start_time": "2024-09-20T20:58:26.238Z"
   },
   {
    "duration": 4,
    "start_time": "2024-09-20T20:58:26.243Z"
   },
   {
    "duration": 3,
    "start_time": "2024-09-20T20:58:26.249Z"
   },
   {
    "duration": 16,
    "start_time": "2024-09-20T20:58:26.546Z"
   },
   {
    "duration": 6,
    "start_time": "2024-09-20T20:58:26.814Z"
   },
   {
    "duration": 21,
    "start_time": "2024-09-20T20:58:27.007Z"
   },
   {
    "duration": 6,
    "start_time": "2024-09-20T20:58:29.064Z"
   },
   {
    "duration": 10,
    "start_time": "2024-09-20T20:58:29.353Z"
   },
   {
    "duration": 19,
    "start_time": "2024-09-20T20:58:29.877Z"
   },
   {
    "duration": 13,
    "start_time": "2024-09-20T20:58:30.335Z"
   },
   {
    "duration": 3,
    "start_time": "2024-09-20T20:58:30.624Z"
   },
   {
    "duration": 7,
    "start_time": "2024-09-20T20:58:30.804Z"
   },
   {
    "duration": 15,
    "start_time": "2024-09-20T20:58:31.590Z"
   },
   {
    "duration": 11,
    "start_time": "2024-09-20T20:58:34.080Z"
   },
   {
    "duration": 5,
    "start_time": "2024-09-20T20:58:39.105Z"
   },
   {
    "duration": 17,
    "start_time": "2024-09-20T20:58:42.189Z"
   },
   {
    "duration": 10,
    "start_time": "2024-09-20T20:58:45.870Z"
   },
   {
    "duration": 6,
    "start_time": "2024-09-20T20:58:58.192Z"
   },
   {
    "duration": 11,
    "start_time": "2024-09-20T20:58:58.965Z"
   },
   {
    "duration": 18,
    "start_time": "2024-09-20T20:59:25.549Z"
   },
   {
    "duration": 18,
    "start_time": "2024-09-20T20:59:34.886Z"
   },
   {
    "duration": 17,
    "start_time": "2024-09-20T20:59:37.881Z"
   },
   {
    "duration": 20,
    "start_time": "2024-09-20T20:59:40.391Z"
   },
   {
    "duration": 984,
    "start_time": "2024-09-20T21:01:16.573Z"
   },
   {
    "duration": 33,
    "start_time": "2024-09-20T21:01:17.559Z"
   },
   {
    "duration": 3,
    "start_time": "2024-09-20T21:01:17.594Z"
   },
   {
    "duration": 3,
    "start_time": "2024-09-20T21:01:17.599Z"
   },
   {
    "duration": 3,
    "start_time": "2024-09-20T21:01:17.604Z"
   },
   {
    "duration": 3,
    "start_time": "2024-09-20T21:01:17.608Z"
   },
   {
    "duration": 16,
    "start_time": "2024-09-20T21:01:17.677Z"
   },
   {
    "duration": 6,
    "start_time": "2024-09-20T21:01:17.946Z"
   },
   {
    "duration": 12,
    "start_time": "2024-09-20T21:01:18.078Z"
   },
   {
    "duration": 5,
    "start_time": "2024-09-20T21:01:18.200Z"
   },
   {
    "duration": 7,
    "start_time": "2024-09-20T21:01:18.334Z"
   },
   {
    "duration": 16,
    "start_time": "2024-09-20T21:01:18.495Z"
   },
   {
    "duration": 13,
    "start_time": "2024-09-20T21:01:18.791Z"
   },
   {
    "duration": 3,
    "start_time": "2024-09-20T21:01:18.937Z"
   },
   {
    "duration": 6,
    "start_time": "2024-09-20T21:01:19.167Z"
   },
   {
    "duration": 14,
    "start_time": "2024-09-20T21:01:19.333Z"
   },
   {
    "duration": 12,
    "start_time": "2024-09-20T21:01:20.364Z"
   },
   {
    "duration": 7,
    "start_time": "2024-09-20T21:01:20.675Z"
   },
   {
    "duration": 17,
    "start_time": "2024-09-20T21:01:20.974Z"
   },
   {
    "duration": 9,
    "start_time": "2024-09-20T21:01:24.404Z"
   },
   {
    "duration": 8,
    "start_time": "2024-09-20T21:01:30.439Z"
   },
   {
    "duration": 12,
    "start_time": "2024-09-20T21:01:30.824Z"
   },
   {
    "duration": 19,
    "start_time": "2024-09-20T21:01:35.665Z"
   },
   {
    "duration": 15,
    "start_time": "2024-09-20T21:02:05.003Z"
   },
   {
    "duration": 27,
    "start_time": "2024-09-20T21:02:31.980Z"
   },
   {
    "duration": 5,
    "start_time": "2024-09-20T21:02:40.075Z"
   },
   {
    "duration": 1003,
    "start_time": "2024-09-20T21:13:02.109Z"
   },
   {
    "duration": 39,
    "start_time": "2024-09-20T21:13:03.114Z"
   },
   {
    "duration": 3,
    "start_time": "2024-09-20T21:13:03.155Z"
   },
   {
    "duration": 3,
    "start_time": "2024-09-20T21:13:03.338Z"
   },
   {
    "duration": 3,
    "start_time": "2024-09-20T21:13:03.855Z"
   },
   {
    "duration": 3,
    "start_time": "2024-09-20T21:13:04.788Z"
   },
   {
    "duration": 4,
    "start_time": "2024-09-20T21:13:05.933Z"
   },
   {
    "duration": 14,
    "start_time": "2024-09-20T21:13:07.799Z"
   },
   {
    "duration": 3,
    "start_time": "2024-09-20T21:13:55.675Z"
   },
   {
    "duration": 621,
    "start_time": "2024-09-20T21:13:56.544Z"
   },
   {
    "duration": 0,
    "start_time": "2024-09-20T21:13:57.167Z"
   },
   {
    "duration": 41,
    "start_time": "2024-09-20T21:13:57.359Z"
   },
   {
    "duration": 954,
    "start_time": "2024-09-20T21:15:13.294Z"
   },
   {
    "duration": 31,
    "start_time": "2024-09-20T21:15:14.250Z"
   },
   {
    "duration": 2,
    "start_time": "2024-09-20T21:15:14.283Z"
   },
   {
    "duration": 4,
    "start_time": "2024-09-20T21:15:14.468Z"
   },
   {
    "duration": 2,
    "start_time": "2024-09-20T21:15:15.072Z"
   },
   {
    "duration": 3,
    "start_time": "2024-09-20T21:15:15.539Z"
   },
   {
    "duration": 4,
    "start_time": "2024-09-20T21:15:15.892Z"
   },
   {
    "duration": 15,
    "start_time": "2024-09-20T21:15:16.842Z"
   },
   {
    "duration": 3,
    "start_time": "2024-09-20T21:15:20.167Z"
   },
   {
    "duration": 5,
    "start_time": "2024-09-20T21:15:21.287Z"
   },
   {
    "duration": 13,
    "start_time": "2024-09-20T21:15:24.976Z"
   },
   {
    "duration": 5,
    "start_time": "2024-09-20T21:15:27.213Z"
   },
   {
    "duration": 7,
    "start_time": "2024-09-20T21:15:43.607Z"
   },
   {
    "duration": 18,
    "start_time": "2024-09-20T21:15:45.564Z"
   },
   {
    "duration": 964,
    "start_time": "2024-09-20T21:18:40.879Z"
   },
   {
    "duration": 31,
    "start_time": "2024-09-20T21:18:41.845Z"
   },
   {
    "duration": 3,
    "start_time": "2024-09-20T21:18:41.878Z"
   },
   {
    "duration": 3,
    "start_time": "2024-09-20T21:18:41.883Z"
   },
   {
    "duration": 3,
    "start_time": "2024-09-20T21:18:42.200Z"
   },
   {
    "duration": 3,
    "start_time": "2024-09-20T21:18:42.725Z"
   },
   {
    "duration": 3,
    "start_time": "2024-09-20T21:18:43.371Z"
   },
   {
    "duration": 15,
    "start_time": "2024-09-20T21:18:44.640Z"
   },
   {
    "duration": 3,
    "start_time": "2024-09-20T21:18:46.543Z"
   },
   {
    "duration": 5,
    "start_time": "2024-09-20T21:18:47.598Z"
   },
   {
    "duration": 13,
    "start_time": "2024-09-20T21:18:49.543Z"
   },
   {
    "duration": 5,
    "start_time": "2024-09-20T21:18:51.487Z"
   },
   {
    "duration": 8,
    "start_time": "2024-09-20T21:18:52.501Z"
   },
   {
    "duration": 16,
    "start_time": "2024-09-20T21:18:53.315Z"
   },
   {
    "duration": 11,
    "start_time": "2024-09-20T21:19:03.516Z"
   },
   {
    "duration": 3,
    "start_time": "2024-09-20T21:20:00.311Z"
   },
   {
    "duration": 4,
    "start_time": "2024-09-20T21:20:01.209Z"
   },
   {
    "duration": 6,
    "start_time": "2024-09-20T21:20:01.724Z"
   },
   {
    "duration": 15,
    "start_time": "2024-09-20T21:20:02.639Z"
   },
   {
    "duration": 12,
    "start_time": "2024-09-20T21:20:09.915Z"
   },
   {
    "duration": 2,
    "start_time": "2024-09-20T21:20:41.831Z"
   },
   {
    "duration": 6,
    "start_time": "2024-09-20T21:20:43.402Z"
   },
   {
    "duration": 17,
    "start_time": "2024-09-20T21:20:45.444Z"
   },
   {
    "duration": 9,
    "start_time": "2024-09-20T21:20:51.366Z"
   },
   {
    "duration": 2,
    "start_time": "2024-09-20T21:21:22.909Z"
   },
   {
    "duration": 6,
    "start_time": "2024-09-20T21:21:24.183Z"
   },
   {
    "duration": 11,
    "start_time": "2024-09-20T21:21:24.784Z"
   },
   {
    "duration": 2,
    "start_time": "2024-09-20T21:22:17.315Z"
   },
   {
    "duration": 17,
    "start_time": "2024-09-20T21:22:18.949Z"
   },
   {
    "duration": 14,
    "start_time": "2024-09-20T21:22:26.480Z"
   },
   {
    "duration": 27,
    "start_time": "2024-09-20T21:22:39.368Z"
   },
   {
    "duration": 5,
    "start_time": "2024-09-20T21:22:53.152Z"
   },
   {
    "duration": 987,
    "start_time": "2024-09-20T21:25:50.444Z"
   },
   {
    "duration": 31,
    "start_time": "2024-09-20T21:25:51.434Z"
   },
   {
    "duration": 3,
    "start_time": "2024-09-20T21:25:51.466Z"
   },
   {
    "duration": 3,
    "start_time": "2024-09-20T21:25:51.679Z"
   },
   {
    "duration": 3,
    "start_time": "2024-09-20T21:25:52.041Z"
   },
   {
    "duration": 3,
    "start_time": "2024-09-20T21:25:52.418Z"
   },
   {
    "duration": 4,
    "start_time": "2024-09-20T21:25:52.706Z"
   },
   {
    "duration": 14,
    "start_time": "2024-09-20T21:25:53.396Z"
   },
   {
    "duration": 3,
    "start_time": "2024-09-20T21:25:53.933Z"
   },
   {
    "duration": 6,
    "start_time": "2024-09-20T21:25:54.172Z"
   },
   {
    "duration": 15,
    "start_time": "2024-09-20T21:25:54.351Z"
   },
   {
    "duration": 6,
    "start_time": "2024-09-20T21:25:54.560Z"
   },
   {
    "duration": 10,
    "start_time": "2024-09-20T21:25:54.833Z"
   },
   {
    "duration": 17,
    "start_time": "2024-09-20T21:25:55.083Z"
   },
   {
    "duration": 12,
    "start_time": "2024-09-20T21:25:55.770Z"
   },
   {
    "duration": 2,
    "start_time": "2024-09-20T21:25:56.051Z"
   },
   {
    "duration": 4,
    "start_time": "2024-09-20T21:25:56.447Z"
   },
   {
    "duration": 6,
    "start_time": "2024-09-20T21:25:56.739Z"
   },
   {
    "duration": 14,
    "start_time": "2024-09-20T21:25:57.116Z"
   },
   {
    "duration": 12,
    "start_time": "2024-09-20T21:25:58.164Z"
   },
   {
    "duration": 3,
    "start_time": "2024-09-20T21:25:58.519Z"
   },
   {
    "duration": 5,
    "start_time": "2024-09-20T21:25:58.873Z"
   },
   {
    "duration": 18,
    "start_time": "2024-09-20T21:25:59.572Z"
   },
   {
    "duration": 11,
    "start_time": "2024-09-20T21:26:00.378Z"
   },
   {
    "duration": 4,
    "start_time": "2024-09-20T21:26:00.731Z"
   },
   {
    "duration": 6,
    "start_time": "2024-09-20T21:26:01.293Z"
   },
   {
    "duration": 11,
    "start_time": "2024-09-20T21:26:01.796Z"
   },
   {
    "duration": 6,
    "start_time": "2024-09-20T21:38:31.536Z"
   },
   {
    "duration": 959,
    "start_time": "2024-09-20T21:39:35.593Z"
   },
   {
    "duration": 36,
    "start_time": "2024-09-20T21:39:36.787Z"
   },
   {
    "duration": 3,
    "start_time": "2024-09-20T21:39:37.480Z"
   },
   {
    "duration": 3,
    "start_time": "2024-09-20T21:39:37.860Z"
   },
   {
    "duration": 2,
    "start_time": "2024-09-20T21:39:38.201Z"
   },
   {
    "duration": 3,
    "start_time": "2024-09-20T21:39:38.538Z"
   },
   {
    "duration": 3,
    "start_time": "2024-09-20T21:39:38.823Z"
   },
   {
    "duration": 14,
    "start_time": "2024-09-20T21:39:39.419Z"
   },
   {
    "duration": 3,
    "start_time": "2024-09-20T21:39:40.257Z"
   },
   {
    "duration": 6,
    "start_time": "2024-09-20T21:39:40.565Z"
   },
   {
    "duration": 14,
    "start_time": "2024-09-20T21:39:40.994Z"
   },
   {
    "duration": 5,
    "start_time": "2024-09-20T21:39:41.531Z"
   },
   {
    "duration": 6,
    "start_time": "2024-09-20T21:39:41.928Z"
   },
   {
    "duration": 16,
    "start_time": "2024-09-20T21:39:42.283Z"
   },
   {
    "duration": 12,
    "start_time": "2024-09-20T21:39:43.241Z"
   },
   {
    "duration": 3,
    "start_time": "2024-09-20T21:39:43.495Z"
   },
   {
    "duration": 6,
    "start_time": "2024-09-20T21:39:43.966Z"
   },
   {
    "duration": 7,
    "start_time": "2024-09-20T21:39:44.303Z"
   },
   {
    "duration": 15,
    "start_time": "2024-09-20T21:39:44.677Z"
   },
   {
    "duration": 11,
    "start_time": "2024-09-20T21:39:45.710Z"
   },
   {
    "duration": 2,
    "start_time": "2024-09-20T21:39:46.964Z"
   },
   {
    "duration": 6,
    "start_time": "2024-09-20T21:39:47.563Z"
   },
   {
    "duration": 16,
    "start_time": "2024-09-20T21:39:48.413Z"
   },
   {
    "duration": 9,
    "start_time": "2024-09-20T21:39:50.061Z"
   },
   {
    "duration": 3,
    "start_time": "2024-09-20T21:39:50.422Z"
   },
   {
    "duration": 6,
    "start_time": "2024-09-20T21:39:50.694Z"
   },
   {
    "duration": 12,
    "start_time": "2024-09-20T21:39:51.160Z"
   },
   {
    "duration": 9,
    "start_time": "2024-09-20T21:40:12.507Z"
   },
   {
    "duration": 6,
    "start_time": "2024-09-20T21:40:42.101Z"
   },
   {
    "duration": 620,
    "start_time": "2024-09-20T21:41:14.486Z"
   },
   {
    "duration": 5,
    "start_time": "2024-09-20T21:41:19.859Z"
   },
   {
    "duration": 5,
    "start_time": "2024-09-20T21:41:23.884Z"
   },
   {
    "duration": 4,
    "start_time": "2024-09-20T21:41:29.851Z"
   },
   {
    "duration": 7,
    "start_time": "2024-09-20T21:41:42.418Z"
   },
   {
    "duration": 89,
    "start_time": "2024-09-20T21:41:51.393Z"
   },
   {
    "duration": 17,
    "start_time": "2024-09-20T21:42:00.445Z"
   },
   {
    "duration": 969,
    "start_time": "2024-09-20T21:44:18.120Z"
   },
   {
    "duration": 32,
    "start_time": "2024-09-20T21:44:19.091Z"
   },
   {
    "duration": 8,
    "start_time": "2024-09-20T21:44:19.125Z"
   },
   {
    "duration": 4,
    "start_time": "2024-09-20T21:44:19.137Z"
   },
   {
    "duration": 2,
    "start_time": "2024-09-20T21:44:19.143Z"
   },
   {
    "duration": 3,
    "start_time": "2024-09-20T21:44:19.234Z"
   },
   {
    "duration": 4,
    "start_time": "2024-09-20T21:44:19.624Z"
   },
   {
    "duration": 15,
    "start_time": "2024-09-20T21:44:20.295Z"
   },
   {
    "duration": 2,
    "start_time": "2024-09-20T21:44:21.099Z"
   },
   {
    "duration": 6,
    "start_time": "2024-09-20T21:44:21.360Z"
   },
   {
    "duration": 14,
    "start_time": "2024-09-20T21:44:21.692Z"
   },
   {
    "duration": 6,
    "start_time": "2024-09-20T21:44:22.337Z"
   },
   {
    "duration": 7,
    "start_time": "2024-09-20T21:44:22.594Z"
   },
   {
    "duration": 17,
    "start_time": "2024-09-20T21:44:22.769Z"
   },
   {
    "duration": 10,
    "start_time": "2024-09-20T21:44:23.660Z"
   },
   {
    "duration": 2,
    "start_time": "2024-09-20T21:44:24.070Z"
   },
   {
    "duration": 4,
    "start_time": "2024-09-20T21:44:24.218Z"
   },
   {
    "duration": 10,
    "start_time": "2024-09-20T21:44:24.370Z"
   },
   {
    "duration": 14,
    "start_time": "2024-09-20T21:44:24.503Z"
   },
   {
    "duration": 12,
    "start_time": "2024-09-20T21:44:24.784Z"
   },
   {
    "duration": 3,
    "start_time": "2024-09-20T21:44:25.180Z"
   },
   {
    "duration": 7,
    "start_time": "2024-09-20T21:44:25.610Z"
   },
   {
    "duration": 16,
    "start_time": "2024-09-20T21:44:25.913Z"
   },
   {
    "duration": 11,
    "start_time": "2024-09-20T21:44:26.238Z"
   },
   {
    "duration": 3,
    "start_time": "2024-09-20T21:44:27.082Z"
   },
   {
    "duration": 7,
    "start_time": "2024-09-20T21:44:27.337Z"
   },
   {
    "duration": 17,
    "start_time": "2024-09-20T21:44:27.826Z"
   },
   {
    "duration": 18,
    "start_time": "2024-09-20T21:46:42.237Z"
   },
   {
    "duration": 14,
    "start_time": "2024-09-20T21:46:43.298Z"
   },
   {
    "duration": 26,
    "start_time": "2024-09-20T21:46:44.352Z"
   },
   {
    "duration": 2738,
    "start_time": "2024-09-24T20:54:40.502Z"
   },
   {
    "duration": 71,
    "start_time": "2024-09-24T20:54:43.242Z"
   },
   {
    "duration": 3,
    "start_time": "2024-09-24T20:54:43.314Z"
   },
   {
    "duration": 4,
    "start_time": "2024-09-24T20:54:43.319Z"
   },
   {
    "duration": 3,
    "start_time": "2024-09-24T20:54:43.324Z"
   },
   {
    "duration": 3,
    "start_time": "2024-09-24T20:54:43.329Z"
   },
   {
    "duration": 4,
    "start_time": "2024-09-24T20:54:43.334Z"
   },
   {
    "duration": 14,
    "start_time": "2024-09-24T20:54:43.340Z"
   },
   {
    "duration": 2,
    "start_time": "2024-09-24T20:54:43.356Z"
   },
   {
    "duration": 10,
    "start_time": "2024-09-24T20:54:43.362Z"
   },
   {
    "duration": 12,
    "start_time": "2024-09-24T20:54:43.374Z"
   },
   {
    "duration": 5,
    "start_time": "2024-09-24T20:54:43.699Z"
   },
   {
    "duration": 6,
    "start_time": "2024-09-24T20:54:44.308Z"
   },
   {
    "duration": 16,
    "start_time": "2024-09-24T20:54:44.587Z"
   },
   {
    "duration": 13,
    "start_time": "2024-09-24T20:54:44.990Z"
   },
   {
    "duration": 3,
    "start_time": "2024-09-24T20:54:45.279Z"
   },
   {
    "duration": 3,
    "start_time": "2024-09-24T20:54:45.458Z"
   },
   {
    "duration": 6,
    "start_time": "2024-09-24T20:54:45.649Z"
   },
   {
    "duration": 14,
    "start_time": "2024-09-24T20:54:45.818Z"
   },
   {
    "duration": 12,
    "start_time": "2024-09-24T20:54:46.215Z"
   },
   {
    "duration": 2,
    "start_time": "2024-09-24T20:54:46.744Z"
   },
   {
    "duration": 6,
    "start_time": "2024-09-24T20:54:46.976Z"
   },
   {
    "duration": 17,
    "start_time": "2024-09-24T20:54:47.527Z"
   },
   {
    "duration": 9,
    "start_time": "2024-09-24T20:54:48.140Z"
   },
   {
    "duration": 3,
    "start_time": "2024-09-24T20:54:48.591Z"
   },
   {
    "duration": 6,
    "start_time": "2024-09-24T20:54:48.838Z"
   },
   {
    "duration": 10,
    "start_time": "2024-09-24T20:54:49.153Z"
   },
   {
    "duration": 95,
    "start_time": "2024-09-24T20:56:04.549Z"
   },
   {
    "duration": 280,
    "start_time": "2024-09-24T20:56:48.190Z"
   },
   {
    "duration": 120,
    "start_time": "2024-09-24T20:57:25.591Z"
   },
   {
    "duration": 95,
    "start_time": "2024-09-24T20:57:54.458Z"
   },
   {
    "duration": 117,
    "start_time": "2024-09-24T20:58:26.674Z"
   },
   {
    "duration": 984,
    "start_time": "2024-09-24T21:02:32.371Z"
   },
   {
    "duration": 40,
    "start_time": "2024-09-24T21:02:33.357Z"
   },
   {
    "duration": 3,
    "start_time": "2024-09-24T21:02:33.399Z"
   },
   {
    "duration": 3,
    "start_time": "2024-09-24T21:02:33.404Z"
   },
   {
    "duration": 2,
    "start_time": "2024-09-24T21:02:33.410Z"
   },
   {
    "duration": 3,
    "start_time": "2024-09-24T21:02:33.599Z"
   },
   {
    "duration": 4,
    "start_time": "2024-09-24T21:02:33.779Z"
   },
   {
    "duration": 15,
    "start_time": "2024-09-24T21:02:34.172Z"
   },
   {
    "duration": 3,
    "start_time": "2024-09-24T21:02:34.559Z"
   },
   {
    "duration": 5,
    "start_time": "2024-09-24T21:02:34.745Z"
   },
   {
    "duration": 13,
    "start_time": "2024-09-24T21:02:34.926Z"
   },
   {
    "duration": 5,
    "start_time": "2024-09-24T21:02:35.118Z"
   },
   {
    "duration": 6,
    "start_time": "2024-09-24T21:02:35.303Z"
   },
   {
    "duration": 16,
    "start_time": "2024-09-24T21:02:35.498Z"
   },
   {
    "duration": 14,
    "start_time": "2024-09-24T21:02:35.888Z"
   },
   {
    "duration": 2,
    "start_time": "2024-09-24T21:02:36.129Z"
   },
   {
    "duration": 4,
    "start_time": "2024-09-24T21:02:36.376Z"
   },
   {
    "duration": 8,
    "start_time": "2024-09-24T21:02:36.668Z"
   },
   {
    "duration": 17,
    "start_time": "2024-09-24T21:02:36.879Z"
   },
   {
    "duration": 11,
    "start_time": "2024-09-24T21:02:37.523Z"
   },
   {
    "duration": 2,
    "start_time": "2024-09-24T21:02:38.141Z"
   },
   {
    "duration": 5,
    "start_time": "2024-09-24T21:02:38.356Z"
   },
   {
    "duration": 16,
    "start_time": "2024-09-24T21:02:38.723Z"
   },
   {
    "duration": 10,
    "start_time": "2024-09-24T21:02:39.113Z"
   },
   {
    "duration": 2,
    "start_time": "2024-09-24T21:02:39.508Z"
   },
   {
    "duration": 5,
    "start_time": "2024-09-24T21:02:39.730Z"
   },
   {
    "duration": 11,
    "start_time": "2024-09-24T21:02:39.921Z"
   },
   {
    "duration": 19,
    "start_time": "2024-09-24T21:03:12.314Z"
   },
   {
    "duration": 14,
    "start_time": "2024-09-24T21:03:15.032Z"
   },
   {
    "duration": 26,
    "start_time": "2024-09-24T21:03:17.077Z"
   },
   {
    "duration": 6,
    "start_time": "2024-09-24T21:03:19.060Z"
   },
   {
    "duration": 11,
    "start_time": "2024-09-24T21:03:40.311Z"
   },
   {
    "duration": 952,
    "start_time": "2024-09-24T21:44:49.756Z"
   },
   {
    "duration": 34,
    "start_time": "2024-09-24T21:44:50.709Z"
   },
   {
    "duration": 2,
    "start_time": "2024-09-24T21:44:50.745Z"
   },
   {
    "duration": 4,
    "start_time": "2024-09-24T21:44:50.749Z"
   },
   {
    "duration": 3,
    "start_time": "2024-09-24T21:44:50.800Z"
   },
   {
    "duration": 2,
    "start_time": "2024-09-24T21:44:50.979Z"
   },
   {
    "duration": 3,
    "start_time": "2024-09-24T21:44:51.174Z"
   },
   {
    "duration": 16,
    "start_time": "2024-09-24T21:44:51.677Z"
   },
   {
    "duration": 3,
    "start_time": "2024-09-24T21:44:52.342Z"
   },
   {
    "duration": 5,
    "start_time": "2024-09-24T21:44:52.602Z"
   },
   {
    "duration": 13,
    "start_time": "2024-09-24T21:44:52.767Z"
   },
   {
    "duration": 6,
    "start_time": "2024-09-24T21:44:52.942Z"
   },
   {
    "duration": 7,
    "start_time": "2024-09-24T21:44:53.124Z"
   },
   {
    "duration": 17,
    "start_time": "2024-09-24T21:44:53.320Z"
   },
   {
    "duration": 12,
    "start_time": "2024-09-24T21:44:53.673Z"
   },
   {
    "duration": 3,
    "start_time": "2024-09-24T21:44:53.909Z"
   },
   {
    "duration": 3,
    "start_time": "2024-09-24T21:44:54.097Z"
   },
   {
    "duration": 6,
    "start_time": "2024-09-24T21:44:54.327Z"
   },
   {
    "duration": 14,
    "start_time": "2024-09-24T21:44:54.510Z"
   },
   {
    "duration": 14,
    "start_time": "2024-09-24T21:44:55.176Z"
   },
   {
    "duration": 3,
    "start_time": "2024-09-24T21:44:55.524Z"
   },
   {
    "duration": 5,
    "start_time": "2024-09-24T21:44:55.682Z"
   },
   {
    "duration": 21,
    "start_time": "2024-09-24T21:44:56.060Z"
   },
   {
    "duration": 10,
    "start_time": "2024-09-24T21:44:56.602Z"
   },
   {
    "duration": 3,
    "start_time": "2024-09-24T21:44:57.257Z"
   },
   {
    "duration": 8,
    "start_time": "2024-09-24T21:44:57.516Z"
   },
   {
    "duration": 11,
    "start_time": "2024-09-24T21:44:57.725Z"
   },
   {
    "duration": 17,
    "start_time": "2024-09-24T21:44:58.487Z"
   },
   {
    "duration": 14,
    "start_time": "2024-09-24T21:44:58.688Z"
   },
   {
    "duration": 27,
    "start_time": "2024-09-24T21:45:00.214Z"
   },
   {
    "duration": 4,
    "start_time": "2024-09-24T21:45:01.184Z"
   },
   {
    "duration": 11,
    "start_time": "2024-09-24T21:45:02.432Z"
   },
   {
    "duration": 1020,
    "start_time": "2024-09-24T21:46:54.131Z"
   },
   {
    "duration": 34,
    "start_time": "2024-09-24T21:46:55.153Z"
   },
   {
    "duration": 3,
    "start_time": "2024-09-24T21:46:55.189Z"
   },
   {
    "duration": 3,
    "start_time": "2024-09-24T21:46:55.194Z"
   },
   {
    "duration": 2,
    "start_time": "2024-09-24T21:46:55.199Z"
   },
   {
    "duration": 3,
    "start_time": "2024-09-24T21:46:55.203Z"
   },
   {
    "duration": 4,
    "start_time": "2024-09-24T21:46:55.207Z"
   },
   {
    "duration": 15,
    "start_time": "2024-09-24T21:46:55.402Z"
   },
   {
    "duration": 3,
    "start_time": "2024-09-24T21:46:55.682Z"
   },
   {
    "duration": 8,
    "start_time": "2024-09-24T21:46:55.832Z"
   },
   {
    "duration": 13,
    "start_time": "2024-09-24T21:46:55.987Z"
   },
   {
    "duration": 8,
    "start_time": "2024-09-24T21:46:56.120Z"
   },
   {
    "duration": 6,
    "start_time": "2024-09-24T21:46:56.270Z"
   },
   {
    "duration": 17,
    "start_time": "2024-09-24T21:46:56.427Z"
   },
   {
    "duration": 15,
    "start_time": "2024-09-24T21:46:56.719Z"
   },
   {
    "duration": 4,
    "start_time": "2024-09-24T21:46:56.888Z"
   },
   {
    "duration": 4,
    "start_time": "2024-09-24T21:46:57.028Z"
   },
   {
    "duration": 11,
    "start_time": "2024-09-24T21:46:57.179Z"
   },
   {
    "duration": 16,
    "start_time": "2024-09-24T21:46:57.333Z"
   },
   {
    "duration": 12,
    "start_time": "2024-09-24T21:46:57.635Z"
   },
   {
    "duration": 2,
    "start_time": "2024-09-24T21:46:57.948Z"
   },
   {
    "duration": 7,
    "start_time": "2024-09-24T21:46:58.374Z"
   },
   {
    "duration": 17,
    "start_time": "2024-09-24T21:46:58.715Z"
   },
   {
    "duration": 13,
    "start_time": "2024-09-24T21:46:59.124Z"
   },
   {
    "duration": 3,
    "start_time": "2024-09-24T21:47:01.355Z"
   },
   {
    "duration": 6,
    "start_time": "2024-09-24T21:47:01.707Z"
   },
   {
    "duration": 14,
    "start_time": "2024-09-24T21:47:02.133Z"
   },
   {
    "duration": 21,
    "start_time": "2024-09-24T21:47:03.211Z"
   },
   {
    "duration": 13,
    "start_time": "2024-09-24T21:47:03.755Z"
   },
   {
    "duration": 39,
    "start_time": "2024-09-24T21:47:04.511Z"
   },
   {
    "duration": 4,
    "start_time": "2024-09-24T21:47:07.356Z"
   },
   {
    "duration": 11,
    "start_time": "2024-09-24T21:47:08.585Z"
   },
   {
    "duration": 144,
    "start_time": "2024-09-24T21:47:53.514Z"
   },
   {
    "duration": 133,
    "start_time": "2024-09-24T21:48:20.720Z"
   },
   {
    "duration": 147,
    "start_time": "2024-09-24T21:49:25.424Z"
   },
   {
    "duration": 137,
    "start_time": "2024-09-24T21:49:43.949Z"
   },
   {
    "duration": 136,
    "start_time": "2024-09-24T21:50:32.162Z"
   },
   {
    "duration": 146,
    "start_time": "2024-09-24T21:50:57.907Z"
   },
   {
    "duration": 130,
    "start_time": "2024-09-24T21:51:03.145Z"
   },
   {
    "duration": 117,
    "start_time": "2024-09-24T21:52:03.103Z"
   },
   {
    "duration": 187,
    "start_time": "2024-09-24T21:52:16.775Z"
   },
   {
    "duration": 126,
    "start_time": "2024-09-24T21:52:37.386Z"
   },
   {
    "duration": 121,
    "start_time": "2024-09-24T21:52:58.893Z"
   },
   {
    "duration": 123,
    "start_time": "2024-09-24T21:53:06.323Z"
   },
   {
    "duration": 169,
    "start_time": "2024-09-24T21:54:20.533Z"
   },
   {
    "duration": 145,
    "start_time": "2024-09-24T21:54:35.323Z"
   },
   {
    "duration": 152,
    "start_time": "2024-09-24T21:54:40.321Z"
   },
   {
    "duration": 96,
    "start_time": "2024-09-24T21:56:40.232Z"
   },
   {
    "duration": 103,
    "start_time": "2024-09-24T21:57:22.569Z"
   },
   {
    "duration": 108,
    "start_time": "2024-09-24T21:57:37.149Z"
   },
   {
    "duration": 83,
    "start_time": "2024-09-24T21:57:43.428Z"
   },
   {
    "duration": 125,
    "start_time": "2024-09-24T21:57:51.554Z"
   },
   {
    "duration": 93,
    "start_time": "2024-09-24T21:57:57.246Z"
   },
   {
    "duration": 182,
    "start_time": "2024-09-24T21:58:06.917Z"
   },
   {
    "duration": 169,
    "start_time": "2024-09-24T22:20:59.596Z"
   },
   {
    "duration": 157,
    "start_time": "2024-09-24T22:21:11.350Z"
   },
   {
    "duration": 145,
    "start_time": "2024-09-24T22:24:04.014Z"
   },
   {
    "duration": 149,
    "start_time": "2024-09-24T22:24:47.940Z"
   },
   {
    "duration": 124,
    "start_time": "2024-09-24T22:25:29.985Z"
   },
   {
    "duration": 547,
    "start_time": "2024-09-24T22:27:23.128Z"
   },
   {
    "duration": 210,
    "start_time": "2024-09-24T22:28:07.535Z"
   },
   {
    "duration": 52,
    "start_time": "2024-09-24T22:28:15.289Z"
   },
   {
    "duration": 121,
    "start_time": "2024-09-24T22:28:32.676Z"
   },
   {
    "duration": 217,
    "start_time": "2024-09-24T22:29:09.133Z"
   },
   {
    "duration": 120,
    "start_time": "2024-09-24T22:29:15.801Z"
   },
   {
    "duration": 111,
    "start_time": "2024-09-24T22:29:21.107Z"
   },
   {
    "duration": 129,
    "start_time": "2024-09-24T22:33:04.974Z"
   },
   {
    "duration": 119,
    "start_time": "2024-09-24T22:33:17.305Z"
   },
   {
    "duration": 254,
    "start_time": "2024-09-24T22:34:19.122Z"
   },
   {
    "duration": 242,
    "start_time": "2024-09-24T22:36:01.415Z"
   },
   {
    "duration": 2851,
    "start_time": "2024-09-25T01:09:32.254Z"
   },
   {
    "duration": 71,
    "start_time": "2024-09-25T01:09:35.107Z"
   },
   {
    "duration": 3,
    "start_time": "2024-09-25T01:09:35.179Z"
   },
   {
    "duration": 4,
    "start_time": "2024-09-25T01:09:35.186Z"
   },
   {
    "duration": 3,
    "start_time": "2024-09-25T01:09:35.192Z"
   },
   {
    "duration": 3,
    "start_time": "2024-09-25T01:09:35.197Z"
   },
   {
    "duration": 5,
    "start_time": "2024-09-25T01:09:35.201Z"
   },
   {
    "duration": 14,
    "start_time": "2024-09-25T01:09:35.208Z"
   },
   {
    "duration": 3,
    "start_time": "2024-09-25T01:09:35.539Z"
   },
   {
    "duration": 6,
    "start_time": "2024-09-25T01:09:35.705Z"
   },
   {
    "duration": 14,
    "start_time": "2024-09-25T01:09:35.870Z"
   },
   {
    "duration": 7,
    "start_time": "2024-09-25T01:09:36.017Z"
   },
   {
    "duration": 10,
    "start_time": "2024-09-25T01:09:36.164Z"
   },
   {
    "duration": 19,
    "start_time": "2024-09-25T01:09:36.312Z"
   },
   {
    "duration": 14,
    "start_time": "2024-09-25T01:09:36.590Z"
   },
   {
    "duration": 4,
    "start_time": "2024-09-25T01:09:36.744Z"
   },
   {
    "duration": 3,
    "start_time": "2024-09-25T01:09:36.893Z"
   },
   {
    "duration": 6,
    "start_time": "2024-09-25T01:09:37.033Z"
   },
   {
    "duration": 15,
    "start_time": "2024-09-25T01:09:37.189Z"
   },
   {
    "duration": 13,
    "start_time": "2024-09-25T01:09:37.498Z"
   },
   {
    "duration": 3,
    "start_time": "2024-09-25T01:09:37.843Z"
   },
   {
    "duration": 7,
    "start_time": "2024-09-25T01:09:38.009Z"
   },
   {
    "duration": 19,
    "start_time": "2024-09-25T01:09:38.366Z"
   },
   {
    "duration": 12,
    "start_time": "2024-09-25T01:09:38.749Z"
   },
   {
    "duration": 5,
    "start_time": "2024-09-25T01:09:39.202Z"
   },
   {
    "duration": 9,
    "start_time": "2024-09-25T01:09:39.697Z"
   },
   {
    "duration": 11,
    "start_time": "2024-09-25T01:09:39.937Z"
   },
   {
    "duration": 22,
    "start_time": "2024-09-25T01:09:40.520Z"
   },
   {
    "duration": 14,
    "start_time": "2024-09-25T01:09:40.900Z"
   },
   {
    "duration": 34,
    "start_time": "2024-09-25T01:09:41.476Z"
   },
   {
    "duration": 5,
    "start_time": "2024-09-25T01:09:44.539Z"
   },
   {
    "duration": 10,
    "start_time": "2024-09-25T01:09:45.161Z"
   },
   {
    "duration": 201,
    "start_time": "2024-09-25T01:09:51.962Z"
   },
   {
    "duration": 280,
    "start_time": "2024-09-25T01:09:59.385Z"
   },
   {
    "duration": 115,
    "start_time": "2024-09-25T01:10:09.478Z"
   },
   {
    "duration": 290,
    "start_time": "2024-09-25T01:11:11.802Z"
   },
   {
    "duration": 131,
    "start_time": "2024-09-25T01:14:32.366Z"
   },
   {
    "duration": 145,
    "start_time": "2024-09-25T01:14:56.828Z"
   },
   {
    "duration": 113,
    "start_time": "2024-09-25T01:15:05.548Z"
   },
   {
    "duration": 117,
    "start_time": "2024-09-25T01:15:15.437Z"
   },
   {
    "duration": 175,
    "start_time": "2024-09-25T01:15:24.331Z"
   },
   {
    "duration": 543,
    "start_time": "2024-09-25T01:19:01.944Z"
   },
   {
    "duration": 641,
    "start_time": "2024-09-25T01:20:30.029Z"
   },
   {
    "duration": 387,
    "start_time": "2024-09-25T01:23:20.344Z"
   },
   {
    "duration": 373,
    "start_time": "2024-09-25T01:24:23.580Z"
   },
   {
    "duration": 386,
    "start_time": "2024-09-25T01:25:04.929Z"
   },
   {
    "duration": 494,
    "start_time": "2024-09-25T01:25:19.912Z"
   },
   {
    "duration": 392,
    "start_time": "2024-09-25T01:25:46.933Z"
   },
   {
    "duration": 377,
    "start_time": "2024-09-25T01:26:18.065Z"
   },
   {
    "duration": 369,
    "start_time": "2024-09-25T01:26:29.248Z"
   },
   {
    "duration": 348,
    "start_time": "2024-09-25T01:26:47.081Z"
   },
   {
    "duration": 364,
    "start_time": "2024-09-25T01:26:55.699Z"
   },
   {
    "duration": 327,
    "start_time": "2024-09-25T01:27:04.096Z"
   },
   {
    "duration": 380,
    "start_time": "2024-09-25T01:27:12.093Z"
   },
   {
    "duration": 338,
    "start_time": "2024-09-25T01:27:22.098Z"
   },
   {
    "duration": 372,
    "start_time": "2024-09-25T01:28:08.027Z"
   },
   {
    "duration": 321,
    "start_time": "2024-09-25T01:29:16.710Z"
   },
   {
    "duration": 8,
    "start_time": "2024-09-25T01:29:49.352Z"
   },
   {
    "duration": 574,
    "start_time": "2024-09-25T01:30:00.010Z"
   },
   {
    "duration": 333,
    "start_time": "2024-09-25T01:31:15.772Z"
   },
   {
    "duration": 520,
    "start_time": "2024-09-25T01:31:58.682Z"
   },
   {
    "duration": 358,
    "start_time": "2024-09-25T01:32:38.744Z"
   },
   {
    "duration": 349,
    "start_time": "2024-09-25T01:33:13.168Z"
   },
   {
    "duration": 363,
    "start_time": "2024-09-25T01:33:28.134Z"
   },
   {
    "duration": 253,
    "start_time": "2024-09-25T01:40:30.721Z"
   },
   {
    "duration": 257,
    "start_time": "2024-09-25T01:40:41.779Z"
   },
   {
    "duration": 531,
    "start_time": "2024-09-25T01:42:57.970Z"
   },
   {
    "duration": 391,
    "start_time": "2024-09-25T01:44:28.759Z"
   },
   {
    "duration": 551,
    "start_time": "2024-09-25T01:46:16.530Z"
   },
   {
    "duration": 507,
    "start_time": "2024-09-25T01:46:41.664Z"
   },
   {
    "duration": 514,
    "start_time": "2024-09-25T01:46:53.656Z"
   },
   {
    "duration": 346,
    "start_time": "2024-09-25T01:47:03.393Z"
   },
   {
    "duration": 293,
    "start_time": "2024-09-25T01:47:14.648Z"
   },
   {
    "duration": 1016,
    "start_time": "2024-09-25T01:47:29.117Z"
   },
   {
    "duration": 38,
    "start_time": "2024-09-25T01:47:30.135Z"
   },
   {
    "duration": 4,
    "start_time": "2024-09-25T01:47:30.175Z"
   },
   {
    "duration": 4,
    "start_time": "2024-09-25T01:47:30.181Z"
   },
   {
    "duration": 3,
    "start_time": "2024-09-25T01:47:30.186Z"
   },
   {
    "duration": 3,
    "start_time": "2024-09-25T01:47:30.300Z"
   },
   {
    "duration": 3,
    "start_time": "2024-09-25T01:47:30.441Z"
   },
   {
    "duration": 14,
    "start_time": "2024-09-25T01:47:30.756Z"
   },
   {
    "duration": 3,
    "start_time": "2024-09-25T01:47:31.059Z"
   },
   {
    "duration": 7,
    "start_time": "2024-09-25T01:47:31.223Z"
   },
   {
    "duration": 14,
    "start_time": "2024-09-25T01:47:31.406Z"
   },
   {
    "duration": 5,
    "start_time": "2024-09-25T01:47:31.627Z"
   },
   {
    "duration": 7,
    "start_time": "2024-09-25T01:47:31.815Z"
   },
   {
    "duration": 17,
    "start_time": "2024-09-25T01:47:32.011Z"
   },
   {
    "duration": 11,
    "start_time": "2024-09-25T01:47:32.361Z"
   },
   {
    "duration": 2,
    "start_time": "2024-09-25T01:47:32.535Z"
   },
   {
    "duration": 3,
    "start_time": "2024-09-25T01:47:32.729Z"
   },
   {
    "duration": 7,
    "start_time": "2024-09-25T01:47:32.926Z"
   },
   {
    "duration": 14,
    "start_time": "2024-09-25T01:47:33.091Z"
   },
   {
    "duration": 12,
    "start_time": "2024-09-25T01:47:33.477Z"
   },
   {
    "duration": 2,
    "start_time": "2024-09-25T01:47:33.839Z"
   },
   {
    "duration": 6,
    "start_time": "2024-09-25T01:47:34.011Z"
   },
   {
    "duration": 20,
    "start_time": "2024-09-25T01:47:34.395Z"
   },
   {
    "duration": 9,
    "start_time": "2024-09-25T01:47:34.785Z"
   },
   {
    "duration": 3,
    "start_time": "2024-09-25T01:47:35.204Z"
   },
   {
    "duration": 7,
    "start_time": "2024-09-25T01:47:35.470Z"
   },
   {
    "duration": 11,
    "start_time": "2024-09-25T01:47:35.669Z"
   },
   {
    "duration": 18,
    "start_time": "2024-09-25T01:47:35.983Z"
   },
   {
    "duration": 13,
    "start_time": "2024-09-25T01:47:36.161Z"
   },
   {
    "duration": 33,
    "start_time": "2024-09-25T01:47:36.313Z"
   },
   {
    "duration": 4,
    "start_time": "2024-09-25T01:47:36.473Z"
   },
   {
    "duration": 14,
    "start_time": "2024-09-25T01:47:36.864Z"
   },
   {
    "duration": 117,
    "start_time": "2024-09-25T01:47:38.144Z"
   },
   {
    "duration": 269,
    "start_time": "2024-09-25T01:47:39.332Z"
   },
   {
    "duration": 117,
    "start_time": "2024-09-25T01:47:43.116Z"
   },
   {
    "duration": 253,
    "start_time": "2024-09-25T01:47:47.239Z"
   },
   {
    "duration": 543,
    "start_time": "2024-09-25T01:47:52.731Z"
   },
   {
    "duration": 231,
    "start_time": "2024-09-25T01:48:19.508Z"
   },
   {
    "duration": 611,
    "start_time": "2024-09-25T01:48:23.674Z"
   },
   {
    "duration": 531,
    "start_time": "2024-09-25T01:49:15.113Z"
   },
   {
    "duration": 541,
    "start_time": "2024-09-25T01:49:56.616Z"
   },
   {
    "duration": 527,
    "start_time": "2024-09-25T01:50:21.068Z"
   },
   {
    "duration": 231,
    "start_time": "2024-09-25T01:51:21.219Z"
   },
   {
    "duration": 575,
    "start_time": "2024-09-25T01:51:30.317Z"
   },
   {
    "duration": 628,
    "start_time": "2024-09-25T01:51:42.016Z"
   },
   {
    "duration": 497,
    "start_time": "2024-09-25T01:52:11.062Z"
   },
   {
    "duration": 535,
    "start_time": "2024-09-25T01:52:20.108Z"
   },
   {
    "duration": 239,
    "start_time": "2024-09-25T01:53:05.442Z"
   },
   {
    "duration": 256,
    "start_time": "2024-09-25T01:53:27.356Z"
   },
   {
    "duration": 1038,
    "start_time": "2024-09-25T01:54:14.042Z"
   },
   {
    "duration": 31,
    "start_time": "2024-09-25T01:54:15.082Z"
   },
   {
    "duration": 2,
    "start_time": "2024-09-25T01:54:15.115Z"
   },
   {
    "duration": 3,
    "start_time": "2024-09-25T01:54:15.120Z"
   },
   {
    "duration": 3,
    "start_time": "2024-09-25T01:54:15.125Z"
   },
   {
    "duration": 3,
    "start_time": "2024-09-25T01:54:15.129Z"
   },
   {
    "duration": 3,
    "start_time": "2024-09-25T01:54:15.139Z"
   },
   {
    "duration": 16,
    "start_time": "2024-09-25T01:54:15.408Z"
   },
   {
    "duration": 3,
    "start_time": "2024-09-25T01:54:15.688Z"
   },
   {
    "duration": 6,
    "start_time": "2024-09-25T01:54:15.821Z"
   },
   {
    "duration": 13,
    "start_time": "2024-09-25T01:54:15.963Z"
   },
   {
    "duration": 6,
    "start_time": "2024-09-25T01:54:16.086Z"
   },
   {
    "duration": 9,
    "start_time": "2024-09-25T01:54:16.240Z"
   },
   {
    "duration": 16,
    "start_time": "2024-09-25T01:54:16.371Z"
   },
   {
    "duration": 12,
    "start_time": "2024-09-25T01:54:16.664Z"
   },
   {
    "duration": 3,
    "start_time": "2024-09-25T01:54:16.811Z"
   },
   {
    "duration": 3,
    "start_time": "2024-09-25T01:54:16.938Z"
   },
   {
    "duration": 6,
    "start_time": "2024-09-25T01:54:17.091Z"
   },
   {
    "duration": 14,
    "start_time": "2024-09-25T01:54:17.227Z"
   },
   {
    "duration": 14,
    "start_time": "2024-09-25T01:54:17.517Z"
   },
   {
    "duration": 3,
    "start_time": "2024-09-25T01:54:17.807Z"
   },
   {
    "duration": 5,
    "start_time": "2024-09-25T01:54:17.959Z"
   },
   {
    "duration": 18,
    "start_time": "2024-09-25T01:54:18.266Z"
   },
   {
    "duration": 11,
    "start_time": "2024-09-25T01:54:18.543Z"
   },
   {
    "duration": 3,
    "start_time": "2024-09-25T01:54:18.829Z"
   },
   {
    "duration": 7,
    "start_time": "2024-09-25T01:54:18.965Z"
   },
   {
    "duration": 11,
    "start_time": "2024-09-25T01:54:19.119Z"
   },
   {
    "duration": 19,
    "start_time": "2024-09-25T01:54:19.418Z"
   },
   {
    "duration": 13,
    "start_time": "2024-09-25T01:54:19.581Z"
   },
   {
    "duration": 27,
    "start_time": "2024-09-25T01:54:19.727Z"
   },
   {
    "duration": 4,
    "start_time": "2024-09-25T01:54:19.876Z"
   },
   {
    "duration": 11,
    "start_time": "2024-09-25T01:54:20.026Z"
   },
   {
    "duration": 118,
    "start_time": "2024-09-25T01:54:20.613Z"
   },
   {
    "duration": 244,
    "start_time": "2024-09-25T01:54:20.898Z"
   },
   {
    "duration": 113,
    "start_time": "2024-09-25T01:54:21.204Z"
   },
   {
    "duration": 250,
    "start_time": "2024-09-25T01:54:21.648Z"
   },
   {
    "duration": 557,
    "start_time": "2024-09-25T01:54:22.001Z"
   },
   {
    "duration": 259,
    "start_time": "2024-09-25T01:54:22.570Z"
   },
   {
    "duration": 636,
    "start_time": "2024-09-25T01:54:23.050Z"
   },
   {
    "duration": 2,
    "start_time": "2024-09-25T01:54:52.457Z"
   },
   {
    "duration": 2702,
    "start_time": "2024-09-25T20:22:08.500Z"
   },
   {
    "duration": 69,
    "start_time": "2024-09-25T20:22:11.204Z"
   },
   {
    "duration": 3,
    "start_time": "2024-09-25T20:22:11.274Z"
   },
   {
    "duration": 3,
    "start_time": "2024-09-25T20:22:11.279Z"
   },
   {
    "duration": 3,
    "start_time": "2024-09-25T20:22:11.284Z"
   },
   {
    "duration": 3,
    "start_time": "2024-09-25T20:22:11.288Z"
   },
   {
    "duration": 3,
    "start_time": "2024-09-25T20:22:11.306Z"
   },
   {
    "duration": 14,
    "start_time": "2024-09-25T20:22:11.739Z"
   },
   {
    "duration": 3,
    "start_time": "2024-09-25T20:22:12.226Z"
   },
   {
    "duration": 6,
    "start_time": "2024-09-25T20:22:12.446Z"
   },
   {
    "duration": 12,
    "start_time": "2024-09-25T20:22:12.665Z"
   },
   {
    "duration": 5,
    "start_time": "2024-09-25T20:22:12.896Z"
   },
   {
    "duration": 6,
    "start_time": "2024-09-25T20:22:13.163Z"
   },
   {
    "duration": 16,
    "start_time": "2024-09-25T20:22:13.443Z"
   },
   {
    "duration": 11,
    "start_time": "2024-09-25T20:22:13.948Z"
   },
   {
    "duration": 2,
    "start_time": "2024-09-25T20:22:14.187Z"
   },
   {
    "duration": 3,
    "start_time": "2024-09-25T20:22:14.539Z"
   },
   {
    "duration": 8,
    "start_time": "2024-09-25T20:22:14.788Z"
   },
   {
    "duration": 14,
    "start_time": "2024-09-25T20:22:15.051Z"
   },
   {
    "duration": 12,
    "start_time": "2024-09-25T20:22:15.491Z"
   },
   {
    "duration": 3,
    "start_time": "2024-09-25T20:22:16.015Z"
   },
   {
    "duration": 5,
    "start_time": "2024-09-25T20:22:16.290Z"
   },
   {
    "duration": 17,
    "start_time": "2024-09-25T20:22:16.781Z"
   },
   {
    "duration": 9,
    "start_time": "2024-09-25T20:22:17.533Z"
   },
   {
    "duration": 3,
    "start_time": "2024-09-25T20:22:18.350Z"
   },
   {
    "duration": 6,
    "start_time": "2024-09-25T20:22:18.927Z"
   },
   {
    "duration": 12,
    "start_time": "2024-09-25T20:22:19.434Z"
   },
   {
    "duration": 18,
    "start_time": "2024-09-25T20:22:23.093Z"
   },
   {
    "duration": 15,
    "start_time": "2024-09-25T20:22:23.542Z"
   },
   {
    "duration": 26,
    "start_time": "2024-09-25T20:22:23.914Z"
   },
   {
    "duration": 4,
    "start_time": "2024-09-25T20:22:24.590Z"
   },
   {
    "duration": 10,
    "start_time": "2024-09-25T20:22:25.572Z"
   },
   {
    "duration": 180,
    "start_time": "2024-09-25T20:24:07.654Z"
   },
   {
    "duration": 112,
    "start_time": "2024-09-25T20:24:26.826Z"
   },
   {
    "duration": 294,
    "start_time": "2024-09-25T20:24:47.555Z"
   },
   {
    "duration": 121,
    "start_time": "2024-09-25T20:24:53.122Z"
   },
   {
    "duration": 209,
    "start_time": "2024-09-25T20:25:00.122Z"
   },
   {
    "duration": 556,
    "start_time": "2024-09-25T20:25:03.942Z"
   },
   {
    "duration": 532,
    "start_time": "2024-09-25T20:25:42.526Z"
   },
   {
    "duration": 221,
    "start_time": "2024-09-25T20:26:13.315Z"
   },
   {
    "duration": 243,
    "start_time": "2024-09-25T20:27:47.381Z"
   },
   {
    "duration": 407,
    "start_time": "2024-09-25T20:31:27.746Z"
   },
   {
    "duration": 690,
    "start_time": "2024-09-25T20:32:06.536Z"
   },
   {
    "duration": 954,
    "start_time": "2024-09-25T20:32:36.362Z"
   },
   {
    "duration": 539,
    "start_time": "2024-09-25T20:34:09.589Z"
   },
   {
    "duration": 641,
    "start_time": "2024-09-25T20:34:52.601Z"
   },
   {
    "duration": 1099,
    "start_time": "2024-09-25T21:00:42.184Z"
   },
   {
    "duration": 36,
    "start_time": "2024-09-25T21:00:43.285Z"
   },
   {
    "duration": 4,
    "start_time": "2024-09-25T21:00:43.324Z"
   },
   {
    "duration": 4,
    "start_time": "2024-09-25T21:00:43.343Z"
   },
   {
    "duration": 3,
    "start_time": "2024-09-25T21:00:43.350Z"
   },
   {
    "duration": 3,
    "start_time": "2024-09-25T21:00:43.517Z"
   },
   {
    "duration": 4,
    "start_time": "2024-09-25T21:00:43.720Z"
   },
   {
    "duration": 15,
    "start_time": "2024-09-25T21:00:44.030Z"
   },
   {
    "duration": 2,
    "start_time": "2024-09-25T21:00:44.426Z"
   },
   {
    "duration": 6,
    "start_time": "2024-09-25T21:00:44.543Z"
   },
   {
    "duration": 15,
    "start_time": "2024-09-25T21:00:44.738Z"
   },
   {
    "duration": 5,
    "start_time": "2024-09-25T21:00:44.903Z"
   },
   {
    "duration": 6,
    "start_time": "2024-09-25T21:00:45.086Z"
   },
   {
    "duration": 16,
    "start_time": "2024-09-25T21:00:45.240Z"
   },
   {
    "duration": 11,
    "start_time": "2024-09-25T21:00:45.593Z"
   },
   {
    "duration": 3,
    "start_time": "2024-09-25T21:00:45.783Z"
   },
   {
    "duration": 3,
    "start_time": "2024-09-25T21:00:45.994Z"
   },
   {
    "duration": 6,
    "start_time": "2024-09-25T21:00:46.151Z"
   },
   {
    "duration": 13,
    "start_time": "2024-09-25T21:00:46.269Z"
   },
   {
    "duration": 11,
    "start_time": "2024-09-25T21:00:46.691Z"
   },
   {
    "duration": 2,
    "start_time": "2024-09-25T21:00:46.986Z"
   },
   {
    "duration": 6,
    "start_time": "2024-09-25T21:00:47.186Z"
   },
   {
    "duration": 16,
    "start_time": "2024-09-25T21:00:47.503Z"
   },
   {
    "duration": 9,
    "start_time": "2024-09-25T21:00:47.870Z"
   },
   {
    "duration": 2,
    "start_time": "2024-09-25T21:00:48.274Z"
   },
   {
    "duration": 6,
    "start_time": "2024-09-25T21:00:48.406Z"
   },
   {
    "duration": 11,
    "start_time": "2024-09-25T21:00:48.621Z"
   },
   {
    "duration": 16,
    "start_time": "2024-09-25T21:00:49.087Z"
   },
   {
    "duration": 13,
    "start_time": "2024-09-25T21:00:49.184Z"
   },
   {
    "duration": 27,
    "start_time": "2024-09-25T21:00:49.324Z"
   },
   {
    "duration": 4,
    "start_time": "2024-09-25T21:00:49.515Z"
   },
   {
    "duration": 11,
    "start_time": "2024-09-25T21:00:50.016Z"
   },
   {
    "duration": 121,
    "start_time": "2024-09-25T21:03:24.134Z"
   },
   {
    "duration": 1085,
    "start_time": "2024-09-25T21:35:15.423Z"
   },
   {
    "duration": 50,
    "start_time": "2024-09-25T21:35:16.511Z"
   },
   {
    "duration": 3,
    "start_time": "2024-09-25T21:35:16.562Z"
   },
   {
    "duration": 3,
    "start_time": "2024-09-25T21:35:16.567Z"
   },
   {
    "duration": 3,
    "start_time": "2024-09-25T21:35:16.572Z"
   },
   {
    "duration": 3,
    "start_time": "2024-09-25T21:35:16.581Z"
   },
   {
    "duration": 6,
    "start_time": "2024-09-25T21:35:16.587Z"
   },
   {
    "duration": 14,
    "start_time": "2024-09-25T21:35:16.646Z"
   },
   {
    "duration": 3,
    "start_time": "2024-09-25T21:35:16.940Z"
   },
   {
    "duration": 7,
    "start_time": "2024-09-25T21:35:17.072Z"
   },
   {
    "duration": 13,
    "start_time": "2024-09-25T21:35:17.223Z"
   },
   {
    "duration": 6,
    "start_time": "2024-09-25T21:35:17.356Z"
   },
   {
    "duration": 8,
    "start_time": "2024-09-25T21:35:17.496Z"
   },
   {
    "duration": 17,
    "start_time": "2024-09-25T21:35:17.624Z"
   },
   {
    "duration": 11,
    "start_time": "2024-09-25T21:35:17.899Z"
   },
   {
    "duration": 2,
    "start_time": "2024-09-25T21:35:18.151Z"
   },
   {
    "duration": 4,
    "start_time": "2024-09-25T21:35:18.305Z"
   },
   {
    "duration": 7,
    "start_time": "2024-09-25T21:35:18.449Z"
   },
   {
    "duration": 15,
    "start_time": "2024-09-25T21:35:18.580Z"
   },
   {
    "duration": 12,
    "start_time": "2024-09-25T21:35:18.858Z"
   },
   {
    "duration": 2,
    "start_time": "2024-09-25T21:35:19.146Z"
   },
   {
    "duration": 7,
    "start_time": "2024-09-25T21:35:19.276Z"
   },
   {
    "duration": 16,
    "start_time": "2024-09-25T21:35:19.679Z"
   },
   {
    "duration": 9,
    "start_time": "2024-09-25T21:35:19.959Z"
   },
   {
    "duration": 2,
    "start_time": "2024-09-25T21:35:20.247Z"
   },
   {
    "duration": 6,
    "start_time": "2024-09-25T21:35:20.432Z"
   },
   {
    "duration": 12,
    "start_time": "2024-09-25T21:35:20.928Z"
   },
   {
    "duration": 19,
    "start_time": "2024-09-25T21:35:21.253Z"
   },
   {
    "duration": 14,
    "start_time": "2024-09-25T21:35:21.547Z"
   },
   {
    "duration": 26,
    "start_time": "2024-09-25T21:35:22.268Z"
   },
   {
    "duration": 4,
    "start_time": "2024-09-25T21:35:23.107Z"
   },
   {
    "duration": 10,
    "start_time": "2024-09-25T21:35:24.772Z"
   },
   {
    "duration": 122,
    "start_time": "2024-09-25T21:35:31.798Z"
   },
   {
    "duration": 254,
    "start_time": "2024-09-25T21:36:32.030Z"
   },
   {
    "duration": 120,
    "start_time": "2024-09-25T21:37:50.886Z"
   },
   {
    "duration": 252,
    "start_time": "2024-09-25T21:41:06.756Z"
   },
   {
    "duration": 576,
    "start_time": "2024-09-25T21:43:17.191Z"
   },
   {
    "duration": 785,
    "start_time": "2024-09-25T21:48:01.495Z"
   },
   {
    "duration": 549,
    "start_time": "2024-09-25T21:50:22.403Z"
   },
   {
    "duration": 728,
    "start_time": "2024-09-25T21:55:25.522Z"
   },
   {
    "duration": 729,
    "start_time": "2024-09-25T21:58:50.497Z"
   },
   {
    "duration": 1093,
    "start_time": "2024-09-25T22:03:00.586Z"
   },
   {
    "duration": 34,
    "start_time": "2024-09-25T22:03:01.682Z"
   },
   {
    "duration": 3,
    "start_time": "2024-09-25T22:03:01.718Z"
   },
   {
    "duration": 4,
    "start_time": "2024-09-25T22:03:01.724Z"
   },
   {
    "duration": 3,
    "start_time": "2024-09-25T22:03:01.729Z"
   },
   {
    "duration": 3,
    "start_time": "2024-09-25T22:03:01.734Z"
   },
   {
    "duration": 4,
    "start_time": "2024-09-25T22:03:01.859Z"
   },
   {
    "duration": 18,
    "start_time": "2024-09-25T22:03:02.198Z"
   },
   {
    "duration": 3,
    "start_time": "2024-09-25T22:03:02.557Z"
   },
   {
    "duration": 5,
    "start_time": "2024-09-25T22:03:02.712Z"
   },
   {
    "duration": 13,
    "start_time": "2024-09-25T22:03:02.895Z"
   },
   {
    "duration": 10,
    "start_time": "2024-09-25T22:03:03.068Z"
   },
   {
    "duration": 7,
    "start_time": "2024-09-25T22:03:03.236Z"
   },
   {
    "duration": 16,
    "start_time": "2024-09-25T22:03:03.408Z"
   },
   {
    "duration": 11,
    "start_time": "2024-09-25T22:03:03.759Z"
   },
   {
    "duration": 3,
    "start_time": "2024-09-25T22:03:03.944Z"
   },
   {
    "duration": 4,
    "start_time": "2024-09-25T22:03:04.125Z"
   },
   {
    "duration": 6,
    "start_time": "2024-09-25T22:03:04.307Z"
   },
   {
    "duration": 14,
    "start_time": "2024-09-25T22:03:04.492Z"
   },
   {
    "duration": 13,
    "start_time": "2024-09-25T22:03:04.819Z"
   },
   {
    "duration": 2,
    "start_time": "2024-09-25T22:03:05.140Z"
   },
   {
    "duration": 6,
    "start_time": "2024-09-25T22:03:05.285Z"
   },
   {
    "duration": 16,
    "start_time": "2024-09-25T22:03:05.564Z"
   },
   {
    "duration": 10,
    "start_time": "2024-09-25T22:03:05.864Z"
   },
   {
    "duration": 3,
    "start_time": "2024-09-25T22:03:06.165Z"
   },
   {
    "duration": 6,
    "start_time": "2024-09-25T22:03:06.314Z"
   },
   {
    "duration": 12,
    "start_time": "2024-09-25T22:03:06.463Z"
   },
   {
    "duration": 23,
    "start_time": "2024-09-25T22:03:06.763Z"
   },
   {
    "duration": 15,
    "start_time": "2024-09-25T22:03:06.906Z"
   },
   {
    "duration": 29,
    "start_time": "2024-09-25T22:03:07.056Z"
   },
   {
    "duration": 5,
    "start_time": "2024-09-25T22:03:07.207Z"
   },
   {
    "duration": 12,
    "start_time": "2024-09-25T22:03:07.364Z"
   },
   {
    "duration": 116,
    "start_time": "2024-09-25T22:03:07.973Z"
   },
   {
    "duration": 260,
    "start_time": "2024-09-25T22:03:08.318Z"
   },
   {
    "duration": 114,
    "start_time": "2024-09-25T22:03:08.674Z"
   },
   {
    "duration": 722,
    "start_time": "2024-09-25T22:03:09.804Z"
   },
   {
    "duration": 251,
    "start_time": "2024-09-25T22:08:14.441Z"
   },
   {
    "duration": 590,
    "start_time": "2024-09-25T22:08:40.966Z"
   },
   {
    "duration": 870,
    "start_time": "2024-09-25T22:08:43.900Z"
   },
   {
    "duration": 905,
    "start_time": "2024-09-25T22:11:02.670Z"
   },
   {
    "duration": 631,
    "start_time": "2024-09-25T22:12:37.655Z"
   },
   {
    "duration": 4,
    "start_time": "2024-09-25T22:36:20.570Z"
   },
   {
    "duration": 5,
    "start_time": "2024-09-25T22:36:28.400Z"
   },
   {
    "duration": 4,
    "start_time": "2024-09-25T22:36:29.485Z"
   },
   {
    "duration": 2709,
    "start_time": "2024-09-26T20:00:43.657Z"
   },
   {
    "duration": 73,
    "start_time": "2024-09-26T20:00:46.368Z"
   },
   {
    "duration": 2,
    "start_time": "2024-09-26T20:00:46.443Z"
   },
   {
    "duration": 4,
    "start_time": "2024-09-26T20:00:46.447Z"
   },
   {
    "duration": 3,
    "start_time": "2024-09-26T20:00:46.452Z"
   },
   {
    "duration": 3,
    "start_time": "2024-09-26T20:00:46.457Z"
   },
   {
    "duration": 10,
    "start_time": "2024-09-26T20:00:46.462Z"
   },
   {
    "duration": 16,
    "start_time": "2024-09-26T20:00:46.474Z"
   },
   {
    "duration": 3,
    "start_time": "2024-09-26T20:00:46.491Z"
   },
   {
    "duration": 5,
    "start_time": "2024-09-26T20:00:46.497Z"
   },
   {
    "duration": 41,
    "start_time": "2024-09-26T20:00:46.503Z"
   },
   {
    "duration": 5,
    "start_time": "2024-09-26T20:00:46.545Z"
   },
   {
    "duration": 7,
    "start_time": "2024-09-26T20:00:46.552Z"
   },
   {
    "duration": 17,
    "start_time": "2024-09-26T20:00:46.560Z"
   },
   {
    "duration": 11,
    "start_time": "2024-09-26T20:00:46.650Z"
   },
   {
    "duration": 3,
    "start_time": "2024-09-26T20:00:46.796Z"
   },
   {
    "duration": 3,
    "start_time": "2024-09-26T20:00:46.947Z"
   },
   {
    "duration": 6,
    "start_time": "2024-09-26T20:00:47.107Z"
   },
   {
    "duration": 14,
    "start_time": "2024-09-26T20:00:47.269Z"
   },
   {
    "duration": 11,
    "start_time": "2024-09-26T20:00:47.582Z"
   },
   {
    "duration": 3,
    "start_time": "2024-09-26T20:00:47.868Z"
   },
   {
    "duration": 5,
    "start_time": "2024-09-26T20:00:48.036Z"
   },
   {
    "duration": 17,
    "start_time": "2024-09-26T20:00:48.345Z"
   },
   {
    "duration": 9,
    "start_time": "2024-09-26T20:00:48.657Z"
   },
   {
    "duration": 2,
    "start_time": "2024-09-26T20:00:48.964Z"
   },
   {
    "duration": 7,
    "start_time": "2024-09-26T20:00:49.134Z"
   },
   {
    "duration": 14,
    "start_time": "2024-09-26T20:00:49.283Z"
   },
   {
    "duration": 17,
    "start_time": "2024-09-26T20:00:49.584Z"
   },
   {
    "duration": 11,
    "start_time": "2024-09-26T20:00:49.734Z"
   },
   {
    "duration": 25,
    "start_time": "2024-09-26T20:00:49.907Z"
   },
   {
    "duration": 4,
    "start_time": "2024-09-26T20:00:50.067Z"
   },
   {
    "duration": 9,
    "start_time": "2024-09-26T20:00:50.222Z"
   },
   {
    "duration": 121,
    "start_time": "2024-09-26T20:00:50.909Z"
   },
   {
    "duration": 290,
    "start_time": "2024-09-26T20:00:51.542Z"
   },
   {
    "duration": 167,
    "start_time": "2024-09-26T20:00:52.222Z"
   },
   {
    "duration": 779,
    "start_time": "2024-09-26T20:00:52.929Z"
   },
   {
    "duration": 862,
    "start_time": "2024-09-26T20:00:54.115Z"
   },
   {
    "duration": 547,
    "start_time": "2024-09-26T20:00:55.013Z"
   },
   {
    "duration": 1071,
    "start_time": "2024-09-26T20:20:56.648Z"
   },
   {
    "duration": 37,
    "start_time": "2024-09-26T20:20:57.723Z"
   },
   {
    "duration": 2,
    "start_time": "2024-09-26T20:20:57.762Z"
   },
   {
    "duration": 4,
    "start_time": "2024-09-26T20:20:57.767Z"
   },
   {
    "duration": 3,
    "start_time": "2024-09-26T20:20:57.772Z"
   },
   {
    "duration": 3,
    "start_time": "2024-09-26T20:20:57.776Z"
   },
   {
    "duration": 4,
    "start_time": "2024-09-26T20:20:57.781Z"
   },
   {
    "duration": 14,
    "start_time": "2024-09-26T20:20:57.926Z"
   },
   {
    "duration": 3,
    "start_time": "2024-09-26T20:20:58.204Z"
   },
   {
    "duration": 5,
    "start_time": "2024-09-26T20:20:58.349Z"
   },
   {
    "duration": 12,
    "start_time": "2024-09-26T20:20:58.542Z"
   },
   {
    "duration": 5,
    "start_time": "2024-09-26T20:20:58.639Z"
   },
   {
    "duration": 6,
    "start_time": "2024-09-26T20:20:58.789Z"
   },
   {
    "duration": 17,
    "start_time": "2024-09-26T20:20:58.905Z"
   },
   {
    "duration": 12,
    "start_time": "2024-09-26T20:20:59.224Z"
   },
   {
    "duration": 4,
    "start_time": "2024-09-26T20:20:59.362Z"
   },
   {
    "duration": 4,
    "start_time": "2024-09-26T20:20:59.490Z"
   },
   {
    "duration": 6,
    "start_time": "2024-09-26T20:20:59.629Z"
   },
   {
    "duration": 15,
    "start_time": "2024-09-26T20:20:59.786Z"
   },
   {
    "duration": 13,
    "start_time": "2024-09-26T20:21:00.067Z"
   },
   {
    "duration": 3,
    "start_time": "2024-09-26T20:21:00.359Z"
   },
   {
    "duration": 6,
    "start_time": "2024-09-26T20:21:00.505Z"
   },
   {
    "duration": 16,
    "start_time": "2024-09-26T20:21:00.785Z"
   },
   {
    "duration": 9,
    "start_time": "2024-09-26T20:21:01.078Z"
   },
   {
    "duration": 2,
    "start_time": "2024-09-26T20:21:01.365Z"
   },
   {
    "duration": 6,
    "start_time": "2024-09-26T20:21:01.504Z"
   },
   {
    "duration": 11,
    "start_time": "2024-09-26T20:21:01.644Z"
   },
   {
    "duration": 18,
    "start_time": "2024-09-26T20:21:01.935Z"
   },
   {
    "duration": 12,
    "start_time": "2024-09-26T20:21:02.076Z"
   },
   {
    "duration": 27,
    "start_time": "2024-09-26T20:21:02.361Z"
   },
   {
    "duration": 5,
    "start_time": "2024-09-26T20:21:02.558Z"
   },
   {
    "duration": 11,
    "start_time": "2024-09-26T20:21:02.822Z"
   },
   {
    "duration": 118,
    "start_time": "2024-09-26T20:21:03.878Z"
   },
   {
    "duration": 296,
    "start_time": "2024-09-26T20:21:06.810Z"
   },
   {
    "duration": 126,
    "start_time": "2024-09-26T20:21:07.108Z"
   },
   {
    "duration": 772,
    "start_time": "2024-09-26T20:21:07.349Z"
   },
   {
    "duration": 988,
    "start_time": "2024-09-26T20:21:08.124Z"
   },
   {
    "duration": 560,
    "start_time": "2024-09-26T20:21:09.115Z"
   },
   {
    "duration": 4,
    "start_time": "2024-09-26T20:30:53.877Z"
   },
   {
    "duration": 5,
    "start_time": "2024-09-26T20:31:00.610Z"
   },
   {
    "duration": 4,
    "start_time": "2024-09-26T20:31:02.639Z"
   },
   {
    "duration": 4,
    "start_time": "2024-09-26T20:31:10.771Z"
   },
   {
    "duration": 274,
    "start_time": "2024-09-26T20:32:37.305Z"
   },
   {
    "duration": 1135,
    "start_time": "2024-09-26T20:33:19.479Z"
   },
   {
    "duration": 41,
    "start_time": "2024-09-26T20:33:20.617Z"
   },
   {
    "duration": 3,
    "start_time": "2024-09-26T20:33:20.660Z"
   },
   {
    "duration": 3,
    "start_time": "2024-09-26T20:33:20.665Z"
   },
   {
    "duration": 3,
    "start_time": "2024-09-26T20:33:20.671Z"
   },
   {
    "duration": 2,
    "start_time": "2024-09-26T20:33:20.676Z"
   },
   {
    "duration": 4,
    "start_time": "2024-09-26T20:33:20.680Z"
   },
   {
    "duration": 16,
    "start_time": "2024-09-26T20:33:20.685Z"
   },
   {
    "duration": 4,
    "start_time": "2024-09-26T20:33:20.703Z"
   },
   {
    "duration": 5,
    "start_time": "2024-09-26T20:33:20.709Z"
   },
   {
    "duration": 19,
    "start_time": "2024-09-26T20:33:20.743Z"
   },
   {
    "duration": 5,
    "start_time": "2024-09-26T20:33:20.764Z"
   },
   {
    "duration": 6,
    "start_time": "2024-09-26T20:33:20.772Z"
   },
   {
    "duration": 18,
    "start_time": "2024-09-26T20:33:20.783Z"
   },
   {
    "duration": 48,
    "start_time": "2024-09-26T20:33:20.803Z"
   },
   {
    "duration": 3,
    "start_time": "2024-09-26T20:33:20.855Z"
   },
   {
    "duration": 4,
    "start_time": "2024-09-26T20:33:20.860Z"
   },
   {
    "duration": 7,
    "start_time": "2024-09-26T20:33:20.866Z"
   },
   {
    "duration": 19,
    "start_time": "2024-09-26T20:33:20.876Z"
   },
   {
    "duration": 11,
    "start_time": "2024-09-26T20:33:20.899Z"
   },
   {
    "duration": 32,
    "start_time": "2024-09-26T20:33:20.913Z"
   },
   {
    "duration": 9,
    "start_time": "2024-09-26T20:33:20.948Z"
   },
   {
    "duration": 18,
    "start_time": "2024-09-26T20:33:20.959Z"
   },
   {
    "duration": 9,
    "start_time": "2024-09-26T20:33:20.979Z"
   },
   {
    "duration": 3,
    "start_time": "2024-09-26T20:33:20.990Z"
   },
   {
    "duration": 7,
    "start_time": "2024-09-26T20:33:20.994Z"
   },
   {
    "duration": 51,
    "start_time": "2024-09-26T20:33:21.003Z"
   },
   {
    "duration": 20,
    "start_time": "2024-09-26T20:33:21.056Z"
   },
   {
    "duration": 14,
    "start_time": "2024-09-26T20:33:21.077Z"
   },
   {
    "duration": 58,
    "start_time": "2024-09-26T20:33:21.094Z"
   },
   {
    "duration": 4,
    "start_time": "2024-09-26T20:33:21.155Z"
   },
   {
    "duration": 11,
    "start_time": "2024-09-26T20:33:21.162Z"
   },
   {
    "duration": 152,
    "start_time": "2024-09-26T20:33:21.174Z"
   },
   {
    "duration": 296,
    "start_time": "2024-09-26T20:33:21.328Z"
   },
   {
    "duration": 137,
    "start_time": "2024-09-26T20:33:21.625Z"
   },
   {
    "duration": 750,
    "start_time": "2024-09-26T20:33:21.764Z"
   },
   {
    "duration": 982,
    "start_time": "2024-09-26T20:33:22.516Z"
   },
   {
    "duration": 567,
    "start_time": "2024-09-26T20:33:23.501Z"
   },
   {
    "duration": 6,
    "start_time": "2024-09-26T20:33:24.071Z"
   },
   {
    "duration": 5,
    "start_time": "2024-09-26T20:33:24.078Z"
   },
   {
    "duration": 3,
    "start_time": "2024-09-26T20:33:24.088Z"
   },
   {
    "duration": 3,
    "start_time": "2024-09-26T20:33:24.093Z"
   },
   {
    "duration": 8,
    "start_time": "2024-09-26T20:33:24.098Z"
   },
   {
    "duration": 41,
    "start_time": "2024-09-26T20:33:24.108Z"
   },
   {
    "duration": 549,
    "start_time": "2024-09-26T20:33:24.151Z"
   },
   {
    "duration": 0,
    "start_time": "2024-09-26T20:33:24.702Z"
   },
   {
    "duration": 1230,
    "start_time": "2024-09-26T20:35:59.357Z"
   },
   {
    "duration": 34,
    "start_time": "2024-09-26T20:36:00.589Z"
   },
   {
    "duration": 2,
    "start_time": "2024-09-26T20:36:00.625Z"
   },
   {
    "duration": 3,
    "start_time": "2024-09-26T20:36:00.629Z"
   },
   {
    "duration": 5,
    "start_time": "2024-09-26T20:36:00.643Z"
   },
   {
    "duration": 3,
    "start_time": "2024-09-26T20:36:00.650Z"
   },
   {
    "duration": 6,
    "start_time": "2024-09-26T20:36:00.655Z"
   },
   {
    "duration": 14,
    "start_time": "2024-09-26T20:36:00.663Z"
   },
   {
    "duration": 3,
    "start_time": "2024-09-26T20:36:00.678Z"
   },
   {
    "duration": 5,
    "start_time": "2024-09-26T20:36:00.682Z"
   },
   {
    "duration": 11,
    "start_time": "2024-09-26T20:36:00.689Z"
   },
   {
    "duration": 5,
    "start_time": "2024-09-26T20:36:00.702Z"
   },
   {
    "duration": 6,
    "start_time": "2024-09-26T20:36:00.743Z"
   },
   {
    "duration": 17,
    "start_time": "2024-09-26T20:36:00.754Z"
   },
   {
    "duration": 11,
    "start_time": "2024-09-26T20:36:00.772Z"
   },
   {
    "duration": 3,
    "start_time": "2024-09-26T20:36:00.784Z"
   },
   {
    "duration": 3,
    "start_time": "2024-09-26T20:36:00.789Z"
   },
   {
    "duration": 6,
    "start_time": "2024-09-26T20:36:00.794Z"
   },
   {
    "duration": 52,
    "start_time": "2024-09-26T20:36:00.802Z"
   },
   {
    "duration": 11,
    "start_time": "2024-09-26T20:36:00.859Z"
   },
   {
    "duration": 2,
    "start_time": "2024-09-26T20:36:00.873Z"
   },
   {
    "duration": 5,
    "start_time": "2024-09-26T20:36:00.877Z"
   },
   {
    "duration": 16,
    "start_time": "2024-09-26T20:36:00.883Z"
   },
   {
    "duration": 8,
    "start_time": "2024-09-26T20:36:00.900Z"
   },
   {
    "duration": 3,
    "start_time": "2024-09-26T20:36:00.910Z"
   },
   {
    "duration": 33,
    "start_time": "2024-09-26T20:36:00.914Z"
   },
   {
    "duration": 14,
    "start_time": "2024-09-26T20:36:00.949Z"
   },
   {
    "duration": 17,
    "start_time": "2024-09-26T20:36:00.965Z"
   },
   {
    "duration": 12,
    "start_time": "2024-09-26T20:36:00.984Z"
   },
   {
    "duration": 58,
    "start_time": "2024-09-26T20:36:00.997Z"
   },
   {
    "duration": 6,
    "start_time": "2024-09-26T20:36:01.056Z"
   },
   {
    "duration": 10,
    "start_time": "2024-09-26T20:36:01.064Z"
   },
   {
    "duration": 140,
    "start_time": "2024-09-26T20:36:01.075Z"
   },
   {
    "duration": 301,
    "start_time": "2024-09-26T20:36:01.219Z"
   },
   {
    "duration": 128,
    "start_time": "2024-09-26T20:36:01.522Z"
   },
   {
    "duration": 738,
    "start_time": "2024-09-26T20:36:01.652Z"
   },
   {
    "duration": 980,
    "start_time": "2024-09-26T20:36:02.392Z"
   },
   {
    "duration": 590,
    "start_time": "2024-09-26T20:36:03.374Z"
   },
   {
    "duration": 4,
    "start_time": "2024-09-26T20:36:03.966Z"
   },
   {
    "duration": 5,
    "start_time": "2024-09-26T20:36:03.971Z"
   },
   {
    "duration": 3,
    "start_time": "2024-09-26T20:36:03.980Z"
   },
   {
    "duration": 5,
    "start_time": "2024-09-26T20:36:03.985Z"
   },
   {
    "duration": 2741,
    "start_time": "2024-09-26T22:45:51.839Z"
   },
   {
    "duration": 52,
    "start_time": "2024-09-26T22:45:54.582Z"
   },
   {
    "duration": 3,
    "start_time": "2024-09-26T22:45:54.635Z"
   },
   {
    "duration": 3,
    "start_time": "2024-09-26T22:45:54.640Z"
   },
   {
    "duration": 3,
    "start_time": "2024-09-26T22:45:54.645Z"
   },
   {
    "duration": 3,
    "start_time": "2024-09-26T22:45:54.649Z"
   },
   {
    "duration": 3,
    "start_time": "2024-09-26T22:45:54.654Z"
   },
   {
    "duration": 13,
    "start_time": "2024-09-26T22:45:54.659Z"
   },
   {
    "duration": 4,
    "start_time": "2024-09-26T22:45:54.673Z"
   },
   {
    "duration": 5,
    "start_time": "2024-09-26T22:45:54.679Z"
   },
   {
    "duration": 34,
    "start_time": "2024-09-26T22:45:54.686Z"
   },
   {
    "duration": 6,
    "start_time": "2024-09-26T22:45:54.721Z"
   },
   {
    "duration": 7,
    "start_time": "2024-09-26T22:45:54.728Z"
   },
   {
    "duration": 15,
    "start_time": "2024-09-26T22:45:54.739Z"
   },
   {
    "duration": 12,
    "start_time": "2024-09-26T22:45:54.755Z"
   },
   {
    "duration": 3,
    "start_time": "2024-09-26T22:45:54.768Z"
   },
   {
    "duration": 33,
    "start_time": "2024-09-26T22:45:54.772Z"
   },
   {
    "duration": 5,
    "start_time": "2024-09-26T22:45:54.807Z"
   },
   {
    "duration": 14,
    "start_time": "2024-09-26T22:45:54.814Z"
   },
   {
    "duration": 11,
    "start_time": "2024-09-26T22:45:54.830Z"
   },
   {
    "duration": 3,
    "start_time": "2024-09-26T22:45:54.842Z"
   },
   {
    "duration": 5,
    "start_time": "2024-09-26T22:45:54.846Z"
   },
   {
    "duration": 53,
    "start_time": "2024-09-26T22:45:54.853Z"
   },
   {
    "duration": 9,
    "start_time": "2024-09-26T22:45:54.907Z"
   },
   {
    "duration": 2,
    "start_time": "2024-09-26T22:45:54.918Z"
   },
   {
    "duration": 6,
    "start_time": "2024-09-26T22:45:54.922Z"
   },
   {
    "duration": 10,
    "start_time": "2024-09-26T22:45:54.930Z"
   },
   {
    "duration": 18,
    "start_time": "2024-09-26T22:45:54.941Z"
   },
   {
    "duration": 48,
    "start_time": "2024-09-26T22:45:54.962Z"
   },
   {
    "duration": 26,
    "start_time": "2024-09-26T22:45:55.012Z"
   },
   {
    "duration": 4,
    "start_time": "2024-09-26T22:45:55.039Z"
   },
   {
    "duration": 9,
    "start_time": "2024-09-26T22:45:55.044Z"
   },
   {
    "duration": 144,
    "start_time": "2024-09-26T22:45:55.055Z"
   },
   {
    "duration": 287,
    "start_time": "2024-09-26T22:45:55.204Z"
   },
   {
    "duration": 122,
    "start_time": "2024-09-26T22:45:55.492Z"
   },
   {
    "duration": 762,
    "start_time": "2024-09-26T22:45:55.616Z"
   },
   {
    "duration": 1002,
    "start_time": "2024-09-26T22:45:56.380Z"
   },
   {
    "duration": 540,
    "start_time": "2024-09-26T22:45:57.385Z"
   },
   {
    "duration": 4,
    "start_time": "2024-09-26T22:45:57.926Z"
   },
   {
    "duration": 5,
    "start_time": "2024-09-26T22:45:57.932Z"
   },
   {
    "duration": 3,
    "start_time": "2024-09-26T22:45:57.941Z"
   },
   {
    "duration": 5,
    "start_time": "2024-09-26T22:45:57.945Z"
   },
   {
    "duration": 8,
    "start_time": "2024-09-26T22:45:57.952Z"
   },
   {
    "duration": 8,
    "start_time": "2024-09-26T22:45:57.961Z"
   },
   {
    "duration": 39,
    "start_time": "2024-09-26T22:45:57.971Z"
   },
   {
    "duration": 7,
    "start_time": "2024-09-26T22:45:58.012Z"
   },
   {
    "duration": 524,
    "start_time": "2024-09-26T22:45:58.021Z"
   },
   {
    "duration": 0,
    "start_time": "2024-09-26T22:45:58.547Z"
   },
   {
    "duration": 0,
    "start_time": "2024-09-26T22:45:58.548Z"
   },
   {
    "duration": 0,
    "start_time": "2024-09-26T22:45:58.549Z"
   },
   {
    "duration": 5,
    "start_time": "2024-09-26T22:53:21.528Z"
   },
   {
    "duration": 4,
    "start_time": "2024-09-26T22:53:42.104Z"
   },
   {
    "duration": 68,
    "start_time": "2024-09-26T22:54:06.139Z"
   },
   {
    "duration": 1036,
    "start_time": "2024-09-26T23:35:42.301Z"
   },
   {
    "duration": 33,
    "start_time": "2024-09-26T23:35:43.339Z"
   },
   {
    "duration": 2,
    "start_time": "2024-09-26T23:35:43.374Z"
   },
   {
    "duration": 3,
    "start_time": "2024-09-26T23:35:43.461Z"
   },
   {
    "duration": 2,
    "start_time": "2024-09-26T23:35:43.606Z"
   },
   {
    "duration": 2,
    "start_time": "2024-09-26T23:35:43.746Z"
   },
   {
    "duration": 3,
    "start_time": "2024-09-26T23:35:43.891Z"
   },
   {
    "duration": 14,
    "start_time": "2024-09-26T23:35:44.184Z"
   },
   {
    "duration": 3,
    "start_time": "2024-09-26T23:35:44.481Z"
   },
   {
    "duration": 6,
    "start_time": "2024-09-26T23:35:44.630Z"
   },
   {
    "duration": 13,
    "start_time": "2024-09-26T23:35:44.781Z"
   },
   {
    "duration": 5,
    "start_time": "2024-09-26T23:35:44.928Z"
   },
   {
    "duration": 8,
    "start_time": "2024-09-26T23:35:45.079Z"
   },
   {
    "duration": 16,
    "start_time": "2024-09-26T23:35:45.212Z"
   },
   {
    "duration": 11,
    "start_time": "2024-09-26T23:35:45.504Z"
   },
   {
    "duration": 2,
    "start_time": "2024-09-26T23:35:45.664Z"
   },
   {
    "duration": 3,
    "start_time": "2024-09-26T23:35:45.792Z"
   },
   {
    "duration": 6,
    "start_time": "2024-09-26T23:35:45.955Z"
   },
   {
    "duration": 14,
    "start_time": "2024-09-26T23:35:46.087Z"
   },
   {
    "duration": 12,
    "start_time": "2024-09-26T23:35:46.409Z"
   },
   {
    "duration": 3,
    "start_time": "2024-09-26T23:35:46.710Z"
   },
   {
    "duration": 5,
    "start_time": "2024-09-26T23:35:46.874Z"
   },
   {
    "duration": 20,
    "start_time": "2024-09-26T23:35:47.205Z"
   },
   {
    "duration": 8,
    "start_time": "2024-09-26T23:35:47.525Z"
   },
   {
    "duration": 3,
    "start_time": "2024-09-26T23:35:47.905Z"
   },
   {
    "duration": 5,
    "start_time": "2024-09-26T23:35:48.185Z"
   },
   {
    "duration": 11,
    "start_time": "2024-09-26T23:35:48.453Z"
   },
   {
    "duration": 17,
    "start_time": "2024-09-26T23:35:49.244Z"
   },
   {
    "duration": 12,
    "start_time": "2024-09-26T23:35:49.677Z"
   },
   {
    "duration": 27,
    "start_time": "2024-09-26T23:35:49.919Z"
   },
   {
    "duration": 4,
    "start_time": "2024-09-26T23:35:50.358Z"
   },
   {
    "duration": 10,
    "start_time": "2024-09-26T23:35:50.993Z"
   },
   {
    "duration": 118,
    "start_time": "2024-09-26T23:35:57.675Z"
   },
   {
    "duration": 275,
    "start_time": "2024-09-26T23:35:58.414Z"
   },
   {
    "duration": 112,
    "start_time": "2024-09-26T23:35:59.066Z"
   },
   {
    "duration": 787,
    "start_time": "2024-09-26T23:35:59.771Z"
   },
   {
    "duration": 985,
    "start_time": "2024-09-26T23:36:01.600Z"
   },
   {
    "duration": 571,
    "start_time": "2024-09-26T23:36:02.655Z"
   },
   {
    "duration": 920,
    "start_time": "2024-09-26T23:36:16.281Z"
   },
   {
    "duration": 3,
    "start_time": "2024-09-26T23:37:16.503Z"
   },
   {
    "duration": 32,
    "start_time": "2024-09-26T23:37:23.100Z"
   },
   {
    "duration": 10,
    "start_time": "2024-09-26T23:37:36.166Z"
   },
   {
    "duration": 5,
    "start_time": "2024-09-26T23:37:42.975Z"
   },
   {
    "duration": 4,
    "start_time": "2024-09-26T23:37:52.357Z"
   },
   {
    "duration": 4,
    "start_time": "2024-09-26T23:38:11.177Z"
   },
   {
    "duration": 9,
    "start_time": "2024-09-26T23:42:47.122Z"
   },
   {
    "duration": 10,
    "start_time": "2024-09-26T23:42:48.951Z"
   },
   {
    "duration": 9,
    "start_time": "2024-09-26T23:43:00.145Z"
   },
   {
    "duration": 8,
    "start_time": "2024-09-26T23:43:01.254Z"
   },
   {
    "duration": 30,
    "start_time": "2024-09-26T23:43:19.414Z"
   },
   {
    "duration": 1001,
    "start_time": "2024-09-26T23:45:40.423Z"
   },
   {
    "duration": 32,
    "start_time": "2024-09-26T23:45:41.426Z"
   },
   {
    "duration": 2,
    "start_time": "2024-09-26T23:45:41.460Z"
   },
   {
    "duration": 3,
    "start_time": "2024-09-26T23:45:41.465Z"
   },
   {
    "duration": 3,
    "start_time": "2024-09-26T23:45:41.470Z"
   },
   {
    "duration": 2,
    "start_time": "2024-09-26T23:45:41.475Z"
   },
   {
    "duration": 4,
    "start_time": "2024-09-26T23:45:41.479Z"
   },
   {
    "duration": 13,
    "start_time": "2024-09-26T23:45:41.729Z"
   },
   {
    "duration": 3,
    "start_time": "2024-09-26T23:45:42.032Z"
   },
   {
    "duration": 5,
    "start_time": "2024-09-26T23:45:42.177Z"
   },
   {
    "duration": 12,
    "start_time": "2024-09-26T23:45:42.322Z"
   },
   {
    "duration": 6,
    "start_time": "2024-09-26T23:45:42.483Z"
   },
   {
    "duration": 7,
    "start_time": "2024-09-26T23:45:42.615Z"
   },
   {
    "duration": 17,
    "start_time": "2024-09-26T23:45:42.761Z"
   },
   {
    "duration": 11,
    "start_time": "2024-09-26T23:45:43.077Z"
   },
   {
    "duration": 3,
    "start_time": "2024-09-26T23:45:43.219Z"
   },
   {
    "duration": 3,
    "start_time": "2024-09-26T23:45:43.361Z"
   },
   {
    "duration": 6,
    "start_time": "2024-09-26T23:45:43.522Z"
   },
   {
    "duration": 14,
    "start_time": "2024-09-26T23:45:43.662Z"
   },
   {
    "duration": 14,
    "start_time": "2024-09-26T23:45:43.967Z"
   },
   {
    "duration": 3,
    "start_time": "2024-09-26T23:45:44.232Z"
   },
   {
    "duration": 5,
    "start_time": "2024-09-26T23:45:44.413Z"
   },
   {
    "duration": 15,
    "start_time": "2024-09-26T23:45:44.721Z"
   },
   {
    "duration": 10,
    "start_time": "2024-09-26T23:45:45.020Z"
   },
   {
    "duration": 2,
    "start_time": "2024-09-26T23:45:45.339Z"
   },
   {
    "duration": 6,
    "start_time": "2024-09-26T23:45:45.502Z"
   },
   {
    "duration": 12,
    "start_time": "2024-09-26T23:45:45.653Z"
   },
   {
    "duration": 18,
    "start_time": "2024-09-26T23:45:46.031Z"
   },
   {
    "duration": 14,
    "start_time": "2024-09-26T23:45:46.416Z"
   },
   {
    "duration": 26,
    "start_time": "2024-09-26T23:45:46.713Z"
   },
   {
    "duration": 7,
    "start_time": "2024-09-26T23:45:47.098Z"
   },
   {
    "duration": 10,
    "start_time": "2024-09-26T23:45:47.451Z"
   },
   {
    "duration": 118,
    "start_time": "2024-09-26T23:45:48.824Z"
   },
   {
    "duration": 242,
    "start_time": "2024-09-26T23:45:49.944Z"
   },
   {
    "duration": 116,
    "start_time": "2024-09-26T23:45:50.292Z"
   },
   {
    "duration": 746,
    "start_time": "2024-09-26T23:45:50.664Z"
   },
   {
    "duration": 963,
    "start_time": "2024-09-26T23:45:52.295Z"
   },
   {
    "duration": 564,
    "start_time": "2024-09-26T23:45:54.149Z"
   },
   {
    "duration": 4,
    "start_time": "2024-09-26T23:45:57.155Z"
   },
   {
    "duration": 31,
    "start_time": "2024-09-26T23:45:58.163Z"
   },
   {
    "duration": 24,
    "start_time": "2024-09-26T23:46:01.763Z"
   },
   {
    "duration": 4,
    "start_time": "2024-09-26T23:46:05.142Z"
   },
   {
    "duration": 3,
    "start_time": "2024-09-26T23:46:06.153Z"
   },
   {
    "duration": 5,
    "start_time": "2024-09-26T23:46:10.845Z"
   },
   {
    "duration": 8,
    "start_time": "2024-09-26T23:46:15.937Z"
   },
   {
    "duration": 9,
    "start_time": "2024-09-26T23:46:16.793Z"
   },
   {
    "duration": 7,
    "start_time": "2024-09-26T23:46:18.226Z"
   },
   {
    "duration": 8,
    "start_time": "2024-09-26T23:46:18.747Z"
   },
   {
    "duration": 304,
    "start_time": "2024-09-26T23:46:21.925Z"
   },
   {
    "duration": 234,
    "start_time": "2024-09-26T23:46:25.896Z"
   },
   {
    "duration": 1081,
    "start_time": "2024-09-26T23:47:30.206Z"
   },
   {
    "duration": 45,
    "start_time": "2024-09-26T23:47:31.289Z"
   },
   {
    "duration": 3,
    "start_time": "2024-09-26T23:47:31.337Z"
   },
   {
    "duration": 5,
    "start_time": "2024-09-26T23:47:31.342Z"
   },
   {
    "duration": 3,
    "start_time": "2024-09-26T23:47:31.349Z"
   },
   {
    "duration": 4,
    "start_time": "2024-09-26T23:47:31.353Z"
   },
   {
    "duration": 5,
    "start_time": "2024-09-26T23:47:31.358Z"
   },
   {
    "duration": 17,
    "start_time": "2024-09-26T23:47:31.461Z"
   },
   {
    "duration": 4,
    "start_time": "2024-09-26T23:47:31.760Z"
   },
   {
    "duration": 5,
    "start_time": "2024-09-26T23:47:31.893Z"
   },
   {
    "duration": 12,
    "start_time": "2024-09-26T23:47:32.027Z"
   },
   {
    "duration": 5,
    "start_time": "2024-09-26T23:47:32.173Z"
   },
   {
    "duration": 6,
    "start_time": "2024-09-26T23:47:32.295Z"
   },
   {
    "duration": 16,
    "start_time": "2024-09-26T23:47:32.446Z"
   },
   {
    "duration": 12,
    "start_time": "2024-09-26T23:47:32.714Z"
   },
   {
    "duration": 2,
    "start_time": "2024-09-26T23:47:32.854Z"
   },
   {
    "duration": 3,
    "start_time": "2024-09-26T23:47:32.982Z"
   },
   {
    "duration": 6,
    "start_time": "2024-09-26T23:47:33.134Z"
   },
   {
    "duration": 13,
    "start_time": "2024-09-26T23:47:33.261Z"
   },
   {
    "duration": 10,
    "start_time": "2024-09-26T23:47:33.540Z"
   },
   {
    "duration": 3,
    "start_time": "2024-09-26T23:47:33.824Z"
   },
   {
    "duration": 5,
    "start_time": "2024-09-26T23:47:33.966Z"
   },
   {
    "duration": 18,
    "start_time": "2024-09-26T23:47:34.253Z"
   },
   {
    "duration": 9,
    "start_time": "2024-09-26T23:47:34.539Z"
   },
   {
    "duration": 5,
    "start_time": "2024-09-26T23:47:34.826Z"
   },
   {
    "duration": 9,
    "start_time": "2024-09-26T23:47:34.961Z"
   },
   {
    "duration": 11,
    "start_time": "2024-09-26T23:47:35.095Z"
   },
   {
    "duration": 20,
    "start_time": "2024-09-26T23:47:35.375Z"
   },
   {
    "duration": 12,
    "start_time": "2024-09-26T23:47:35.507Z"
   },
   {
    "duration": 27,
    "start_time": "2024-09-26T23:47:35.648Z"
   },
   {
    "duration": 4,
    "start_time": "2024-09-26T23:47:35.792Z"
   },
   {
    "duration": 10,
    "start_time": "2024-09-26T23:47:35.942Z"
   },
   {
    "duration": 125,
    "start_time": "2024-09-26T23:47:36.521Z"
   },
   {
    "duration": 306,
    "start_time": "2024-09-26T23:47:36.815Z"
   },
   {
    "duration": 164,
    "start_time": "2024-09-26T23:47:37.124Z"
   },
   {
    "duration": 813,
    "start_time": "2024-09-26T23:47:37.398Z"
   },
   {
    "duration": 912,
    "start_time": "2024-09-26T23:47:38.213Z"
   },
   {
    "duration": 574,
    "start_time": "2024-09-26T23:47:39.127Z"
   },
   {
    "duration": 5,
    "start_time": "2024-09-26T23:47:39.706Z"
   },
   {
    "duration": 31,
    "start_time": "2024-09-26T23:47:40.123Z"
   },
   {
    "duration": 23,
    "start_time": "2024-09-26T23:47:41.423Z"
   },
   {
    "duration": 4,
    "start_time": "2024-09-26T23:47:42.309Z"
   },
   {
    "duration": 3,
    "start_time": "2024-09-26T23:47:42.765Z"
   },
   {
    "duration": 5,
    "start_time": "2024-09-26T23:47:45.343Z"
   },
   {
    "duration": 8,
    "start_time": "2024-09-26T23:47:47.082Z"
   },
   {
    "duration": 8,
    "start_time": "2024-09-26T23:47:47.570Z"
   },
   {
    "duration": 7,
    "start_time": "2024-09-26T23:47:47.914Z"
   },
   {
    "duration": 7,
    "start_time": "2024-09-26T23:47:48.327Z"
   },
   {
    "duration": 221,
    "start_time": "2024-09-26T23:47:51.099Z"
   },
   {
    "duration": 8,
    "start_time": "2024-09-26T23:47:53.606Z"
   },
   {
    "duration": 1019,
    "start_time": "2024-09-26T23:54:56.832Z"
   },
   {
    "duration": 31,
    "start_time": "2024-09-26T23:54:57.853Z"
   },
   {
    "duration": 2,
    "start_time": "2024-09-26T23:54:57.886Z"
   },
   {
    "duration": 4,
    "start_time": "2024-09-26T23:54:57.890Z"
   },
   {
    "duration": 2,
    "start_time": "2024-09-26T23:54:57.905Z"
   },
   {
    "duration": 4,
    "start_time": "2024-09-26T23:54:57.908Z"
   },
   {
    "duration": 4,
    "start_time": "2024-09-26T23:54:57.914Z"
   },
   {
    "duration": 14,
    "start_time": "2024-09-26T23:54:57.919Z"
   },
   {
    "duration": 2,
    "start_time": "2024-09-26T23:54:57.934Z"
   },
   {
    "duration": 5,
    "start_time": "2024-09-26T23:54:57.938Z"
   },
   {
    "duration": 12,
    "start_time": "2024-09-26T23:54:57.944Z"
   },
   {
    "duration": 5,
    "start_time": "2024-09-26T23:54:57.957Z"
   },
   {
    "duration": 43,
    "start_time": "2024-09-26T23:54:57.963Z"
   },
   {
    "duration": 15,
    "start_time": "2024-09-26T23:54:58.009Z"
   },
   {
    "duration": 10,
    "start_time": "2024-09-26T23:54:58.026Z"
   },
   {
    "duration": 2,
    "start_time": "2024-09-26T23:54:58.038Z"
   },
   {
    "duration": 4,
    "start_time": "2024-09-26T23:54:58.042Z"
   },
   {
    "duration": 6,
    "start_time": "2024-09-26T23:54:58.047Z"
   },
   {
    "duration": 14,
    "start_time": "2024-09-26T23:54:58.055Z"
   },
   {
    "duration": 43,
    "start_time": "2024-09-26T23:54:58.070Z"
   },
   {
    "duration": 2,
    "start_time": "2024-09-26T23:54:58.114Z"
   },
   {
    "duration": 5,
    "start_time": "2024-09-26T23:54:58.118Z"
   },
   {
    "duration": 16,
    "start_time": "2024-09-26T23:54:58.125Z"
   },
   {
    "duration": 9,
    "start_time": "2024-09-26T23:54:58.142Z"
   },
   {
    "duration": 3,
    "start_time": "2024-09-26T23:54:58.152Z"
   },
   {
    "duration": 5,
    "start_time": "2024-09-26T23:54:58.157Z"
   },
   {
    "duration": 48,
    "start_time": "2024-09-26T23:54:58.164Z"
   },
   {
    "duration": 17,
    "start_time": "2024-09-26T23:54:58.214Z"
   },
   {
    "duration": 13,
    "start_time": "2024-09-26T23:54:58.233Z"
   },
   {
    "duration": 25,
    "start_time": "2024-09-26T23:54:58.248Z"
   },
   {
    "duration": 32,
    "start_time": "2024-09-26T23:54:58.274Z"
   },
   {
    "duration": 11,
    "start_time": "2024-09-26T23:54:58.308Z"
   },
   {
    "duration": 133,
    "start_time": "2024-09-26T23:54:58.321Z"
   },
   {
    "duration": 275,
    "start_time": "2024-09-26T23:54:58.456Z"
   },
   {
    "duration": 119,
    "start_time": "2024-09-26T23:54:58.733Z"
   },
   {
    "duration": 723,
    "start_time": "2024-09-26T23:54:58.854Z"
   },
   {
    "duration": 929,
    "start_time": "2024-09-26T23:54:59.579Z"
   },
   {
    "duration": 524,
    "start_time": "2024-09-26T23:55:00.509Z"
   },
   {
    "duration": 4,
    "start_time": "2024-09-26T23:55:01.035Z"
   },
   {
    "duration": 30,
    "start_time": "2024-09-26T23:55:01.041Z"
   },
   {
    "duration": 40,
    "start_time": "2024-09-26T23:55:01.076Z"
   },
   {
    "duration": 4,
    "start_time": "2024-09-26T23:55:01.117Z"
   },
   {
    "duration": 3,
    "start_time": "2024-09-26T23:55:01.122Z"
   },
   {
    "duration": 4,
    "start_time": "2024-09-26T23:55:01.127Z"
   },
   {
    "duration": 7,
    "start_time": "2024-09-26T23:55:01.132Z"
   },
   {
    "duration": 7,
    "start_time": "2024-09-26T23:55:01.141Z"
   },
   {
    "duration": 6,
    "start_time": "2024-09-26T23:55:01.150Z"
   },
   {
    "duration": 6,
    "start_time": "2024-09-26T23:55:01.157Z"
   },
   {
    "duration": 244,
    "start_time": "2024-09-26T23:55:01.205Z"
   },
   {
    "duration": 0,
    "start_time": "2024-09-26T23:55:01.451Z"
   },
   {
    "duration": 0,
    "start_time": "2024-09-26T23:55:01.452Z"
   },
   {
    "duration": 0,
    "start_time": "2024-09-26T23:55:01.453Z"
   },
   {
    "duration": 1080,
    "start_time": "2024-09-26T23:56:04.115Z"
   },
   {
    "duration": 31,
    "start_time": "2024-09-26T23:56:05.197Z"
   },
   {
    "duration": 3,
    "start_time": "2024-09-26T23:56:05.229Z"
   },
   {
    "duration": 4,
    "start_time": "2024-09-26T23:56:05.233Z"
   },
   {
    "duration": 3,
    "start_time": "2024-09-26T23:56:05.240Z"
   },
   {
    "duration": 3,
    "start_time": "2024-09-26T23:56:05.245Z"
   },
   {
    "duration": 4,
    "start_time": "2024-09-26T23:56:05.249Z"
   },
   {
    "duration": 13,
    "start_time": "2024-09-26T23:56:05.254Z"
   },
   {
    "duration": 2,
    "start_time": "2024-09-26T23:56:05.269Z"
   },
   {
    "duration": 5,
    "start_time": "2024-09-26T23:56:05.305Z"
   },
   {
    "duration": 12,
    "start_time": "2024-09-26T23:56:05.312Z"
   },
   {
    "duration": 5,
    "start_time": "2024-09-26T23:56:05.326Z"
   },
   {
    "duration": 6,
    "start_time": "2024-09-26T23:56:05.333Z"
   },
   {
    "duration": 15,
    "start_time": "2024-09-26T23:56:05.342Z"
   },
   {
    "duration": 11,
    "start_time": "2024-09-26T23:56:05.358Z"
   },
   {
    "duration": 35,
    "start_time": "2024-09-26T23:56:05.370Z"
   },
   {
    "duration": 3,
    "start_time": "2024-09-26T23:56:05.407Z"
   },
   {
    "duration": 6,
    "start_time": "2024-09-26T23:56:05.411Z"
   },
   {
    "duration": 15,
    "start_time": "2024-09-26T23:56:05.418Z"
   },
   {
    "duration": 11,
    "start_time": "2024-09-26T23:56:05.434Z"
   },
   {
    "duration": 2,
    "start_time": "2024-09-26T23:56:05.446Z"
   },
   {
    "duration": 6,
    "start_time": "2024-09-26T23:56:05.450Z"
   },
   {
    "duration": 52,
    "start_time": "2024-09-26T23:56:05.457Z"
   },
   {
    "duration": 9,
    "start_time": "2024-09-26T23:56:05.511Z"
   },
   {
    "duration": 2,
    "start_time": "2024-09-26T23:56:05.522Z"
   },
   {
    "duration": 5,
    "start_time": "2024-09-26T23:56:05.526Z"
   },
   {
    "duration": 10,
    "start_time": "2024-09-26T23:56:05.533Z"
   },
   {
    "duration": 17,
    "start_time": "2024-09-26T23:56:05.544Z"
   },
   {
    "duration": 44,
    "start_time": "2024-09-26T23:56:05.562Z"
   },
   {
    "duration": 26,
    "start_time": "2024-09-26T23:56:05.608Z"
   },
   {
    "duration": 4,
    "start_time": "2024-09-26T23:56:05.635Z"
   },
   {
    "duration": 9,
    "start_time": "2024-09-26T23:56:05.642Z"
   },
   {
    "duration": 147,
    "start_time": "2024-09-26T23:56:05.652Z"
   },
   {
    "duration": 283,
    "start_time": "2024-09-26T23:56:05.800Z"
   },
   {
    "duration": 137,
    "start_time": "2024-09-26T23:56:06.085Z"
   },
   {
    "duration": 747,
    "start_time": "2024-09-26T23:56:06.223Z"
   },
   {
    "duration": 943,
    "start_time": "2024-09-26T23:56:06.972Z"
   },
   {
    "duration": 523,
    "start_time": "2024-09-26T23:56:07.917Z"
   },
   {
    "duration": 5,
    "start_time": "2024-09-26T23:56:08.442Z"
   },
   {
    "duration": 31,
    "start_time": "2024-09-26T23:56:08.449Z"
   },
   {
    "duration": 37,
    "start_time": "2024-09-26T23:56:08.485Z"
   },
   {
    "duration": 4,
    "start_time": "2024-09-26T23:56:08.523Z"
   },
   {
    "duration": 8,
    "start_time": "2024-09-26T23:56:08.528Z"
   },
   {
    "duration": 4,
    "start_time": "2024-09-26T23:56:08.538Z"
   },
   {
    "duration": 8,
    "start_time": "2024-09-26T23:56:08.543Z"
   },
   {
    "duration": 7,
    "start_time": "2024-09-26T23:56:08.552Z"
   },
   {
    "duration": 6,
    "start_time": "2024-09-26T23:56:08.561Z"
   },
   {
    "duration": 38,
    "start_time": "2024-09-26T23:56:08.568Z"
   },
   {
    "duration": 1714,
    "start_time": "2024-09-26T23:56:08.608Z"
   },
   {
    "duration": 81,
    "start_time": "2024-09-26T23:56:10.324Z"
   },
   {
    "duration": 1016,
    "start_time": "2024-09-26T23:56:10.407Z"
   },
   {
    "duration": 84,
    "start_time": "2024-09-26T23:56:11.425Z"
   },
   {
    "duration": 1023,
    "start_time": "2024-09-27T00:04:51.271Z"
   },
   {
    "duration": 34,
    "start_time": "2024-09-27T00:04:52.296Z"
   },
   {
    "duration": 3,
    "start_time": "2024-09-27T00:04:52.332Z"
   },
   {
    "duration": 3,
    "start_time": "2024-09-27T00:04:52.337Z"
   },
   {
    "duration": 3,
    "start_time": "2024-09-27T00:04:52.343Z"
   },
   {
    "duration": 5,
    "start_time": "2024-09-27T00:04:52.347Z"
   },
   {
    "duration": 3,
    "start_time": "2024-09-27T00:04:52.354Z"
   },
   {
    "duration": 14,
    "start_time": "2024-09-27T00:04:52.359Z"
   },
   {
    "duration": 30,
    "start_time": "2024-09-27T00:04:52.375Z"
   },
   {
    "duration": 5,
    "start_time": "2024-09-27T00:04:52.407Z"
   },
   {
    "duration": 16,
    "start_time": "2024-09-27T00:04:52.414Z"
   },
   {
    "duration": 8,
    "start_time": "2024-09-27T00:04:52.432Z"
   },
   {
    "duration": 10,
    "start_time": "2024-09-27T00:04:52.442Z"
   },
   {
    "duration": 17,
    "start_time": "2024-09-27T00:04:52.456Z"
   },
   {
    "duration": 39,
    "start_time": "2024-09-27T00:04:52.474Z"
   },
   {
    "duration": 4,
    "start_time": "2024-09-27T00:04:52.515Z"
   },
   {
    "duration": 3,
    "start_time": "2024-09-27T00:04:52.521Z"
   },
   {
    "duration": 6,
    "start_time": "2024-09-27T00:04:52.526Z"
   },
   {
    "duration": 14,
    "start_time": "2024-09-27T00:04:52.533Z"
   },
   {
    "duration": 11,
    "start_time": "2024-09-27T00:04:52.549Z"
   },
   {
    "duration": 2,
    "start_time": "2024-09-27T00:04:52.562Z"
   },
   {
    "duration": 42,
    "start_time": "2024-09-27T00:04:52.566Z"
   },
   {
    "duration": 17,
    "start_time": "2024-09-27T00:04:52.610Z"
   },
   {
    "duration": 12,
    "start_time": "2024-09-27T00:04:52.628Z"
   },
   {
    "duration": 2,
    "start_time": "2024-09-27T00:04:52.642Z"
   },
   {
    "duration": 5,
    "start_time": "2024-09-27T00:04:52.646Z"
   },
   {
    "duration": 11,
    "start_time": "2024-09-27T00:04:52.653Z"
   },
   {
    "duration": 53,
    "start_time": "2024-09-27T00:04:52.665Z"
   },
   {
    "duration": 12,
    "start_time": "2024-09-27T00:04:52.720Z"
   },
   {
    "duration": 26,
    "start_time": "2024-09-27T00:04:52.734Z"
   },
   {
    "duration": 5,
    "start_time": "2024-09-27T00:04:52.761Z"
   },
   {
    "duration": 10,
    "start_time": "2024-09-27T00:04:52.767Z"
   },
   {
    "duration": 159,
    "start_time": "2024-09-27T00:04:52.778Z"
   },
   {
    "duration": 253,
    "start_time": "2024-09-27T00:04:52.939Z"
   },
   {
    "duration": 130,
    "start_time": "2024-09-27T00:04:53.194Z"
   },
   {
    "duration": 760,
    "start_time": "2024-09-27T00:04:53.326Z"
   },
   {
    "duration": 959,
    "start_time": "2024-09-27T00:04:54.088Z"
   },
   {
    "duration": 583,
    "start_time": "2024-09-27T00:04:55.049Z"
   },
   {
    "duration": 4,
    "start_time": "2024-09-27T00:04:55.634Z"
   },
   {
    "duration": 30,
    "start_time": "2024-09-27T00:04:55.640Z"
   },
   {
    "duration": 40,
    "start_time": "2024-09-27T00:04:55.675Z"
   },
   {
    "duration": 4,
    "start_time": "2024-09-27T00:04:55.716Z"
   },
   {
    "duration": 4,
    "start_time": "2024-09-27T00:04:55.721Z"
   },
   {
    "duration": 4,
    "start_time": "2024-09-27T00:04:55.726Z"
   },
   {
    "duration": 7,
    "start_time": "2024-09-27T00:04:55.732Z"
   },
   {
    "duration": 8,
    "start_time": "2024-09-27T00:04:55.741Z"
   },
   {
    "duration": 8,
    "start_time": "2024-09-27T00:04:55.750Z"
   },
   {
    "duration": 6,
    "start_time": "2024-09-27T00:04:55.759Z"
   },
   {
    "duration": 1843,
    "start_time": "2024-09-27T00:04:55.766Z"
   },
   {
    "duration": 1096,
    "start_time": "2024-09-27T00:04:57.610Z"
   },
   {
    "duration": 1092,
    "start_time": "2024-09-27T00:07:31.531Z"
   },
   {
    "duration": 32,
    "start_time": "2024-09-27T00:07:32.626Z"
   },
   {
    "duration": 3,
    "start_time": "2024-09-27T00:07:32.659Z"
   },
   {
    "duration": 4,
    "start_time": "2024-09-27T00:07:32.664Z"
   },
   {
    "duration": 3,
    "start_time": "2024-09-27T00:07:32.672Z"
   },
   {
    "duration": 3,
    "start_time": "2024-09-27T00:07:32.676Z"
   },
   {
    "duration": 4,
    "start_time": "2024-09-27T00:07:32.681Z"
   },
   {
    "duration": 17,
    "start_time": "2024-09-27T00:07:32.705Z"
   },
   {
    "duration": 2,
    "start_time": "2024-09-27T00:07:32.725Z"
   },
   {
    "duration": 6,
    "start_time": "2024-09-27T00:07:32.728Z"
   },
   {
    "duration": 11,
    "start_time": "2024-09-27T00:07:32.736Z"
   },
   {
    "duration": 5,
    "start_time": "2024-09-27T00:07:32.749Z"
   },
   {
    "duration": 7,
    "start_time": "2024-09-27T00:07:32.755Z"
   },
   {
    "duration": 51,
    "start_time": "2024-09-27T00:07:32.765Z"
   },
   {
    "duration": 11,
    "start_time": "2024-09-27T00:07:32.818Z"
   },
   {
    "duration": 2,
    "start_time": "2024-09-27T00:07:32.831Z"
   },
   {
    "duration": 3,
    "start_time": "2024-09-27T00:07:32.835Z"
   },
   {
    "duration": 6,
    "start_time": "2024-09-27T00:07:32.839Z"
   },
   {
    "duration": 14,
    "start_time": "2024-09-27T00:07:32.847Z"
   },
   {
    "duration": 43,
    "start_time": "2024-09-27T00:07:32.862Z"
   },
   {
    "duration": 3,
    "start_time": "2024-09-27T00:07:32.907Z"
   },
   {
    "duration": 7,
    "start_time": "2024-09-27T00:07:32.913Z"
   },
   {
    "duration": 17,
    "start_time": "2024-09-27T00:07:32.922Z"
   },
   {
    "duration": 8,
    "start_time": "2024-09-27T00:07:32.941Z"
   },
   {
    "duration": 3,
    "start_time": "2024-09-27T00:07:32.950Z"
   },
   {
    "duration": 5,
    "start_time": "2024-09-27T00:07:32.955Z"
   },
   {
    "duration": 48,
    "start_time": "2024-09-27T00:07:32.962Z"
   },
   {
    "duration": 24,
    "start_time": "2024-09-27T00:07:33.015Z"
   },
   {
    "duration": 15,
    "start_time": "2024-09-27T00:07:33.042Z"
   },
   {
    "duration": 26,
    "start_time": "2024-09-27T00:07:33.059Z"
   },
   {
    "duration": 22,
    "start_time": "2024-09-27T00:07:33.086Z"
   },
   {
    "duration": 10,
    "start_time": "2024-09-27T00:07:33.113Z"
   },
   {
    "duration": 135,
    "start_time": "2024-09-27T00:07:33.125Z"
   },
   {
    "duration": 291,
    "start_time": "2024-09-27T00:07:33.262Z"
   },
   {
    "duration": 123,
    "start_time": "2024-09-27T00:07:33.555Z"
   },
   {
    "duration": 834,
    "start_time": "2024-09-27T00:07:33.680Z"
   },
   {
    "duration": 939,
    "start_time": "2024-09-27T00:07:34.515Z"
   },
   {
    "duration": 559,
    "start_time": "2024-09-27T00:07:35.456Z"
   },
   {
    "duration": 300,
    "start_time": "2024-09-27T00:07:36.017Z"
   },
   {
    "duration": 4,
    "start_time": "2024-09-27T00:07:36.319Z"
   },
   {
    "duration": 31,
    "start_time": "2024-09-27T00:07:36.327Z"
   },
   {
    "duration": 24,
    "start_time": "2024-09-27T00:07:36.359Z"
   },
   {
    "duration": 22,
    "start_time": "2024-09-27T00:07:36.385Z"
   },
   {
    "duration": 4,
    "start_time": "2024-09-27T00:07:36.409Z"
   },
   {
    "duration": 4,
    "start_time": "2024-09-27T00:07:36.414Z"
   },
   {
    "duration": 7,
    "start_time": "2024-09-27T00:07:36.420Z"
   },
   {
    "duration": 9,
    "start_time": "2024-09-27T00:07:36.429Z"
   },
   {
    "duration": 8,
    "start_time": "2024-09-27T00:07:36.439Z"
   },
   {
    "duration": 6,
    "start_time": "2024-09-27T00:07:36.449Z"
   },
   {
    "duration": 1852,
    "start_time": "2024-09-27T00:07:36.457Z"
   },
   {
    "duration": 1014,
    "start_time": "2024-09-27T00:07:38.311Z"
   },
   {
    "duration": 1046,
    "start_time": "2024-09-27T00:08:33.359Z"
   },
   {
    "duration": 33,
    "start_time": "2024-09-27T00:08:34.408Z"
   },
   {
    "duration": 2,
    "start_time": "2024-09-27T00:08:34.443Z"
   },
   {
    "duration": 3,
    "start_time": "2024-09-27T00:08:34.448Z"
   },
   {
    "duration": 3,
    "start_time": "2024-09-27T00:08:34.453Z"
   },
   {
    "duration": 4,
    "start_time": "2024-09-27T00:08:34.457Z"
   },
   {
    "duration": 4,
    "start_time": "2024-09-27T00:08:34.462Z"
   },
   {
    "duration": 14,
    "start_time": "2024-09-27T00:08:34.467Z"
   },
   {
    "duration": 24,
    "start_time": "2024-09-27T00:08:34.482Z"
   },
   {
    "duration": 6,
    "start_time": "2024-09-27T00:08:34.509Z"
   },
   {
    "duration": 12,
    "start_time": "2024-09-27T00:08:34.516Z"
   },
   {
    "duration": 5,
    "start_time": "2024-09-27T00:08:34.530Z"
   },
   {
    "duration": 6,
    "start_time": "2024-09-27T00:08:34.537Z"
   },
   {
    "duration": 16,
    "start_time": "2024-09-27T00:08:34.544Z"
   },
   {
    "duration": 48,
    "start_time": "2024-09-27T00:08:34.561Z"
   },
   {
    "duration": 2,
    "start_time": "2024-09-27T00:08:34.610Z"
   },
   {
    "duration": 4,
    "start_time": "2024-09-27T00:08:34.614Z"
   },
   {
    "duration": 7,
    "start_time": "2024-09-27T00:08:34.619Z"
   },
   {
    "duration": 13,
    "start_time": "2024-09-27T00:08:34.627Z"
   },
   {
    "duration": 11,
    "start_time": "2024-09-27T00:08:34.642Z"
   },
   {
    "duration": 3,
    "start_time": "2024-09-27T00:08:34.655Z"
   },
   {
    "duration": 5,
    "start_time": "2024-09-27T00:08:34.660Z"
   },
   {
    "duration": 48,
    "start_time": "2024-09-27T00:08:34.667Z"
   },
   {
    "duration": 10,
    "start_time": "2024-09-27T00:08:34.717Z"
   },
   {
    "duration": 2,
    "start_time": "2024-09-27T00:08:34.728Z"
   },
   {
    "duration": 5,
    "start_time": "2024-09-27T00:08:34.732Z"
   },
   {
    "duration": 10,
    "start_time": "2024-09-27T00:08:34.739Z"
   },
   {
    "duration": 16,
    "start_time": "2024-09-27T00:08:34.754Z"
   },
   {
    "duration": 13,
    "start_time": "2024-09-27T00:08:34.805Z"
   },
   {
    "duration": 25,
    "start_time": "2024-09-27T00:08:34.821Z"
   },
   {
    "duration": 4,
    "start_time": "2024-09-27T00:08:34.847Z"
   },
   {
    "duration": 10,
    "start_time": "2024-09-27T00:08:34.853Z"
   },
   {
    "duration": 147,
    "start_time": "2024-09-27T00:08:34.864Z"
   },
   {
    "duration": 271,
    "start_time": "2024-09-27T00:08:35.013Z"
   },
   {
    "duration": 124,
    "start_time": "2024-09-27T00:08:35.286Z"
   },
   {
    "duration": 764,
    "start_time": "2024-09-27T00:08:35.412Z"
   },
   {
    "duration": 956,
    "start_time": "2024-09-27T00:08:36.177Z"
   },
   {
    "duration": 586,
    "start_time": "2024-09-27T00:08:37.135Z"
   },
   {
    "duration": 292,
    "start_time": "2024-09-27T00:08:37.722Z"
   },
   {
    "duration": 3,
    "start_time": "2024-09-27T00:08:38.016Z"
   },
   {
    "duration": 31,
    "start_time": "2024-09-27T00:08:38.021Z"
   },
   {
    "duration": 23,
    "start_time": "2024-09-27T00:08:38.053Z"
   },
   {
    "duration": 5,
    "start_time": "2024-09-27T00:08:38.077Z"
   },
   {
    "duration": 25,
    "start_time": "2024-09-27T00:08:38.083Z"
   },
   {
    "duration": 4,
    "start_time": "2024-09-27T00:08:38.110Z"
   },
   {
    "duration": 7,
    "start_time": "2024-09-27T00:08:38.116Z"
   },
   {
    "duration": 7,
    "start_time": "2024-09-27T00:08:38.125Z"
   },
   {
    "duration": 6,
    "start_time": "2024-09-27T00:08:38.135Z"
   },
   {
    "duration": 7,
    "start_time": "2024-09-27T00:08:38.142Z"
   },
   {
    "duration": 1774,
    "start_time": "2024-09-27T00:08:38.150Z"
   },
   {
    "duration": 1092,
    "start_time": "2024-09-27T00:08:39.926Z"
   },
   {
    "duration": 1010,
    "start_time": "2024-09-27T00:11:44.457Z"
   },
   {
    "duration": 32,
    "start_time": "2024-09-27T00:11:45.469Z"
   },
   {
    "duration": 3,
    "start_time": "2024-09-27T00:11:45.502Z"
   },
   {
    "duration": 4,
    "start_time": "2024-09-27T00:11:45.507Z"
   },
   {
    "duration": 3,
    "start_time": "2024-09-27T00:11:45.513Z"
   },
   {
    "duration": 2,
    "start_time": "2024-09-27T00:11:45.519Z"
   },
   {
    "duration": 4,
    "start_time": "2024-09-27T00:11:45.523Z"
   },
   {
    "duration": 13,
    "start_time": "2024-09-27T00:11:45.529Z"
   },
   {
    "duration": 3,
    "start_time": "2024-09-27T00:11:45.544Z"
   },
   {
    "duration": 5,
    "start_time": "2024-09-27T00:11:45.549Z"
   },
   {
    "duration": 51,
    "start_time": "2024-09-27T00:11:45.555Z"
   },
   {
    "duration": 7,
    "start_time": "2024-09-27T00:11:45.607Z"
   },
   {
    "duration": 8,
    "start_time": "2024-09-27T00:11:45.616Z"
   },
   {
    "duration": 21,
    "start_time": "2024-09-27T00:11:45.629Z"
   },
   {
    "duration": 12,
    "start_time": "2024-09-27T00:11:45.652Z"
   },
   {
    "duration": 3,
    "start_time": "2024-09-27T00:11:45.666Z"
   },
   {
    "duration": 3,
    "start_time": "2024-09-27T00:11:45.672Z"
   },
   {
    "duration": 32,
    "start_time": "2024-09-27T00:11:45.677Z"
   },
   {
    "duration": 14,
    "start_time": "2024-09-27T00:11:45.710Z"
   },
   {
    "duration": 10,
    "start_time": "2024-09-27T00:11:45.727Z"
   },
   {
    "duration": 2,
    "start_time": "2024-09-27T00:11:45.739Z"
   },
   {
    "duration": 5,
    "start_time": "2024-09-27T00:11:45.743Z"
   },
   {
    "duration": 16,
    "start_time": "2024-09-27T00:11:45.751Z"
   },
   {
    "duration": 41,
    "start_time": "2024-09-27T00:11:45.768Z"
   },
   {
    "duration": 2,
    "start_time": "2024-09-27T00:11:45.810Z"
   },
   {
    "duration": 8,
    "start_time": "2024-09-27T00:11:45.814Z"
   },
   {
    "duration": 10,
    "start_time": "2024-09-27T00:11:45.823Z"
   },
   {
    "duration": 18,
    "start_time": "2024-09-27T00:11:45.834Z"
   },
   {
    "duration": 12,
    "start_time": "2024-09-27T00:11:45.853Z"
   },
   {
    "duration": 62,
    "start_time": "2024-09-27T00:11:45.867Z"
   },
   {
    "duration": 5,
    "start_time": "2024-09-27T00:11:45.931Z"
   },
   {
    "duration": 10,
    "start_time": "2024-09-27T00:11:45.937Z"
   },
   {
    "duration": 138,
    "start_time": "2024-09-27T00:11:45.949Z"
   },
   {
    "duration": 281,
    "start_time": "2024-09-27T00:11:46.090Z"
   },
   {
    "duration": 126,
    "start_time": "2024-09-27T00:11:46.372Z"
   },
   {
    "duration": 769,
    "start_time": "2024-09-27T00:11:46.501Z"
   },
   {
    "duration": 960,
    "start_time": "2024-09-27T00:11:47.272Z"
   },
   {
    "duration": 571,
    "start_time": "2024-09-27T00:11:48.234Z"
   },
   {
    "duration": 35,
    "start_time": "2024-09-27T00:11:48.807Z"
   },
   {
    "duration": 6,
    "start_time": "2024-09-27T00:11:48.844Z"
   },
   {
    "duration": 4,
    "start_time": "2024-09-27T00:11:48.855Z"
   },
   {
    "duration": 48,
    "start_time": "2024-09-27T00:11:48.861Z"
   },
   {
    "duration": 3,
    "start_time": "2024-09-27T00:11:48.911Z"
   },
   {
    "duration": 3,
    "start_time": "2024-09-27T00:11:48.916Z"
   },
   {
    "duration": 4,
    "start_time": "2024-09-27T00:11:48.921Z"
   },
   {
    "duration": 8,
    "start_time": "2024-09-27T00:11:48.926Z"
   },
   {
    "duration": 8,
    "start_time": "2024-09-27T00:11:48.935Z"
   },
   {
    "duration": 7,
    "start_time": "2024-09-27T00:11:48.944Z"
   },
   {
    "duration": 8,
    "start_time": "2024-09-27T00:11:48.952Z"
   },
   {
    "duration": 1666,
    "start_time": "2024-09-27T00:11:48.961Z"
   },
   {
    "duration": 1098,
    "start_time": "2024-09-27T00:11:50.629Z"
   },
   {
    "duration": 1057,
    "start_time": "2024-09-27T00:14:25.942Z"
   },
   {
    "duration": 33,
    "start_time": "2024-09-27T00:14:27.002Z"
   },
   {
    "duration": 2,
    "start_time": "2024-09-27T00:14:27.036Z"
   },
   {
    "duration": 3,
    "start_time": "2024-09-27T00:14:27.041Z"
   },
   {
    "duration": 3,
    "start_time": "2024-09-27T00:14:27.046Z"
   },
   {
    "duration": 3,
    "start_time": "2024-09-27T00:14:27.051Z"
   },
   {
    "duration": 3,
    "start_time": "2024-09-27T00:14:27.056Z"
   },
   {
    "duration": 12,
    "start_time": "2024-09-27T00:14:27.061Z"
   },
   {
    "duration": 30,
    "start_time": "2024-09-27T00:14:27.075Z"
   },
   {
    "duration": 6,
    "start_time": "2024-09-27T00:14:27.108Z"
   },
   {
    "duration": 14,
    "start_time": "2024-09-27T00:14:27.116Z"
   },
   {
    "duration": 5,
    "start_time": "2024-09-27T00:14:27.131Z"
   },
   {
    "duration": 8,
    "start_time": "2024-09-27T00:14:27.138Z"
   },
   {
    "duration": 22,
    "start_time": "2024-09-27T00:14:27.147Z"
   },
   {
    "duration": 43,
    "start_time": "2024-09-27T00:14:27.171Z"
   },
   {
    "duration": 3,
    "start_time": "2024-09-27T00:14:27.216Z"
   },
   {
    "duration": 3,
    "start_time": "2024-09-27T00:14:27.220Z"
   },
   {
    "duration": 6,
    "start_time": "2024-09-27T00:14:27.225Z"
   },
   {
    "duration": 14,
    "start_time": "2024-09-27T00:14:27.233Z"
   },
   {
    "duration": 11,
    "start_time": "2024-09-27T00:14:27.248Z"
   },
   {
    "duration": 3,
    "start_time": "2024-09-27T00:14:27.260Z"
   },
   {
    "duration": 45,
    "start_time": "2024-09-27T00:14:27.265Z"
   },
   {
    "duration": 18,
    "start_time": "2024-09-27T00:14:27.312Z"
   },
   {
    "duration": 9,
    "start_time": "2024-09-27T00:14:27.331Z"
   },
   {
    "duration": 2,
    "start_time": "2024-09-27T00:14:27.342Z"
   },
   {
    "duration": 6,
    "start_time": "2024-09-27T00:14:27.346Z"
   },
   {
    "duration": 11,
    "start_time": "2024-09-27T00:14:27.353Z"
   },
   {
    "duration": 48,
    "start_time": "2024-09-27T00:14:27.368Z"
   },
   {
    "duration": 12,
    "start_time": "2024-09-27T00:14:27.418Z"
   },
   {
    "duration": 39,
    "start_time": "2024-09-27T00:14:27.432Z"
   },
   {
    "duration": 6,
    "start_time": "2024-09-27T00:14:27.473Z"
   },
   {
    "duration": 37,
    "start_time": "2024-09-27T00:14:27.480Z"
   },
   {
    "duration": 187,
    "start_time": "2024-09-27T00:14:27.519Z"
   },
   {
    "duration": 303,
    "start_time": "2024-09-27T00:14:27.708Z"
   },
   {
    "duration": 141,
    "start_time": "2024-09-27T00:14:28.012Z"
   },
   {
    "duration": 887,
    "start_time": "2024-09-27T00:14:28.155Z"
   },
   {
    "duration": 1170,
    "start_time": "2024-09-27T00:14:29.043Z"
   },
   {
    "duration": 559,
    "start_time": "2024-09-27T00:14:30.215Z"
   },
   {
    "duration": 37,
    "start_time": "2024-09-27T00:14:30.776Z"
   },
   {
    "duration": 579,
    "start_time": "2024-09-27T00:14:30.815Z"
   },
   {
    "duration": 0,
    "start_time": "2024-09-27T00:14:31.396Z"
   },
   {
    "duration": 0,
    "start_time": "2024-09-27T00:14:31.397Z"
   },
   {
    "duration": 0,
    "start_time": "2024-09-27T00:14:31.405Z"
   },
   {
    "duration": 0,
    "start_time": "2024-09-27T00:14:31.406Z"
   },
   {
    "duration": 0,
    "start_time": "2024-09-27T00:14:31.407Z"
   },
   {
    "duration": 0,
    "start_time": "2024-09-27T00:14:31.408Z"
   },
   {
    "duration": 0,
    "start_time": "2024-09-27T00:14:31.409Z"
   },
   {
    "duration": 0,
    "start_time": "2024-09-27T00:14:31.410Z"
   },
   {
    "duration": 0,
    "start_time": "2024-09-27T00:14:31.411Z"
   },
   {
    "duration": 0,
    "start_time": "2024-09-27T00:14:31.413Z"
   },
   {
    "duration": 0,
    "start_time": "2024-09-27T00:14:31.414Z"
   },
   {
    "duration": 299,
    "start_time": "2024-09-27T00:15:14.384Z"
   },
   {
    "duration": 1055,
    "start_time": "2024-09-27T00:15:33.521Z"
   },
   {
    "duration": 33,
    "start_time": "2024-09-27T00:15:34.578Z"
   },
   {
    "duration": 3,
    "start_time": "2024-09-27T00:15:34.612Z"
   },
   {
    "duration": 3,
    "start_time": "2024-09-27T00:15:34.617Z"
   },
   {
    "duration": 3,
    "start_time": "2024-09-27T00:15:34.622Z"
   },
   {
    "duration": 3,
    "start_time": "2024-09-27T00:15:34.626Z"
   },
   {
    "duration": 4,
    "start_time": "2024-09-27T00:15:34.631Z"
   },
   {
    "duration": 14,
    "start_time": "2024-09-27T00:15:34.881Z"
   },
   {
    "duration": 2,
    "start_time": "2024-09-27T00:15:35.165Z"
   },
   {
    "duration": 4,
    "start_time": "2024-09-27T00:15:35.310Z"
   },
   {
    "duration": 12,
    "start_time": "2024-09-27T00:15:35.468Z"
   },
   {
    "duration": 5,
    "start_time": "2024-09-27T00:15:35.596Z"
   },
   {
    "duration": 6,
    "start_time": "2024-09-27T00:15:35.738Z"
   },
   {
    "duration": 16,
    "start_time": "2024-09-27T00:15:35.864Z"
   },
   {
    "duration": 11,
    "start_time": "2024-09-27T00:15:36.155Z"
   },
   {
    "duration": 2,
    "start_time": "2024-09-27T00:15:36.293Z"
   },
   {
    "duration": 3,
    "start_time": "2024-09-27T00:15:36.442Z"
   },
   {
    "duration": 7,
    "start_time": "2024-09-27T00:15:36.582Z"
   },
   {
    "duration": 13,
    "start_time": "2024-09-27T00:15:36.723Z"
   },
   {
    "duration": 11,
    "start_time": "2024-09-27T00:15:37.006Z"
   },
   {
    "duration": 2,
    "start_time": "2024-09-27T00:15:37.305Z"
   },
   {
    "duration": 6,
    "start_time": "2024-09-27T00:15:37.447Z"
   },
   {
    "duration": 16,
    "start_time": "2024-09-27T00:15:37.733Z"
   },
   {
    "duration": 10,
    "start_time": "2024-09-27T00:15:38.014Z"
   },
   {
    "duration": 2,
    "start_time": "2024-09-27T00:15:38.321Z"
   },
   {
    "duration": 6,
    "start_time": "2024-09-27T00:15:38.478Z"
   },
   {
    "duration": 11,
    "start_time": "2024-09-27T00:15:38.879Z"
   },
   {
    "duration": 19,
    "start_time": "2024-09-27T00:15:39.988Z"
   },
   {
    "duration": 12,
    "start_time": "2024-09-27T00:15:40.286Z"
   },
   {
    "duration": 27,
    "start_time": "2024-09-27T00:15:40.695Z"
   },
   {
    "duration": 4,
    "start_time": "2024-09-27T00:15:41.088Z"
   },
   {
    "duration": 10,
    "start_time": "2024-09-27T00:15:41.649Z"
   },
   {
    "duration": 126,
    "start_time": "2024-09-27T00:15:42.601Z"
   },
   {
    "duration": 250,
    "start_time": "2024-09-27T00:15:43.034Z"
   },
   {
    "duration": 111,
    "start_time": "2024-09-27T00:15:43.438Z"
   },
   {
    "duration": 768,
    "start_time": "2024-09-27T00:15:43.814Z"
   },
   {
    "duration": 947,
    "start_time": "2024-09-27T00:15:44.661Z"
   },
   {
    "duration": 520,
    "start_time": "2024-09-27T00:15:45.610Z"
   },
   {
    "duration": 47,
    "start_time": "2024-09-27T00:16:10.963Z"
   },
   {
    "duration": 1029,
    "start_time": "2024-09-27T00:20:12.670Z"
   },
   {
    "duration": 34,
    "start_time": "2024-09-27T00:20:13.702Z"
   },
   {
    "duration": 4,
    "start_time": "2024-09-27T00:20:13.737Z"
   },
   {
    "duration": 3,
    "start_time": "2024-09-27T00:20:13.743Z"
   },
   {
    "duration": 3,
    "start_time": "2024-09-27T00:20:13.749Z"
   },
   {
    "duration": 4,
    "start_time": "2024-09-27T00:20:13.753Z"
   },
   {
    "duration": 4,
    "start_time": "2024-09-27T00:20:13.759Z"
   },
   {
    "duration": 13,
    "start_time": "2024-09-27T00:20:13.764Z"
   },
   {
    "duration": 27,
    "start_time": "2024-09-27T00:20:13.778Z"
   },
   {
    "duration": 6,
    "start_time": "2024-09-27T00:20:13.806Z"
   },
   {
    "duration": 13,
    "start_time": "2024-09-27T00:20:13.813Z"
   },
   {
    "duration": 4,
    "start_time": "2024-09-27T00:20:13.828Z"
   },
   {
    "duration": 7,
    "start_time": "2024-09-27T00:20:13.834Z"
   },
   {
    "duration": 16,
    "start_time": "2024-09-27T00:20:13.845Z"
   },
   {
    "duration": 48,
    "start_time": "2024-09-27T00:20:13.862Z"
   },
   {
    "duration": 2,
    "start_time": "2024-09-27T00:20:13.912Z"
   },
   {
    "duration": 3,
    "start_time": "2024-09-27T00:20:13.916Z"
   },
   {
    "duration": 6,
    "start_time": "2024-09-27T00:20:13.921Z"
   },
   {
    "duration": 13,
    "start_time": "2024-09-27T00:20:13.928Z"
   },
   {
    "duration": 11,
    "start_time": "2024-09-27T00:20:13.942Z"
   },
   {
    "duration": 2,
    "start_time": "2024-09-27T00:20:13.954Z"
   },
   {
    "duration": 8,
    "start_time": "2024-09-27T00:20:13.958Z"
   },
   {
    "duration": 51,
    "start_time": "2024-09-27T00:20:13.967Z"
   },
   {
    "duration": 10,
    "start_time": "2024-09-27T00:20:14.020Z"
   },
   {
    "duration": 2,
    "start_time": "2024-09-27T00:20:14.031Z"
   },
   {
    "duration": 5,
    "start_time": "2024-09-27T00:20:14.035Z"
   },
   {
    "duration": 11,
    "start_time": "2024-09-27T00:20:14.042Z"
   },
   {
    "duration": 18,
    "start_time": "2024-09-27T00:20:14.054Z"
   },
   {
    "duration": 13,
    "start_time": "2024-09-27T00:20:14.106Z"
   },
   {
    "duration": 30,
    "start_time": "2024-09-27T00:20:14.121Z"
   },
   {
    "duration": 6,
    "start_time": "2024-09-27T00:20:14.153Z"
   },
   {
    "duration": 10,
    "start_time": "2024-09-27T00:20:14.161Z"
   },
   {
    "duration": 154,
    "start_time": "2024-09-27T00:20:14.172Z"
   },
   {
    "duration": 260,
    "start_time": "2024-09-27T00:20:14.327Z"
   },
   {
    "duration": 125,
    "start_time": "2024-09-27T00:20:14.589Z"
   },
   {
    "duration": 746,
    "start_time": "2024-09-27T00:20:14.716Z"
   },
   {
    "duration": 943,
    "start_time": "2024-09-27T00:20:15.464Z"
   },
   {
    "duration": 526,
    "start_time": "2024-09-27T00:20:16.410Z"
   },
   {
    "duration": 4,
    "start_time": "2024-09-27T00:20:16.938Z"
   },
   {
    "duration": 45,
    "start_time": "2024-09-27T00:20:16.943Z"
   },
   {
    "duration": 576,
    "start_time": "2024-09-27T00:20:17.006Z"
   },
   {
    "duration": 0,
    "start_time": "2024-09-27T00:20:17.584Z"
   },
   {
    "duration": 0,
    "start_time": "2024-09-27T00:20:17.586Z"
   },
   {
    "duration": 0,
    "start_time": "2024-09-27T00:20:17.587Z"
   },
   {
    "duration": 0,
    "start_time": "2024-09-27T00:20:17.589Z"
   },
   {
    "duration": 0,
    "start_time": "2024-09-27T00:20:17.590Z"
   },
   {
    "duration": 0,
    "start_time": "2024-09-27T00:20:17.591Z"
   },
   {
    "duration": 0,
    "start_time": "2024-09-27T00:20:17.592Z"
   },
   {
    "duration": 0,
    "start_time": "2024-09-27T00:20:17.605Z"
   },
   {
    "duration": 0,
    "start_time": "2024-09-27T00:20:17.606Z"
   },
   {
    "duration": 0,
    "start_time": "2024-09-27T00:20:17.607Z"
   },
   {
    "duration": 0,
    "start_time": "2024-09-27T00:20:17.608Z"
   },
   {
    "duration": 1051,
    "start_time": "2024-09-27T00:22:02.555Z"
   },
   {
    "duration": 32,
    "start_time": "2024-09-27T00:22:03.608Z"
   },
   {
    "duration": 2,
    "start_time": "2024-09-27T00:22:03.642Z"
   },
   {
    "duration": 4,
    "start_time": "2024-09-27T00:22:03.646Z"
   },
   {
    "duration": 3,
    "start_time": "2024-09-27T00:22:03.652Z"
   },
   {
    "duration": 3,
    "start_time": "2024-09-27T00:22:03.656Z"
   },
   {
    "duration": 3,
    "start_time": "2024-09-27T00:22:03.661Z"
   },
   {
    "duration": 39,
    "start_time": "2024-09-27T00:22:03.666Z"
   },
   {
    "duration": 3,
    "start_time": "2024-09-27T00:22:03.707Z"
   },
   {
    "duration": 7,
    "start_time": "2024-09-27T00:22:03.712Z"
   },
   {
    "duration": 14,
    "start_time": "2024-09-27T00:22:03.720Z"
   },
   {
    "duration": 6,
    "start_time": "2024-09-27T00:22:03.736Z"
   },
   {
    "duration": 6,
    "start_time": "2024-09-27T00:22:03.744Z"
   },
   {
    "duration": 20,
    "start_time": "2024-09-27T00:22:03.754Z"
   },
   {
    "duration": 11,
    "start_time": "2024-09-27T00:22:03.806Z"
   },
   {
    "duration": 2,
    "start_time": "2024-09-27T00:22:03.819Z"
   },
   {
    "duration": 3,
    "start_time": "2024-09-27T00:22:03.824Z"
   },
   {
    "duration": 7,
    "start_time": "2024-09-27T00:22:03.829Z"
   },
   {
    "duration": 14,
    "start_time": "2024-09-27T00:22:03.837Z"
   },
   {
    "duration": 11,
    "start_time": "2024-09-27T00:22:03.853Z"
   },
   {
    "duration": 38,
    "start_time": "2024-09-27T00:22:03.867Z"
   },
   {
    "duration": 6,
    "start_time": "2024-09-27T00:22:03.907Z"
   },
   {
    "duration": 16,
    "start_time": "2024-09-27T00:22:03.914Z"
   },
   {
    "duration": 9,
    "start_time": "2024-09-27T00:22:03.931Z"
   },
   {
    "duration": 2,
    "start_time": "2024-09-27T00:22:03.942Z"
   },
   {
    "duration": 6,
    "start_time": "2024-09-27T00:22:03.946Z"
   },
   {
    "duration": 11,
    "start_time": "2024-09-27T00:22:03.953Z"
   },
   {
    "duration": 52,
    "start_time": "2024-09-27T00:22:03.966Z"
   },
   {
    "duration": 13,
    "start_time": "2024-09-27T00:22:04.020Z"
   },
   {
    "duration": 27,
    "start_time": "2024-09-27T00:22:04.034Z"
   },
   {
    "duration": 4,
    "start_time": "2024-09-27T00:22:04.062Z"
   },
   {
    "duration": 38,
    "start_time": "2024-09-27T00:22:04.068Z"
   },
   {
    "duration": 130,
    "start_time": "2024-09-27T00:22:04.108Z"
   },
   {
    "duration": 251,
    "start_time": "2024-09-27T00:22:04.242Z"
   },
   {
    "duration": 129,
    "start_time": "2024-09-27T00:22:04.495Z"
   },
   {
    "duration": 753,
    "start_time": "2024-09-27T00:22:04.625Z"
   },
   {
    "duration": 946,
    "start_time": "2024-09-27T00:22:05.380Z"
   },
   {
    "duration": 586,
    "start_time": "2024-09-27T00:22:06.327Z"
   },
   {
    "duration": 5,
    "start_time": "2024-09-27T00:22:06.914Z"
   },
   {
    "duration": 43,
    "start_time": "2024-09-27T00:22:06.921Z"
   },
   {
    "duration": 263,
    "start_time": "2024-09-27T00:22:06.969Z"
   },
   {
    "duration": 5,
    "start_time": "2024-09-27T00:22:07.234Z"
   },
   {
    "duration": 20,
    "start_time": "2024-09-27T00:22:07.244Z"
   },
   {
    "duration": 4,
    "start_time": "2024-09-27T00:22:07.265Z"
   },
   {
    "duration": 4,
    "start_time": "2024-09-27T00:22:07.271Z"
   },
   {
    "duration": 4,
    "start_time": "2024-09-27T00:22:07.276Z"
   },
   {
    "duration": 7,
    "start_time": "2024-09-27T00:22:07.305Z"
   },
   {
    "duration": 8,
    "start_time": "2024-09-27T00:22:07.314Z"
   },
   {
    "duration": 7,
    "start_time": "2024-09-27T00:22:07.324Z"
   },
   {
    "duration": 6,
    "start_time": "2024-09-27T00:22:07.333Z"
   },
   {
    "duration": 1867,
    "start_time": "2024-09-27T00:22:07.341Z"
   },
   {
    "duration": 1094,
    "start_time": "2024-09-27T00:22:09.213Z"
   },
   {
    "duration": 1022,
    "start_time": "2024-09-27T00:23:09.111Z"
   },
   {
    "duration": 32,
    "start_time": "2024-09-27T00:23:10.136Z"
   },
   {
    "duration": 2,
    "start_time": "2024-09-27T00:23:10.169Z"
   },
   {
    "duration": 4,
    "start_time": "2024-09-27T00:23:10.173Z"
   },
   {
    "duration": 3,
    "start_time": "2024-09-27T00:23:10.179Z"
   },
   {
    "duration": 5,
    "start_time": "2024-09-27T00:23:10.183Z"
   },
   {
    "duration": 18,
    "start_time": "2024-09-27T00:23:10.189Z"
   },
   {
    "duration": 14,
    "start_time": "2024-09-27T00:23:10.208Z"
   },
   {
    "duration": 3,
    "start_time": "2024-09-27T00:23:10.223Z"
   },
   {
    "duration": 4,
    "start_time": "2024-09-27T00:23:10.228Z"
   },
   {
    "duration": 12,
    "start_time": "2024-09-27T00:23:10.234Z"
   },
   {
    "duration": 5,
    "start_time": "2024-09-27T00:23:10.247Z"
   },
   {
    "duration": 6,
    "start_time": "2024-09-27T00:23:10.253Z"
   },
   {
    "duration": 52,
    "start_time": "2024-09-27T00:23:10.262Z"
   },
   {
    "duration": 10,
    "start_time": "2024-09-27T00:23:10.315Z"
   },
   {
    "duration": 2,
    "start_time": "2024-09-27T00:23:10.327Z"
   },
   {
    "duration": 3,
    "start_time": "2024-09-27T00:23:10.331Z"
   },
   {
    "duration": 6,
    "start_time": "2024-09-27T00:23:10.335Z"
   },
   {
    "duration": 13,
    "start_time": "2024-09-27T00:23:10.343Z"
   },
   {
    "duration": 11,
    "start_time": "2024-09-27T00:23:10.358Z"
   },
   {
    "duration": 3,
    "start_time": "2024-09-27T00:23:10.370Z"
   },
   {
    "duration": 6,
    "start_time": "2024-09-27T00:23:10.406Z"
   },
   {
    "duration": 16,
    "start_time": "2024-09-27T00:23:10.414Z"
   },
   {
    "duration": 8,
    "start_time": "2024-09-27T00:23:10.431Z"
   },
   {
    "duration": 3,
    "start_time": "2024-09-27T00:23:10.441Z"
   },
   {
    "duration": 5,
    "start_time": "2024-09-27T00:23:10.447Z"
   },
   {
    "duration": 12,
    "start_time": "2024-09-27T00:23:10.453Z"
   },
   {
    "duration": 50,
    "start_time": "2024-09-27T00:23:10.467Z"
   },
   {
    "duration": 13,
    "start_time": "2024-09-27T00:23:10.519Z"
   },
   {
    "duration": 25,
    "start_time": "2024-09-27T00:23:10.535Z"
   },
   {
    "duration": 5,
    "start_time": "2024-09-27T00:23:10.561Z"
   },
   {
    "duration": 39,
    "start_time": "2024-09-27T00:23:10.567Z"
   },
   {
    "duration": 127,
    "start_time": "2024-09-27T00:23:10.607Z"
   },
   {
    "duration": 276,
    "start_time": "2024-09-27T00:23:10.736Z"
   },
   {
    "duration": 118,
    "start_time": "2024-09-27T00:23:11.015Z"
   },
   {
    "duration": 739,
    "start_time": "2024-09-27T00:23:11.135Z"
   },
   {
    "duration": 953,
    "start_time": "2024-09-27T00:23:11.876Z"
   },
   {
    "duration": 566,
    "start_time": "2024-09-27T00:23:12.831Z"
   },
   {
    "duration": 9,
    "start_time": "2024-09-27T00:23:13.399Z"
   },
   {
    "duration": 32,
    "start_time": "2024-09-27T00:23:13.410Z"
   },
   {
    "duration": 241,
    "start_time": "2024-09-27T00:23:13.446Z"
   },
   {
    "duration": 4,
    "start_time": "2024-09-27T00:23:13.688Z"
   },
   {
    "duration": 22,
    "start_time": "2024-09-27T00:23:13.705Z"
   },
   {
    "duration": 5,
    "start_time": "2024-09-27T00:23:13.728Z"
   },
   {
    "duration": 4,
    "start_time": "2024-09-27T00:23:13.734Z"
   },
   {
    "duration": 4,
    "start_time": "2024-09-27T00:23:13.739Z"
   },
   {
    "duration": 7,
    "start_time": "2024-09-27T00:23:13.745Z"
   },
   {
    "duration": 8,
    "start_time": "2024-09-27T00:23:13.753Z"
   },
   {
    "duration": 7,
    "start_time": "2024-09-27T00:23:13.762Z"
   },
   {
    "duration": 7,
    "start_time": "2024-09-27T00:23:13.804Z"
   },
   {
    "duration": 1797,
    "start_time": "2024-09-27T00:23:13.812Z"
   },
   {
    "duration": 1020,
    "start_time": "2024-09-27T00:23:15.611Z"
   },
   {
    "duration": 1062,
    "start_time": "2024-09-27T00:26:31.247Z"
   },
   {
    "duration": 34,
    "start_time": "2024-09-27T00:26:32.311Z"
   },
   {
    "duration": 3,
    "start_time": "2024-09-27T00:26:32.347Z"
   },
   {
    "duration": 3,
    "start_time": "2024-09-27T00:26:32.352Z"
   },
   {
    "duration": 4,
    "start_time": "2024-09-27T00:26:32.356Z"
   },
   {
    "duration": 3,
    "start_time": "2024-09-27T00:26:32.361Z"
   },
   {
    "duration": 3,
    "start_time": "2024-09-27T00:26:32.366Z"
   },
   {
    "duration": 38,
    "start_time": "2024-09-27T00:26:32.371Z"
   },
   {
    "duration": 2,
    "start_time": "2024-09-27T00:26:32.411Z"
   },
   {
    "duration": 6,
    "start_time": "2024-09-27T00:26:32.416Z"
   },
   {
    "duration": 16,
    "start_time": "2024-09-27T00:26:32.424Z"
   },
   {
    "duration": 9,
    "start_time": "2024-09-27T00:26:32.442Z"
   },
   {
    "duration": 8,
    "start_time": "2024-09-27T00:26:32.454Z"
   },
   {
    "duration": 51,
    "start_time": "2024-09-27T00:26:32.463Z"
   },
   {
    "duration": 10,
    "start_time": "2024-09-27T00:26:32.516Z"
   },
   {
    "duration": 3,
    "start_time": "2024-09-27T00:26:32.528Z"
   },
   {
    "duration": 4,
    "start_time": "2024-09-27T00:26:32.532Z"
   },
   {
    "duration": 7,
    "start_time": "2024-09-27T00:26:32.537Z"
   },
   {
    "duration": 14,
    "start_time": "2024-09-27T00:26:32.545Z"
   },
   {
    "duration": 12,
    "start_time": "2024-09-27T00:26:32.560Z"
   },
   {
    "duration": 3,
    "start_time": "2024-09-27T00:26:32.573Z"
   },
   {
    "duration": 7,
    "start_time": "2024-09-27T00:26:32.605Z"
   },
   {
    "duration": 17,
    "start_time": "2024-09-27T00:26:32.614Z"
   },
   {
    "duration": 9,
    "start_time": "2024-09-27T00:26:32.633Z"
   },
   {
    "duration": 2,
    "start_time": "2024-09-27T00:26:32.644Z"
   },
   {
    "duration": 6,
    "start_time": "2024-09-27T00:26:32.647Z"
   },
   {
    "duration": 11,
    "start_time": "2024-09-27T00:26:32.655Z"
   },
   {
    "duration": 58,
    "start_time": "2024-09-27T00:26:32.670Z"
   },
   {
    "duration": 14,
    "start_time": "2024-09-27T00:26:32.730Z"
   },
   {
    "duration": 26,
    "start_time": "2024-09-27T00:26:32.745Z"
   },
   {
    "duration": 4,
    "start_time": "2024-09-27T00:26:32.772Z"
   },
   {
    "duration": 36,
    "start_time": "2024-09-27T00:26:32.778Z"
   },
   {
    "duration": 132,
    "start_time": "2024-09-27T00:26:32.815Z"
   },
   {
    "duration": 285,
    "start_time": "2024-09-27T00:26:32.948Z"
   },
   {
    "duration": 121,
    "start_time": "2024-09-27T00:26:33.235Z"
   },
   {
    "duration": 772,
    "start_time": "2024-09-27T00:26:33.358Z"
   },
   {
    "duration": 955,
    "start_time": "2024-09-27T00:26:34.133Z"
   },
   {
    "duration": 533,
    "start_time": "2024-09-27T00:26:35.090Z"
   },
   {
    "duration": 4,
    "start_time": "2024-09-27T00:26:35.625Z"
   },
   {
    "duration": 31,
    "start_time": "2024-09-27T00:26:35.631Z"
   },
   {
    "duration": 43,
    "start_time": "2024-09-27T00:26:35.663Z"
   },
   {
    "duration": 485,
    "start_time": "2024-09-27T00:26:35.707Z"
   },
   {
    "duration": 954,
    "start_time": "2024-09-27T00:26:36.194Z"
   },
   {
    "duration": 0,
    "start_time": "2024-09-27T00:26:37.150Z"
   },
   {
    "duration": 0,
    "start_time": "2024-09-27T00:26:37.154Z"
   },
   {
    "duration": 0,
    "start_time": "2024-09-27T00:26:37.155Z"
   },
   {
    "duration": 0,
    "start_time": "2024-09-27T00:26:37.156Z"
   },
   {
    "duration": 0,
    "start_time": "2024-09-27T00:26:37.158Z"
   },
   {
    "duration": 0,
    "start_time": "2024-09-27T00:26:37.159Z"
   },
   {
    "duration": 0,
    "start_time": "2024-09-27T00:26:37.160Z"
   },
   {
    "duration": 0,
    "start_time": "2024-09-27T00:26:37.162Z"
   },
   {
    "duration": 0,
    "start_time": "2024-09-27T00:26:37.163Z"
   },
   {
    "duration": 0,
    "start_time": "2024-09-27T00:26:37.165Z"
   },
   {
    "duration": 1040,
    "start_time": "2024-09-27T00:36:15.043Z"
   },
   {
    "duration": 32,
    "start_time": "2024-09-27T00:36:16.085Z"
   },
   {
    "duration": 3,
    "start_time": "2024-09-27T00:36:16.118Z"
   },
   {
    "duration": 3,
    "start_time": "2024-09-27T00:36:16.123Z"
   },
   {
    "duration": 3,
    "start_time": "2024-09-27T00:36:16.128Z"
   },
   {
    "duration": 4,
    "start_time": "2024-09-27T00:36:16.132Z"
   },
   {
    "duration": 4,
    "start_time": "2024-09-27T00:36:16.137Z"
   },
   {
    "duration": 14,
    "start_time": "2024-09-27T00:36:16.142Z"
   },
   {
    "duration": 3,
    "start_time": "2024-09-27T00:36:16.158Z"
   },
   {
    "duration": 6,
    "start_time": "2024-09-27T00:36:16.162Z"
   },
   {
    "duration": 12,
    "start_time": "2024-09-27T00:36:16.205Z"
   },
   {
    "duration": 5,
    "start_time": "2024-09-27T00:36:16.219Z"
   },
   {
    "duration": 6,
    "start_time": "2024-09-27T00:36:16.225Z"
   },
   {
    "duration": 16,
    "start_time": "2024-09-27T00:36:16.235Z"
   },
   {
    "duration": 11,
    "start_time": "2024-09-27T00:36:16.252Z"
   },
   {
    "duration": 2,
    "start_time": "2024-09-27T00:36:16.265Z"
   },
   {
    "duration": 37,
    "start_time": "2024-09-27T00:36:16.269Z"
   },
   {
    "duration": 6,
    "start_time": "2024-09-27T00:36:16.308Z"
   },
   {
    "duration": 13,
    "start_time": "2024-09-27T00:36:16.316Z"
   },
   {
    "duration": 11,
    "start_time": "2024-09-27T00:36:16.330Z"
   },
   {
    "duration": 2,
    "start_time": "2024-09-27T00:36:16.343Z"
   },
   {
    "duration": 5,
    "start_time": "2024-09-27T00:36:16.347Z"
   },
   {
    "duration": 15,
    "start_time": "2024-09-27T00:36:16.354Z"
   },
   {
    "duration": 9,
    "start_time": "2024-09-27T00:36:16.406Z"
   },
   {
    "duration": 2,
    "start_time": "2024-09-27T00:36:16.417Z"
   },
   {
    "duration": 6,
    "start_time": "2024-09-27T00:36:16.421Z"
   },
   {
    "duration": 10,
    "start_time": "2024-09-27T00:36:16.428Z"
   },
   {
    "duration": 17,
    "start_time": "2024-09-27T00:36:16.440Z"
   },
   {
    "duration": 48,
    "start_time": "2024-09-27T00:36:16.459Z"
   },
   {
    "duration": 26,
    "start_time": "2024-09-27T00:36:16.509Z"
   },
   {
    "duration": 4,
    "start_time": "2024-09-27T00:36:16.537Z"
   },
   {
    "duration": 9,
    "start_time": "2024-09-27T00:36:16.543Z"
   },
   {
    "duration": 140,
    "start_time": "2024-09-27T00:36:16.554Z"
   },
   {
    "duration": 284,
    "start_time": "2024-09-27T00:36:16.696Z"
   },
   {
    "duration": 128,
    "start_time": "2024-09-27T00:36:16.982Z"
   },
   {
    "duration": 757,
    "start_time": "2024-09-27T00:36:17.113Z"
   },
   {
    "duration": 954,
    "start_time": "2024-09-27T00:36:17.872Z"
   },
   {
    "duration": 581,
    "start_time": "2024-09-27T00:36:18.827Z"
   },
   {
    "duration": 5,
    "start_time": "2024-09-27T00:36:19.410Z"
   },
   {
    "duration": 31,
    "start_time": "2024-09-27T00:36:19.416Z"
   },
   {
    "duration": 27,
    "start_time": "2024-09-27T00:36:19.452Z"
   },
   {
    "duration": 507,
    "start_time": "2024-09-27T00:36:19.480Z"
   },
   {
    "duration": 5,
    "start_time": "2024-09-27T00:36:19.988Z"
   },
   {
    "duration": 565,
    "start_time": "2024-09-27T00:36:19.994Z"
   },
   {
    "duration": 0,
    "start_time": "2024-09-27T00:36:20.561Z"
   },
   {
    "duration": 0,
    "start_time": "2024-09-27T00:36:20.562Z"
   },
   {
    "duration": 0,
    "start_time": "2024-09-27T00:36:20.563Z"
   },
   {
    "duration": 0,
    "start_time": "2024-09-27T00:36:20.564Z"
   },
   {
    "duration": 0,
    "start_time": "2024-09-27T00:36:20.565Z"
   },
   {
    "duration": 0,
    "start_time": "2024-09-27T00:36:20.566Z"
   },
   {
    "duration": 0,
    "start_time": "2024-09-27T00:36:20.567Z"
   },
   {
    "duration": 0,
    "start_time": "2024-09-27T00:36:20.568Z"
   },
   {
    "duration": 0,
    "start_time": "2024-09-27T00:36:20.569Z"
   },
   {
    "duration": 1019,
    "start_time": "2024-09-27T00:39:16.699Z"
   },
   {
    "duration": 32,
    "start_time": "2024-09-27T00:39:17.721Z"
   },
   {
    "duration": 3,
    "start_time": "2024-09-27T00:39:17.754Z"
   },
   {
    "duration": 3,
    "start_time": "2024-09-27T00:39:17.759Z"
   },
   {
    "duration": 2,
    "start_time": "2024-09-27T00:39:17.765Z"
   },
   {
    "duration": 3,
    "start_time": "2024-09-27T00:39:17.769Z"
   },
   {
    "duration": 4,
    "start_time": "2024-09-27T00:39:17.773Z"
   },
   {
    "duration": 33,
    "start_time": "2024-09-27T00:39:17.779Z"
   },
   {
    "duration": 2,
    "start_time": "2024-09-27T00:39:17.814Z"
   },
   {
    "duration": 6,
    "start_time": "2024-09-27T00:39:17.818Z"
   },
   {
    "duration": 14,
    "start_time": "2024-09-27T00:39:17.826Z"
   },
   {
    "duration": 5,
    "start_time": "2024-09-27T00:39:17.841Z"
   },
   {
    "duration": 6,
    "start_time": "2024-09-27T00:39:17.848Z"
   },
   {
    "duration": 49,
    "start_time": "2024-09-27T00:39:17.858Z"
   },
   {
    "duration": 10,
    "start_time": "2024-09-27T00:39:17.909Z"
   },
   {
    "duration": 4,
    "start_time": "2024-09-27T00:39:17.920Z"
   },
   {
    "duration": 3,
    "start_time": "2024-09-27T00:39:17.925Z"
   },
   {
    "duration": 6,
    "start_time": "2024-09-27T00:39:17.930Z"
   },
   {
    "duration": 13,
    "start_time": "2024-09-27T00:39:17.937Z"
   },
   {
    "duration": 11,
    "start_time": "2024-09-27T00:39:17.952Z"
   },
   {
    "duration": 2,
    "start_time": "2024-09-27T00:39:17.964Z"
   },
   {
    "duration": 38,
    "start_time": "2024-09-27T00:39:17.968Z"
   },
   {
    "duration": 16,
    "start_time": "2024-09-27T00:39:18.007Z"
   },
   {
    "duration": 9,
    "start_time": "2024-09-27T00:39:18.025Z"
   },
   {
    "duration": 2,
    "start_time": "2024-09-27T00:39:18.036Z"
   },
   {
    "duration": 6,
    "start_time": "2024-09-27T00:39:18.040Z"
   },
   {
    "duration": 10,
    "start_time": "2024-09-27T00:39:18.048Z"
   },
   {
    "duration": 55,
    "start_time": "2024-09-27T00:39:18.059Z"
   },
   {
    "duration": 14,
    "start_time": "2024-09-27T00:39:18.115Z"
   },
   {
    "duration": 25,
    "start_time": "2024-09-27T00:39:18.131Z"
   },
   {
    "duration": 4,
    "start_time": "2024-09-27T00:39:18.158Z"
   },
   {
    "duration": 9,
    "start_time": "2024-09-27T00:39:18.164Z"
   },
   {
    "duration": 156,
    "start_time": "2024-09-27T00:39:18.175Z"
   },
   {
    "duration": 260,
    "start_time": "2024-09-27T00:39:18.332Z"
   },
   {
    "duration": 125,
    "start_time": "2024-09-27T00:39:18.594Z"
   },
   {
    "duration": 757,
    "start_time": "2024-09-27T00:39:18.721Z"
   },
   {
    "duration": 922,
    "start_time": "2024-09-27T00:39:19.479Z"
   },
   {
    "duration": 526,
    "start_time": "2024-09-27T00:39:20.403Z"
   },
   {
    "duration": 4,
    "start_time": "2024-09-27T00:39:20.931Z"
   },
   {
    "duration": 30,
    "start_time": "2024-09-27T00:39:20.937Z"
   },
   {
    "duration": 46,
    "start_time": "2024-09-27T00:39:20.972Z"
   },
   {
    "duration": 471,
    "start_time": "2024-09-27T00:39:21.021Z"
   },
   {
    "duration": 11,
    "start_time": "2024-09-27T00:39:21.493Z"
   },
   {
    "duration": 609,
    "start_time": "2024-09-27T00:39:21.506Z"
   },
   {
    "duration": 0,
    "start_time": "2024-09-27T00:39:22.117Z"
   },
   {
    "duration": 0,
    "start_time": "2024-09-27T00:39:22.118Z"
   },
   {
    "duration": 0,
    "start_time": "2024-09-27T00:39:22.119Z"
   },
   {
    "duration": 0,
    "start_time": "2024-09-27T00:39:22.121Z"
   },
   {
    "duration": 0,
    "start_time": "2024-09-27T00:39:22.122Z"
   },
   {
    "duration": 0,
    "start_time": "2024-09-27T00:39:22.124Z"
   },
   {
    "duration": 0,
    "start_time": "2024-09-27T00:39:22.125Z"
   },
   {
    "duration": 0,
    "start_time": "2024-09-27T00:39:22.126Z"
   },
   {
    "duration": 0,
    "start_time": "2024-09-27T00:39:22.128Z"
   },
   {
    "duration": 1019,
    "start_time": "2024-09-27T00:40:50.294Z"
   },
   {
    "duration": 33,
    "start_time": "2024-09-27T00:40:51.315Z"
   },
   {
    "duration": 3,
    "start_time": "2024-09-27T00:40:51.349Z"
   },
   {
    "duration": 4,
    "start_time": "2024-09-27T00:40:51.353Z"
   },
   {
    "duration": 3,
    "start_time": "2024-09-27T00:40:51.360Z"
   },
   {
    "duration": 4,
    "start_time": "2024-09-27T00:40:51.364Z"
   },
   {
    "duration": 4,
    "start_time": "2024-09-27T00:40:51.369Z"
   },
   {
    "duration": 38,
    "start_time": "2024-09-27T00:40:51.375Z"
   },
   {
    "duration": 2,
    "start_time": "2024-09-27T00:40:51.415Z"
   },
   {
    "duration": 6,
    "start_time": "2024-09-27T00:40:51.419Z"
   },
   {
    "duration": 12,
    "start_time": "2024-09-27T00:40:51.426Z"
   },
   {
    "duration": 4,
    "start_time": "2024-09-27T00:40:51.440Z"
   },
   {
    "duration": 6,
    "start_time": "2024-09-27T00:40:51.446Z"
   },
   {
    "duration": 14,
    "start_time": "2024-09-27T00:40:51.456Z"
   },
   {
    "duration": 11,
    "start_time": "2024-09-27T00:40:51.504Z"
   },
   {
    "duration": 2,
    "start_time": "2024-09-27T00:40:51.517Z"
   },
   {
    "duration": 3,
    "start_time": "2024-09-27T00:40:51.521Z"
   },
   {
    "duration": 6,
    "start_time": "2024-09-27T00:40:51.526Z"
   },
   {
    "duration": 13,
    "start_time": "2024-09-27T00:40:51.534Z"
   },
   {
    "duration": 11,
    "start_time": "2024-09-27T00:40:51.549Z"
   },
   {
    "duration": 3,
    "start_time": "2024-09-27T00:40:51.561Z"
   },
   {
    "duration": 43,
    "start_time": "2024-09-27T00:40:51.566Z"
   },
   {
    "duration": 18,
    "start_time": "2024-09-27T00:40:51.610Z"
   },
   {
    "duration": 8,
    "start_time": "2024-09-27T00:40:51.630Z"
   },
   {
    "duration": 3,
    "start_time": "2024-09-27T00:40:51.640Z"
   },
   {
    "duration": 5,
    "start_time": "2024-09-27T00:40:51.645Z"
   },
   {
    "duration": 11,
    "start_time": "2024-09-27T00:40:51.651Z"
   },
   {
    "duration": 53,
    "start_time": "2024-09-27T00:40:51.663Z"
   },
   {
    "duration": 14,
    "start_time": "2024-09-27T00:40:51.718Z"
   },
   {
    "duration": 27,
    "start_time": "2024-09-27T00:40:51.733Z"
   },
   {
    "duration": 4,
    "start_time": "2024-09-27T00:40:51.761Z"
   },
   {
    "duration": 38,
    "start_time": "2024-09-27T00:40:51.766Z"
   },
   {
    "duration": 123,
    "start_time": "2024-09-27T00:40:51.806Z"
   },
   {
    "duration": 262,
    "start_time": "2024-09-27T00:40:51.931Z"
   },
   {
    "duration": 127,
    "start_time": "2024-09-27T00:40:52.196Z"
   },
   {
    "duration": 766,
    "start_time": "2024-09-27T00:40:52.325Z"
   },
   {
    "duration": 925,
    "start_time": "2024-09-27T00:40:53.093Z"
   },
   {
    "duration": 554,
    "start_time": "2024-09-27T00:40:54.020Z"
   },
   {
    "duration": 5,
    "start_time": "2024-09-27T00:40:54.576Z"
   },
   {
    "duration": 46,
    "start_time": "2024-09-27T00:40:54.582Z"
   },
   {
    "duration": 27,
    "start_time": "2024-09-27T00:40:54.632Z"
   },
   {
    "duration": 471,
    "start_time": "2024-09-27T00:40:54.661Z"
   },
   {
    "duration": 4,
    "start_time": "2024-09-27T00:40:55.134Z"
   },
   {
    "duration": 4,
    "start_time": "2024-09-27T00:40:55.141Z"
   },
   {
    "duration": 4,
    "start_time": "2024-09-27T00:40:55.147Z"
   },
   {
    "duration": 4,
    "start_time": "2024-09-27T00:40:55.152Z"
   },
   {
    "duration": 4,
    "start_time": "2024-09-27T00:40:55.158Z"
   },
   {
    "duration": 7,
    "start_time": "2024-09-27T00:40:55.165Z"
   },
   {
    "duration": 37,
    "start_time": "2024-09-27T00:40:55.174Z"
   },
   {
    "duration": 8,
    "start_time": "2024-09-27T00:40:55.213Z"
   },
   {
    "duration": 7,
    "start_time": "2024-09-27T00:40:55.224Z"
   },
   {
    "duration": 1575,
    "start_time": "2024-09-27T00:40:55.233Z"
   },
   {
    "duration": 812,
    "start_time": "2024-09-27T00:40:56.809Z"
   },
   {
    "duration": 1067,
    "start_time": "2024-09-27T00:41:38.747Z"
   },
   {
    "duration": 31,
    "start_time": "2024-09-27T00:41:39.816Z"
   },
   {
    "duration": 2,
    "start_time": "2024-09-27T00:41:39.849Z"
   },
   {
    "duration": 4,
    "start_time": "2024-09-27T00:41:39.853Z"
   },
   {
    "duration": 3,
    "start_time": "2024-09-27T00:41:39.859Z"
   },
   {
    "duration": 4,
    "start_time": "2024-09-27T00:41:39.863Z"
   },
   {
    "duration": 4,
    "start_time": "2024-09-27T00:41:39.868Z"
   },
   {
    "duration": 36,
    "start_time": "2024-09-27T00:41:39.874Z"
   },
   {
    "duration": 3,
    "start_time": "2024-09-27T00:41:39.911Z"
   },
   {
    "duration": 6,
    "start_time": "2024-09-27T00:41:39.915Z"
   },
   {
    "duration": 13,
    "start_time": "2024-09-27T00:41:39.922Z"
   },
   {
    "duration": 5,
    "start_time": "2024-09-27T00:41:39.937Z"
   },
   {
    "duration": 6,
    "start_time": "2024-09-27T00:41:39.943Z"
   },
   {
    "duration": 15,
    "start_time": "2024-09-27T00:41:39.952Z"
   },
   {
    "duration": 10,
    "start_time": "2024-09-27T00:41:40.005Z"
   },
   {
    "duration": 3,
    "start_time": "2024-09-27T00:41:40.017Z"
   },
   {
    "duration": 3,
    "start_time": "2024-09-27T00:41:40.021Z"
   },
   {
    "duration": 6,
    "start_time": "2024-09-27T00:41:40.025Z"
   },
   {
    "duration": 13,
    "start_time": "2024-09-27T00:41:40.033Z"
   },
   {
    "duration": 11,
    "start_time": "2024-09-27T00:41:40.047Z"
   },
   {
    "duration": 3,
    "start_time": "2024-09-27T00:41:40.060Z"
   },
   {
    "duration": 46,
    "start_time": "2024-09-27T00:41:40.064Z"
   },
   {
    "duration": 16,
    "start_time": "2024-09-27T00:41:40.111Z"
   },
   {
    "duration": 8,
    "start_time": "2024-09-27T00:41:40.129Z"
   },
   {
    "duration": 3,
    "start_time": "2024-09-27T00:41:40.138Z"
   },
   {
    "duration": 6,
    "start_time": "2024-09-27T00:41:40.142Z"
   },
   {
    "duration": 11,
    "start_time": "2024-09-27T00:41:40.149Z"
   },
   {
    "duration": 53,
    "start_time": "2024-09-27T00:41:40.162Z"
   },
   {
    "duration": 13,
    "start_time": "2024-09-27T00:41:40.216Z"
   },
   {
    "duration": 25,
    "start_time": "2024-09-27T00:41:40.231Z"
   },
   {
    "duration": 4,
    "start_time": "2024-09-27T00:41:40.258Z"
   },
   {
    "duration": 9,
    "start_time": "2024-09-27T00:41:40.265Z"
   },
   {
    "duration": 152,
    "start_time": "2024-09-27T00:41:40.276Z"
   },
   {
    "duration": 255,
    "start_time": "2024-09-27T00:41:40.430Z"
   },
   {
    "duration": 123,
    "start_time": "2024-09-27T00:41:40.687Z"
   },
   {
    "duration": 758,
    "start_time": "2024-09-27T00:41:40.812Z"
   },
   {
    "duration": 946,
    "start_time": "2024-09-27T00:41:41.572Z"
   },
   {
    "duration": 560,
    "start_time": "2024-09-27T00:41:42.520Z"
   },
   {
    "duration": 4,
    "start_time": "2024-09-27T00:41:43.082Z"
   },
   {
    "duration": 41,
    "start_time": "2024-09-27T00:41:43.088Z"
   },
   {
    "duration": 27,
    "start_time": "2024-09-27T00:41:43.134Z"
   },
   {
    "duration": 463,
    "start_time": "2024-09-27T00:41:43.162Z"
   },
   {
    "duration": 4,
    "start_time": "2024-09-27T00:41:43.627Z"
   },
   {
    "duration": 4,
    "start_time": "2024-09-27T00:41:43.633Z"
   },
   {
    "duration": 4,
    "start_time": "2024-09-27T00:41:43.639Z"
   },
   {
    "duration": 4,
    "start_time": "2024-09-27T00:41:43.644Z"
   },
   {
    "duration": 4,
    "start_time": "2024-09-27T00:41:43.649Z"
   },
   {
    "duration": 7,
    "start_time": "2024-09-27T00:41:43.655Z"
   },
   {
    "duration": 43,
    "start_time": "2024-09-27T00:41:43.663Z"
   },
   {
    "duration": 6,
    "start_time": "2024-09-27T00:41:43.707Z"
   },
   {
    "duration": 6,
    "start_time": "2024-09-27T00:41:43.715Z"
   },
   {
    "duration": 1684,
    "start_time": "2024-09-27T00:41:43.722Z"
   },
   {
    "duration": 798,
    "start_time": "2024-09-27T00:41:45.411Z"
   },
   {
    "duration": 1058,
    "start_time": "2024-09-27T00:48:52.613Z"
   },
   {
    "duration": 31,
    "start_time": "2024-09-27T00:48:53.673Z"
   },
   {
    "duration": 2,
    "start_time": "2024-09-27T00:48:53.706Z"
   },
   {
    "duration": 5,
    "start_time": "2024-09-27T00:48:53.710Z"
   },
   {
    "duration": 2,
    "start_time": "2024-09-27T00:48:53.719Z"
   },
   {
    "duration": 3,
    "start_time": "2024-09-27T00:48:53.723Z"
   },
   {
    "duration": 3,
    "start_time": "2024-09-27T00:48:53.728Z"
   },
   {
    "duration": 13,
    "start_time": "2024-09-27T00:48:53.733Z"
   },
   {
    "duration": 2,
    "start_time": "2024-09-27T00:48:53.749Z"
   },
   {
    "duration": 5,
    "start_time": "2024-09-27T00:48:53.752Z"
   },
   {
    "duration": 50,
    "start_time": "2024-09-27T00:48:53.759Z"
   },
   {
    "duration": 5,
    "start_time": "2024-09-27T00:48:53.810Z"
   },
   {
    "duration": 6,
    "start_time": "2024-09-27T00:48:53.818Z"
   },
   {
    "duration": 15,
    "start_time": "2024-09-27T00:48:53.828Z"
   },
   {
    "duration": 9,
    "start_time": "2024-09-27T00:48:53.845Z"
   },
   {
    "duration": 3,
    "start_time": "2024-09-27T00:48:53.856Z"
   },
   {
    "duration": 4,
    "start_time": "2024-09-27T00:48:53.860Z"
   },
   {
    "duration": 40,
    "start_time": "2024-09-27T00:48:53.865Z"
   },
   {
    "duration": 14,
    "start_time": "2024-09-27T00:48:53.907Z"
   },
   {
    "duration": 11,
    "start_time": "2024-09-27T00:48:53.922Z"
   },
   {
    "duration": 2,
    "start_time": "2024-09-27T00:48:53.935Z"
   },
   {
    "duration": 5,
    "start_time": "2024-09-27T00:48:53.939Z"
   },
   {
    "duration": 15,
    "start_time": "2024-09-27T00:48:53.946Z"
   },
   {
    "duration": 42,
    "start_time": "2024-09-27T00:48:53.963Z"
   },
   {
    "duration": 3,
    "start_time": "2024-09-27T00:48:54.006Z"
   },
   {
    "duration": 7,
    "start_time": "2024-09-27T00:48:54.011Z"
   },
   {
    "duration": 11,
    "start_time": "2024-09-27T00:48:54.020Z"
   },
   {
    "duration": 18,
    "start_time": "2024-09-27T00:48:54.033Z"
   },
   {
    "duration": 15,
    "start_time": "2024-09-27T00:48:54.053Z"
   },
   {
    "duration": 56,
    "start_time": "2024-09-27T00:48:54.070Z"
   },
   {
    "duration": 5,
    "start_time": "2024-09-27T00:48:54.128Z"
   },
   {
    "duration": 13,
    "start_time": "2024-09-27T00:48:54.135Z"
   },
   {
    "duration": 142,
    "start_time": "2024-09-27T00:48:54.149Z"
   },
   {
    "duration": 283,
    "start_time": "2024-09-27T00:48:54.292Z"
   },
   {
    "duration": 120,
    "start_time": "2024-09-27T00:48:54.577Z"
   },
   {
    "duration": 779,
    "start_time": "2024-09-27T00:48:54.699Z"
   },
   {
    "duration": 950,
    "start_time": "2024-09-27T00:48:55.481Z"
   },
   {
    "duration": 583,
    "start_time": "2024-09-27T00:48:56.432Z"
   },
   {
    "duration": 5,
    "start_time": "2024-09-27T00:48:57.016Z"
   },
   {
    "duration": 30,
    "start_time": "2024-09-27T00:48:57.024Z"
   },
   {
    "duration": 27,
    "start_time": "2024-09-27T00:48:57.058Z"
   },
   {
    "duration": 510,
    "start_time": "2024-09-27T00:48:57.087Z"
   },
   {
    "duration": 9,
    "start_time": "2024-09-27T00:48:57.598Z"
   },
   {
    "duration": 5,
    "start_time": "2024-09-27T00:48:57.609Z"
   },
   {
    "duration": 5,
    "start_time": "2024-09-27T00:48:57.615Z"
   },
   {
    "duration": 2,
    "start_time": "2024-09-27T00:48:57.622Z"
   },
   {
    "duration": 4,
    "start_time": "2024-09-27T00:48:57.626Z"
   },
   {
    "duration": 7,
    "start_time": "2024-09-27T00:48:57.632Z"
   },
   {
    "duration": 8,
    "start_time": "2024-09-27T00:48:57.641Z"
   },
   {
    "duration": 6,
    "start_time": "2024-09-27T00:48:57.650Z"
   },
   {
    "duration": 48,
    "start_time": "2024-09-27T00:48:57.658Z"
   },
   {
    "duration": 1698,
    "start_time": "2024-09-27T00:48:57.707Z"
   },
   {
    "duration": 899,
    "start_time": "2024-09-27T00:48:59.407Z"
   },
   {
    "duration": 1055,
    "start_time": "2024-09-27T00:49:35.966Z"
   },
   {
    "duration": 42,
    "start_time": "2024-09-27T00:49:37.025Z"
   },
   {
    "duration": 3,
    "start_time": "2024-09-27T00:49:37.069Z"
   },
   {
    "duration": 4,
    "start_time": "2024-09-27T00:49:37.073Z"
   },
   {
    "duration": 3,
    "start_time": "2024-09-27T00:49:37.079Z"
   },
   {
    "duration": 4,
    "start_time": "2024-09-27T00:49:37.083Z"
   },
   {
    "duration": 3,
    "start_time": "2024-09-27T00:49:37.088Z"
   },
   {
    "duration": 14,
    "start_time": "2024-09-27T00:49:37.105Z"
   },
   {
    "duration": 3,
    "start_time": "2024-09-27T00:49:37.120Z"
   },
   {
    "duration": 5,
    "start_time": "2024-09-27T00:49:37.124Z"
   },
   {
    "duration": 12,
    "start_time": "2024-09-27T00:49:37.130Z"
   },
   {
    "duration": 5,
    "start_time": "2024-09-27T00:49:37.144Z"
   },
   {
    "duration": 6,
    "start_time": "2024-09-27T00:49:37.150Z"
   },
   {
    "duration": 47,
    "start_time": "2024-09-27T00:49:37.159Z"
   },
   {
    "duration": 10,
    "start_time": "2024-09-27T00:49:37.208Z"
   },
   {
    "duration": 3,
    "start_time": "2024-09-27T00:49:37.220Z"
   },
   {
    "duration": 3,
    "start_time": "2024-09-27T00:49:37.224Z"
   },
   {
    "duration": 6,
    "start_time": "2024-09-27T00:49:37.229Z"
   },
   {
    "duration": 13,
    "start_time": "2024-09-27T00:49:37.236Z"
   },
   {
    "duration": 12,
    "start_time": "2024-09-27T00:49:37.250Z"
   },
   {
    "duration": 2,
    "start_time": "2024-09-27T00:49:37.264Z"
   },
   {
    "duration": 40,
    "start_time": "2024-09-27T00:49:37.268Z"
   },
   {
    "duration": 17,
    "start_time": "2024-09-27T00:49:37.309Z"
   },
   {
    "duration": 10,
    "start_time": "2024-09-27T00:49:37.327Z"
   },
   {
    "duration": 3,
    "start_time": "2024-09-27T00:49:37.338Z"
   },
   {
    "duration": 6,
    "start_time": "2024-09-27T00:49:37.342Z"
   },
   {
    "duration": 10,
    "start_time": "2024-09-27T00:49:37.349Z"
   },
   {
    "duration": 52,
    "start_time": "2024-09-27T00:49:37.361Z"
   },
   {
    "duration": 16,
    "start_time": "2024-09-27T00:49:37.415Z"
   },
   {
    "duration": 26,
    "start_time": "2024-09-27T00:49:37.434Z"
   },
   {
    "duration": 4,
    "start_time": "2024-09-27T00:49:37.462Z"
   },
   {
    "duration": 38,
    "start_time": "2024-09-27T00:49:37.468Z"
   },
   {
    "duration": 129,
    "start_time": "2024-09-27T00:49:37.507Z"
   },
   {
    "duration": 253,
    "start_time": "2024-09-27T00:49:37.638Z"
   },
   {
    "duration": 125,
    "start_time": "2024-09-27T00:49:37.893Z"
   },
   {
    "duration": 740,
    "start_time": "2024-09-27T00:49:38.022Z"
   },
   {
    "duration": 951,
    "start_time": "2024-09-27T00:49:38.764Z"
   },
   {
    "duration": 535,
    "start_time": "2024-09-27T00:49:39.718Z"
   },
   {
    "duration": 3,
    "start_time": "2024-09-27T00:49:40.255Z"
   },
   {
    "duration": 46,
    "start_time": "2024-09-27T00:49:40.260Z"
   },
   {
    "duration": 27,
    "start_time": "2024-09-27T00:49:40.310Z"
   },
   {
    "duration": 481,
    "start_time": "2024-09-27T00:49:40.338Z"
   },
   {
    "duration": 4,
    "start_time": "2024-09-27T00:49:40.821Z"
   },
   {
    "duration": 4,
    "start_time": "2024-09-27T00:49:40.826Z"
   },
   {
    "duration": 4,
    "start_time": "2024-09-27T00:49:40.832Z"
   },
   {
    "duration": 4,
    "start_time": "2024-09-27T00:49:40.837Z"
   },
   {
    "duration": 4,
    "start_time": "2024-09-27T00:49:40.843Z"
   },
   {
    "duration": 8,
    "start_time": "2024-09-27T00:49:40.848Z"
   },
   {
    "duration": 8,
    "start_time": "2024-09-27T00:49:40.858Z"
   },
   {
    "duration": 43,
    "start_time": "2024-09-27T00:49:40.867Z"
   },
   {
    "duration": 6,
    "start_time": "2024-09-27T00:49:40.911Z"
   },
   {
    "duration": 1502,
    "start_time": "2024-09-27T00:49:40.918Z"
   },
   {
    "duration": 1000,
    "start_time": "2024-09-27T00:49:42.423Z"
   },
   {
    "duration": 2683,
    "start_time": "2024-09-30T20:08:40.054Z"
   },
   {
    "duration": 40,
    "start_time": "2024-09-30T20:08:42.740Z"
   },
   {
    "duration": 3,
    "start_time": "2024-09-30T20:08:42.782Z"
   },
   {
    "duration": 3,
    "start_time": "2024-09-30T20:08:43.970Z"
   },
   {
    "duration": 3,
    "start_time": "2024-09-30T20:08:44.258Z"
   },
   {
    "duration": 3,
    "start_time": "2024-09-30T20:08:44.919Z"
   },
   {
    "duration": 3,
    "start_time": "2024-09-30T20:08:45.483Z"
   },
   {
    "duration": 16,
    "start_time": "2024-09-30T20:08:47.110Z"
   },
   {
    "duration": 2,
    "start_time": "2024-09-30T20:08:55.028Z"
   },
   {
    "duration": 6,
    "start_time": "2024-09-30T20:08:55.446Z"
   },
   {
    "duration": 14,
    "start_time": "2024-09-30T20:08:56.341Z"
   },
   {
    "duration": 5,
    "start_time": "2024-09-30T20:09:32.173Z"
   },
   {
    "duration": 11,
    "start_time": "2024-09-30T20:09:33.314Z"
   },
   {
    "duration": 25,
    "start_time": "2024-09-30T20:09:35.104Z"
   },
   {
    "duration": 424,
    "start_time": "2024-09-30T20:10:54.218Z"
   },
   {
    "duration": 1036,
    "start_time": "2024-09-30T20:15:29.602Z"
   },
   {
    "duration": 33,
    "start_time": "2024-09-30T20:15:30.640Z"
   },
   {
    "duration": 2,
    "start_time": "2024-09-30T20:15:30.809Z"
   },
   {
    "duration": 4,
    "start_time": "2024-09-30T20:15:30.994Z"
   },
   {
    "duration": 3,
    "start_time": "2024-09-30T20:15:31.170Z"
   },
   {
    "duration": 3,
    "start_time": "2024-09-30T20:15:31.325Z"
   },
   {
    "duration": 4,
    "start_time": "2024-09-30T20:15:31.499Z"
   },
   {
    "duration": 15,
    "start_time": "2024-09-30T20:15:31.793Z"
   },
   {
    "duration": 3,
    "start_time": "2024-09-30T20:15:32.145Z"
   },
   {
    "duration": 6,
    "start_time": "2024-09-30T20:15:32.298Z"
   },
   {
    "duration": 14,
    "start_time": "2024-09-30T20:15:32.464Z"
   },
   {
    "duration": 5,
    "start_time": "2024-09-30T20:15:32.635Z"
   },
   {
    "duration": 9,
    "start_time": "2024-09-30T20:15:32.768Z"
   },
   {
    "duration": 17,
    "start_time": "2024-09-30T20:15:32.945Z"
   },
   {
    "duration": 11,
    "start_time": "2024-09-30T20:15:33.240Z"
   },
   {
    "duration": 2,
    "start_time": "2024-09-30T20:15:33.391Z"
   },
   {
    "duration": 4,
    "start_time": "2024-09-30T20:15:33.542Z"
   },
   {
    "duration": 7,
    "start_time": "2024-09-30T20:15:33.687Z"
   },
   {
    "duration": 15,
    "start_time": "2024-09-30T20:15:33.864Z"
   },
   {
    "duration": 12,
    "start_time": "2024-09-30T20:15:34.153Z"
   },
   {
    "duration": 3,
    "start_time": "2024-09-30T20:15:34.472Z"
   },
   {
    "duration": 6,
    "start_time": "2024-09-30T20:15:34.596Z"
   },
   {
    "duration": 18,
    "start_time": "2024-09-30T20:15:34.951Z"
   },
   {
    "duration": 10,
    "start_time": "2024-09-30T20:15:35.296Z"
   },
   {
    "duration": 3,
    "start_time": "2024-09-30T20:15:35.665Z"
   },
   {
    "duration": 7,
    "start_time": "2024-09-30T20:15:35.839Z"
   },
   {
    "duration": 12,
    "start_time": "2024-09-30T20:15:36.006Z"
   },
   {
    "duration": 18,
    "start_time": "2024-09-30T20:15:36.339Z"
   },
   {
    "duration": 14,
    "start_time": "2024-09-30T20:15:36.502Z"
   },
   {
    "duration": 28,
    "start_time": "2024-09-30T20:15:36.658Z"
   },
   {
    "duration": 5,
    "start_time": "2024-09-30T20:15:37.109Z"
   },
   {
    "duration": 12,
    "start_time": "2024-09-30T20:15:38.767Z"
   },
   {
    "duration": 121,
    "start_time": "2024-09-30T20:15:43.067Z"
   },
   {
    "duration": 282,
    "start_time": "2024-09-30T20:15:44.199Z"
   },
   {
    "duration": 117,
    "start_time": "2024-09-30T20:15:45.294Z"
   },
   {
    "duration": 730,
    "start_time": "2024-09-30T20:15:46.351Z"
   },
   {
    "duration": 968,
    "start_time": "2024-09-30T20:15:48.423Z"
   },
   {
    "duration": 582,
    "start_time": "2024-09-30T20:15:51.019Z"
   },
   {
    "duration": 4,
    "start_time": "2024-09-30T20:16:42.016Z"
   },
   {
    "duration": 45,
    "start_time": "2024-09-30T20:17:38.951Z"
   },
   {
    "duration": 1049,
    "start_time": "2024-09-30T20:21:17.001Z"
   },
   {
    "duration": 32,
    "start_time": "2024-09-30T20:21:18.052Z"
   },
   {
    "duration": 2,
    "start_time": "2024-09-30T20:21:18.086Z"
   },
   {
    "duration": 3,
    "start_time": "2024-09-30T20:21:18.091Z"
   },
   {
    "duration": 3,
    "start_time": "2024-09-30T20:21:18.209Z"
   },
   {
    "duration": 3,
    "start_time": "2024-09-30T20:21:18.360Z"
   },
   {
    "duration": 4,
    "start_time": "2024-09-30T20:21:18.493Z"
   },
   {
    "duration": 15,
    "start_time": "2024-09-30T20:21:18.769Z"
   },
   {
    "duration": 3,
    "start_time": "2024-09-30T20:21:19.031Z"
   },
   {
    "duration": 5,
    "start_time": "2024-09-30T20:21:19.181Z"
   },
   {
    "duration": 15,
    "start_time": "2024-09-30T20:21:19.331Z"
   },
   {
    "duration": 6,
    "start_time": "2024-09-30T20:21:19.474Z"
   },
   {
    "duration": 7,
    "start_time": "2024-09-30T20:21:19.603Z"
   },
   {
    "duration": 24,
    "start_time": "2024-09-30T20:21:19.750Z"
   },
   {
    "duration": 12,
    "start_time": "2024-09-30T20:21:20.034Z"
   },
   {
    "duration": 3,
    "start_time": "2024-09-30T20:21:20.168Z"
   },
   {
    "duration": 4,
    "start_time": "2024-09-30T20:21:20.307Z"
   },
   {
    "duration": 7,
    "start_time": "2024-09-30T20:21:20.454Z"
   },
   {
    "duration": 17,
    "start_time": "2024-09-30T20:21:20.593Z"
   },
   {
    "duration": 13,
    "start_time": "2024-09-30T20:21:20.886Z"
   },
   {
    "duration": 3,
    "start_time": "2024-09-30T20:21:21.186Z"
   },
   {
    "duration": 6,
    "start_time": "2024-09-30T20:21:21.346Z"
   },
   {
    "duration": 17,
    "start_time": "2024-09-30T20:21:21.620Z"
   },
   {
    "duration": 9,
    "start_time": "2024-09-30T20:21:21.915Z"
   },
   {
    "duration": 3,
    "start_time": "2024-09-30T20:21:22.214Z"
   },
   {
    "duration": 7,
    "start_time": "2024-09-30T20:21:22.389Z"
   },
   {
    "duration": 11,
    "start_time": "2024-09-30T20:21:22.511Z"
   },
   {
    "duration": 20,
    "start_time": "2024-09-30T20:21:22.796Z"
   },
   {
    "duration": 14,
    "start_time": "2024-09-30T20:21:22.927Z"
   },
   {
    "duration": 27,
    "start_time": "2024-09-30T20:21:23.075Z"
   },
   {
    "duration": 5,
    "start_time": "2024-09-30T20:21:23.234Z"
   },
   {
    "duration": 12,
    "start_time": "2024-09-30T20:21:23.368Z"
   },
   {
    "duration": 121,
    "start_time": "2024-09-30T20:21:24.240Z"
   },
   {
    "duration": 269,
    "start_time": "2024-09-30T20:21:24.521Z"
   },
   {
    "duration": 121,
    "start_time": "2024-09-30T20:21:24.835Z"
   },
   {
    "duration": 764,
    "start_time": "2024-09-30T20:21:25.133Z"
   },
   {
    "duration": 986,
    "start_time": "2024-09-30T20:21:25.899Z"
   },
   {
    "duration": 575,
    "start_time": "2024-09-30T20:21:26.887Z"
   },
   {
    "duration": 5,
    "start_time": "2024-09-30T20:21:29.093Z"
   },
   {
    "duration": 50,
    "start_time": "2024-09-30T20:21:30.158Z"
   },
   {
    "duration": 30,
    "start_time": "2024-09-30T20:21:36.042Z"
   },
   {
    "duration": 534,
    "start_time": "2024-09-30T20:21:40.898Z"
   },
   {
    "duration": 5,
    "start_time": "2024-09-30T20:40:19.258Z"
   },
   {
    "duration": 10,
    "start_time": "2024-09-30T20:40:28.686Z"
   },
   {
    "duration": 155,
    "start_time": "2024-09-30T20:42:45.344Z"
   },
   {
    "duration": 12,
    "start_time": "2024-09-30T20:43:16.013Z"
   },
   {
    "duration": 1087,
    "start_time": "2024-09-30T20:43:43.370Z"
   },
   {
    "duration": 37,
    "start_time": "2024-09-30T20:43:44.459Z"
   },
   {
    "duration": 3,
    "start_time": "2024-09-30T20:43:44.497Z"
   },
   {
    "duration": 4,
    "start_time": "2024-09-30T20:43:44.501Z"
   },
   {
    "duration": 2,
    "start_time": "2024-09-30T20:43:44.511Z"
   },
   {
    "duration": 3,
    "start_time": "2024-09-30T20:43:44.515Z"
   },
   {
    "duration": 4,
    "start_time": "2024-09-30T20:43:44.519Z"
   },
   {
    "duration": 13,
    "start_time": "2024-09-30T20:43:44.525Z"
   },
   {
    "duration": 2,
    "start_time": "2024-09-30T20:43:44.540Z"
   },
   {
    "duration": 5,
    "start_time": "2024-09-30T20:43:44.544Z"
   },
   {
    "duration": 13,
    "start_time": "2024-09-30T20:43:44.552Z"
   },
   {
    "duration": 46,
    "start_time": "2024-09-30T20:43:44.566Z"
   },
   {
    "duration": 7,
    "start_time": "2024-09-30T20:43:44.613Z"
   },
   {
    "duration": 17,
    "start_time": "2024-09-30T20:43:44.624Z"
   },
   {
    "duration": 11,
    "start_time": "2024-09-30T20:43:44.642Z"
   },
   {
    "duration": 2,
    "start_time": "2024-09-30T20:43:44.656Z"
   },
   {
    "duration": 4,
    "start_time": "2024-09-30T20:43:44.660Z"
   },
   {
    "duration": 43,
    "start_time": "2024-09-30T20:43:44.666Z"
   },
   {
    "duration": 15,
    "start_time": "2024-09-30T20:43:44.710Z"
   },
   {
    "duration": 12,
    "start_time": "2024-09-30T20:43:44.726Z"
   },
   {
    "duration": 3,
    "start_time": "2024-09-30T20:43:44.740Z"
   },
   {
    "duration": 6,
    "start_time": "2024-09-30T20:43:44.745Z"
   },
   {
    "duration": 23,
    "start_time": "2024-09-30T20:43:44.753Z"
   },
   {
    "duration": 38,
    "start_time": "2024-09-30T20:43:44.778Z"
   },
   {
    "duration": 3,
    "start_time": "2024-09-30T20:43:44.818Z"
   },
   {
    "duration": 7,
    "start_time": "2024-09-30T20:43:44.823Z"
   },
   {
    "duration": 12,
    "start_time": "2024-09-30T20:43:44.831Z"
   },
   {
    "duration": 20,
    "start_time": "2024-09-30T20:43:44.844Z"
   },
   {
    "duration": 47,
    "start_time": "2024-09-30T20:43:44.866Z"
   },
   {
    "duration": 27,
    "start_time": "2024-09-30T20:43:44.914Z"
   },
   {
    "duration": 4,
    "start_time": "2024-09-30T20:43:44.943Z"
   },
   {
    "duration": 10,
    "start_time": "2024-09-30T20:43:44.949Z"
   },
   {
    "duration": 149,
    "start_time": "2024-09-30T20:43:44.961Z"
   },
   {
    "duration": 299,
    "start_time": "2024-09-30T20:43:45.112Z"
   },
   {
    "duration": 124,
    "start_time": "2024-09-30T20:43:45.413Z"
   },
   {
    "duration": 750,
    "start_time": "2024-09-30T20:43:45.539Z"
   },
   {
    "duration": 955,
    "start_time": "2024-09-30T20:43:46.291Z"
   },
   {
    "duration": 586,
    "start_time": "2024-09-30T20:43:47.248Z"
   },
   {
    "duration": 4,
    "start_time": "2024-09-30T20:43:47.836Z"
   },
   {
    "duration": 42,
    "start_time": "2024-09-30T20:43:47.843Z"
   },
   {
    "duration": 43,
    "start_time": "2024-09-30T20:43:47.890Z"
   },
   {
    "duration": 520,
    "start_time": "2024-09-30T20:43:47.935Z"
   },
   {
    "duration": 4,
    "start_time": "2024-09-30T20:43:48.458Z"
   },
   {
    "duration": 9,
    "start_time": "2024-09-30T20:43:48.464Z"
   },
   {
    "duration": 3,
    "start_time": "2024-09-30T20:43:48.475Z"
   },
   {
    "duration": 5,
    "start_time": "2024-09-30T20:43:48.480Z"
   },
   {
    "duration": 4,
    "start_time": "2024-09-30T20:43:48.509Z"
   },
   {
    "duration": 5,
    "start_time": "2024-09-30T20:43:48.514Z"
   },
   {
    "duration": 9,
    "start_time": "2024-09-30T20:43:48.520Z"
   },
   {
    "duration": 10,
    "start_time": "2024-09-30T20:43:48.530Z"
   },
   {
    "duration": 8,
    "start_time": "2024-09-30T20:43:48.542Z"
   },
   {
    "duration": 9,
    "start_time": "2024-09-30T20:43:48.552Z"
   },
   {
    "duration": 1649,
    "start_time": "2024-09-30T20:43:48.563Z"
   },
   {
    "duration": 1002,
    "start_time": "2024-09-30T20:43:50.217Z"
   },
   {
    "duration": 1103,
    "start_time": "2024-09-30T20:53:23.950Z"
   },
   {
    "duration": 34,
    "start_time": "2024-09-30T20:53:25.055Z"
   },
   {
    "duration": 13,
    "start_time": "2024-09-30T20:53:25.091Z"
   },
   {
    "duration": 4,
    "start_time": "2024-09-30T20:53:25.107Z"
   },
   {
    "duration": 4,
    "start_time": "2024-09-30T20:53:25.113Z"
   },
   {
    "duration": 3,
    "start_time": "2024-09-30T20:53:25.119Z"
   },
   {
    "duration": 4,
    "start_time": "2024-09-30T20:53:25.123Z"
   },
   {
    "duration": 14,
    "start_time": "2024-09-30T20:53:25.130Z"
   },
   {
    "duration": 2,
    "start_time": "2024-09-30T20:53:25.147Z"
   },
   {
    "duration": 5,
    "start_time": "2024-09-30T20:53:25.152Z"
   },
   {
    "duration": 12,
    "start_time": "2024-09-30T20:53:25.159Z"
   },
   {
    "duration": 40,
    "start_time": "2024-09-30T20:53:25.172Z"
   },
   {
    "duration": 6,
    "start_time": "2024-09-30T20:53:25.214Z"
   },
   {
    "duration": 21,
    "start_time": "2024-09-30T20:53:25.222Z"
   },
   {
    "duration": 15,
    "start_time": "2024-09-30T20:53:25.246Z"
   },
   {
    "duration": 3,
    "start_time": "2024-09-30T20:53:25.263Z"
   },
   {
    "duration": 4,
    "start_time": "2024-09-30T20:53:25.268Z"
   },
   {
    "duration": 38,
    "start_time": "2024-09-30T20:53:25.274Z"
   },
   {
    "duration": 14,
    "start_time": "2024-09-30T20:53:25.315Z"
   },
   {
    "duration": 12,
    "start_time": "2024-09-30T20:53:25.331Z"
   },
   {
    "duration": 2,
    "start_time": "2024-09-30T20:53:25.345Z"
   },
   {
    "duration": 6,
    "start_time": "2024-09-30T20:53:25.349Z"
   },
   {
    "duration": 52,
    "start_time": "2024-09-30T20:53:25.357Z"
   },
   {
    "duration": 9,
    "start_time": "2024-09-30T20:53:25.413Z"
   },
   {
    "duration": 2,
    "start_time": "2024-09-30T20:53:25.424Z"
   },
   {
    "duration": 6,
    "start_time": "2024-09-30T20:53:25.428Z"
   },
   {
    "duration": 10,
    "start_time": "2024-09-30T20:53:25.436Z"
   },
   {
    "duration": 18,
    "start_time": "2024-09-30T20:53:25.451Z"
   },
   {
    "duration": 41,
    "start_time": "2024-09-30T20:53:25.470Z"
   },
   {
    "duration": 27,
    "start_time": "2024-09-30T20:53:25.513Z"
   },
   {
    "duration": 5,
    "start_time": "2024-09-30T20:53:25.541Z"
   },
   {
    "duration": 11,
    "start_time": "2024-09-30T20:53:25.547Z"
   },
   {
    "duration": 153,
    "start_time": "2024-09-30T20:53:25.560Z"
   },
   {
    "duration": 283,
    "start_time": "2024-09-30T20:53:25.714Z"
   },
   {
    "duration": 126,
    "start_time": "2024-09-30T20:53:25.999Z"
   },
   {
    "duration": 754,
    "start_time": "2024-09-30T20:53:26.127Z"
   },
   {
    "duration": 989,
    "start_time": "2024-09-30T20:53:26.883Z"
   },
   {
    "duration": 551,
    "start_time": "2024-09-30T20:53:27.874Z"
   },
   {
    "duration": 4,
    "start_time": "2024-09-30T20:53:28.427Z"
   },
   {
    "duration": 51,
    "start_time": "2024-09-30T20:53:28.434Z"
   },
   {
    "duration": 48,
    "start_time": "2024-09-30T20:53:28.487Z"
   },
   {
    "duration": 506,
    "start_time": "2024-09-30T20:53:28.537Z"
   },
   {
    "duration": 5,
    "start_time": "2024-09-30T20:53:29.045Z"
   },
   {
    "duration": 8,
    "start_time": "2024-09-30T20:53:29.052Z"
   },
   {
    "duration": 3,
    "start_time": "2024-09-30T20:53:29.062Z"
   },
   {
    "duration": 4,
    "start_time": "2024-09-30T20:53:29.067Z"
   },
   {
    "duration": 3,
    "start_time": "2024-09-30T20:53:29.073Z"
   },
   {
    "duration": 33,
    "start_time": "2024-09-30T20:53:29.078Z"
   },
   {
    "duration": 9,
    "start_time": "2024-09-30T20:53:29.112Z"
   },
   {
    "duration": 8,
    "start_time": "2024-09-30T20:53:29.124Z"
   },
   {
    "duration": 8,
    "start_time": "2024-09-30T20:53:29.133Z"
   },
   {
    "duration": 7,
    "start_time": "2024-09-30T20:53:29.142Z"
   },
   {
    "duration": 338,
    "start_time": "2024-09-30T20:53:29.150Z"
   },
   {
    "duration": 0,
    "start_time": "2024-09-30T20:53:29.490Z"
   },
   {
    "duration": 0,
    "start_time": "2024-09-30T20:53:29.491Z"
   },
   {
    "duration": 1067,
    "start_time": "2024-09-30T20:54:40.768Z"
   },
   {
    "duration": 36,
    "start_time": "2024-09-30T20:54:41.837Z"
   },
   {
    "duration": 3,
    "start_time": "2024-09-30T20:54:41.875Z"
   },
   {
    "duration": 4,
    "start_time": "2024-09-30T20:54:41.879Z"
   },
   {
    "duration": 3,
    "start_time": "2024-09-30T20:54:41.886Z"
   },
   {
    "duration": 3,
    "start_time": "2024-09-30T20:54:41.891Z"
   },
   {
    "duration": 4,
    "start_time": "2024-09-30T20:54:41.909Z"
   },
   {
    "duration": 13,
    "start_time": "2024-09-30T20:54:41.916Z"
   },
   {
    "duration": 2,
    "start_time": "2024-09-30T20:54:41.931Z"
   },
   {
    "duration": 5,
    "start_time": "2024-09-30T20:54:41.935Z"
   },
   {
    "duration": 12,
    "start_time": "2024-09-30T20:54:41.942Z"
   },
   {
    "duration": 5,
    "start_time": "2024-09-30T20:54:41.956Z"
   },
   {
    "duration": 7,
    "start_time": "2024-09-30T20:54:41.963Z"
   },
   {
    "duration": 16,
    "start_time": "2024-09-30T20:54:42.011Z"
   },
   {
    "duration": 11,
    "start_time": "2024-09-30T20:54:42.029Z"
   },
   {
    "duration": 3,
    "start_time": "2024-09-30T20:54:42.041Z"
   },
   {
    "duration": 3,
    "start_time": "2024-09-30T20:54:42.046Z"
   },
   {
    "duration": 5,
    "start_time": "2024-09-30T20:54:42.051Z"
   },
   {
    "duration": 14,
    "start_time": "2024-09-30T20:54:42.058Z"
   },
   {
    "duration": 44,
    "start_time": "2024-09-30T20:54:42.073Z"
   },
   {
    "duration": 2,
    "start_time": "2024-09-30T20:54:42.120Z"
   },
   {
    "duration": 5,
    "start_time": "2024-09-30T20:54:42.124Z"
   },
   {
    "duration": 16,
    "start_time": "2024-09-30T20:54:42.131Z"
   },
   {
    "duration": 8,
    "start_time": "2024-09-30T20:54:42.149Z"
   },
   {
    "duration": 2,
    "start_time": "2024-09-30T20:54:42.159Z"
   },
   {
    "duration": 6,
    "start_time": "2024-09-30T20:54:42.163Z"
   },
   {
    "duration": 50,
    "start_time": "2024-09-30T20:54:42.170Z"
   },
   {
    "duration": 19,
    "start_time": "2024-09-30T20:54:42.222Z"
   },
   {
    "duration": 14,
    "start_time": "2024-09-30T20:54:42.243Z"
   },
   {
    "duration": 52,
    "start_time": "2024-09-30T20:54:42.258Z"
   },
   {
    "duration": 5,
    "start_time": "2024-09-30T20:54:42.312Z"
   },
   {
    "duration": 11,
    "start_time": "2024-09-30T20:54:42.319Z"
   },
   {
    "duration": 140,
    "start_time": "2024-09-30T20:54:42.332Z"
   },
   {
    "duration": 292,
    "start_time": "2024-09-30T20:54:42.474Z"
   },
   {
    "duration": 123,
    "start_time": "2024-09-30T20:54:42.768Z"
   },
   {
    "duration": 773,
    "start_time": "2024-09-30T20:54:42.893Z"
   },
   {
    "duration": 968,
    "start_time": "2024-09-30T20:54:43.667Z"
   },
   {
    "duration": 611,
    "start_time": "2024-09-30T20:54:44.638Z"
   },
   {
    "duration": 4,
    "start_time": "2024-09-30T20:54:45.252Z"
   },
   {
    "duration": 57,
    "start_time": "2024-09-30T20:54:45.258Z"
   },
   {
    "duration": 28,
    "start_time": "2024-09-30T20:54:45.320Z"
   },
   {
    "duration": 500,
    "start_time": "2024-09-30T20:54:45.350Z"
   },
   {
    "duration": 5,
    "start_time": "2024-09-30T20:54:45.852Z"
   },
   {
    "duration": 9,
    "start_time": "2024-09-30T20:54:45.859Z"
   },
   {
    "duration": 4,
    "start_time": "2024-09-30T20:54:45.869Z"
   },
   {
    "duration": 4,
    "start_time": "2024-09-30T20:54:45.875Z"
   },
   {
    "duration": 31,
    "start_time": "2024-09-30T20:54:45.880Z"
   },
   {
    "duration": 4,
    "start_time": "2024-09-30T20:54:45.913Z"
   },
   {
    "duration": 9,
    "start_time": "2024-09-30T20:54:45.919Z"
   },
   {
    "duration": 8,
    "start_time": "2024-09-30T20:54:45.929Z"
   },
   {
    "duration": 7,
    "start_time": "2024-09-30T20:54:45.938Z"
   },
   {
    "duration": 8,
    "start_time": "2024-09-30T20:54:45.946Z"
   },
   {
    "duration": 2059,
    "start_time": "2024-09-30T20:54:45.956Z"
   },
   {
    "duration": 1695,
    "start_time": "2024-09-30T20:54:48.017Z"
   },
   {
    "duration": 995,
    "start_time": "2024-09-30T20:54:49.714Z"
   },
   {
    "duration": 1189,
    "start_time": "2024-09-30T20:56:14.234Z"
   },
   {
    "duration": 34,
    "start_time": "2024-09-30T20:56:15.426Z"
   },
   {
    "duration": 6,
    "start_time": "2024-09-30T20:56:15.462Z"
   },
   {
    "duration": 7,
    "start_time": "2024-09-30T20:56:15.470Z"
   },
   {
    "duration": 6,
    "start_time": "2024-09-30T20:56:15.479Z"
   },
   {
    "duration": 3,
    "start_time": "2024-09-30T20:56:15.486Z"
   },
   {
    "duration": 9,
    "start_time": "2024-09-30T20:56:15.491Z"
   },
   {
    "duration": 15,
    "start_time": "2024-09-30T20:56:15.509Z"
   },
   {
    "duration": 2,
    "start_time": "2024-09-30T20:56:15.526Z"
   },
   {
    "duration": 6,
    "start_time": "2024-09-30T20:56:15.533Z"
   },
   {
    "duration": 12,
    "start_time": "2024-09-30T20:56:15.541Z"
   },
   {
    "duration": 6,
    "start_time": "2024-09-30T20:56:15.555Z"
   },
   {
    "duration": 7,
    "start_time": "2024-09-30T20:56:15.563Z"
   },
   {
    "duration": 52,
    "start_time": "2024-09-30T20:56:15.572Z"
   },
   {
    "duration": 12,
    "start_time": "2024-09-30T20:56:15.626Z"
   },
   {
    "duration": 2,
    "start_time": "2024-09-30T20:56:15.641Z"
   },
   {
    "duration": 5,
    "start_time": "2024-09-30T20:56:15.645Z"
   },
   {
    "duration": 9,
    "start_time": "2024-09-30T20:56:15.652Z"
   },
   {
    "duration": 48,
    "start_time": "2024-09-30T20:56:15.662Z"
   },
   {
    "duration": 17,
    "start_time": "2024-09-30T20:56:15.714Z"
   },
   {
    "duration": 3,
    "start_time": "2024-09-30T20:56:15.733Z"
   },
   {
    "duration": 8,
    "start_time": "2024-09-30T20:56:15.739Z"
   },
   {
    "duration": 21,
    "start_time": "2024-09-30T20:56:15.748Z"
   },
   {
    "duration": 12,
    "start_time": "2024-09-30T20:56:15.771Z"
   },
   {
    "duration": 25,
    "start_time": "2024-09-30T20:56:15.784Z"
   },
   {
    "duration": 8,
    "start_time": "2024-09-30T20:56:15.811Z"
   },
   {
    "duration": 11,
    "start_time": "2024-09-30T20:56:15.821Z"
   },
   {
    "duration": 18,
    "start_time": "2024-09-30T20:56:15.837Z"
   },
   {
    "duration": 13,
    "start_time": "2024-09-30T20:56:15.857Z"
   },
   {
    "duration": 61,
    "start_time": "2024-09-30T20:56:15.871Z"
   },
   {
    "duration": 6,
    "start_time": "2024-09-30T20:56:15.935Z"
   },
   {
    "duration": 14,
    "start_time": "2024-09-30T20:56:15.943Z"
   },
   {
    "duration": 152,
    "start_time": "2024-09-30T20:56:15.959Z"
   },
   {
    "duration": 303,
    "start_time": "2024-09-30T20:56:16.113Z"
   },
   {
    "duration": 136,
    "start_time": "2024-09-30T20:56:16.418Z"
   },
   {
    "duration": 833,
    "start_time": "2024-09-30T20:56:16.556Z"
   },
   {
    "duration": 1007,
    "start_time": "2024-09-30T20:56:17.392Z"
   },
   {
    "duration": 667,
    "start_time": "2024-09-30T20:56:18.401Z"
   },
   {
    "duration": 5,
    "start_time": "2024-09-30T20:56:19.071Z"
   },
   {
    "duration": 57,
    "start_time": "2024-09-30T20:56:19.078Z"
   },
   {
    "duration": 29,
    "start_time": "2024-09-30T20:56:19.138Z"
   },
   {
    "duration": 552,
    "start_time": "2024-09-30T20:56:19.170Z"
   },
   {
    "duration": 4,
    "start_time": "2024-09-30T20:56:19.724Z"
   },
   {
    "duration": 9,
    "start_time": "2024-09-30T20:56:19.730Z"
   },
   {
    "duration": 3,
    "start_time": "2024-09-30T20:56:19.741Z"
   },
   {
    "duration": 4,
    "start_time": "2024-09-30T20:56:19.746Z"
   },
   {
    "duration": 4,
    "start_time": "2024-09-30T20:56:19.752Z"
   },
   {
    "duration": 9,
    "start_time": "2024-09-30T20:56:19.759Z"
   },
   {
    "duration": 46,
    "start_time": "2024-09-30T20:56:19.770Z"
   },
   {
    "duration": 9,
    "start_time": "2024-09-30T20:56:19.818Z"
   },
   {
    "duration": 9,
    "start_time": "2024-09-30T20:56:19.829Z"
   },
   {
    "duration": 9,
    "start_time": "2024-09-30T20:56:19.840Z"
   },
   {
    "duration": 1919,
    "start_time": "2024-09-30T20:56:19.850Z"
   },
   {
    "duration": 1287,
    "start_time": "2024-09-30T20:56:21.771Z"
   },
   {
    "duration": 1184,
    "start_time": "2024-09-30T21:07:33.476Z"
   },
   {
    "duration": 40,
    "start_time": "2024-09-30T21:07:34.663Z"
   },
   {
    "duration": 3,
    "start_time": "2024-09-30T21:07:34.704Z"
   },
   {
    "duration": 4,
    "start_time": "2024-09-30T21:07:34.709Z"
   },
   {
    "duration": 3,
    "start_time": "2024-09-30T21:07:34.715Z"
   },
   {
    "duration": 4,
    "start_time": "2024-09-30T21:07:34.719Z"
   },
   {
    "duration": 4,
    "start_time": "2024-09-30T21:07:34.725Z"
   },
   {
    "duration": 18,
    "start_time": "2024-09-30T21:07:34.730Z"
   },
   {
    "duration": 3,
    "start_time": "2024-09-30T21:07:34.751Z"
   },
   {
    "duration": 7,
    "start_time": "2024-09-30T21:07:34.756Z"
   },
   {
    "duration": 54,
    "start_time": "2024-09-30T21:07:34.765Z"
   },
   {
    "duration": 7,
    "start_time": "2024-09-30T21:07:34.821Z"
   },
   {
    "duration": 8,
    "start_time": "2024-09-30T21:07:34.830Z"
   },
   {
    "duration": 22,
    "start_time": "2024-09-30T21:07:34.843Z"
   },
   {
    "duration": 42,
    "start_time": "2024-09-30T21:07:34.867Z"
   },
   {
    "duration": 3,
    "start_time": "2024-09-30T21:07:34.911Z"
   },
   {
    "duration": 4,
    "start_time": "2024-09-30T21:07:34.916Z"
   },
   {
    "duration": 7,
    "start_time": "2024-09-30T21:07:34.921Z"
   },
   {
    "duration": 15,
    "start_time": "2024-09-30T21:07:34.930Z"
   },
   {
    "duration": 13,
    "start_time": "2024-09-30T21:07:34.947Z"
   },
   {
    "duration": 3,
    "start_time": "2024-09-30T21:07:34.962Z"
   },
   {
    "duration": 46,
    "start_time": "2024-09-30T21:07:34.967Z"
   },
   {
    "duration": 22,
    "start_time": "2024-09-30T21:07:35.015Z"
   },
   {
    "duration": 12,
    "start_time": "2024-09-30T21:07:35.039Z"
   },
   {
    "duration": 2,
    "start_time": "2024-09-30T21:07:35.054Z"
   },
   {
    "duration": 9,
    "start_time": "2024-09-30T21:07:35.058Z"
   },
   {
    "duration": 50,
    "start_time": "2024-09-30T21:07:35.070Z"
   },
   {
    "duration": 28,
    "start_time": "2024-09-30T21:07:35.122Z"
   },
   {
    "duration": 16,
    "start_time": "2024-09-30T21:07:35.153Z"
   },
   {
    "duration": 63,
    "start_time": "2024-09-30T21:07:35.171Z"
   },
   {
    "duration": 4,
    "start_time": "2024-09-30T21:07:35.236Z"
   },
   {
    "duration": 11,
    "start_time": "2024-09-30T21:07:35.242Z"
   },
   {
    "duration": 158,
    "start_time": "2024-09-30T21:07:35.255Z"
   },
   {
    "duration": 344,
    "start_time": "2024-09-30T21:07:35.415Z"
   },
   {
    "duration": 131,
    "start_time": "2024-09-30T21:07:35.764Z"
   },
   {
    "duration": 812,
    "start_time": "2024-09-30T21:07:35.898Z"
   },
   {
    "duration": 1111,
    "start_time": "2024-09-30T21:07:36.714Z"
   },
   {
    "duration": 590,
    "start_time": "2024-09-30T21:07:37.828Z"
   },
   {
    "duration": 6,
    "start_time": "2024-09-30T21:07:38.421Z"
   },
   {
    "duration": 46,
    "start_time": "2024-09-30T21:07:38.429Z"
   },
   {
    "duration": 49,
    "start_time": "2024-09-30T21:07:38.480Z"
   },
   {
    "duration": 542,
    "start_time": "2024-09-30T21:07:38.531Z"
   },
   {
    "duration": 6,
    "start_time": "2024-09-30T21:07:39.075Z"
   },
   {
    "duration": 10,
    "start_time": "2024-09-30T21:07:39.083Z"
   },
   {
    "duration": 4,
    "start_time": "2024-09-30T21:07:39.110Z"
   },
   {
    "duration": 5,
    "start_time": "2024-09-30T21:07:39.116Z"
   },
   {
    "duration": 3,
    "start_time": "2024-09-30T21:07:39.124Z"
   },
   {
    "duration": 5,
    "start_time": "2024-09-30T21:07:39.129Z"
   },
   {
    "duration": 9,
    "start_time": "2024-09-30T21:07:39.135Z"
   },
   {
    "duration": 11,
    "start_time": "2024-09-30T21:07:39.147Z"
   },
   {
    "duration": 8,
    "start_time": "2024-09-30T21:07:39.159Z"
   },
   {
    "duration": 46,
    "start_time": "2024-09-30T21:07:39.169Z"
   },
   {
    "duration": 1892,
    "start_time": "2024-09-30T21:07:39.217Z"
   },
   {
    "duration": 2270,
    "start_time": "2024-09-30T21:07:41.111Z"
   }
  ],
  "kernelspec": {
   "display_name": "Python 3 (ipykernel)",
   "language": "python",
   "name": "python3"
  },
  "language_info": {
   "codemirror_mode": {
    "name": "ipython",
    "version": 3
   },
   "file_extension": ".py",
   "mimetype": "text/x-python",
   "name": "python",
   "nbconvert_exporter": "python",
   "pygments_lexer": "ipython3",
   "version": "3.9.19"
  },
  "toc": {
   "base_numbering": 1,
   "nav_menu": {},
   "number_sections": true,
   "sideBar": true,
   "skip_h1_title": true,
   "title_cell": "Table of Contents",
   "title_sidebar": "Contents",
   "toc_cell": false,
   "toc_position": {},
   "toc_section_display": true,
   "toc_window_display": false
  }
 },
 "nbformat": 4,
 "nbformat_minor": 2
}
