{
 "cells": [
  {
   "cell_type": "markdown",
   "metadata": {},
   "source": [
    "Hola &#x1F600;\n",
    "\n",
    "Soy **Hesus Garcia**  como \"Jesús\" pero con H. Sé que puede ser confuso al principio, pero una vez que lo recuerdes, ¡nunca lo olvidarás! &#x1F31D;\t. Como revisor de código de Triple-Ten, estoy emocionado de examinar tus proyectos y ayudarte a mejorar tus habilidades en programación. si has cometido algún error, no te preocupes, pues ¡estoy aquí para ayudarte a corregirlo y hacer que tu código brille! &#x1F31F;. Si encuentro algún detalle en tu código, te lo señalaré para que lo corrijas, ya que mi objetivo es ayudarte a prepararte para un ambiente de trabajo real, donde el líder de tu equipo actuaría de la misma manera. Si no puedes solucionar el problema, te proporcionaré más información en la próxima oportunidad. Cuando encuentres un comentario,  **por favor, no los muevas, no los modifiques ni los borres**. \n",
    "\n",
    "Revisaré cuidadosamente todas las implementaciones que has realizado para cumplir con los requisitos y te proporcionaré mis comentarios de la siguiente manera:\n",
    "\n",
    "\n",
    "<div class=\"alert alert-block alert-success\">\n",
    "<b>Comentario del revisor</b> <a class=“tocSkip”></a>\n",
    "Si todo está perfecto.\n",
    "</div>\n",
    "\n",
    "<div class=\"alert alert-block alert-warning\">\n",
    "<b>Comentario del revisor</b> <a class=“tocSkip”></a>\n",
    "Si tu código está bien pero se puede mejorar o hay algún detalle que le hace falta.\n",
    "</div>\n",
    "\n",
    "<div class=\"alert alert-block alert-danger\">\n",
    "<b>Comentario del revisor</b> <a class=“tocSkip”></a>\n",
    "Si de pronto hace falta algo o existe algún problema con tu código o conclusiones.\n",
    "</div>\n",
    "\n",
    "Puedes responderme de esta forma:\n",
    "<div class=\"alert alert-block alert-info\">\n",
    "<b>Respuesta del estudiante</b> <a class=“tocSkip”></a>\n",
    "</div>\n",
    "\n",
    "</br>\n",
    "\n",
    "**¡Empecemos!**  &#x1F680;"
   ]
  },
  {
   "cell_type": "markdown",
   "metadata": {},
   "source": [
    "Hecho por: Ilse Salinas\n",
    "\n",
    "# Proyecto final\n",
    "## Informe final\n",
    "El propósito de este informe es aclarar y responder los pasos realizados así como las dificultades presentadas a lo largo de la elaboración del modelo cuyo objetivo era el de pronosticar la tasa de cancelación de clientes de la empresa Telecom. Previamente se elaboró un documento en el que se presentaron tanto las preguntas como pasos a realizar con base en este objetivo, no obstante alguno de estos fueron realizados, omitidos o modificados a lo largo de este proceso. A ctonianuación se enlista y explica cada una de estas situaciones a detalle.\n",
    "\n",
    "### Plan de trabajo \n",
    "Se realizó un análisis de datos previo a la elaboración del modelo en donde se revisaron los archivos CSV en busca de valores nulos y duplicados, y se realizó un análisis exploratorio para entender el comportamiento de las características. Esto ayudó a identificar patrones y anomalías. Después de este paso, se juntó la información de los diferentes dataframes en uno solo usando la columna customerID como clave, lo que permitió tener un conjunto de datos limpio y organizado para el análisis. \n",
    "\n",
    "Una vez con estos dos pasos realizados, se establecieron las características y el objetivo del modelo, dividiendo los datos en conjuntos de entrenamiento y prueba (70%-30%) y éstos se implementaron en el modelo esocgido de regresión logística en donde se determino el desbalance de clases, se aplicó la validación cruzada y después se calcularon las métricas correspondientes (Accuracy, Precision, Recall, F1 Score, ROC AUC).\n",
    "\n",
    "En cuanto a los pasos omitidos, el punto clave fue el esocger el mejor modelo de machine learning a diferencia de como se tenía pensado desde un inicio, es decir, el probar diferentes modelos para determinar cual daba el mejor resultado para las métricas no era viable ni práctico para la situación. Es por esta razón que antes de realizar el código se realizaron comparaciones entre modelos para escoger el mejor para determinar la tasa de cancelación de clientes siendo el más óptimo la regresión logística.\n",
    "\n",
    "### Dificultades y Soluciones\n",
    "Con ayuda de las visualizaciones, se identificó a primera instancia que había un desbalance de clases en la variable objetivo y que ésta tenía que ser modificada ya sea hacia una aplicación de submuestreo o sobremuestreo. No obstante, después de haber solucionado esto, lo complicado fue la selección de características del modelo ya que en previas ocasiones se ha visto que no todas las columnas del dataframe son necesarias para la elaboración del modelo según el objetivo a encontrar. La solución a esto fue la implementación de una matriz de correlaciones y determinar cuales de ellas eran nulos o casi no desempañaban un papel importante para la tasa de cancelación. Definitivamente esto fue complicado ya que el modelo se sobreajustaba ya que la selección contemplaba variables que hacían que el modelo definiera perfectamente las predicciones alcanzando valores en lass métricas perfectas. Esto fue resuelto finalmente gracias a la observación de compañeros senior que apuntaron al problema y finalmente se resolvió.\n",
    "\n",
    "### Pasos Clave\n",
    "1. Análisis exploratorio: Fundamental para entender las variables y detectar posibles problemas en los datos.\n",
    "2. Preprocesamiento de los datos: La limpieza y unificación de los datos fue crucial para asegurar que el modelo tuviera acceso a información precisa y relevante. \n",
    "3. Selección y Entrenamiento del Modelo: La elección del modelo adecuado y evaluación de sus métricas permitieron que identificar cuál se desempeñaba mejor en la tarea. \n",
    "\n",
    "### Modelo final\n",
    "El modelo final utilizado fue la regresión logística, que mostró un rendimiento notable con métricas de precisión y recall satisfactorias, alcanzando un F1 Score de 0.82 y un ROC AUC de 0.84. Esto indica que el modelo es efectivo para predecir la cancelación de servicios y puede ser utilizado como base para desarrollar estrategias de retención de clientes."
   ]
  },
  {
   "cell_type": "markdown",
   "metadata": {},
   "source": [
    "<div class=\"alert alert-block alert-success\">\n",
    "<b>Comentario final:</b><br>\n",
    "Felicidades por concluir el bootcamp de Tripleten con este proyecto impresionante. Tu habilidad para navegar desde la recopilación hasta el análisis avanzado de datos habla de tu compromiso y habilidad técnica.\n",
    "\n",
    "Para potenciar aún más tu trayectoria, considera estos aspectos clave:\n",
    "\n",
    "<ul>\n",
    "  <li><strong>Deployment de Modelos</strong>: Aprende a implementar modelos en entornos de producción. Conocer herramientas como Docker y plataformas como AWS, Google Cloud, o Azure te abrirá muchas puertas.</li>\n",
    "  <li><strong>Innovación en Modelos</strong>: No te detengas aquí. Experimenta con nuevas técnicas y modelos para seguir mejorando tus resultados. La práctica continua es esencial en el campo del Machine Learning.</li>\n",
    "  <li><strong>Desarrollo de Habilidades Interpersonales</strong>: Aprovecha LinkedIn para mostrar tu trabajo, participa activamente en comunidades, y no dudes en compartir tus conocimientos y aprendizajes. Esto te ayudará a construir una red sólida.</li>\n",
    "  <li><strong>Participación Comunitaria</strong>: Engánchate con la comunidad a través de eventos y conferencias. Aprenderás mucho y podrás conectar con profesionales que comparten tus intereses.</li>\n",
    "</ul>\n",
    "\n",
    "Felicidades una vez más por tu logro en el bootcamp de Tripleten. Estoy emocionado de ver adónde te llevarán tus habilidades y ambición. ¡Adelante, el futuro es brillante! 🌟🚀\n",
    "</div>"
   ]
  }
 ],
 "metadata": {
  "kernelspec": {
   "display_name": "Python 3 (ipykernel)",
   "language": "python",
   "name": "python3"
  },
  "language_info": {
   "codemirror_mode": {
    "name": "ipython",
    "version": 3
   },
   "file_extension": ".py",
   "mimetype": "text/x-python",
   "name": "python",
   "nbconvert_exporter": "python",
   "pygments_lexer": "ipython3",
   "version": "3.9.19"
  },
  "toc": {
   "base_numbering": 1,
   "nav_menu": {},
   "number_sections": true,
   "sideBar": true,
   "skip_h1_title": true,
   "title_cell": "Table of Contents",
   "title_sidebar": "Contents",
   "toc_cell": false,
   "toc_position": {},
   "toc_section_display": true,
   "toc_window_display": false
  }
 },
 "nbformat": 4,
 "nbformat_minor": 2
}
