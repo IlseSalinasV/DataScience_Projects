{
 "cells": [
  {
   "cell_type": "markdown",
   "id": "cfb28ac0",
   "metadata": {},
   "source": [
    "# ¡Hola, Ilse!  \n",
    "\n",
    "Mi nombre es Carlos Ortiz, soy code reviewer de TripleTen y voy a revisar el proyecto que acabas de desarrollar.\n",
    "\n",
    "Cuando vea un error la primera vez, lo señalaré. Deberás encontrarlo y arreglarlo. La intención es que te prepares para un espacio real de trabajo. En un trabajo, el líder de tu equipo hará lo mismo. Si no puedes solucionar el error, te daré más información en la próxima ocasión. \n",
    "\n",
    "Encontrarás mis comentarios más abajo - **por favor, no los muevas, no los modifiques ni los borres**.\n",
    "\n",
    "¿Cómo lo voy a hacer? Voy a leer detenidamente cada una de las implementaciones que has llevado a cabo para cumplir con lo solicitado. Verás los comentarios de esta forma:\n",
    "\n",
    "<div class=\"alert alert-block alert-success\">\n",
    "<b>Comentario del revisor</b> <a class=\"tocSkip\"></a>\n",
    "    \n",
    "Si todo está perfecto.\n",
    "</div>\n",
    "\n",
    "\n",
    "<div class=\"alert alert-block alert-warning\">\n",
    "<b>Comentario del revisor</b> <a class=\"tocSkip\"></a>\n",
    "    \n",
    "Si tu código está bien pero se puede mejorar o hay algún detalle que le hace falta.\n",
    "</div>\n",
    "\n",
    "\n",
    "<div class=\"alert alert-block alert-danger\">\n",
    "    \n",
    "<b>Comentario del revisor</b> <a class=\"tocSkip\"></a>\n",
    "    \n",
    "    \n",
    "Si de pronto hace falta algo o existe algún problema con tu código o conclusiones.\n",
    "</div>\n",
    "\n",
    "\n",
    "Puedes responderme de esta forma: \n",
    "\n",
    "\n",
    "<div class=\"alert alert-block alert-info\">\n",
    "<b>Respuesta del estudiante</b> <a class=\"tocSkip\"></a>\n",
    "</div>\n",
    "¡Empecemos!"
   ]
  },
  {
   "cell_type": "markdown",
   "id": "3Xg_RQfnafXz",
   "metadata": {
    "id": "3Xg_RQfnafXz"
   },
   "source": [
    "# ¡Llena ese carrito!"
   ]
  },
  {
   "cell_type": "markdown",
   "id": "mhIvmmkW414q",
   "metadata": {
    "id": "mhIvmmkW414q"
   },
   "source": [
    "# Introducción\n",
    "\n",
    "Instacart es una plataforma de entregas de comestibles donde la clientela puede registrar un pedido y hacer que se lo entreguen, similar a Uber Eats y Door Dash.\n",
    "El conjunto de datos que te hemos proporcionado tiene modificaciones del original. Redujimos el tamaño del conjunto para que tus cálculos se hicieran más rápido e introdujimos valores ausentes y duplicados. Tuvimos cuidado de conservar las distribuciones de los datos originales cuando hicimos los cambios.\n",
    "\n",
    "Debes completar tres pasos. Para cada uno de ellos, escribe una breve introducción que refleje con claridad cómo pretendes resolver cada paso, y escribe párrafos explicatorios que justifiquen tus decisiones al tiempo que avanzas en tu solución.  También escribe una conclusión que resuma tus hallazgos y elecciones.\n"
   ]
  },
  {
   "cell_type": "markdown",
   "id": "3MbyzpOQZ5Or",
   "metadata": {
    "id": "3MbyzpOQZ5Or"
   },
   "source": [
    "## Diccionario de datos\n",
    "\n",
    "Hay cinco tablas en el conjunto de datos, y tendrás que usarlas todas para hacer el preprocesamiento de datos y el análisis exploratorio de datos. A continuación se muestra un diccionario de datos que enumera las columnas de cada tabla y describe los datos que contienen.\n",
    "\n",
    "- `instacart_orders.csv`: cada fila corresponde a un pedido en la aplicación Instacart.\n",
    "    - `'order_id'`: número de ID que identifica de manera única cada pedido.\n",
    "    - `'user_id'`: número de ID que identifica de manera única la cuenta de cada cliente.\n",
    "    - `'order_number'`: el número de veces que este cliente ha hecho un pedido.\n",
    "    - `'order_dow'`: día de la semana en que se hizo el pedido (0 si es domingo).\n",
    "    - `'order_hour_of_day'`: hora del día en que se hizo el pedido.\n",
    "    - `'days_since_prior_order'`: número de días transcurridos desde que este cliente hizo su pedido anterior.\n",
    "- `products.csv`: cada fila corresponde a un producto único que pueden comprar los clientes.\n",
    "    - `'product_id'`: número ID que identifica de manera única cada producto.\n",
    "    - `'product_name'`: nombre del producto.\n",
    "    - `'aisle_id'`: número ID que identifica de manera única cada categoría de pasillo de víveres.\n",
    "    - `'department_id'`: número ID que identifica de manera única cada departamento de víveres.\n",
    "- `order_products.csv`: cada fila corresponde a un artículo pedido en un pedido.\n",
    "    - `'order_id'`: número de ID que identifica de manera única cada pedido.\n",
    "    - `'product_id'`: número ID que identifica de manera única cada producto.\n",
    "    - `'add_to_cart_order'`: el orden secuencial en el que se añadió cada artículo en el carrito.\n",
    "    - `'reordered'`: 0 si el cliente nunca ha pedido este producto antes, 1 si lo ha pedido.\n",
    "- `aisles.csv`\n",
    "    - `'aisle_id'`: número ID que identifica de manera única cada categoría de pasillo de víveres.\n",
    "    - `'aisle'`: nombre del pasillo.\n",
    "- `departments.csv`\n",
    "    - `'department_id'`: número ID que identifica de manera única cada departamento de víveres.\n",
    "    - `'department'`: nombre del departamento."
   ]
  },
  {
   "cell_type": "markdown",
   "id": "n3Ha_cNSZ8lK",
   "metadata": {
    "id": "n3Ha_cNSZ8lK"
   },
   "source": [
    "# Paso 1. Descripción de los datos\n",
    "\n",
    "Lee los archivos de datos (`/datasets/instacart_orders.csv`, `/datasets/products.csv`, `/datasets/aisles.csv`, `/datasets/departments.csv` y `/datasets/order_products.csv`) con `pd.read_csv()` usando los parámetros adecuados para leer los datos correctamente. Verifica la información para cada DataFrame creado.\n"
   ]
  },
  {
   "cell_type": "markdown",
   "id": "OmlQPLlyaAfR",
   "metadata": {
    "id": "OmlQPLlyaAfR"
   },
   "source": [
    "## Plan de solución\n",
    "\n",
    "Escribe aquí tu plan de solución para el Paso 1. Descripción de los datos."
   ]
  },
  {
   "cell_type": "code",
   "execution_count": 1,
   "id": "fbf1adab",
   "metadata": {
    "id": "fbf1adab"
   },
   "outputs": [],
   "source": [
    "# importar librerías\n",
    "import pandas as pd\n",
    "import numpy as np\n",
    "from matplotlib import pyplot as plt"
   ]
  },
  {
   "cell_type": "code",
   "execution_count": 2,
   "id": "ad36396d",
   "metadata": {
    "id": "ad36396d"
   },
   "outputs": [],
   "source": [
    "# leer conjuntos de datos en los DataFrames\n",
    "df_1 = pd.read_csv('/datasets/instacart_orders.csv', sep = ';')\n",
    "df_2 = pd.read_csv('/datasets/products.csv', sep = ';')\n",
    "df_3 = pd.read_csv('/datasets/aisles.csv', sep = ';')\n",
    "df_4 = pd.read_csv('/datasets/departments.csv', sep = ';')\n",
    "df_5 = pd.read_csv('/datasets/order_products.csv', sep = ';')"
   ]
  },
  {
   "cell_type": "markdown",
   "id": "e6815113",
   "metadata": {},
   "source": [
    "<div class=\"alert alert-block alert-success\">\n",
    "<b>Comentario del revisor</b> <a class=\"tocSkip\"></a>\n",
    "    \n",
    "Buen trabajo con la importación de datos y de librerías.\n",
    "</div>"
   ]
  },
  {
   "cell_type": "code",
   "execution_count": 3,
   "id": "ad6a1efa",
   "metadata": {
    "id": "ad6a1efa"
   },
   "outputs": [
    {
     "name": "stdout",
     "output_type": "stream",
     "text": [
      "<class 'pandas.core.frame.DataFrame'>\n",
      "RangeIndex: 478967 entries, 0 to 478966\n",
      "Data columns (total 6 columns):\n",
      " #   Column                  Non-Null Count   Dtype  \n",
      "---  ------                  --------------   -----  \n",
      " 0   order_id                478967 non-null  int64  \n",
      " 1   user_id                 478967 non-null  int64  \n",
      " 2   order_number            478967 non-null  int64  \n",
      " 3   order_dow               478967 non-null  int64  \n",
      " 4   order_hour_of_day       478967 non-null  int64  \n",
      " 5   days_since_prior_order  450148 non-null  float64\n",
      "dtypes: float64(1), int64(5)\n",
      "memory usage: 21.9 MB\n"
     ]
    }
   ],
   "source": [
    "# mostrar información del DataFrame 1\n",
    "df_1.info()"
   ]
  },
  {
   "cell_type": "code",
   "execution_count": 4,
   "id": "5130e05e",
   "metadata": {
    "id": "5130e05e"
   },
   "outputs": [
    {
     "name": "stdout",
     "output_type": "stream",
     "text": [
      "<class 'pandas.core.frame.DataFrame'>\n",
      "RangeIndex: 49694 entries, 0 to 49693\n",
      "Data columns (total 4 columns):\n",
      " #   Column         Non-Null Count  Dtype \n",
      "---  ------         --------------  ----- \n",
      " 0   product_id     49694 non-null  int64 \n",
      " 1   product_name   48436 non-null  object\n",
      " 2   aisle_id       49694 non-null  int64 \n",
      " 3   department_id  49694 non-null  int64 \n",
      "dtypes: int64(3), object(1)\n",
      "memory usage: 1.5+ MB\n"
     ]
    }
   ],
   "source": [
    "# mostrar información del DataFrame 2\n",
    "df_2.info()"
   ]
  },
  {
   "cell_type": "code",
   "execution_count": 5,
   "id": "d8370c05",
   "metadata": {
    "id": "d8370c05"
   },
   "outputs": [
    {
     "name": "stdout",
     "output_type": "stream",
     "text": [
      "<class 'pandas.core.frame.DataFrame'>\n",
      "RangeIndex: 134 entries, 0 to 133\n",
      "Data columns (total 2 columns):\n",
      " #   Column    Non-Null Count  Dtype \n",
      "---  ------    --------------  ----- \n",
      " 0   aisle_id  134 non-null    int64 \n",
      " 1   aisle     134 non-null    object\n",
      "dtypes: int64(1), object(1)\n",
      "memory usage: 2.2+ KB\n"
     ]
    }
   ],
   "source": [
    "# mostrar información del DataFrame 3\n",
    "df_3.info()"
   ]
  },
  {
   "cell_type": "code",
   "execution_count": 6,
   "id": "59e2090f",
   "metadata": {
    "id": "59e2090f"
   },
   "outputs": [
    {
     "name": "stdout",
     "output_type": "stream",
     "text": [
      "<class 'pandas.core.frame.DataFrame'>\n",
      "RangeIndex: 21 entries, 0 to 20\n",
      "Data columns (total 2 columns):\n",
      " #   Column         Non-Null Count  Dtype \n",
      "---  ------         --------------  ----- \n",
      " 0   department_id  21 non-null     int64 \n",
      " 1   department     21 non-null     object\n",
      "dtypes: int64(1), object(1)\n",
      "memory usage: 464.0+ bytes\n"
     ]
    }
   ],
   "source": [
    "# mostrar información del DataFrame 4\n",
    "df_4.info()"
   ]
  },
  {
   "cell_type": "code",
   "execution_count": 7,
   "id": "6fc81694",
   "metadata": {
    "id": "6fc81694"
   },
   "outputs": [
    {
     "name": "stdout",
     "output_type": "stream",
     "text": [
      "<class 'pandas.core.frame.DataFrame'>\n",
      "RangeIndex: 4545007 entries, 0 to 4545006\n",
      "Data columns (total 4 columns):\n",
      " #   Column             Non-Null Count    Dtype  \n",
      "---  ------             --------------    -----  \n",
      " 0   order_id           4545007 non-null  int64  \n",
      " 1   product_id         4545007 non-null  int64  \n",
      " 2   add_to_cart_order  4544171 non-null  float64\n",
      " 3   reordered          4545007 non-null  int64  \n",
      "dtypes: float64(1), int64(3)\n",
      "memory usage: 138.7 MB\n"
     ]
    }
   ],
   "source": [
    "# mostrar información del DataFrame 5\n",
    "df_5.info(show_counts=True)"
   ]
  },
  {
   "cell_type": "markdown",
   "id": "t75BD19oaR5f",
   "metadata": {
    "id": "t75BD19oaR5f"
   },
   "source": [
    "## Conclusiones\n",
    "Al momento de imprimir la información de cada uno de los DataFrames, si solamente se leen los archivos sin ninguna instrucción adicional, se observa que cuentan con un formato diferente en donde el nombre de las columnas se reflejaba en una sola línea. Con el fin de evitar esta mala visualización, se agregó la instrucción correspondiente para indicar el separador entre cada columna."
   ]
  },
  {
   "cell_type": "markdown",
   "id": "7e2d9c46",
   "metadata": {},
   "source": [
    "<div class=\"alert alert-block alert-success\">\n",
    "<b>Comentario del revisor</b> <a class=\"tocSkip\"></a>\n",
    "    \n",
    "Has hecho bien con esta exploración inicial de los datos.\n",
    "</div>"
   ]
  },
  {
   "cell_type": "markdown",
   "id": "8RJHqxVmaVsF",
   "metadata": {
    "id": "8RJHqxVmaVsF"
   },
   "source": [
    "# Paso 2. Preprocesamiento de los datos\n",
    "\n",
    "Preprocesa los datos de la siguiente manera:\n",
    "\n",
    "- Verifica y corrige los tipos de datos (por ejemplo, asegúrate de que las columnas de ID sean números enteros).\n",
    "- Identifica y completa los valores ausentes.\n",
    "- Identifica y elimina los valores duplicados.\n",
    "\n",
    "Asegúrate de explicar qué tipos de valores ausentes y duplicados encontraste, cómo los completaste o eliminaste y por qué usaste esos métodos. ¿Por qué crees que estos valores ausentes y duplicados pueden haber estado presentes en el conjunto de datos?"
   ]
  },
  {
   "cell_type": "markdown",
   "id": "p6poABZQaZYb",
   "metadata": {
    "id": "p6poABZQaZYb"
   },
   "source": [
    "## Plan de solución\n",
    "\n",
    "Escribe aquí tu plan para el Paso 2. Preprocesamiento de los datos.\n",
    "\n",
    "Es indispensable primero verificar y corregir algunos tipos de datos para que éstos no afecten en el análisis de datos y por ende el resultado final. Primero hay que identificar los valores ausentes al igual que aquellos que se encuentren repetidos para decidir como procesarlos, es decir, si se deben de rellenar con valores None o simplemente eliminarlos. "
   ]
  },
  {
   "cell_type": "markdown",
   "id": "07357848-dc64-4156-9cc3-01ff4365226d",
   "metadata": {
    "id": "07357848-dc64-4156-9cc3-01ff4365226d"
   },
   "source": [
    "## Encuentra y elimina los valores duplicados (y describe cómo tomaste tus decisiones)."
   ]
  },
  {
   "cell_type": "markdown",
   "id": "f179f0a9",
   "metadata": {
    "id": "f179f0a9"
   },
   "source": [
    "### `orders` data frame"
   ]
  },
  {
   "cell_type": "code",
   "execution_count": 8,
   "id": "b99297a5-405a-463d-8535-9adc3da4ad74",
   "metadata": {
    "id": "b99297a5-405a-463d-8535-9adc3da4ad74"
   },
   "outputs": [
    {
     "name": "stdout",
     "output_type": "stream",
     "text": [
      "Cantidad de duplicados en df_1: 15\n",
      "\n",
      "Filas duplicadas:\n",
      "     index  order_id  user_id  order_number  order_dow  order_hour_of_day  \\\n",
      "0   145574    794638    50898            24          3                  2   \n",
      "1   223105   2160484   107525            16          3                  2   \n",
      "2   230807   1918001   188546            14          3                  2   \n",
      "3   266232   1782114   106752             1          3                  2   \n",
      "4   273805   1112182   202304            84          3                  2   \n",
      "5   284038   2845099    31189            11          3                  2   \n",
      "6   311713   1021560    53767             3          3                  2   \n",
      "7   321100    408114    68324             4          3                  2   \n",
      "8   323900   1919531   191501            32          3                  2   \n",
      "9   345917   2232988    82565             1          3                  2   \n",
      "10  371905    391768    57671            19          3                  2   \n",
      "11  394347    467134    63189            21          3                  2   \n",
      "12  411408   1286742   183220            48          3                  2   \n",
      "13  415163   2282673    86751            49          3                  2   \n",
      "14  441599   2125197    14050            48          3                  2   \n",
      "\n",
      "    days_since_prior_order  \n",
      "0                      2.0  \n",
      "1                     30.0  \n",
      "2                     16.0  \n",
      "3                      NaN  \n",
      "4                      6.0  \n",
      "5                      7.0  \n",
      "6                      9.0  \n",
      "7                     18.0  \n",
      "8                      7.0  \n",
      "9                      NaN  \n",
      "10                    10.0  \n",
      "11                     2.0  \n",
      "12                     4.0  \n",
      "13                     2.0  \n",
      "14                     3.0  \n"
     ]
    }
   ],
   "source": [
    "# Revisa si hay pedidos duplicados\n",
    "print('Cantidad de duplicados en df_1:', df_1.duplicated().sum())\n",
    "print()\n",
    "\n",
    "print(\"Filas duplicadas:\")\n",
    "df_1_duplicates = df_1[df_1.duplicated()]\n",
    "print(df_1_duplicates.reset_index())"
   ]
  },
  {
   "cell_type": "markdown",
   "id": "PEkwUX_gvt5A",
   "metadata": {
    "id": "PEkwUX_gvt5A"
   },
   "source": [
    "¿Tienes líneas duplicadas? Si sí, ¿qué tienen en común? Todas las ordenes se hicieron el miercoles a las 2am."
   ]
  },
  {
   "cell_type": "code",
   "execution_count": 9,
   "id": "0d44de5d",
   "metadata": {
    "id": "0d44de5d"
   },
   "outputs": [
    {
     "name": "stdout",
     "output_type": "stream",
     "text": [
      "Pedidos realizados el miércoles a las 2:00 a.m.:\n",
      "      index  order_id  user_id  order_number  order_dow  order_hour_of_day  \\\n",
      "0      4838   2766110   162084            41          3                  2   \n",
      "1      5156   2190225   138285            18          3                  2   \n",
      "2     15506    553049    58599            13          3                  2   \n",
      "3     18420    382357   120200            19          3                  2   \n",
      "4     24691    690242    77357             2          3                  2   \n",
      "..      ...       ...      ...           ...        ...                ...   \n",
      "116  457013   3384021    14881             6          3                  2   \n",
      "117  458816    910166   164782            18          3                  2   \n",
      "118  459635   1680532   106435             6          3                  2   \n",
      "119  468324    222962    54979            59          3                  2   \n",
      "120  477526   2592344    46860            38          3                  2   \n",
      "\n",
      "     days_since_prior_order  \n",
      "0                      16.0  \n",
      "1                      11.0  \n",
      "2                       7.0  \n",
      "3                      11.0  \n",
      "4                       9.0  \n",
      "..                      ...  \n",
      "116                    30.0  \n",
      "117                     4.0  \n",
      "118                    21.0  \n",
      "119                     3.0  \n",
      "120                     3.0  \n",
      "\n",
      "[121 rows x 7 columns]\n"
     ]
    }
   ],
   "source": [
    "# Basándote en tus hallazgos,\n",
    "# Verifica todos los pedidos que se hicieron el miércoles a las 2:00 a.m.\n",
    "pedidos_miercoles_2am = df_1[(df_1['order_dow'] == 3) & (df_1['order_hour_of_day'] == 2)]\n",
    "\n",
    "print(\"Pedidos realizados el miércoles a las 2:00 a.m.:\")\n",
    "print(pedidos_miercoles_2am.reset_index())"
   ]
  },
  {
   "cell_type": "markdown",
   "id": "vu2OWyoqwOx5",
   "metadata": {
    "id": "vu2OWyoqwOx5"
   },
   "source": [
    "¿Qué sugiere este resultado? Que del total de 121 columnas con esta caracterisitca, 15 estan repetidas. "
   ]
  },
  {
   "cell_type": "code",
   "execution_count": 10,
   "id": "480563c7",
   "metadata": {
    "id": "480563c7"
   },
   "outputs": [],
   "source": [
    "# Eliminar los pedidos duplicados\n",
    "df_1_sin_duplicados = df_1.drop_duplicates().reset_index(drop = True)"
   ]
  },
  {
   "cell_type": "code",
   "execution_count": 11,
   "id": "0b2396a2",
   "metadata": {
    "id": "0b2396a2"
   },
   "outputs": [
    {
     "name": "stdout",
     "output_type": "stream",
     "text": [
      "Cantidad de filas duplicadas después de eliminarlas: 0\n"
     ]
    }
   ],
   "source": [
    "# Vuelve a verificar si hay filas duplicadas\n",
    "cantidad_duplicados_despues = df_1_sin_duplicados.duplicated().sum()\n",
    "print(\"Cantidad de filas duplicadas después de eliminarlas:\", cantidad_duplicados_despues)"
   ]
  },
  {
   "cell_type": "code",
   "execution_count": 12,
   "id": "f6113ef1",
   "metadata": {
    "id": "f6113ef1"
   },
   "outputs": [
    {
     "name": "stdout",
     "output_type": "stream",
     "text": [
      "Cantidad de IDs duplicados de pedidos: 0\n"
     ]
    }
   ],
   "source": [
    "# Vuelve a verificar únicamente si hay IDs duplicados de pedidos\n",
    "ids_duplicados = df_1_sin_duplicados['order_id'].duplicated().sum()\n",
    "\n",
    "print(\"Cantidad de IDs duplicados de pedidos:\", ids_duplicados)"
   ]
  },
  {
   "cell_type": "markdown",
   "id": "5e8905ae",
   "metadata": {
    "id": "5e8905ae"
   },
   "source": [
    "Describe brevemente tus hallazgos y lo que hiciste con ellos.\n",
    "\n",
    "Durante el proceso se observo que dentro del DataFrame de las órdenes, había en total 15 líneas duplicadas las cuales compartían la caracterísitca de haber sido hechas los miércoles a las 2 am. Es por eso que se realizó un filtro total del DataFrame para filtrar esta condición y removerla con el fin de que ya no existieran duplicados. Adedmás cabe destacar que el hecho de haber buscado si había duplicados por ID, es una forma de nuevamente filtrar si hay más órdenes repetidas por usuario."
   ]
  },
  {
   "cell_type": "markdown",
   "id": "45e6bc46",
   "metadata": {
    "id": "45e6bc46"
   },
   "source": [
    "### `products` data frame"
   ]
  },
  {
   "cell_type": "code",
   "execution_count": 13,
   "id": "5f526b5b-8175-46fa-a0fd-441767d50e64",
   "metadata": {
    "id": "5f526b5b-8175-46fa-a0fd-441767d50e64"
   },
   "outputs": [
    {
     "name": "stdout",
     "output_type": "stream",
     "text": [
      "Cantidad de duplicados en df_2: 0\n"
     ]
    }
   ],
   "source": [
    "# Verifica si hay filas totalmente duplicadas\n",
    "print('Cantidad de duplicados en df_2:', df_2.duplicated().sum())"
   ]
  },
  {
   "cell_type": "code",
   "execution_count": 14,
   "id": "88daa4f4",
   "metadata": {
    "id": "88daa4f4"
   },
   "outputs": [
    {
     "name": "stdout",
     "output_type": "stream",
     "text": [
      "Cantidad de IDs duplicados en departamentos: 49673\n"
     ]
    }
   ],
   "source": [
    "# Revisa únicamente si hay ID de departamentos duplicados\n",
    "ids_departamentos_duplicados = df_2['department_id'].duplicated().sum()\n",
    "print('Cantidad de IDs duplicados en departamentos:', ids_departamentos_duplicados)"
   ]
  },
  {
   "cell_type": "code",
   "execution_count": 15,
   "id": "c773f0bf",
   "metadata": {
    "id": "c773f0bf"
   },
   "outputs": [
    {
     "name": "stdout",
     "output_type": "stream",
     "text": [
      "Cantidad de nombres productos duplicados: 1361\n"
     ]
    }
   ],
   "source": [
    "# Revisa únicamente si hay nombres duplicados de productos (convierte los nombres a letras mayúsculas para compararlos mejor)\n",
    "df_2['product_name'] = df_2['product_name'].str.upper()\n",
    "\n",
    "cant_nombres_productos_duplicados = df_2['product_name'].duplicated().sum() \n",
    "print('Cantidad de nombres productos duplicados:', cant_nombres_productos_duplicados)"
   ]
  },
  {
   "cell_type": "code",
   "execution_count": 16,
   "id": "01efd02e",
   "metadata": {
    "id": "01efd02e"
   },
   "outputs": [
    {
     "name": "stdout",
     "output_type": "stream",
     "text": [
      "total NaN duplicados en columna product name:  49692 \n",
      "\n",
      "       product_id                                       product_name  \\\n",
      "1               2                                   ALL-SEASONS SALT   \n",
      "2               3               ROBUST GOLDEN UNSWEETENED OOLONG TEA   \n",
      "3               4  SMART ONES CLASSIC FAVORITES MINI RIGATONI WIT...   \n",
      "4               5                          GREEN CHILE ANYTIME SAUCE   \n",
      "5               6                                       DRY NOSE OIL   \n",
      "...           ...                                                ...   \n",
      "49689       49690                      HIGH PERFORMANCE ENERGY DRINK   \n",
      "49690       49691                      ORIGINAL PANCAKE & WAFFLE MIX   \n",
      "49691       49692    ORGANIC INSTANT OATMEAL LIGHT MAPLE BROWN SUGAR   \n",
      "49692       49693                             SPRING WATER BODY WASH   \n",
      "49693       49694                            BURRITO- STEAK & CHEESE   \n",
      "\n",
      "       aisle_id  department_id  \n",
      "1           104             13  \n",
      "2            94              7  \n",
      "3            38              1  \n",
      "4             5             13  \n",
      "5            11             11  \n",
      "...         ...            ...  \n",
      "49689        64              7  \n",
      "49690       130             14  \n",
      "49691       130             14  \n",
      "49692       127             11  \n",
      "49693        38              1  \n",
      "\n",
      "[49692 rows x 4 columns]\n",
      "49692\n"
     ]
    }
   ],
   "source": [
    "# Revisa si hay nombres duplicados de productos no faltantes\n",
    "total_none_duplicados = df_2['product_name'].isna().duplicated().sum()\n",
    "print('total NaN duplicados en columna product name: ', total_none_duplicados, '\\n') #verificar cuantos NaN hay duplicados\n",
    "\n",
    "nombres_duplicados_no_faltantes = df_2[(~df_2['product_name'].isna()).duplicated()] \n",
    "cuantos_nombres_no_faltantes_duplicados = (~df_2['product_name'].isna()).duplicated().sum() \n",
    "#adentro del () esta el df de productos que NO son none y fuera vemos el df de los que tienen otro valor que estan duplicados\n",
    "print(nombres_duplicados_no_faltantes)\n",
    "print(cuantos_nombres_no_faltantes_duplicados)\n",
    "\n",
    "#Lo que te piden es descartar que el motivo de los nombres duplicados, sea porque el nombre del producto esté ausente, es decir NaN"
   ]
  },
  {
   "cell_type": "markdown",
   "id": "9da8d293",
   "metadata": {
    "id": "9da8d293"
   },
   "source": [
    "Describe brevemente tus hallazgos y lo que hiciste con ellos.\n",
    "\n",
    "En el DataFrame de los productos se observa que de los 1361 nombres de productos reptidos en realidad éstos son en total 104 mientras que el resto corresponde a datos sin alguna información. A pesar de que estos 104 sean productos con el mismo nombre pueden corresponder a diferentes departamentos por lo que es necesario verificar si estos productos son diferentes o si se deberían de acomodar en uno mismo departamento para que no existan duplicados. "
   ]
  },
  {
   "cell_type": "markdown",
   "id": "60f30db1",
   "metadata": {
    "id": "60f30db1"
   },
   "source": [
    "### `departments` data frame"
   ]
  },
  {
   "cell_type": "code",
   "execution_count": 17,
   "id": "fb410ad4-0fbf-4b80-bb09-23fdea79afe3",
   "metadata": {
    "id": "fb410ad4-0fbf-4b80-bb09-23fdea79afe3"
   },
   "outputs": [
    {
     "name": "stdout",
     "output_type": "stream",
     "text": [
      "Cantidad de filas duplicadas en departmentos: 0\n"
     ]
    }
   ],
   "source": [
    "# Revisa si hay filas totalmente duplicadas\n",
    "df_4_duplicados = df_4.duplicated().sum()\n",
    "print('Cantidad de filas duplicadas en departmentos:', df_4_duplicados)"
   ]
  },
  {
   "cell_type": "code",
   "execution_count": 18,
   "id": "332b12bb",
   "metadata": {
    "id": "332b12bb"
   },
   "outputs": [
    {
     "name": "stdout",
     "output_type": "stream",
     "text": [
      "Cantidad de ids duplicados de los departamentos: 0\n"
     ]
    }
   ],
   "source": [
    "# Revisa únicamente si hay IDs duplicadas de productos\n",
    "df_4_ids_duplicados = df_4['department_id'].duplicated().sum()\n",
    "print('Cantidad de ids duplicados de los departamentos:', df_4_ids_duplicados)"
   ]
  },
  {
   "cell_type": "markdown",
   "id": "bd30d78e",
   "metadata": {
    "id": "bd30d78e"
   },
   "source": [
    "Describe brevemente tus hallazgos y lo que hiciste con ellos.\n",
    "\n",
    "En ambos casos, nos muestra que en este DataFrame no existen casos de información duplicada, es decir, que el numero de id de cada departamento es único y en total son 21 de acuerdo con la información adquirida previamente con df_4.info(). "
   ]
  },
  {
   "cell_type": "markdown",
   "id": "889349c1",
   "metadata": {
    "id": "889349c1"
   },
   "source": [
    "### `aisles` data frame"
   ]
  },
  {
   "cell_type": "code",
   "execution_count": 19,
   "id": "9da89fb9-4679-40f5-ad0d-c34df753a3f8",
   "metadata": {
    "id": "9da89fb9-4679-40f5-ad0d-c34df753a3f8"
   },
   "outputs": [
    {
     "name": "stdout",
     "output_type": "stream",
     "text": [
      "Cantidad de filas duplicadas en aisles: 0\n"
     ]
    }
   ],
   "source": [
    "# Revisa si hay filas totalmente duplicadas\n",
    "df_3_duplicados = df_3.duplicated().sum()\n",
    "print('Cantidad de filas duplicadas en aisles:', df_3_duplicados)"
   ]
  },
  {
   "cell_type": "code",
   "execution_count": 20,
   "id": "da7c2822",
   "metadata": {
    "id": "da7c2822"
   },
   "outputs": [
    {
     "name": "stdout",
     "output_type": "stream",
     "text": [
      "Cantidad de ids duplicados en aisles: 0\n"
     ]
    }
   ],
   "source": [
    "# Revisa únicamente si hay IDs duplicadas de productos\n",
    "df_3_ids_duplicados = df_3['aisle_id'].duplicated().sum()\n",
    "print('Cantidad de ids duplicados en aisles:', df_3_ids_duplicados)"
   ]
  },
  {
   "cell_type": "markdown",
   "id": "ac63826f",
   "metadata": {
    "id": "ac63826f"
   },
   "source": [
    "Describe brevemente tus hallazgos y lo que hiciste con ellos.\n",
    "\n",
    "En ambos casos, nos muestra que en este DataFrame no existen casos de información duplicada, es decir, que el numero de id de cada pasillo es único y en total son 134 de acuerdo con la información adquirida previamente con df_3.info(). "
   ]
  },
  {
   "cell_type": "markdown",
   "id": "274cd06a",
   "metadata": {
    "id": "274cd06a"
   },
   "source": [
    "### `order_products` data frame"
   ]
  },
  {
   "cell_type": "code",
   "execution_count": 21,
   "id": "52326689-84a8-4b8f-a881-7c68780f62c9",
   "metadata": {
    "id": "52326689-84a8-4b8f-a881-7c68780f62c9"
   },
   "outputs": [
    {
     "name": "stdout",
     "output_type": "stream",
     "text": [
      "Cantidad de ordenes de productos duplicadas: 0\n"
     ]
    }
   ],
   "source": [
    "# Revisa si hay filas totalmente duplicadas\n",
    "df_5_duplicados = df_5.duplicated().sum()\n",
    "print('Cantidad de ordenes de productos duplicadas:', df_5_duplicados)"
   ]
  },
  {
   "cell_type": "code",
   "execution_count": 22,
   "id": "7b861391",
   "metadata": {
    "id": "7b861391"
   },
   "outputs": [
    {
     "name": "stdout",
     "output_type": "stream",
     "text": [
      "No hay duplicados engañosos en el DataFrame.\n"
     ]
    }
   ],
   "source": [
    "# Vuelve a verificar si hay cualquier otro duplicado engañoso\n",
    "duplicados_engañosos = df_5.duplicated(subset=['order_id', 'product_id']).any()\n",
    "\n",
    "if duplicados_engañosos:\n",
    "    print(\"Hay duplicados engañosos en el DataFrame.\")\n",
    "else:\n",
    "    print(\"No hay duplicados engañosos en el DataFrame.\")\n"
   ]
  },
  {
   "cell_type": "markdown",
   "id": "0b890492",
   "metadata": {
    "id": "0b890492"
   },
   "source": [
    "Describe brevemente tus hallazgos y lo que hiciste con ellos.\n",
    "\n",
    "Con la información obtenida, se observa que si df_5_duplicados es mayor que cero, significa que hay filas totalmente duplicadas en el DataFrame y que si duplicados_engañosos es True, significa que hay duplicados engañosos en el DataFrame. En ambos casos el resultado obtenido es que no se repiten datos en alguna de las filas de este dataframe.\n",
    "Estos pasos son importantes para garantizar la integridad de los datos y evitar contar múltiples veces los mismos pedidos o productos en análisis posteriores.\n"
   ]
  },
  {
   "cell_type": "markdown",
   "id": "1e46de76",
   "metadata": {
    "id": "1e46de76"
   },
   "source": [
    "## Encuentra y elimina los valores ausentes\n",
    "\n",
    "Al trabajar con valores duplicados, pudimos observar que también nos falta investigar valores ausentes:\n",
    "\n",
    "* La columna `'product_name'` de la tabla products.\n",
    "* La columna `'days_since_prior_order'` de la tabla orders.\n",
    "* La columna `'add_to_cart_order'` de la tabla order_productos."
   ]
  },
  {
   "cell_type": "markdown",
   "id": "c0aebd78",
   "metadata": {
    "id": "c0aebd78"
   },
   "source": [
    "### `products` data frame"
   ]
  },
  {
   "cell_type": "code",
   "execution_count": 23,
   "id": "fe4a8b0f",
   "metadata": {
    "id": "fe4a8b0f"
   },
   "outputs": [
    {
     "name": "stdout",
     "output_type": "stream",
     "text": [
      "Cantidad de valores ausentes en columna product_name: 1258\n"
     ]
    }
   ],
   "source": [
    "# Encuentra los valores ausentes en la columna 'product_name'\n",
    "df_2_ausentes = df_2['product_name'].isna().sum()\n",
    "print('Cantidad de valores ausentes en columna product_name:',df_2_ausentes)"
   ]
  },
  {
   "cell_type": "markdown",
   "id": "-A6x1AbJhjkp",
   "metadata": {
    "id": "-A6x1AbJhjkp"
   },
   "source": [
    "Describe brevemente cuáles son tus hallazgos. \n",
    "\n",
    "Que en el DataFrame df_2 correspondiente a los productos, hay en total 1258 que son valores NaN y probablemente también estén interfiriendo con aquellos que estén duplicados en la misma columna. "
   ]
  },
  {
   "cell_type": "code",
   "execution_count": 24,
   "id": "e96167bc",
   "metadata": {
    "id": "e96167bc"
   },
   "outputs": [
    {
     "name": "stdout",
     "output_type": "stream",
     "text": [
      "La cantidad de productos austentes en el pasillo 100 son:  0\n"
     ]
    }
   ],
   "source": [
    "# ¿Todos los nombres de productos ausentes están relacionados con el pasillo con ID 100? \n",
    "cantidad_productos_ausentes_no_pasillo_100 = ((df_2['product_name'].isna()) & (df_2['aisle_id'] != 100)).sum()\n",
    "print('La cantidad de productos austentes en el pasillo 100 son: ',cantidad_productos_ausentes_no_pasillo_100)"
   ]
  },
  {
   "cell_type": "markdown",
   "id": "WRpIfXRphpSL",
   "metadata": {
    "id": "WRpIfXRphpSL"
   },
   "source": [
    "Describe brevemente cuáles son tus hallazgos.\n",
    "\n",
    "No existe algun producto NaN en el pasillo con el Id 100."
   ]
  },
  {
   "cell_type": "code",
   "execution_count": 25,
   "id": "8fd0a541",
   "metadata": {
    "id": "8fd0a541"
   },
   "outputs": [
    {
     "name": "stdout",
     "output_type": "stream",
     "text": [
      "La cantidad de productos austentes en el departamento con id 21 son:  0\n"
     ]
    }
   ],
   "source": [
    "# ¿Todos los nombres de productos ausentes están relacionados con el departamento con ID 21?\n",
    "cantidad_productos_ausentes_no_departamento_21 = ((df_2['product_name'].isna()) & (df_2['department_id'] != 21)).sum()\n",
    "print('La cantidad de productos austentes en el departamento con id 21 son: ',cantidad_productos_ausentes_no_departamento_21)"
   ]
  },
  {
   "cell_type": "markdown",
   "id": "qDpdYn1Fht_I",
   "metadata": {
    "id": "qDpdYn1Fht_I"
   },
   "source": [
    "Describe brevemente cuáles son tus hallazgos.\n",
    "\n",
    "No existe algun prodcuto NaN en el departamento con id 21."
   ]
  },
  {
   "cell_type": "code",
   "execution_count": 26,
   "id": "325c3464",
   "metadata": {
    "id": "325c3464"
   },
   "outputs": [
    {
     "name": "stdout",
     "output_type": "stream",
     "text": [
      "Informacion pasillo id 100: \n",
      "      aisle_id    aisle\n",
      "99       100  missing \n",
      "\n",
      "Informacion departamento id 21: \n",
      "      department_id department\n",
      "20             21    missing \n",
      "\n"
     ]
    }
   ],
   "source": [
    "# Usa las tablas department y aisle para revisar los datos del pasillo con ID 100 y el departamento con ID 21.\n",
    "df_3_pasillo_100 = df_3[df_3['aisle_id'] == 100]\n",
    "print('Informacion pasillo id 100: \\n ',df_3_pasillo_100, '\\n')\n",
    "\n",
    "df_4_pdedpartamento_21 = df_4[df_4['department_id'] == 21]\n",
    "print('Informacion departamento id 21: \\n ',df_4_pdedpartamento_21, '\\n')"
   ]
  },
  {
   "cell_type": "markdown",
   "id": "nqhSTUPhhvEJ",
   "metadata": {
    "id": "nqhSTUPhhvEJ"
   },
   "source": [
    "Describe brevemente cuáles son tus hallazgos.\n",
    "\n",
    "El estado de ambos es missing, es decir, tanto del aisle_id como del departement_id no se encuentran."
   ]
  },
  {
   "cell_type": "code",
   "execution_count": 27,
   "id": "6b295120",
   "metadata": {
    "id": "6b295120"
   },
   "outputs": [
    {
     "name": "stdout",
     "output_type": "stream",
     "text": [
      "0                               CHOCOLATE SANDWICH COOKIES\n",
      "1                                         ALL-SEASONS SALT\n",
      "2                     ROBUST GOLDEN UNSWEETENED OOLONG TEA\n",
      "3        SMART ONES CLASSIC FAVORITES MINI RIGATONI WIT...\n",
      "4                                GREEN CHILE ANYTIME SAUCE\n",
      "                               ...                        \n",
      "49689                        HIGH PERFORMANCE ENERGY DRINK\n",
      "49690                        ORIGINAL PANCAKE & WAFFLE MIX\n",
      "49691      ORGANIC INSTANT OATMEAL LIGHT MAPLE BROWN SUGAR\n",
      "49692                               SPRING WATER BODY WASH\n",
      "49693                              BURRITO- STEAK & CHEESE\n",
      "Name: product_name, Length: 49694, dtype: object\n",
      "Cantidad NaN en columna product name:  0\n"
     ]
    }
   ],
   "source": [
    "# Completa los nombres de productos ausentes con 'Unknown'\n",
    "df_2['product_name'] = df_2['product_name'].fillna('Unknown')\n",
    "print(df_2['product_name'])\n",
    "print('Cantidad NaN en columna product name: ',df_2['product_name'].isna().sum())"
   ]
  },
  {
   "cell_type": "markdown",
   "id": "fc70e5ad",
   "metadata": {
    "id": "fc70e5ad"
   },
   "source": [
    "Describe brevemente tus hallazgos y lo que hiciste con ellos.\n",
    "\n",
    "Es importante que aunque el sistema solo reconoce valores ausentes como NaN o None, verificar si las filas no tiene alguna palabra similar en la que demuestre que hace falta el dato. "
   ]
  },
  {
   "cell_type": "markdown",
   "id": "7eb45c86",
   "metadata": {
    "id": "7eb45c86"
   },
   "source": [
    "### `orders` data frame"
   ]
  },
  {
   "cell_type": "code",
   "execution_count": 28,
   "id": "93e41d96",
   "metadata": {
    "id": "93e41d96"
   },
   "outputs": [
    {
     "name": "stdout",
     "output_type": "stream",
     "text": [
      "order_id                      0\n",
      "user_id                       0\n",
      "order_number                  0\n",
      "order_dow                     0\n",
      "order_hour_of_day             0\n",
      "days_since_prior_order    28819\n",
      "dtype: int64\n"
     ]
    }
   ],
   "source": [
    "# Encuentra los valores ausentes\n",
    "df_1_valores_ausentes = df_1.isna().sum()\n",
    "print(df_1_valores_ausentes)"
   ]
  },
  {
   "cell_type": "code",
   "execution_count": 29,
   "id": "166e5a86",
   "metadata": {
    "id": "166e5a86"
   },
   "outputs": [
    {
     "name": "stdout",
     "output_type": "stream",
     "text": [
      "        order_id  user_id  order_number  order_dow  order_hour_of_day  \\\n",
      "28        133707   182261             1          3                 10   \n",
      "96        787445    25685             1          6                 18   \n",
      "100       294410   111449             1          0                 19   \n",
      "103      2869915   123958             1          4                 16   \n",
      "104      2521921    42286             1          3                 18   \n",
      "...          ...      ...           ...        ...                ...   \n",
      "478895   2589657   205028             1          0                 16   \n",
      "478896   2222353   141211             1          2                 13   \n",
      "478922   2272807   204154             1          1                 15   \n",
      "478926   2499542    68810             1          4                 19   \n",
      "478945   1387033    22496             1          5                 14   \n",
      "\n",
      "        days_since_prior_order  \n",
      "28                         NaN  \n",
      "96                         NaN  \n",
      "100                        NaN  \n",
      "103                        NaN  \n",
      "104                        NaN  \n",
      "...                        ...  \n",
      "478895                     NaN  \n",
      "478896                     NaN  \n",
      "478922                     NaN  \n",
      "478926                     NaN  \n",
      "478945                     NaN  \n",
      "\n",
      "[28819 rows x 6 columns]\n"
     ]
    }
   ],
   "source": [
    "# ¿Hay algún valor ausente que no sea el primer pedido del cliente?\n",
    "val_ausente_diferente_primero = df_1[(df_1['days_since_prior_order'] != 1.0) & df_1.isnull().any(axis=1)]\n",
    "print(val_ausente_diferente_primero)"
   ]
  },
  {
   "cell_type": "markdown",
   "id": "4e23d089",
   "metadata": {
    "id": "4e23d089"
   },
   "source": [
    "Describe brevemente tus hallazgos y lo que hiciste con ellos.\n",
    "\n",
    "Todos los valores ausentes del DataFrame 1 que corresponde a las ordenes, son principalmente de la columna days_since_prior_order y son despues del primer pedido del cliente. "
   ]
  },
  {
   "cell_type": "markdown",
   "id": "69dc9ca4",
   "metadata": {
    "id": "69dc9ca4"
   },
   "source": [
    "### `order_products` data frame"
   ]
  },
  {
   "cell_type": "code",
   "execution_count": 30,
   "id": "b8240253",
   "metadata": {
    "id": "b8240253"
   },
   "outputs": [
    {
     "name": "stdout",
     "output_type": "stream",
     "text": [
      "order_id               0\n",
      "product_id             0\n",
      "add_to_cart_order    836\n",
      "reordered              0\n",
      "dtype: int64\n"
     ]
    }
   ],
   "source": [
    "# Encuentra los valores ausentes\n",
    "df_5_ausentes = df_5.isna().sum()\n",
    "print(df_5_ausentes)"
   ]
  },
  {
   "cell_type": "code",
   "execution_count": 31,
   "id": "9a78e5ee",
   "metadata": {
    "id": "9a78e5ee"
   },
   "outputs": [
    {
     "name": "stdout",
     "output_type": "stream",
     "text": [
      "Valor maximo:  64.0\n",
      "Valor minimo:  1.0\n"
     ]
    }
   ],
   "source": [
    "# ¿Cuáles son los valores mínimos y máximos en esta columna?\n",
    "val_maximo_add_cart = df_5['add_to_cart_order'].max()\n",
    "val_minimo_add_cart = df_5['add_to_cart_order'].min()\n",
    "\n",
    "print('Valor maximo: ', val_maximo_add_cart)\n",
    "print('Valor minimo: ', val_minimo_add_cart)\n"
   ]
  },
  {
   "cell_type": "markdown",
   "id": "-Z2Ja215jW78",
   "metadata": {
    "id": "-Z2Ja215jW78"
   },
   "source": [
    "Describe brevemente cuáles son tus hallazgos.\n",
    "\n",
    "El maximo de pedidos que ha hecho un cliente mientras que el minimo es de al menos 1. "
   ]
  },
  {
   "cell_type": "code",
   "execution_count": 32,
   "id": "ab9d0c2b",
   "metadata": {
    "id": "ab9d0c2b"
   },
   "outputs": [
    {
     "name": "stdout",
     "output_type": "stream",
     "text": [
      "IDs de pedidos con valor ausente en 'add_to_cart_order': \n",
      " 0      2449164\n",
      "1      1968313\n",
      "2      2926893\n",
      "3      1717990\n",
      "4      1959075\n",
      "        ...   \n",
      "831    1800005\n",
      "832    1633337\n",
      "833     404157\n",
      "834    1673227\n",
      "835    1832957\n",
      "Name: order_id, Length: 836, dtype: int64\n"
     ]
    }
   ],
   "source": [
    "# Guarda todas las IDs de pedidos que tengan un valor ausente en 'add_to_cart_order'\n",
    "ids_pedidos_con_valor_ausente = df_5[df_5['add_to_cart_order'].isnull()]['order_id'].reset_index(drop = True)\n",
    "\n",
    "print(\"IDs de pedidos con valor ausente en 'add_to_cart_order': \\n\", ids_pedidos_con_valor_ausente)"
   ]
  },
  {
   "cell_type": "code",
   "execution_count": 33,
   "id": "54c31695",
   "metadata": {
    "id": "54c31695"
   },
   "outputs": [
    {
     "name": "stdout",
     "output_type": "stream",
     "text": [
      "El valor mínimo del conteo de 'product_id' en pedidos con datos ausentes es: 65\n"
     ]
    }
   ],
   "source": [
    "# ¿Todos los pedidos con valores ausentes tienen más de 64 productos?\n",
    "# Agrupa todos los pedidos con datos ausentes por su ID de pedido.\n",
    "\n",
    "# filtro del DataFrame df_5 para conservar solo los IDs de pedido en ids_pedidos_con_valor_ausente\n",
    "df_filtrado = df_5[df_5['order_id'].isin(ids_pedidos_con_valor_ausente)]\n",
    "\n",
    "# Agrupa por order_id, accede a product_id y cuenta con count\n",
    "conteo_productos_por_pedido_filtrado = df_filtrado.groupby('order_id')['product_id'].count()\n",
    "# Se revisa el valor mínimo del conteo\n",
    "min_conteo = conteo_productos_por_pedido_filtrado.min()\n",
    "\n",
    "# Imprime el resultado\n",
    "print(\"El valor mínimo del conteo de 'product_id' en pedidos con datos ausentes es:\", min_conteo)"
   ]
  },
  {
   "cell_type": "markdown",
   "id": "p9V6pddtjglj",
   "metadata": {
    "id": "p9V6pddtjglj"
   },
   "source": [
    "Describe brevemente cuáles son tus hallazgos.\n",
    "\n",
    "Se puede concluir que todos los pedidos con valores ausentes en 'add_to_cart_order' tienen al menos 65 productos. Esto sugiere que estos pedidos pueden ser pedidos grandes o que pueden haber ocurrido algunos errores en el registro de datos, ya que es poco común tener tantos productos en un solo pedido."
   ]
  },
  {
   "cell_type": "code",
   "execution_count": 34,
   "id": "7a987d08",
   "metadata": {
    "id": "7a987d08"
   },
   "outputs": [
    {
     "name": "stdout",
     "output_type": "stream",
     "text": [
      "   order_id  product_id  add_to_cart_order  reordered\n",
      "0   2141543       11440                 17          0\n",
      "1    567889        1560                  1          1\n",
      "2   2261212       26683                  1          1\n",
      "3    491251        8670                 35          1\n",
      "4   2571142        1940                  5          1\n"
     ]
    }
   ],
   "source": [
    "# Remplaza los valores ausentes en la columna 'add_to_cart? con 999 y convierte la columna al tipo entero.\n",
    "df_5['add_to_cart_order'] = df_5['add_to_cart_order'].fillna(999)\n",
    "df_5['add_to_cart_order'] = df_5['add_to_cart_order'].astype(int)\n",
    "\n",
    "print(df_5.head())"
   ]
  },
  {
   "cell_type": "markdown",
   "id": "fea4bcc7",
   "metadata": {
    "id": "fea4bcc7"
   },
   "source": [
    "Describe brevemente tus hallazgos y lo que hiciste con ellos.\n",
    "\n",
    "Se identificaron pedidos con datos ausentes en la columna 'add_to_cart_order' en el DataFrame df_5. Se reemplazaron los valores ausentes con el valor 999 y luego se convirtió la columna al tipo entero para asegurar la consistencia de los datos y permitir su análisis posterior. Con esta acción tomanda, los valores ausentes fueron reemplazados con éxito, lo que garantiza que todos los datos estén completos y en el formato adecuado para un análisis más detallado. Esto ayuda a evitar problemas al procesar los datos y facilita su interpretación."
   ]
  },
  {
   "cell_type": "markdown",
   "id": "RnplPFY1gSrb",
   "metadata": {
    "id": "RnplPFY1gSrb"
   },
   "source": [
    "## Conclusiones\n",
    "\n",
    "Escribe aquí tus conclusiones intermedias sobre el Paso 2. Preprocesamiento de los datos\n",
    "\n",
    "Definitivamente lso DataFrames df_1, df_2 y df_5 fueron los que tuvieron más errores de duplicados y de valores NaN a lo largo de todo el preprocesamiento de datos. Este paso es esencial para limpiar los datos para el análisis posterior ya que si en éste incluimos datos inconclusos será lo mismo para el resultado. La mayoría de estos datos duplicados se debían a órdenes que el usuario había hecho más de una vez y que fueron registradas con el mismo nombre y día de creación por lo que una supuesta solución sería darle mantenimiento a la página de órdenes para saber que error en la programación es la que esta ocasionando esto. "
   ]
  },
  {
   "cell_type": "markdown",
   "id": "UjrOIwTcz3ri",
   "metadata": {
    "id": "UjrOIwTcz3ri"
   },
   "source": [
    "# Paso 3. Análisis de los datos\n",
    "\n",
    "Una vez los datos estén procesados y listos, haz el siguiente análisis:"
   ]
  },
  {
   "cell_type": "markdown",
   "id": "turkish-kidney",
   "metadata": {
    "id": "turkish-kidney"
   },
   "source": [
    "# [A] Fácil (deben completarse todos para aprobar)\n",
    "\n",
    "1. Verifica que los valores en las columnas `'order_hour_of_day'` y `'order_dow'` en la tabla orders sean razonables (es decir, `'order_hour_of_day'` oscile entre 0 y 23 y `'order_dow'` oscile entre 0 y 6).\n",
    "2. Crea un gráfico que muestre el número de personas que hacen pedidos dependiendo de la hora del día.\n",
    "3. Crea un gráfico que muestre qué día de la semana la gente hace sus compras.\n",
    "4. Crea un gráfico que muestre el tiempo que la gente espera hasta hacer su siguiente pedido, y comenta sobre los valores mínimos y máximos."
   ]
  },
  {
   "cell_type": "markdown",
   "id": "short-capability",
   "metadata": {
    "id": "short-capability"
   },
   "source": [
    "### [A1] Verifica que los valores sean sensibles"
   ]
  },
  {
   "cell_type": "code",
   "execution_count": 35,
   "id": "growing-fruit",
   "metadata": {
    "id": "growing-fruit"
   },
   "outputs": [
    {
     "name": "stdout",
     "output_type": "stream",
     "text": [
      "Valores order hour of day: \n",
      " 0         True\n",
      "1         True\n",
      "2         True\n",
      "3         True\n",
      "4         True\n",
      "          ... \n",
      "478962    True\n",
      "478963    True\n",
      "478964    True\n",
      "478965    True\n",
      "478966    True\n",
      "Name: order_hour_of_day, Length: 478967, dtype: bool\n"
     ]
    }
   ],
   "source": [
    "# Verificar si los valores en las columnas 'order_hour_of_day' y 'order_dow' son razonables\n",
    "valores_razonables_order_hour_of_day = df_1['order_hour_of_day'].between(0, 23)\n",
    "print('Valores order hour of day: \\n', valores_razonables_order_hour_of_day)\n"
   ]
  },
  {
   "cell_type": "code",
   "execution_count": 36,
   "id": "accessory-malaysia",
   "metadata": {
    "id": "accessory-malaysia"
   },
   "outputs": [
    {
     "name": "stdout",
     "output_type": "stream",
     "text": [
      "Valores order dow: \n",
      " 0         True\n",
      "1         True\n",
      "2         True\n",
      "3         True\n",
      "4         True\n",
      "          ... \n",
      "478962    True\n",
      "478963    True\n",
      "478964    True\n",
      "478965    True\n",
      "478966    True\n",
      "Name: order_dow, Length: 478967, dtype: bool\n"
     ]
    }
   ],
   "source": [
    "valores_razonables_order_dow = df_1['order_dow'].between(0, 6)\n",
    "print('Valores order dow: \\n', valores_razonables_order_dow)"
   ]
  },
  {
   "cell_type": "markdown",
   "id": "hmR2GNQ6lCsX",
   "metadata": {
    "id": "hmR2GNQ6lCsX"
   },
   "source": [
    "Escribe aquí tus conclusiones: Tanto en la columna order_hour_of_day como en la columna order_dow se reseptan los intervalos propuestos en la descripcion es decir que se hace dentro de las 24 horas y en cualquiera de los 7 dias de la semana la orden del usuario. "
   ]
  },
  {
   "cell_type": "markdown",
   "id": "a6743a70",
   "metadata": {
    "id": "a6743a70"
   },
   "source": [
    "### [A2] Para cada hora del día, ¿cuántas personas hacen órdenes?"
   ]
  },
  {
   "cell_type": "code",
   "execution_count": 37,
   "id": "a36cca27",
   "metadata": {
    "id": "a36cca27"
   },
   "outputs": [
    {
     "data": {
      "image/png": "[encoded data removed]",
      "text/plain": [
       "<Figure size 432x288 with 1 Axes>"
      ]
     },
     "metadata": {
      "needs_background": "light"
     },
     "output_type": "display_data"
    }
   ],
   "source": [
    "#número de personas que hacen pedidos dependiendo de la hora del día\n",
    "\n",
    "# Contar el número de personas que hacen pedidos para cada hora del día\n",
    "num_personas_por_hora = df_1.groupby('order_hour_of_day')['user_id'].nunique() #cuenta id unicos solamente\n",
    "\n",
    "# Trazar un gráfico de barras para mostrar el número de personas que hacen pedidos en función de la hora del día\n",
    "num_personas_por_hora.plot(kind='bar', \n",
    "                           title='Número de personas que hacen pedidos dependiendo de la hora del día',\n",
    "                           xlabel='Hora del día', \n",
    "                           ylabel='Número de personas')\n",
    "\n",
    "plt.show()"
   ]
  },
  {
   "cell_type": "markdown",
   "id": "11270eed",
   "metadata": {
    "id": "11270eed"
   },
   "source": [
    "Escribe aquí tus conclusiones: Las horas donde las personas hacen por lo general sus pedidos es en ranfo de las 10 am hasta las 4 pm. "
   ]
  },
  {
   "cell_type": "markdown",
   "id": "documented-command",
   "metadata": {
    "id": "documented-command"
   },
   "source": [
    "### [A3] ¿Qué día de la semana compran víveres las personas?"
   ]
  },
  {
   "cell_type": "code",
   "execution_count": 38,
   "id": "chief-digit",
   "metadata": {
    "id": "chief-digit"
   },
   "outputs": [
    {
     "data": {
      "image/png": "[encoded data removed]",
      "text/plain": [
       "<Figure size 432x288 with 1 Axes>"
      ]
     },
     "metadata": {
      "needs_background": "light"
     },
     "output_type": "display_data"
    }
   ],
   "source": [
    "#día de la semana la gente hace sus compras\n",
    "\n",
    "# Contar el número de personas que hacen pedidos para cada dia de la semana\n",
    "num_personas_por_hora = df_1.groupby('order_dow')['user_id'].nunique() #cuenta id unicos solamente\n",
    "\n",
    "# Trazar un gráfico de barras para mostrar el número de personas que hacen pedidos en función del dia de la semana\n",
    "num_personas_por_hora.plot(kind='bar', \n",
    "                           title='Número de personas que hacen las compras dependiendo del dia de la semana',\n",
    "                           xlabel='Dia de la semana', \n",
    "                           ylabel='Número de personas')\n",
    "\n",
    "plt.show()"
   ]
  },
  {
   "cell_type": "markdown",
   "id": "dominant-lightning",
   "metadata": {
    "id": "dominant-lightning"
   },
   "source": [
    "Escribe aquí tus conclusiones: Al parecer Domingo (0) y Lunes (1) son aquellos días donde mayor número de personas son las que compran. "
   ]
  },
  {
   "cell_type": "markdown",
   "id": "cutting-concert",
   "metadata": {
    "id": "cutting-concert"
   },
   "source": [
    "### [A4] ¿Cuánto tiempo esperan las personas hasta hacer otro pedido? Comenta sobre los valores mínimos y máximos."
   ]
  },
  {
   "cell_type": "code",
   "execution_count": 39,
   "id": "c231f523",
   "metadata": {
    "id": "c231f523"
   },
   "outputs": [
    {
     "data": {
      "image/png": "[encoded data removed]",
      "text/plain": [
       "<Figure size 432x288 with 1 Axes>"
      ]
     },
     "metadata": {
      "needs_background": "light"
     },
     "output_type": "display_data"
    },
    {
     "name": "stdout",
     "output_type": "stream",
     "text": [
      "Valor mínimo de días transcurridos: 0.0\n",
      "Valor máximo de días transcurridos: 30.0\n"
     ]
    }
   ],
   "source": [
    "# Calcular los días transcurridos desde el pedido anterior para cada pedido\n",
    "dias_transcurridos = df_1['days_since_prior_order']\n",
    "\n",
    "# Trazar un histograma para mostrar la distribución de los días transcurridos\n",
    "plt.hist(dias_transcurridos, bins=30) #bins 30 porque en un mes son 30 dias\n",
    "\n",
    "plt.title('Días transcurridos hasta el próximo pedido')\n",
    "plt.xlabel('Días transcurridos')\n",
    "plt.ylabel('Frecuencia') #El eje Y representa la frecuencia de ocurrencia para cada valor\n",
    "#plt.grid(True)\n",
    "plt.show()\n",
    "\n",
    "# Imprimir información sobre los valores mínimos y máximos\n",
    "print(\"Valor mínimo de días transcurridos:\", dias_transcurridos.min())\n",
    "print(\"Valor máximo de días transcurridos:\", dias_transcurridos.max())"
   ]
  },
  {
   "cell_type": "markdown",
   "id": "discrete-vertex",
   "metadata": {
    "id": "discrete-vertex"
   },
   "source": [
    "Escribe aquí tus conclusiones: Dado los valores mínimo y máximo de la distribución anterior, se puede responder a la pregunta anterior que los usuarios se toman entre 0 días hasta un mes entero para realizar su siguiente orden. Esto mismo también se refleja en la gráfica proporcionada anteriormente. Sumado a esto cabe recalcar que los usuarios tienden a ordenar más los días Domingo y Lunes entre las 10 am hasta las 4 pm.  "
   ]
  },
  {
   "cell_type": "markdown",
   "id": "e09cc9fb",
   "metadata": {},
   "source": [
    "<div class=\"alert alert-block alert-success\">\n",
    "<b>Comentario del revisor</b> <a class=\"tocSkip\"></a>\n",
    "    \n",
    "Buen trabajo en esta sección `A`.\n",
    "</div>"
   ]
  },
  {
   "cell_type": "markdown",
   "id": "tight-staff",
   "metadata": {
    "id": "tight-staff"
   },
   "source": [
    "# [B] Intermedio (deben completarse todos para aprobar)\n",
    "\n",
    "1. ¿Existe alguna diferencia entre las distribuciones `'order_hour_of_day'` de los miércoles y los sábados? Traza gráficos de barra de `'order_hour_of_day'` para ambos días en la misma figura y describe las diferencias que observes.\n",
    "2. Grafica la distribución para el número de órdenes que hacen los clientes (es decir, cuántos clientes hicieron solo 1 pedido, cuántos hicieron 2, cuántos 3, y así sucesivamente...).\n",
    "3. ¿Cuáles son los 20 principales productos que se piden con más frecuencia (muestra su identificación y nombre)?"
   ]
  },
  {
   "cell_type": "markdown",
   "id": "packed-classic",
   "metadata": {
    "id": "packed-classic"
   },
   "source": [
    "### [B1] Diferencia entre miércoles y sábados para  `'order_hour_of_day'`. Traza gráficos de barra para los dos días y describe las diferencias que veas."
   ]
  },
  {
   "cell_type": "code",
   "execution_count": 40,
   "id": "d89b8403",
   "metadata": {
    "id": "d89b8403"
   },
   "outputs": [
    {
     "data": {
      "image/png": "[encoded data removed]",
      "text/plain": [
       "<Figure size 432x288 with 1 Axes>"
      ]
     },
     "metadata": {
      "needs_background": "light"
     },
     "output_type": "display_data"
    }
   ],
   "source": [
    "#domingo 0 lunes 1 martes 2 miercoles 3 jueves 4 viernes 5 sabado 6\n",
    "\n",
    "# esto mostrará el gráfico de order_hour_of_day de los miercoles con numero 3\n",
    "df_1[df_1['order_dow'] == 3]['order_hour_of_day'].plot(kind='hist', bins=24, alpha=0.5) #bins 24 porque son 24 hrs al dia\n",
    "\n",
    "# esto mostrará el gráfico de order_hour_of_day de los sabados con numero 6\n",
    "# e incluye un valor alpha para que podamos ver ambos histogramas por completo\n",
    "df_1[df_1['order_dow'] == 6]['order_hour_of_day'].plot(kind='hist', bins=24, alpha=0.5)\n",
    "\n",
    "plt.title('Distribución de horas de pedido para miércoles y sábado')\n",
    "plt.xlabel('Hora del día')\n",
    "plt.ylabel('Frecuencia')\n",
    "\n",
    "plt.legend(['Miercoles', 'Sabado']) # leyenda, que sigue el mismo orden trazado anteriormente\n",
    "plt.show() "
   ]
  },
  {
   "cell_type": "code",
   "execution_count": null,
   "id": "94e54e8a",
   "metadata": {
    "id": "94e54e8a"
   },
   "outputs": [],
   "source": []
  },
  {
   "cell_type": "code",
   "execution_count": null,
   "id": "797c90a8",
   "metadata": {
    "id": "797c90a8"
   },
   "outputs": [],
   "source": []
  },
  {
   "cell_type": "code",
   "execution_count": null,
   "id": "35bcea30",
   "metadata": {
    "id": "35bcea30"
   },
   "outputs": [],
   "source": []
  },
  {
   "cell_type": "markdown",
   "id": "charitable-congo",
   "metadata": {
    "id": "charitable-congo"
   },
   "source": [
    "Escribe aquí tus conclusiones: De acuerdo con el gráfico anterior se puede notar que hay una mayor frecuencia por parte de los usuarios en realizar pedidos los Sábados entre las 10 am y las 3pm más que los Miércoles. "
   ]
  },
  {
   "cell_type": "markdown",
   "id": "e3891143",
   "metadata": {
    "id": "e3891143"
   },
   "source": [
    "### [B2] ¿Cuál es la distribución para el número de pedidos por cliente?"
   ]
  },
  {
   "cell_type": "code",
   "execution_count": 41,
   "id": "d8c26c23",
   "metadata": {
    "id": "d8c26c23"
   },
   "outputs": [
    {
     "data": {
      "image/png": "[encoded data removed]",
      "text/plain": [
       "<Figure size 432x288 with 1 Axes>"
      ]
     },
     "metadata": {
      "needs_background": "light"
     },
     "output_type": "display_data"
    }
   ],
   "source": [
    "#Grafica la distribución para el número de órdenes que hacen los clientes (es decir, cuántos clientes hicieron solo 1 pedido, cuántos hicieron 2, cuántos 3, y así sucesivamente...)\n",
    "# Contar cuántas veces aparece cada valor único en la columna 'order_number' - número de veces que este cliente ha hecho un pedido\n",
    "distribucion_ordenes = df_1['order_number'].value_counts()\n",
    "\n",
    "# Trazar un gráfico de barras para visualizar la distribución del número de órdenes por cliente\n",
    "#distribucion_ordenes.plot(kind='bar')\n",
    "plt.bar(distribucion_ordenes.index, distribucion_ordenes.values) #visualmente es mejor porque si no se amontonaban las ordenes en eje x\n",
    "\n",
    "# Agregar etiquetas y título\n",
    "plt.title('Distribución del número de órdenes por cliente')\n",
    "plt.xlabel('Número de órdenes')\n",
    "plt.ylabel('Número de clientes')\n",
    "\n",
    "plt.show()"
   ]
  },
  {
   "cell_type": "code",
   "execution_count": null,
   "id": "00e69a66",
   "metadata": {
    "id": "00e69a66"
   },
   "outputs": [],
   "source": []
  },
  {
   "cell_type": "markdown",
   "id": "d2eff7d5",
   "metadata": {
    "id": "d2eff7d5"
   },
   "source": [
    "Escribe aquí tus conclusiones: De acuerdo con el resultado de la gráfica anterior, se puede observar que hay mayor número de clientes cuando hacen órdenes de menor número. "
   ]
  },
  {
   "cell_type": "markdown",
   "id": "54a0319c",
   "metadata": {
    "id": "54a0319c"
   },
   "source": [
    "### [B3] ¿Cuáles son los 20 productos más populares (muestra su ID y nombre)?"
   ]
  },
  {
   "cell_type": "code",
   "execution_count": null,
   "id": "exterior-arizona",
   "metadata": {
    "id": "exterior-arizona",
    "scrolled": true
   },
   "outputs": [],
   "source": [
    "#¿Cuáles son los 20 principales productos que se piden con más frecuencia (muestra su identificación y nombre)?\n",
    "\n",
    "#primero hacer un merge entre los product_id y sus respectivos nombres, esta informacion esta separada entre el df_2 y el df_5\n",
    "#en el df_2 correspondiente a products.csv estan los nombres en product_name y el id mientras que en el df_5 esta solo el id\n",
    "\n",
    "#Realizar el merge entre df_5 y df_2\n",
    "df_merged = pd.merge(df_5, df_2[['product_id', 'product_name']], on='product_id', how='inner')\n",
    "\n",
    "# contamos el número de veces que aparece cada producto en la columna 'product_id' y seleccionamos solo 20 \n",
    "productos_populares = df_merged['product_id'].value_counts().head(20)\n",
    "\n",
    "# df de productos mas populares\n",
    "df_productos_populares = pd.DataFrame({'product_id': productos_populares.index})\n",
    "\n",
    "# Con merge juntamos el DataFrame de los productos mas populares con el DataFrame original para obtener los nombres de los productos\n",
    "nombres_productos_populares = pd.merge(df_productos_populares, df_merged[['product_id', 'product_name']], on='product_id').drop_duplicates()\n",
    "\n",
    "# Grafico de barras para mostrar los 20 productos más populares\n",
    "productos_populares.plot(kind='bar', title='Los 20 productos más populares', xlabel='ID de producto', ylabel='Número de veces que aparece')\n",
    "plt.show()\n"
   ]
  },
  {
   "cell_type": "code",
   "execution_count": null,
   "id": "universal-facial",
   "metadata": {
    "id": "universal-facial"
   },
   "outputs": [],
   "source": [
    "# Se imprimen los nombres y los IDs de los productos mas populares - es el merge entre los dos df's anteriores\n",
    "print(\"Los 20 productos más populares:\")\n",
    "print(nombres_productos_populares)"
   ]
  },
  {
   "cell_type": "markdown",
   "id": "7df00f47",
   "metadata": {
    "id": "7df00f47"
   },
   "source": [
    "Escribe aquí tus conclusiones: En el gráfico observamos que la frecuencia de los 20 prodcutos más populares es de 1 correspondiente al total. Además en el DataFrame impreso se observan los productos junto con su id correspondiente como se muestra en la gráfica."
   ]
  },
  {
   "cell_type": "markdown",
   "id": "gross-theme",
   "metadata": {
    "id": "gross-theme"
   },
   "source": [
    "# [C] Difícil (deben completarse todos para aprobar)\n",
    "\n",
    "1. ¿Cuántos artículos suelen comprar las personas en un pedido? ¿Cómo es la distribución?\n",
    "2. ¿Cuáles son los 20 principales artículos que vuelven a pedirse con mayor frecuencia (muestra sus nombres e IDs de los productos)?\n",
    "3. Para cada producto, ¿cuál es la tasa de repetición del pedido (número de repeticiones de pedido/total de pedidos?\n",
    "4. Para cada cliente, ¿qué proporción de los productos que pidió ya los había pedido? Calcula la tasa de repetición de pedido para cada usuario en lugar de para cada producto.\n",
    "5. ¿Cuáles son los 20 principales artículos que la gente pone primero en sus carritos (muestra las IDs de los productos, sus nombres, y el número de veces en que fueron el primer artículo en añadirse al carrito)?"
   ]
  },
  {
   "cell_type": "markdown",
   "id": "romantic-deposit",
   "metadata": {
    "id": "romantic-deposit"
   },
   "source": [
    "### [C1] ¿Cuántos artículos compran normalmente las personas en un pedido? ¿Cómo es la distribución?"
   ]
  },
  {
   "cell_type": "code",
   "execution_count": null,
   "id": "virtual-punch",
   "metadata": {
    "id": "virtual-punch"
   },
   "outputs": [],
   "source": [
    "#esta informacion se saca de order_products que es el df_5\n",
    "# promedio de articulos por pedido por orden de id\n",
    "promedio_articulos_por_pedido = df_5.groupby('order_id')['product_id'].count().mean()\n",
    "promedio_articulos_por_pedido = promedio_articulos_por_pedido.astype(int)\n",
    "\n",
    "# histograma para visualizar la distribucion del numero de articulos por pedido\n",
    "plt.hist(df_5.groupby('order_id')['product_id'].count(), bins=50)\n",
    "\n",
    "plt.title('Distribución del número de artículos por pedido')\n",
    "plt.xlabel('Número de artículos por pedido')\n",
    "plt.ylabel('Frecuencia')\n",
    "plt.grid(True)\n",
    "\n",
    "plt.show()\n",
    "\n",
    "print(\"Cantidad promedia de artículos que compran las personas por pedido:\", promedio_articulos_por_pedido)"
   ]
  },
  {
   "cell_type": "code",
   "execution_count": null,
   "id": "sensitive-breathing",
   "metadata": {
    "id": "sensitive-breathing"
   },
   "outputs": [],
   "source": []
  },
  {
   "cell_type": "code",
   "execution_count": null,
   "id": "completed-frank",
   "metadata": {
    "id": "completed-frank"
   },
   "outputs": [],
   "source": []
  },
  {
   "cell_type": "markdown",
   "id": "designed-mortality",
   "metadata": {
    "id": "designed-mortality"
   },
   "source": [
    "Escribe aquí tus conclusiones: De acuerdo con la gráfica mostrada vemos que la mayor parte de los picos se encuentran en el intervalo de 1 a 20 artículos por pedido. Con el promedio obtenido, se puede determinar que como mínimo el usuario puede llegar a comprar hasta 10 artículos por orden. De hecho esta la tendencia de que por orden la cantidad de artículos es la menor posible.   "
   ]
  },
  {
   "cell_type": "markdown",
   "id": "5e6b5537",
   "metadata": {
    "id": "5e6b5537"
   },
   "source": [
    "### [C2] ¿Cuáles son los 20 principales artículos que vuelven a pedirse con mayor frecuencia (muestra sus nombres e IDs de los productos)?"
   ]
  },
  {
   "cell_type": "code",
   "execution_count": null,
   "id": "9374e55a",
   "metadata": {
    "id": "9374e55a"
   },
   "outputs": [],
   "source": [
    "#Para esto entiendo que hay que hacer un merge entre los DataFrames df_2 que corresponde a products y df_5 que corresponde a order products\n",
    "#Esto porque df_2 que corresponde a products.csv y el df_5 que corresponde a order_products.csv si lo que quiero es que se combine el product id con product_name para despues obtener los nombres de los productos que mas se han reordenado\n",
    "\n",
    "#Realizar el merge entre df_5 y df_2\n",
    "df_merged = pd.merge(df_5, df_2[['product_id', 'product_name']], on='product_id', how='inner')\n",
    "\n",
    "#Agrupar por product_id y product_name y sumar la columna reordered\n",
    "productos_reordenados = df_merged.groupby(['product_id', 'product_name'])['reordered'].sum().reset_index()\n",
    "\n",
    "#Ordenar los productos en funcion del numero de veces que se han reordenado de manera descendente - mas alto al mas bajo\n",
    "productos_reordenados = productos_reordenados.sort_values(by='reordered', ascending=False)\n",
    "\n",
    "#20 productos más reordenados\n",
    "top_20_productos_reordenados = productos_reordenados.head(20)"
   ]
  },
  {
   "cell_type": "code",
   "execution_count": null,
   "id": "possible-change",
   "metadata": {
    "id": "possible-change",
    "scrolled": true
   },
   "outputs": [],
   "source": [
    "# Paso 5: Graficar los 20 principales artículos reordenados\n",
    "plt.figure(figsize=(10, 6))\n",
    "plt.bar(top_20_productos_reordenados['product_name'], top_20_productos_reordenados['reordered'])\n",
    "plt.title('20 principales artículos que se vuelven a pedir con mayor frecuencia')\n",
    "plt.xlabel('Nombre del producto')\n",
    "plt.ylabel('Número de veces reordenado')\n",
    "plt.xticks(rotation=90)\n",
    "plt.tight_layout()\n",
    "plt.show()"
   ]
  },
  {
   "cell_type": "code",
   "execution_count": null,
   "id": "professional-surfing",
   "metadata": {
    "id": "professional-surfing",
    "scrolled": true
   },
   "outputs": [],
   "source": [
    "# Imprimir los nombres e IDs de los 20 principales artículos reordenados\n",
    "print(\"Los 20 principales artículos que se vuelven a pedir con mayor frecuencia:\")\n",
    "print(top_20_productos_reordenados)"
   ]
  },
  {
   "cell_type": "code",
   "execution_count": null,
   "id": "48dd3658",
   "metadata": {
    "id": "48dd3658"
   },
   "outputs": [],
   "source": []
  },
  {
   "cell_type": "markdown",
   "id": "80e70c74",
   "metadata": {
    "id": "80e70c74"
   },
   "source": [
    "Escribe aquí tus conclusiones: Esta información es muy valiosa ya que se puede ver claramente cuales son las preferencias que tienen el cliente y de esta manera avisar a los proveedores con que artículos contar más para abastecer a mayor número de clientes. Este básicamente sería el punto fuerte del negocio porque es lo que más se demanda. "
   ]
  },
  {
   "cell_type": "markdown",
   "id": "9d312b14",
   "metadata": {
    "id": "9d312b14"
   },
   "source": [
    "### [C3] Para cada producto, ¿cuál es la proporción de las veces que se pide y que se vuelve a pedir?"
   ]
  },
  {
   "cell_type": "code",
   "execution_count": null,
   "id": "8ae9f4b1",
   "metadata": {
    "id": "8ae9f4b1"
   },
   "outputs": [],
   "source": [
    "# Para cada producto, ¿cuál es la tasa de repetición del pedido (número de repeticiones de pedido/total de pedidos?\n",
    "# Agrupar los datos por product_id\n",
    "grupo_productos = df_5.groupby('product_id')\n",
    "\n",
    "#Contar el número total de pedidos para cada producto\n",
    "total_pedidos_por_producto = grupo_productos['order_id'].nunique()\n",
    "\n",
    "#Contar el número total de repeticiones de pedido para cada producto\n",
    "total_repeticiones_por_producto = grupo_productos['reordered'].sum()\n",
    "\n",
    "# Paso 4: Calcular la tasa de repetición del pedido para cada producto\n",
    "tasa_repeticion_por_producto = total_repeticiones_por_producto / total_pedidos_por_producto\n",
    "\n",
    "# Mostrar las tasas de repetición del pedido para cada producto\n",
    "print(tasa_repeticion_por_producto)"
   ]
  },
  {
   "cell_type": "code",
   "execution_count": null,
   "id": "103e7fe1",
   "metadata": {
    "id": "103e7fe1"
   },
   "outputs": [],
   "source": []
  },
  {
   "cell_type": "code",
   "execution_count": null,
   "id": "social-individual",
   "metadata": {
    "id": "social-individual"
   },
   "outputs": [],
   "source": []
  },
  {
   "cell_type": "markdown",
   "id": "I10dEIAyldcO",
   "metadata": {
    "id": "I10dEIAyldcO"
   },
   "source": [
    "Escribe aquí tus conclusiones: Con esta información presentada, podemos definir que en cuanto mayor sea la tasa de repeticion por producto, es decir que se aproxime al 1, se puede definir cual de todos los productos enlistados son los que tienen mayor popularidad en el mercado. Esto va mucho de la mano con el análisis del problema anterior ya que con estos dos se pueden realizar estrategias de marketing para que aquellos productos con tasas bajas darles seguimiento del porque no estan siendo tan consumidos por los usuarios. "
   ]
  },
  {
   "cell_type": "markdown",
   "id": "subject-boxing",
   "metadata": {
    "id": "subject-boxing"
   },
   "source": [
    "### [C4] Para cada cliente, ¿qué proporción de sus productos ya los había pedido?"
   ]
  },
  {
   "cell_type": "code",
   "execution_count": null,
   "id": "medical-couple",
   "metadata": {
    "id": "medical-couple",
    "scrolled": true
   },
   "outputs": [],
   "source": [
    "# Para cada cliente, ¿qué proporción de los productos que pidió ya los había pedido? Calcula la tasa de repetición de pedido para cada usuario en lugar de para cada producto.\n",
    "#Es necesario hacer un merge entre el df_1 y df_5 combine el user_id con order_id para despues obtener para cada cliente la proporción de sus productos ya los había pedido      \n",
    "\n",
    "#Realizar el merge entre df_1 y df_5\n",
    "df_merged = pd.merge(df_1, df_5, on='order_id', how='inner')\n",
    "\n",
    "#Agrupar los datos por user_id y order_id\n",
    "grupo_clientes_pedidos = df_merged.groupby(['user_id', 'order_id'])\n",
    "\n",
    "#Calcular el número total de productos distintos que cada cliente ha pedido\n",
    "total_productos_distintos_por_cliente = grupo_clientes_pedidos['product_id'].nunique().reset_index()\n",
    "\n",
    "#Calcular el número total de productos que cada cliente ha vuelto a pedir\n",
    "total_productos_repetidos_por_cliente = grupo_clientes_pedidos['reordered'].sum().reset_index()\n",
    "\n",
    "#Calcular la proporción de productos que cada cliente ha vuelto a pedir en comparación con el número total de productos distintos que ha pedido\n",
    "proporcion_productos_repetidos_por_cliente = total_productos_repetidos_por_cliente.merge(total_productos_distintos_por_cliente, on=['user_id', 'order_id'])\n",
    "proporcion_productos_repetidos_por_cliente['proporcion_repetidos'] = proporcion_productos_repetidos_por_cliente['reordered'] / proporcion_productos_repetidos_por_cliente['product_id']\n",
    "\n",
    "# Mostrar la proporción de productos repetidos por cliente\n",
    "print(proporcion_productos_repetidos_por_cliente)"
   ]
  },
  {
   "cell_type": "code",
   "execution_count": null,
   "id": "8892e4b4",
   "metadata": {
    "id": "8892e4b4"
   },
   "outputs": [],
   "source": []
  },
  {
   "cell_type": "markdown",
   "id": "BgJSvXDsleXz",
   "metadata": {
    "id": "BgJSvXDsleXz"
   },
   "source": [
    "Escribe aquí tus conclusiones: Como ya se había mencionado anteriormente, entre más cercana sea la tasa a 1 se puede definir que productos son los de mayor interés para un usuario en específico. Esta información ayuda a saber que es lo que se le puede ofrecer como nuevos prodcutos a cada usuario en relación con el tipo de productos que compra. "
   ]
  },
  {
   "cell_type": "markdown",
   "id": "92d35137",
   "metadata": {
    "id": "92d35137"
   },
   "source": [
    "### [C5] ¿Cuáles son los 20 principales artículos que las personas ponen primero en sus carritos?"
   ]
  },
  {
   "cell_type": "code",
   "execution_count": null,
   "id": "0ae57274",
   "metadata": {
    "id": "0ae57274",
    "scrolled": true
   },
   "outputs": [],
   "source": [
    "#¿Cuáles son los 20 principales artículos que la gente pone primero en sus carritos (muestra las IDs de los productos, sus nombres, y el número de veces en que fueron el primer artículo en añadirse al carrito)?\n",
    "#Merge entre df_2 y df_5 porque df_2 que corresponde a products.csv y el df_5 que corresponde a order_products.csv si lo que quiero es que se combine el product id con product_name para despues obtener los 20 principales artículos que las personas ponen primero en sus carritos.\n",
    "\n",
    "#Merge entre df_2 y df_5\n",
    "df_merged = pd.merge(df_2, df_5, on='product_id', how='inner')\n",
    "\n",
    "#Filtrar los datos para incluir solo los productos añadidos primero al carrito\n",
    "df_first_cart = df_merged[df_merged['add_to_cart_order'] == 1]\n",
    "\n",
    "#Agrupar los datos por product_id y contar el número de veces que cada producto se añadió primero al carrito\n",
    "productos_primer_carrito = df_first_cart.groupby('product_id').size().reset_index(name='count')\n",
    "\n",
    "#Ordenar los resultados por el recuento en orden descendente y seleccionar los 20 primeros productos\n",
    "top_20_productos_primer_carrito = productos_primer_carrito.sort_values(by='count', ascending=False).head(20)\n",
    "\n",
    "#Realizar un merge con df_2 para obtener los nombres de los productos\n",
    "top_20_productos_primer_carrito_con_nombres = pd.merge(top_20_productos_primer_carrito, df_2, on='product_id', how='left')\n",
    "\n",
    "# Mostrar los 20 principales productos que se ponen primero en los carritos con IDs, nombres y número de veces que fueron el primer artículo\n",
    "print(top_20_productos_primer_carrito_con_nombres[['product_id', 'product_name', 'count']])"
   ]
  },
  {
   "cell_type": "code",
   "execution_count": null,
   "id": "forty-netherlands",
   "metadata": {
    "id": "forty-netherlands",
    "scrolled": true
   },
   "outputs": [],
   "source": []
  },
  {
   "cell_type": "markdown",
   "id": "bf961d5d",
   "metadata": {
    "id": "08e41ec2"
   },
   "source": [
    "<div class=\"alert alert-block alert-success\">\n",
    "<b>Comentario del revisor</b> <a class=\"tocSkip\"></a>\n",
    "    \n",
    "Muy buen trabajo en esta sección `C`.\n",
    "</div>"
   ]
  },
  {
   "cell_type": "markdown",
   "id": "28ce9872",
   "metadata": {
    "id": "28ce9872"
   },
   "source": [
    "Escribe aquí tus conclusiones: Con base en la información previa, es importante comprender los 20 principales artículos que la gente pone primero en sus carritos, las empresas pueden adaptar sus estrategias de marketing y gestión de inventario para satisfacer las necesidades y preferencias de los clientes de manera más efectiva, lo que puede conducir a una mejor experiencia de compra y mayores ventas."
   ]
  },
  {
   "cell_type": "markdown",
   "id": "uITbFCEoDosC",
   "metadata": {
    "id": "uITbFCEoDosC"
   },
   "source": [
    "### Conclusion general del proyecto:"
   ]
  },
  {
   "cell_type": "code",
   "execution_count": null,
   "id": "Nk-4GS7mDwqY",
   "metadata": {
    "id": "Nk-4GS7mDwqY"
   },
   "outputs": [],
   "source": [
    "print('Después de un análisis exhaustivo de las preferencias de los usuarios basado en el primer producto agregado a sus carritos, se identificaron claramente los productos más populares. Esta información es crucial para desarrollar estrategias de marketing más efectivas y optimizar el inventario para satisfacer las demandas de los clientes. Utilizar datos para comprender las preferencias de los clientes es fundamental para aumentar la satisfacción de los clientes y mejorar el rendimiento general de este negocio. ')"
   ]
  },
  {
   "cell_type": "markdown",
   "id": "2113f6e8",
   "metadata": {},
   "source": [
    "<div class=\"alert alert-block alert-danger\">\n",
    "    \n",
    "# Comentarios generales\n",
    "<b>Comentario del revisor</b> <a class=\"tocSkip\"></a>\n",
    "    \n",
    "Gran trabajo, Ilse. Nos quedan solo algunos elementos por corregir. He dejado comentarios a lo largo del documento para ello.\n",
    "</div>"
   ]
  },
  {
   "cell_type": "markdown",
   "id": "7ca2cba6",
   "metadata": {},
   "source": [
    "<div class=\"alert alert-block alert-danger\">\n",
    "    \n",
    "# Comentarios generales\n",
    "<b>Comentario del revisor</b> <a class=\"tocSkip\"></a>\n",
    "\n",
    "Nos queda solo un elemento por corregir.\n",
    "</div>"
   ]
  },
  {
   "cell_type": "markdown",
   "id": "d1662c50",
   "metadata": {},
   "source": [
    "<div class=\"alert alert-block alert-success\">\n",
    "    \n",
    "# Comentarios generales\n",
    "<b>Comentario del revisor</b> <a class=\"tocSkip\"></a>\n",
    "\n",
    "Todo corregido. Has aprobado un nuevo proyecto. ¡Felicitaciones!\n",
    "</div>"
   ]
  }
 ],
 "metadata": {
  "colab": {
   "provenance": []
  },
  "kernelspec": {
   "display_name": "Python 3 (ipykernel)",
   "language": "python",
   "name": "python3"
  },
  "language_info": {
   "codemirror_mode": {
    "name": "ipython",
    "version": 3
   },
   "file_extension": ".py",
   "mimetype": "text/x-python",
   "name": "python",
   "nbconvert_exporter": "python",
   "pygments_lexer": "ipython3",
   "version": "3.9.5"
  },
  "toc": {
   "base_numbering": 1,
   "nav_menu": {},
   "number_sections": true,
   "sideBar": true,
   "skip_h1_title": true,
   "title_cell": "Table of Contents",
   "title_sidebar": "Contents",
   "toc_cell": false,
   "toc_position": {},
   "toc_section_display": true,
   "toc_window_display": false
  },
  "vscode": {
   "interpreter": {
    "hash": "01a7be9ec63e704a62cefc5fe7a4756944464ee731be31632bdf42a4cb4688cf"
   }
  }
 },
 "nbformat": 4,
 "nbformat_minor": 5
}
