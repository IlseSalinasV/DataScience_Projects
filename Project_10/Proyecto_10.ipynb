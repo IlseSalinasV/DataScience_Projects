{
 "cells": [
  {
   "cell_type": "markdown",
   "metadata": {},
   "source": [
    "# Hola Ilse! <a class=\"tocSkip\"></a>\n",
    "\n",
    "Mi nombre es Oscar Flores y tengo el gusto de revisar tu proyecto. Si tienes algún comentario que quieras agregar en tus respuestas te puedes referir a mi como Oscar, no hay problema que me trates de tú.\n",
    "\n",
    "Si veo un error en la primera revisión solamente lo señalaré y dejaré que tú encuentres de qué se trata y cómo arreglarlo. Debo prepararte para que te desempeñes como especialista en Data, en un trabajo real, el responsable a cargo tuyo hará lo mismo. Si aún tienes dificultades para resolver esta tarea, te daré indicaciones más precisas en una siguiente iteración.\n",
    "\n",
    "Te dejaré mis comentarios más abajo - **por favor, no los muevas, modifiques o borres**\n",
    "\n",
    "Comenzaré mis comentarios con un resumen de los puntos que están bien, aquellos que debes corregir y aquellos que puedes mejorar. Luego deberás revisar todo el notebook para leer mis comentarios, los cuales estarán en rectángulos de color verde, amarillo o rojo como siguen:\n",
    "\n",
    "<div class=\"alert alert-block alert-success\">\n",
    "<b>Comentario de Reviewer</b> <a class=\"tocSkip\"></a>\n",
    "    \n",
    "Muy bien! Toda la respuesta fue lograda satisfactoriamente.\n",
    "</div>\n",
    "\n",
    "<div class=\"alert alert-block alert-warning\">\n",
    "<b>Comentario de Reviewer</b> <a class=\"tocSkip\"></a>\n",
    "\n",
    "Existen detalles a mejorar. Existen recomendaciones.\n",
    "</div>\n",
    "\n",
    "<div class=\"alert alert-block alert-danger\">\n",
    "\n",
    "<b>Comentario de Reviewer</b> <a class=\"tocSkip\"></a>\n",
    "\n",
    "Se necesitan correcciones en el bloque. El trabajo no puede ser aceptado con comentarios en rojo sin solucionar.\n",
    "</div>\n",
    "\n",
    "Cualquier comentario que quieras agregar entre iteraciones de revisión lo puedes hacer de la siguiente manera:\n",
    "\n",
    "<div class=\"alert alert-block alert-info\">\n",
    "<b>Respuesta estudiante.</b> <a class=\"tocSkip\"></a>\n",
    "</div>\n"
   ]
  },
  {
   "cell_type": "markdown",
   "metadata": {},
   "source": [
    "## Resumen de la revisión 1 <a class=\"tocSkip\"></a>"
   ]
  },
  {
   "cell_type": "markdown",
   "metadata": {},
   "source": [
    "<div class=\"alert alert-block alert-danger\">\n",
    "<b>Comentario de Reviewer</b> <a class=\"tocSkip\"></a>\n",
    "\n",
    "Buen trabajo Ilse, tu notebook está correcto excepto en la parte del cálculo de beneficio y bootstrapping. Te dejé comentarios en esas secciones para que realices las correcciones correspondientes.\n",
    "    \n",
    "Saludos!    \n",
    "\n",
    "</div>"
   ]
  },
  {
   "cell_type": "markdown",
   "metadata": {},
   "source": [
    "## Resumen de la revisión 2 <a class=\"tocSkip\"></a>"
   ]
  },
  {
   "cell_type": "markdown",
   "metadata": {},
   "source": [
    "<div class=\"alert alert-block alert-success\">\n",
    "<b>Comentario de Reviewer v2</b> <a class=\"tocSkip\"></a>\n",
    "\n",
    "Bien hecho Ilse, las correcciones realizadas están muy bien. Has completado el notebook, no tengo más comentarios realizar, está aprobado.\n",
    "    \n",
    "Saludos!    \n",
    "\n",
    "</div>"
   ]
  },
  {
   "cell_type": "markdown",
   "metadata": {},
   "source": [
    "----"
   ]
  },
  {
   "cell_type": "markdown",
   "metadata": {},
   "source": [
    "# Proyecto Sprint 10 - Ilse Salinas\n",
    "## Descripción general\n",
    "Trabajas en la compañía de extracción de petróleo OilyGiant. Tu tarea es encontrar los mejores lugares donde abrir 200 pozos nuevos de petróleo.\n",
    "\n",
    "Para completar esta tarea, tendrás que realizar los siguientes pasos:\n",
    "- Leer los archivos con los parámetros recogidos de pozos petrolíferos en la región seleccionada: calidad de crudo y volumen de reservas.\n",
    "- Crear un modelo para predecir el volumen de reservas en pozos nuevos.\n",
    "- Elegir los pozos petrolíferos que tienen los valores estimados más altos.\n",
    "- Elegir la región con el beneficio total más alto para los pozos petrolíferos seleccionados.\n",
    "\n",
    "Tienes datos sobre muestras de crudo de tres regiones. Ya se conocen los parámetros de cada pozo petrolero de la región. Crea un modelo que ayude a elegir la región con el mayor margen de beneficio. Analiza los beneficios y riesgos potenciales utilizando la técnica bootstrapping."
   ]
  },
  {
   "cell_type": "markdown",
   "metadata": {},
   "source": [
    "**Condiciones**\n",
    "\n",
    "- Solo se debe usar la regresión lineal para el entrenamiento del modelo.\n",
    "- Al explorar la región, se lleva a cabo un estudio de 500 puntos con la selección de los mejores 200 puntos para el cálculo del beneficio.\n",
    "- El presupuesto para el desarrollo de 200 pozos petroleros es de 100 millones de dólares.\n",
    "- Un barril de materias primas genera 4.5 USD de ingresos. El ingreso de una unidad de producto es de 4500 dólares (el volumen de reservas está expresado en miles de barriles).\n",
    "- Después de la evaluación de riesgo, mantén solo las regiones con riesgo de pérdidas inferior al 2.5%. De las que se ajustan a los criterios, se debe seleccionar la región con el beneficio promedio más alto.\n",
    "\n",
    "Los datos son sintéticos: los detalles del contrato y las características del pozo no se publican."
   ]
  },
  {
   "cell_type": "markdown",
   "metadata": {},
   "source": [
    "**Descripción de datos**\n",
    "\n",
    "Los datos de exploración geológica de las tres regiones se almacenan en archivos:\n",
    "- geo_data_0.csv.\n",
    "- geo_data_1.csv.\n",
    "- geo_data_2.csv.\n",
    "- id — identificador único de pozo de petróleo\n",
    "- f0, f1, f2 — tres características de los puntos (su significado específico no es importante, pero las características en sí son significativas)\n",
    "- product — volumen de reservas en el pozo de petróleo (miles de barriles)."
   ]
  },
  {
   "cell_type": "markdown",
   "metadata": {},
   "source": [
    "### Preprocesamiento de la información"
   ]
  },
  {
   "cell_type": "markdown",
   "metadata": {},
   "source": [
    "En este primer paso se descargarán y prepararán los datos de cada dataframe del proyecto con el fin de verificar que la información no cuente con errores o esté duplicada. A continuación se importarán las liberías que se estarán ocupando a lo largo del proyecto junto con la información de cada dataframe desplegada. "
   ]
  },
  {
   "cell_type": "code",
   "execution_count": 1,
   "metadata": {},
   "outputs": [],
   "source": [
    "# Importar las librerias\n",
    "import pandas as pd\n",
    "import numpy as np\n",
    "\n",
    "import matplotlib.pyplot as plt\n",
    "import seaborn as sns\n",
    "\n",
    "from sklearn.model_selection import train_test_split, cross_val_score\n",
    "from sklearn.linear_model import LinearRegression\n",
    "from sklearn.metrics import mean_squared_error\n",
    "from sklearn.preprocessing import StandardScaler\n",
    "from scipy.stats import bootstrap"
   ]
  },
  {
   "cell_type": "code",
   "execution_count": 2,
   "metadata": {},
   "outputs": [
    {
     "name": "stdout",
     "output_type": "stream",
     "text": [
      "<class 'pandas.core.frame.DataFrame'>\n",
      "RangeIndex: 100000 entries, 0 to 99999\n",
      "Data columns (total 5 columns):\n",
      " #   Column   Non-Null Count   Dtype  \n",
      "---  ------   --------------   -----  \n",
      " 0   id       100000 non-null  object \n",
      " 1   f0       100000 non-null  float64\n",
      " 2   f1       100000 non-null  float64\n",
      " 3   f2       100000 non-null  float64\n",
      " 4   product  100000 non-null  float64\n",
      "dtypes: float64(4), object(1)\n",
      "memory usage: 3.8+ MB\n",
      "\n",
      "<class 'pandas.core.frame.DataFrame'>\n",
      "RangeIndex: 100000 entries, 0 to 99999\n",
      "Data columns (total 5 columns):\n",
      " #   Column   Non-Null Count   Dtype  \n",
      "---  ------   --------------   -----  \n",
      " 0   id       100000 non-null  object \n",
      " 1   f0       100000 non-null  float64\n",
      " 2   f1       100000 non-null  float64\n",
      " 3   f2       100000 non-null  float64\n",
      " 4   product  100000 non-null  float64\n",
      "dtypes: float64(4), object(1)\n",
      "memory usage: 3.8+ MB\n",
      "\n",
      "<class 'pandas.core.frame.DataFrame'>\n",
      "RangeIndex: 100000 entries, 0 to 99999\n",
      "Data columns (total 5 columns):\n",
      " #   Column   Non-Null Count   Dtype  \n",
      "---  ------   --------------   -----  \n",
      " 0   id       100000 non-null  object \n",
      " 1   f0       100000 non-null  float64\n",
      " 2   f1       100000 non-null  float64\n",
      " 3   f2       100000 non-null  float64\n",
      " 4   product  100000 non-null  float64\n",
      "dtypes: float64(4), object(1)\n",
      "memory usage: 3.8+ MB\n",
      "\n"
     ]
    },
    {
     "data": {
      "text/html": [
       "<div>\n",
       "<style scoped>\n",
       "    .dataframe tbody tr th:only-of-type {\n",
       "        vertical-align: middle;\n",
       "    }\n",
       "\n",
       "    .dataframe tbody tr th {\n",
       "        vertical-align: top;\n",
       "    }\n",
       "\n",
       "    .dataframe thead th {\n",
       "        text-align: right;\n",
       "    }\n",
       "</style>\n",
       "<table border=\"1\" class=\"dataframe\">\n",
       "  <thead>\n",
       "    <tr style=\"text-align: right;\">\n",
       "      <th></th>\n",
       "      <th>id</th>\n",
       "      <th>f0</th>\n",
       "      <th>f1</th>\n",
       "      <th>f2</th>\n",
       "      <th>product</th>\n",
       "    </tr>\n",
       "  </thead>\n",
       "  <tbody>\n",
       "    <tr>\n",
       "      <th>0</th>\n",
       "      <td>txEyH</td>\n",
       "      <td>0.705745</td>\n",
       "      <td>-0.497823</td>\n",
       "      <td>1.221170</td>\n",
       "      <td>105.280062</td>\n",
       "    </tr>\n",
       "    <tr>\n",
       "      <th>1</th>\n",
       "      <td>2acmU</td>\n",
       "      <td>1.334711</td>\n",
       "      <td>-0.340164</td>\n",
       "      <td>4.365080</td>\n",
       "      <td>73.037750</td>\n",
       "    </tr>\n",
       "    <tr>\n",
       "      <th>2</th>\n",
       "      <td>409Wp</td>\n",
       "      <td>1.022732</td>\n",
       "      <td>0.151990</td>\n",
       "      <td>1.419926</td>\n",
       "      <td>85.265647</td>\n",
       "    </tr>\n",
       "    <tr>\n",
       "      <th>3</th>\n",
       "      <td>iJLyR</td>\n",
       "      <td>-0.032172</td>\n",
       "      <td>0.139033</td>\n",
       "      <td>2.978566</td>\n",
       "      <td>168.620776</td>\n",
       "    </tr>\n",
       "    <tr>\n",
       "      <th>4</th>\n",
       "      <td>Xdl7t</td>\n",
       "      <td>1.988431</td>\n",
       "      <td>0.155413</td>\n",
       "      <td>4.751769</td>\n",
       "      <td>154.036647</td>\n",
       "    </tr>\n",
       "  </tbody>\n",
       "</table>\n",
       "</div>"
      ],
      "text/plain": [
       "      id        f0        f1        f2     product\n",
       "0  txEyH  0.705745 -0.497823  1.221170  105.280062\n",
       "1  2acmU  1.334711 -0.340164  4.365080   73.037750\n",
       "2  409Wp  1.022732  0.151990  1.419926   85.265647\n",
       "3  iJLyR -0.032172  0.139033  2.978566  168.620776\n",
       "4  Xdl7t  1.988431  0.155413  4.751769  154.036647"
      ]
     },
     "metadata": {},
     "output_type": "display_data"
    },
    {
     "data": {
      "text/html": [
       "<div>\n",
       "<style scoped>\n",
       "    .dataframe tbody tr th:only-of-type {\n",
       "        vertical-align: middle;\n",
       "    }\n",
       "\n",
       "    .dataframe tbody tr th {\n",
       "        vertical-align: top;\n",
       "    }\n",
       "\n",
       "    .dataframe thead th {\n",
       "        text-align: right;\n",
       "    }\n",
       "</style>\n",
       "<table border=\"1\" class=\"dataframe\">\n",
       "  <thead>\n",
       "    <tr style=\"text-align: right;\">\n",
       "      <th></th>\n",
       "      <th>id</th>\n",
       "      <th>f0</th>\n",
       "      <th>f1</th>\n",
       "      <th>f2</th>\n",
       "      <th>product</th>\n",
       "    </tr>\n",
       "  </thead>\n",
       "  <tbody>\n",
       "    <tr>\n",
       "      <th>0</th>\n",
       "      <td>kBEdx</td>\n",
       "      <td>-15.001348</td>\n",
       "      <td>-8.276000</td>\n",
       "      <td>-0.005876</td>\n",
       "      <td>3.179103</td>\n",
       "    </tr>\n",
       "    <tr>\n",
       "      <th>1</th>\n",
       "      <td>62mP7</td>\n",
       "      <td>14.272088</td>\n",
       "      <td>-3.475083</td>\n",
       "      <td>0.999183</td>\n",
       "      <td>26.953261</td>\n",
       "    </tr>\n",
       "    <tr>\n",
       "      <th>2</th>\n",
       "      <td>vyE1P</td>\n",
       "      <td>6.263187</td>\n",
       "      <td>-5.948386</td>\n",
       "      <td>5.001160</td>\n",
       "      <td>134.766305</td>\n",
       "    </tr>\n",
       "    <tr>\n",
       "      <th>3</th>\n",
       "      <td>KcrkZ</td>\n",
       "      <td>-13.081196</td>\n",
       "      <td>-11.506057</td>\n",
       "      <td>4.999415</td>\n",
       "      <td>137.945408</td>\n",
       "    </tr>\n",
       "    <tr>\n",
       "      <th>4</th>\n",
       "      <td>AHL4O</td>\n",
       "      <td>12.702195</td>\n",
       "      <td>-8.147433</td>\n",
       "      <td>5.004363</td>\n",
       "      <td>134.766305</td>\n",
       "    </tr>\n",
       "  </tbody>\n",
       "</table>\n",
       "</div>"
      ],
      "text/plain": [
       "      id         f0         f1        f2     product\n",
       "0  kBEdx -15.001348  -8.276000 -0.005876    3.179103\n",
       "1  62mP7  14.272088  -3.475083  0.999183   26.953261\n",
       "2  vyE1P   6.263187  -5.948386  5.001160  134.766305\n",
       "3  KcrkZ -13.081196 -11.506057  4.999415  137.945408\n",
       "4  AHL4O  12.702195  -8.147433  5.004363  134.766305"
      ]
     },
     "metadata": {},
     "output_type": "display_data"
    },
    {
     "data": {
      "text/html": [
       "<div>\n",
       "<style scoped>\n",
       "    .dataframe tbody tr th:only-of-type {\n",
       "        vertical-align: middle;\n",
       "    }\n",
       "\n",
       "    .dataframe tbody tr th {\n",
       "        vertical-align: top;\n",
       "    }\n",
       "\n",
       "    .dataframe thead th {\n",
       "        text-align: right;\n",
       "    }\n",
       "</style>\n",
       "<table border=\"1\" class=\"dataframe\">\n",
       "  <thead>\n",
       "    <tr style=\"text-align: right;\">\n",
       "      <th></th>\n",
       "      <th>id</th>\n",
       "      <th>f0</th>\n",
       "      <th>f1</th>\n",
       "      <th>f2</th>\n",
       "      <th>product</th>\n",
       "    </tr>\n",
       "  </thead>\n",
       "  <tbody>\n",
       "    <tr>\n",
       "      <th>0</th>\n",
       "      <td>fwXo0</td>\n",
       "      <td>-1.146987</td>\n",
       "      <td>0.963328</td>\n",
       "      <td>-0.828965</td>\n",
       "      <td>27.758673</td>\n",
       "    </tr>\n",
       "    <tr>\n",
       "      <th>1</th>\n",
       "      <td>WJtFt</td>\n",
       "      <td>0.262778</td>\n",
       "      <td>0.269839</td>\n",
       "      <td>-2.530187</td>\n",
       "      <td>56.069697</td>\n",
       "    </tr>\n",
       "    <tr>\n",
       "      <th>2</th>\n",
       "      <td>ovLUW</td>\n",
       "      <td>0.194587</td>\n",
       "      <td>0.289035</td>\n",
       "      <td>-5.586433</td>\n",
       "      <td>62.871910</td>\n",
       "    </tr>\n",
       "    <tr>\n",
       "      <th>3</th>\n",
       "      <td>q6cA6</td>\n",
       "      <td>2.236060</td>\n",
       "      <td>-0.553760</td>\n",
       "      <td>0.930038</td>\n",
       "      <td>114.572842</td>\n",
       "    </tr>\n",
       "    <tr>\n",
       "      <th>4</th>\n",
       "      <td>WPMUX</td>\n",
       "      <td>-0.515993</td>\n",
       "      <td>1.716266</td>\n",
       "      <td>5.899011</td>\n",
       "      <td>149.600746</td>\n",
       "    </tr>\n",
       "  </tbody>\n",
       "</table>\n",
       "</div>"
      ],
      "text/plain": [
       "      id        f0        f1        f2     product\n",
       "0  fwXo0 -1.146987  0.963328 -0.828965   27.758673\n",
       "1  WJtFt  0.262778  0.269839 -2.530187   56.069697\n",
       "2  ovLUW  0.194587  0.289035 -5.586433   62.871910\n",
       "3  q6cA6  2.236060 -0.553760  0.930038  114.572842\n",
       "4  WPMUX -0.515993  1.716266  5.899011  149.600746"
      ]
     },
     "metadata": {},
     "output_type": "display_data"
    }
   ],
   "source": [
    "# Cargar los datos\n",
    "data_0 = pd.read_csv('/datasets/geo_data_0.csv')\n",
    "data_1 = pd.read_csv('/datasets/geo_data_1.csv')\n",
    "data_2 = pd.read_csv('/datasets/geo_data_2.csv')\n",
    "\n",
    "# Imprimir informacion de los datos\n",
    "data_0.info()\n",
    "print()\n",
    "data_1.info()\n",
    "print()\n",
    "data_2.info()\n",
    "print()\n",
    "\n",
    "# Mostramos las primeras filas de cada conjunto de datos para verificar su contenido\n",
    "display(data_0.head(), data_1.head(), data_2.head())"
   ]
  },
  {
   "cell_type": "markdown",
   "metadata": {},
   "source": [
    "Se puede observar que cada uno de los dataframes contiene información de 100,000 pozos siendo un total de 300,000 pozos de los cuales se despliega información sobre su identificador único y características relevantes para su elección. Hay que verificar si en cada dataframe existen pozos cuyo identificador esté repetido, pero antes hay que pasar estos nombres a minúsculas para realizar dicha verificación además de que de esta forma es más legible. "
   ]
  },
  {
   "cell_type": "code",
   "execution_count": 3,
   "metadata": {},
   "outputs": [
    {
     "name": "stdout",
     "output_type": "stream",
     "text": [
      "Se han convertido los datos de las columnas id de cada dataframe a minuscula.\n"
     ]
    }
   ],
   "source": [
    "# Pasamos los identificadores a minusuclas de todos los dataframes\n",
    "data_0['id'] = data_0['id'].str.lower()\n",
    "data_1['id'] = data_1['id'].str.lower()\n",
    "data_2['id'] = data_2['id'].str.lower()\n",
    "\n",
    "print('Se han convertido los datos de las columnas id de cada dataframe a minuscula.') "
   ]
  },
  {
   "cell_type": "markdown",
   "metadata": {},
   "source": [
    "<div class=\"alert alert-block alert-warning\">\n",
    "<b>Comentario de Reviewer</b> <a class=\"tocSkip\"></a>\n",
    "\n",
    "Ok, pero la columna id no tiene mucha utilidad. De hecho, creo que este cambio no le hace muy bien dado que son códigos donde al parecer las mayúsculas importan. No es buena idea modificar la data de esta forma sin una buena razón para ello.\n",
    "\n",
    "</div>"
   ]
  },
  {
   "cell_type": "markdown",
   "metadata": {},
   "source": [
    "#### Dataframe data_0"
   ]
  },
  {
   "cell_type": "markdown",
   "metadata": {},
   "source": [
    "En la siguiente sección del preprocesamiento de los datos de cada dataframe, se estará revisando si existen anomalías o errores en la información que pudieran repercutir en la generación del modelo y resultados. Como se mencionó anteriormente, primero se buscará en cada dataframe si existen valores nulos o repetidos y también se analizarán los datos mediante gráficas para observar como se distribuyen e identificar valores atípicos para descartalos."
   ]
  },
  {
   "cell_type": "code",
   "execution_count": 4,
   "metadata": {},
   "outputs": [
    {
     "name": "stdout",
     "output_type": "stream",
     "text": [
      "No hay valores nulos en data_0.\n",
      "No hay filas duplicadas en data_0.\n"
     ]
    }
   ],
   "source": [
    "# Verificar si hay valores nulos en data_0\n",
    "if data_0.isnull().values.any():\n",
    "    print(\"Hay valores nulos en data_0.\")\n",
    "else:\n",
    "    print(\"No hay valores nulos en data_0.\")\n",
    "\n",
    "# Verificar duplicados en data_0\n",
    "if data_0.duplicated().any():\n",
    "    print(\"Hay filas duplicadas en data_0.\")\n",
    "else:\n",
    "    print(\"No hay filas duplicadas en data_0.\")"
   ]
  },
  {
   "cell_type": "code",
   "execution_count": 5,
   "metadata": {},
   "outputs": [
    {
     "data": {
      "image/png": "[encoded data removed]",
      "text/plain": [
       "<Figure size 800x600 with 1 Axes>"
      ]
     },
     "metadata": {},
     "output_type": "display_data"
    }
   ],
   "source": [
    "# Histograma del volumen de reservas\n",
    "plt.figure(figsize=(8, 6))\n",
    "plt.hist(data_0['product'], bins=30, edgecolor='black')\n",
    "plt.title('Distribución del Volumen de Reservas - Región 0')\n",
    "plt.xlabel('Volumen de Reservas (miles de barriles)')\n",
    "plt.ylabel('Frecuencia')\n",
    "plt.grid(True)\n",
    "plt.show()"
   ]
  },
  {
   "cell_type": "code",
   "execution_count": 6,
   "metadata": {},
   "outputs": [
    {
     "name": "stdout",
     "output_type": "stream",
     "text": [
      "Valor mínimo en 'product': 0.0\n",
      "Valor máximo en 'product': 185.3643474222929\n",
      "Valor promedio en 'product': 92.50000000000001\n"
     ]
    }
   ],
   "source": [
    "# Encontrar el valor más pequeño (mínimo) en la columna 'product'\n",
    "min_value = data_0['product'].min()\n",
    "\n",
    "# Encontrar el valor más grande (máximo) en la columna 'product'\n",
    "max_value = data_0['product'].max()\n",
    "\n",
    "# Encontrar el valor promedio en la columna 'product'\n",
    "avg_value = data_0['product'].mean()\n",
    "\n",
    "print(f\"Valor mínimo en 'product': {min_value}\")\n",
    "print(f\"Valor máximo en 'product': {max_value}\")\n",
    "print(f\"Valor promedio en 'product': {avg_value}\")"
   ]
  },
  {
   "cell_type": "code",
   "execution_count": 7,
   "metadata": {},
   "outputs": [
    {
     "data": {
      "image/png": "[encoded data removed]",
      "text/plain": [
       "<Figure size 800x600 with 1 Axes>"
      ]
     },
     "metadata": {},
     "output_type": "display_data"
    }
   ],
   "source": [
    "# Crear el boxplot\n",
    "plt.figure(figsize=(8, 6))\n",
    "sns.boxplot(x=data_0['product'])\n",
    "\n",
    "# Añadir título y etiquetas\n",
    "plt.title('Boxplot de Variable de Interés')\n",
    "plt.xlabel('Variable')\n",
    "plt.ylabel('Volumen de Reservas')\n",
    "\n",
    "# Mostrar el gráfico\n",
    "plt.show()"
   ]
  },
  {
   "cell_type": "code",
   "execution_count": 8,
   "metadata": {},
   "outputs": [
    {
     "name": "stdout",
     "output_type": "stream",
     "text": [
      "Límite inferior: -51.60236680760907, Límite superior: 236.66396243896986\n",
      "Se han removido del dataframe los valores atipicos.\n"
     ]
    }
   ],
   "source": [
    "# Calcular cuartiles\n",
    "Q1 = data_0['product'].quantile(0.25)\n",
    "Q3 = data_0['product'].quantile(0.75)\n",
    "\n",
    "# Calcular el rango intercuartílico (IQR)\n",
    "IQR = Q3 - Q1\n",
    "\n",
    "# Definir límites inferior y superior para identificar valores atípicos\n",
    "limite_inferior = Q1 - 1.5 * IQR\n",
    "limite_superior = Q3 + 1.5 * IQR\n",
    "\n",
    "print(f\"Límite inferior: {limite_inferior}, Límite superior: {limite_superior}\")\n",
    "\n",
    "# Identificar valores atípicos\n",
    "valores_atipicos = data_0[(data_0['product'] < limite_inferior) | (data_0['product'] > limite_superior)]\n",
    "\n",
    "# Remover valores atípicos del DataFrame original\n",
    "data_0 = data_0[(data_0['product'] >= limite_inferior) & (data_0['product'] <= limite_superior)]\n",
    "print('Se han removido del dataframe los valores atipicos.')"
   ]
  },
  {
   "cell_type": "markdown",
   "metadata": {},
   "source": [
    "#### Dataframe data_1"
   ]
  },
  {
   "cell_type": "code",
   "execution_count": 9,
   "metadata": {},
   "outputs": [
    {
     "name": "stdout",
     "output_type": "stream",
     "text": [
      "No hay valores nulos en data_1.\n",
      "No hay filas duplicadas en data_1.\n"
     ]
    }
   ],
   "source": [
    "# Verificar si hay valores nulos en data_1\n",
    "if data_1.isnull().values.any():\n",
    "    print(\"Hay valores nulos en data_1.\")\n",
    "else:\n",
    "    print(\"No hay valores nulos en data_1.\")\n",
    "\n",
    "# Verificar duplicados en data_1\n",
    "if data_1.duplicated().any():\n",
    "    print(\"Hay filas duplicadas en data_1.\")\n",
    "else:\n",
    "    print(\"No hay filas duplicadas en data_1.\")"
   ]
  },
  {
   "cell_type": "code",
   "execution_count": 10,
   "metadata": {},
   "outputs": [
    {
     "data": {
      "image/png": "[encoded data removed]",
      "text/plain": [
       "<Figure size 800x600 with 1 Axes>"
      ]
     },
     "metadata": {},
     "output_type": "display_data"
    }
   ],
   "source": [
    "# Histograma del volumen de reservas\n",
    "plt.figure(figsize=(8, 6))\n",
    "plt.hist(data_1['product'], bins=30, edgecolor='black')\n",
    "plt.title('Distribución del Volumen de Reservas - Región 1')\n",
    "plt.xlabel('Volumen de Reservas (miles de barriles)')\n",
    "plt.ylabel('Frecuencia')\n",
    "plt.grid(True)\n",
    "plt.show()"
   ]
  },
  {
   "cell_type": "code",
   "execution_count": 11,
   "metadata": {},
   "outputs": [
    {
     "name": "stdout",
     "output_type": "stream",
     "text": [
      "Valor mínimo en 'product': 0.0\n",
      "Valor máximo en 'product': 137.94540774090564\n",
      "Valor promedio en 'product': 68.82500000000002\n"
     ]
    }
   ],
   "source": [
    "# Encontrar el valor más pequeño (mínimo) en la columna 'product'\n",
    "min_value = data_1['product'].min()\n",
    "\n",
    "# Encontrar el valor más grande (máximo) en la columna 'product'\n",
    "max_value = data_1['product'].max()\n",
    "\n",
    "# Encontrar el valor promedio en la columna 'product'\n",
    "avg_value = data_1['product'].mean()\n",
    "\n",
    "print(f\"Valor mínimo en 'product': {min_value}\")\n",
    "print(f\"Valor máximo en 'product': {max_value}\")\n",
    "print(f\"Valor promedio en 'product': {avg_value}\")"
   ]
  },
  {
   "cell_type": "code",
   "execution_count": 12,
   "metadata": {},
   "outputs": [
    {
     "data": {
      "image/png": "[encoded data removed]",
      "text/plain": [
       "<Figure size 800x600 with 1 Axes>"
      ]
     },
     "metadata": {},
     "output_type": "display_data"
    }
   ],
   "source": [
    "# Crear el boxplot\n",
    "plt.figure(figsize=(8, 6))\n",
    "sns.boxplot(x=data_1['product'])\n",
    "\n",
    "# Añadir título y etiquetas\n",
    "plt.title('Boxplot de Variable de Interés')\n",
    "plt.xlabel('Variable')\n",
    "plt.ylabel('Volumen de Reservas')\n",
    "\n",
    "# Mostrar el gráfico\n",
    "plt.show()"
   ]
  },
  {
   "cell_type": "code",
   "execution_count": 13,
   "metadata": {},
   "outputs": [
    {
     "name": "stdout",
     "output_type": "stream",
     "text": [
      "Límite inferior: -94.33641361038892, Límite superior: 229.10271876808736\n",
      "Se han removido del dataframe los valores atipicos.\n"
     ]
    }
   ],
   "source": [
    "# Calcular cuartiles\n",
    "Q1 = data_1['product'].quantile(0.25)\n",
    "Q3 = data_1['product'].quantile(0.75)\n",
    "\n",
    "# Calcular el rango intercuartílico (IQR)\n",
    "IQR = Q3 - Q1\n",
    "\n",
    "# Definir límites inferior y superior para identificar valores atípicos\n",
    "limite_inferior = Q1 - 1.5 * IQR\n",
    "limite_superior = Q3 + 1.5 * IQR\n",
    "\n",
    "print(f\"Límite inferior: {limite_inferior}, Límite superior: {limite_superior}\")\n",
    "\n",
    "# Identificar valores atípicos\n",
    "valores_atipicos = data_1[(data_1['product'] < limite_inferior) | (data_1['product'] > limite_superior)]\n",
    "\n",
    "# Remover valores atípicos del DataFrame original\n",
    "data_1 = data_1[(data_0['product'] >= limite_inferior) & (data_1['product'] <= limite_superior)]\n",
    "print('Se han removido del dataframe los valores atipicos.')"
   ]
  },
  {
   "cell_type": "markdown",
   "metadata": {},
   "source": [
    "#### Dataframe data_2"
   ]
  },
  {
   "cell_type": "code",
   "execution_count": 14,
   "metadata": {},
   "outputs": [
    {
     "name": "stdout",
     "output_type": "stream",
     "text": [
      "No hay valores nulos en data_2.\n",
      "No hay filas duplicadas en data_2.\n"
     ]
    }
   ],
   "source": [
    "# Verificar si hay valores nulos en data_2\n",
    "if data_2.isnull().values.any():\n",
    "    print(\"Hay valores nulos en data_2.\")\n",
    "else:\n",
    "    print(\"No hay valores nulos en data_2.\")\n",
    "\n",
    "# Verificar duplicados en data_1\n",
    "if data_2.duplicated().any():\n",
    "    print(\"Hay filas duplicadas en data_2.\")\n",
    "else:\n",
    "    print(\"No hay filas duplicadas en data_2.\")"
   ]
  },
  {
   "cell_type": "code",
   "execution_count": 15,
   "metadata": {},
   "outputs": [
    {
     "data": {
      "image/png": "[encoded data removed]",
      "text/plain": [
       "<Figure size 800x600 with 1 Axes>"
      ]
     },
     "metadata": {},
     "output_type": "display_data"
    }
   ],
   "source": [
    "# Histograma del volumen de reservas\n",
    "plt.figure(figsize=(8, 6))\n",
    "plt.hist(data_2['product'], bins=30, edgecolor='black')\n",
    "plt.title('Distribución del Volumen de Reservas - Región 2')\n",
    "plt.xlabel('Volumen de Reservas (miles de barriles)')\n",
    "plt.ylabel('Frecuencia')\n",
    "plt.grid(True)\n",
    "plt.show()"
   ]
  },
  {
   "cell_type": "code",
   "execution_count": 16,
   "metadata": {},
   "outputs": [
    {
     "name": "stdout",
     "output_type": "stream",
     "text": [
      "Valor mínimo en 'product': 0.0\n",
      "Valor máximo en 'product': 190.0298383433513\n",
      "Valor promedio en 'product': 95.00000000000004\n"
     ]
    }
   ],
   "source": [
    "# Encontrar el valor más pequeño (mínimo) en la columna 'product'\n",
    "min_value = data_2['product'].min()\n",
    "\n",
    "# Encontrar el valor más grande (máximo) en la columna 'product'\n",
    "max_value = data_2['product'].max()\n",
    "\n",
    "# Encontrar el valor promedio en la columna 'product'\n",
    "avg_value = data_2['product'].mean()\n",
    "\n",
    "print(f\"Valor mínimo en 'product': {min_value}\")\n",
    "print(f\"Valor máximo en 'product': {max_value}\")\n",
    "print(f\"Valor promedio en 'product': {avg_value}\")"
   ]
  },
  {
   "cell_type": "code",
   "execution_count": 17,
   "metadata": {},
   "outputs": [
    {
     "data": {
      "image/png": "[encoded data removed]",
      "text/plain": [
       "<Figure size 800x600 with 1 Axes>"
      ]
     },
     "metadata": {},
     "output_type": "display_data"
    }
   ],
   "source": [
    "# Crear el boxplot\n",
    "plt.figure(figsize=(8, 6))\n",
    "sns.boxplot(x=data_2['product'])\n",
    "\n",
    "# Añadir título y etiquetas\n",
    "plt.title('Boxplot de Variable de Interés')\n",
    "plt.xlabel('Variable')\n",
    "plt.ylabel('Volumen de Reservas')\n",
    "\n",
    "# Mostrar el gráfico\n",
    "plt.show()"
   ]
  },
  {
   "cell_type": "code",
   "execution_count": 18,
   "metadata": {},
   "outputs": [
    {
     "name": "stdout",
     "output_type": "stream",
     "text": [
      "Límite inferior: -47.26643772727831, Límite superior: 237.31190538130107\n",
      "Se han removido del dataframe los valores atipicos.\n"
     ]
    }
   ],
   "source": [
    "# Calcular cuartiles\n",
    "Q1 = data_2['product'].quantile(0.25)\n",
    "Q3 = data_2['product'].quantile(0.75)\n",
    "\n",
    "# Calcular el rango intercuartílico (IQR)\n",
    "IQR = Q3 - Q1\n",
    "\n",
    "# Definir límites inferior y superior para identificar valores atípicos\n",
    "limite_inferior = Q1 - 1.5 * IQR\n",
    "limite_superior = Q3 + 1.5 * IQR\n",
    "\n",
    "print(f\"Límite inferior: {limite_inferior}, Límite superior: {limite_superior}\")\n",
    "\n",
    "# Identificar valores atípicos\n",
    "valores_atipicos = data_2[(data_2['product'] < limite_inferior) | (data_2['product'] > limite_superior)]\n",
    "\n",
    "# Remover valores atípicos del DataFrame original\n",
    "data_2 = data_2[(data_0['product'] >= limite_inferior) & (data_2['product'] <= limite_superior)]\n",
    "print('Se han removido del dataframe los valores atipicos.')"
   ]
  },
  {
   "cell_type": "markdown",
   "metadata": {},
   "source": [
    "<div class=\"alert alert-block alert-success\">\n",
    "<b>Comentario de Reviewer</b> <a class=\"tocSkip\"></a>\n",
    "\n",
    "Excelente, muy bien estos análisis, nos dan una idea muy completa de las features de los datos de cada región\n",
    "\n",
    "</div>"
   ]
  },
  {
   "cell_type": "markdown",
   "metadata": {},
   "source": [
    "### Generación del modelo de aprendizaje"
   ]
  },
  {
   "cell_type": "markdown",
   "metadata": {},
   "source": [
    "Después de revisar los dataframes con rigurosidad, podemos asegurar que los datos ya están preparados para poder entrar al modelo de aprendizaje el cual se estará utilizando el de regresión lineal. \n",
    "\n",
    "Para determinar cuál de las tres regiones (geo_data_0, geo_data_1, geo_data_2) es la más adecuada para la perforación de nuevos pozos, se debe seguir un enfoque sistemático que incluye la evaluación de la precisión del modelo, la rentabilidad y el riesgo en cada región. Por esta razón es necesario comparar los valores de RMSE entre las tres regiones ya que entre menor sea el RMSE indica que el modelo tiene menos dispersión y es más preciso.\n",
    "\n",
    "Al generar el modelo, es necesario definir lo que es el obejtivo y características del modelo siendo el objetivo el producto y las caracteristicas las columnas restantes. Cabe mencionar, que como estamos interesados en predecir el volumen de reservas (product) en nuevos pozos de petróleo basándonos en características geológicas (f0, f1, f2), el campo id no es necesario incluirlo como una característica en el modelo de regresión lineal. "
   ]
  },
  {
   "cell_type": "code",
   "execution_count": 19,
   "metadata": {},
   "outputs": [],
   "source": [
    "# Funcion para dividir los datos en conjuntos de entrenamiento (75%) y validación (25%)\n",
    "def split_data(data):\n",
    "    features = data.drop(['id', 'product'], axis=1)\n",
    "    target = data['product']\n",
    "    return train_test_split(features, target, test_size=0.25, random_state=42)\n",
    "\n",
    "train_features_0, valid_features_0, train_target_0, valid_target_0 = split_data(data_0)\n",
    "train_features_1, valid_features_1, train_target_1, valid_target_1 = split_data(data_1)\n",
    "train_features_2, valid_features_2, train_target_2, valid_target_2 = split_data(data_2)"
   ]
  },
  {
   "cell_type": "code",
   "execution_count": 20,
   "metadata": {},
   "outputs": [
    {
     "name": "stdout",
     "output_type": "stream",
     "text": [
      "Región 0 - Train features shape: (75000, 3), Train target shape: (75000,)\n",
      "Región 0 - Valid features shape: (25000, 3), Valid target shape: (25000,)\n",
      "Región 1 - Train features shape: (75000, 3), Train target shape: (75000,)\n",
      "Región 1 - Valid features shape: (25000, 3), Valid target shape: (25000,)\n",
      "Región 2 - Train features shape: (75000, 3), Train target shape: (75000,)\n",
      "Región 2 - Valid features shape: (25000, 3), Valid target shape: (25000,)\n"
     ]
    }
   ],
   "source": [
    "# División de datos para cada región\n",
    "train_features_0, valid_features_0, train_target_0, valid_target_0 = split_data(data_0)\n",
    "train_features_1, valid_features_1, train_target_1, valid_target_1 = split_data(data_1)\n",
    "train_features_2, valid_features_2, train_target_2, valid_target_2 = split_data(data_2)\n",
    "\n",
    "# Verificar las dimensiones de los conjuntos de entrenamiento y validación\n",
    "print(f\"Región 0 - Train features shape: {train_features_0.shape}, Train target shape: {train_target_0.shape}\")\n",
    "print(f\"Región 0 - Valid features shape: {valid_features_0.shape}, Valid target shape: {valid_target_0.shape}\")\n",
    "print(f\"Región 1 - Train features shape: {train_features_1.shape}, Train target shape: {train_target_1.shape}\")\n",
    "print(f\"Región 1 - Valid features shape: {valid_features_1.shape}, Valid target shape: {valid_target_1.shape}\")\n",
    "print(f\"Región 2 - Train features shape: {train_features_2.shape}, Train target shape: {train_target_2.shape}\")\n",
    "print(f\"Región 2 - Valid features shape: {valid_features_2.shape}, Valid target shape: {valid_target_2.shape}\")"
   ]
  },
  {
   "cell_type": "markdown",
   "metadata": {},
   "source": [
    "Unas vez divididos los conjuntos de entrenamiento y prueba de cada región, procedemos a realizar la generación del modelo considerando los siguentes pasos: escalamiento de características, validación cruzada, entrenamiento y evaluación del modelo. \n",
    "\n",
    "- Escalamiento de características: Primero, se escalan las características utilizando StandardScaler. Esto asegura que todas las características tengan la misma escala, lo cual es importante para muchos modelos de aprendizaje automático, incluyendo la regresión lineal.\n",
    "\n",
    "- Validación cruzada: Después de escalar las características, se realiza la validación cruzada. Ésta es una técnica utilizada para evaluar el rendimiento de un modelo de machine learning asegurándose de que funcione bien con datos no vistos. Consiste en dividir el conjunto de datos en varias partes (pliegues), entrenar el modelo múltiples veces usando diferentes combinaciones de estos pliegues para entrenamiento y validación, y luego promediar los resultados. Esto permite obtener una medida más confiable del rendimiento del modelo y ayuda a evitar el sobreajuste, garantizando que el modelo generalice bien a nuevos datos.\n",
    "\n",
    "- Entrenamiento y evaluación del modelo: Finalmente se entrena y se evalua el modelo obteniendo las predicciones para poder calcular el volumen medio de reservas para cada región y se calcula el RMSE para cada fold tomando el promedio de estos valores para obtener una medida robusta del rendimiento del modelo.\n",
    "\n",
    "Este enfoque asegura que se utilice una metodología rigurosa para evaluar el rendimiento del modelo, mitigando problemas como el sobreajuste y proporcionando una estimación más realista de la precisión esperada del modelo en datos nuevos no vistos."
   ]
  },
  {
   "cell_type": "markdown",
   "metadata": {},
   "source": [
    "<div class=\"alert alert-block alert-success\">\n",
    "<b>Comentario de Reviewer</b> <a class=\"tocSkip\"></a>\n",
    "\n",
    "Muy bien con estos cambios, pero el escalamiento no es necesario para la regresión lineal. Solamente influye si es que tuviese un término de regularización, tal como ocurre en Ridge Regression, LASSO o  Elastic Net.\n",
    "\n",
    "</div>"
   ]
  },
  {
   "cell_type": "code",
   "execution_count": 21,
   "metadata": {},
   "outputs": [],
   "source": [
    "# Función para escalar las características\n",
    "def scale_features(train_features, valid_features):\n",
    "    scaler = StandardScaler()\n",
    "    train_features_scaled = scaler.fit_transform(train_features)\n",
    "    valid_features_scaled = scaler.transform(valid_features)\n",
    "    return train_features_scaled, valid_features_scaled"
   ]
  },
  {
   "cell_type": "code",
   "execution_count": 22,
   "metadata": {},
   "outputs": [],
   "source": [
    "# Escalado de características para cada región\n",
    "train_features_scaled_0, valid_features_scaled_0 = scale_features(train_features_0, valid_features_0)\n",
    "train_features_scaled_1, valid_features_scaled_1 = scale_features(train_features_1, valid_features_1)\n",
    "train_features_scaled_2, valid_features_scaled_2 = scale_features(train_features_2, valid_features_2)"
   ]
  },
  {
   "cell_type": "code",
   "execution_count": 23,
   "metadata": {},
   "outputs": [],
   "source": [
    "# Funcion para entrenar el modelo y calcular las métricas\n",
    "def train_and_evaluate(train_features, train_target, valid_features, valid_target):\n",
    "    model = LinearRegression()\n",
    "    model.fit(train_features, train_target)\n",
    "    predictions = model.predict(valid_features)\n",
    "    mean_prediction = np.mean(predictions)\n",
    "    rmse = mean_squared_error(valid_target, predictions, squared=False)\n",
    "    return predictions, mean_prediction, rmse"
   ]
  },
  {
   "cell_type": "code",
   "execution_count": 24,
   "metadata": {},
   "outputs": [],
   "source": [
    "# Validación cruzada para cada región\n",
    "def cross_validation(model, X, y):\n",
    "    cv_scores = cross_val_score(model, X, y, cv=5, scoring='neg_mean_squared_error')\n",
    "    rmse_scores = np.sqrt(-cv_scores)\n",
    "    return rmse_scores"
   ]
  },
  {
   "cell_type": "code",
   "execution_count": 25,
   "metadata": {},
   "outputs": [
    {
     "name": "stdout",
     "output_type": "stream",
     "text": [
      "Valores de RMSE con base en la validacion cruzada:\n",
      "Región 0 - RMSE Promedio: 37.67\n",
      "Región 1 - RMSE Promedio: 0.89\n",
      "Región 2 - RMSE Promedio: 40.03\n"
     ]
    }
   ],
   "source": [
    "# Generación del modelo\n",
    "model = LinearRegression()\n",
    "\n",
    "rmse_scores_0 = cross_validation(model, train_features_scaled_0, train_target_0)\n",
    "rmse_scores_1 = cross_validation(model, train_features_scaled_1, train_target_1)\n",
    "rmse_scores_2 = cross_validation(model, train_features_scaled_2, train_target_2)\n",
    "\n",
    "print('Valores de RMSE con base en la validacion cruzada:')\n",
    "print(f\"Región 0 - RMSE Promedio: {rmse_scores_0.mean():.2f}\")\n",
    "print(f\"Región 1 - RMSE Promedio: {rmse_scores_1.mean():.2f}\")\n",
    "print(f\"Región 2 - RMSE Promedio: {rmse_scores_2.mean():.2f}\")"
   ]
  },
  {
   "cell_type": "markdown",
   "metadata": {},
   "source": [
    "<div class=\"alert alert-block alert-success\">\n",
    "<b>Comentario de Reviewer</b> <a class=\"tocSkip\"></a>\n",
    "\n",
    "Excelente, muy bien!\n",
    "\n",
    "</div>"
   ]
  },
  {
   "cell_type": "markdown",
   "metadata": {},
   "source": [
    "Cabe destacar que, entre menor sea el valor de RMSE (Error Cuadrático Medio), habrá una menor dispersión indicando que la predicciones del modelo están más cerca de los valores reales. En otras palabras, un RMSE más bajo significa que el modelo tiende a hacer predicciones más precisas y consistentes en relación con los datos observados. "
   ]
  },
  {
   "cell_type": "code",
   "execution_count": 26,
   "metadata": {},
   "outputs": [
    {
     "name": "stdout",
     "output_type": "stream",
     "text": [
      "Región 0:\n",
      "Volumen Medio de Reservas Predicho = 92.39879990657768 RMSE = 37.75660035026169 \n",
      "\n",
      "Región 1:\n",
      "Volumen Medio de Reservas Predicho = 68.7128780391376 RMSE = 0.8902801001028845 \n",
      "\n",
      "Región 2:\n",
      "Volumen Medio de Reservas Predicho = 94.77102387765939 RMSE = 40.145872311342174 \n",
      "\n"
     ]
    }
   ],
   "source": [
    "# Entrenamiento del modelo y evaluación para cada región\n",
    "predictions_0, mean_prediction_0, rmse_0 = train_and_evaluate(train_features_scaled_0, train_target_0, valid_features_scaled_0, valid_target_0)\n",
    "predictions_1, mean_prediction_1, rmse_1 = train_and_evaluate(train_features_scaled_1, train_target_1, valid_features_scaled_1, valid_target_1)\n",
    "predictions_2, mean_prediction_2, rmse_2 = train_and_evaluate(train_features_scaled_2, train_target_2, valid_features_scaled_2, valid_target_2)\n",
    "\n",
    "print(\"Región 0:\\nVolumen Medio de Reservas Predicho =\", mean_prediction_0,\"RMSE =\", rmse_0,\"\\n\")\n",
    "print(\"Región 1:\\nVolumen Medio de Reservas Predicho =\", mean_prediction_1,\"RMSE =\", rmse_1,\"\\n\")\n",
    "print(\"Región 2:\\nVolumen Medio de Reservas Predicho =\", mean_prediction_2,\"RMSE =\", rmse_2,\"\\n\")"
   ]
  },
  {
   "cell_type": "markdown",
   "metadata": {},
   "source": [
    "Retomando un punto importante, el volumen medio de reservas predicho hace referencia al promedio de las cantidades de petróleo que se espera que produzcan los pozos en una región específica, según el modelo de predicción. Esta métrica se calcula tomando el promedio de todas las predicciones de reservas de petróleo para los pozos en el conjunto de validación.\n",
    "\n",
    "En los resultados obtenidos, se observa que la producción de la zona 2 es mayor pero no con mucha diferencia con respecto a la región 0, no obstante la región 0 presenta menos dispersión en sus datos de acuerdo a su valor rmse siendo ésta una región favorable para la selección de la mayoría de los pozos a implementar. \n",
    "\n",
    "Sin embargo, estos resultados no se acercan a la inversión planteada en la siguiente sección ya que el volumen medio de reservas según las predicciones no es suficiente para cubrir el umbral, a continuación se da a conocer esta información:\n",
    "\n",
    "- Dada la inversión de 100 millones por 200 pozos petrolíferos, de media un pozo petrolífero debe producir al menos un valor de 500,000 dólares en unidades para evitar pérdidas (esto es equivalente a 111.1 unidades). Compara esta cantidad con la cantidad media de reservas en cada región."
   ]
  },
  {
   "cell_type": "code",
   "execution_count": 27,
   "metadata": {},
   "outputs": [
    {
     "name": "stdout",
     "output_type": "stream",
     "text": [
      "Región 0: ¿Suficiente para cubrir el umbral? No\n",
      "Región 1: ¿Suficiente para cubrir el umbral? No\n",
      "Región 2: ¿Suficiente para cubrir el umbral? No\n"
     ]
    }
   ],
   "source": [
    "# Calcular y mostrar si la cantidad media de reservas es suficiente\n",
    "required_units = 111.1\n",
    "\n",
    "print(f\"Región 0: ¿Suficiente para cubrir el umbral? {'Sí' if mean_prediction_0 >= required_units else 'No'}\")\n",
    "print(f\"Región 1: ¿Suficiente para cubrir el umbral? {'Sí' if mean_prediction_1 >= required_units else 'No'}\")\n",
    "print(f\"Región 2: ¿Suficiente para cubrir el umbral? {'Sí' if mean_prediction_2 >= required_units else 'No'}\")\n",
    "\n",
    "# Guardar las predicciones y respuestas correctas para el conjunto de validación\n",
    "validation_results = {\n",
    "    'Región 0': (valid_features_0, valid_target_0, predictions_0),\n",
    "    'Región 1': (valid_features_1, valid_target_1, predictions_1),\n",
    "    'Región 2': (valid_features_2, valid_target_2, predictions_2)\n",
    "}"
   ]
  },
  {
   "cell_type": "markdown",
   "metadata": {},
   "source": [
    "Ya que ninguna de las regiones supera o cubre el umbral establecido, sería prudente considerar no proceder con la inversión hasta que se obtenga más información, se mejoren las condiciones, o se encuentren alternativas más rentables. Sin embargo, si se debe proceder, seleccionar los pozos con mayor predicción de reservas y realizar un análisis de riesgos exhaustivo es esencial para minimizar pérdidas. Es por ello, que para el cálculo de ganacias a continuación, se seleccionan en cada región200 pozos con los valores de predicción más altos para poder hacer una estimación de las ganacias que recibirían. "
   ]
  },
  {
   "cell_type": "markdown",
   "metadata": {},
   "source": [
    "<div class=\"alert alert-block alert-success\">\n",
    "<b>Comentario de Reviewer</b> <a class=\"tocSkip\"></a>\n",
    "\n",
    "Correcto. El método de exploración/extracción no considera usar pozos promedio, por lo tanto, aún hay oportunidad de tener beneficios.\n",
    "\n",
    "</div>"
   ]
  },
  {
   "cell_type": "markdown",
   "metadata": {},
   "source": [
    "### Cálculo de ganancias"
   ]
  },
  {
   "cell_type": "markdown",
   "metadata": {},
   "source": [
    "En esta parte del proyecto, se estarán seleccionado los 200 pozos de cada región con los valores de predicción más altos para poder después obtener la ganancia que cada región recibiría. En este caso, se están utilizando los datos de validación originales (valid_target_*) junto con las predicciones (predictions_*) para comparar las predicciones con los valores reales de producción, esto se refleja en el cuadro de código anterior con la lista de valid_results."
   ]
  },
  {
   "cell_type": "code",
   "execution_count": 28,
   "metadata": {},
   "outputs": [
    {
     "name": "stdout",
     "output_type": "stream",
     "text": [
      "Top 5 pozos en Región 0:\n",
      "          id  product_prediction  actual_production\n",
      "46784   6959          176.536104         153.639837\n",
      "27658  18195          176.274510         140.631646\n",
      "6496   17252          173.249504         178.879516\n",
      "65743    458          172.802708         176.807828\n",
      "93716   2203          172.744977         130.985681\n",
      "Top 5 pozos en Región 1:\n",
      "          id  product_prediction  actual_production\n",
      "80439  20777          139.983277         137.945408\n",
      "14041   2324          139.700803         137.945408\n",
      "62413  13896          139.616544         137.945408\n",
      "55563   6951          139.514768         137.945408\n",
      "42432   9152          139.472212         137.945408\n",
      "Top 5 pozos en Región 2:\n",
      "          id  product_prediction  actual_production\n",
      "43931  21853          170.529209         101.225039\n",
      "84047  10723          169.673332         151.655778\n",
      "54085   6210          165.300724          92.947333\n",
      "89165   8204          164.613896          97.775979\n",
      "64380   8043          163.964000         122.460897\n"
     ]
    }
   ],
   "source": [
    "# Función para seleccionar los mejores 200 pozos por región\n",
    "def select_top_pozos(predictions_df, region_name):\n",
    "    top_pozos = predictions_df.sort_values(by='product_prediction', ascending=False).head(200)\n",
    "    print(f\"Top 5 pozos en {region_name}:\")\n",
    "    print(top_pozos.head())\n",
    "    return top_pozos\n",
    "\n",
    "# Crear DataFrames de predicciones y producciones reales\n",
    "predict_region_0 = pd.DataFrame({\n",
    "    'id': range(1, len(validation_results['Región 0'][2]) + 1),\n",
    "    'product_prediction': validation_results['Región 0'][2],\n",
    "    'actual_production': validation_results['Región 0'][1]\n",
    "})\n",
    "\n",
    "predict_region_1 = pd.DataFrame({\n",
    "    'id': range(1, len(validation_results['Región 1'][2]) + 1),\n",
    "    'product_prediction': validation_results['Región 1'][2],\n",
    "    'actual_production': validation_results['Región 1'][1]\n",
    "})\n",
    "\n",
    "predict_region_2 = pd.DataFrame({\n",
    "    'id': range(1, len(validation_results['Región 2'][2]) + 1),\n",
    "    'product_prediction': validation_results['Región 2'][2],\n",
    "    'actual_production': validation_results['Región 2'][1]\n",
    "})\n",
    "\n",
    "# Seleccionar los mejores 200 pozos por región\n",
    "top_pozos_region_0 = select_top_pozos(predict_region_0, 'Región 0')\n",
    "top_pozos_region_1 = select_top_pozos(predict_region_1, 'Región 1')\n",
    "top_pozos_region_2 = select_top_pozos(predict_region_2, 'Región 2')\n",
    "\n",
    "# Unir los top 200 pozos de todas las regiones\n",
    "top_pozos_combined = pd.concat([top_pozos_region_0, top_pozos_region_1, top_pozos_region_2])\n"
   ]
  },
  {
   "cell_type": "markdown",
   "metadata": {},
   "source": [
    "Como recordatorio de los datos de este proyecto, el presupuesto para el desarrollo de 200 pozos petroleros es de 100 millones de dólares. Además, un barril de materias primas genera 4.5 USD de ingresos. El ingreso de una unidad de producto es de 4500 dólares (el volumen de reservas está expresado en miles de barriles)."
   ]
  },
  {
   "cell_type": "code",
   "execution_count": 29,
   "metadata": {},
   "outputs": [
    {
     "name": "stdout",
     "output_type": "stream",
     "text": [
      "{'ingresos_totales': 383727995.70517796, 'costo_total_desarrollo': 100000000, 'ganancia_potencial': 283727995.70517796}\n"
     ]
    }
   ],
   "source": [
    "# Función para calcular el beneficio\n",
    "def calculate_profit(top_pozos):\n",
    "    presupuesto = 100000000  # 100 millones de dólares\n",
    "    ingreso_por_unidad = 4500  # USD por unidad de volumen\n",
    "\n",
    "    # Calcular el volumen total de reservas usando los valores reales\n",
    "    volumen_total = top_pozos['actual_production'].sum()\n",
    "\n",
    "    # Calcular los ingresos totales esperados\n",
    "    ingresos_totales = volumen_total * ingreso_por_unidad\n",
    "\n",
    "    # El costo total de desarrollo es el presupuesto, ya que se desarrollan 200 pozos\n",
    "    costo_total_desarrollo = presupuesto\n",
    "\n",
    "    # Calcular la ganancia potencial\n",
    "    ganancia_potencial = ingresos_totales - costo_total_desarrollo\n",
    "\n",
    "    return {\n",
    "        'ingresos_totales': ingresos_totales,\n",
    "        'costo_total_desarrollo': costo_total_desarrollo,\n",
    "        'ganancia_potencial': ganancia_potencial\n",
    "    }\n",
    "\n",
    "# Calcular el beneficio usando los top 200 pozos combinados\n",
    "result = calculate_profit(top_pozos_combined)\n",
    "print(result)"
   ]
  },
  {
   "cell_type": "markdown",
   "metadata": {},
   "source": [
    "**Conclusión**\n",
    "\n",
    "Los resultados del análisis indican que los ingresos totales esperados de los 200 pozos seleccionados son aproximadamente 383,728,000, basados en las predicciones y los valores reales de producción. El costo total de desarrollo de estos pozos es 100,000,000, cubriendo todos los gastos necesarios para ponerlos en funcionamiento. Después de deducir este costo, la ganancia potencial es de aproximadamente 283,728,000, lo que representa una rentabilidad sustancial. La relación de ganancia es casi 2.84 veces el costo de desarrollo, indicando que la inversión en estos pozos es altamente rentable.\n",
    "\n",
    "Este análisis también resalta la importancia de la precisión de las predicciones del modelo y su alineación con los valores reales de producción. Si las predicciones son precisas, el modelo puede considerarse eficaz en la selección de pozos rentables. Sin embargo, es crucial monitorear y actualizar regularmente las predicciones del modelo para mantener su exactitud y relevancia, considerando también la variabilidad en los precios del mercado y los costos operativos que pueden influir en los ingresos totales y la ganancia potencial."
   ]
  },
  {
   "cell_type": "markdown",
   "metadata": {},
   "source": [
    "<div class=\"alert alert-block alert-danger\">\n",
    "<b>Comentario de Reviewer</b> <a class=\"tocSkip\"></a>\n",
    "\n",
    "Debes corregir esta función.    \n",
    "    \n",
    "Para calcular el beneficio debes usar los valores reales de los top 200 pozos según el valor de predicción, ojo con eso puesto que el input de esta función, tal como veo que lo quieres hacer, no puede ser el valor de predicción por si solo sino que tiene que venir el valor real de alguna forma. \n",
    "    \n",
    "Por otro lado, el beneficio no tiene los cálculos correctos. El costo de desarrollo de los 200 pozos son 100 millones y cada unidad de volumen de los pozos da 4500 de ingreso.\n",
    "\n",
    "</div>"
   ]
  },
  {
   "cell_type": "markdown",
   "metadata": {},
   "source": [
    "<div class=\"alert alert-block alert-info\">\n",
    "<b>Respuesta estudiante.</b> <a class=\"tocSkip\"></a>\n",
    "    \n",
    "Corregido muchas gracias, cualquier cuestión estoy al pendiente de su respuesta. \n",
    "</div>"
   ]
  },
  {
   "cell_type": "markdown",
   "metadata": {},
   "source": [
    "<div class=\"alert alert-block alert-success\">\n",
    "<b>Comentario de Reviewer v2</b> <a class=\"tocSkip\"></a>\n",
    "\n",
    "Muy bien, corregido!\n",
    "</div>"
   ]
  },
  {
   "cell_type": "markdown",
   "metadata": {},
   "source": [
    "### Riesgos y ganancias"
   ]
  },
  {
   "cell_type": "markdown",
   "metadata": {},
   "source": [
    "Utilizando las predicciones almacenadas, se emplea la técnica del bootstrapping con 1000 muestras para hallar la distribución de los beneficios.\n",
    "También encontraremos el beneficio promedio, el intervalo de confianza del 95% y el riesgo de pérdidas. La pérdida es una ganancia negativa, calcúlala como una probabilidad y luego exprésala como un porcentaje."
   ]
  },
  {
   "cell_type": "code",
   "execution_count": 30,
   "metadata": {},
   "outputs": [],
   "source": [
    "# Función para calcular el beneficio para una muestra de pozos\n",
    "def calculate_profit_for_sample(sample):\n",
    "    presupuesto = 100000000  # 100 millones de dólares\n",
    "    ingreso_por_unidad = 4500  # USD por unidad de volumen\n",
    "\n",
    "    # Seleccionar los mejores 200 pozos de la muestra\n",
    "    top_pozos = sample.sort_values(by='product_prediction', ascending=False).head(200)\n",
    "\n",
    "    # Calcular el volumen total de reservas usando los valores reales\n",
    "    volumen_total = top_pozos['actual_production'].sum()\n",
    "\n",
    "    # Calcular los ingresos totales esperados\n",
    "    ingresos_totales = volumen_total * ingreso_por_unidad\n",
    "\n",
    "    # El costo total de desarrollo es el presupuesto, ya que se desarrollan 200 pozos\n",
    "    costo_total_desarrollo = presupuesto\n",
    "\n",
    "    # Calcular la ganancia potencial\n",
    "    ganancia_potencial = ingresos_totales - costo_total_desarrollo\n",
    "\n",
    "    return ganancia_potencial\n",
    "\n",
    "# Función para realizar bootstrapping y calcular estadísticas\n",
    "def bootstrap_profit(dataframe, n_samples=1000, sample_size=500):\n",
    "    profits = []\n",
    "    for _ in range(n_samples):\n",
    "        # Generar una muestra bootstrap de 500 pozos\n",
    "        sample = dataframe.sample(n=sample_size, replace=True)\n",
    "        \n",
    "        # Calcular el beneficio para esta muestra bootstrap\n",
    "        ganancia_potencial = calculate_profit_for_sample(sample)\n",
    "        \n",
    "        profits.append(ganancia_potencial)\n",
    "    \n",
    "    # Convertir lista de ganancias a un array de numpy para facilitar cálculos estadísticos\n",
    "    profits = np.array(profits)\n",
    "    \n",
    "    # Calcular la media de las ganancias\n",
    "    media_ganancias = np.mean(profits)\n",
    "    \n",
    "    # Calcular el intervalo de confianza (percentiles 2.5% y 97.5%)\n",
    "    intervalo_confianza = np.percentile(profits, [2.5, 97.5])\n",
    "    \n",
    "    # Calcular el riesgo (porcentaje de veces que el beneficio fue negativo)\n",
    "    riesgo = np.mean(profits < 0)\n",
    "    \n",
    "    return {\n",
    "        'media_ganancias': media_ganancias,\n",
    "        'intervalo_confianza': intervalo_confianza,\n",
    "        'riesgo': riesgo\n",
    "    }"
   ]
  },
  {
   "cell_type": "code",
   "execution_count": 31,
   "metadata": {},
   "outputs": [
    {
     "name": "stdout",
     "output_type": "stream",
     "text": [
      "Resultados de bootstrapping:\n",
      "Región 0:\n",
      "Media de ganancias: $3,866,901.43\n",
      "Intervalo de confianza (2.5% - 97.5%): $-1,074,030.77 - $8,656,327.93\n",
      "Riesgo (porcentaje de veces con beneficio negativo): 5.70%\n",
      "\n",
      "Región 1:\n",
      "Media de ganancias: $4,412,768.75\n",
      "Intervalo de confianza (2.5% - 97.5%): $609,023.17 - $8,173,502.53\n",
      "Riesgo (porcentaje de veces con beneficio negativo): 1.00%\n",
      "\n",
      "Región 2:\n",
      "Media de ganancias: $3,966,021.99\n",
      "Intervalo de confianza (2.5% - 97.5%): $-1,105,170.56 - $8,972,851.47\n",
      "Riesgo (porcentaje de veces con beneficio negativo): 6.90%\n"
     ]
    }
   ],
   "source": [
    "# Realizar bootstrapping para cada región\n",
    "bootstrap_results_region_0 = bootstrap_profit(predict_region_0)\n",
    "bootstrap_results_region_1 = bootstrap_profit(predict_region_1)\n",
    "bootstrap_results_region_2 = bootstrap_profit(predict_region_2)\n",
    "\n",
    "# Mostrar resultados\n",
    "print(\"Resultados de bootstrapping:\")\n",
    "print(\"Región 0:\")\n",
    "print(f\"Media de ganancias: ${bootstrap_results_region_0['media_ganancias']:,.2f}\")\n",
    "print(f\"Intervalo de confianza (2.5% - 97.5%): ${bootstrap_results_region_0['intervalo_confianza'][0]:,.2f} - ${bootstrap_results_region_0['intervalo_confianza'][1]:,.2f}\")\n",
    "print(f\"Riesgo (porcentaje de veces con beneficio negativo): {bootstrap_results_region_0['riesgo']*100:.2f}%\")\n",
    "print()\n",
    "\n",
    "print(\"Región 1:\")\n",
    "print(f\"Media de ganancias: ${bootstrap_results_region_1['media_ganancias']:,.2f}\")\n",
    "print(f\"Intervalo de confianza (2.5% - 97.5%): ${bootstrap_results_region_1['intervalo_confianza'][0]:,.2f} - ${bootstrap_results_region_1['intervalo_confianza'][1]:,.2f}\")\n",
    "print(f\"Riesgo (porcentaje de veces con beneficio negativo): {bootstrap_results_region_1['riesgo']*100:.2f}%\")\n",
    "print()\n",
    "\n",
    "print(\"Región 2:\")\n",
    "print(f\"Media de ganancias: ${bootstrap_results_region_2['media_ganancias']:,.2f}\")\n",
    "print(f\"Intervalo de confianza (2.5% - 97.5%): ${bootstrap_results_region_2['intervalo_confianza'][0]:,.2f} - ${bootstrap_results_region_2['intervalo_confianza'][1]:,.2f}\")\n",
    "print(f\"Riesgo (porcentaje de veces con beneficio negativo): {bootstrap_results_region_2['riesgo']*100:.2f}%\")"
   ]
  },
  {
   "cell_type": "markdown",
   "metadata": {},
   "source": [
    "Con base en los resultados del bootstrapping para las tres regiones analizadas, podemos extraer varias conclusiones significativas. En primer lugar, la Región 1 muestra la media de ganancias más alta, indicando un mayor potencial promedio de beneficio al desarrollar los pozos seleccionados. Además, tiene el intervalo de confianza más estrecho, lo que sugiere una menor variabilidad en las estimaciones de ganancias en comparación con las otras regiones. Por otro lado, aunque las Regiones 0 y 2 también muestran un potencial considerable de ganancias, presentan intervalos de confianza más amplios que incluyen tanto pérdidas como ganancias significativas. La Región 2 destaca por tener el riesgo más alto de obtener una ganancia negativa, mientras que la Región 0 también muestra un riesgo significativo aunque ligeramente menor. Estas diferencias en riesgo y potencial de ganancias pueden influir en las decisiones estratégicas sobre dónde y cómo asignar recursos para el desarrollo de pozos, considerando tanto la rentabilidad esperada como el nivel de riesgo asumido."
   ]
  },
  {
   "cell_type": "markdown",
   "metadata": {},
   "source": [
    "<div class=\"alert alert-block alert-danger\">\n",
    "<b>Comentario de Reviewer</b> <a class=\"tocSkip\"></a>\n",
    "\n",
    "En el muestreo aleatorio de bootstrapping debes tomar una muestra de 500 pozos. Luego, sobre esos 200, debes realizar el cálculo de beneficio tal cual como se realizó anteriormente.\n",
    "    \n",
    "Con el resultado de boostrapping (los 1000 beneficios) debes calcular la media, el intervalo de confianza (calcula el percentil 2.5% y 97.5% de los resultados) y el riesgo (porcentaje de veces que el beneficio fue negativo.\n",
    "    \n",
    "</div>"
   ]
  },
  {
   "cell_type": "markdown",
   "metadata": {},
   "source": [
    "<div class=\"alert alert-block alert-info\">\n",
    "<b>Respuesta estudiante.</b> <a class=\"tocSkip\"></a>\n",
    "    \n",
    "Corregido muchas gracias, cualquier cuestión estoy al pendiente de su respuesta. \n",
    "</div>"
   ]
  },
  {
   "cell_type": "markdown",
   "metadata": {},
   "source": [
    "<div class=\"alert alert-block alert-success\">\n",
    "<b>Comentario de Reviewer v2</b> <a class=\"tocSkip\"></a>\n",
    "\n",
    "Excelente, bien hecho!\n",
    "</div>"
   ]
  },
  {
   "cell_type": "code",
   "execution_count": null,
   "metadata": {},
   "outputs": [],
   "source": []
  }
 ],
 "metadata": {
  "ExecuteTimeLog": [
   {
    "duration": 5441,
    "start_time": "2024-06-11T19:48:49.457Z"
   },
   {
    "duration": 1221,
    "start_time": "2024-06-11T19:50:20.884Z"
   },
   {
    "duration": 129,
    "start_time": "2024-06-11T19:50:38.819Z"
   },
   {
    "duration": 136,
    "start_time": "2024-06-11T19:51:22.621Z"
   },
   {
    "duration": 136,
    "start_time": "2024-06-11T19:51:52.719Z"
   },
   {
    "duration": 130,
    "start_time": "2024-06-11T19:51:55.436Z"
   },
   {
    "duration": 1689,
    "start_time": "2024-06-11T19:52:05.616Z"
   },
   {
    "duration": 1154,
    "start_time": "2024-06-11T19:52:07.311Z"
   },
   {
    "duration": 138,
    "start_time": "2024-06-11T19:54:09.714Z"
   },
   {
    "duration": 183,
    "start_time": "2024-06-11T19:54:38.222Z"
   },
   {
    "duration": 15,
    "start_time": "2024-06-11T19:55:58.091Z"
   },
   {
    "duration": 1690,
    "start_time": "2024-06-11T19:56:03.994Z"
   },
   {
    "duration": 180,
    "start_time": "2024-06-11T19:56:05.688Z"
   },
   {
    "duration": 17,
    "start_time": "2024-06-11T19:56:05.872Z"
   },
   {
    "duration": 188,
    "start_time": "2024-06-11T19:56:58.705Z"
   },
   {
    "duration": 12,
    "start_time": "2024-06-11T19:57:10.704Z"
   },
   {
    "duration": 202,
    "start_time": "2024-06-11T19:57:30.100Z"
   },
   {
    "duration": 12,
    "start_time": "2024-06-11T19:57:38.823Z"
   },
   {
    "duration": 1714,
    "start_time": "2024-06-11T20:07:36.546Z"
   },
   {
    "duration": 179,
    "start_time": "2024-06-11T20:07:38.264Z"
   },
   {
    "duration": 17,
    "start_time": "2024-06-11T20:07:38.448Z"
   },
   {
    "duration": 218,
    "start_time": "2024-06-11T20:07:38.471Z"
   },
   {
    "duration": 30,
    "start_time": "2024-06-11T20:07:38.693Z"
   },
   {
    "duration": 186,
    "start_time": "2024-06-11T20:07:38.728Z"
   },
   {
    "duration": 13,
    "start_time": "2024-06-11T20:07:38.922Z"
   },
   {
    "duration": 484,
    "start_time": "2024-06-11T20:07:38.939Z"
   },
   {
    "duration": 99,
    "start_time": "2024-06-11T20:07:49.151Z"
   },
   {
    "duration": 1003,
    "start_time": "2024-06-11T20:12:01.025Z"
   },
   {
    "duration": 1795,
    "start_time": "2024-06-11T20:12:08.268Z"
   },
   {
    "duration": 205,
    "start_time": "2024-06-11T20:12:10.067Z"
   },
   {
    "duration": 15,
    "start_time": "2024-06-11T20:12:10.276Z"
   },
   {
    "duration": 171,
    "start_time": "2024-06-11T20:12:10.295Z"
   },
   {
    "duration": 14,
    "start_time": "2024-06-11T20:12:10.472Z"
   },
   {
    "duration": 173,
    "start_time": "2024-06-11T20:12:10.489Z"
   },
   {
    "duration": 12,
    "start_time": "2024-06-11T20:12:10.665Z"
   },
   {
    "duration": 1494,
    "start_time": "2024-06-11T20:12:10.681Z"
   },
   {
    "duration": 0,
    "start_time": "2024-06-11T20:12:12.182Z"
   },
   {
    "duration": 0,
    "start_time": "2024-06-11T20:12:12.187Z"
   },
   {
    "duration": 1683,
    "start_time": "2024-06-11T20:12:21.467Z"
   },
   {
    "duration": 171,
    "start_time": "2024-06-11T20:12:23.153Z"
   },
   {
    "duration": 15,
    "start_time": "2024-06-11T20:12:23.327Z"
   },
   {
    "duration": 170,
    "start_time": "2024-06-11T20:12:23.346Z"
   },
   {
    "duration": 15,
    "start_time": "2024-06-11T20:12:23.525Z"
   },
   {
    "duration": 185,
    "start_time": "2024-06-11T20:12:23.543Z"
   },
   {
    "duration": 22,
    "start_time": "2024-06-11T20:12:23.733Z"
   },
   {
    "duration": 131,
    "start_time": "2024-06-11T20:12:23.758Z"
   },
   {
    "duration": 91,
    "start_time": "2024-06-11T20:12:23.892Z"
   },
   {
    "duration": 92,
    "start_time": "2024-06-11T20:12:23.990Z"
   },
   {
    "duration": 1621,
    "start_time": "2024-06-11T20:12:41.767Z"
   },
   {
    "duration": 166,
    "start_time": "2024-06-11T20:12:43.393Z"
   },
   {
    "duration": 16,
    "start_time": "2024-06-11T20:12:43.562Z"
   },
   {
    "duration": 178,
    "start_time": "2024-06-11T20:12:43.582Z"
   },
   {
    "duration": 14,
    "start_time": "2024-06-11T20:12:43.766Z"
   },
   {
    "duration": 172,
    "start_time": "2024-06-11T20:12:43.784Z"
   },
   {
    "duration": 12,
    "start_time": "2024-06-11T20:12:43.960Z"
   },
   {
    "duration": 141,
    "start_time": "2024-06-11T20:12:43.976Z"
   },
   {
    "duration": 100,
    "start_time": "2024-06-11T20:12:44.126Z"
   },
   {
    "duration": 99,
    "start_time": "2024-06-11T20:12:44.230Z"
   },
   {
    "duration": 1885,
    "start_time": "2024-06-11T20:13:27.521Z"
   },
   {
    "duration": 189,
    "start_time": "2024-06-11T20:13:29.410Z"
   },
   {
    "duration": 29,
    "start_time": "2024-06-11T20:13:29.604Z"
   },
   {
    "duration": 195,
    "start_time": "2024-06-11T20:13:29.636Z"
   },
   {
    "duration": 14,
    "start_time": "2024-06-11T20:13:29.836Z"
   },
   {
    "duration": 215,
    "start_time": "2024-06-11T20:13:29.853Z"
   },
   {
    "duration": 16,
    "start_time": "2024-06-11T20:13:30.073Z"
   },
   {
    "duration": 198,
    "start_time": "2024-06-11T20:13:30.094Z"
   },
   {
    "duration": 94,
    "start_time": "2024-06-11T20:13:30.296Z"
   },
   {
    "duration": 99,
    "start_time": "2024-06-11T20:13:30.394Z"
   },
   {
    "duration": 132,
    "start_time": "2024-06-11T20:14:05.087Z"
   },
   {
    "duration": 1706,
    "start_time": "2024-06-11T20:14:33.444Z"
   },
   {
    "duration": 197,
    "start_time": "2024-06-11T20:14:35.156Z"
   },
   {
    "duration": 18,
    "start_time": "2024-06-11T20:14:35.356Z"
   },
   {
    "duration": 210,
    "start_time": "2024-06-11T20:14:35.379Z"
   },
   {
    "duration": 34,
    "start_time": "2024-06-11T20:14:35.595Z"
   },
   {
    "duration": 198,
    "start_time": "2024-06-11T20:14:35.633Z"
   },
   {
    "duration": 14,
    "start_time": "2024-06-11T20:14:35.836Z"
   },
   {
    "duration": 208,
    "start_time": "2024-06-11T20:14:35.854Z"
   },
   {
    "duration": 112,
    "start_time": "2024-06-11T20:14:36.070Z"
   },
   {
    "duration": 119,
    "start_time": "2024-06-11T20:14:36.187Z"
   },
   {
    "duration": 1746,
    "start_time": "2024-06-11T20:15:30.016Z"
   },
   {
    "duration": 167,
    "start_time": "2024-06-11T20:15:31.767Z"
   },
   {
    "duration": 15,
    "start_time": "2024-06-11T20:15:31.936Z"
   },
   {
    "duration": 217,
    "start_time": "2024-06-11T20:15:31.954Z"
   },
   {
    "duration": 14,
    "start_time": "2024-06-11T20:15:32.176Z"
   },
   {
    "duration": 173,
    "start_time": "2024-06-11T20:15:32.193Z"
   },
   {
    "duration": 15,
    "start_time": "2024-06-11T20:15:32.370Z"
   },
   {
    "duration": 152,
    "start_time": "2024-06-11T20:15:32.389Z"
   },
   {
    "duration": 112,
    "start_time": "2024-06-11T20:15:32.545Z"
   },
   {
    "duration": 90,
    "start_time": "2024-06-11T20:15:32.661Z"
   },
   {
    "duration": 99,
    "start_time": "2024-06-11T20:16:08.790Z"
   },
   {
    "duration": 1851,
    "start_time": "2024-06-11T20:16:26.627Z"
   },
   {
    "duration": 220,
    "start_time": "2024-06-11T20:16:28.485Z"
   },
   {
    "duration": 26,
    "start_time": "2024-06-11T20:16:28.709Z"
   },
   {
    "duration": 188,
    "start_time": "2024-06-11T20:16:28.743Z"
   },
   {
    "duration": 14,
    "start_time": "2024-06-11T20:16:28.936Z"
   },
   {
    "duration": 204,
    "start_time": "2024-06-11T20:16:28.955Z"
   },
   {
    "duration": 14,
    "start_time": "2024-06-11T20:16:29.163Z"
   },
   {
    "duration": 156,
    "start_time": "2024-06-11T20:16:29.182Z"
   },
   {
    "duration": 121,
    "start_time": "2024-06-11T20:16:29.343Z"
   },
   {
    "duration": 116,
    "start_time": "2024-06-11T20:16:29.471Z"
   },
   {
    "duration": 136,
    "start_time": "2024-06-11T20:16:29.592Z"
   },
   {
    "duration": 1281,
    "start_time": "2024-06-11T20:27:34.930Z"
   },
   {
    "duration": 606,
    "start_time": "2024-06-11T20:28:05.223Z"
   },
   {
    "duration": 1727,
    "start_time": "2024-06-11T20:32:40.817Z"
   },
   {
    "duration": 162,
    "start_time": "2024-06-11T20:32:42.547Z"
   },
   {
    "duration": 21,
    "start_time": "2024-06-11T20:32:42.713Z"
   },
   {
    "duration": 174,
    "start_time": "2024-06-11T20:32:42.737Z"
   },
   {
    "duration": 17,
    "start_time": "2024-06-11T20:32:42.915Z"
   },
   {
    "duration": 168,
    "start_time": "2024-06-11T20:32:42.936Z"
   },
   {
    "duration": 23,
    "start_time": "2024-06-11T20:32:43.107Z"
   },
   {
    "duration": 138,
    "start_time": "2024-06-11T20:32:43.134Z"
   },
   {
    "duration": 84,
    "start_time": "2024-06-11T20:32:43.275Z"
   },
   {
    "duration": 85,
    "start_time": "2024-06-11T20:32:43.362Z"
   },
   {
    "duration": 104,
    "start_time": "2024-06-11T20:32:43.451Z"
   },
   {
    "duration": 1221,
    "start_time": "2024-06-11T20:32:43.558Z"
   },
   {
    "duration": 1694,
    "start_time": "2024-06-11T20:33:29.343Z"
   },
   {
    "duration": 169,
    "start_time": "2024-06-11T20:33:31.043Z"
   },
   {
    "duration": 17,
    "start_time": "2024-06-11T20:33:31.215Z"
   },
   {
    "duration": 161,
    "start_time": "2024-06-11T20:33:31.235Z"
   },
   {
    "duration": 12,
    "start_time": "2024-06-11T20:33:31.400Z"
   },
   {
    "duration": 157,
    "start_time": "2024-06-11T20:33:31.424Z"
   },
   {
    "duration": 11,
    "start_time": "2024-06-11T20:33:31.584Z"
   },
   {
    "duration": 151,
    "start_time": "2024-06-11T20:33:31.599Z"
   },
   {
    "duration": 110,
    "start_time": "2024-06-11T20:33:31.755Z"
   },
   {
    "duration": 98,
    "start_time": "2024-06-11T20:33:31.872Z"
   },
   {
    "duration": 114,
    "start_time": "2024-06-11T20:33:31.975Z"
   },
   {
    "duration": 1206,
    "start_time": "2024-06-11T20:33:32.092Z"
   },
   {
    "duration": 60,
    "start_time": "2024-06-11T20:34:29.044Z"
   },
   {
    "duration": 1738,
    "start_time": "2024-06-11T20:34:39.992Z"
   },
   {
    "duration": 183,
    "start_time": "2024-06-11T20:34:41.735Z"
   },
   {
    "duration": 15,
    "start_time": "2024-06-11T20:34:41.924Z"
   },
   {
    "duration": 175,
    "start_time": "2024-06-11T20:34:41.943Z"
   },
   {
    "duration": 12,
    "start_time": "2024-06-11T20:34:42.125Z"
   },
   {
    "duration": 170,
    "start_time": "2024-06-11T20:34:42.141Z"
   },
   {
    "duration": 18,
    "start_time": "2024-06-11T20:34:42.316Z"
   },
   {
    "duration": 151,
    "start_time": "2024-06-11T20:34:42.338Z"
   },
   {
    "duration": 90,
    "start_time": "2024-06-11T20:34:42.493Z"
   },
   {
    "duration": 91,
    "start_time": "2024-06-11T20:34:42.587Z"
   },
   {
    "duration": 93,
    "start_time": "2024-06-11T20:34:42.682Z"
   },
   {
    "duration": 95,
    "start_time": "2024-06-11T20:34:42.778Z"
   },
   {
    "duration": 98,
    "start_time": "2024-06-11T20:37:36.578Z"
   },
   {
    "duration": 14,
    "start_time": "2024-06-11T20:38:47.012Z"
   },
   {
    "duration": 1786,
    "start_time": "2024-06-11T20:38:59.166Z"
   },
   {
    "duration": 181,
    "start_time": "2024-06-11T20:39:00.956Z"
   },
   {
    "duration": 21,
    "start_time": "2024-06-11T20:39:01.147Z"
   },
   {
    "duration": 193,
    "start_time": "2024-06-11T20:39:01.173Z"
   },
   {
    "duration": 13,
    "start_time": "2024-06-11T20:39:01.369Z"
   },
   {
    "duration": 180,
    "start_time": "2024-06-11T20:39:01.386Z"
   },
   {
    "duration": 12,
    "start_time": "2024-06-11T20:39:01.569Z"
   },
   {
    "duration": 138,
    "start_time": "2024-06-11T20:39:01.585Z"
   },
   {
    "duration": 99,
    "start_time": "2024-06-11T20:39:01.727Z"
   },
   {
    "duration": 92,
    "start_time": "2024-06-11T20:39:01.831Z"
   },
   {
    "duration": 78,
    "start_time": "2024-06-11T20:39:01.926Z"
   },
   {
    "duration": 80,
    "start_time": "2024-06-11T20:39:02.024Z"
   },
   {
    "duration": 25,
    "start_time": "2024-06-11T20:39:02.108Z"
   },
   {
    "duration": 1670,
    "start_time": "2024-06-11T20:39:50.053Z"
   },
   {
    "duration": 162,
    "start_time": "2024-06-11T20:39:51.727Z"
   },
   {
    "duration": 30,
    "start_time": "2024-06-11T20:39:51.893Z"
   },
   {
    "duration": 158,
    "start_time": "2024-06-11T20:39:51.927Z"
   },
   {
    "duration": 11,
    "start_time": "2024-06-11T20:39:52.091Z"
   },
   {
    "duration": 171,
    "start_time": "2024-06-11T20:39:52.105Z"
   },
   {
    "duration": 11,
    "start_time": "2024-06-11T20:39:52.283Z"
   },
   {
    "duration": 141,
    "start_time": "2024-06-11T20:39:52.299Z"
   },
   {
    "duration": 106,
    "start_time": "2024-06-11T20:39:52.443Z"
   },
   {
    "duration": 83,
    "start_time": "2024-06-11T20:39:52.552Z"
   },
   {
    "duration": 91,
    "start_time": "2024-06-11T20:39:52.638Z"
   },
   {
    "duration": 74,
    "start_time": "2024-06-11T20:39:52.732Z"
   },
   {
    "duration": 13,
    "start_time": "2024-06-11T20:39:52.825Z"
   },
   {
    "duration": 1629,
    "start_time": "2024-06-11T20:40:14.591Z"
   },
   {
    "duration": 156,
    "start_time": "2024-06-11T20:40:16.224Z"
   },
   {
    "duration": 14,
    "start_time": "2024-06-11T20:40:16.383Z"
   },
   {
    "duration": 166,
    "start_time": "2024-06-11T20:40:16.400Z"
   },
   {
    "duration": 11,
    "start_time": "2024-06-11T20:40:16.571Z"
   },
   {
    "duration": 197,
    "start_time": "2024-06-11T20:40:16.586Z"
   },
   {
    "duration": 13,
    "start_time": "2024-06-11T20:40:16.786Z"
   },
   {
    "duration": 138,
    "start_time": "2024-06-11T20:40:16.804Z"
   },
   {
    "duration": 96,
    "start_time": "2024-06-11T20:40:16.945Z"
   },
   {
    "duration": 100,
    "start_time": "2024-06-11T20:40:17.045Z"
   },
   {
    "duration": 104,
    "start_time": "2024-06-11T20:40:17.148Z"
   },
   {
    "duration": 81,
    "start_time": "2024-06-11T20:40:17.258Z"
   },
   {
    "duration": 51,
    "start_time": "2024-06-11T20:41:24.130Z"
   },
   {
    "duration": 130,
    "start_time": "2024-06-11T20:43:30.921Z"
   },
   {
    "duration": 4,
    "start_time": "2024-06-12T20:00:59.035Z"
   },
   {
    "duration": 6479,
    "start_time": "2024-06-12T20:01:29.207Z"
   },
   {
    "duration": 288,
    "start_time": "2024-06-12T20:01:35.695Z"
   },
   {
    "duration": 36,
    "start_time": "2024-06-12T20:01:35.987Z"
   },
   {
    "duration": 250,
    "start_time": "2024-06-12T20:01:36.028Z"
   },
   {
    "duration": 16,
    "start_time": "2024-06-12T20:01:36.284Z"
   },
   {
    "duration": 238,
    "start_time": "2024-06-12T20:01:36.322Z"
   },
   {
    "duration": 22,
    "start_time": "2024-06-12T20:01:36.564Z"
   },
   {
    "duration": 190,
    "start_time": "2024-06-12T20:01:36.590Z"
   },
   {
    "duration": 174,
    "start_time": "2024-06-12T20:01:36.789Z"
   },
   {
    "duration": 185,
    "start_time": "2024-06-12T20:01:36.971Z"
   },
   {
    "duration": 195,
    "start_time": "2024-06-12T20:01:37.160Z"
   },
   {
    "duration": 5,
    "start_time": "2024-06-12T20:01:37.360Z"
   },
   {
    "duration": 8,
    "start_time": "2024-06-12T20:01:37.371Z"
   },
   {
    "duration": 6,
    "start_time": "2024-06-12T20:01:37.393Z"
   },
   {
    "duration": 14,
    "start_time": "2024-06-12T20:01:37.411Z"
   },
   {
    "duration": 21,
    "start_time": "2024-06-12T20:04:40.487Z"
   },
   {
    "duration": 26,
    "start_time": "2024-06-12T20:05:30.077Z"
   },
   {
    "duration": 1585,
    "start_time": "2024-06-12T20:37:28.091Z"
   },
   {
    "duration": 196,
    "start_time": "2024-06-12T20:37:29.681Z"
   },
   {
    "duration": 14,
    "start_time": "2024-06-12T20:37:29.881Z"
   },
   {
    "duration": 164,
    "start_time": "2024-06-12T20:37:29.898Z"
   },
   {
    "duration": 13,
    "start_time": "2024-06-12T20:37:30.067Z"
   },
   {
    "duration": 184,
    "start_time": "2024-06-12T20:37:30.083Z"
   },
   {
    "duration": 15,
    "start_time": "2024-06-12T20:37:30.271Z"
   },
   {
    "duration": 150,
    "start_time": "2024-06-12T20:37:30.290Z"
   },
   {
    "duration": 111,
    "start_time": "2024-06-12T20:37:30.443Z"
   },
   {
    "duration": 85,
    "start_time": "2024-06-12T20:37:30.556Z"
   },
   {
    "duration": 98,
    "start_time": "2024-06-12T20:37:30.644Z"
   },
   {
    "duration": 29,
    "start_time": "2024-06-12T20:37:30.745Z"
   },
   {
    "duration": 308,
    "start_time": "2024-06-12T20:37:30.777Z"
   },
   {
    "duration": 0,
    "start_time": "2024-06-12T20:37:31.089Z"
   },
   {
    "duration": 0,
    "start_time": "2024-06-12T20:37:31.092Z"
   },
   {
    "duration": 1668,
    "start_time": "2024-06-12T20:46:30.494Z"
   },
   {
    "duration": 161,
    "start_time": "2024-06-12T20:46:32.166Z"
   },
   {
    "duration": 15,
    "start_time": "2024-06-12T20:46:32.331Z"
   },
   {
    "duration": 163,
    "start_time": "2024-06-12T20:46:32.350Z"
   },
   {
    "duration": 14,
    "start_time": "2024-06-12T20:46:32.518Z"
   },
   {
    "duration": 164,
    "start_time": "2024-06-12T20:46:32.534Z"
   },
   {
    "duration": 22,
    "start_time": "2024-06-12T20:46:32.701Z"
   },
   {
    "duration": 122,
    "start_time": "2024-06-12T20:46:32.726Z"
   },
   {
    "duration": 85,
    "start_time": "2024-06-12T20:46:32.851Z"
   },
   {
    "duration": 83,
    "start_time": "2024-06-12T20:46:32.940Z"
   },
   {
    "duration": 74,
    "start_time": "2024-06-12T20:46:33.026Z"
   },
   {
    "duration": 36,
    "start_time": "2024-06-12T20:46:33.103Z"
   },
   {
    "duration": 17,
    "start_time": "2024-06-12T20:46:33.142Z"
   },
   {
    "duration": 60,
    "start_time": "2024-06-12T20:46:33.163Z"
   },
   {
    "duration": 9,
    "start_time": "2024-06-12T20:46:33.228Z"
   },
   {
    "duration": 1850,
    "start_time": "2024-06-12T20:47:14.817Z"
   },
   {
    "duration": 201,
    "start_time": "2024-06-12T20:47:16.673Z"
   },
   {
    "duration": 17,
    "start_time": "2024-06-12T20:47:16.881Z"
   },
   {
    "duration": 179,
    "start_time": "2024-06-12T20:47:16.902Z"
   },
   {
    "duration": 12,
    "start_time": "2024-06-12T20:47:17.087Z"
   },
   {
    "duration": 168,
    "start_time": "2024-06-12T20:47:17.123Z"
   },
   {
    "duration": 28,
    "start_time": "2024-06-12T20:47:17.295Z"
   },
   {
    "duration": 142,
    "start_time": "2024-06-12T20:47:17.328Z"
   },
   {
    "duration": 90,
    "start_time": "2024-06-12T20:47:17.474Z"
   },
   {
    "duration": 84,
    "start_time": "2024-06-12T20:47:17.568Z"
   },
   {
    "duration": 96,
    "start_time": "2024-06-12T20:47:17.656Z"
   },
   {
    "duration": 21,
    "start_time": "2024-06-12T20:47:17.758Z"
   },
   {
    "duration": 46,
    "start_time": "2024-06-12T20:47:17.782Z"
   },
   {
    "duration": 10,
    "start_time": "2024-06-12T20:47:17.837Z"
   },
   {
    "duration": 7,
    "start_time": "2024-06-12T20:47:17.924Z"
   },
   {
    "duration": 1663,
    "start_time": "2024-06-12T21:20:10.560Z"
   },
   {
    "duration": 164,
    "start_time": "2024-06-12T21:20:12.228Z"
   },
   {
    "duration": 29,
    "start_time": "2024-06-12T21:20:12.395Z"
   },
   {
    "duration": 152,
    "start_time": "2024-06-12T21:20:12.427Z"
   },
   {
    "duration": 11,
    "start_time": "2024-06-12T21:20:12.584Z"
   },
   {
    "duration": 190,
    "start_time": "2024-06-12T21:20:12.598Z"
   },
   {
    "duration": 13,
    "start_time": "2024-06-12T21:20:12.792Z"
   },
   {
    "duration": 126,
    "start_time": "2024-06-12T21:20:12.824Z"
   },
   {
    "duration": 96,
    "start_time": "2024-06-12T21:20:12.953Z"
   },
   {
    "duration": 86,
    "start_time": "2024-06-12T21:20:13.052Z"
   },
   {
    "duration": 108,
    "start_time": "2024-06-12T21:20:13.141Z"
   },
   {
    "duration": 20,
    "start_time": "2024-06-12T21:20:13.252Z"
   },
   {
    "duration": 53,
    "start_time": "2024-06-12T21:20:13.275Z"
   },
   {
    "duration": 6,
    "start_time": "2024-06-12T21:20:13.334Z"
   },
   {
    "duration": 81,
    "start_time": "2024-06-12T21:20:13.343Z"
   },
   {
    "duration": 21,
    "start_time": "2024-06-12T21:20:13.428Z"
   },
   {
    "duration": 19,
    "start_time": "2024-06-12T21:20:13.452Z"
   },
   {
    "duration": 51,
    "start_time": "2024-06-12T21:20:13.473Z"
   },
   {
    "duration": 8,
    "start_time": "2024-06-12T21:20:13.528Z"
   },
   {
    "duration": 95,
    "start_time": "2024-06-12T21:20:13.539Z"
   },
   {
    "duration": 16,
    "start_time": "2024-06-12T21:20:13.637Z"
   },
   {
    "duration": 5,
    "start_time": "2024-06-12T21:20:13.656Z"
   },
   {
    "duration": 7,
    "start_time": "2024-06-12T21:20:13.724Z"
   },
   {
    "duration": 5130,
    "start_time": "2024-06-12T23:01:16.159Z"
   },
   {
    "duration": 203,
    "start_time": "2024-06-12T23:01:21.294Z"
   },
   {
    "duration": 13,
    "start_time": "2024-06-12T23:01:21.500Z"
   },
   {
    "duration": 189,
    "start_time": "2024-06-12T23:01:21.532Z"
   },
   {
    "duration": 16,
    "start_time": "2024-06-12T23:01:21.726Z"
   },
   {
    "duration": 187,
    "start_time": "2024-06-12T23:01:21.744Z"
   },
   {
    "duration": 13,
    "start_time": "2024-06-12T23:01:21.935Z"
   },
   {
    "duration": 128,
    "start_time": "2024-06-12T23:01:21.950Z"
   },
   {
    "duration": 78,
    "start_time": "2024-06-12T23:01:22.081Z"
   },
   {
    "duration": 80,
    "start_time": "2024-06-12T23:01:22.161Z"
   },
   {
    "duration": 64,
    "start_time": "2024-06-12T23:01:22.244Z"
   },
   {
    "duration": 20,
    "start_time": "2024-06-12T23:01:22.332Z"
   },
   {
    "duration": 20,
    "start_time": "2024-06-12T23:01:22.355Z"
   },
   {
    "duration": 6,
    "start_time": "2024-06-12T23:01:22.434Z"
   },
   {
    "duration": 85,
    "start_time": "2024-06-12T23:01:22.448Z"
   },
   {
    "duration": 18,
    "start_time": "2024-06-12T23:01:22.536Z"
   },
   {
    "duration": 17,
    "start_time": "2024-06-12T23:01:22.557Z"
   },
   {
    "duration": 56,
    "start_time": "2024-06-12T23:01:22.577Z"
   },
   {
    "duration": 6,
    "start_time": "2024-06-12T23:01:22.636Z"
   },
   {
    "duration": 91,
    "start_time": "2024-06-12T23:01:22.644Z"
   },
   {
    "duration": 14,
    "start_time": "2024-06-12T23:01:22.738Z"
   },
   {
    "duration": 5,
    "start_time": "2024-06-12T23:01:22.755Z"
   },
   {
    "duration": 72,
    "start_time": "2024-06-12T23:01:22.764Z"
   },
   {
    "duration": 12,
    "start_time": "2024-06-12T23:01:22.839Z"
   },
   {
    "duration": 8,
    "start_time": "2024-06-12T23:04:09.363Z"
   },
   {
    "duration": 1555,
    "start_time": "2024-06-12T23:06:08.924Z"
   },
   {
    "duration": 143,
    "start_time": "2024-06-12T23:06:10.482Z"
   },
   {
    "duration": 13,
    "start_time": "2024-06-12T23:06:10.632Z"
   },
   {
    "duration": 153,
    "start_time": "2024-06-12T23:06:10.648Z"
   },
   {
    "duration": 11,
    "start_time": "2024-06-12T23:06:10.806Z"
   },
   {
    "duration": 142,
    "start_time": "2024-06-12T23:06:10.832Z"
   },
   {
    "duration": 10,
    "start_time": "2024-06-12T23:06:10.978Z"
   },
   {
    "duration": 125,
    "start_time": "2024-06-12T23:06:10.992Z"
   },
   {
    "duration": 69,
    "start_time": "2024-06-12T23:06:11.120Z"
   },
   {
    "duration": 87,
    "start_time": "2024-06-12T23:06:11.192Z"
   },
   {
    "duration": 93,
    "start_time": "2024-06-12T23:06:11.283Z"
   },
   {
    "duration": 22,
    "start_time": "2024-06-12T23:06:11.379Z"
   },
   {
    "duration": 48,
    "start_time": "2024-06-12T23:06:11.405Z"
   },
   {
    "duration": 9,
    "start_time": "2024-06-12T23:06:11.459Z"
   },
   {
    "duration": 67,
    "start_time": "2024-06-12T23:06:11.470Z"
   },
   {
    "duration": 95,
    "start_time": "2024-06-12T23:06:11.549Z"
   },
   {
    "duration": 14,
    "start_time": "2024-06-12T23:06:11.647Z"
   },
   {
    "duration": 5,
    "start_time": "2024-06-12T23:06:11.664Z"
   },
   {
    "duration": 63,
    "start_time": "2024-06-12T23:06:11.672Z"
   },
   {
    "duration": 95,
    "start_time": "2024-06-12T23:06:11.738Z"
   },
   {
    "duration": 14,
    "start_time": "2024-06-12T23:06:11.838Z"
   },
   {
    "duration": 6,
    "start_time": "2024-06-12T23:06:11.856Z"
   },
   {
    "duration": 69,
    "start_time": "2024-06-12T23:06:11.867Z"
   },
   {
    "duration": 14,
    "start_time": "2024-06-12T23:06:11.939Z"
   },
   {
    "duration": 9,
    "start_time": "2024-06-12T23:07:10.949Z"
   },
   {
    "duration": 9,
    "start_time": "2024-06-12T23:07:54.337Z"
   },
   {
    "duration": 6,
    "start_time": "2024-06-12T23:11:48.530Z"
   },
   {
    "duration": 5,
    "start_time": "2024-06-12T23:15:18.507Z"
   },
   {
    "duration": 1490,
    "start_time": "2024-06-12T23:15:33.574Z"
   },
   {
    "duration": 145,
    "start_time": "2024-06-12T23:15:35.068Z"
   },
   {
    "duration": 22,
    "start_time": "2024-06-12T23:15:35.216Z"
   },
   {
    "duration": 158,
    "start_time": "2024-06-12T23:15:35.240Z"
   },
   {
    "duration": 11,
    "start_time": "2024-06-12T23:15:35.403Z"
   },
   {
    "duration": 137,
    "start_time": "2024-06-12T23:15:35.432Z"
   },
   {
    "duration": 12,
    "start_time": "2024-06-12T23:15:35.573Z"
   },
   {
    "duration": 130,
    "start_time": "2024-06-12T23:15:35.588Z"
   },
   {
    "duration": 74,
    "start_time": "2024-06-12T23:15:35.720Z"
   },
   {
    "duration": 85,
    "start_time": "2024-06-12T23:15:35.797Z"
   },
   {
    "duration": 78,
    "start_time": "2024-06-12T23:15:35.885Z"
   },
   {
    "duration": 17,
    "start_time": "2024-06-12T23:15:35.966Z"
   },
   {
    "duration": 47,
    "start_time": "2024-06-12T23:15:35.986Z"
   },
   {
    "duration": 5,
    "start_time": "2024-06-12T23:15:36.038Z"
   },
   {
    "duration": 7,
    "start_time": "2024-06-12T23:15:36.046Z"
   },
   {
    "duration": 90,
    "start_time": "2024-06-12T23:15:36.057Z"
   },
   {
    "duration": 15,
    "start_time": "2024-06-12T23:15:36.150Z"
   },
   {
    "duration": 5,
    "start_time": "2024-06-12T23:15:36.168Z"
   },
   {
    "duration": 62,
    "start_time": "2024-06-12T23:15:36.176Z"
   },
   {
    "duration": 97,
    "start_time": "2024-06-12T23:15:36.241Z"
   },
   {
    "duration": 15,
    "start_time": "2024-06-12T23:15:36.341Z"
   },
   {
    "duration": 7,
    "start_time": "2024-06-12T23:15:36.359Z"
   },
   {
    "duration": 68,
    "start_time": "2024-06-12T23:15:36.369Z"
   },
   {
    "duration": 10,
    "start_time": "2024-06-12T23:15:36.441Z"
   },
   {
    "duration": 509,
    "start_time": "2024-06-12T23:15:36.455Z"
   },
   {
    "duration": 1727,
    "start_time": "2024-06-12T23:17:13.333Z"
   },
   {
    "duration": 161,
    "start_time": "2024-06-12T23:17:15.064Z"
   },
   {
    "duration": 13,
    "start_time": "2024-06-12T23:17:15.232Z"
   },
   {
    "duration": 151,
    "start_time": "2024-06-12T23:17:15.248Z"
   },
   {
    "duration": 13,
    "start_time": "2024-06-12T23:17:15.403Z"
   },
   {
    "duration": 146,
    "start_time": "2024-06-12T23:17:15.434Z"
   },
   {
    "duration": 12,
    "start_time": "2024-06-12T23:17:15.583Z"
   },
   {
    "duration": 137,
    "start_time": "2024-06-12T23:17:15.599Z"
   },
   {
    "duration": 96,
    "start_time": "2024-06-12T23:17:15.740Z"
   },
   {
    "duration": 94,
    "start_time": "2024-06-12T23:17:15.839Z"
   },
   {
    "duration": 116,
    "start_time": "2024-06-12T23:17:15.936Z"
   },
   {
    "duration": 20,
    "start_time": "2024-06-12T23:17:16.056Z"
   },
   {
    "duration": 18,
    "start_time": "2024-06-12T23:17:16.079Z"
   },
   {
    "duration": 17,
    "start_time": "2024-06-12T23:17:16.144Z"
   },
   {
    "duration": 70,
    "start_time": "2024-06-12T23:17:16.165Z"
   },
   {
    "duration": 25,
    "start_time": "2024-06-12T23:17:16.240Z"
   },
   {
    "duration": 18,
    "start_time": "2024-06-12T23:17:16.267Z"
   },
   {
    "duration": 6,
    "start_time": "2024-06-12T23:17:16.333Z"
   },
   {
    "duration": 18,
    "start_time": "2024-06-12T23:17:16.343Z"
   },
   {
    "duration": 25,
    "start_time": "2024-06-12T23:17:16.434Z"
   },
   {
    "duration": 27,
    "start_time": "2024-06-12T23:17:16.463Z"
   },
   {
    "duration": 10,
    "start_time": "2024-06-12T23:17:16.537Z"
   },
   {
    "duration": 13,
    "start_time": "2024-06-12T23:17:16.553Z"
   },
   {
    "duration": 8,
    "start_time": "2024-06-12T23:17:16.636Z"
   },
   {
    "duration": 9,
    "start_time": "2024-06-12T23:17:16.648Z"
   },
   {
    "duration": 1564,
    "start_time": "2024-06-12T23:45:31.336Z"
   },
   {
    "duration": 166,
    "start_time": "2024-06-12T23:45:32.904Z"
   },
   {
    "duration": 13,
    "start_time": "2024-06-12T23:45:33.073Z"
   },
   {
    "duration": 153,
    "start_time": "2024-06-12T23:45:33.089Z"
   },
   {
    "duration": 10,
    "start_time": "2024-06-12T23:45:33.247Z"
   },
   {
    "duration": 161,
    "start_time": "2024-06-12T23:45:33.261Z"
   },
   {
    "duration": 16,
    "start_time": "2024-06-12T23:45:33.425Z"
   },
   {
    "duration": 123,
    "start_time": "2024-06-12T23:45:33.443Z"
   },
   {
    "duration": 77,
    "start_time": "2024-06-12T23:45:33.569Z"
   },
   {
    "duration": 85,
    "start_time": "2024-06-12T23:45:33.650Z"
   },
   {
    "duration": 62,
    "start_time": "2024-06-12T23:45:33.739Z"
   },
   {
    "duration": 38,
    "start_time": "2024-06-12T23:45:33.804Z"
   },
   {
    "duration": 17,
    "start_time": "2024-06-12T23:45:33.844Z"
   },
   {
    "duration": 5,
    "start_time": "2024-06-12T23:45:33.866Z"
   },
   {
    "duration": 7,
    "start_time": "2024-06-12T23:45:33.934Z"
   },
   {
    "duration": 94,
    "start_time": "2024-06-12T23:45:33.944Z"
   },
   {
    "duration": 15,
    "start_time": "2024-06-12T23:45:34.041Z"
   },
   {
    "duration": 298,
    "start_time": "2024-06-12T23:45:34.059Z"
   },
   {
    "duration": 9,
    "start_time": "2024-06-12T23:45:34.434Z"
   },
   {
    "duration": 95,
    "start_time": "2024-06-12T23:45:34.446Z"
   },
   {
    "duration": 13,
    "start_time": "2024-06-12T23:45:34.544Z"
   },
   {
    "duration": 5,
    "start_time": "2024-06-12T23:45:34.560Z"
   },
   {
    "duration": 65,
    "start_time": "2024-06-12T23:45:34.568Z"
   },
   {
    "duration": 15,
    "start_time": "2024-06-12T23:45:34.636Z"
   },
   {
    "duration": 521,
    "start_time": "2024-06-12T23:45:34.654Z"
   },
   {
    "duration": 1583,
    "start_time": "2024-06-12T23:50:01.407Z"
   },
   {
    "duration": 152,
    "start_time": "2024-06-12T23:50:02.994Z"
   },
   {
    "duration": 13,
    "start_time": "2024-06-12T23:50:03.149Z"
   },
   {
    "duration": 158,
    "start_time": "2024-06-12T23:50:03.168Z"
   },
   {
    "duration": 11,
    "start_time": "2024-06-12T23:50:03.332Z"
   },
   {
    "duration": 157,
    "start_time": "2024-06-12T23:50:03.346Z"
   },
   {
    "duration": 12,
    "start_time": "2024-06-12T23:50:03.506Z"
   },
   {
    "duration": 117,
    "start_time": "2024-06-12T23:50:03.533Z"
   },
   {
    "duration": 63,
    "start_time": "2024-06-12T23:50:03.652Z"
   },
   {
    "duration": 60,
    "start_time": "2024-06-12T23:50:03.736Z"
   },
   {
    "duration": 88,
    "start_time": "2024-06-12T23:50:03.799Z"
   },
   {
    "duration": 18,
    "start_time": "2024-06-12T23:50:03.890Z"
   },
   {
    "duration": 38,
    "start_time": "2024-06-12T23:50:03.911Z"
   },
   {
    "duration": 5,
    "start_time": "2024-06-12T23:50:03.951Z"
   },
   {
    "duration": 5,
    "start_time": "2024-06-12T23:50:03.959Z"
   },
   {
    "duration": 104,
    "start_time": "2024-06-12T23:50:04.034Z"
   },
   {
    "duration": 16,
    "start_time": "2024-06-12T23:50:04.141Z"
   },
   {
    "duration": 378,
    "start_time": "2024-06-12T23:50:04.160Z"
   },
   {
    "duration": 8,
    "start_time": "2024-06-12T23:50:04.541Z"
   },
   {
    "duration": 96,
    "start_time": "2024-06-12T23:50:04.552Z"
   },
   {
    "duration": 90,
    "start_time": "2024-06-12T23:50:04.651Z"
   },
   {
    "duration": 6,
    "start_time": "2024-06-12T23:50:04.744Z"
   },
   {
    "duration": 78,
    "start_time": "2024-06-12T23:50:04.756Z"
   },
   {
    "duration": 9,
    "start_time": "2024-06-12T23:50:04.837Z"
   },
   {
    "duration": 499,
    "start_time": "2024-06-12T23:50:04.851Z"
   },
   {
    "duration": 1577,
    "start_time": "2024-06-12T23:52:59.822Z"
   },
   {
    "duration": 166,
    "start_time": "2024-06-12T23:53:01.402Z"
   },
   {
    "duration": 14,
    "start_time": "2024-06-12T23:53:01.571Z"
   },
   {
    "duration": 170,
    "start_time": "2024-06-12T23:53:01.588Z"
   },
   {
    "duration": 11,
    "start_time": "2024-06-12T23:53:01.763Z"
   },
   {
    "duration": 159,
    "start_time": "2024-06-12T23:53:01.777Z"
   },
   {
    "duration": 10,
    "start_time": "2024-06-12T23:53:01.940Z"
   },
   {
    "duration": 129,
    "start_time": "2024-06-12T23:53:01.953Z"
   },
   {
    "duration": 73,
    "start_time": "2024-06-12T23:53:02.088Z"
   },
   {
    "duration": 80,
    "start_time": "2024-06-12T23:53:02.163Z"
   },
   {
    "duration": 61,
    "start_time": "2024-06-12T23:53:02.247Z"
   },
   {
    "duration": 37,
    "start_time": "2024-06-12T23:53:02.311Z"
   },
   {
    "duration": 16,
    "start_time": "2024-06-12T23:53:02.351Z"
   },
   {
    "duration": 380,
    "start_time": "2024-06-12T23:53:02.372Z"
   },
   {
    "duration": 83,
    "start_time": "2024-06-12T23:53:02.757Z"
   },
   {
    "duration": 7,
    "start_time": "2024-06-12T23:53:02.844Z"
   },
   {
    "duration": 485,
    "start_time": "2024-06-12T23:53:02.855Z"
   },
   {
    "duration": 1497,
    "start_time": "2024-06-12T23:59:08.376Z"
   },
   {
    "duration": 148,
    "start_time": "2024-06-12T23:59:09.877Z"
   },
   {
    "duration": 12,
    "start_time": "2024-06-12T23:59:10.032Z"
   },
   {
    "duration": 150,
    "start_time": "2024-06-12T23:59:10.047Z"
   },
   {
    "duration": 11,
    "start_time": "2024-06-12T23:59:10.201Z"
   },
   {
    "duration": 151,
    "start_time": "2024-06-12T23:59:10.232Z"
   },
   {
    "duration": 12,
    "start_time": "2024-06-12T23:59:10.387Z"
   },
   {
    "duration": 131,
    "start_time": "2024-06-12T23:59:10.402Z"
   },
   {
    "duration": 65,
    "start_time": "2024-06-12T23:59:10.536Z"
   },
   {
    "duration": 86,
    "start_time": "2024-06-12T23:59:10.604Z"
   },
   {
    "duration": 78,
    "start_time": "2024-06-12T23:59:10.693Z"
   },
   {
    "duration": 18,
    "start_time": "2024-06-12T23:59:10.774Z"
   },
   {
    "duration": 45,
    "start_time": "2024-06-12T23:59:10.794Z"
   },
   {
    "duration": 13,
    "start_time": "2024-06-12T23:59:10.844Z"
   },
   {
    "duration": 410,
    "start_time": "2024-06-12T23:59:10.932Z"
   },
   {
    "duration": 7,
    "start_time": "2024-06-12T23:59:11.344Z"
   },
   {
    "duration": 570,
    "start_time": "2024-06-12T23:59:11.354Z"
   },
   {
    "duration": 1618,
    "start_time": "2024-06-13T00:03:12.365Z"
   },
   {
    "duration": 174,
    "start_time": "2024-06-13T00:03:13.987Z"
   },
   {
    "duration": 15,
    "start_time": "2024-06-13T00:03:14.165Z"
   },
   {
    "duration": 149,
    "start_time": "2024-06-13T00:03:14.184Z"
   },
   {
    "duration": 11,
    "start_time": "2024-06-13T00:03:14.338Z"
   },
   {
    "duration": 157,
    "start_time": "2024-06-13T00:03:14.352Z"
   },
   {
    "duration": 24,
    "start_time": "2024-06-13T00:03:14.512Z"
   },
   {
    "duration": 119,
    "start_time": "2024-06-13T00:03:14.539Z"
   },
   {
    "duration": 78,
    "start_time": "2024-06-13T00:03:14.661Z"
   },
   {
    "duration": 61,
    "start_time": "2024-06-13T00:03:14.744Z"
   },
   {
    "duration": 81,
    "start_time": "2024-06-13T00:03:14.808Z"
   },
   {
    "duration": 18,
    "start_time": "2024-06-13T00:03:14.891Z"
   },
   {
    "duration": 17,
    "start_time": "2024-06-13T00:03:14.932Z"
   },
   {
    "duration": 8,
    "start_time": "2024-06-13T00:03:14.954Z"
   },
   {
    "duration": 471,
    "start_time": "2024-06-13T00:03:14.965Z"
   },
   {
    "duration": 10,
    "start_time": "2024-06-13T00:03:15.444Z"
   },
   {
    "duration": 488,
    "start_time": "2024-06-13T00:03:15.458Z"
   },
   {
    "duration": 1604,
    "start_time": "2024-06-13T00:12:39.056Z"
   },
   {
    "duration": 149,
    "start_time": "2024-06-13T00:12:40.663Z"
   },
   {
    "duration": 22,
    "start_time": "2024-06-13T00:12:40.815Z"
   },
   {
    "duration": 144,
    "start_time": "2024-06-13T00:12:40.840Z"
   },
   {
    "duration": 11,
    "start_time": "2024-06-13T00:12:40.990Z"
   },
   {
    "duration": 156,
    "start_time": "2024-06-13T00:12:41.004Z"
   },
   {
    "duration": 11,
    "start_time": "2024-06-13T00:12:41.163Z"
   },
   {
    "duration": 129,
    "start_time": "2024-06-13T00:12:41.177Z"
   },
   {
    "duration": 87,
    "start_time": "2024-06-13T00:12:41.309Z"
   },
   {
    "duration": 79,
    "start_time": "2024-06-13T00:12:41.399Z"
   },
   {
    "duration": 98,
    "start_time": "2024-06-13T00:12:41.480Z"
   },
   {
    "duration": 21,
    "start_time": "2024-06-13T00:12:41.582Z"
   },
   {
    "duration": 36,
    "start_time": "2024-06-13T00:12:41.609Z"
   },
   {
    "duration": 10,
    "start_time": "2024-06-13T00:12:41.650Z"
   },
   {
    "duration": 299,
    "start_time": "2024-06-13T00:12:41.663Z"
   },
   {
    "duration": 13,
    "start_time": "2024-06-13T00:12:42.034Z"
   },
   {
    "duration": 5,
    "start_time": "2024-06-13T00:12:42.050Z"
   },
   {
    "duration": 2263,
    "start_time": "2024-06-13T19:43:38.671Z"
   },
   {
    "duration": 0,
    "start_time": "2024-06-13T19:43:40.938Z"
   },
   {
    "duration": 0,
    "start_time": "2024-06-13T19:43:40.939Z"
   },
   {
    "duration": 0,
    "start_time": "2024-06-13T19:43:40.942Z"
   },
   {
    "duration": 1,
    "start_time": "2024-06-13T19:43:40.943Z"
   },
   {
    "duration": 0,
    "start_time": "2024-06-13T19:43:40.946Z"
   },
   {
    "duration": 0,
    "start_time": "2024-06-13T19:43:40.948Z"
   },
   {
    "duration": 0,
    "start_time": "2024-06-13T19:43:40.951Z"
   },
   {
    "duration": 0,
    "start_time": "2024-06-13T19:43:40.953Z"
   },
   {
    "duration": 0,
    "start_time": "2024-06-13T19:43:40.955Z"
   },
   {
    "duration": 0,
    "start_time": "2024-06-13T19:43:40.957Z"
   },
   {
    "duration": 0,
    "start_time": "2024-06-13T19:43:40.960Z"
   },
   {
    "duration": 0,
    "start_time": "2024-06-13T19:43:40.963Z"
   },
   {
    "duration": 0,
    "start_time": "2024-06-13T19:43:40.965Z"
   },
   {
    "duration": 0,
    "start_time": "2024-06-13T19:43:40.967Z"
   },
   {
    "duration": 1,
    "start_time": "2024-06-13T19:43:40.969Z"
   },
   {
    "duration": 0,
    "start_time": "2024-06-13T19:43:40.972Z"
   },
   {
    "duration": 0,
    "start_time": "2024-06-13T19:43:40.973Z"
   },
   {
    "duration": 0,
    "start_time": "2024-06-13T19:43:41.023Z"
   },
   {
    "duration": 0,
    "start_time": "2024-06-13T19:43:41.025Z"
   },
   {
    "duration": 1759,
    "start_time": "2024-06-13T19:44:35.624Z"
   },
   {
    "duration": 137,
    "start_time": "2024-06-13T19:44:37.387Z"
   },
   {
    "duration": 4129,
    "start_time": "2024-06-13T19:44:37.529Z"
   },
   {
    "duration": 152,
    "start_time": "2024-06-13T19:44:41.663Z"
   },
   {
    "duration": 13,
    "start_time": "2024-06-13T19:44:41.822Z"
   },
   {
    "duration": 160,
    "start_time": "2024-06-13T19:44:41.838Z"
   },
   {
    "duration": 23,
    "start_time": "2024-06-13T19:44:42.002Z"
   },
   {
    "duration": 160,
    "start_time": "2024-06-13T19:44:42.028Z"
   },
   {
    "duration": 13,
    "start_time": "2024-06-13T19:44:42.191Z"
   },
   {
    "duration": 140,
    "start_time": "2024-06-13T19:44:42.209Z"
   },
   {
    "duration": 102,
    "start_time": "2024-06-13T19:44:42.352Z"
   },
   {
    "duration": 94,
    "start_time": "2024-06-13T19:44:42.459Z"
   },
   {
    "duration": 92,
    "start_time": "2024-06-13T19:44:42.557Z"
   },
   {
    "duration": 20,
    "start_time": "2024-06-13T19:44:42.653Z"
   },
   {
    "duration": 54,
    "start_time": "2024-06-13T19:44:42.676Z"
   },
   {
    "duration": 89,
    "start_time": "2024-06-13T19:44:42.733Z"
   },
   {
    "duration": 401,
    "start_time": "2024-06-13T19:44:42.825Z"
   },
   {
    "duration": 89,
    "start_time": "2024-06-13T19:44:43.234Z"
   },
   {
    "duration": 6,
    "start_time": "2024-06-13T19:44:43.326Z"
   },
   {
    "duration": 1363,
    "start_time": "2024-06-13T19:44:43.336Z"
   },
   {
    "duration": 1625,
    "start_time": "2024-06-13T19:54:53.648Z"
   },
   {
    "duration": 146,
    "start_time": "2024-06-13T19:54:55.278Z"
   },
   {
    "duration": 10,
    "start_time": "2024-06-13T19:54:55.432Z"
   },
   {
    "duration": 976,
    "start_time": "2024-06-13T19:54:55.447Z"
   },
   {
    "duration": 0,
    "start_time": "2024-06-13T19:54:56.427Z"
   },
   {
    "duration": 0,
    "start_time": "2024-06-13T19:54:56.430Z"
   },
   {
    "duration": 0,
    "start_time": "2024-06-13T19:54:56.433Z"
   },
   {
    "duration": 0,
    "start_time": "2024-06-13T19:54:56.435Z"
   },
   {
    "duration": 0,
    "start_time": "2024-06-13T19:54:56.437Z"
   },
   {
    "duration": 0,
    "start_time": "2024-06-13T19:54:56.439Z"
   },
   {
    "duration": 0,
    "start_time": "2024-06-13T19:54:56.441Z"
   },
   {
    "duration": 0,
    "start_time": "2024-06-13T19:54:56.443Z"
   },
   {
    "duration": 0,
    "start_time": "2024-06-13T19:54:56.445Z"
   },
   {
    "duration": 0,
    "start_time": "2024-06-13T19:54:56.448Z"
   },
   {
    "duration": 0,
    "start_time": "2024-06-13T19:54:56.450Z"
   },
   {
    "duration": 0,
    "start_time": "2024-06-13T19:54:56.452Z"
   },
   {
    "duration": 0,
    "start_time": "2024-06-13T19:54:56.454Z"
   },
   {
    "duration": 0,
    "start_time": "2024-06-13T19:54:56.456Z"
   },
   {
    "duration": 0,
    "start_time": "2024-06-13T19:54:56.458Z"
   },
   {
    "duration": 0,
    "start_time": "2024-06-13T19:54:56.460Z"
   },
   {
    "duration": 0,
    "start_time": "2024-06-13T19:54:56.464Z"
   },
   {
    "duration": 0,
    "start_time": "2024-06-13T19:54:56.524Z"
   },
   {
    "duration": 0,
    "start_time": "2024-06-13T19:54:56.526Z"
   },
   {
    "duration": 1620,
    "start_time": "2024-06-13T20:06:14.648Z"
   },
   {
    "duration": 155,
    "start_time": "2024-06-13T20:06:16.271Z"
   },
   {
    "duration": 9,
    "start_time": "2024-06-13T20:06:16.429Z"
   },
   {
    "duration": 91,
    "start_time": "2024-06-13T20:06:16.446Z"
   },
   {
    "duration": 704,
    "start_time": "2024-06-13T20:06:16.540Z"
   },
   {
    "duration": 0,
    "start_time": "2024-06-13T20:06:17.249Z"
   },
   {
    "duration": 1,
    "start_time": "2024-06-13T20:06:17.251Z"
   },
   {
    "duration": 0,
    "start_time": "2024-06-13T20:06:17.253Z"
   },
   {
    "duration": 0,
    "start_time": "2024-06-13T20:06:17.256Z"
   },
   {
    "duration": 0,
    "start_time": "2024-06-13T20:06:17.259Z"
   },
   {
    "duration": 0,
    "start_time": "2024-06-13T20:06:17.262Z"
   },
   {
    "duration": 0,
    "start_time": "2024-06-13T20:06:17.264Z"
   },
   {
    "duration": 0,
    "start_time": "2024-06-13T20:06:17.266Z"
   },
   {
    "duration": 0,
    "start_time": "2024-06-13T20:06:17.269Z"
   },
   {
    "duration": 0,
    "start_time": "2024-06-13T20:06:17.271Z"
   },
   {
    "duration": 0,
    "start_time": "2024-06-13T20:06:17.273Z"
   },
   {
    "duration": 0,
    "start_time": "2024-06-13T20:06:17.276Z"
   },
   {
    "duration": 0,
    "start_time": "2024-06-13T20:06:17.278Z"
   },
   {
    "duration": 0,
    "start_time": "2024-06-13T20:06:17.323Z"
   },
   {
    "duration": 0,
    "start_time": "2024-06-13T20:06:17.325Z"
   },
   {
    "duration": 0,
    "start_time": "2024-06-13T20:06:17.328Z"
   },
   {
    "duration": 0,
    "start_time": "2024-06-13T20:06:17.329Z"
   },
   {
    "duration": 0,
    "start_time": "2024-06-13T20:06:17.331Z"
   },
   {
    "duration": 1603,
    "start_time": "2024-06-13T20:07:38.690Z"
   },
   {
    "duration": 136,
    "start_time": "2024-06-13T20:07:40.297Z"
   },
   {
    "duration": 10,
    "start_time": "2024-06-13T20:07:40.438Z"
   },
   {
    "duration": 31,
    "start_time": "2024-06-13T20:07:40.524Z"
   },
   {
    "duration": 13783,
    "start_time": "2024-06-13T20:07:40.624Z"
   },
   {
    "duration": 405,
    "start_time": "2024-06-13T20:07:54.410Z"
   },
   {
    "duration": 173,
    "start_time": "2024-06-13T20:07:54.818Z"
   },
   {
    "duration": 14,
    "start_time": "2024-06-13T20:07:54.994Z"
   },
   {
    "duration": 147,
    "start_time": "2024-06-13T20:07:55.025Z"
   },
   {
    "duration": 11,
    "start_time": "2024-06-13T20:07:55.175Z"
   },
   {
    "duration": 153,
    "start_time": "2024-06-13T20:07:55.190Z"
   },
   {
    "duration": 11,
    "start_time": "2024-06-13T20:07:55.346Z"
   },
   {
    "duration": 132,
    "start_time": "2024-06-13T20:07:55.361Z"
   },
   {
    "duration": 72,
    "start_time": "2024-06-13T20:07:55.501Z"
   },
   {
    "duration": 78,
    "start_time": "2024-06-13T20:07:55.576Z"
   },
   {
    "duration": 82,
    "start_time": "2024-06-13T20:07:55.657Z"
   },
   {
    "duration": 21,
    "start_time": "2024-06-13T20:07:55.741Z"
   },
   {
    "duration": 58,
    "start_time": "2024-06-13T20:07:55.765Z"
   },
   {
    "duration": 10,
    "start_time": "2024-06-13T20:07:55.825Z"
   },
   {
    "duration": 394,
    "start_time": "2024-06-13T20:07:55.838Z"
   },
   {
    "duration": 7,
    "start_time": "2024-06-13T20:07:56.234Z"
   },
   {
    "duration": 79,
    "start_time": "2024-06-13T20:07:56.247Z"
   },
   {
    "duration": 1183,
    "start_time": "2024-06-13T20:07:56.329Z"
   },
   {
    "duration": 1192,
    "start_time": "2024-06-13T20:13:17.686Z"
   },
   {
    "duration": 495,
    "start_time": "2024-06-13T20:13:18.882Z"
   },
   {
    "duration": 156,
    "start_time": "2024-06-13T20:13:19.380Z"
   },
   {
    "duration": 10,
    "start_time": "2024-06-13T20:13:19.540Z"
   },
   {
    "duration": 170,
    "start_time": "2024-06-13T20:13:19.555Z"
   },
   {
    "duration": 14500,
    "start_time": "2024-06-13T20:13:19.732Z"
   },
   {
    "duration": 412,
    "start_time": "2024-06-13T20:13:34.236Z"
   },
   {
    "duration": 172,
    "start_time": "2024-06-13T20:13:34.652Z"
   },
   {
    "duration": 13,
    "start_time": "2024-06-13T20:13:34.827Z"
   },
   {
    "duration": 162,
    "start_time": "2024-06-13T20:13:34.846Z"
   },
   {
    "duration": 23,
    "start_time": "2024-06-13T20:13:35.012Z"
   },
   {
    "duration": 217,
    "start_time": "2024-06-13T20:13:35.038Z"
   },
   {
    "duration": 12,
    "start_time": "2024-06-13T20:13:35.258Z"
   },
   {
    "duration": 151,
    "start_time": "2024-06-13T20:13:35.279Z"
   },
   {
    "duration": 90,
    "start_time": "2024-06-13T20:13:35.433Z"
   },
   {
    "duration": 67,
    "start_time": "2024-06-13T20:13:35.526Z"
   },
   {
    "duration": 94,
    "start_time": "2024-06-13T20:13:35.596Z"
   },
   {
    "duration": 38,
    "start_time": "2024-06-13T20:13:35.695Z"
   },
   {
    "duration": 26,
    "start_time": "2024-06-13T20:13:35.737Z"
   },
   {
    "duration": 65,
    "start_time": "2024-06-13T20:13:35.768Z"
   },
   {
    "duration": 599,
    "start_time": "2024-06-13T20:13:35.836Z"
   },
   {
    "duration": 13,
    "start_time": "2024-06-13T20:13:36.440Z"
   },
   {
    "duration": 76,
    "start_time": "2024-06-13T20:13:36.456Z"
   },
   {
    "duration": 1223,
    "start_time": "2024-06-13T20:13:36.537Z"
   },
   {
    "duration": 1666,
    "start_time": "2024-06-13T21:01:47.718Z"
   },
   {
    "duration": 429,
    "start_time": "2024-06-13T21:01:49.388Z"
   },
   {
    "duration": 1613,
    "start_time": "2024-06-13T21:01:49.824Z"
   },
   {
    "duration": 47,
    "start_time": "2024-06-13T21:01:51.440Z"
   },
   {
    "duration": 134,
    "start_time": "2024-06-13T21:01:51.491Z"
   },
   {
    "duration": 10,
    "start_time": "2024-06-13T21:01:51.628Z"
   },
   {
    "duration": 101,
    "start_time": "2024-06-13T21:01:51.640Z"
   },
   {
    "duration": 14999,
    "start_time": "2024-06-13T21:01:51.747Z"
   },
   {
    "duration": 5,
    "start_time": "2024-06-13T21:02:06.750Z"
   },
   {
    "duration": 175,
    "start_time": "2024-06-13T21:02:06.759Z"
   },
   {
    "duration": 13,
    "start_time": "2024-06-13T21:02:06.938Z"
   },
   {
    "duration": 173,
    "start_time": "2024-06-13T21:02:06.955Z"
   },
   {
    "duration": 12,
    "start_time": "2024-06-13T21:02:07.132Z"
   },
   {
    "duration": 173,
    "start_time": "2024-06-13T21:02:07.150Z"
   },
   {
    "duration": 18,
    "start_time": "2024-06-13T21:02:07.327Z"
   },
   {
    "duration": 171,
    "start_time": "2024-06-13T21:02:07.353Z"
   },
   {
    "duration": 109,
    "start_time": "2024-06-13T21:02:07.527Z"
   },
   {
    "duration": 88,
    "start_time": "2024-06-13T21:02:07.640Z"
   },
   {
    "duration": 99,
    "start_time": "2024-06-13T21:02:07.732Z"
   },
   {
    "duration": 20,
    "start_time": "2024-06-13T21:02:07.835Z"
   },
   {
    "duration": 17,
    "start_time": "2024-06-13T21:02:07.859Z"
   },
   {
    "duration": 50,
    "start_time": "2024-06-13T21:02:07.879Z"
   },
   {
    "duration": 495,
    "start_time": "2024-06-13T21:02:07.933Z"
   },
   {
    "duration": 13,
    "start_time": "2024-06-13T21:02:08.435Z"
   },
   {
    "duration": 7,
    "start_time": "2024-06-13T21:02:08.524Z"
   },
   {
    "duration": 1459,
    "start_time": "2024-06-13T21:02:08.534Z"
   },
   {
    "duration": 1558,
    "start_time": "2024-06-13T21:03:50.716Z"
   },
   {
    "duration": 415,
    "start_time": "2024-06-13T21:03:52.278Z"
   },
   {
    "duration": 311,
    "start_time": "2024-06-13T21:03:52.697Z"
   },
   {
    "duration": 805,
    "start_time": "2024-06-13T21:03:53.022Z"
   },
   {
    "duration": 457,
    "start_time": "2024-06-13T21:03:53.831Z"
   },
   {
    "duration": 56,
    "start_time": "2024-06-13T21:03:54.291Z"
   },
   {
    "duration": 79,
    "start_time": "2024-06-13T21:03:54.351Z"
   },
   {
    "duration": 6,
    "start_time": "2024-06-13T21:03:54.433Z"
   },
   {
    "duration": 98,
    "start_time": "2024-06-13T21:03:54.442Z"
   },
   {
    "duration": 13989,
    "start_time": "2024-06-13T21:03:54.546Z"
   },
   {
    "duration": 5,
    "start_time": "2024-06-13T21:04:08.538Z"
   },
   {
    "duration": 156,
    "start_time": "2024-06-13T21:04:08.547Z"
   },
   {
    "duration": 19,
    "start_time": "2024-06-13T21:04:08.706Z"
   },
   {
    "duration": 149,
    "start_time": "2024-06-13T21:04:08.729Z"
   },
   {
    "duration": 11,
    "start_time": "2024-06-13T21:04:08.881Z"
   },
   {
    "duration": 156,
    "start_time": "2024-06-13T21:04:08.896Z"
   },
   {
    "duration": 11,
    "start_time": "2024-06-13T21:04:09.055Z"
   },
   {
    "duration": 132,
    "start_time": "2024-06-13T21:04:09.070Z"
   },
   {
    "duration": 83,
    "start_time": "2024-06-13T21:04:09.207Z"
   },
   {
    "duration": 81,
    "start_time": "2024-06-13T21:04:09.293Z"
   },
   {
    "duration": 85,
    "start_time": "2024-06-13T21:04:09.376Z"
   },
   {
    "duration": 20,
    "start_time": "2024-06-13T21:04:09.464Z"
   },
   {
    "duration": 37,
    "start_time": "2024-06-13T21:04:09.488Z"
   },
   {
    "duration": 9,
    "start_time": "2024-06-13T21:04:09.527Z"
   },
   {
    "duration": 487,
    "start_time": "2024-06-13T21:04:09.539Z"
   },
   {
    "duration": 7,
    "start_time": "2024-06-13T21:04:10.029Z"
   },
   {
    "duration": 6,
    "start_time": "2024-06-13T21:04:10.039Z"
   },
   {
    "duration": 1267,
    "start_time": "2024-06-13T21:04:10.124Z"
   },
   {
    "duration": 1590,
    "start_time": "2024-06-13T21:22:59.741Z"
   },
   {
    "duration": 398,
    "start_time": "2024-06-13T21:23:01.335Z"
   },
   {
    "duration": 309,
    "start_time": "2024-06-13T21:23:01.736Z"
   },
   {
    "duration": 815,
    "start_time": "2024-06-13T21:23:02.048Z"
   },
   {
    "duration": 473,
    "start_time": "2024-06-13T21:23:02.868Z"
   },
   {
    "duration": 45,
    "start_time": "2024-06-13T21:23:03.344Z"
   },
   {
    "duration": 648,
    "start_time": "2024-06-13T21:23:03.392Z"
   },
   {
    "duration": 0,
    "start_time": "2024-06-13T21:23:04.044Z"
   },
   {
    "duration": 0,
    "start_time": "2024-06-13T21:23:04.046Z"
   },
   {
    "duration": 0,
    "start_time": "2024-06-13T21:23:04.049Z"
   },
   {
    "duration": 0,
    "start_time": "2024-06-13T21:23:04.051Z"
   },
   {
    "duration": 0,
    "start_time": "2024-06-13T21:23:04.053Z"
   },
   {
    "duration": 0,
    "start_time": "2024-06-13T21:23:04.056Z"
   },
   {
    "duration": 0,
    "start_time": "2024-06-13T21:23:04.059Z"
   },
   {
    "duration": 0,
    "start_time": "2024-06-13T21:23:04.061Z"
   },
   {
    "duration": 0,
    "start_time": "2024-06-13T21:23:04.063Z"
   },
   {
    "duration": 0,
    "start_time": "2024-06-13T21:23:04.066Z"
   },
   {
    "duration": 0,
    "start_time": "2024-06-13T21:23:04.068Z"
   },
   {
    "duration": 0,
    "start_time": "2024-06-13T21:23:04.071Z"
   },
   {
    "duration": 0,
    "start_time": "2024-06-13T21:23:04.073Z"
   },
   {
    "duration": 0,
    "start_time": "2024-06-13T21:23:04.076Z"
   },
   {
    "duration": 0,
    "start_time": "2024-06-13T21:23:04.124Z"
   },
   {
    "duration": 0,
    "start_time": "2024-06-13T21:23:04.126Z"
   },
   {
    "duration": 0,
    "start_time": "2024-06-13T21:23:04.129Z"
   },
   {
    "duration": 0,
    "start_time": "2024-06-13T21:23:04.132Z"
   },
   {
    "duration": 0,
    "start_time": "2024-06-13T21:23:04.134Z"
   },
   {
    "duration": 0,
    "start_time": "2024-06-13T21:23:04.136Z"
   },
   {
    "duration": 0,
    "start_time": "2024-06-13T21:23:04.138Z"
   },
   {
    "duration": 1556,
    "start_time": "2024-06-13T21:23:53.728Z"
   },
   {
    "duration": 405,
    "start_time": "2024-06-13T21:23:55.288Z"
   },
   {
    "duration": 306,
    "start_time": "2024-06-13T21:23:55.696Z"
   },
   {
    "duration": 802,
    "start_time": "2024-06-13T21:23:56.005Z"
   },
   {
    "duration": 457,
    "start_time": "2024-06-13T21:23:56.812Z"
   },
   {
    "duration": 57,
    "start_time": "2024-06-13T21:23:57.272Z"
   },
   {
    "duration": 193,
    "start_time": "2024-06-13T21:23:57.332Z"
   },
   {
    "duration": 7,
    "start_time": "2024-06-13T21:23:57.528Z"
   },
   {
    "duration": 92,
    "start_time": "2024-06-13T21:23:57.538Z"
   },
   {
    "duration": 13867,
    "start_time": "2024-06-13T21:23:57.633Z"
   },
   {
    "duration": 5,
    "start_time": "2024-06-13T21:24:11.503Z"
   },
   {
    "duration": 141,
    "start_time": "2024-06-13T21:24:11.523Z"
   },
   {
    "duration": 11,
    "start_time": "2024-06-13T21:24:11.667Z"
   },
   {
    "duration": 173,
    "start_time": "2024-06-13T21:24:11.686Z"
   },
   {
    "duration": 11,
    "start_time": "2024-06-13T21:24:11.862Z"
   },
   {
    "duration": 159,
    "start_time": "2024-06-13T21:24:11.876Z"
   },
   {
    "duration": 12,
    "start_time": "2024-06-13T21:24:12.038Z"
   },
   {
    "duration": 133,
    "start_time": "2024-06-13T21:24:12.052Z"
   },
   {
    "duration": 77,
    "start_time": "2024-06-13T21:24:12.188Z"
   },
   {
    "duration": 74,
    "start_time": "2024-06-13T21:24:12.267Z"
   },
   {
    "duration": 79,
    "start_time": "2024-06-13T21:24:12.344Z"
   },
   {
    "duration": 17,
    "start_time": "2024-06-13T21:24:12.426Z"
   },
   {
    "duration": 21,
    "start_time": "2024-06-13T21:24:12.446Z"
   },
   {
    "duration": 62,
    "start_time": "2024-06-13T21:24:12.470Z"
   },
   {
    "duration": 393,
    "start_time": "2024-06-13T21:24:12.535Z"
   },
   {
    "duration": 7,
    "start_time": "2024-06-13T21:24:12.931Z"
   },
   {
    "duration": 6,
    "start_time": "2024-06-13T21:24:12.941Z"
   },
   {
    "duration": 1235,
    "start_time": "2024-06-13T21:24:13.024Z"
   },
   {
    "duration": 1901,
    "start_time": "2024-06-13T21:57:44.767Z"
   },
   {
    "duration": 591,
    "start_time": "2024-06-13T21:57:46.672Z"
   },
   {
    "duration": 410,
    "start_time": "2024-06-13T21:57:47.268Z"
   },
   {
    "duration": 252,
    "start_time": "2024-06-13T21:57:47.682Z"
   },
   {
    "duration": 50,
    "start_time": "2024-06-13T21:57:47.942Z"
   },
   {
    "duration": 149,
    "start_time": "2024-06-13T21:57:47.995Z"
   },
   {
    "duration": 76,
    "start_time": "2024-06-13T21:57:48.149Z"
   },
   {
    "duration": 23,
    "start_time": "2024-06-13T21:57:48.229Z"
   },
   {
    "duration": 14873,
    "start_time": "2024-06-13T21:57:48.256Z"
   },
   {
    "duration": 7,
    "start_time": "2024-06-13T21:58:03.132Z"
   },
   {
    "duration": 180,
    "start_time": "2024-06-13T21:58:03.143Z"
   },
   {
    "duration": 12,
    "start_time": "2024-06-13T21:58:03.326Z"
   },
   {
    "duration": 168,
    "start_time": "2024-06-13T21:58:03.342Z"
   },
   {
    "duration": 14,
    "start_time": "2024-06-13T21:58:03.519Z"
   },
   {
    "duration": 227,
    "start_time": "2024-06-13T21:58:03.536Z"
   },
   {
    "duration": 19,
    "start_time": "2024-06-13T21:58:03.767Z"
   },
   {
    "duration": 153,
    "start_time": "2024-06-13T21:58:03.791Z"
   },
   {
    "duration": 87,
    "start_time": "2024-06-13T21:58:03.947Z"
   },
   {
    "duration": 86,
    "start_time": "2024-06-13T21:58:04.037Z"
   },
   {
    "duration": 68,
    "start_time": "2024-06-13T21:58:04.127Z"
   },
   {
    "duration": 41,
    "start_time": "2024-06-13T21:58:04.201Z"
   },
   {
    "duration": 18,
    "start_time": "2024-06-13T21:58:04.245Z"
   },
   {
    "duration": 8,
    "start_time": "2024-06-13T21:58:04.266Z"
   },
   {
    "duration": 312,
    "start_time": "2024-06-13T21:58:04.323Z"
   },
   {
    "duration": 7,
    "start_time": "2024-06-13T21:58:04.638Z"
   },
   {
    "duration": 75,
    "start_time": "2024-06-13T21:58:04.648Z"
   },
   {
    "duration": 1304,
    "start_time": "2024-06-13T21:58:04.728Z"
   },
   {
    "duration": 1629,
    "start_time": "2024-06-13T22:00:26.772Z"
   },
   {
    "duration": 452,
    "start_time": "2024-06-13T22:00:28.406Z"
   },
   {
    "duration": 317,
    "start_time": "2024-06-13T22:00:28.861Z"
   },
   {
    "duration": 197,
    "start_time": "2024-06-13T22:00:29.181Z"
   },
   {
    "duration": 1496,
    "start_time": "2024-06-13T22:00:29.384Z"
   },
   {
    "duration": 0,
    "start_time": "2024-06-13T22:00:30.885Z"
   },
   {
    "duration": 0,
    "start_time": "2024-06-13T22:00:30.888Z"
   },
   {
    "duration": 0,
    "start_time": "2024-06-13T22:00:30.892Z"
   },
   {
    "duration": 0,
    "start_time": "2024-06-13T22:00:30.894Z"
   },
   {
    "duration": 0,
    "start_time": "2024-06-13T22:00:30.896Z"
   },
   {
    "duration": 0,
    "start_time": "2024-06-13T22:00:30.898Z"
   },
   {
    "duration": 0,
    "start_time": "2024-06-13T22:00:30.923Z"
   },
   {
    "duration": 0,
    "start_time": "2024-06-13T22:00:30.925Z"
   },
   {
    "duration": 0,
    "start_time": "2024-06-13T22:00:30.936Z"
   },
   {
    "duration": 0,
    "start_time": "2024-06-13T22:00:30.938Z"
   },
   {
    "duration": 0,
    "start_time": "2024-06-13T22:00:30.940Z"
   },
   {
    "duration": 0,
    "start_time": "2024-06-13T22:00:30.948Z"
   },
   {
    "duration": 0,
    "start_time": "2024-06-13T22:00:30.951Z"
   },
   {
    "duration": 0,
    "start_time": "2024-06-13T22:00:30.954Z"
   },
   {
    "duration": 0,
    "start_time": "2024-06-13T22:00:30.957Z"
   },
   {
    "duration": 0,
    "start_time": "2024-06-13T22:00:30.959Z"
   },
   {
    "duration": 0,
    "start_time": "2024-06-13T22:00:30.962Z"
   },
   {
    "duration": 0,
    "start_time": "2024-06-13T22:00:30.964Z"
   },
   {
    "duration": 0,
    "start_time": "2024-06-13T22:00:30.967Z"
   },
   {
    "duration": 0,
    "start_time": "2024-06-13T22:00:30.973Z"
   },
   {
    "duration": 0,
    "start_time": "2024-06-13T22:00:30.976Z"
   },
   {
    "duration": 0,
    "start_time": "2024-06-13T22:00:30.979Z"
   },
   {
    "duration": 0,
    "start_time": "2024-06-13T22:00:31.022Z"
   },
   {
    "duration": 1611,
    "start_time": "2024-06-13T22:02:20.760Z"
   },
   {
    "duration": 426,
    "start_time": "2024-06-13T22:02:22.378Z"
   },
   {
    "duration": 375,
    "start_time": "2024-06-13T22:02:22.807Z"
   },
   {
    "duration": 201,
    "start_time": "2024-06-13T22:02:23.187Z"
   },
   {
    "duration": 41,
    "start_time": "2024-06-13T22:02:23.391Z"
   },
   {
    "duration": 63,
    "start_time": "2024-06-13T22:02:23.435Z"
   },
   {
    "duration": 319,
    "start_time": "2024-06-13T22:02:23.503Z"
   },
   {
    "duration": 7,
    "start_time": "2024-06-13T22:02:23.827Z"
   },
   {
    "duration": 22,
    "start_time": "2024-06-13T22:02:23.838Z"
   },
   {
    "duration": 14676,
    "start_time": "2024-06-13T22:02:23.867Z"
   },
   {
    "duration": 5,
    "start_time": "2024-06-13T22:02:38.548Z"
   },
   {
    "duration": 162,
    "start_time": "2024-06-13T22:02:38.556Z"
   },
   {
    "duration": 11,
    "start_time": "2024-06-13T22:02:38.725Z"
   },
   {
    "duration": 162,
    "start_time": "2024-06-13T22:02:38.740Z"
   },
   {
    "duration": 21,
    "start_time": "2024-06-13T22:02:38.906Z"
   },
   {
    "duration": 164,
    "start_time": "2024-06-13T22:02:38.931Z"
   },
   {
    "duration": 13,
    "start_time": "2024-06-13T22:02:39.098Z"
   },
   {
    "duration": 118,
    "start_time": "2024-06-13T22:02:39.125Z"
   },
   {
    "duration": 82,
    "start_time": "2024-06-13T22:02:39.246Z"
   },
   {
    "duration": 66,
    "start_time": "2024-06-13T22:02:39.331Z"
   },
   {
    "duration": 101,
    "start_time": "2024-06-13T22:02:39.400Z"
   },
   {
    "duration": 40,
    "start_time": "2024-06-13T22:02:39.504Z"
   },
   {
    "duration": 18,
    "start_time": "2024-06-13T22:02:39.548Z"
   },
   {
    "duration": 8,
    "start_time": "2024-06-13T22:02:39.569Z"
   },
   {
    "duration": 360,
    "start_time": "2024-06-13T22:02:39.580Z"
   },
   {
    "duration": 75,
    "start_time": "2024-06-13T22:02:39.951Z"
   },
   {
    "duration": 10,
    "start_time": "2024-06-13T22:02:40.033Z"
   },
   {
    "duration": 1322,
    "start_time": "2024-06-13T22:02:40.057Z"
   },
   {
    "duration": 380,
    "start_time": "2024-06-13T22:05:31.385Z"
   },
   {
    "duration": 1555,
    "start_time": "2024-06-13T22:05:50.788Z"
   },
   {
    "duration": 414,
    "start_time": "2024-06-13T22:05:52.347Z"
   },
   {
    "duration": 308,
    "start_time": "2024-06-13T22:05:52.764Z"
   },
   {
    "duration": 199,
    "start_time": "2024-06-13T22:05:53.075Z"
   },
   {
    "duration": 406,
    "start_time": "2024-06-13T22:05:53.280Z"
   },
   {
    "duration": 68,
    "start_time": "2024-06-13T22:05:53.689Z"
   },
   {
    "duration": 167,
    "start_time": "2024-06-13T22:05:53.760Z"
   },
   {
    "duration": 8,
    "start_time": "2024-06-13T22:05:53.931Z"
   },
   {
    "duration": 95,
    "start_time": "2024-06-13T22:05:53.942Z"
   },
   {
    "duration": 14261,
    "start_time": "2024-06-13T22:05:54.040Z"
   },
   {
    "duration": 4,
    "start_time": "2024-06-13T22:06:08.304Z"
   },
   {
    "duration": 144,
    "start_time": "2024-06-13T22:06:08.324Z"
   },
   {
    "duration": 12,
    "start_time": "2024-06-13T22:06:08.471Z"
   },
   {
    "duration": 155,
    "start_time": "2024-06-13T22:06:08.489Z"
   },
   {
    "duration": 12,
    "start_time": "2024-06-13T22:06:08.647Z"
   },
   {
    "duration": 159,
    "start_time": "2024-06-13T22:06:08.662Z"
   },
   {
    "duration": 11,
    "start_time": "2024-06-13T22:06:08.824Z"
   },
   {
    "duration": 127,
    "start_time": "2024-06-13T22:06:08.838Z"
   },
   {
    "duration": 81,
    "start_time": "2024-06-13T22:06:08.968Z"
   },
   {
    "duration": 90,
    "start_time": "2024-06-13T22:06:09.052Z"
   },
   {
    "duration": 104,
    "start_time": "2024-06-13T22:06:09.147Z"
   },
   {
    "duration": 24,
    "start_time": "2024-06-13T22:06:09.258Z"
   },
   {
    "duration": 36,
    "start_time": "2024-06-13T22:06:09.287Z"
   },
   {
    "duration": 10,
    "start_time": "2024-06-13T22:06:09.326Z"
   },
   {
    "duration": 305,
    "start_time": "2024-06-13T22:06:09.345Z"
   },
   {
    "duration": 83,
    "start_time": "2024-06-13T22:06:09.653Z"
   },
   {
    "duration": 9,
    "start_time": "2024-06-13T22:06:09.747Z"
   },
   {
    "duration": 1331,
    "start_time": "2024-06-13T22:06:09.763Z"
   },
   {
    "duration": 1568,
    "start_time": "2024-06-13T22:08:50.790Z"
   },
   {
    "duration": 408,
    "start_time": "2024-06-13T22:08:52.362Z"
   },
   {
    "duration": 316,
    "start_time": "2024-06-13T22:08:52.773Z"
   },
   {
    "duration": 7,
    "start_time": "2024-06-13T22:08:53.092Z"
   },
   {
    "duration": 205,
    "start_time": "2024-06-13T22:08:53.104Z"
   },
   {
    "duration": 367,
    "start_time": "2024-06-13T22:08:53.312Z"
   },
   {
    "duration": 60,
    "start_time": "2024-06-13T22:08:53.682Z"
   },
   {
    "duration": 98,
    "start_time": "2024-06-13T22:08:53.745Z"
   },
   {
    "duration": 6,
    "start_time": "2024-06-13T22:08:53.923Z"
   },
   {
    "duration": 93,
    "start_time": "2024-06-13T22:08:53.935Z"
   },
   {
    "duration": 14708,
    "start_time": "2024-06-13T22:08:54.034Z"
   },
   {
    "duration": 5,
    "start_time": "2024-06-13T22:09:08.747Z"
   },
   {
    "duration": 166,
    "start_time": "2024-06-13T22:09:08.756Z"
   },
   {
    "duration": 11,
    "start_time": "2024-06-13T22:09:08.928Z"
   },
   {
    "duration": 196,
    "start_time": "2024-06-13T22:09:08.943Z"
   },
   {
    "duration": 12,
    "start_time": "2024-06-13T22:09:09.142Z"
   },
   {
    "duration": 173,
    "start_time": "2024-06-13T22:09:09.158Z"
   },
   {
    "duration": 12,
    "start_time": "2024-06-13T22:09:09.335Z"
   },
   {
    "duration": 140,
    "start_time": "2024-06-13T22:09:09.350Z"
   },
   {
    "duration": 89,
    "start_time": "2024-06-13T22:09:09.492Z"
   },
   {
    "duration": 97,
    "start_time": "2024-06-13T22:09:09.585Z"
   },
   {
    "duration": 96,
    "start_time": "2024-06-13T22:09:09.689Z"
   },
   {
    "duration": 36,
    "start_time": "2024-06-13T22:09:09.790Z"
   },
   {
    "duration": 32,
    "start_time": "2024-06-13T22:09:09.829Z"
   },
   {
    "duration": 74,
    "start_time": "2024-06-13T22:09:09.866Z"
   },
   {
    "duration": 371,
    "start_time": "2024-06-13T22:09:09.954Z"
   },
   {
    "duration": 12,
    "start_time": "2024-06-13T22:09:10.328Z"
   },
   {
    "duration": 6,
    "start_time": "2024-06-13T22:09:10.346Z"
   },
   {
    "duration": 1402,
    "start_time": "2024-06-13T22:09:10.356Z"
   },
   {
    "duration": 1604,
    "start_time": "2024-06-13T22:10:50.795Z"
   },
   {
    "duration": 453,
    "start_time": "2024-06-13T22:10:52.403Z"
   },
   {
    "duration": 321,
    "start_time": "2024-06-13T22:10:52.860Z"
   },
   {
    "duration": 8,
    "start_time": "2024-06-13T22:10:53.186Z"
   },
   {
    "duration": 216,
    "start_time": "2024-06-13T22:10:53.198Z"
   },
   {
    "duration": 351,
    "start_time": "2024-06-13T22:10:53.422Z"
   },
   {
    "duration": 59,
    "start_time": "2024-06-13T22:10:53.776Z"
   },
   {
    "duration": 185,
    "start_time": "2024-06-13T22:10:53.838Z"
   },
   {
    "duration": 9,
    "start_time": "2024-06-13T22:10:54.026Z"
   },
   {
    "duration": 91,
    "start_time": "2024-06-13T22:10:54.045Z"
   },
   {
    "duration": 14247,
    "start_time": "2024-06-13T22:10:54.139Z"
   },
   {
    "duration": 5,
    "start_time": "2024-06-13T22:11:08.391Z"
   },
   {
    "duration": 157,
    "start_time": "2024-06-13T22:11:08.400Z"
   },
   {
    "duration": 11,
    "start_time": "2024-06-13T22:11:08.560Z"
   },
   {
    "duration": 165,
    "start_time": "2024-06-13T22:11:08.574Z"
   },
   {
    "duration": 12,
    "start_time": "2024-06-13T22:11:08.742Z"
   },
   {
    "duration": 174,
    "start_time": "2024-06-13T22:11:08.757Z"
   },
   {
    "duration": 11,
    "start_time": "2024-06-13T22:11:08.935Z"
   },
   {
    "duration": 145,
    "start_time": "2024-06-13T22:11:08.949Z"
   },
   {
    "duration": 71,
    "start_time": "2024-06-13T22:11:09.098Z"
   },
   {
    "duration": 83,
    "start_time": "2024-06-13T22:11:09.173Z"
   },
   {
    "duration": 77,
    "start_time": "2024-06-13T22:11:09.259Z"
   },
   {
    "duration": 19,
    "start_time": "2024-06-13T22:11:09.339Z"
   },
   {
    "duration": 62,
    "start_time": "2024-06-13T22:11:09.361Z"
   },
   {
    "duration": 8,
    "start_time": "2024-06-13T22:11:09.425Z"
   },
   {
    "duration": 390,
    "start_time": "2024-06-13T22:11:09.436Z"
   },
   {
    "duration": 13,
    "start_time": "2024-06-13T22:11:09.829Z"
   },
   {
    "duration": 75,
    "start_time": "2024-06-13T22:11:09.850Z"
   },
   {
    "duration": 1325,
    "start_time": "2024-06-13T22:11:09.927Z"
   },
   {
    "duration": 1636,
    "start_time": "2024-06-13T22:32:44.815Z"
   },
   {
    "duration": 468,
    "start_time": "2024-06-13T22:32:46.455Z"
   },
   {
    "duration": 125,
    "start_time": "2024-06-13T22:32:46.927Z"
   },
   {
    "duration": 80,
    "start_time": "2024-06-13T22:32:47.056Z"
   },
   {
    "duration": 354,
    "start_time": "2024-06-13T22:32:47.142Z"
   },
   {
    "duration": 24,
    "start_time": "2024-06-13T22:32:47.499Z"
   },
   {
    "duration": 201,
    "start_time": "2024-06-13T22:32:47.526Z"
   },
   {
    "duration": 25,
    "start_time": "2024-06-13T22:32:47.729Z"
   },
   {
    "duration": 75,
    "start_time": "2024-06-13T22:32:47.759Z"
   },
   {
    "duration": 105,
    "start_time": "2024-06-13T22:32:47.837Z"
   },
   {
    "duration": 6,
    "start_time": "2024-06-13T22:32:47.945Z"
   },
   {
    "duration": 572,
    "start_time": "2024-06-13T22:32:47.954Z"
   },
   {
    "duration": 0,
    "start_time": "2024-06-13T22:32:48.531Z"
   },
   {
    "duration": 0,
    "start_time": "2024-06-13T22:32:48.539Z"
   },
   {
    "duration": 0,
    "start_time": "2024-06-13T22:32:48.542Z"
   },
   {
    "duration": 0,
    "start_time": "2024-06-13T22:32:48.544Z"
   },
   {
    "duration": 0,
    "start_time": "2024-06-13T22:32:48.550Z"
   },
   {
    "duration": 0,
    "start_time": "2024-06-13T22:32:48.553Z"
   },
   {
    "duration": 0,
    "start_time": "2024-06-13T22:32:48.555Z"
   },
   {
    "duration": 0,
    "start_time": "2024-06-13T22:32:48.557Z"
   },
   {
    "duration": 0,
    "start_time": "2024-06-13T22:32:48.559Z"
   },
   {
    "duration": 0,
    "start_time": "2024-06-13T22:32:48.562Z"
   },
   {
    "duration": 0,
    "start_time": "2024-06-13T22:32:48.565Z"
   },
   {
    "duration": 0,
    "start_time": "2024-06-13T22:32:48.567Z"
   },
   {
    "duration": 0,
    "start_time": "2024-06-13T22:32:48.569Z"
   },
   {
    "duration": 0,
    "start_time": "2024-06-13T22:32:48.572Z"
   },
   {
    "duration": 0,
    "start_time": "2024-06-13T22:32:48.575Z"
   },
   {
    "duration": 0,
    "start_time": "2024-06-13T22:32:48.623Z"
   },
   {
    "duration": 0,
    "start_time": "2024-06-13T22:32:48.625Z"
   },
   {
    "duration": 0,
    "start_time": "2024-06-13T22:32:48.628Z"
   },
   {
    "duration": 0,
    "start_time": "2024-06-13T22:32:48.633Z"
   },
   {
    "duration": 0,
    "start_time": "2024-06-13T22:32:48.635Z"
   },
   {
    "duration": 1582,
    "start_time": "2024-06-13T22:34:59.811Z"
   },
   {
    "duration": 413,
    "start_time": "2024-06-13T22:35:01.397Z"
   },
   {
    "duration": 124,
    "start_time": "2024-06-13T22:35:01.813Z"
   },
   {
    "duration": 61,
    "start_time": "2024-06-13T22:35:01.941Z"
   },
   {
    "duration": 305,
    "start_time": "2024-06-13T22:35:02.023Z"
   },
   {
    "duration": 8,
    "start_time": "2024-06-13T22:35:02.331Z"
   },
   {
    "duration": 201,
    "start_time": "2024-06-13T22:35:02.343Z"
   },
   {
    "duration": 22,
    "start_time": "2024-06-13T22:35:02.547Z"
   },
   {
    "duration": 72,
    "start_time": "2024-06-13T22:35:02.572Z"
   },
   {
    "duration": 177,
    "start_time": "2024-06-13T22:35:02.647Z"
   },
   {
    "duration": 7,
    "start_time": "2024-06-13T22:35:02.826Z"
   },
   {
    "duration": 507,
    "start_time": "2024-06-13T22:35:02.836Z"
   },
   {
    "duration": 0,
    "start_time": "2024-06-13T22:35:03.347Z"
   },
   {
    "duration": 0,
    "start_time": "2024-06-13T22:35:03.348Z"
   },
   {
    "duration": 0,
    "start_time": "2024-06-13T22:35:03.350Z"
   },
   {
    "duration": 0,
    "start_time": "2024-06-13T22:35:03.352Z"
   },
   {
    "duration": 0,
    "start_time": "2024-06-13T22:35:03.354Z"
   },
   {
    "duration": 0,
    "start_time": "2024-06-13T22:35:03.356Z"
   },
   {
    "duration": 0,
    "start_time": "2024-06-13T22:35:03.358Z"
   },
   {
    "duration": 0,
    "start_time": "2024-06-13T22:35:03.360Z"
   },
   {
    "duration": 0,
    "start_time": "2024-06-13T22:35:03.361Z"
   },
   {
    "duration": 0,
    "start_time": "2024-06-13T22:35:03.363Z"
   },
   {
    "duration": 0,
    "start_time": "2024-06-13T22:35:03.364Z"
   },
   {
    "duration": 0,
    "start_time": "2024-06-13T22:35:03.366Z"
   },
   {
    "duration": 0,
    "start_time": "2024-06-13T22:35:03.370Z"
   },
   {
    "duration": 0,
    "start_time": "2024-06-13T22:35:03.372Z"
   },
   {
    "duration": 0,
    "start_time": "2024-06-13T22:35:03.374Z"
   },
   {
    "duration": 0,
    "start_time": "2024-06-13T22:35:03.376Z"
   },
   {
    "duration": 0,
    "start_time": "2024-06-13T22:35:03.423Z"
   },
   {
    "duration": 0,
    "start_time": "2024-06-13T22:35:03.425Z"
   },
   {
    "duration": 0,
    "start_time": "2024-06-13T22:35:03.427Z"
   },
   {
    "duration": 0,
    "start_time": "2024-06-13T22:35:03.429Z"
   },
   {
    "duration": 1673,
    "start_time": "2024-06-13T22:35:59.808Z"
   },
   {
    "duration": 438,
    "start_time": "2024-06-13T22:36:01.485Z"
   },
   {
    "duration": 120,
    "start_time": "2024-06-13T22:36:01.926Z"
   },
   {
    "duration": 76,
    "start_time": "2024-06-13T22:36:02.049Z"
   },
   {
    "duration": 307,
    "start_time": "2024-06-13T22:36:02.129Z"
   },
   {
    "duration": 8,
    "start_time": "2024-06-13T22:36:02.439Z"
   },
   {
    "duration": 207,
    "start_time": "2024-06-13T22:36:02.450Z"
   },
   {
    "duration": 26,
    "start_time": "2024-06-13T22:36:02.661Z"
   },
   {
    "duration": 73,
    "start_time": "2024-06-13T22:36:02.691Z"
   },
   {
    "duration": 163,
    "start_time": "2024-06-13T22:36:02.768Z"
   },
   {
    "duration": 6,
    "start_time": "2024-06-13T22:36:02.934Z"
   },
   {
    "duration": 499,
    "start_time": "2024-06-13T22:36:02.943Z"
   },
   {
    "duration": 0,
    "start_time": "2024-06-13T22:36:03.446Z"
   },
   {
    "duration": 0,
    "start_time": "2024-06-13T22:36:03.448Z"
   },
   {
    "duration": 0,
    "start_time": "2024-06-13T22:36:03.451Z"
   },
   {
    "duration": 1,
    "start_time": "2024-06-13T22:36:03.452Z"
   },
   {
    "duration": 0,
    "start_time": "2024-06-13T22:36:03.455Z"
   },
   {
    "duration": 0,
    "start_time": "2024-06-13T22:36:03.459Z"
   },
   {
    "duration": 0,
    "start_time": "2024-06-13T22:36:03.461Z"
   },
   {
    "duration": 0,
    "start_time": "2024-06-13T22:36:03.463Z"
   },
   {
    "duration": 0,
    "start_time": "2024-06-13T22:36:03.465Z"
   },
   {
    "duration": 0,
    "start_time": "2024-06-13T22:36:03.467Z"
   },
   {
    "duration": 0,
    "start_time": "2024-06-13T22:36:03.469Z"
   },
   {
    "duration": 0,
    "start_time": "2024-06-13T22:36:03.472Z"
   },
   {
    "duration": 0,
    "start_time": "2024-06-13T22:36:03.525Z"
   },
   {
    "duration": 0,
    "start_time": "2024-06-13T22:36:03.527Z"
   },
   {
    "duration": 0,
    "start_time": "2024-06-13T22:36:03.529Z"
   },
   {
    "duration": 0,
    "start_time": "2024-06-13T22:36:03.532Z"
   },
   {
    "duration": 0,
    "start_time": "2024-06-13T22:36:03.535Z"
   },
   {
    "duration": 0,
    "start_time": "2024-06-13T22:36:03.536Z"
   },
   {
    "duration": 0,
    "start_time": "2024-06-13T22:36:03.539Z"
   },
   {
    "duration": 0,
    "start_time": "2024-06-13T22:36:03.541Z"
   },
   {
    "duration": 1685,
    "start_time": "2024-06-13T22:38:53.823Z"
   },
   {
    "duration": 497,
    "start_time": "2024-06-13T22:38:55.517Z"
   },
   {
    "duration": 124,
    "start_time": "2024-06-13T22:38:56.023Z"
   },
   {
    "duration": 82,
    "start_time": "2024-06-13T22:38:56.151Z"
   },
   {
    "duration": 318,
    "start_time": "2024-06-13T22:38:56.238Z"
   },
   {
    "duration": 11,
    "start_time": "2024-06-13T22:38:56.561Z"
   },
   {
    "duration": 279,
    "start_time": "2024-06-13T22:38:56.578Z"
   },
   {
    "duration": 28,
    "start_time": "2024-06-13T22:38:56.861Z"
   },
   {
    "duration": 106,
    "start_time": "2024-06-13T22:38:56.892Z"
   },
   {
    "duration": 374,
    "start_time": "2024-06-13T22:38:57.003Z"
   },
   {
    "duration": 11,
    "start_time": "2024-06-13T22:38:57.380Z"
   },
   {
    "duration": 234,
    "start_time": "2024-06-13T22:38:57.395Z"
   },
   {
    "duration": 26,
    "start_time": "2024-06-13T22:38:57.633Z"
   },
   {
    "duration": 80,
    "start_time": "2024-06-13T22:38:57.667Z"
   },
   {
    "duration": 97,
    "start_time": "2024-06-13T22:38:57.751Z"
   },
   {
    "duration": 74,
    "start_time": "2024-06-13T22:38:57.851Z"
   },
   {
    "duration": 513,
    "start_time": "2024-06-13T22:38:57.929Z"
   },
   {
    "duration": 0,
    "start_time": "2024-06-13T22:38:58.446Z"
   },
   {
    "duration": 0,
    "start_time": "2024-06-13T22:38:58.450Z"
   },
   {
    "duration": 0,
    "start_time": "2024-06-13T22:38:58.453Z"
   },
   {
    "duration": 0,
    "start_time": "2024-06-13T22:38:58.455Z"
   },
   {
    "duration": 0,
    "start_time": "2024-06-13T22:38:58.458Z"
   },
   {
    "duration": 0,
    "start_time": "2024-06-13T22:38:58.461Z"
   },
   {
    "duration": 0,
    "start_time": "2024-06-13T22:38:58.464Z"
   },
   {
    "duration": 0,
    "start_time": "2024-06-13T22:38:58.466Z"
   },
   {
    "duration": 1,
    "start_time": "2024-06-13T22:38:58.468Z"
   },
   {
    "duration": 0,
    "start_time": "2024-06-13T22:38:58.471Z"
   },
   {
    "duration": 0,
    "start_time": "2024-06-13T22:38:58.474Z"
   },
   {
    "duration": 0,
    "start_time": "2024-06-13T22:38:58.476Z"
   },
   {
    "duration": 0,
    "start_time": "2024-06-13T22:38:58.524Z"
   },
   {
    "duration": 0,
    "start_time": "2024-06-13T22:38:58.527Z"
   },
   {
    "duration": 0,
    "start_time": "2024-06-13T22:38:58.529Z"
   },
   {
    "duration": 0,
    "start_time": "2024-06-13T22:38:58.532Z"
   },
   {
    "duration": 0,
    "start_time": "2024-06-13T22:38:58.534Z"
   },
   {
    "duration": 0,
    "start_time": "2024-06-13T22:38:58.538Z"
   },
   {
    "duration": 0,
    "start_time": "2024-06-13T22:38:58.540Z"
   },
   {
    "duration": 0,
    "start_time": "2024-06-13T22:38:58.544Z"
   },
   {
    "duration": 1566,
    "start_time": "2024-06-13T22:44:26.836Z"
   },
   {
    "duration": 405,
    "start_time": "2024-06-13T22:44:28.407Z"
   },
   {
    "duration": 125,
    "start_time": "2024-06-13T22:44:28.815Z"
   },
   {
    "duration": 88,
    "start_time": "2024-06-13T22:44:28.945Z"
   },
   {
    "duration": 306,
    "start_time": "2024-06-13T22:44:29.039Z"
   },
   {
    "duration": 7,
    "start_time": "2024-06-13T22:44:29.348Z"
   },
   {
    "duration": 205,
    "start_time": "2024-06-13T22:44:29.358Z"
   },
   {
    "duration": 24,
    "start_time": "2024-06-13T22:44:29.566Z"
   },
   {
    "duration": 86,
    "start_time": "2024-06-13T22:44:29.593Z"
   },
   {
    "duration": 325,
    "start_time": "2024-06-13T22:44:29.682Z"
   },
   {
    "duration": 15,
    "start_time": "2024-06-13T22:44:30.010Z"
   },
   {
    "duration": 227,
    "start_time": "2024-06-13T22:44:30.029Z"
   },
   {
    "duration": 23,
    "start_time": "2024-06-13T22:44:30.260Z"
   },
   {
    "duration": 93,
    "start_time": "2024-06-13T22:44:30.290Z"
   },
   {
    "duration": 298,
    "start_time": "2024-06-13T22:44:30.385Z"
   },
   {
    "duration": 8,
    "start_time": "2024-06-13T22:44:30.686Z"
   },
   {
    "duration": 208,
    "start_time": "2024-06-13T22:44:30.697Z"
   },
   {
    "duration": 27,
    "start_time": "2024-06-13T22:44:30.909Z"
   },
   {
    "duration": 46,
    "start_time": "2024-06-13T22:44:30.939Z"
   },
   {
    "duration": 151,
    "start_time": "2024-06-13T22:44:30.988Z"
   },
   {
    "duration": 77,
    "start_time": "2024-06-13T22:44:31.147Z"
   },
   {
    "duration": 517,
    "start_time": "2024-06-13T22:44:31.228Z"
   },
   {
    "duration": 0,
    "start_time": "2024-06-13T22:44:31.749Z"
   },
   {
    "duration": 0,
    "start_time": "2024-06-13T22:44:31.751Z"
   },
   {
    "duration": 0,
    "start_time": "2024-06-13T22:44:31.753Z"
   },
   {
    "duration": 0,
    "start_time": "2024-06-13T22:44:31.756Z"
   },
   {
    "duration": 0,
    "start_time": "2024-06-13T22:44:31.759Z"
   },
   {
    "duration": 0,
    "start_time": "2024-06-13T22:44:31.761Z"
   },
   {
    "duration": 0,
    "start_time": "2024-06-13T22:44:31.763Z"
   },
   {
    "duration": 0,
    "start_time": "2024-06-13T22:44:31.765Z"
   },
   {
    "duration": 0,
    "start_time": "2024-06-13T22:44:31.767Z"
   },
   {
    "duration": 0,
    "start_time": "2024-06-13T22:44:31.769Z"
   },
   {
    "duration": 0,
    "start_time": "2024-06-13T22:44:31.771Z"
   },
   {
    "duration": 0,
    "start_time": "2024-06-13T22:44:31.774Z"
   },
   {
    "duration": 0,
    "start_time": "2024-06-13T22:44:31.776Z"
   },
   {
    "duration": 0,
    "start_time": "2024-06-13T22:44:31.778Z"
   },
   {
    "duration": 0,
    "start_time": "2024-06-13T22:44:31.823Z"
   },
   {
    "duration": 0,
    "start_time": "2024-06-13T22:44:31.825Z"
   },
   {
    "duration": 0,
    "start_time": "2024-06-13T22:44:31.827Z"
   },
   {
    "duration": 0,
    "start_time": "2024-06-13T22:44:31.830Z"
   },
   {
    "duration": 0,
    "start_time": "2024-06-13T22:44:31.832Z"
   },
   {
    "duration": 0,
    "start_time": "2024-06-13T22:44:31.834Z"
   },
   {
    "duration": 1664,
    "start_time": "2024-06-13T23:04:02.837Z"
   },
   {
    "duration": 431,
    "start_time": "2024-06-13T23:04:04.505Z"
   },
   {
    "duration": 129,
    "start_time": "2024-06-13T23:04:04.939Z"
   },
   {
    "duration": 79,
    "start_time": "2024-06-13T23:04:05.071Z"
   },
   {
    "duration": 326,
    "start_time": "2024-06-13T23:04:05.155Z"
   },
   {
    "duration": 8,
    "start_time": "2024-06-13T23:04:05.484Z"
   },
   {
    "duration": 212,
    "start_time": "2024-06-13T23:04:05.496Z"
   },
   {
    "duration": 29,
    "start_time": "2024-06-13T23:04:05.712Z"
   },
   {
    "duration": 88,
    "start_time": "2024-06-13T23:04:05.744Z"
   },
   {
    "duration": 316,
    "start_time": "2024-06-13T23:04:05.836Z"
   },
   {
    "duration": 7,
    "start_time": "2024-06-13T23:04:06.157Z"
   },
   {
    "duration": 206,
    "start_time": "2024-06-13T23:04:06.167Z"
   },
   {
    "duration": 22,
    "start_time": "2024-06-13T23:04:06.377Z"
   },
   {
    "duration": 71,
    "start_time": "2024-06-13T23:04:06.423Z"
   },
   {
    "duration": 316,
    "start_time": "2024-06-13T23:04:06.498Z"
   },
   {
    "duration": 8,
    "start_time": "2024-06-13T23:04:06.824Z"
   },
   {
    "duration": 203,
    "start_time": "2024-06-13T23:04:06.835Z"
   },
   {
    "duration": 23,
    "start_time": "2024-06-13T23:04:07.041Z"
   },
   {
    "duration": 73,
    "start_time": "2024-06-13T23:04:07.067Z"
   },
   {
    "duration": 41,
    "start_time": "2024-06-13T23:04:07.143Z"
   },
   {
    "duration": 5,
    "start_time": "2024-06-13T23:04:07.186Z"
   },
   {
    "duration": 54,
    "start_time": "2024-06-13T23:04:07.195Z"
   },
   {
    "duration": 6,
    "start_time": "2024-06-13T23:04:07.252Z"
   },
   {
    "duration": 7,
    "start_time": "2024-06-13T23:04:07.261Z"
   },
   {
    "duration": 568,
    "start_time": "2024-06-13T23:04:07.271Z"
   },
   {
    "duration": 0,
    "start_time": "2024-06-13T23:04:07.844Z"
   },
   {
    "duration": 0,
    "start_time": "2024-06-13T23:04:07.846Z"
   },
   {
    "duration": 0,
    "start_time": "2024-06-13T23:04:07.849Z"
   },
   {
    "duration": 0,
    "start_time": "2024-06-13T23:04:07.852Z"
   },
   {
    "duration": 0,
    "start_time": "2024-06-13T23:04:07.855Z"
   },
   {
    "duration": 0,
    "start_time": "2024-06-13T23:04:07.858Z"
   },
   {
    "duration": 0,
    "start_time": "2024-06-13T23:04:07.860Z"
   },
   {
    "duration": 0,
    "start_time": "2024-06-13T23:04:07.862Z"
   },
   {
    "duration": 0,
    "start_time": "2024-06-13T23:04:07.864Z"
   },
   {
    "duration": 0,
    "start_time": "2024-06-13T23:04:07.866Z"
   },
   {
    "duration": 0,
    "start_time": "2024-06-13T23:04:07.868Z"
   },
   {
    "duration": 0,
    "start_time": "2024-06-13T23:04:07.870Z"
   },
   {
    "duration": 0,
    "start_time": "2024-06-13T23:04:07.873Z"
   },
   {
    "duration": 0,
    "start_time": "2024-06-13T23:04:07.875Z"
   },
   {
    "duration": 0,
    "start_time": "2024-06-13T23:04:07.924Z"
   },
   {
    "duration": 0,
    "start_time": "2024-06-13T23:04:07.925Z"
   },
   {
    "duration": 0,
    "start_time": "2024-06-13T23:04:07.928Z"
   },
   {
    "duration": 0,
    "start_time": "2024-06-13T23:04:07.930Z"
   },
   {
    "duration": 0,
    "start_time": "2024-06-13T23:04:07.932Z"
   },
   {
    "duration": 0,
    "start_time": "2024-06-13T23:04:07.934Z"
   },
   {
    "duration": 0,
    "start_time": "2024-06-13T23:04:07.936Z"
   },
   {
    "duration": 0,
    "start_time": "2024-06-13T23:04:07.939Z"
   },
   {
    "duration": 0,
    "start_time": "2024-06-13T23:04:07.941Z"
   },
   {
    "duration": 1568,
    "start_time": "2024-06-13T23:06:56.840Z"
   },
   {
    "duration": 418,
    "start_time": "2024-06-13T23:06:58.413Z"
   },
   {
    "duration": 123,
    "start_time": "2024-06-13T23:06:58.834Z"
   },
   {
    "duration": 75,
    "start_time": "2024-06-13T23:06:58.960Z"
   },
   {
    "duration": 307,
    "start_time": "2024-06-13T23:06:59.040Z"
   },
   {
    "duration": 8,
    "start_time": "2024-06-13T23:06:59.350Z"
   },
   {
    "duration": 207,
    "start_time": "2024-06-13T23:06:59.361Z"
   },
   {
    "duration": 27,
    "start_time": "2024-06-13T23:06:59.572Z"
   },
   {
    "duration": 82,
    "start_time": "2024-06-13T23:06:59.602Z"
   },
   {
    "duration": 349,
    "start_time": "2024-06-13T23:06:59.687Z"
   },
   {
    "duration": 10,
    "start_time": "2024-06-13T23:07:00.039Z"
   },
   {
    "duration": 205,
    "start_time": "2024-06-13T23:07:00.052Z"
   },
   {
    "duration": 24,
    "start_time": "2024-06-13T23:07:00.260Z"
   },
   {
    "duration": 87,
    "start_time": "2024-06-13T23:07:00.290Z"
   },
   {
    "duration": 305,
    "start_time": "2024-06-13T23:07:00.380Z"
   },
   {
    "duration": 9,
    "start_time": "2024-06-13T23:07:00.689Z"
   },
   {
    "duration": 197,
    "start_time": "2024-06-13T23:07:00.722Z"
   },
   {
    "duration": 21,
    "start_time": "2024-06-13T23:07:00.924Z"
   },
   {
    "duration": 46,
    "start_time": "2024-06-13T23:07:00.948Z"
   },
   {
    "duration": 62,
    "start_time": "2024-06-13T23:07:00.997Z"
   },
   {
    "duration": 4,
    "start_time": "2024-06-13T23:07:01.063Z"
   },
   {
    "duration": 64,
    "start_time": "2024-06-13T23:07:01.072Z"
   },
   {
    "duration": 8,
    "start_time": "2024-06-13T23:07:01.140Z"
   },
   {
    "duration": 10,
    "start_time": "2024-06-13T23:07:01.151Z"
   },
   {
    "duration": 864,
    "start_time": "2024-06-13T23:07:01.164Z"
   },
   {
    "duration": 102,
    "start_time": "2024-06-13T23:07:02.031Z"
   },
   {
    "duration": 8,
    "start_time": "2024-06-13T23:07:02.136Z"
   },
   {
    "duration": 657,
    "start_time": "2024-06-13T23:07:02.146Z"
   },
   {
    "duration": 0,
    "start_time": "2024-06-13T23:07:02.806Z"
   },
   {
    "duration": 0,
    "start_time": "2024-06-13T23:07:02.808Z"
   },
   {
    "duration": 25,
    "start_time": "2024-06-13T23:09:58.117Z"
   },
   {
    "duration": 25,
    "start_time": "2024-06-13T23:10:30.144Z"
   },
   {
    "duration": 62,
    "start_time": "2024-06-13T23:11:05.963Z"
   },
   {
    "duration": 25,
    "start_time": "2024-06-13T23:11:27.449Z"
   },
   {
    "duration": 24,
    "start_time": "2024-06-13T23:11:40.448Z"
   },
   {
    "duration": 25,
    "start_time": "2024-06-13T23:11:50.941Z"
   },
   {
    "duration": 27,
    "start_time": "2024-06-13T23:12:15.420Z"
   },
   {
    "duration": 27,
    "start_time": "2024-06-13T23:12:32.064Z"
   },
   {
    "duration": 25,
    "start_time": "2024-06-13T23:12:56.744Z"
   },
   {
    "duration": 5225,
    "start_time": "2024-06-14T00:58:45.870Z"
   },
   {
    "duration": 520,
    "start_time": "2024-06-14T00:58:51.098Z"
   },
   {
    "duration": 114,
    "start_time": "2024-06-14T00:58:51.627Z"
   },
   {
    "duration": 65,
    "start_time": "2024-06-14T00:58:51.744Z"
   },
   {
    "duration": 303,
    "start_time": "2024-06-14T00:58:51.829Z"
   },
   {
    "duration": 10,
    "start_time": "2024-06-14T00:58:52.135Z"
   },
   {
    "duration": 206,
    "start_time": "2024-06-14T00:58:52.148Z"
   },
   {
    "duration": 23,
    "start_time": "2024-06-14T00:58:52.358Z"
   },
   {
    "duration": 87,
    "start_time": "2024-06-14T00:58:52.384Z"
   },
   {
    "duration": 307,
    "start_time": "2024-06-14T00:58:52.474Z"
   },
   {
    "duration": 7,
    "start_time": "2024-06-14T00:58:52.785Z"
   },
   {
    "duration": 207,
    "start_time": "2024-06-14T00:58:52.796Z"
   },
   {
    "duration": 31,
    "start_time": "2024-06-14T00:58:53.005Z"
   },
   {
    "duration": 61,
    "start_time": "2024-06-14T00:58:53.043Z"
   },
   {
    "duration": 294,
    "start_time": "2024-06-14T00:58:53.127Z"
   },
   {
    "duration": 8,
    "start_time": "2024-06-14T00:58:53.426Z"
   },
   {
    "duration": 276,
    "start_time": "2024-06-14T00:58:53.437Z"
   },
   {
    "duration": 26,
    "start_time": "2024-06-14T00:58:53.716Z"
   },
   {
    "duration": 42,
    "start_time": "2024-06-14T00:58:53.745Z"
   },
   {
    "duration": 66,
    "start_time": "2024-06-14T00:58:53.789Z"
   },
   {
    "duration": 4,
    "start_time": "2024-06-14T00:58:53.858Z"
   },
   {
    "duration": 29,
    "start_time": "2024-06-14T00:58:53.865Z"
   },
   {
    "duration": 30,
    "start_time": "2024-06-14T00:58:53.897Z"
   },
   {
    "duration": 6,
    "start_time": "2024-06-14T00:58:53.931Z"
   },
   {
    "duration": 890,
    "start_time": "2024-06-14T00:58:53.940Z"
   },
   {
    "duration": 103,
    "start_time": "2024-06-14T00:58:54.833Z"
   },
   {
    "duration": 87,
    "start_time": "2024-06-14T00:58:54.944Z"
   },
   {
    "duration": 94,
    "start_time": "2024-06-14T00:58:55.039Z"
   },
   {
    "duration": 14325,
    "start_time": "2024-06-14T00:58:55.136Z"
   },
   {
    "duration": 29,
    "start_time": "2024-06-14T00:59:09.464Z"
   },
   {
    "duration": 14496,
    "start_time": "2024-06-14T00:59:09.496Z"
   },
   {
    "duration": 6,
    "start_time": "2024-06-14T00:59:23.996Z"
   },
   {
    "duration": 1560,
    "start_time": "2024-06-14T01:00:33.873Z"
   },
   {
    "duration": 417,
    "start_time": "2024-06-14T01:00:35.436Z"
   },
   {
    "duration": 147,
    "start_time": "2024-06-14T01:00:35.856Z"
   },
   {
    "duration": 92,
    "start_time": "2024-06-14T01:00:36.009Z"
   },
   {
    "duration": 363,
    "start_time": "2024-06-14T01:00:36.104Z"
   },
   {
    "duration": 9,
    "start_time": "2024-06-14T01:00:36.470Z"
   },
   {
    "duration": 234,
    "start_time": "2024-06-14T01:00:36.482Z"
   },
   {
    "duration": 24,
    "start_time": "2024-06-14T01:00:36.720Z"
   },
   {
    "duration": 86,
    "start_time": "2024-06-14T01:00:36.747Z"
   },
   {
    "duration": 328,
    "start_time": "2024-06-14T01:00:36.839Z"
   },
   {
    "duration": 9,
    "start_time": "2024-06-14T01:00:37.170Z"
   },
   {
    "duration": 207,
    "start_time": "2024-06-14T01:00:37.182Z"
   },
   {
    "duration": 35,
    "start_time": "2024-06-14T01:00:37.392Z"
   },
   {
    "duration": 72,
    "start_time": "2024-06-14T01:00:37.430Z"
   },
   {
    "duration": 304,
    "start_time": "2024-06-14T01:00:37.525Z"
   },
   {
    "duration": 9,
    "start_time": "2024-06-14T01:00:37.833Z"
   },
   {
    "duration": 206,
    "start_time": "2024-06-14T01:00:37.845Z"
   },
   {
    "duration": 22,
    "start_time": "2024-06-14T01:00:38.053Z"
   },
   {
    "duration": 76,
    "start_time": "2024-06-14T01:00:38.078Z"
   },
   {
    "duration": 43,
    "start_time": "2024-06-14T01:00:38.158Z"
   },
   {
    "duration": 22,
    "start_time": "2024-06-14T01:00:38.204Z"
   },
   {
    "duration": 33,
    "start_time": "2024-06-14T01:00:38.229Z"
   },
   {
    "duration": 5,
    "start_time": "2024-06-14T01:00:38.265Z"
   },
   {
    "duration": 5,
    "start_time": "2024-06-14T01:00:38.273Z"
   },
   {
    "duration": 869,
    "start_time": "2024-06-14T01:00:38.281Z"
   },
   {
    "duration": 104,
    "start_time": "2024-06-14T01:00:39.228Z"
   },
   {
    "duration": 9,
    "start_time": "2024-06-14T01:00:39.335Z"
   },
   {
    "duration": 90,
    "start_time": "2024-06-14T01:00:39.352Z"
   },
   {
    "duration": 14117,
    "start_time": "2024-06-14T01:00:39.445Z"
   },
   {
    "duration": 29,
    "start_time": "2024-06-14T01:00:53.564Z"
   },
   {
    "duration": 14715,
    "start_time": "2024-06-14T01:00:53.596Z"
   },
   {
    "duration": 14,
    "start_time": "2024-06-14T01:01:08.314Z"
   },
   {
    "duration": 1498,
    "start_time": "2024-06-14T01:04:51.868Z"
   },
   {
    "duration": 443,
    "start_time": "2024-06-14T01:04:53.370Z"
   },
   {
    "duration": 123,
    "start_time": "2024-06-14T01:04:53.815Z"
   },
   {
    "duration": 63,
    "start_time": "2024-06-14T01:04:53.942Z"
   },
   {
    "duration": 321,
    "start_time": "2024-06-14T01:04:54.008Z"
   },
   {
    "duration": 10,
    "start_time": "2024-06-14T01:04:54.333Z"
   },
   {
    "duration": 218,
    "start_time": "2024-06-14T01:04:54.347Z"
   },
   {
    "duration": 23,
    "start_time": "2024-06-14T01:04:54.567Z"
   },
   {
    "duration": 81,
    "start_time": "2024-06-14T01:04:54.593Z"
   },
   {
    "duration": 307,
    "start_time": "2024-06-14T01:04:54.679Z"
   },
   {
    "duration": 7,
    "start_time": "2024-06-14T01:04:54.990Z"
   },
   {
    "duration": 208,
    "start_time": "2024-06-14T01:04:55.000Z"
   },
   {
    "duration": 33,
    "start_time": "2024-06-14T01:04:55.212Z"
   },
   {
    "duration": 81,
    "start_time": "2024-06-14T01:04:55.248Z"
   },
   {
    "duration": 297,
    "start_time": "2024-06-14T01:04:55.333Z"
   },
   {
    "duration": 8,
    "start_time": "2024-06-14T01:04:55.633Z"
   },
   {
    "duration": 201,
    "start_time": "2024-06-14T01:04:55.644Z"
   },
   {
    "duration": 22,
    "start_time": "2024-06-14T01:04:55.848Z"
   },
   {
    "duration": 65,
    "start_time": "2024-06-14T01:04:55.873Z"
   },
   {
    "duration": 43,
    "start_time": "2024-06-14T01:04:55.941Z"
   },
   {
    "duration": 4,
    "start_time": "2024-06-14T01:04:55.988Z"
   },
   {
    "duration": 57,
    "start_time": "2024-06-14T01:04:55.995Z"
   },
   {
    "duration": 8,
    "start_time": "2024-06-14T01:04:56.055Z"
   },
   {
    "duration": 7,
    "start_time": "2024-06-14T01:04:56.066Z"
   },
   {
    "duration": 860,
    "start_time": "2024-06-14T01:04:56.076Z"
   },
   {
    "duration": 110,
    "start_time": "2024-06-14T01:04:56.939Z"
   },
   {
    "duration": 6,
    "start_time": "2024-06-14T01:04:57.128Z"
   },
   {
    "duration": 94,
    "start_time": "2024-06-14T01:04:57.142Z"
   },
   {
    "duration": 14492,
    "start_time": "2024-06-14T01:04:57.239Z"
   },
   {
    "duration": 32,
    "start_time": "2024-06-14T01:05:11.735Z"
   },
   {
    "duration": 14602,
    "start_time": "2024-06-14T01:05:11.772Z"
   },
   {
    "duration": 7,
    "start_time": "2024-06-14T01:05:26.377Z"
   },
   {
    "duration": 1520,
    "start_time": "2024-06-14T01:58:45.940Z"
   },
   {
    "duration": 456,
    "start_time": "2024-06-14T01:58:47.464Z"
   },
   {
    "duration": 117,
    "start_time": "2024-06-14T01:58:47.929Z"
   },
   {
    "duration": 88,
    "start_time": "2024-06-14T01:58:48.050Z"
   },
   {
    "duration": 314,
    "start_time": "2024-06-14T01:58:48.144Z"
   },
   {
    "duration": 9,
    "start_time": "2024-06-14T01:58:48.461Z"
   },
   {
    "duration": 209,
    "start_time": "2024-06-14T01:58:48.473Z"
   },
   {
    "duration": 41,
    "start_time": "2024-06-14T01:58:48.685Z"
   },
   {
    "duration": 65,
    "start_time": "2024-06-14T01:58:48.730Z"
   },
   {
    "duration": 341,
    "start_time": "2024-06-14T01:58:48.798Z"
   },
   {
    "duration": 9,
    "start_time": "2024-06-14T01:58:49.142Z"
   },
   {
    "duration": 225,
    "start_time": "2024-06-14T01:58:49.155Z"
   },
   {
    "duration": 25,
    "start_time": "2024-06-14T01:58:49.383Z"
   },
   {
    "duration": 93,
    "start_time": "2024-06-14T01:58:49.433Z"
   },
   {
    "duration": 320,
    "start_time": "2024-06-14T01:58:49.529Z"
   },
   {
    "duration": 13,
    "start_time": "2024-06-14T01:58:49.853Z"
   },
   {
    "duration": 218,
    "start_time": "2024-06-14T01:58:49.873Z"
   },
   {
    "duration": 36,
    "start_time": "2024-06-14T01:58:50.095Z"
   },
   {
    "duration": 52,
    "start_time": "2024-06-14T01:58:50.135Z"
   },
   {
    "duration": 74,
    "start_time": "2024-06-14T01:58:50.190Z"
   },
   {
    "duration": 4,
    "start_time": "2024-06-14T01:58:50.268Z"
   },
   {
    "duration": 58,
    "start_time": "2024-06-14T01:58:50.277Z"
   },
   {
    "duration": 6,
    "start_time": "2024-06-14T01:58:50.339Z"
   },
   {
    "duration": 6,
    "start_time": "2024-06-14T01:58:50.349Z"
   },
   {
    "duration": 887,
    "start_time": "2024-06-14T01:58:50.358Z"
   },
   {
    "duration": 179,
    "start_time": "2024-06-14T01:58:51.248Z"
   },
   {
    "duration": 7,
    "start_time": "2024-06-14T01:58:51.431Z"
   },
   {
    "duration": 110,
    "start_time": "2024-06-14T01:58:51.442Z"
   },
   {
    "duration": 9,
    "start_time": "2024-06-14T01:58:51.557Z"
   },
   {
    "duration": 9,
    "start_time": "2024-06-14T01:58:51.570Z"
   },
   {
    "duration": 567,
    "start_time": "2024-06-14T01:58:51.582Z"
   },
   {
    "duration": 0,
    "start_time": "2024-06-14T01:58:52.152Z"
   },
   {
    "duration": 0,
    "start_time": "2024-06-14T01:58:52.156Z"
   },
   {
    "duration": 0,
    "start_time": "2024-06-14T01:58:52.158Z"
   },
   {
    "duration": 1544,
    "start_time": "2024-06-14T02:24:12.955Z"
   },
   {
    "duration": 486,
    "start_time": "2024-06-14T02:24:14.502Z"
   },
   {
    "duration": 135,
    "start_time": "2024-06-14T02:24:14.991Z"
   },
   {
    "duration": 70,
    "start_time": "2024-06-14T02:24:15.131Z"
   },
   {
    "duration": 342,
    "start_time": "2024-06-14T02:24:15.204Z"
   },
   {
    "duration": 8,
    "start_time": "2024-06-14T02:24:15.550Z"
   },
   {
    "duration": 210,
    "start_time": "2024-06-14T02:24:15.562Z"
   },
   {
    "duration": 24,
    "start_time": "2024-06-14T02:24:15.775Z"
   },
   {
    "duration": 90,
    "start_time": "2024-06-14T02:24:15.801Z"
   },
   {
    "duration": 344,
    "start_time": "2024-06-14T02:24:15.898Z"
   },
   {
    "duration": 7,
    "start_time": "2024-06-14T02:24:16.245Z"
   },
   {
    "duration": 204,
    "start_time": "2024-06-14T02:24:16.255Z"
   },
   {
    "duration": 24,
    "start_time": "2024-06-14T02:24:16.462Z"
   },
   {
    "duration": 84,
    "start_time": "2024-06-14T02:24:16.489Z"
   },
   {
    "duration": 308,
    "start_time": "2024-06-14T02:24:16.575Z"
   },
   {
    "duration": 9,
    "start_time": "2024-06-14T02:24:16.886Z"
   },
   {
    "duration": 229,
    "start_time": "2024-06-14T02:24:16.898Z"
   },
   {
    "duration": 22,
    "start_time": "2024-06-14T02:24:17.130Z"
   },
   {
    "duration": 45,
    "start_time": "2024-06-14T02:24:17.155Z"
   },
   {
    "duration": 43,
    "start_time": "2024-06-14T02:24:17.227Z"
   },
   {
    "duration": 5,
    "start_time": "2024-06-14T02:24:17.272Z"
   },
   {
    "duration": 58,
    "start_time": "2024-06-14T02:24:17.280Z"
   },
   {
    "duration": 5,
    "start_time": "2024-06-14T02:24:17.341Z"
   },
   {
    "duration": 5,
    "start_time": "2024-06-14T02:24:17.349Z"
   },
   {
    "duration": 880,
    "start_time": "2024-06-14T02:24:17.358Z"
   },
   {
    "duration": 103,
    "start_time": "2024-06-14T02:24:18.241Z"
   },
   {
    "duration": 82,
    "start_time": "2024-06-14T02:24:18.346Z"
   },
   {
    "duration": 103,
    "start_time": "2024-06-14T02:24:18.435Z"
   },
   {
    "duration": 7,
    "start_time": "2024-06-14T02:24:18.542Z"
   },
   {
    "duration": 550,
    "start_time": "2024-06-14T02:24:18.553Z"
   },
   {
    "duration": 0,
    "start_time": "2024-06-14T02:24:19.106Z"
   },
   {
    "duration": 0,
    "start_time": "2024-06-14T02:24:19.109Z"
   },
   {
    "duration": 0,
    "start_time": "2024-06-14T02:24:19.126Z"
   },
   {
    "duration": 0,
    "start_time": "2024-06-14T02:24:19.128Z"
   },
   {
    "duration": 0,
    "start_time": "2024-06-14T02:24:19.131Z"
   },
   {
    "duration": 0,
    "start_time": "2024-06-14T02:24:19.133Z"
   },
   {
    "duration": 1602,
    "start_time": "2024-06-14T02:25:24.974Z"
   },
   {
    "duration": 452,
    "start_time": "2024-06-14T02:25:26.581Z"
   },
   {
    "duration": 123,
    "start_time": "2024-06-14T02:25:27.036Z"
   },
   {
    "duration": 79,
    "start_time": "2024-06-14T02:25:27.162Z"
   },
   {
    "duration": 306,
    "start_time": "2024-06-14T02:25:27.245Z"
   },
   {
    "duration": 9,
    "start_time": "2024-06-14T02:25:27.554Z"
   },
   {
    "duration": 210,
    "start_time": "2024-06-14T02:25:27.565Z"
   },
   {
    "duration": 22,
    "start_time": "2024-06-14T02:25:27.779Z"
   },
   {
    "duration": 82,
    "start_time": "2024-06-14T02:25:27.804Z"
   },
   {
    "duration": 317,
    "start_time": "2024-06-14T02:25:27.890Z"
   },
   {
    "duration": 18,
    "start_time": "2024-06-14T02:25:28.210Z"
   },
   {
    "duration": 195,
    "start_time": "2024-06-14T02:25:28.232Z"
   },
   {
    "duration": 23,
    "start_time": "2024-06-14T02:25:28.430Z"
   },
   {
    "duration": 105,
    "start_time": "2024-06-14T02:25:28.460Z"
   },
   {
    "duration": 329,
    "start_time": "2024-06-14T02:25:28.569Z"
   },
   {
    "duration": 9,
    "start_time": "2024-06-14T02:25:28.902Z"
   },
   {
    "duration": 206,
    "start_time": "2024-06-14T02:25:28.927Z"
   },
   {
    "duration": 31,
    "start_time": "2024-06-14T02:25:29.136Z"
   },
   {
    "duration": 86,
    "start_time": "2024-06-14T02:25:29.172Z"
   },
   {
    "duration": 46,
    "start_time": "2024-06-14T02:25:29.261Z"
   },
   {
    "duration": 5,
    "start_time": "2024-06-14T02:25:29.325Z"
   },
   {
    "duration": 29,
    "start_time": "2024-06-14T02:25:29.333Z"
   },
   {
    "duration": 6,
    "start_time": "2024-06-14T02:25:29.365Z"
   },
   {
    "duration": 4,
    "start_time": "2024-06-14T02:25:29.375Z"
   },
   {
    "duration": 944,
    "start_time": "2024-06-14T02:25:29.383Z"
   },
   {
    "duration": 104,
    "start_time": "2024-06-14T02:25:30.330Z"
   },
   {
    "duration": 7,
    "start_time": "2024-06-14T02:25:30.437Z"
   },
   {
    "duration": 180,
    "start_time": "2024-06-14T02:25:30.448Z"
   },
   {
    "duration": 7,
    "start_time": "2024-06-14T02:25:30.631Z"
   },
   {
    "duration": 526,
    "start_time": "2024-06-14T02:25:30.642Z"
   },
   {
    "duration": 0,
    "start_time": "2024-06-14T02:25:31.172Z"
   },
   {
    "duration": 0,
    "start_time": "2024-06-14T02:25:31.177Z"
   },
   {
    "duration": 0,
    "start_time": "2024-06-14T02:25:31.180Z"
   },
   {
    "duration": 0,
    "start_time": "2024-06-14T02:25:31.181Z"
   },
   {
    "duration": 1,
    "start_time": "2024-06-14T02:25:31.183Z"
   },
   {
    "duration": 0,
    "start_time": "2024-06-14T02:25:31.185Z"
   },
   {
    "duration": 1622,
    "start_time": "2024-06-14T02:31:03.970Z"
   },
   {
    "duration": 498,
    "start_time": "2024-06-14T02:31:05.597Z"
   },
   {
    "duration": 138,
    "start_time": "2024-06-14T02:31:06.098Z"
   },
   {
    "duration": 91,
    "start_time": "2024-06-14T02:31:06.240Z"
   },
   {
    "duration": 348,
    "start_time": "2024-06-14T02:31:06.336Z"
   },
   {
    "duration": 10,
    "start_time": "2024-06-14T02:31:06.686Z"
   },
   {
    "duration": 255,
    "start_time": "2024-06-14T02:31:06.699Z"
   },
   {
    "duration": 29,
    "start_time": "2024-06-14T02:31:06.958Z"
   },
   {
    "duration": 98,
    "start_time": "2024-06-14T02:31:06.990Z"
   },
   {
    "duration": 319,
    "start_time": "2024-06-14T02:31:07.093Z"
   },
   {
    "duration": 16,
    "start_time": "2024-06-14T02:31:07.415Z"
   },
   {
    "duration": 265,
    "start_time": "2024-06-14T02:31:07.433Z"
   },
   {
    "duration": 31,
    "start_time": "2024-06-14T02:31:07.707Z"
   },
   {
    "duration": 100,
    "start_time": "2024-06-14T02:31:07.745Z"
   },
   {
    "duration": 377,
    "start_time": "2024-06-14T02:31:07.849Z"
   },
   {
    "duration": 9,
    "start_time": "2024-06-14T02:31:08.232Z"
   },
   {
    "duration": 238,
    "start_time": "2024-06-14T02:31:08.244Z"
   },
   {
    "duration": 42,
    "start_time": "2024-06-14T02:31:08.485Z"
   },
   {
    "duration": 62,
    "start_time": "2024-06-14T02:31:08.531Z"
   },
   {
    "duration": 65,
    "start_time": "2024-06-14T02:31:08.596Z"
   },
   {
    "duration": 4,
    "start_time": "2024-06-14T02:31:08.665Z"
   },
   {
    "duration": 54,
    "start_time": "2024-06-14T02:31:08.672Z"
   },
   {
    "duration": 8,
    "start_time": "2024-06-14T02:31:08.734Z"
   },
   {
    "duration": 5,
    "start_time": "2024-06-14T02:31:08.745Z"
   },
   {
    "duration": 904,
    "start_time": "2024-06-14T02:31:08.753Z"
   },
   {
    "duration": 112,
    "start_time": "2024-06-14T02:31:09.728Z"
   },
   {
    "duration": 13,
    "start_time": "2024-06-14T02:31:09.843Z"
   },
   {
    "duration": 94,
    "start_time": "2024-06-14T02:31:09.860Z"
   },
   {
    "duration": 7,
    "start_time": "2024-06-14T02:31:10.026Z"
   },
   {
    "duration": 601,
    "start_time": "2024-06-14T02:31:10.037Z"
   },
   {
    "duration": 0,
    "start_time": "2024-06-14T02:31:10.641Z"
   },
   {
    "duration": 0,
    "start_time": "2024-06-14T02:31:10.643Z"
   },
   {
    "duration": 0,
    "start_time": "2024-06-14T02:31:10.645Z"
   },
   {
    "duration": 0,
    "start_time": "2024-06-14T02:31:10.647Z"
   },
   {
    "duration": 0,
    "start_time": "2024-06-14T02:31:10.650Z"
   },
   {
    "duration": 0,
    "start_time": "2024-06-14T02:31:10.652Z"
   },
   {
    "duration": 1484,
    "start_time": "2024-06-14T02:44:45.984Z"
   },
   {
    "duration": 462,
    "start_time": "2024-06-14T02:44:47.473Z"
   },
   {
    "duration": 135,
    "start_time": "2024-06-14T02:44:47.938Z"
   },
   {
    "duration": 81,
    "start_time": "2024-06-14T02:44:48.076Z"
   },
   {
    "duration": 305,
    "start_time": "2024-06-14T02:44:48.161Z"
   },
   {
    "duration": 9,
    "start_time": "2024-06-14T02:44:48.469Z"
   },
   {
    "duration": 215,
    "start_time": "2024-06-14T02:44:48.481Z"
   },
   {
    "duration": 36,
    "start_time": "2024-06-14T02:44:48.700Z"
   },
   {
    "duration": 62,
    "start_time": "2024-06-14T02:44:48.739Z"
   },
   {
    "duration": 327,
    "start_time": "2024-06-14T02:44:48.805Z"
   },
   {
    "duration": 9,
    "start_time": "2024-06-14T02:44:49.135Z"
   },
   {
    "duration": 229,
    "start_time": "2024-06-14T02:44:49.147Z"
   },
   {
    "duration": 23,
    "start_time": "2024-06-14T02:44:49.379Z"
   },
   {
    "duration": 80,
    "start_time": "2024-06-14T02:44:49.426Z"
   },
   {
    "duration": 328,
    "start_time": "2024-06-14T02:44:49.509Z"
   },
   {
    "duration": 9,
    "start_time": "2024-06-14T02:44:49.842Z"
   },
   {
    "duration": 228,
    "start_time": "2024-06-14T02:44:49.855Z"
   },
   {
    "duration": 39,
    "start_time": "2024-06-14T02:44:50.088Z"
   },
   {
    "duration": 52,
    "start_time": "2024-06-14T02:44:50.133Z"
   },
   {
    "duration": 73,
    "start_time": "2024-06-14T02:44:50.190Z"
   },
   {
    "duration": 5,
    "start_time": "2024-06-14T02:44:50.268Z"
   },
   {
    "duration": 58,
    "start_time": "2024-06-14T02:44:50.277Z"
   },
   {
    "duration": 6,
    "start_time": "2024-06-14T02:44:50.339Z"
   },
   {
    "duration": 6,
    "start_time": "2024-06-14T02:44:50.350Z"
   },
   {
    "duration": 877,
    "start_time": "2024-06-14T02:44:50.360Z"
   },
   {
    "duration": 104,
    "start_time": "2024-06-14T02:44:51.240Z"
   },
   {
    "duration": 80,
    "start_time": "2024-06-14T02:44:51.347Z"
   },
   {
    "duration": 105,
    "start_time": "2024-06-14T02:44:51.430Z"
   },
   {
    "duration": 531,
    "start_time": "2024-06-14T02:44:51.538Z"
   },
   {
    "duration": 0,
    "start_time": "2024-06-14T02:44:52.071Z"
   },
   {
    "duration": 0,
    "start_time": "2024-06-14T02:44:52.073Z"
   },
   {
    "duration": 0,
    "start_time": "2024-06-14T02:44:52.075Z"
   },
   {
    "duration": 0,
    "start_time": "2024-06-14T02:44:52.078Z"
   },
   {
    "duration": 0,
    "start_time": "2024-06-14T02:44:52.080Z"
   },
   {
    "duration": 0,
    "start_time": "2024-06-14T02:44:52.083Z"
   },
   {
    "duration": 1587,
    "start_time": "2024-06-14T02:47:06.999Z"
   },
   {
    "duration": 470,
    "start_time": "2024-06-14T02:47:08.590Z"
   },
   {
    "duration": 125,
    "start_time": "2024-06-14T02:47:09.062Z"
   },
   {
    "duration": 76,
    "start_time": "2024-06-14T02:47:09.191Z"
   },
   {
    "duration": 345,
    "start_time": "2024-06-14T02:47:09.272Z"
   },
   {
    "duration": 9,
    "start_time": "2024-06-14T02:47:09.627Z"
   },
   {
    "duration": 208,
    "start_time": "2024-06-14T02:47:09.639Z"
   },
   {
    "duration": 32,
    "start_time": "2024-06-14T02:47:09.851Z"
   },
   {
    "duration": 88,
    "start_time": "2024-06-14T02:47:09.887Z"
   },
   {
    "duration": 347,
    "start_time": "2024-06-14T02:47:09.979Z"
   },
   {
    "duration": 11,
    "start_time": "2024-06-14T02:47:10.330Z"
   },
   {
    "duration": 209,
    "start_time": "2024-06-14T02:47:10.344Z"
   },
   {
    "duration": 23,
    "start_time": "2024-06-14T02:47:10.556Z"
   },
   {
    "duration": 95,
    "start_time": "2024-06-14T02:47:10.586Z"
   },
   {
    "duration": 295,
    "start_time": "2024-06-14T02:47:10.684Z"
   },
   {
    "duration": 7,
    "start_time": "2024-06-14T02:47:10.982Z"
   },
   {
    "duration": 227,
    "start_time": "2024-06-14T02:47:10.992Z"
   },
   {
    "duration": 23,
    "start_time": "2024-06-14T02:47:11.223Z"
   },
   {
    "duration": 48,
    "start_time": "2024-06-14T02:47:11.249Z"
   },
   {
    "duration": 66,
    "start_time": "2024-06-14T02:47:11.300Z"
   },
   {
    "duration": 5,
    "start_time": "2024-06-14T02:47:11.369Z"
   },
   {
    "duration": 56,
    "start_time": "2024-06-14T02:47:11.378Z"
   },
   {
    "duration": 4,
    "start_time": "2024-06-14T02:47:11.437Z"
   },
   {
    "duration": 5,
    "start_time": "2024-06-14T02:47:11.444Z"
   },
   {
    "duration": 882,
    "start_time": "2024-06-14T02:47:11.452Z"
   },
   {
    "duration": 105,
    "start_time": "2024-06-14T02:47:12.337Z"
   },
   {
    "duration": 82,
    "start_time": "2024-06-14T02:47:12.444Z"
   },
   {
    "duration": 105,
    "start_time": "2024-06-14T02:47:12.530Z"
   },
   {
    "duration": 17,
    "start_time": "2024-06-14T02:47:12.638Z"
   },
   {
    "duration": 8,
    "start_time": "2024-06-14T02:47:12.658Z"
   },
   {
    "duration": 541,
    "start_time": "2024-06-14T02:47:12.670Z"
   },
   {
    "duration": 0,
    "start_time": "2024-06-14T02:47:13.213Z"
   },
   {
    "duration": 0,
    "start_time": "2024-06-14T02:47:13.216Z"
   },
   {
    "duration": 0,
    "start_time": "2024-06-14T02:47:13.226Z"
   },
   {
    "duration": 0,
    "start_time": "2024-06-14T02:47:13.228Z"
   },
   {
    "duration": 1564,
    "start_time": "2024-06-14T02:54:04.004Z"
   },
   {
    "duration": 439,
    "start_time": "2024-06-14T02:54:05.571Z"
   },
   {
    "duration": 130,
    "start_time": "2024-06-14T02:54:06.027Z"
   },
   {
    "duration": 76,
    "start_time": "2024-06-14T02:54:06.160Z"
   },
   {
    "duration": 300,
    "start_time": "2024-06-14T02:54:06.241Z"
   },
   {
    "duration": 8,
    "start_time": "2024-06-14T02:54:06.545Z"
   },
   {
    "duration": 213,
    "start_time": "2024-06-14T02:54:06.556Z"
   },
   {
    "duration": 22,
    "start_time": "2024-06-14T02:54:06.772Z"
   },
   {
    "duration": 77,
    "start_time": "2024-06-14T02:54:06.797Z"
   },
   {
    "duration": 325,
    "start_time": "2024-06-14T02:54:06.878Z"
   },
   {
    "duration": 21,
    "start_time": "2024-06-14T02:54:07.207Z"
   },
   {
    "duration": 209,
    "start_time": "2024-06-14T02:54:07.231Z"
   },
   {
    "duration": 23,
    "start_time": "2024-06-14T02:54:07.443Z"
   },
   {
    "duration": 103,
    "start_time": "2024-06-14T02:54:07.474Z"
   },
   {
    "duration": 301,
    "start_time": "2024-06-14T02:54:07.581Z"
   },
   {
    "duration": 8,
    "start_time": "2024-06-14T02:54:07.886Z"
   },
   {
    "duration": 211,
    "start_time": "2024-06-14T02:54:07.898Z"
   },
   {
    "duration": 34,
    "start_time": "2024-06-14T02:54:08.113Z"
   },
   {
    "duration": 49,
    "start_time": "2024-06-14T02:54:08.149Z"
   },
   {
    "duration": 65,
    "start_time": "2024-06-14T02:54:08.201Z"
   },
   {
    "duration": 4,
    "start_time": "2024-06-14T02:54:08.269Z"
   },
   {
    "duration": 61,
    "start_time": "2024-06-14T02:54:08.276Z"
   },
   {
    "duration": 7,
    "start_time": "2024-06-14T02:54:08.339Z"
   },
   {
    "duration": 6,
    "start_time": "2024-06-14T02:54:08.349Z"
   },
   {
    "duration": 868,
    "start_time": "2024-06-14T02:54:08.359Z"
   },
   {
    "duration": 112,
    "start_time": "2024-06-14T02:54:09.229Z"
   },
   {
    "duration": 83,
    "start_time": "2024-06-14T02:54:09.349Z"
   },
   {
    "duration": 94,
    "start_time": "2024-06-14T02:54:09.441Z"
   },
   {
    "duration": 5,
    "start_time": "2024-06-14T02:54:09.538Z"
   },
   {
    "duration": 26,
    "start_time": "2024-06-14T02:54:09.546Z"
   },
   {
    "duration": 560,
    "start_time": "2024-06-14T02:54:09.575Z"
   },
   {
    "duration": 0,
    "start_time": "2024-06-14T02:54:10.138Z"
   },
   {
    "duration": 1597,
    "start_time": "2024-06-14T02:55:00.994Z"
   },
   {
    "duration": 445,
    "start_time": "2024-06-14T02:55:02.595Z"
   },
   {
    "duration": 128,
    "start_time": "2024-06-14T02:55:03.043Z"
   },
   {
    "duration": 73,
    "start_time": "2024-06-14T02:55:03.174Z"
   },
   {
    "duration": 413,
    "start_time": "2024-06-14T02:55:03.252Z"
   },
   {
    "duration": 8,
    "start_time": "2024-06-14T02:55:03.669Z"
   },
   {
    "duration": 206,
    "start_time": "2024-06-14T02:55:03.680Z"
   },
   {
    "duration": 37,
    "start_time": "2024-06-14T02:55:03.889Z"
   },
   {
    "duration": 59,
    "start_time": "2024-06-14T02:55:03.929Z"
   },
   {
    "duration": 313,
    "start_time": "2024-06-14T02:55:03.991Z"
   },
   {
    "duration": 19,
    "start_time": "2024-06-14T02:55:04.307Z"
   },
   {
    "duration": 197,
    "start_time": "2024-06-14T02:55:04.329Z"
   },
   {
    "duration": 28,
    "start_time": "2024-06-14T02:55:04.529Z"
   },
   {
    "duration": 111,
    "start_time": "2024-06-14T02:55:04.567Z"
   },
   {
    "duration": 306,
    "start_time": "2024-06-14T02:55:04.681Z"
   },
   {
    "duration": 9,
    "start_time": "2024-06-14T02:55:04.990Z"
   },
   {
    "duration": 207,
    "start_time": "2024-06-14T02:55:05.001Z"
   },
   {
    "duration": 28,
    "start_time": "2024-06-14T02:55:05.210Z"
   },
   {
    "duration": 47,
    "start_time": "2024-06-14T02:55:05.242Z"
   },
   {
    "duration": 65,
    "start_time": "2024-06-14T02:55:05.292Z"
   },
   {
    "duration": 4,
    "start_time": "2024-06-14T02:55:05.360Z"
   },
   {
    "duration": 29,
    "start_time": "2024-06-14T02:55:05.368Z"
   },
   {
    "duration": 6,
    "start_time": "2024-06-14T02:55:05.427Z"
   },
   {
    "duration": 5,
    "start_time": "2024-06-14T02:55:05.437Z"
   },
   {
    "duration": 885,
    "start_time": "2024-06-14T02:55:05.446Z"
   },
   {
    "duration": 100,
    "start_time": "2024-06-14T02:55:06.334Z"
   },
   {
    "duration": 84,
    "start_time": "2024-06-14T02:55:06.442Z"
   },
   {
    "duration": 104,
    "start_time": "2024-06-14T02:55:06.534Z"
   },
   {
    "duration": 6,
    "start_time": "2024-06-14T02:55:06.641Z"
   },
   {
    "duration": 18,
    "start_time": "2024-06-14T02:55:06.650Z"
   },
   {
    "duration": 583,
    "start_time": "2024-06-14T02:55:06.671Z"
   },
   {
    "duration": 0,
    "start_time": "2024-06-14T02:55:07.257Z"
   },
   {
    "duration": 1618,
    "start_time": "2024-06-14T02:56:58.020Z"
   },
   {
    "duration": 466,
    "start_time": "2024-06-14T02:56:59.642Z"
   },
   {
    "duration": 124,
    "start_time": "2024-06-14T02:57:00.111Z"
   },
   {
    "duration": 89,
    "start_time": "2024-06-14T02:57:00.239Z"
   },
   {
    "duration": 321,
    "start_time": "2024-06-14T02:57:00.332Z"
   },
   {
    "duration": 11,
    "start_time": "2024-06-14T02:57:00.656Z"
   },
   {
    "duration": 204,
    "start_time": "2024-06-14T02:57:00.670Z"
   },
   {
    "duration": 24,
    "start_time": "2024-06-14T02:57:00.877Z"
   },
   {
    "duration": 77,
    "start_time": "2024-06-14T02:57:00.905Z"
   },
   {
    "duration": 322,
    "start_time": "2024-06-14T02:57:00.985Z"
   },
   {
    "duration": 21,
    "start_time": "2024-06-14T02:57:01.310Z"
   },
   {
    "duration": 234,
    "start_time": "2024-06-14T02:57:01.334Z"
   },
   {
    "duration": 24,
    "start_time": "2024-06-14T02:57:01.571Z"
   },
   {
    "duration": 84,
    "start_time": "2024-06-14T02:57:01.601Z"
   },
   {
    "duration": 295,
    "start_time": "2024-06-14T02:57:01.689Z"
   },
   {
    "duration": 8,
    "start_time": "2024-06-14T02:57:01.988Z"
   },
   {
    "duration": 209,
    "start_time": "2024-06-14T02:57:01.999Z"
   },
   {
    "duration": 27,
    "start_time": "2024-06-14T02:57:02.212Z"
   },
   {
    "duration": 45,
    "start_time": "2024-06-14T02:57:02.242Z"
   },
   {
    "duration": 69,
    "start_time": "2024-06-14T02:57:02.289Z"
   },
   {
    "duration": 4,
    "start_time": "2024-06-14T02:57:02.361Z"
   },
   {
    "duration": 29,
    "start_time": "2024-06-14T02:57:02.368Z"
   },
   {
    "duration": 30,
    "start_time": "2024-06-14T02:57:02.399Z"
   },
   {
    "duration": 6,
    "start_time": "2024-06-14T02:57:02.432Z"
   },
   {
    "duration": 988,
    "start_time": "2024-06-14T02:57:02.442Z"
   },
   {
    "duration": 191,
    "start_time": "2024-06-14T02:57:03.435Z"
   },
   {
    "duration": 14,
    "start_time": "2024-06-14T02:57:03.630Z"
   },
   {
    "duration": 107,
    "start_time": "2024-06-14T02:57:03.651Z"
   },
   {
    "duration": 6,
    "start_time": "2024-06-14T02:57:03.763Z"
   },
   {
    "duration": 55,
    "start_time": "2024-06-14T02:57:03.774Z"
   },
   {
    "duration": 745,
    "start_time": "2024-06-14T02:57:03.835Z"
   },
   {
    "duration": 0,
    "start_time": "2024-06-14T02:57:04.583Z"
   },
   {
    "duration": 1736,
    "start_time": "2024-06-14T02:58:28.004Z"
   },
   {
    "duration": 531,
    "start_time": "2024-06-14T02:58:29.744Z"
   },
   {
    "duration": 138,
    "start_time": "2024-06-14T02:58:30.279Z"
   },
   {
    "duration": 80,
    "start_time": "2024-06-14T02:58:30.427Z"
   },
   {
    "duration": 311,
    "start_time": "2024-06-14T02:58:30.527Z"
   },
   {
    "duration": 10,
    "start_time": "2024-06-14T02:58:30.841Z"
   },
   {
    "duration": 220,
    "start_time": "2024-06-14T02:58:30.854Z"
   },
   {
    "duration": 28,
    "start_time": "2024-06-14T02:58:31.077Z"
   },
   {
    "duration": 77,
    "start_time": "2024-06-14T02:58:31.126Z"
   },
   {
    "duration": 393,
    "start_time": "2024-06-14T02:58:31.206Z"
   },
   {
    "duration": 8,
    "start_time": "2024-06-14T02:58:31.603Z"
   },
   {
    "duration": 215,
    "start_time": "2024-06-14T02:58:31.628Z"
   },
   {
    "duration": 25,
    "start_time": "2024-06-14T02:58:31.846Z"
   },
   {
    "duration": 96,
    "start_time": "2024-06-14T02:58:31.879Z"
   },
   {
    "duration": 316,
    "start_time": "2024-06-14T02:58:31.979Z"
   },
   {
    "duration": 8,
    "start_time": "2024-06-14T02:58:32.298Z"
   },
   {
    "duration": 204,
    "start_time": "2024-06-14T02:58:32.309Z"
   },
   {
    "duration": 30,
    "start_time": "2024-06-14T02:58:32.516Z"
   },
   {
    "duration": 46,
    "start_time": "2024-06-14T02:58:32.549Z"
   },
   {
    "duration": 61,
    "start_time": "2024-06-14T02:58:32.598Z"
   },
   {
    "duration": 5,
    "start_time": "2024-06-14T02:58:32.663Z"
   },
   {
    "duration": 55,
    "start_time": "2024-06-14T02:58:32.671Z"
   },
   {
    "duration": 5,
    "start_time": "2024-06-14T02:58:32.729Z"
   },
   {
    "duration": 5,
    "start_time": "2024-06-14T02:58:32.736Z"
   },
   {
    "duration": 884,
    "start_time": "2024-06-14T02:58:32.745Z"
   },
   {
    "duration": 102,
    "start_time": "2024-06-14T02:58:33.632Z"
   },
   {
    "duration": 7,
    "start_time": "2024-06-14T02:58:33.737Z"
   },
   {
    "duration": 180,
    "start_time": "2024-06-14T02:58:33.747Z"
   },
   {
    "duration": 6,
    "start_time": "2024-06-14T02:58:33.930Z"
   },
   {
    "duration": 17,
    "start_time": "2024-06-14T02:58:33.940Z"
   },
   {
    "duration": 1342,
    "start_time": "2024-06-14T02:58:33.960Z"
   },
   {
    "duration": 522,
    "start_time": "2024-06-14T02:58:35.305Z"
   },
   {
    "duration": 1594,
    "start_time": "2024-06-14T03:00:22.008Z"
   },
   {
    "duration": 470,
    "start_time": "2024-06-14T03:00:23.605Z"
   },
   {
    "duration": 126,
    "start_time": "2024-06-14T03:00:24.077Z"
   },
   {
    "duration": 71,
    "start_time": "2024-06-14T03:00:24.206Z"
   },
   {
    "duration": 310,
    "start_time": "2024-06-14T03:00:24.282Z"
   },
   {
    "duration": 9,
    "start_time": "2024-06-14T03:00:24.594Z"
   },
   {
    "duration": 190,
    "start_time": "2024-06-14T03:00:24.625Z"
   },
   {
    "duration": 28,
    "start_time": "2024-06-14T03:00:24.818Z"
   },
   {
    "duration": 78,
    "start_time": "2024-06-14T03:00:24.849Z"
   },
   {
    "duration": 322,
    "start_time": "2024-06-14T03:00:24.930Z"
   },
   {
    "duration": 7,
    "start_time": "2024-06-14T03:00:25.256Z"
   },
   {
    "duration": 208,
    "start_time": "2024-06-14T03:00:25.267Z"
   },
   {
    "duration": 22,
    "start_time": "2024-06-14T03:00:25.478Z"
   },
   {
    "duration": 69,
    "start_time": "2024-06-14T03:00:25.527Z"
   },
   {
    "duration": 305,
    "start_time": "2024-06-14T03:00:25.599Z"
   },
   {
    "duration": 20,
    "start_time": "2024-06-14T03:00:25.908Z"
   },
   {
    "duration": 203,
    "start_time": "2024-06-14T03:00:25.931Z"
   },
   {
    "duration": 26,
    "start_time": "2024-06-14T03:00:26.137Z"
   },
   {
    "duration": 79,
    "start_time": "2024-06-14T03:00:26.166Z"
   },
   {
    "duration": 47,
    "start_time": "2024-06-14T03:00:26.248Z"
   },
   {
    "duration": 28,
    "start_time": "2024-06-14T03:00:26.298Z"
   },
   {
    "duration": 31,
    "start_time": "2024-06-14T03:00:26.329Z"
   },
   {
    "duration": 5,
    "start_time": "2024-06-14T03:00:26.363Z"
   },
   {
    "duration": 6,
    "start_time": "2024-06-14T03:00:26.371Z"
   },
   {
    "duration": 864,
    "start_time": "2024-06-14T03:00:26.380Z"
   },
   {
    "duration": 98,
    "start_time": "2024-06-14T03:00:27.247Z"
   },
   {
    "duration": 12,
    "start_time": "2024-06-14T03:00:27.426Z"
   },
   {
    "duration": 119,
    "start_time": "2024-06-14T03:00:27.441Z"
   },
   {
    "duration": 5,
    "start_time": "2024-06-14T03:00:27.565Z"
   },
   {
    "duration": 16,
    "start_time": "2024-06-14T03:00:27.574Z"
   },
   {
    "duration": 1352,
    "start_time": "2024-06-14T03:00:27.593Z"
   },
   {
    "duration": 5134,
    "start_time": "2024-06-16T18:25:29.523Z"
   },
   {
    "duration": 547,
    "start_time": "2024-06-16T18:25:34.661Z"
   },
   {
    "duration": 126,
    "start_time": "2024-06-16T18:25:35.212Z"
   },
   {
    "duration": 77,
    "start_time": "2024-06-16T18:25:35.341Z"
   },
   {
    "duration": 317,
    "start_time": "2024-06-16T18:25:35.423Z"
   },
   {
    "duration": 8,
    "start_time": "2024-06-16T18:25:35.743Z"
   },
   {
    "duration": 218,
    "start_time": "2024-06-16T18:25:35.755Z"
   },
   {
    "duration": 27,
    "start_time": "2024-06-16T18:25:35.982Z"
   },
   {
    "duration": 62,
    "start_time": "2024-06-16T18:25:36.013Z"
   },
   {
    "duration": 344,
    "start_time": "2024-06-16T18:25:36.077Z"
   },
   {
    "duration": 7,
    "start_time": "2024-06-16T18:25:36.426Z"
   },
   {
    "duration": 290,
    "start_time": "2024-06-16T18:25:36.436Z"
   },
   {
    "duration": 21,
    "start_time": "2024-06-16T18:25:36.729Z"
   },
   {
    "duration": 89,
    "start_time": "2024-06-16T18:25:36.757Z"
   },
   {
    "duration": 304,
    "start_time": "2024-06-16T18:25:36.849Z"
   },
   {
    "duration": 9,
    "start_time": "2024-06-16T18:25:37.158Z"
   },
   {
    "duration": 206,
    "start_time": "2024-06-16T18:25:37.170Z"
   },
   {
    "duration": 34,
    "start_time": "2024-06-16T18:25:37.379Z"
   },
   {
    "duration": 46,
    "start_time": "2024-06-16T18:25:37.416Z"
   },
   {
    "duration": 66,
    "start_time": "2024-06-16T18:25:37.464Z"
   },
   {
    "duration": 4,
    "start_time": "2024-06-16T18:25:37.533Z"
   },
   {
    "duration": 30,
    "start_time": "2024-06-16T18:25:37.540Z"
   },
   {
    "duration": 29,
    "start_time": "2024-06-16T18:25:37.573Z"
   },
   {
    "duration": 5,
    "start_time": "2024-06-16T18:25:37.606Z"
   },
   {
    "duration": 806,
    "start_time": "2024-06-16T18:25:37.615Z"
   },
   {
    "duration": 181,
    "start_time": "2024-06-16T18:25:38.425Z"
   },
   {
    "duration": 12,
    "start_time": "2024-06-16T18:25:38.611Z"
   },
   {
    "duration": 454,
    "start_time": "2024-06-16T18:25:38.702Z"
   },
   {
    "duration": 0,
    "start_time": "2024-06-16T18:25:39.159Z"
   },
   {
    "duration": 0,
    "start_time": "2024-06-16T18:25:39.162Z"
   },
   {
    "duration": 0,
    "start_time": "2024-06-16T18:25:39.164Z"
   },
   {
    "duration": 1603,
    "start_time": "2024-06-16T18:31:08.564Z"
   },
   {
    "duration": 449,
    "start_time": "2024-06-16T18:31:10.172Z"
   },
   {
    "duration": 129,
    "start_time": "2024-06-16T18:31:10.625Z"
   },
   {
    "duration": 81,
    "start_time": "2024-06-16T18:31:10.757Z"
   },
   {
    "duration": 304,
    "start_time": "2024-06-16T18:31:10.843Z"
   },
   {
    "duration": 9,
    "start_time": "2024-06-16T18:31:11.151Z"
   },
   {
    "duration": 227,
    "start_time": "2024-06-16T18:31:11.163Z"
   },
   {
    "duration": 27,
    "start_time": "2024-06-16T18:31:11.394Z"
   },
   {
    "duration": 81,
    "start_time": "2024-06-16T18:31:11.424Z"
   },
   {
    "duration": 311,
    "start_time": "2024-06-16T18:31:11.508Z"
   },
   {
    "duration": 8,
    "start_time": "2024-06-16T18:31:11.822Z"
   },
   {
    "duration": 204,
    "start_time": "2024-06-16T18:31:11.833Z"
   },
   {
    "duration": 22,
    "start_time": "2024-06-16T18:31:12.042Z"
   },
   {
    "duration": 88,
    "start_time": "2024-06-16T18:31:12.070Z"
   },
   {
    "duration": 322,
    "start_time": "2024-06-16T18:31:12.161Z"
   },
   {
    "duration": 16,
    "start_time": "2024-06-16T18:31:12.486Z"
   },
   {
    "duration": 215,
    "start_time": "2024-06-16T18:31:12.505Z"
   },
   {
    "duration": 22,
    "start_time": "2024-06-16T18:31:12.723Z"
   },
   {
    "duration": 71,
    "start_time": "2024-06-16T18:31:12.748Z"
   },
   {
    "duration": 44,
    "start_time": "2024-06-16T18:31:12.822Z"
   },
   {
    "duration": 7,
    "start_time": "2024-06-16T18:31:12.869Z"
   },
   {
    "duration": 49,
    "start_time": "2024-06-16T18:31:12.878Z"
   },
   {
    "duration": 5,
    "start_time": "2024-06-16T18:31:12.930Z"
   },
   {
    "duration": 6,
    "start_time": "2024-06-16T18:31:12.939Z"
   },
   {
    "duration": 861,
    "start_time": "2024-06-16T18:31:12.948Z"
   },
   {
    "duration": 110,
    "start_time": "2024-06-16T18:31:13.812Z"
   },
   {
    "duration": 13,
    "start_time": "2024-06-16T18:31:14.004Z"
   },
   {
    "duration": 108,
    "start_time": "2024-06-16T18:31:14.025Z"
   },
   {
    "duration": 7,
    "start_time": "2024-06-16T18:31:14.136Z"
   },
   {
    "duration": 1148,
    "start_time": "2024-06-16T18:31:14.146Z"
   },
   {
    "duration": 0,
    "start_time": "2024-06-16T18:31:15.297Z"
   },
   {
    "duration": 1557,
    "start_time": "2024-06-16T18:32:56.539Z"
   },
   {
    "duration": 455,
    "start_time": "2024-06-16T18:32:58.099Z"
   },
   {
    "duration": 124,
    "start_time": "2024-06-16T18:32:58.558Z"
   },
   {
    "duration": 76,
    "start_time": "2024-06-16T18:32:58.685Z"
   },
   {
    "duration": 314,
    "start_time": "2024-06-16T18:32:58.767Z"
   },
   {
    "duration": 8,
    "start_time": "2024-06-16T18:32:59.085Z"
   },
   {
    "duration": 198,
    "start_time": "2024-06-16T18:32:59.103Z"
   },
   {
    "duration": 23,
    "start_time": "2024-06-16T18:32:59.304Z"
   },
   {
    "duration": 81,
    "start_time": "2024-06-16T18:32:59.332Z"
   },
   {
    "duration": 311,
    "start_time": "2024-06-16T18:32:59.416Z"
   },
   {
    "duration": 9,
    "start_time": "2024-06-16T18:32:59.730Z"
   },
   {
    "duration": 206,
    "start_time": "2024-06-16T18:32:59.741Z"
   },
   {
    "duration": 21,
    "start_time": "2024-06-16T18:32:59.950Z"
   },
   {
    "duration": 84,
    "start_time": "2024-06-16T18:32:59.978Z"
   },
   {
    "duration": 307,
    "start_time": "2024-06-16T18:33:00.066Z"
   },
   {
    "duration": 8,
    "start_time": "2024-06-16T18:33:00.376Z"
   },
   {
    "duration": 203,
    "start_time": "2024-06-16T18:33:00.387Z"
   },
   {
    "duration": 27,
    "start_time": "2024-06-16T18:33:00.593Z"
   },
   {
    "duration": 46,
    "start_time": "2024-06-16T18:33:00.623Z"
   },
   {
    "duration": 67,
    "start_time": "2024-06-16T18:33:00.672Z"
   },
   {
    "duration": 5,
    "start_time": "2024-06-16T18:33:00.741Z"
   },
   {
    "duration": 53,
    "start_time": "2024-06-16T18:33:00.749Z"
   },
   {
    "duration": 5,
    "start_time": "2024-06-16T18:33:00.805Z"
   },
   {
    "duration": 4,
    "start_time": "2024-06-16T18:33:00.814Z"
   },
   {
    "duration": 799,
    "start_time": "2024-06-16T18:33:00.821Z"
   },
   {
    "duration": 99,
    "start_time": "2024-06-16T18:33:01.622Z"
   },
   {
    "duration": 78,
    "start_time": "2024-06-16T18:33:01.725Z"
   },
   {
    "duration": 105,
    "start_time": "2024-06-16T18:33:01.807Z"
   },
   {
    "duration": 7,
    "start_time": "2024-06-16T18:33:01.915Z"
   },
   {
    "duration": 1321,
    "start_time": "2024-06-16T18:33:01.926Z"
   },
   {
    "duration": 1535,
    "start_time": "2024-06-16T18:42:02.543Z"
   },
   {
    "duration": 456,
    "start_time": "2024-06-16T18:42:04.082Z"
   },
   {
    "duration": 131,
    "start_time": "2024-06-16T18:42:04.541Z"
   },
   {
    "duration": 79,
    "start_time": "2024-06-16T18:42:04.675Z"
   },
   {
    "duration": 304,
    "start_time": "2024-06-16T18:42:04.759Z"
   },
   {
    "duration": 7,
    "start_time": "2024-06-16T18:42:05.066Z"
   },
   {
    "duration": 205,
    "start_time": "2024-06-16T18:42:05.077Z"
   },
   {
    "duration": 32,
    "start_time": "2024-06-16T18:42:05.285Z"
   },
   {
    "duration": 59,
    "start_time": "2024-06-16T18:42:05.320Z"
   },
   {
    "duration": 307,
    "start_time": "2024-06-16T18:42:05.402Z"
   },
   {
    "duration": 8,
    "start_time": "2024-06-16T18:42:05.712Z"
   },
   {
    "duration": 206,
    "start_time": "2024-06-16T18:42:05.722Z"
   },
   {
    "duration": 29,
    "start_time": "2024-06-16T18:42:05.931Z"
   },
   {
    "duration": 91,
    "start_time": "2024-06-16T18:42:05.967Z"
   },
   {
    "duration": 295,
    "start_time": "2024-06-16T18:42:06.061Z"
   },
   {
    "duration": 8,
    "start_time": "2024-06-16T18:42:06.359Z"
   },
   {
    "duration": 207,
    "start_time": "2024-06-16T18:42:06.370Z"
   },
   {
    "duration": 37,
    "start_time": "2024-06-16T18:42:06.579Z"
   },
   {
    "duration": 45,
    "start_time": "2024-06-16T18:42:06.620Z"
   },
   {
    "duration": 75,
    "start_time": "2024-06-16T18:42:06.668Z"
   },
   {
    "duration": 5,
    "start_time": "2024-06-16T18:42:06.749Z"
   },
   {
    "duration": 59,
    "start_time": "2024-06-16T18:42:06.757Z"
   },
   {
    "duration": 9,
    "start_time": "2024-06-16T18:42:06.821Z"
   },
   {
    "duration": 4,
    "start_time": "2024-06-16T18:42:06.833Z"
   },
   {
    "duration": 871,
    "start_time": "2024-06-16T18:42:06.841Z"
   },
   {
    "duration": 101,
    "start_time": "2024-06-16T18:42:07.715Z"
   },
   {
    "duration": 85,
    "start_time": "2024-06-16T18:42:07.819Z"
   },
   {
    "duration": 107,
    "start_time": "2024-06-16T18:42:07.907Z"
   },
   {
    "duration": 8,
    "start_time": "2024-06-16T18:42:08.017Z"
   },
   {
    "duration": 11,
    "start_time": "2024-06-16T18:42:08.028Z"
   },
   {
    "duration": 2893,
    "start_time": "2024-06-16T18:42:08.041Z"
   }
  ],
  "kernelspec": {
   "display_name": "Python 3 (ipykernel)",
   "language": "python",
   "name": "python3"
  },
  "language_info": {
   "codemirror_mode": {
    "name": "ipython",
    "version": 3
   },
   "file_extension": ".py",
   "mimetype": "text/x-python",
   "name": "python",
   "nbconvert_exporter": "python",
   "pygments_lexer": "ipython3",
   "version": "3.9.19"
  },
  "toc": {
   "base_numbering": 1,
   "nav_menu": {},
   "number_sections": true,
   "sideBar": true,
   "skip_h1_title": true,
   "title_cell": "Table of Contents",
   "title_sidebar": "Contents",
   "toc_cell": false,
   "toc_position": {},
   "toc_section_display": true,
   "toc_window_display": false
  }
 },
 "nbformat": 4,
 "nbformat_minor": 2
}
