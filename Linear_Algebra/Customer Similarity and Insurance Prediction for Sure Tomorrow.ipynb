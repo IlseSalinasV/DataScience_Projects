{
 "cells": [
  {
   "cell_type": "markdown",
   "metadata": {},
   "source": [
    "# Hola Ilse! <a class=\"tocSkip\"></a>\n",
    "\n",
    "Mi nombre es Oscar Flores y tengo el gusto de revisar tu proyecto. Si tienes algún comentario que quieras agregar en tus respuestas te puedes referir a mi como Oscar, no hay problema que me trates de tú.\n",
    "\n",
    "Si veo un error en la primera revisión solamente lo señalaré y dejaré que tú encuentres de qué se trata y cómo arreglarlo. Debo prepararte para que te desempeñes como especialista en Data, en un trabajo real, el responsable a cargo tuyo hará lo mismo. Si aún tienes dificultades para resolver esta tarea, te daré indicaciones más precisas en una siguiente iteración.\n",
    "\n",
    "Te dejaré mis comentarios más abajo - **por favor, no los muevas, modifiques o borres**\n",
    "\n",
    "Comenzaré mis comentarios con un resumen de los puntos que están bien, aquellos que debes corregir y aquellos que puedes mejorar. Luego deberás revisar todo el notebook para leer mis comentarios, los cuales estarán en rectángulos de color verde, amarillo o rojo como siguen:\n",
    "\n",
    "<div class=\"alert alert-block alert-success\">\n",
    "<b>Comentario de Reviewer</b> <a class=\"tocSkip\"></a>\n",
    "    \n",
    "Muy bien! Toda la respuesta fue lograda satisfactoriamente.\n",
    "</div>\n",
    "\n",
    "<div class=\"alert alert-block alert-warning\">\n",
    "<b>Comentario de Reviewer</b> <a class=\"tocSkip\"></a>\n",
    "\n",
    "Existen detalles a mejorar. Existen recomendaciones.\n",
    "</div>\n",
    "\n",
    "<div class=\"alert alert-block alert-danger\">\n",
    "\n",
    "<b>Comentario de Reviewer</b> <a class=\"tocSkip\"></a>\n",
    "\n",
    "Se necesitan correcciones en el bloque. El trabajo no puede ser aceptado con comentarios en rojo sin solucionar.\n",
    "</div>\n",
    "\n",
    "Cualquier comentario que quieras agregar entre iteraciones de revisión lo puedes hacer de la siguiente manera:\n",
    "\n",
    "<div class=\"alert alert-block alert-info\">\n",
    "<b>Respuesta estudiante.</b> <a class=\"tocSkip\"></a>\n",
    "</div>\n",
    "\n",
    "Mucho éxito en el proyecto!"
   ]
  },
  {
   "cell_type": "markdown",
   "metadata": {},
   "source": [
    "## Resumen de la revisión 1 <a class=\"tocSkip\"></a>"
   ]
  },
  {
   "cell_type": "markdown",
   "metadata": {},
   "source": [
    "<div class=\"alert alert-block alert-danger\">\n",
    "<b>Comentario de Revisor</b> <a class=\"tocSkip\"></a>\n",
    "\n",
    "Buen trabajo Ilse, tu notebook está casi terminado. Tan solo debes agregar algunas celdas más donde entrenes el modelo knn con la data no escalada para compararlo con la escalada y en el modelo de regresión lineal uses la data escalada para compararlo con el resultado ya obtenido de la data no escalada. Además complementa un poco la demostración para que quede claro el resultado.\n",
    "    \n",
    "Saludos!    \n",
    "\n",
    "</div>"
   ]
  },
  {
   "cell_type": "markdown",
   "metadata": {},
   "source": [
    "## Resumen de la revisión 2 <a class=\"tocSkip\"></a>"
   ]
  },
  {
   "cell_type": "markdown",
   "metadata": {},
   "source": [
    "<div class=\"alert alert-block alert-danger\">\n",
    "<b>Comentario de Revisor v2</b> <a class=\"tocSkip\"></a>\n",
    "\n",
    "Muy bien Ilse, lo último que falta es corregir la parte de la demostración. Te dejé un detalle específico con el que podrás finalizarla correctamente.\n",
    "    \n",
    "Saludos!    \n",
    "\n",
    "</div>"
   ]
  },
  {
   "cell_type": "markdown",
   "metadata": {},
   "source": [
    "## Resumen de la revisión 3 <a class=\"tocSkip\"></a>"
   ]
  },
  {
   "cell_type": "markdown",
   "metadata": {},
   "source": [
    "<div class=\"alert alert-block alert-success\">\n",
    "<b>Comentario de Revisor v3</b> <a class=\"tocSkip\"></a>\n",
    "\n",
    "Buen trabajo Ilse, tu notebook ha sido completado. No tengo correcciones adicionales.\n",
    "    \n",
    "Saludos!    \n",
    "\n",
    "</div>"
   ]
  },
  {
   "cell_type": "markdown",
   "metadata": {},
   "source": [
    "-----"
   ]
  },
  {
   "cell_type": "markdown",
   "metadata": {},
   "source": [
    "# Sprint 11 - Ilse Salinas\n",
    "# Descripción"
   ]
  },
  {
   "cell_type": "markdown",
   "metadata": {},
   "source": [
    "La compañía de seguros Sure Tomorrow quiere resolver varias tareas con la ayuda de machine learning y te pide que evalúes esa posibilidad.\n",
    "- Tarea 1: encontrar clientes que sean similares a un cliente determinado. Esto ayudará a los agentes de la compañía con el marketing.\n",
    "- Tarea 2: predecir la probabilidad de que un nuevo cliente reciba una prestación del seguro. ¿Puede un modelo de predictivo funcionar mejor que un modelo dummy?\n",
    "- Tarea 3: predecir el número de prestaciones de seguro que un nuevo cliente pueda recibir utilizando un modelo de regresión lineal.\n",
    "- Tarea 4: proteger los datos personales de los clientes sin afectar al modelo del ejercicio anterior. Es necesario desarrollar un algoritmo de transformación de datos que dificulte la recuperación de la información personal si los datos caen en manos equivocadas. Esto se denomina enmascaramiento u ofuscación de datos. Pero los datos deben protegerse de tal manera que no se vea afectada la calidad de los modelos de machine learning. No es necesario elegir el mejor modelo, basta con demostrar que el algoritmo funciona correctamente.\n"
   ]
  },
  {
   "cell_type": "markdown",
   "metadata": {},
   "source": [
    "# Preprocesamiento y exploración de datos\n",
    "\n",
    "## Inicialización"
   ]
  },
  {
   "cell_type": "code",
   "execution_count": 1,
   "metadata": {},
   "outputs": [],
   "source": [
    "#pip install scikit-learn --upgrade"
   ]
  },
  {
   "cell_type": "code",
   "execution_count": 2,
   "metadata": {},
   "outputs": [],
   "source": [
    "import numpy as np\n",
    "import pandas as pd\n",
    "\n",
    "import seaborn as sns\n",
    "\n",
    "import sklearn.linear_model\n",
    "from sklearn.metrics import f1_score, confusion_matrix\n",
    "from sklearn.neighbors import NearestNeighbors\n",
    "from sklearn.preprocessing import MaxAbsScaler\n",
    "\n",
    "from sklearn.model_selection import train_test_split\n",
    "from sklearn.dummy import DummyClassifier\n",
    "\n",
    "\n",
    "from IPython.display import display"
   ]
  },
  {
   "cell_type": "markdown",
   "metadata": {},
   "source": [
    "## Carga de datos"
   ]
  },
  {
   "cell_type": "markdown",
   "metadata": {},
   "source": [
    "Carga los datos y haz una revisión básica para comprobar que no hay problemas obvios."
   ]
  },
  {
   "cell_type": "code",
   "execution_count": 3,
   "metadata": {},
   "outputs": [],
   "source": [
    "df = pd.read_csv('/datasets/insurance_us.csv')"
   ]
  },
  {
   "cell_type": "markdown",
   "metadata": {},
   "source": [
    "Renombramos las columnas para que el código se vea más coherente con su estilo."
   ]
  },
  {
   "cell_type": "code",
   "execution_count": 4,
   "metadata": {},
   "outputs": [],
   "source": [
    "df = df.rename(columns={'Gender': 'gender', 'Age': 'age', 'Salary': 'income', 'Family members': 'family_members', 'Insurance benefits': 'insurance_benefits'})"
   ]
  },
  {
   "cell_type": "code",
   "execution_count": 5,
   "metadata": {},
   "outputs": [
    {
     "data": {
      "text/html": [
       "<div>\n",
       "<style scoped>\n",
       "    .dataframe tbody tr th:only-of-type {\n",
       "        vertical-align: middle;\n",
       "    }\n",
       "\n",
       "    .dataframe tbody tr th {\n",
       "        vertical-align: top;\n",
       "    }\n",
       "\n",
       "    .dataframe thead th {\n",
       "        text-align: right;\n",
       "    }\n",
       "</style>\n",
       "<table border=\"1\" class=\"dataframe\">\n",
       "  <thead>\n",
       "    <tr style=\"text-align: right;\">\n",
       "      <th></th>\n",
       "      <th>gender</th>\n",
       "      <th>age</th>\n",
       "      <th>income</th>\n",
       "      <th>family_members</th>\n",
       "      <th>insurance_benefits</th>\n",
       "    </tr>\n",
       "  </thead>\n",
       "  <tbody>\n",
       "    <tr>\n",
       "      <th>849</th>\n",
       "      <td>0</td>\n",
       "      <td>33.0</td>\n",
       "      <td>43800.0</td>\n",
       "      <td>0</td>\n",
       "      <td>0</td>\n",
       "    </tr>\n",
       "    <tr>\n",
       "      <th>4703</th>\n",
       "      <td>0</td>\n",
       "      <td>41.0</td>\n",
       "      <td>46300.0</td>\n",
       "      <td>0</td>\n",
       "      <td>0</td>\n",
       "    </tr>\n",
       "    <tr>\n",
       "      <th>1842</th>\n",
       "      <td>0</td>\n",
       "      <td>44.0</td>\n",
       "      <td>28000.0</td>\n",
       "      <td>0</td>\n",
       "      <td>1</td>\n",
       "    </tr>\n",
       "    <tr>\n",
       "      <th>4627</th>\n",
       "      <td>0</td>\n",
       "      <td>35.0</td>\n",
       "      <td>24800.0</td>\n",
       "      <td>0</td>\n",
       "      <td>0</td>\n",
       "    </tr>\n",
       "    <tr>\n",
       "      <th>1990</th>\n",
       "      <td>1</td>\n",
       "      <td>19.0</td>\n",
       "      <td>41600.0</td>\n",
       "      <td>1</td>\n",
       "      <td>0</td>\n",
       "    </tr>\n",
       "    <tr>\n",
       "      <th>1175</th>\n",
       "      <td>0</td>\n",
       "      <td>42.0</td>\n",
       "      <td>39200.0</td>\n",
       "      <td>0</td>\n",
       "      <td>1</td>\n",
       "    </tr>\n",
       "    <tr>\n",
       "      <th>4652</th>\n",
       "      <td>1</td>\n",
       "      <td>22.0</td>\n",
       "      <td>45000.0</td>\n",
       "      <td>2</td>\n",
       "      <td>0</td>\n",
       "    </tr>\n",
       "    <tr>\n",
       "      <th>3192</th>\n",
       "      <td>0</td>\n",
       "      <td>30.0</td>\n",
       "      <td>48800.0</td>\n",
       "      <td>2</td>\n",
       "      <td>0</td>\n",
       "    </tr>\n",
       "    <tr>\n",
       "      <th>2808</th>\n",
       "      <td>0</td>\n",
       "      <td>20.0</td>\n",
       "      <td>38200.0</td>\n",
       "      <td>1</td>\n",
       "      <td>0</td>\n",
       "    </tr>\n",
       "    <tr>\n",
       "      <th>2246</th>\n",
       "      <td>1</td>\n",
       "      <td>21.0</td>\n",
       "      <td>32900.0</td>\n",
       "      <td>1</td>\n",
       "      <td>0</td>\n",
       "    </tr>\n",
       "  </tbody>\n",
       "</table>\n",
       "</div>"
      ],
      "text/plain": [
       "      gender   age   income  family_members  insurance_benefits\n",
       "849        0  33.0  43800.0               0                   0\n",
       "4703       0  41.0  46300.0               0                   0\n",
       "1842       0  44.0  28000.0               0                   1\n",
       "4627       0  35.0  24800.0               0                   0\n",
       "1990       1  19.0  41600.0               1                   0\n",
       "1175       0  42.0  39200.0               0                   1\n",
       "4652       1  22.0  45000.0               2                   0\n",
       "3192       0  30.0  48800.0               2                   0\n",
       "2808       0  20.0  38200.0               1                   0\n",
       "2246       1  21.0  32900.0               1                   0"
      ]
     },
     "execution_count": 5,
     "metadata": {},
     "output_type": "execute_result"
    }
   ],
   "source": [
    "df.sample(10)"
   ]
  },
  {
   "cell_type": "code",
   "execution_count": 6,
   "metadata": {},
   "outputs": [
    {
     "name": "stdout",
     "output_type": "stream",
     "text": [
      "<class 'pandas.core.frame.DataFrame'>\n",
      "RangeIndex: 5000 entries, 0 to 4999\n",
      "Data columns (total 5 columns):\n",
      " #   Column              Non-Null Count  Dtype  \n",
      "---  ------              --------------  -----  \n",
      " 0   gender              5000 non-null   int64  \n",
      " 1   age                 5000 non-null   float64\n",
      " 2   income              5000 non-null   float64\n",
      " 3   family_members      5000 non-null   int64  \n",
      " 4   insurance_benefits  5000 non-null   int64  \n",
      "dtypes: float64(2), int64(3)\n",
      "memory usage: 195.4 KB\n"
     ]
    }
   ],
   "source": [
    "df.info()"
   ]
  },
  {
   "cell_type": "code",
   "execution_count": 7,
   "metadata": {},
   "outputs": [],
   "source": [
    "# puede que queramos cambiar el tipo de edad (de float a int) aunque esto no es crucial\n",
    "# escribe tu conversión aquí si lo deseas:\n",
    "df['age'] = df['age'].astype(int)"
   ]
  },
  {
   "cell_type": "code",
   "execution_count": 8,
   "metadata": {},
   "outputs": [
    {
     "name": "stdout",
     "output_type": "stream",
     "text": [
      "<class 'pandas.core.frame.DataFrame'>\n",
      "RangeIndex: 5000 entries, 0 to 4999\n",
      "Data columns (total 5 columns):\n",
      " #   Column              Non-Null Count  Dtype  \n",
      "---  ------              --------------  -----  \n",
      " 0   gender              5000 non-null   int64  \n",
      " 1   age                 5000 non-null   int64  \n",
      " 2   income              5000 non-null   float64\n",
      " 3   family_members      5000 non-null   int64  \n",
      " 4   insurance_benefits  5000 non-null   int64  \n",
      "dtypes: float64(1), int64(4)\n",
      "memory usage: 195.4 KB\n"
     ]
    }
   ],
   "source": [
    "# comprueba que la conversión se haya realizado con éxito\n",
    "df.info()"
   ]
  },
  {
   "cell_type": "code",
   "execution_count": 9,
   "metadata": {},
   "outputs": [
    {
     "name": "stdout",
     "output_type": "stream",
     "text": [
      "            gender          age        income  family_members  \\\n",
      "count  5000.000000  5000.000000   5000.000000     5000.000000   \n",
      "mean      0.499000    30.952800  39916.360000        1.194200   \n",
      "std       0.500049     8.440807   9900.083569        1.091387   \n",
      "min       0.000000    18.000000   5300.000000        0.000000   \n",
      "25%       0.000000    24.000000  33300.000000        0.000000   \n",
      "50%       0.000000    30.000000  40200.000000        1.000000   \n",
      "75%       1.000000    37.000000  46600.000000        2.000000   \n",
      "max       1.000000    65.000000  79000.000000        6.000000   \n",
      "\n",
      "       insurance_benefits  \n",
      "count         5000.000000  \n",
      "mean             0.148000  \n",
      "std              0.463183  \n",
      "min              0.000000  \n",
      "25%              0.000000  \n",
      "50%              0.000000  \n",
      "75%              0.000000  \n",
      "max              5.000000  \n"
     ]
    }
   ],
   "source": [
    "# ahora echa un vistazo a las estadísticas descriptivas de los datos.# ¿Se ve todo bien?\n",
    "estadisticas = df.describe()\n",
    "print(estadisticas)"
   ]
  },
  {
   "cell_type": "markdown",
   "metadata": {},
   "source": [
    "<div class=\"alert alert-block alert-success\">\n",
    "<b>Comentario de Revisor</b> <a class=\"tocSkip\"></a>\n",
    "\n",
    "Correcto, muy bien con la intro de los datos\n",
    "\n",
    "</div>"
   ]
  },
  {
   "cell_type": "markdown",
   "metadata": {},
   "source": [
    "## Análisis exploratorio de datos"
   ]
  },
  {
   "cell_type": "markdown",
   "metadata": {},
   "source": [
    "Vamos a comprobar rápidamente si existen determinados grupos de clientes observando el gráfico de pares."
   ]
  },
  {
   "cell_type": "code",
   "execution_count": 10,
   "metadata": {},
   "outputs": [
    {
     "data": {
      "image/png": "[encoded data removed]",
      "text/plain": [
       "<Figure size 1200x1200 with 30 Axes>"
      ]
     },
     "metadata": {},
     "output_type": "display_data"
    }
   ],
   "source": [
    "g = sns.pairplot(df, kind='hist')\n",
    "g.fig.set_size_inches(12, 12)"
   ]
  },
  {
   "cell_type": "markdown",
   "metadata": {},
   "source": [
    "De acuerdo, es un poco complicado detectar grupos obvios (clústeres) ya que es difícil combinar diversas variables simultáneamente (para analizar distribuciones multivariadas). Ahí es donde LA y ML pueden ser bastante útiles."
   ]
  },
  {
   "cell_type": "markdown",
   "metadata": {},
   "source": [
    "# Tarea 1. Clientes similares"
   ]
  },
  {
   "cell_type": "markdown",
   "metadata": {},
   "source": [
    "En el lenguaje de ML, es necesario desarrollar un procedimiento que devuelva los k vecinos más cercanos (objetos) para un objeto dado basándose en la distancia entre los objetos.\n",
    "Es posible que quieras revisar las siguientes lecciones (capítulo -> lección)- Distancia entre vectores -> Distancia euclidiana\n",
    "- Distancia entre vectores -> Distancia Manhattan\n",
    "\n",
    "Para resolver la tarea, podemos probar diferentes métricas de distancia."
   ]
  },
  {
   "cell_type": "markdown",
   "metadata": {},
   "source": [
    "Escribe una función que devuelva los k vecinos más cercanos para un $n^{th}$ objeto basándose en una métrica de distancia especificada. A la hora de realizar esta tarea no debe tenerse en cuenta el número de prestaciones de seguro recibidas.\n",
    "Puedes utilizar una implementación ya existente del algoritmo kNN de scikit-learn (consulta [el enlace](https://scikit-learn.org/stable/modules/generated/sklearn.neighbors.NearestNeighbors.html#sklearn.neighbors.NearestNeighbors)) o tu propia implementación.\n",
    "Pruébalo para cuatro combinaciones de dos casos- Escalado\n",
    "  - los datos no están escalados\n",
    "  - los datos se escalan con el escalador [MaxAbsScaler](https://scikit-learn.org/stable/modules/generated/sklearn.preprocessing.MaxAbsScaler.html)\n",
    "- Métricas de distancia\n",
    "  - Euclidiana\n",
    "  - Manhattan\n",
    "\n",
    "Responde a estas preguntas:- ¿El hecho de que los datos no estén escalados afecta al algoritmo kNN? Si es así, ¿cómo se manifiesta?- ¿Qué tan similares son los resultados al utilizar la métrica de distancia Manhattan (independientemente del escalado)?"
   ]
  },
  {
   "cell_type": "code",
   "execution_count": 11,
   "metadata": {},
   "outputs": [],
   "source": [
    "feature_names = ['gender', 'age', 'income', 'family_members']"
   ]
  },
  {
   "cell_type": "code",
   "execution_count": 12,
   "metadata": {},
   "outputs": [],
   "source": [
    "def get_knn(df, n, k, metric):\n",
    "    \n",
    "    \"\"\"\n",
    "    Devuelve los k vecinos más cercanos\n",
    "\n",
    "    :param df: DataFrame de pandas utilizado para encontrar objetos similares dentro del mismo lugar    :param n: número de objetos para los que se buscan los vecinos más cercanos    :param k: número de vecinos más cercanos a devolver\n",
    "    :param métrica: nombre de la métrica de distancia    \"\"\"\n",
    "\n",
    "    nbrs = NearestNeighbors(n_neighbors=k, metric=metric)\n",
    "    nbrs.fit(df[feature_names])\n",
    "    nbrs_distances, nbrs_indices = nbrs.kneighbors([df.iloc[n][feature_names]], k, return_distance=True)\n",
    "    \n",
    "    df_res = pd.concat([\n",
    "        df.iloc[nbrs_indices[0]], \n",
    "        pd.DataFrame(nbrs_distances.T, index=nbrs_indices[0], columns=['distance'])\n",
    "        ], axis=1)\n",
    "    \n",
    "    return df_res"
   ]
  },
  {
   "cell_type": "markdown",
   "metadata": {},
   "source": [
    "Escalar datos."
   ]
  },
  {
   "cell_type": "code",
   "execution_count": 13,
   "metadata": {},
   "outputs": [],
   "source": [
    "feature_names = ['gender', 'age', 'income', 'family_members']\n",
    "\n",
    "transformer_mas = sklearn.preprocessing.MaxAbsScaler().fit(df[feature_names].to_numpy())\n",
    "\n",
    "df_scaled = df.copy()\n",
    "df_scaled.loc[:, feature_names] = transformer_mas.transform(df[feature_names].to_numpy())"
   ]
  },
  {
   "cell_type": "code",
   "execution_count": 14,
   "metadata": {},
   "outputs": [
    {
     "data": {
      "text/html": [
       "<div>\n",
       "<style scoped>\n",
       "    .dataframe tbody tr th:only-of-type {\n",
       "        vertical-align: middle;\n",
       "    }\n",
       "\n",
       "    .dataframe tbody tr th {\n",
       "        vertical-align: top;\n",
       "    }\n",
       "\n",
       "    .dataframe thead th {\n",
       "        text-align: right;\n",
       "    }\n",
       "</style>\n",
       "<table border=\"1\" class=\"dataframe\">\n",
       "  <thead>\n",
       "    <tr style=\"text-align: right;\">\n",
       "      <th></th>\n",
       "      <th>gender</th>\n",
       "      <th>age</th>\n",
       "      <th>income</th>\n",
       "      <th>family_members</th>\n",
       "      <th>insurance_benefits</th>\n",
       "    </tr>\n",
       "  </thead>\n",
       "  <tbody>\n",
       "    <tr>\n",
       "      <th>2154</th>\n",
       "      <td>1.0</td>\n",
       "      <td>0.369231</td>\n",
       "      <td>0.610127</td>\n",
       "      <td>0.333333</td>\n",
       "      <td>0</td>\n",
       "    </tr>\n",
       "    <tr>\n",
       "      <th>1227</th>\n",
       "      <td>1.0</td>\n",
       "      <td>0.800000</td>\n",
       "      <td>0.531646</td>\n",
       "      <td>0.000000</td>\n",
       "      <td>2</td>\n",
       "    </tr>\n",
       "    <tr>\n",
       "      <th>536</th>\n",
       "      <td>1.0</td>\n",
       "      <td>0.384615</td>\n",
       "      <td>0.515190</td>\n",
       "      <td>0.166667</td>\n",
       "      <td>0</td>\n",
       "    </tr>\n",
       "    <tr>\n",
       "      <th>2865</th>\n",
       "      <td>1.0</td>\n",
       "      <td>0.446154</td>\n",
       "      <td>0.600000</td>\n",
       "      <td>0.166667</td>\n",
       "      <td>0</td>\n",
       "    </tr>\n",
       "    <tr>\n",
       "      <th>1485</th>\n",
       "      <td>1.0</td>\n",
       "      <td>0.630769</td>\n",
       "      <td>0.413924</td>\n",
       "      <td>0.000000</td>\n",
       "      <td>0</td>\n",
       "    </tr>\n",
       "  </tbody>\n",
       "</table>\n",
       "</div>"
      ],
      "text/plain": [
       "      gender       age    income  family_members  insurance_benefits\n",
       "2154     1.0  0.369231  0.610127        0.333333                   0\n",
       "1227     1.0  0.800000  0.531646        0.000000                   2\n",
       "536      1.0  0.384615  0.515190        0.166667                   0\n",
       "2865     1.0  0.446154  0.600000        0.166667                   0\n",
       "1485     1.0  0.630769  0.413924        0.000000                   0"
      ]
     },
     "execution_count": 14,
     "metadata": {},
     "output_type": "execute_result"
    }
   ],
   "source": [
    "df_scaled.sample(5)"
   ]
  },
  {
   "cell_type": "markdown",
   "metadata": {},
   "source": [
    "Ahora, vamos a obtener registros similares para uno determinado, para cada combinación"
   ]
  },
  {
   "cell_type": "code",
   "execution_count": 15,
   "metadata": {},
   "outputs": [
    {
     "name": "stdout",
     "output_type": "stream",
     "text": [
      "\n",
      "Resultados para metric=euclidean_k=3:\n",
      "       gender       age    income  family_members  insurance_benefits  distance\n",
      "40       1.0  0.646154  0.508861             0.0                   1  0.000000\n",
      "1551     1.0  0.646154  0.512658             0.0                   1  0.003797\n",
      "4977     1.0  0.630769  0.502532             0.0                   0  0.016636\n",
      "\n",
      "Resultados para metric=euclidean_k=5:\n",
      "       gender       age    income  family_members  insurance_benefits  distance\n",
      "40       1.0  0.646154  0.508861             0.0                   1  0.000000\n",
      "1551     1.0  0.646154  0.512658             0.0                   1  0.003797\n",
      "4977     1.0  0.630769  0.502532             0.0                   0  0.016636\n",
      "1874     1.0  0.630769  0.517722             0.0                   0  0.017754\n",
      "3335     1.0  0.646154  0.534177             0.0                   1  0.025316\n",
      "\n",
      "Resultados para metric=euclidean_k=7:\n",
      "       gender       age    income  family_members  insurance_benefits  distance\n",
      "40       1.0  0.646154  0.508861             0.0                   1  0.000000\n",
      "1551     1.0  0.646154  0.512658             0.0                   1  0.003797\n",
      "4977     1.0  0.630769  0.502532             0.0                   0  0.016636\n",
      "1874     1.0  0.630769  0.517722             0.0                   0  0.017754\n",
      "3335     1.0  0.646154  0.534177             0.0                   1  0.025316\n",
      "960      1.0  0.630769  0.532911             0.0                   0  0.028550\n",
      "584      1.0  0.661538  0.535443             0.0                   1  0.030713\n",
      "\n",
      "Resultados para metric=manhattan_k=3:\n",
      "       gender       age    income  family_members  insurance_benefits  distance\n",
      "40       1.0  0.646154  0.508861             0.0                   1  0.000000\n",
      "1551     1.0  0.646154  0.512658             0.0                   1  0.003797\n",
      "4977     1.0  0.630769  0.502532             0.0                   0  0.021714\n",
      "\n",
      "Resultados para metric=manhattan_k=5:\n",
      "       gender       age    income  family_members  insurance_benefits  distance\n",
      "40       1.0  0.646154  0.508861             0.0                   1  0.000000\n",
      "1551     1.0  0.646154  0.512658             0.0                   1  0.003797\n",
      "4977     1.0  0.630769  0.502532             0.0                   0  0.021714\n",
      "1874     1.0  0.630769  0.517722             0.0                   0  0.024245\n",
      "3335     1.0  0.646154  0.534177             0.0                   1  0.025316\n",
      "\n",
      "Resultados para metric=manhattan_k=7:\n",
      "       gender       age    income  family_members  insurance_benefits  distance\n",
      "40       1.0  0.646154  0.508861             0.0                   1  0.000000\n",
      "1551     1.0  0.646154  0.512658             0.0                   1  0.003797\n",
      "4977     1.0  0.630769  0.502532             0.0                   0  0.021714\n",
      "1874     1.0  0.630769  0.517722             0.0                   0  0.024245\n",
      "3335     1.0  0.646154  0.534177             0.0                   1  0.025316\n",
      "4208     1.0  0.646154  0.545570             0.0                   1  0.036709\n",
      "1351     1.0  0.646154  0.470886             0.0                   1  0.037975\n"
     ]
    },
    {
     "name": "stderr",
     "output_type": "stream",
     "text": [
      "/home/jovyan/.local/lib/python3.9/site-packages/sklearn/base.py:493: UserWarning: X does not have valid feature names, but NearestNeighbors was fitted with feature names\n",
      "  warnings.warn(\n",
      "/home/jovyan/.local/lib/python3.9/site-packages/sklearn/base.py:493: UserWarning: X does not have valid feature names, but NearestNeighbors was fitted with feature names\n",
      "  warnings.warn(\n",
      "/home/jovyan/.local/lib/python3.9/site-packages/sklearn/base.py:493: UserWarning: X does not have valid feature names, but NearestNeighbors was fitted with feature names\n",
      "  warnings.warn(\n",
      "/home/jovyan/.local/lib/python3.9/site-packages/sklearn/base.py:493: UserWarning: X does not have valid feature names, but NearestNeighbors was fitted with feature names\n",
      "  warnings.warn(\n",
      "/home/jovyan/.local/lib/python3.9/site-packages/sklearn/base.py:493: UserWarning: X does not have valid feature names, but NearestNeighbors was fitted with feature names\n",
      "  warnings.warn(\n",
      "/home/jovyan/.local/lib/python3.9/site-packages/sklearn/base.py:493: UserWarning: X does not have valid feature names, but NearestNeighbors was fitted with feature names\n",
      "  warnings.warn(\n"
     ]
    }
   ],
   "source": [
    "# En este caso quiero encontrar clientes que sea similares a un cliente determinado\n",
    "# Como prueba se escoge a un cliente cuyo sueldo sea la mediana para valor de n y verificar clientes cercanos a este resultado\n",
    "\n",
    "# Calcular la mediana del ingreso en el DataFrame escalado\n",
    "median_income = df_scaled['income'].median()\n",
    "\n",
    "# Encontrar el índice de la fila con el ingreso más cercano a la mediana en el DataFrame escalado\n",
    "median_row_index = (df_scaled['income'] - median_income).abs().idxmin()\n",
    "\n",
    "# n es el cliente con el que queremos encontrar similitudes\n",
    "n=median_row_index\n",
    "metrics = ['euclidean', 'manhattan'] # uso de ambas metricas\n",
    "k_values = [3, 5, 7] # comparacion con 3, 5 y 7 vecinos\n",
    "\n",
    "# Iterar sobre cada combinación de métricas y k\n",
    "results = {}\n",
    "\n",
    "for metric in metrics:\n",
    "    for k in k_values:\n",
    "        result = get_knn(df_scaled, n, k, metric)\n",
    "        key = f\"metric={metric}_k={k}\"\n",
    "        results[key] = result\n",
    "\n",
    "for key, value in results.items():\n",
    "    print(f\"\\nResultados para {key}:\\n\", value)"
   ]
  },
  {
   "cell_type": "markdown",
   "metadata": {},
   "source": [
    "Respuestas a las preguntas"
   ]
  },
  {
   "cell_type": "markdown",
   "metadata": {},
   "source": [
    "**¿El hecho de que los datos no estén escalados afecta al algoritmo kNN? Si es así, ¿cómo se manifiesta?** \n",
    "\n",
    "Si afecta el hecho de que los datos no esten escalados al algoritmo kNN porque éste se basa en la distancia entre puntos para realizar predicciones. Por esta razón, si los valores no están escalados puede darse eel caso en el que las características con rangos más grandes dominen la medida de la distancia e influir en los resultados finales de forma desproporcionada."
   ]
  },
  {
   "cell_type": "markdown",
   "metadata": {},
   "source": [
    "**¿Qué tan similares son los resultados al utilizar la métrica de distancia Manhattan (independientemente del escalado)?** \n",
    "\n",
    "En cuanto a la similitudes que comparte la métrica de distancia Manhattan con la métrica Euclidiana en el algoritmo kNN, ésta es igualmente sensible a la escala de caracterísitcas pero en cuanto a las predicciones dependiendo de la aplicación maneja mejor los valores atipicos y en caso de espacios de alta dimensión aumenta de forma lineal mientras que la Euclidiana tiende a aumentar rápidamente. Para el caso de los datos manejados en este proyecto no hay diferencia en los resultados ya que es una cantidad mínima. "
   ]
  },
  {
   "cell_type": "markdown",
   "metadata": {},
   "source": [
    "<div class=\"alert alert-block alert-success\">\n",
    "<b>Comentario de Revisor</b> <a class=\"tocSkip\"></a>\n",
    "\n",
    "Muy bien, correctas las respuestas. Efectivamente las escalas de las dimensiones afectan al algoritmo knn pues hacen que tengan más prioridad las de escalas más grandes. Por otro lado, en este caso las métricas Manhattan y Euclidiana son similares, pero a medida que que aumentan las dimenesiones se diferencian más.\n",
    "\n",
    "</div>"
   ]
  },
  {
   "cell_type": "markdown",
   "metadata": {},
   "source": [
    "# Tarea 2. ¿Es probable que el cliente reciba una prestación del seguro?"
   ]
  },
  {
   "cell_type": "markdown",
   "metadata": {},
   "source": [
    "En términos de machine learning podemos considerarlo como una tarea de clasificación binaria."
   ]
  },
  {
   "cell_type": "markdown",
   "metadata": {},
   "source": [
    "Con el valor de `insurance_benefits` superior a cero como objetivo, evalúa si el enfoque de clasificación kNN puede funcionar mejor que el modelo dummy.\n",
    "Instrucciones:\n",
    "- Construye un clasificador basado en KNN y mide su calidad con la métrica F1 para k=1...10 tanto para los datos originales como para los escalados. Sería interesante observar cómo k puede influir en la métrica de evaluación y si el escalado de los datos provoca alguna diferencia. Puedes utilizar una implementación ya existente del algoritmo de clasificación kNN de scikit-learn (consulta [el enlace](https://scikit-learn.org/stable/modules/generated/sklearn.neighbors.KNeighborsClassifier.html)) o tu propia implementación.- Construye un modelo dummy que, en este caso, es simplemente un modelo aleatorio. Debería devolver \"1\" con cierta probabilidad. Probemos el modelo con cuatro valores de probabilidad: 0, la probabilidad de pagar cualquier prestación del seguro, 0.5, 1.\n",
    "La probabilidad de pagar cualquier prestación del seguro puede definirse como\n",
    "$$\n",
    "P\\{\\text{prestación de seguro recibida}\\}=\\frac{\\text{número de clientes que han recibido alguna prestación de seguro}}{\\text{número total de clientes}}.\n",
    "$$\n",
    "\n",
    "Divide todos los datos correspondientes a las etapas de entrenamiento/prueba respetando la proporción 70:30."
   ]
  },
  {
   "cell_type": "code",
   "execution_count": 16,
   "metadata": {},
   "outputs": [],
   "source": [
    "# сalcula el objetivo\n",
    "df['insurance_benefits_received'] = (df['insurance_benefits'] > 0).astype(int)"
   ]
  },
  {
   "cell_type": "code",
   "execution_count": 17,
   "metadata": {},
   "outputs": [
    {
     "name": "stdout",
     "output_type": "stream",
     "text": [
      "Clase 0 (sin beneficios) y Clase 1 (con beneficios):\n",
      "0    4436\n",
      "1     564\n",
      "Name: insurance_benefits_received, dtype: int64\n"
     ]
    }
   ],
   "source": [
    "# comprueba el desequilibrio de clases con value_counts()\n",
    "class_counts = df['insurance_benefits_received'].value_counts()\n",
    "print(\"Clase 0 (sin beneficios) y Clase 1 (con beneficios):\")\n",
    "print(class_counts)"
   ]
  },
  {
   "cell_type": "code",
   "execution_count": 18,
   "metadata": {},
   "outputs": [],
   "source": [
    "#pip install imbalanced-learn --user"
   ]
  },
  {
   "cell_type": "code",
   "execution_count": 19,
   "metadata": {},
   "outputs": [],
   "source": [
    "# corregir el desequilibrio de clases\n",
    "from imblearn.over_sampling import SMOTE\n",
    "from sklearn.metrics import classification_report\n",
    "# Usar el Oversampling (sobremuestreo) con SMOTE (Synthetic Minority Over-sampling Technique) para sobremuestrear la clase minoritaria\n",
    "smote = SMOTE(random_state=42)\n",
    "X_resampled, y_resampled = smote.fit_resample(df.drop(['insurance_benefits_received', 'insurance_benefits'], axis=1), df['insurance_benefits_received'])\n",
    "\n",
    "# Dividir los datos en entrenamiento y prueba respetando la proporción 70:30\n",
    "# Dividir los datos en entrenamiento y prueba respetando la proporción 70:30\n",
    "features_train, features_test, target_train, target_test = train_test_split(X_resampled, y_resampled, test_size=0.3, random_state=42, stratify=y_resampled)"
   ]
  },
  {
   "cell_type": "code",
   "execution_count": 20,
   "metadata": {},
   "outputs": [],
   "source": [
    "def eval_classifier(y_true, y_pred):\n",
    "    f1_score = sklearn.metrics.f1_score(y_true, y_pred)\n",
    "    print(f'F1: {f1_score:.2f}')\n",
    "    cm = sklearn.metrics.confusion_matrix(y_true, y_pred, normalize='all')\n",
    "    print('Matriz de confusión')\n",
    "    print(cm)"
   ]
  },
  {
   "cell_type": "code",
   "execution_count": 21,
   "metadata": {},
   "outputs": [],
   "source": [
    "# generar la salida de un modelo aleatorio\n",
    "def rnd_model_predict(P, size, seed=42):\n",
    "    rng = np.random.default_rng(seed=seed)\n",
    "    return rng.binomial(n=1, p=P, size=size)"
   ]
  },
  {
   "cell_type": "code",
   "execution_count": 22,
   "metadata": {},
   "outputs": [
    {
     "name": "stdout",
     "output_type": "stream",
     "text": [
      "La probabilidad: 0.00\n",
      "F1: 0.00\n",
      "Matriz de confusión\n",
      "[[0.8872 0.    ]\n",
      " [0.1128 0.    ]]\n",
      "\n",
      "La probabilidad: 0.11\n",
      "F1: 0.12\n",
      "Matriz de confusión\n",
      "[[0.7914 0.0958]\n",
      " [0.0994 0.0134]]\n",
      "\n",
      "La probabilidad: 0.50\n",
      "F1: 0.20\n",
      "Matriz de confusión\n",
      "[[0.456  0.4312]\n",
      " [0.053  0.0598]]\n",
      "\n",
      "La probabilidad: 1.00\n",
      "F1: 0.20\n",
      "Matriz de confusión\n",
      "[[0.     0.8872]\n",
      " [0.     0.1128]]\n",
      "\n"
     ]
    }
   ],
   "source": [
    "for P in [0, df['insurance_benefits_received'].sum() / len(df), 0.5, 1]:\n",
    "    print(f'La probabilidad: {P:.2f}')\n",
    "    y_pred_rnd = rnd_model_predict(P, len(df), seed=42)\n",
    "    eval_classifier(df['insurance_benefits_received'], y_pred_rnd)\n",
    "    print()"
   ]
  },
  {
   "cell_type": "markdown",
   "metadata": {},
   "source": [
    "<div class=\"alert alert-block alert-success\">\n",
    "<b>Comentario de Revisor</b> <a class=\"tocSkip\"></a>\n",
    "\n",
    "Bien, este modelo tiene un tope con el parámetro de probabilidad\n",
    "\n",
    "</div>"
   ]
  },
  {
   "cell_type": "code",
   "execution_count": 23,
   "metadata": {},
   "outputs": [
    {
     "name": "stdout",
     "output_type": "stream",
     "text": [
      "\n",
      "Evaluando kNN con k=1, Escalado=False\n",
      "F1 Score: 0.95\n",
      "\n",
      "Evaluando kNN con k=2, Escalado=False\n",
      "F1 Score: 0.92\n",
      "\n",
      "Evaluando kNN con k=3, Escalado=False\n",
      "F1 Score: 0.92\n",
      "\n",
      "Evaluando kNN con k=4, Escalado=False\n",
      "F1 Score: 0.89\n",
      "\n",
      "Evaluando kNN con k=5, Escalado=False\n",
      "F1 Score: 0.89\n",
      "\n",
      "Evaluando kNN con k=6, Escalado=False\n",
      "F1 Score: 0.86\n",
      "\n",
      "Evaluando kNN con k=7, Escalado=False\n",
      "F1 Score: 0.85\n",
      "\n",
      "Evaluando kNN con k=8, Escalado=False\n",
      "F1 Score: 0.82\n",
      "\n",
      "Evaluando kNN con k=9, Escalado=False\n",
      "F1 Score: 0.82\n",
      "\n",
      "Evaluando kNN con k=10, Escalado=False\n",
      "F1 Score: 0.80\n",
      "\n",
      "Evaluando kNN con k=1, Escalado=True\n",
      "F1 Score: 0.99\n",
      "\n",
      "Evaluando kNN con k=2, Escalado=True\n",
      "F1 Score: 0.99\n",
      "\n",
      "Evaluando kNN con k=3, Escalado=True\n",
      "F1 Score: 0.99\n",
      "\n",
      "Evaluando kNN con k=4, Escalado=True\n",
      "F1 Score: 0.99\n",
      "\n",
      "Evaluando kNN con k=5, Escalado=True\n",
      "F1 Score: 0.99\n",
      "\n",
      "Evaluando kNN con k=6, Escalado=True\n",
      "F1 Score: 0.99\n",
      "\n",
      "Evaluando kNN con k=7, Escalado=True\n",
      "F1 Score: 0.99\n",
      "\n",
      "Evaluando kNN con k=8, Escalado=True\n",
      "F1 Score: 0.99\n",
      "\n",
      "Evaluando kNN con k=9, Escalado=True\n",
      "F1 Score: 0.98\n",
      "\n",
      "Evaluando kNN con k=10, Escalado=True\n",
      "F1 Score: 0.99\n"
     ]
    }
   ],
   "source": [
    "# Evaluacion de modelos kNN\n",
    "from sklearn.neighbors import KNeighborsClassifier\n",
    "\n",
    "# Probar diferentes valores de k para kNN y evaluar con/sin escalado\n",
    "# Evaluación con datos escalados\n",
    "k_values = range(1, 11)\n",
    "for scale in [False, True]:  # Probar con datos originales y escalados\n",
    "    scaler = sklearn.preprocessing.StandardScaler() if scale else None\n",
    "    features_train_scaled = scaler.fit_transform(features_train) if scaler else features_train\n",
    "    features_test_scaled = scaler.transform(features_test) if scaler else features_test\n",
    "    \n",
    "    for k in k_values:\n",
    "        print(f'\\nEvaluando kNN con k={k}, Escalado={scale}')\n",
    "        knn = KNeighborsClassifier(n_neighbors=k)\n",
    "        knn.fit(features_train_scaled, target_train)\n",
    "        y_pred_knn = knn.predict(features_test_scaled)\n",
    "        f1 = f1_score(target_test, y_pred_knn)\n",
    "        print(f'F1 Score: {f1:.2f}')"
   ]
  },
  {
   "cell_type": "markdown",
   "metadata": {},
   "source": [
    "<div class=\"alert alert-block alert-success\">\n",
    "<b>Comentario de Revisor</b> <a class=\"tocSkip\"></a>\n",
    "\n",
    "Correcto, muy bien con el modelo de data escalada.\n",
    "\n",
    "</div>"
   ]
  },
  {
   "cell_type": "code",
   "execution_count": 24,
   "metadata": {},
   "outputs": [
    {
     "name": "stdout",
     "output_type": "stream",
     "text": [
      "\n",
      "Evaluación de kNN con datos no escalados:\n",
      "\n",
      "Evaluando kNN con k=1, Escalado=False\n",
      "F1 Score: 0.95\n",
      "\n",
      "Evaluando kNN con k=2, Escalado=False\n",
      "F1 Score: 0.92\n",
      "\n",
      "Evaluando kNN con k=3, Escalado=False\n",
      "F1 Score: 0.92\n",
      "\n",
      "Evaluando kNN con k=4, Escalado=False\n",
      "F1 Score: 0.89\n",
      "\n",
      "Evaluando kNN con k=5, Escalado=False\n",
      "F1 Score: 0.89\n",
      "\n",
      "Evaluando kNN con k=6, Escalado=False\n",
      "F1 Score: 0.86\n",
      "\n",
      "Evaluando kNN con k=7, Escalado=False\n",
      "F1 Score: 0.85\n",
      "\n",
      "Evaluando kNN con k=8, Escalado=False\n",
      "F1 Score: 0.82\n",
      "\n",
      "Evaluando kNN con k=9, Escalado=False\n",
      "F1 Score: 0.82\n",
      "\n",
      "Evaluando kNN con k=10, Escalado=False\n",
      "F1 Score: 0.80\n"
     ]
    }
   ],
   "source": [
    "# Evaluación de kNN con datos no escalados\n",
    "print(\"\\nEvaluación de kNN con datos no escalados:\")\n",
    "for k in k_values:\n",
    "    print(f'\\nEvaluando kNN con k={k}, Escalado=False')\n",
    "    knn = KNeighborsClassifier(n_neighbors=k)\n",
    "    knn.fit(features_train, target_train)\n",
    "    y_pred_knn = knn.predict(features_test)\n",
    "    f1 = f1_score(target_test, y_pred_knn)\n",
    "    print(f'F1 Score: {f1:.2f}')"
   ]
  },
  {
   "cell_type": "markdown",
   "metadata": {},
   "source": [
    "<div class=\"alert alert-block alert-danger\">\n",
    "<b>Comentario de Revisor</b> <a class=\"tocSkip\"></a>\n",
    "\n",
    "Realiza lo mismo pero con el modelo de data no escalada para que lo compares con el anterior.\n",
    "\n",
    "</div>"
   ]
  },
  {
   "cell_type": "markdown",
   "metadata": {},
   "source": [
    "<div class=\"alert alert-block alert-success\">\n",
    "<b>Comentario de Revisor v2</b> <a class=\"tocSkip\"></a>\n",
    "\n",
    "Bien, nota que la data no escalada tiene resultados más inestables.\n",
    "\n",
    "</div>"
   ]
  },
  {
   "cell_type": "markdown",
   "metadata": {},
   "source": [
    "# Tarea 3. Regresión (con regresión lineal)"
   ]
  },
  {
   "cell_type": "markdown",
   "metadata": {},
   "source": [
    "Con `insurance_benefits` como objetivo, evalúa cuál sería la RECM de un modelo de regresión lineal."
   ]
  },
  {
   "cell_type": "markdown",
   "metadata": {},
   "source": [
    "Construye tu propia implementación de regresión lineal. Para ello, recuerda cómo está formulada la solución de la tarea de regresión lineal en términos de LA. Comprueba la RECM tanto para los datos originales como para los escalados. ¿Puedes ver alguna diferencia en la RECM con respecto a estos dos casos?\n",
    "\n",
    "Denotemos- $X$: matriz de características; cada fila es un caso, cada columna es una característica, la primera columna está formada por unidades- $y$ — objetivo (un vector)- $\\hat{y}$ — objetivo estimado (un vector)- $w$ — vector de pesos\n",
    "La tarea de regresión lineal en el lenguaje de las matrices puede formularse así:\n",
    "$$\n",
    "y = Xw\n",
    "$$\n",
    "\n",
    "El objetivo de entrenamiento es entonces encontrar esa $w$ w que minimice la distancia L2 (ECM) entre $Xw$ y $y$:\n",
    "\n",
    "$$\n",
    "\\min_w d_2(Xw, y) \\quad \\text{or} \\quad \\min_w \\text{MSE}(Xw, y)\n",
    "$$\n",
    "\n",
    "Parece que hay una solución analítica para lo anteriormente expuesto:\n",
    "$$\n",
    "w = (X^T X)^{-1} X^T y\n",
    "$$\n",
    "\n",
    "La fórmula anterior puede servir para encontrar los pesos $w$ y estos últimos pueden utilizarse para calcular los valores predichos\n",
    "$$\n",
    "\\hat{y} = X_{val}w\n",
    "$$"
   ]
  },
  {
   "cell_type": "markdown",
   "metadata": {},
   "source": [
    "Divide todos los datos correspondientes a las etapas de entrenamiento/prueba respetando la proporción 70:30. Utiliza la métrica RECM para evaluar el modelo."
   ]
  },
  {
   "cell_type": "code",
   "execution_count": 25,
   "metadata": {},
   "outputs": [],
   "source": [
    "class MyLinearRegression:\n",
    "    \n",
    "    def __init__(self):\n",
    "        \n",
    "        self.weights = None\n",
    "    \n",
    "    def fit(self, X, y):\n",
    "        \n",
    "        # añadir las unidades\n",
    "        X2 = np.append(np.ones([len(X), 1]), X, axis=1)\n",
    "        self.weights = np.linalg.inv(X2.T.dot(X2)).dot(X2.T).dot(y)\n",
    "\n",
    "    def predict(self, X):\n",
    "        \n",
    "        # añadir las unidades\n",
    "        X2 = np.append(np.ones([len(X), 1]), X, axis=1)\n",
    "        y_pred = X2.dot(self.weights)\n",
    "        \n",
    "        return y_pred"
   ]
  },
  {
   "cell_type": "code",
   "execution_count": 26,
   "metadata": {},
   "outputs": [],
   "source": [
    "import math\n",
    "def eval_regressor(y_true, y_pred):\n",
    "    \n",
    "    rmse = math.sqrt(sklearn.metrics.mean_squared_error(y_true, y_pred))\n",
    "    print(f'RMSE: {rmse:.2f}')\n",
    "    \n",
    "    r2_score = math.sqrt(sklearn.metrics.r2_score(y_true, y_pred))\n",
    "    print(f'R2: {r2_score:.2f}')    "
   ]
  },
  {
   "cell_type": "code",
   "execution_count": 27,
   "metadata": {},
   "outputs": [
    {
     "name": "stdout",
     "output_type": "stream",
     "text": [
      "\n",
      "Evaluación de Regresión Lineal con datos no escalados:\n",
      "Pesos: [-9.43539012e-01  3.57495491e-02  1.64272726e-02 -2.60743659e-07\n",
      " -1.16902127e-02]\n",
      "RMSE: 0.34\n",
      "R2: 0.66\n"
     ]
    }
   ],
   "source": [
    "X = df[['age', 'gender', 'income', 'family_members']].to_numpy()\n",
    "y = df['insurance_benefits'].to_numpy()\n",
    "\n",
    "X_train, X_test, y_train, y_test = train_test_split(X, y, test_size=0.3, random_state=12345)\n",
    "\n",
    "print(\"\\nEvaluación de Regresión Lineal con datos no escalados:\")\n",
    "lr = MyLinearRegression()\n",
    "\n",
    "lr.fit(X_train, y_train)\n",
    "print(\"Pesos:\",lr.weights)\n",
    "\n",
    "y_test_pred = lr.predict(X_test)\n",
    "eval_regressor(y_test, y_test_pred)"
   ]
  },
  {
   "cell_type": "markdown",
   "metadata": {},
   "source": [
    "<div class=\"alert alert-block alert-success\">\n",
    "<b>Comentario de Revisor</b> <a class=\"tocSkip\"></a>\n",
    "\n",
    "Muy bien, correcto\n",
    "    \n",
    "</div>"
   ]
  },
  {
   "cell_type": "code",
   "execution_count": 28,
   "metadata": {},
   "outputs": [
    {
     "name": "stdout",
     "output_type": "stream",
     "text": [
      "\n",
      "Evaluación de Regresión Lineal con datos escalados:\n",
      "Pesos: [ 0.14971429  0.30292778  0.0082117  -0.00258294 -0.01271039]\n",
      "RMSE: 0.34\n",
      "R2: 0.66\n"
     ]
    }
   ],
   "source": [
    "# Evaluación con datos escalados\n",
    "from sklearn.preprocessing import StandardScaler\n",
    "\n",
    "print(\"\\nEvaluación de Regresión Lineal con datos escalados:\")\n",
    "scaler = StandardScaler()\n",
    "X_train_scaled = scaler.fit_transform(X_train)\n",
    "X_test_scaled = scaler.transform(X_test)\n",
    "\n",
    "lr.fit(X_train_scaled, y_train)\n",
    "print(\"Pesos:\", lr.weights)\n",
    "y_test_pred_scaled = lr.predict(X_test_scaled)\n",
    "eval_regressor(y_test, y_test_pred_scaled)"
   ]
  },
  {
   "cell_type": "markdown",
   "metadata": {},
   "source": [
    "<div class=\"alert alert-block alert-danger\">\n",
    "<b>Comentario de Revisor</b> <a class=\"tocSkip\"></a>\n",
    "\n",
    "Realiza lo mismo pero con la data escalada, compara ambos resultados\n",
    "    \n",
    "    \n",
    "</div>"
   ]
  },
  {
   "cell_type": "markdown",
   "metadata": {},
   "source": [
    "<div class=\"alert alert-block alert-success\">\n",
    "<b>Comentario de Revisor v2</b> <a class=\"tocSkip\"></a>\n",
    "\n",
    "Muy bien, observa que los coeficientes del modelo son diferentes pero la calidad es la misma.\n",
    "\n",
    "</div>"
   ]
  },
  {
   "cell_type": "markdown",
   "metadata": {},
   "source": [
    "# Tarea 4. Ofuscar datos"
   ]
  },
  {
   "cell_type": "markdown",
   "metadata": {},
   "source": [
    "Lo mejor es ofuscar los datos multiplicando las características numéricas (recuerda que se pueden ver como la matriz $X$) por una matriz invertible $P$. \n",
    "\n",
    "$$\n",
    "X' = X \\times P\n",
    "$$\n",
    "\n",
    "Trata de hacerlo y comprueba cómo quedarán los valores de las características después de la transformación. Por cierto, la propiedad de invertibilidad es importante aquí, así que asegúrate de que $P$ sea realmente invertible.\n",
    "\n",
    "Puedes revisar la lección 'Matrices y operaciones matriciales -> Multiplicación de matrices' para recordar la regla de multiplicación de matrices y su implementación con NumPy."
   ]
  },
  {
   "cell_type": "code",
   "execution_count": 29,
   "metadata": {},
   "outputs": [],
   "source": [
    "personal_info_column_list = ['gender', 'age', 'income', 'family_members']\n",
    "df_pn = df[personal_info_column_list]"
   ]
  },
  {
   "cell_type": "code",
   "execution_count": 30,
   "metadata": {},
   "outputs": [],
   "source": [
    "X = df_pn.to_numpy()"
   ]
  },
  {
   "cell_type": "markdown",
   "metadata": {},
   "source": [
    "Generar una matriz aleatoria $P$."
   ]
  },
  {
   "cell_type": "code",
   "execution_count": 31,
   "metadata": {},
   "outputs": [],
   "source": [
    "rng = np.random.default_rng(seed=42)\n",
    "P = rng.random(size=(X.shape[1], X.shape[1]))"
   ]
  },
  {
   "cell_type": "markdown",
   "metadata": {},
   "source": [
    "Comprobar que la matriz P sea invertible"
   ]
  },
  {
   "cell_type": "code",
   "execution_count": 32,
   "metadata": {},
   "outputs": [
    {
     "name": "stdout",
     "output_type": "stream",
     "text": [
      "La matriz P es invertible.\n",
      "Determinante de P: 0.24339135998015463\n"
     ]
    }
   ],
   "source": [
    "# Verificar que la matriz P es invertible - solo si su determinante no es cero\n",
    "det_P = np.linalg.det(P)\n",
    "if det_P == 0:\n",
    "    print(\"La matriz P no es invertible.\")\n",
    "else:\n",
    "    print(\"La matriz P es invertible.\")\n",
    "    print(\"Determinante de P:\", det_P)"
   ]
  },
  {
   "cell_type": "markdown",
   "metadata": {},
   "source": [
    "<div class=\"alert alert-block alert-success\">\n",
    "<b>Comentario de Revisor</b> <a class=\"tocSkip\"></a>\n",
    "\n",
    "Bien, correcto\n",
    "    \n",
    "</div>"
   ]
  },
  {
   "cell_type": "markdown",
   "metadata": {},
   "source": [
    "¿Puedes adivinar la edad o los ingresos de los clientes después de la transformación?"
   ]
  },
  {
   "cell_type": "code",
   "execution_count": 33,
   "metadata": {},
   "outputs": [
    {
     "name": "stdout",
     "output_type": "stream",
     "text": [
      "Datos transformados:\n",
      " [[ 6359.71527314 22380.40467609 18424.09074184 46000.69669016]\n",
      " [ 4873.29406479 17160.36702982 14125.78076133 35253.45577301]\n",
      " [ 2693.11742928  9486.397744    7808.83156024 19484.86063067]\n",
      " ...\n",
      " [ 4346.2234249  15289.24126492 12586.16264392 31433.50888552]\n",
      " [ 4194.09324155 14751.9910242  12144.02930637 30323.88763426]\n",
      " [ 5205.46827354 18314.24814446 15077.01370762 37649.59295455]]\n"
     ]
    }
   ],
   "source": [
    "# Transformar los datos\n",
    "X_transformed = X.dot(P)\n",
    "print(\"Datos transformados:\\n\", X_transformed)\n",
    "\n",
    "# Sin conocer P, revertir la transformación es impracticable\n",
    "# Intentar adivinar la edad o ingresos directamente de X_transformed no es factible"
   ]
  },
  {
   "cell_type": "markdown",
   "metadata": {},
   "source": [
    "¿Puedes recuperar los datos originales de $X'$ si conoces $P$? Intenta comprobarlo a través de los cálculos moviendo $P$ del lado derecho de la fórmula anterior al izquierdo. En este caso las reglas de la multiplicación matricial son realmente útiles"
   ]
  },
  {
   "cell_type": "code",
   "execution_count": 34,
   "metadata": {},
   "outputs": [
    {
     "name": "stdout",
     "output_type": "stream",
     "text": [
      "Datos transformados:\n",
      " [[ 6359.71527314 22380.40467609 18424.09074184 46000.69669016]\n",
      " [ 4873.29406479 17160.36702982 14125.78076133 35253.45577301]\n",
      " [ 2693.11742928  9486.397744    7808.83156024 19484.86063067]\n",
      " ...\n",
      " [ 4346.2234249  15289.24126492 12586.16264392 31433.50888552]\n",
      " [ 4194.09324155 14751.9910242  12144.02930637 30323.88763426]\n",
      " [ 5205.46827354 18314.24814446 15077.01370762 37649.59295455]]\n",
      "Datos originales recuperados:\n",
      " [[ 1.00000000e+00  4.10000000e+01  4.96000000e+04  1.00000000e+00]\n",
      " [-4.47363596e-12  4.60000000e+01  3.80000000e+04  1.00000000e+00]\n",
      " [-2.51586878e-12  2.90000000e+01  2.10000000e+04  9.52452315e-13]\n",
      " ...\n",
      " [-1.92837871e-12  2.00000000e+01  3.39000000e+04  2.00000000e+00]\n",
      " [ 1.00000000e+00  2.20000000e+01  3.27000000e+04  3.00000000e+00]\n",
      " [ 1.00000000e+00  2.80000000e+01  4.06000000e+04  1.00000000e+00]]\n",
      "Los datos recuperados son iguales a los originales: True\n"
     ]
    }
   ],
   "source": [
    "# Dado que P es invertible, hay la posibilidad de recuperar las caracteristicas originales\n",
    "# Recordatorio: P por P-1 = I, entonces con formula ded arriba haciendo despeje tenemos X = X' por P-1\n",
    "\n",
    "# Transformar los datos X' = X por P\n",
    "X_transformed = X.dot(P)\n",
    "print(\"Datos transformados:\\n\", X_transformed)\n",
    "\n",
    "# Calcular la inversa de P\n",
    "P_inv = np.linalg.inv(P)\n",
    "\n",
    "# Recuperar los datos originales X = X' por P-1\n",
    "X_recovered = X_transformed.dot(P_inv)\n",
    "print(\"Datos originales recuperados:\\n\", X_recovered)\n",
    "\n",
    "# Verificar si los datos originales recuperados son iguales a los originales\n",
    "print(\"Los datos recuperados son iguales a los originales:\", np.allclose(X, X_recovered))"
   ]
  },
  {
   "cell_type": "markdown",
   "metadata": {},
   "source": [
    "Muestra los tres casos para algunos clientes- Datos originales\n",
    "- El que está transformado- El que está invertido (recuperado)"
   ]
  },
  {
   "cell_type": "code",
   "execution_count": 35,
   "metadata": {},
   "outputs": [
    {
     "name": "stdout",
     "output_type": "stream",
     "text": [
      "Datos originales:\n",
      "      gender  age   income  family_members  insurance_benefits  \\\n",
      "0          1   41  49600.0               1                   0   \n",
      "1          0   46  38000.0               1                   1   \n",
      "2          0   29  21000.0               0                   0   \n",
      "3          0   21  41700.0               2                   0   \n",
      "4          1   28  26100.0               0                   0   \n",
      "...      ...  ...      ...             ...                 ...   \n",
      "4995       0   28  35700.0               2                   0   \n",
      "4996       0   34  52400.0               1                   0   \n",
      "4997       0   20  33900.0               2                   0   \n",
      "4998       1   22  32700.0               3                   0   \n",
      "4999       1   28  40600.0               1                   0   \n",
      "\n",
      "      insurance_benefits_received  \n",
      "0                               0  \n",
      "1                               1  \n",
      "2                               0  \n",
      "3                               0  \n",
      "4                               0  \n",
      "...                           ...  \n",
      "4995                            0  \n",
      "4996                            0  \n",
      "4997                            0  \n",
      "4998                            0  \n",
      "4999                            0  \n",
      "\n",
      "[5000 rows x 6 columns]\n",
      "\n",
      "Datos transformados:\n",
      "              age        gender        income  family_members\n",
      "0     6359.715273  22380.404676  18424.090742    46000.696690\n",
      "1     4873.294065  17160.367030  14125.780761    35253.455773\n",
      "2     2693.117429   9486.397744   7808.831560    19484.860631\n",
      "3     5345.603937  18803.227203  15479.148373    38663.061863\n",
      "4     3347.176735  11782.829283   9699.998942    24211.273378\n",
      "...           ...           ...           ...             ...\n",
      "4995  4577.581382  16107.740932  13259.688205    33107.974380\n",
      "4996  6717.000247  23634.217067  19456.138634    48589.438841\n",
      "4997  4346.223425  15289.241265  12586.162644    31433.508886\n",
      "4998  4194.093242  14751.991024  12144.029306    30323.887634\n",
      "4999  5205.468274  18314.248144  15077.013708    37649.592955\n",
      "\n",
      "[5000 rows x 4 columns]\n",
      "\n",
      "Datos recuperados (invertidos):\n",
      "               age  gender   income  family_members\n",
      "0     1.000000e+00    41.0  49600.0    1.000000e+00\n",
      "1    -4.473636e-12    46.0  38000.0    1.000000e+00\n",
      "2    -2.515869e-12    29.0  21000.0    9.524523e-13\n",
      "3    -4.844982e-12    21.0  41700.0    2.000000e+00\n",
      "4     1.000000e+00    28.0  26100.0   -1.019907e-13\n",
      "...            ...     ...      ...             ...\n",
      "4995 -2.559766e-12    28.0  35700.0    2.000000e+00\n",
      "4996 -5.486091e-12    34.0  52400.0    1.000000e+00\n",
      "4997 -1.928379e-12    20.0  33900.0    2.000000e+00\n",
      "4998  1.000000e+00    22.0  32700.0    3.000000e+00\n",
      "4999  1.000000e+00    28.0  40600.0    1.000000e+00\n",
      "\n",
      "[5000 rows x 4 columns]\n"
     ]
    }
   ],
   "source": [
    "# Dataframes : Datos transformados - Datos invertidos\n",
    "# Convertir las matrices a DataFrames para mejor visualización\n",
    "df_transformed = pd.DataFrame(X_transformed, columns=['age', 'gender', 'income', 'family_members'])\n",
    "df_recovered = pd.DataFrame(X_recovered, columns=['age', 'gender', 'income', 'family_members'])\n",
    "\n",
    "# Mostrar los datos originales, transformados y recuperados\n",
    "print(\"Datos originales:\")\n",
    "print(df)\n",
    "\n",
    "print(\"\\nDatos transformados:\")\n",
    "print(df_transformed)\n",
    "\n",
    "print(\"\\nDatos recuperados (invertidos):\")\n",
    "print(df_recovered)"
   ]
  },
  {
   "cell_type": "markdown",
   "metadata": {},
   "source": [
    "Seguramente puedes ver que algunos valores no son exactamente iguales a los de los datos originales. ¿Cuál podría ser la razón de ello?"
   ]
  },
  {
   "cell_type": "markdown",
   "metadata": {},
   "source": [
    "En primer lugar, el hecho de no tener valores exactamente iguales se debe a la precision y errores de redondeo ya que estamos manejando numero flotantes. Esto sucede mucho al realizar los diferentes calculos como la matriz de transformacion o inversa \n",
    "especialmente con la matriz P ya que si no esta bien condicionada genera esta clase de errores de precisión. "
   ]
  },
  {
   "cell_type": "markdown",
   "metadata": {},
   "source": [
    "<div class=\"alert alert-block alert-success\">\n",
    "<b>Comentario de Revisor</b> <a class=\"tocSkip\"></a>\n",
    "\n",
    "Buen trabajo! Efectivamente esa pequeña diferencia se debe a la precisión numérica limitada de los ordenadores\n",
    "    \n",
    "</div>"
   ]
  },
  {
   "cell_type": "markdown",
   "metadata": {},
   "source": [
    "## Prueba de que la ofuscación de datos puede funcionar con regresión lineal"
   ]
  },
  {
   "cell_type": "markdown",
   "metadata": {},
   "source": [
    "En este proyecto la tarea de regresión se ha resuelto con la regresión lineal. Tu siguiente tarea es demostrar _analytically_ que el método de ofuscación no afectará a la regresión lineal en términos de valores predichos, es decir, que sus valores seguirán siendo los mismos. ¿Lo puedes creer? Pues no hace falta que lo creas, ¡tienes que que demostrarlo!"
   ]
  },
  {
   "cell_type": "markdown",
   "metadata": {},
   "source": [
    "Entonces, los datos están ofuscados y ahora tenemos $X \\times P$ en lugar de tener solo $X$. En consecuencia, hay otros pesos $w_P$ como\n",
    "$$\n",
    "w = (X^T X)^{-1} X^T y \\quad \\Rightarrow \\quad w_P = [(XP)^T XP]^{-1} (XP)^T y\n",
    "$$\n",
    "\n",
    "1. ¿Cómo se relacionarían $w$ y $w_P$ si simplificáramos la fórmula de $w_P$ anterior? \n",
    "\n",
    "2. ¿Cuáles serían los valores predichos con $w_P$? \n",
    "\n",
    "3. ¿Qué significa esto para la calidad de la regresión lineal si esta se mide mediante la RECM?\n",
    "Revisa el Apéndice B Propiedades de las matrices al final del cuaderno. ¡Allí encontrarás fórmulas muy útiles!\n",
    "\n",
    "No es necesario escribir código en esta sección, basta con una explicación analítica."
   ]
  },
  {
   "cell_type": "markdown",
   "metadata": {},
   "source": [
    "**Respuesta**"
   ]
  },
  {
   "cell_type": "markdown",
   "metadata": {},
   "source": [
    "A continuación se responderán las preguntas de arriba y posteriormente se mostrará matemáticamente la relación entre variables.\n",
    "   1. En primer lugar hay que entender lo que significa w y wp lo cual en este caso w hace referencia a los pesos originales calculados con los datos originales mientras que wp son los pesos calculados con los datos ofuscados. Ahora, la forma en la que se relacionan ambas si se simplifica la formula descrita arriba para wp seria de la siguiente forma: $wp = P^{-1}w$. Esta relación de variables se encuentra en la siguente sección de prueba analítica. \n",
    "   2. Los valores predilectos con $wp$ seria $y$ que son los valores predichos con los valores originales y los pesos de $w$, esto se demuestra a continuacion.\n",
    "   3. La RECM mide la diferencia entre los valores predichos y los valores reales. Dado que $yp = y$ la RECM sera igual tanto para los datos originales como ofuscados demostrando entonces que la calidad de la regresión lineal no se verá afectada por esto. "
   ]
  },
  {
   "cell_type": "markdown",
   "metadata": {},
   "source": [
    "**Prueba analítica**"
   ]
  },
  {
   "cell_type": "markdown",
   "metadata": {},
   "source": [
    "\n",
    "   1. Teniendo las expresiones para $w$ y $wp$, procedemos a demostrar mediante las propiedades de las matrices en el ápendice B la relación de ambas variables. \n",
    "   \n",
    "       1. Se comienza simplificando la formula de $wp$ de la siguiente manera:\n",
    "   $w_P = [(XP)^T XP]^{-1} (XP)^T y$\n",
    "   \n",
    "       2. Aplicamos la propiedad inversa de un producto de matrices:\n",
    "   $((XP)^T(XP))^{-1} = (P^T X^T XP)^{-1}$\n",
    "   \n",
    "       3. Después usamos la propiedad de $(AB)^T = B^TA^T$:  $(P^T X^T XP)^{-1} = P^{-1}(X^T X)^{-1} (P^T)^{-1}$\n",
    "   \n",
    "       4. En la expresión $wp = P^{-1}(X^T X)^{-1} (P^T)^{-1} (XP)^T y$ aplicamos la propiedad de transposición sobre el término $(XP)^T$ quedando como $X^T P^T$, entonces quedaría desglosada de la siguiente manera: $wp = P^{-1}(X^T X)^{-1} (P^T)^{-1} X^T P^T y$\n",
    "   \n",
    "       5. En esta última expresión, existen términos que al multiplicarse entre si obtenemos la expresión de $w$ siendo esta $w = (X^T X)^{-1} X^T$ asi que la sustituimos en la expresion quedando asi: $wp = w P^{-1} (P^T)^{-1} P^T y$.\n",
    "       \n",
    "       6. En esta expresión se tiene la multiplicación de $(P^T)^{-1} P^T$ que como resultado da la matriz identidad $I$ quedando entonces la expresión como $wp = w P^{-1} (P^T)^{-1} P^T$\n",
    "   \n",
    "       7. Finalmente se llega a la relacion $wp = P^{-1}w$\n",
    "   \n",
    "   \n",
    "   2. Recordemos que la representación de los datos ofuscados $X'$ se ve de la siguiente forma: $X' = XP$ y los pesos $wp$ son $yp = X' wp$ donde haciendo la sustitucion de $X'$ y $wp$ queda como $yp = XP(P^{-1}w)$. De acuerdo con la propiedad $PP^{-1} = I$, quedaria finalmente como $yp = Xw = y$ donde $y$ son los valores predichos con los valores originales y los pesos de $w$ como se mencionó anteriormente."
   ]
  },
  {
   "cell_type": "markdown",
   "metadata": {},
   "source": [
    "<div class=\"alert alert-block alert-danger\">\n",
    "<b>Comentario de Revisor</b> <a class=\"tocSkip\"></a>\n",
    "\n",
    "Ok, bien, pero nota que de la 5ta a la 6ta linea no está muy claro el desarrollo, agrega un paso entre medio de esas 2 que continue el desarrollo y explique cómo se llega al resultado.\n",
    "    \n",
    "</div>"
   ]
  },
  {
   "cell_type": "markdown",
   "metadata": {},
   "source": [
    "<div class=\"alert alert-block alert-danger\">\n",
    "<b>Comentario de Revisor v2</b> <a class=\"tocSkip\"></a>\n",
    "\n",
    "La demostración aún es incorrecta, de la parte D donde tienes $wp = P^{-1}(X^T X)^{-1} (P^T)^{-1} (XP)^T y$, basta con usar la propiedad de transposición sobre lo que está en parentesis con el término que está justo antes de $y$, con eso $(XP)^T$ queda como $P^TX^T$ y al reemplazar nota que se eliminan un par de términos. Así encontrarás a $w$ dentro de la expresión\n",
    "\n",
    "</div> "
   ]
  },
  {
   "cell_type": "markdown",
   "metadata": {},
   "source": [
    "<div class=\"alert alert-block alert-success\">\n",
    "<b>Comentario de Revisor v3</b> <a class=\"tocSkip\"></a>\n",
    "\n",
    "Ok, me parece que hay un error de tipeo pero la idea está bien.\n",
    "\n",
    "</div>"
   ]
  },
  {
   "cell_type": "markdown",
   "metadata": {},
   "source": [
    "## Prueba de regresión lineal con ofuscación de datos"
   ]
  },
  {
   "cell_type": "markdown",
   "metadata": {},
   "source": [
    "Ahora, probemos que la regresión lineal pueda funcionar, en términos computacionales, con la transformación de ofuscación elegida.\n",
    "Construye un procedimiento o una clase que ejecute la regresión lineal opcionalmente con la ofuscación. Puedes usar una implementación de regresión lineal de scikit-learn o tu propia implementación.\n",
    "Ejecuta la regresión lineal para los datos originales y los ofuscados, compara los valores predichos y los valores de las métricas RMSE y $R^2$. ¿Hay alguna diferencia? No no hay ninguna diferencia. "
   ]
  },
  {
   "cell_type": "markdown",
   "metadata": {},
   "source": [
    "**Procedimiento**\n",
    "\n",
    "- Crea una matriz cuadrada $P$ de números aleatorios.- Comprueba que sea invertible. Si no lo es, repite el primer paso hasta obtener una matriz invertible.\n",
    "- Utiliza $XP$ como la nueva matriz de características"
   ]
  },
  {
   "cell_type": "code",
   "execution_count": 36,
   "metadata": {},
   "outputs": [],
   "source": [
    "# Generar datos de ejemplo\n",
    "np.random.seed(42)  # Fijar semilla para reproducibilidad\n",
    "X = np.random.rand(100, 5)  # Matriz de características original (100 filas, 5 columnas)\n",
    "P = np.random.rand(5, 5)    # Matriz de ofuscación inicial (5x5)\n",
    "\n",
    "# Asegurar que P sea invertible\n",
    "while np.linalg.det(P) == 0:\n",
    "    P = np.random.rand(5, 5)"
   ]
  },
  {
   "cell_type": "code",
   "execution_count": 37,
   "metadata": {},
   "outputs": [],
   "source": [
    "# Suponiendo que X es la matriz de características original\n",
    "X_prime = np.dot(X, P)"
   ]
  },
  {
   "cell_type": "code",
   "execution_count": 38,
   "metadata": {},
   "outputs": [
    {
     "name": "stdout",
     "output_type": "stream",
     "text": [
      "Con datos originales:\n",
      "RMSE: 0.28\n",
      "R^2: 0.07\n"
     ]
    }
   ],
   "source": [
    "from sklearn.linear_model import LinearRegression\n",
    "from sklearn.metrics import mean_squared_error, r2_score\n",
    "\n",
    "# Vector objetivo de ejemplo\n",
    "y = np.random.rand(100)\n",
    "\n",
    "# Regresión lineal con datos originales\n",
    "reg_original = LinearRegression()\n",
    "reg_original.fit(X, y)\n",
    "\n",
    "# Predicciones con datos originales\n",
    "y_pred_original = reg_original.predict(X)\n",
    "\n",
    "# Evaluar rendimiento con datos originales\n",
    "print(\"Con datos originales:\")\n",
    "print(f'RMSE: {np.sqrt(mean_squared_error(y, y_pred_original)):.2f}')\n",
    "print(f'R^2: {r2_score(y, y_pred_original):.2f}')"
   ]
  },
  {
   "cell_type": "code",
   "execution_count": 39,
   "metadata": {},
   "outputs": [
    {
     "name": "stdout",
     "output_type": "stream",
     "text": [
      "\n",
      "Con datos ofuscados:\n",
      "RMSE: 0.28\n",
      "R^2: 0.07\n"
     ]
    }
   ],
   "source": [
    "# Regresión lineal con datos ofuscados\n",
    "reg_ofuscado = LinearRegression()\n",
    "reg_ofuscado.fit(X_prime, y)\n",
    "\n",
    "# Predicciones con datos ofuscados\n",
    "y_pred_ofuscado = reg_ofuscado.predict(X_prime)\n",
    "\n",
    "# Evaluar rendimiento con datos ofuscados\n",
    "print(\"\\nCon datos ofuscados:\")\n",
    "print(f'RMSE: {np.sqrt(mean_squared_error(y, y_pred_ofuscado)):.2f}')\n",
    "print(f'R^2: {r2_score(y, y_pred_ofuscado):.2f}')"
   ]
  },
  {
   "cell_type": "markdown",
   "metadata": {},
   "source": [
    "<div class=\"alert alert-block alert-success\">\n",
    "<b>Comentario de Revisor</b> <a class=\"tocSkip\"></a>\n",
    "\n",
    "Correcto! Muy bien, nota que los resultados son iguales debido a que la regresión lineal es invariante transformaciones lineales, como multiplicar la data por una matriz.\n",
    "    \n",
    "</div>"
   ]
  },
  {
   "cell_type": "markdown",
   "metadata": {},
   "source": [
    "# Conclusiones"
   ]
  },
  {
   "cell_type": "markdown",
   "metadata": {},
   "source": [
    "A lo largo de este proye"
   ]
  },
  {
   "cell_type": "markdown",
   "metadata": {},
   "source": [
    "# Lista de control"
   ]
  },
  {
   "cell_type": "markdown",
   "metadata": {},
   "source": [
    "Escribe 'x' para verificar. Luego presiona Shift+Enter."
   ]
  },
  {
   "cell_type": "markdown",
   "metadata": {},
   "source": [
    "- [x]  Jupyter Notebook está abierto\n",
    "- [ ]  El código no tiene errores- [ ]  Las celdas están ordenadas de acuerdo con la lógica y el orden de ejecución\n",
    "- [ ]  Se ha realizado la tarea 1\n",
    "    - [ ]  Está presente el procedimiento que puede devolver k clientes similares para un cliente determinado\n",
    "    - [ ]  Se probó el procedimiento para las cuatro combinaciones propuestas    - [ ]  Se respondieron las preguntas sobre la escala/distancia- [ ]  Se ha realizado la tarea 2\n",
    "    - [ ]  Se construyó y probó el modelo de clasificación aleatoria para todos los niveles de probabilidad    - [ ]  Se construyó y probó el modelo de clasificación kNN tanto para los datos originales como para los escalados. Se calculó la métrica F1.- [ ]  Se ha realizado la tarea 3\n",
    "    - [ ]  Se implementó la solución de regresión lineal mediante operaciones matriciales    - [ ]  Se calculó la RECM para la solución implementada- [ ]  Se ha realizado la tarea 4\n",
    "    - [ ]  Se ofuscaron los datos mediante una matriz aleatoria e invertible P    - [ ]  Se recuperaron los datos ofuscados y se han mostrado algunos ejemplos    - [ ]  Se proporcionó la prueba analítica de que la transformación no afecta a la RECM    - [ ]  Se proporcionó la prueba computacional de que la transformación no afecta a la RECM- [ ]  Se han sacado conclusiones"
   ]
  },
  {
   "cell_type": "markdown",
   "metadata": {},
   "source": [
    "# Apéndices\n",
    "\n",
    "## Apéndice A: Escribir fórmulas en los cuadernos de Jupyter"
   ]
  },
  {
   "cell_type": "markdown",
   "metadata": {},
   "source": [
    "Puedes escribir fórmulas en tu Jupyter Notebook utilizando un lenguaje de marcado proporcionado por un sistema de publicación de alta calidad llamado $\\LaTeX$ (se pronuncia como \"Lah-tech\"). Las fórmulas se verán como las de los libros de texto.\n",
    "\n",
    "Para incorporar una fórmula a un texto, pon el signo de dólar (\\\\$) antes y después del texto de la fórmula, por ejemplo: $\\frac{1}{2} \\times \\frac{3}{2} = \\frac{3}{4}$ or $y = x^2, x \\ge 1$.\n",
    "\n",
    "Si una fórmula debe estar en el mismo párrafo, pon el doble signo de dólar (\\\\$\\\\$) antes y después del texto de la fórmula, por ejemplo:\n",
    "$$\n",
    "\\bar{x} = \\frac{1}{n}\\sum_{i=1}^{n} x_i.\n",
    "$$\n",
    "\n",
    "El lenguaje de marcado de [LaTeX](https://es.wikipedia.org/wiki/LaTeX) es muy popular entre las personas que utilizan fórmulas en sus artículos, libros y textos. Puede resultar complicado, pero sus fundamentos son sencillos. Consulta esta [ficha de ayuda](http://tug.ctan.org/info/undergradmath/undergradmath.pdf) (materiales en inglés) de dos páginas para aprender a componer las fórmulas más comunes."
   ]
  },
  {
   "cell_type": "markdown",
   "metadata": {},
   "source": [
    "## Apéndice B: Propiedades de las matrices"
   ]
  },
  {
   "cell_type": "markdown",
   "metadata": {},
   "source": [
    "Las matrices tienen muchas propiedades en cuanto al álgebra lineal. Aquí se enumeran algunas de ellas que pueden ayudarte a la hora de realizar la prueba analítica de este proyecto."
   ]
  },
  {
   "cell_type": "markdown",
   "metadata": {},
   "source": [
    "<table>\n",
    "<tr>\n",
    "<td>Distributividad</td><td>$A(B+C)=AB+AC$</td>\n",
    "</tr>\n",
    "<tr>\n",
    "<td>No conmutatividad</td><td>$AB \\neq BA$</td>\n",
    "</tr>\n",
    "<tr>\n",
    "<td>Propiedad asociativa de la multiplicación</td><td>$(AB)C = A(BC)$</td>\n",
    "</tr>\n",
    "<tr>\n",
    "<td>Propiedad de identidad multiplicativa</td><td>$IA = AI = A$</td>\n",
    "</tr>\n",
    "<tr>\n",
    "<td></td><td>$A^{-1}A = AA^{-1} = I$\n",
    "</td>\n",
    "</tr>    \n",
    "<tr>\n",
    "<td></td><td>$(AB)^{-1} = B^{-1}A^{-1}$</td>\n",
    "</tr>    \n",
    "<tr>\n",
    "<td>Reversibilidad de la transposición de un producto de matrices,</td><td>$(AB)^T = B^TA^T$</td>\n",
    "</tr>    \n",
    "</table>"
   ]
  },
  {
   "cell_type": "code",
   "execution_count": null,
   "metadata": {},
   "outputs": [],
   "source": []
  }
 ],
 "metadata": {
  "ExecuteTimeLog": [
   {
    "duration": 4343,
    "start_time": "2024-07-02T20:42:04.996Z"
   },
   {
    "duration": 5161,
    "start_time": "2024-07-02T20:42:09.344Z"
   },
   {
    "duration": 21,
    "start_time": "2024-07-02T20:42:14.508Z"
   },
   {
    "duration": 6,
    "start_time": "2024-07-02T20:42:14.532Z"
   },
   {
    "duration": 22,
    "start_time": "2024-07-02T20:42:14.543Z"
   },
   {
    "duration": 39,
    "start_time": "2024-07-02T20:42:14.568Z"
   },
   {
    "duration": 3,
    "start_time": "2024-07-02T20:42:14.611Z"
   },
   {
    "duration": 4,
    "start_time": "2024-07-02T20:42:14.618Z"
   },
   {
    "duration": 3,
    "start_time": "2024-07-02T20:42:14.625Z"
   },
   {
    "duration": 5095,
    "start_time": "2024-07-02T20:42:14.631Z"
   },
   {
    "duration": 4,
    "start_time": "2024-07-02T20:42:19.730Z"
   },
   {
    "duration": 11,
    "start_time": "2024-07-02T20:42:19.738Z"
   },
   {
    "duration": 0,
    "start_time": "2024-07-02T20:42:19.754Z"
   },
   {
    "duration": 0,
    "start_time": "2024-07-02T20:42:19.756Z"
   },
   {
    "duration": 0,
    "start_time": "2024-07-02T20:42:19.758Z"
   },
   {
    "duration": 0,
    "start_time": "2024-07-02T20:42:19.760Z"
   },
   {
    "duration": 0,
    "start_time": "2024-07-02T20:42:19.875Z"
   },
   {
    "duration": 0,
    "start_time": "2024-07-02T20:42:19.878Z"
   },
   {
    "duration": 0,
    "start_time": "2024-07-02T20:42:19.881Z"
   },
   {
    "duration": 0,
    "start_time": "2024-07-02T20:42:19.902Z"
   },
   {
    "duration": 0,
    "start_time": "2024-07-02T20:42:19.905Z"
   },
   {
    "duration": 0,
    "start_time": "2024-07-02T20:42:19.907Z"
   },
   {
    "duration": 0,
    "start_time": "2024-07-02T20:42:19.909Z"
   },
   {
    "duration": 0,
    "start_time": "2024-07-02T20:42:19.912Z"
   },
   {
    "duration": 0,
    "start_time": "2024-07-02T20:42:19.914Z"
   },
   {
    "duration": 4,
    "start_time": "2024-07-02T20:45:19.370Z"
   },
   {
    "duration": 14,
    "start_time": "2024-07-02T20:45:30.615Z"
   },
   {
    "duration": 23,
    "start_time": "2024-07-02T20:47:51.148Z"
   },
   {
    "duration": 3946,
    "start_time": "2024-07-02T20:52:45.141Z"
   },
   {
    "duration": 1594,
    "start_time": "2024-07-02T20:52:49.091Z"
   },
   {
    "duration": 15,
    "start_time": "2024-07-02T20:52:50.688Z"
   },
   {
    "duration": 6,
    "start_time": "2024-07-02T20:52:50.706Z"
   },
   {
    "duration": 18,
    "start_time": "2024-07-02T20:52:50.717Z"
   },
   {
    "duration": 15,
    "start_time": "2024-07-02T20:52:50.738Z"
   },
   {
    "duration": 45,
    "start_time": "2024-07-02T20:52:50.756Z"
   },
   {
    "duration": 16,
    "start_time": "2024-07-02T20:52:50.804Z"
   },
   {
    "duration": 24,
    "start_time": "2024-07-02T20:52:50.823Z"
   },
   {
    "duration": 4976,
    "start_time": "2024-07-02T20:52:50.850Z"
   },
   {
    "duration": 4,
    "start_time": "2024-07-02T20:52:55.829Z"
   },
   {
    "duration": 8,
    "start_time": "2024-07-02T20:52:55.837Z"
   },
   {
    "duration": 0,
    "start_time": "2024-07-02T20:52:55.849Z"
   },
   {
    "duration": 0,
    "start_time": "2024-07-02T20:52:55.851Z"
   },
   {
    "duration": 0,
    "start_time": "2024-07-02T20:52:55.853Z"
   },
   {
    "duration": 0,
    "start_time": "2024-07-02T20:52:55.855Z"
   },
   {
    "duration": 0,
    "start_time": "2024-07-02T20:52:55.857Z"
   },
   {
    "duration": 0,
    "start_time": "2024-07-02T20:52:55.860Z"
   },
   {
    "duration": 0,
    "start_time": "2024-07-02T20:52:55.862Z"
   },
   {
    "duration": 0,
    "start_time": "2024-07-02T20:52:55.865Z"
   },
   {
    "duration": 0,
    "start_time": "2024-07-02T20:52:55.867Z"
   },
   {
    "duration": 0,
    "start_time": "2024-07-02T20:52:55.907Z"
   },
   {
    "duration": 0,
    "start_time": "2024-07-02T20:52:55.908Z"
   },
   {
    "duration": 0,
    "start_time": "2024-07-02T20:52:55.911Z"
   },
   {
    "duration": 0,
    "start_time": "2024-07-02T20:52:55.914Z"
   },
   {
    "duration": 3929,
    "start_time": "2024-07-02T21:20:06.136Z"
   },
   {
    "duration": 1568,
    "start_time": "2024-07-02T21:20:10.069Z"
   },
   {
    "duration": 12,
    "start_time": "2024-07-02T21:20:11.640Z"
   },
   {
    "duration": 5,
    "start_time": "2024-07-02T21:20:11.655Z"
   },
   {
    "duration": 40,
    "start_time": "2024-07-02T21:20:11.665Z"
   },
   {
    "duration": 16,
    "start_time": "2024-07-02T21:20:11.708Z"
   },
   {
    "duration": 5,
    "start_time": "2024-07-02T21:20:11.727Z"
   },
   {
    "duration": 15,
    "start_time": "2024-07-02T21:20:11.735Z"
   },
   {
    "duration": 65,
    "start_time": "2024-07-02T21:20:11.753Z"
   },
   {
    "duration": 4987,
    "start_time": "2024-07-02T21:20:11.821Z"
   },
   {
    "duration": 4,
    "start_time": "2024-07-02T21:20:16.811Z"
   },
   {
    "duration": 7,
    "start_time": "2024-07-02T21:20:16.817Z"
   },
   {
    "duration": 15,
    "start_time": "2024-07-02T21:20:16.829Z"
   },
   {
    "duration": 13,
    "start_time": "2024-07-02T21:20:16.849Z"
   },
   {
    "duration": 40,
    "start_time": "2024-07-02T21:20:16.866Z"
   },
   {
    "duration": 0,
    "start_time": "2024-07-02T21:20:16.910Z"
   },
   {
    "duration": 0,
    "start_time": "2024-07-02T21:20:16.912Z"
   },
   {
    "duration": 0,
    "start_time": "2024-07-02T21:20:16.914Z"
   },
   {
    "duration": 0,
    "start_time": "2024-07-02T21:20:16.917Z"
   },
   {
    "duration": 0,
    "start_time": "2024-07-02T21:20:16.919Z"
   },
   {
    "duration": 0,
    "start_time": "2024-07-02T21:20:16.922Z"
   },
   {
    "duration": 0,
    "start_time": "2024-07-02T21:20:16.924Z"
   },
   {
    "duration": 0,
    "start_time": "2024-07-02T21:20:16.927Z"
   },
   {
    "duration": 0,
    "start_time": "2024-07-02T21:20:16.929Z"
   },
   {
    "duration": 0,
    "start_time": "2024-07-02T21:20:16.931Z"
   },
   {
    "duration": 713,
    "start_time": "2024-07-02T21:53:57.922Z"
   },
   {
    "duration": 3929,
    "start_time": "2024-07-02T21:54:32.036Z"
   },
   {
    "duration": 1597,
    "start_time": "2024-07-02T21:54:35.969Z"
   },
   {
    "duration": 16,
    "start_time": "2024-07-02T21:54:37.569Z"
   },
   {
    "duration": 5,
    "start_time": "2024-07-02T21:54:37.587Z"
   },
   {
    "duration": 19,
    "start_time": "2024-07-02T21:54:37.604Z"
   },
   {
    "duration": 15,
    "start_time": "2024-07-02T21:54:37.625Z"
   },
   {
    "duration": 5,
    "start_time": "2024-07-02T21:54:37.643Z"
   },
   {
    "duration": 54,
    "start_time": "2024-07-02T21:54:37.651Z"
   },
   {
    "duration": 25,
    "start_time": "2024-07-02T21:54:37.708Z"
   },
   {
    "duration": 4942,
    "start_time": "2024-07-02T21:54:37.736Z"
   },
   {
    "duration": 5,
    "start_time": "2024-07-02T21:54:42.681Z"
   },
   {
    "duration": 13,
    "start_time": "2024-07-02T21:54:42.689Z"
   },
   {
    "duration": 16,
    "start_time": "2024-07-02T21:54:42.705Z"
   },
   {
    "duration": 14,
    "start_time": "2024-07-02T21:54:42.727Z"
   },
   {
    "duration": 679,
    "start_time": "2024-07-02T21:54:42.745Z"
   },
   {
    "duration": 0,
    "start_time": "2024-07-02T21:54:43.427Z"
   },
   {
    "duration": 0,
    "start_time": "2024-07-02T21:54:43.428Z"
   },
   {
    "duration": 0,
    "start_time": "2024-07-02T21:54:43.430Z"
   },
   {
    "duration": 0,
    "start_time": "2024-07-02T21:54:43.434Z"
   },
   {
    "duration": 0,
    "start_time": "2024-07-02T21:54:43.437Z"
   },
   {
    "duration": 0,
    "start_time": "2024-07-02T21:54:43.438Z"
   },
   {
    "duration": 0,
    "start_time": "2024-07-02T21:54:43.440Z"
   },
   {
    "duration": 0,
    "start_time": "2024-07-02T21:54:43.442Z"
   },
   {
    "duration": 0,
    "start_time": "2024-07-02T21:54:43.444Z"
   },
   {
    "duration": 0,
    "start_time": "2024-07-02T21:54:43.446Z"
   },
   {
    "duration": 0,
    "start_time": "2024-07-02T21:54:43.447Z"
   },
   {
    "duration": 102,
    "start_time": "2024-07-02T21:56:09.342Z"
   },
   {
    "duration": 84,
    "start_time": "2024-07-02T21:56:21.145Z"
   },
   {
    "duration": 3924,
    "start_time": "2024-07-02T21:59:19.267Z"
   },
   {
    "duration": 1596,
    "start_time": "2024-07-02T21:59:23.195Z"
   },
   {
    "duration": 16,
    "start_time": "2024-07-02T21:59:24.794Z"
   },
   {
    "duration": 5,
    "start_time": "2024-07-02T21:59:24.813Z"
   },
   {
    "duration": 19,
    "start_time": "2024-07-02T21:59:24.823Z"
   },
   {
    "duration": 16,
    "start_time": "2024-07-02T21:59:24.845Z"
   },
   {
    "duration": 42,
    "start_time": "2024-07-02T21:59:24.863Z"
   },
   {
    "duration": 15,
    "start_time": "2024-07-02T21:59:24.907Z"
   },
   {
    "duration": 25,
    "start_time": "2024-07-02T21:59:24.926Z"
   },
   {
    "duration": 5096,
    "start_time": "2024-07-02T21:59:24.954Z"
   },
   {
    "duration": 5,
    "start_time": "2024-07-02T21:59:30.053Z"
   },
   {
    "duration": 7,
    "start_time": "2024-07-02T21:59:30.062Z"
   },
   {
    "duration": 36,
    "start_time": "2024-07-02T21:59:30.072Z"
   },
   {
    "duration": 13,
    "start_time": "2024-07-02T21:59:30.115Z"
   },
   {
    "duration": 188,
    "start_time": "2024-07-02T21:59:30.131Z"
   },
   {
    "duration": 6,
    "start_time": "2024-07-02T21:59:30.322Z"
   },
   {
    "duration": 0,
    "start_time": "2024-07-02T21:59:30.331Z"
   },
   {
    "duration": 0,
    "start_time": "2024-07-02T21:59:30.333Z"
   },
   {
    "duration": 0,
    "start_time": "2024-07-02T21:59:30.335Z"
   },
   {
    "duration": 0,
    "start_time": "2024-07-02T21:59:30.337Z"
   },
   {
    "duration": 0,
    "start_time": "2024-07-02T21:59:30.339Z"
   },
   {
    "duration": 0,
    "start_time": "2024-07-02T21:59:30.341Z"
   },
   {
    "duration": 0,
    "start_time": "2024-07-02T21:59:30.343Z"
   },
   {
    "duration": 0,
    "start_time": "2024-07-02T21:59:30.345Z"
   },
   {
    "duration": 0,
    "start_time": "2024-07-02T21:59:30.347Z"
   },
   {
    "duration": 0,
    "start_time": "2024-07-02T21:59:30.349Z"
   },
   {
    "duration": 3931,
    "start_time": "2024-07-02T22:00:07.620Z"
   },
   {
    "duration": 1548,
    "start_time": "2024-07-02T22:00:11.555Z"
   },
   {
    "duration": 12,
    "start_time": "2024-07-02T22:00:13.105Z"
   },
   {
    "duration": 5,
    "start_time": "2024-07-02T22:00:13.120Z"
   },
   {
    "duration": 18,
    "start_time": "2024-07-02T22:00:13.130Z"
   },
   {
    "duration": 52,
    "start_time": "2024-07-02T22:00:13.151Z"
   },
   {
    "duration": 5,
    "start_time": "2024-07-02T22:00:13.205Z"
   },
   {
    "duration": 14,
    "start_time": "2024-07-02T22:00:13.214Z"
   },
   {
    "duration": 25,
    "start_time": "2024-07-02T22:00:13.231Z"
   },
   {
    "duration": 5027,
    "start_time": "2024-07-02T22:00:13.259Z"
   },
   {
    "duration": 5,
    "start_time": "2024-07-02T22:00:18.289Z"
   },
   {
    "duration": 8,
    "start_time": "2024-07-02T22:00:18.297Z"
   },
   {
    "duration": 16,
    "start_time": "2024-07-02T22:00:18.308Z"
   },
   {
    "duration": 13,
    "start_time": "2024-07-02T22:00:18.331Z"
   },
   {
    "duration": 732,
    "start_time": "2024-07-02T22:00:18.347Z"
   },
   {
    "duration": 0,
    "start_time": "2024-07-02T22:00:19.083Z"
   },
   {
    "duration": 0,
    "start_time": "2024-07-02T22:00:19.084Z"
   },
   {
    "duration": 0,
    "start_time": "2024-07-02T22:00:19.101Z"
   },
   {
    "duration": 1,
    "start_time": "2024-07-02T22:00:19.104Z"
   },
   {
    "duration": 0,
    "start_time": "2024-07-02T22:00:19.108Z"
   },
   {
    "duration": 0,
    "start_time": "2024-07-02T22:00:19.111Z"
   },
   {
    "duration": 0,
    "start_time": "2024-07-02T22:00:19.114Z"
   },
   {
    "duration": 0,
    "start_time": "2024-07-02T22:00:19.116Z"
   },
   {
    "duration": 0,
    "start_time": "2024-07-02T22:00:19.119Z"
   },
   {
    "duration": 0,
    "start_time": "2024-07-02T22:00:19.122Z"
   },
   {
    "duration": 0,
    "start_time": "2024-07-02T22:00:19.127Z"
   },
   {
    "duration": 4009,
    "start_time": "2024-07-02T22:04:23.196Z"
   },
   {
    "duration": 1602,
    "start_time": "2024-07-02T22:04:27.209Z"
   },
   {
    "duration": 21,
    "start_time": "2024-07-02T22:04:28.815Z"
   },
   {
    "duration": 7,
    "start_time": "2024-07-02T22:04:28.841Z"
   },
   {
    "duration": 22,
    "start_time": "2024-07-02T22:04:28.852Z"
   },
   {
    "duration": 32,
    "start_time": "2024-07-02T22:04:28.877Z"
   },
   {
    "duration": 6,
    "start_time": "2024-07-02T22:04:28.912Z"
   },
   {
    "duration": 15,
    "start_time": "2024-07-02T22:04:28.921Z"
   },
   {
    "duration": 68,
    "start_time": "2024-07-02T22:04:28.939Z"
   },
   {
    "duration": 4937,
    "start_time": "2024-07-02T22:04:29.013Z"
   },
   {
    "duration": 4,
    "start_time": "2024-07-02T22:04:33.953Z"
   },
   {
    "duration": 7,
    "start_time": "2024-07-02T22:04:33.960Z"
   },
   {
    "duration": 14,
    "start_time": "2024-07-02T22:04:33.970Z"
   },
   {
    "duration": 26,
    "start_time": "2024-07-02T22:04:33.987Z"
   },
   {
    "duration": 663,
    "start_time": "2024-07-02T22:04:34.015Z"
   },
   {
    "duration": 0,
    "start_time": "2024-07-02T22:04:34.682Z"
   },
   {
    "duration": 0,
    "start_time": "2024-07-02T22:04:34.684Z"
   },
   {
    "duration": 0,
    "start_time": "2024-07-02T22:04:34.701Z"
   },
   {
    "duration": 0,
    "start_time": "2024-07-02T22:04:34.703Z"
   },
   {
    "duration": 0,
    "start_time": "2024-07-02T22:04:34.706Z"
   },
   {
    "duration": 0,
    "start_time": "2024-07-02T22:04:34.708Z"
   },
   {
    "duration": 0,
    "start_time": "2024-07-02T22:04:34.709Z"
   },
   {
    "duration": 0,
    "start_time": "2024-07-02T22:04:34.714Z"
   },
   {
    "duration": 0,
    "start_time": "2024-07-02T22:04:34.717Z"
   },
   {
    "duration": 0,
    "start_time": "2024-07-02T22:04:34.719Z"
   },
   {
    "duration": 1,
    "start_time": "2024-07-02T22:04:34.721Z"
   },
   {
    "duration": 3964,
    "start_time": "2024-07-02T22:05:07.452Z"
   },
   {
    "duration": 1600,
    "start_time": "2024-07-02T22:05:11.420Z"
   },
   {
    "duration": 14,
    "start_time": "2024-07-02T22:05:13.025Z"
   },
   {
    "duration": 5,
    "start_time": "2024-07-02T22:05:13.042Z"
   },
   {
    "duration": 18,
    "start_time": "2024-07-02T22:05:13.053Z"
   },
   {
    "duration": 40,
    "start_time": "2024-07-02T22:05:13.075Z"
   },
   {
    "duration": 5,
    "start_time": "2024-07-02T22:05:13.118Z"
   },
   {
    "duration": 15,
    "start_time": "2024-07-02T22:05:13.126Z"
   },
   {
    "duration": 65,
    "start_time": "2024-07-02T22:05:13.143Z"
   },
   {
    "duration": 4963,
    "start_time": "2024-07-02T22:05:13.211Z"
   },
   {
    "duration": 4,
    "start_time": "2024-07-02T22:05:18.178Z"
   },
   {
    "duration": 8,
    "start_time": "2024-07-02T22:05:18.187Z"
   },
   {
    "duration": 19,
    "start_time": "2024-07-02T22:05:18.198Z"
   },
   {
    "duration": 20,
    "start_time": "2024-07-02T22:05:18.225Z"
   },
   {
    "duration": 646,
    "start_time": "2024-07-02T22:05:18.248Z"
   },
   {
    "duration": 0,
    "start_time": "2024-07-02T22:05:18.900Z"
   },
   {
    "duration": 0,
    "start_time": "2024-07-02T22:05:18.903Z"
   },
   {
    "duration": 0,
    "start_time": "2024-07-02T22:05:18.905Z"
   },
   {
    "duration": 0,
    "start_time": "2024-07-02T22:05:18.908Z"
   },
   {
    "duration": 0,
    "start_time": "2024-07-02T22:05:18.911Z"
   },
   {
    "duration": 0,
    "start_time": "2024-07-02T22:05:18.914Z"
   },
   {
    "duration": 0,
    "start_time": "2024-07-02T22:05:18.916Z"
   },
   {
    "duration": 0,
    "start_time": "2024-07-02T22:05:18.919Z"
   },
   {
    "duration": 0,
    "start_time": "2024-07-02T22:05:18.920Z"
   },
   {
    "duration": 0,
    "start_time": "2024-07-02T22:05:18.922Z"
   },
   {
    "duration": 0,
    "start_time": "2024-07-02T22:05:18.923Z"
   },
   {
    "duration": 171,
    "start_time": "2024-07-02T22:11:17.763Z"
   },
   {
    "duration": 80,
    "start_time": "2024-07-02T22:11:30.611Z"
   },
   {
    "duration": 424,
    "start_time": "2024-07-02T22:13:09.073Z"
   },
   {
    "duration": 170,
    "start_time": "2024-07-02T22:13:49.501Z"
   },
   {
    "duration": 169,
    "start_time": "2024-07-02T22:15:34.252Z"
   },
   {
    "duration": 168,
    "start_time": "2024-07-02T22:16:12.356Z"
   },
   {
    "duration": 4029,
    "start_time": "2024-07-02T22:16:21.678Z"
   },
   {
    "duration": 1806,
    "start_time": "2024-07-02T22:16:25.714Z"
   },
   {
    "duration": 35,
    "start_time": "2024-07-02T22:16:27.524Z"
   },
   {
    "duration": 6,
    "start_time": "2024-07-02T22:16:27.563Z"
   },
   {
    "duration": 22,
    "start_time": "2024-07-02T22:16:27.575Z"
   },
   {
    "duration": 16,
    "start_time": "2024-07-02T22:16:27.601Z"
   },
   {
    "duration": 6,
    "start_time": "2024-07-02T22:16:27.620Z"
   },
   {
    "duration": 16,
    "start_time": "2024-07-02T22:16:27.629Z"
   },
   {
    "duration": 63,
    "start_time": "2024-07-02T22:16:27.648Z"
   },
   {
    "duration": 5594,
    "start_time": "2024-07-02T22:16:27.716Z"
   },
   {
    "duration": 5,
    "start_time": "2024-07-02T22:16:33.313Z"
   },
   {
    "duration": 7,
    "start_time": "2024-07-02T22:16:33.322Z"
   },
   {
    "duration": 18,
    "start_time": "2024-07-02T22:16:33.333Z"
   },
   {
    "duration": 50,
    "start_time": "2024-07-02T22:16:33.357Z"
   },
   {
    "duration": 494,
    "start_time": "2024-07-02T22:16:33.411Z"
   },
   {
    "duration": 0,
    "start_time": "2024-07-02T22:16:33.909Z"
   },
   {
    "duration": 0,
    "start_time": "2024-07-02T22:16:33.913Z"
   },
   {
    "duration": 0,
    "start_time": "2024-07-02T22:16:33.915Z"
   },
   {
    "duration": 0,
    "start_time": "2024-07-02T22:16:33.917Z"
   },
   {
    "duration": 0,
    "start_time": "2024-07-02T22:16:33.918Z"
   },
   {
    "duration": 0,
    "start_time": "2024-07-02T22:16:33.922Z"
   },
   {
    "duration": 0,
    "start_time": "2024-07-02T22:16:33.923Z"
   },
   {
    "duration": 0,
    "start_time": "2024-07-02T22:16:33.926Z"
   },
   {
    "duration": 0,
    "start_time": "2024-07-02T22:16:33.927Z"
   },
   {
    "duration": 0,
    "start_time": "2024-07-02T22:16:33.933Z"
   },
   {
    "duration": 0,
    "start_time": "2024-07-02T22:16:33.935Z"
   },
   {
    "duration": 171,
    "start_time": "2024-07-02T22:17:11.837Z"
   },
   {
    "duration": 175,
    "start_time": "2024-07-02T22:17:37.802Z"
   },
   {
    "duration": 173,
    "start_time": "2024-07-02T22:19:59.952Z"
   },
   {
    "duration": 2007,
    "start_time": "2024-07-02T22:29:51.620Z"
   },
   {
    "duration": 5,
    "start_time": "2024-07-02T22:30:34.614Z"
   },
   {
    "duration": 3927,
    "start_time": "2024-07-02T22:30:42.356Z"
   },
   {
    "duration": 1581,
    "start_time": "2024-07-02T22:30:46.286Z"
   },
   {
    "duration": 13,
    "start_time": "2024-07-02T22:30:47.871Z"
   },
   {
    "duration": 15,
    "start_time": "2024-07-02T22:30:47.887Z"
   },
   {
    "duration": 20,
    "start_time": "2024-07-02T22:30:47.907Z"
   },
   {
    "duration": 16,
    "start_time": "2024-07-02T22:30:47.930Z"
   },
   {
    "duration": 5,
    "start_time": "2024-07-02T22:30:47.949Z"
   },
   {
    "duration": 57,
    "start_time": "2024-07-02T22:30:47.956Z"
   },
   {
    "duration": 28,
    "start_time": "2024-07-02T22:30:48.016Z"
   },
   {
    "duration": 4983,
    "start_time": "2024-07-02T22:30:48.047Z"
   },
   {
    "duration": 4,
    "start_time": "2024-07-02T22:30:53.033Z"
   },
   {
    "duration": 6,
    "start_time": "2024-07-02T22:30:53.040Z"
   },
   {
    "duration": 14,
    "start_time": "2024-07-02T22:30:53.050Z"
   },
   {
    "duration": 34,
    "start_time": "2024-07-02T22:30:53.069Z"
   },
   {
    "duration": 187,
    "start_time": "2024-07-02T22:30:53.106Z"
   },
   {
    "duration": 7,
    "start_time": "2024-07-02T22:30:53.296Z"
   },
   {
    "duration": 4,
    "start_time": "2024-07-02T22:30:53.305Z"
   },
   {
    "duration": 5,
    "start_time": "2024-07-02T22:30:53.312Z"
   },
   {
    "duration": 5,
    "start_time": "2024-07-02T22:30:53.321Z"
   },
   {
    "duration": 10,
    "start_time": "2024-07-02T22:30:53.329Z"
   },
   {
    "duration": 0,
    "start_time": "2024-07-02T22:30:53.342Z"
   },
   {
    "duration": 0,
    "start_time": "2024-07-02T22:30:53.343Z"
   },
   {
    "duration": 0,
    "start_time": "2024-07-02T22:30:53.346Z"
   },
   {
    "duration": 0,
    "start_time": "2024-07-02T22:30:53.348Z"
   },
   {
    "duration": 0,
    "start_time": "2024-07-02T22:30:53.349Z"
   },
   {
    "duration": 0,
    "start_time": "2024-07-02T22:30:53.350Z"
   },
   {
    "duration": 6,
    "start_time": "2024-07-02T22:31:32.170Z"
   },
   {
    "duration": 4,
    "start_time": "2024-07-02T22:42:03.251Z"
   },
   {
    "duration": 1569,
    "start_time": "2024-07-02T22:42:03.259Z"
   },
   {
    "duration": 11,
    "start_time": "2024-07-02T22:42:04.831Z"
   },
   {
    "duration": 6,
    "start_time": "2024-07-02T22:42:04.847Z"
   },
   {
    "duration": 47,
    "start_time": "2024-07-02T22:42:04.857Z"
   },
   {
    "duration": 20,
    "start_time": "2024-07-02T22:42:04.908Z"
   },
   {
    "duration": 5,
    "start_time": "2024-07-02T22:42:04.932Z"
   },
   {
    "duration": 15,
    "start_time": "2024-07-02T22:42:04.941Z"
   },
   {
    "duration": 66,
    "start_time": "2024-07-02T22:42:04.959Z"
   },
   {
    "duration": 4991,
    "start_time": "2024-07-02T22:42:05.031Z"
   },
   {
    "duration": 6,
    "start_time": "2024-07-02T22:42:10.026Z"
   },
   {
    "duration": 7,
    "start_time": "2024-07-02T22:42:10.035Z"
   },
   {
    "duration": 15,
    "start_time": "2024-07-02T22:42:10.044Z"
   },
   {
    "duration": 17,
    "start_time": "2024-07-02T22:42:10.062Z"
   },
   {
    "duration": 197,
    "start_time": "2024-07-02T22:42:10.081Z"
   },
   {
    "duration": 5,
    "start_time": "2024-07-02T22:42:10.281Z"
   },
   {
    "duration": 7,
    "start_time": "2024-07-02T22:42:10.301Z"
   },
   {
    "duration": 11,
    "start_time": "2024-07-02T22:42:10.313Z"
   },
   {
    "duration": 4,
    "start_time": "2024-07-02T22:42:10.326Z"
   },
   {
    "duration": 5,
    "start_time": "2024-07-02T22:42:10.333Z"
   },
   {
    "duration": 6,
    "start_time": "2024-07-02T22:42:10.341Z"
   },
   {
    "duration": 0,
    "start_time": "2024-07-02T22:42:10.350Z"
   },
   {
    "duration": 0,
    "start_time": "2024-07-02T22:42:10.352Z"
   },
   {
    "duration": 0,
    "start_time": "2024-07-02T22:42:10.353Z"
   },
   {
    "duration": 0,
    "start_time": "2024-07-02T22:42:10.354Z"
   },
   {
    "duration": 0,
    "start_time": "2024-07-02T22:42:10.355Z"
   },
   {
    "duration": 0,
    "start_time": "2024-07-02T22:42:10.356Z"
   },
   {
    "duration": 4,
    "start_time": "2024-07-02T22:42:32.742Z"
   },
   {
    "duration": 4,
    "start_time": "2024-07-02T22:42:40.256Z"
   },
   {
    "duration": 1523,
    "start_time": "2024-07-02T22:42:40.264Z"
   },
   {
    "duration": 15,
    "start_time": "2024-07-02T22:42:41.790Z"
   },
   {
    "duration": 5,
    "start_time": "2024-07-02T22:42:41.809Z"
   },
   {
    "duration": 19,
    "start_time": "2024-07-02T22:42:41.818Z"
   },
   {
    "duration": 14,
    "start_time": "2024-07-02T22:42:41.840Z"
   },
   {
    "duration": 5,
    "start_time": "2024-07-02T22:42:41.859Z"
   },
   {
    "duration": 14,
    "start_time": "2024-07-02T22:42:41.904Z"
   },
   {
    "duration": 26,
    "start_time": "2024-07-02T22:42:41.921Z"
   },
   {
    "duration": 4980,
    "start_time": "2024-07-02T22:42:41.950Z"
   },
   {
    "duration": 4,
    "start_time": "2024-07-02T22:42:46.933Z"
   },
   {
    "duration": 7,
    "start_time": "2024-07-02T22:42:46.940Z"
   },
   {
    "duration": 14,
    "start_time": "2024-07-02T22:42:46.951Z"
   },
   {
    "duration": 14,
    "start_time": "2024-07-02T22:42:46.971Z"
   },
   {
    "duration": 180,
    "start_time": "2024-07-02T22:42:47.005Z"
   },
   {
    "duration": 16,
    "start_time": "2024-07-02T22:42:47.188Z"
   },
   {
    "duration": 9,
    "start_time": "2024-07-02T22:42:47.207Z"
   },
   {
    "duration": 11,
    "start_time": "2024-07-02T22:42:47.220Z"
   },
   {
    "duration": 5,
    "start_time": "2024-07-02T22:42:47.234Z"
   },
   {
    "duration": 4,
    "start_time": "2024-07-02T22:42:47.242Z"
   },
   {
    "duration": 53,
    "start_time": "2024-07-02T22:42:47.250Z"
   },
   {
    "duration": 0,
    "start_time": "2024-07-02T22:42:47.306Z"
   },
   {
    "duration": 0,
    "start_time": "2024-07-02T22:42:47.308Z"
   },
   {
    "duration": 0,
    "start_time": "2024-07-02T22:42:47.310Z"
   },
   {
    "duration": 0,
    "start_time": "2024-07-02T22:42:47.313Z"
   },
   {
    "duration": 0,
    "start_time": "2024-07-02T22:42:47.315Z"
   },
   {
    "duration": 0,
    "start_time": "2024-07-02T22:42:47.317Z"
   },
   {
    "duration": 5,
    "start_time": "2024-07-02T22:48:23.796Z"
   },
   {
    "duration": 413,
    "start_time": "2024-07-02T22:48:33.019Z"
   },
   {
    "duration": 4715,
    "start_time": "2024-07-02T22:49:24.288Z"
   },
   {
    "duration": 6752,
    "start_time": "2024-07-02T22:50:09.179Z"
   },
   {
    "duration": 4,
    "start_time": "2024-07-02T22:50:39.419Z"
   },
   {
    "duration": 1512,
    "start_time": "2024-07-02T22:50:39.427Z"
   },
   {
    "duration": 11,
    "start_time": "2024-07-02T22:50:40.943Z"
   },
   {
    "duration": 4,
    "start_time": "2024-07-02T22:50:40.957Z"
   },
   {
    "duration": 42,
    "start_time": "2024-07-02T22:50:40.967Z"
   },
   {
    "duration": 15,
    "start_time": "2024-07-02T22:50:41.014Z"
   },
   {
    "duration": 5,
    "start_time": "2024-07-02T22:50:41.033Z"
   },
   {
    "duration": 14,
    "start_time": "2024-07-02T22:50:41.042Z"
   },
   {
    "duration": 66,
    "start_time": "2024-07-02T22:50:41.059Z"
   },
   {
    "duration": 4926,
    "start_time": "2024-07-02T22:50:41.128Z"
   },
   {
    "duration": 4,
    "start_time": "2024-07-02T22:50:46.057Z"
   },
   {
    "duration": 7,
    "start_time": "2024-07-02T22:50:46.065Z"
   },
   {
    "duration": 26,
    "start_time": "2024-07-02T22:50:46.076Z"
   },
   {
    "duration": 16,
    "start_time": "2024-07-02T22:50:46.111Z"
   },
   {
    "duration": 104,
    "start_time": "2024-07-02T22:50:46.131Z"
   },
   {
    "duration": 6,
    "start_time": "2024-07-02T22:50:46.239Z"
   },
   {
    "duration": 6,
    "start_time": "2024-07-02T22:50:46.248Z"
   },
   {
    "duration": 4,
    "start_time": "2024-07-02T22:50:46.257Z"
   },
   {
    "duration": 138,
    "start_time": "2024-07-02T22:50:46.264Z"
   },
   {
    "duration": 13,
    "start_time": "2024-07-02T22:50:46.407Z"
   },
   {
    "duration": 4,
    "start_time": "2024-07-02T22:50:46.423Z"
   },
   {
    "duration": 4,
    "start_time": "2024-07-02T22:50:46.431Z"
   },
   {
    "duration": 495,
    "start_time": "2024-07-02T22:50:46.439Z"
   },
   {
    "duration": 0,
    "start_time": "2024-07-02T22:50:46.936Z"
   },
   {
    "duration": 0,
    "start_time": "2024-07-02T22:50:46.939Z"
   },
   {
    "duration": 0,
    "start_time": "2024-07-02T22:50:46.942Z"
   },
   {
    "duration": 0,
    "start_time": "2024-07-02T22:50:46.944Z"
   },
   {
    "duration": 0,
    "start_time": "2024-07-02T22:50:46.946Z"
   },
   {
    "duration": 0,
    "start_time": "2024-07-02T22:50:46.949Z"
   },
   {
    "duration": 0,
    "start_time": "2024-07-02T22:50:46.951Z"
   },
   {
    "duration": 5,
    "start_time": "2024-07-02T22:54:21.077Z"
   },
   {
    "duration": 1535,
    "start_time": "2024-07-02T22:54:21.086Z"
   },
   {
    "duration": 12,
    "start_time": "2024-07-02T22:54:22.624Z"
   },
   {
    "duration": 6,
    "start_time": "2024-07-02T22:54:22.638Z"
   },
   {
    "duration": 18,
    "start_time": "2024-07-02T22:54:22.650Z"
   },
   {
    "duration": 17,
    "start_time": "2024-07-02T22:54:22.702Z"
   },
   {
    "duration": 7,
    "start_time": "2024-07-02T22:54:22.722Z"
   },
   {
    "duration": 15,
    "start_time": "2024-07-02T22:54:22.731Z"
   },
   {
    "duration": 60,
    "start_time": "2024-07-02T22:54:22.749Z"
   },
   {
    "duration": 4943,
    "start_time": "2024-07-02T22:54:22.812Z"
   },
   {
    "duration": 3,
    "start_time": "2024-07-02T22:54:27.759Z"
   },
   {
    "duration": 6,
    "start_time": "2024-07-02T22:54:27.766Z"
   },
   {
    "duration": 32,
    "start_time": "2024-07-02T22:54:27.775Z"
   },
   {
    "duration": 13,
    "start_time": "2024-07-02T22:54:27.814Z"
   },
   {
    "duration": 108,
    "start_time": "2024-07-02T22:54:27.830Z"
   },
   {
    "duration": 7,
    "start_time": "2024-07-02T22:54:27.941Z"
   },
   {
    "duration": 8,
    "start_time": "2024-07-02T22:54:27.951Z"
   },
   {
    "duration": 3,
    "start_time": "2024-07-02T22:54:27.963Z"
   },
   {
    "duration": 101,
    "start_time": "2024-07-02T22:54:28.002Z"
   },
   {
    "duration": 8,
    "start_time": "2024-07-02T22:54:28.106Z"
   },
   {
    "duration": 5,
    "start_time": "2024-07-02T22:54:28.116Z"
   },
   {
    "duration": 480,
    "start_time": "2024-07-02T22:54:28.123Z"
   },
   {
    "duration": 0,
    "start_time": "2024-07-02T22:54:28.607Z"
   },
   {
    "duration": 0,
    "start_time": "2024-07-02T22:54:28.609Z"
   },
   {
    "duration": 0,
    "start_time": "2024-07-02T22:54:28.612Z"
   },
   {
    "duration": 0,
    "start_time": "2024-07-02T22:54:28.614Z"
   },
   {
    "duration": 0,
    "start_time": "2024-07-02T22:54:28.616Z"
   },
   {
    "duration": 0,
    "start_time": "2024-07-02T22:54:28.618Z"
   },
   {
    "duration": 0,
    "start_time": "2024-07-02T22:54:28.621Z"
   },
   {
    "duration": 5,
    "start_time": "2024-07-02T22:55:13.329Z"
   },
   {
    "duration": 1471,
    "start_time": "2024-07-02T22:55:13.337Z"
   },
   {
    "duration": 11,
    "start_time": "2024-07-02T22:55:14.811Z"
   },
   {
    "duration": 4,
    "start_time": "2024-07-02T22:55:14.826Z"
   },
   {
    "duration": 18,
    "start_time": "2024-07-02T22:55:14.836Z"
   },
   {
    "duration": 51,
    "start_time": "2024-07-02T22:55:14.857Z"
   },
   {
    "duration": 6,
    "start_time": "2024-07-02T22:55:14.911Z"
   },
   {
    "duration": 15,
    "start_time": "2024-07-02T22:55:14.920Z"
   },
   {
    "duration": 24,
    "start_time": "2024-07-02T22:55:14.938Z"
   },
   {
    "duration": 5044,
    "start_time": "2024-07-02T22:55:15.002Z"
   },
   {
    "duration": 4,
    "start_time": "2024-07-02T22:55:20.050Z"
   },
   {
    "duration": 7,
    "start_time": "2024-07-02T22:55:20.058Z"
   },
   {
    "duration": 33,
    "start_time": "2024-07-02T22:55:20.068Z"
   },
   {
    "duration": 14,
    "start_time": "2024-07-02T22:55:20.109Z"
   },
   {
    "duration": 105,
    "start_time": "2024-07-02T22:55:20.126Z"
   },
   {
    "duration": 6,
    "start_time": "2024-07-02T22:55:20.234Z"
   },
   {
    "duration": 8,
    "start_time": "2024-07-02T22:55:20.243Z"
   },
   {
    "duration": 3,
    "start_time": "2024-07-02T22:55:20.254Z"
   },
   {
    "duration": 132,
    "start_time": "2024-07-02T22:55:20.260Z"
   },
   {
    "duration": 4,
    "start_time": "2024-07-02T22:55:20.401Z"
   },
   {
    "duration": 4,
    "start_time": "2024-07-02T22:55:20.409Z"
   },
   {
    "duration": 487,
    "start_time": "2024-07-02T22:55:20.417Z"
   },
   {
    "duration": 0,
    "start_time": "2024-07-02T22:55:20.906Z"
   },
   {
    "duration": 0,
    "start_time": "2024-07-02T22:55:20.909Z"
   },
   {
    "duration": 0,
    "start_time": "2024-07-02T22:55:20.911Z"
   },
   {
    "duration": 0,
    "start_time": "2024-07-02T22:55:20.913Z"
   },
   {
    "duration": 0,
    "start_time": "2024-07-02T22:55:20.915Z"
   },
   {
    "duration": 0,
    "start_time": "2024-07-02T22:55:20.917Z"
   },
   {
    "duration": 0,
    "start_time": "2024-07-02T22:55:20.919Z"
   },
   {
    "duration": 4,
    "start_time": "2024-07-02T22:58:16.226Z"
   },
   {
    "duration": 1503,
    "start_time": "2024-07-02T22:58:16.234Z"
   },
   {
    "duration": 15,
    "start_time": "2024-07-02T22:58:17.740Z"
   },
   {
    "duration": 6,
    "start_time": "2024-07-02T22:58:17.758Z"
   },
   {
    "duration": 43,
    "start_time": "2024-07-02T22:58:17.768Z"
   },
   {
    "duration": 15,
    "start_time": "2024-07-02T22:58:17.815Z"
   },
   {
    "duration": 5,
    "start_time": "2024-07-02T22:58:17.833Z"
   },
   {
    "duration": 14,
    "start_time": "2024-07-02T22:58:17.842Z"
   },
   {
    "duration": 65,
    "start_time": "2024-07-02T22:58:17.858Z"
   },
   {
    "duration": 4984,
    "start_time": "2024-07-02T22:58:17.926Z"
   },
   {
    "duration": 3,
    "start_time": "2024-07-02T22:58:22.913Z"
   },
   {
    "duration": 7,
    "start_time": "2024-07-02T22:58:22.920Z"
   },
   {
    "duration": 15,
    "start_time": "2024-07-02T22:58:22.929Z"
   },
   {
    "duration": 14,
    "start_time": "2024-07-02T22:58:22.950Z"
   },
   {
    "duration": 121,
    "start_time": "2024-07-02T22:58:22.967Z"
   },
   {
    "duration": 10,
    "start_time": "2024-07-02T22:58:23.104Z"
   },
   {
    "duration": 8,
    "start_time": "2024-07-02T22:58:23.117Z"
   },
   {
    "duration": 5,
    "start_time": "2024-07-02T22:58:23.129Z"
   },
   {
    "duration": 142,
    "start_time": "2024-07-02T22:58:23.138Z"
   },
   {
    "duration": 5,
    "start_time": "2024-07-02T22:58:23.284Z"
   },
   {
    "duration": 4,
    "start_time": "2024-07-02T22:58:23.303Z"
   },
   {
    "duration": 40,
    "start_time": "2024-07-02T22:58:23.311Z"
   },
   {
    "duration": 496,
    "start_time": "2024-07-02T22:58:23.354Z"
   },
   {
    "duration": 0,
    "start_time": "2024-07-02T22:58:23.853Z"
   },
   {
    "duration": 0,
    "start_time": "2024-07-02T22:58:23.855Z"
   },
   {
    "duration": 0,
    "start_time": "2024-07-02T22:58:23.858Z"
   },
   {
    "duration": 0,
    "start_time": "2024-07-02T22:58:23.860Z"
   },
   {
    "duration": 0,
    "start_time": "2024-07-02T22:58:23.863Z"
   },
   {
    "duration": 0,
    "start_time": "2024-07-02T22:58:23.865Z"
   },
   {
    "duration": 3294,
    "start_time": "2024-07-02T23:03:11.568Z"
   },
   {
    "duration": 5,
    "start_time": "2024-07-02T23:03:30.747Z"
   },
   {
    "duration": 1610,
    "start_time": "2024-07-02T23:03:30.757Z"
   },
   {
    "duration": 12,
    "start_time": "2024-07-02T23:03:32.370Z"
   },
   {
    "duration": 17,
    "start_time": "2024-07-02T23:03:32.384Z"
   },
   {
    "duration": 19,
    "start_time": "2024-07-02T23:03:32.406Z"
   },
   {
    "duration": 14,
    "start_time": "2024-07-02T23:03:32.429Z"
   },
   {
    "duration": 5,
    "start_time": "2024-07-02T23:03:32.447Z"
   },
   {
    "duration": 56,
    "start_time": "2024-07-02T23:03:32.455Z"
   },
   {
    "duration": 24,
    "start_time": "2024-07-02T23:03:32.514Z"
   },
   {
    "duration": 5013,
    "start_time": "2024-07-02T23:03:32.541Z"
   },
   {
    "duration": 4,
    "start_time": "2024-07-02T23:03:37.557Z"
   },
   {
    "duration": 6,
    "start_time": "2024-07-02T23:03:37.565Z"
   },
   {
    "duration": 17,
    "start_time": "2024-07-02T23:03:37.574Z"
   },
   {
    "duration": 17,
    "start_time": "2024-07-02T23:03:37.600Z"
   },
   {
    "duration": 99,
    "start_time": "2024-07-02T23:03:37.620Z"
   },
   {
    "duration": 5,
    "start_time": "2024-07-02T23:03:37.723Z"
   },
   {
    "duration": 8,
    "start_time": "2024-07-02T23:03:37.732Z"
   },
   {
    "duration": 3,
    "start_time": "2024-07-02T23:03:37.745Z"
   },
   {
    "duration": 140,
    "start_time": "2024-07-02T23:03:37.757Z"
   },
   {
    "duration": 5,
    "start_time": "2024-07-02T23:03:37.902Z"
   },
   {
    "duration": 5,
    "start_time": "2024-07-02T23:03:37.911Z"
   },
   {
    "duration": 35,
    "start_time": "2024-07-02T23:03:37.918Z"
   },
   {
    "duration": 3188,
    "start_time": "2024-07-02T23:03:37.957Z"
   },
   {
    "duration": 9,
    "start_time": "2024-07-02T23:03:41.149Z"
   },
   {
    "duration": 0,
    "start_time": "2024-07-02T23:03:41.162Z"
   },
   {
    "duration": 0,
    "start_time": "2024-07-02T23:03:41.166Z"
   },
   {
    "duration": 0,
    "start_time": "2024-07-02T23:03:41.167Z"
   },
   {
    "duration": 0,
    "start_time": "2024-07-02T23:03:41.170Z"
   },
   {
    "duration": 0,
    "start_time": "2024-07-02T23:03:41.173Z"
   },
   {
    "duration": 6,
    "start_time": "2024-07-03T20:57:28.112Z"
   },
   {
    "duration": 5428,
    "start_time": "2024-07-03T20:57:28.122Z"
   },
   {
    "duration": 14,
    "start_time": "2024-07-03T20:57:33.553Z"
   },
   {
    "duration": 6,
    "start_time": "2024-07-03T20:57:33.571Z"
   },
   {
    "duration": 44,
    "start_time": "2024-07-03T20:57:33.583Z"
   },
   {
    "duration": 17,
    "start_time": "2024-07-03T20:57:33.630Z"
   },
   {
    "duration": 5,
    "start_time": "2024-07-03T20:57:33.651Z"
   },
   {
    "duration": 16,
    "start_time": "2024-07-03T20:57:33.660Z"
   },
   {
    "duration": 27,
    "start_time": "2024-07-03T20:57:33.724Z"
   },
   {
    "duration": 5252,
    "start_time": "2024-07-03T20:57:33.755Z"
   },
   {
    "duration": 7,
    "start_time": "2024-07-03T20:57:39.011Z"
   },
   {
    "duration": 7,
    "start_time": "2024-07-03T20:57:39.021Z"
   },
   {
    "duration": 16,
    "start_time": "2024-07-03T20:57:39.031Z"
   },
   {
    "duration": 14,
    "start_time": "2024-07-03T20:57:39.054Z"
   },
   {
    "duration": 320,
    "start_time": "2024-07-03T20:57:39.072Z"
   },
   {
    "duration": 6,
    "start_time": "2024-07-03T20:57:39.396Z"
   },
   {
    "duration": 24,
    "start_time": "2024-07-03T20:57:39.405Z"
   },
   {
    "duration": 4,
    "start_time": "2024-07-03T20:57:39.435Z"
   },
   {
    "duration": 491,
    "start_time": "2024-07-03T20:57:39.442Z"
   },
   {
    "duration": 0,
    "start_time": "2024-07-03T20:57:39.937Z"
   },
   {
    "duration": 0,
    "start_time": "2024-07-03T20:57:39.939Z"
   },
   {
    "duration": 0,
    "start_time": "2024-07-03T20:57:39.943Z"
   },
   {
    "duration": 0,
    "start_time": "2024-07-03T20:57:39.946Z"
   },
   {
    "duration": 0,
    "start_time": "2024-07-03T20:57:39.948Z"
   },
   {
    "duration": 0,
    "start_time": "2024-07-03T20:57:39.952Z"
   },
   {
    "duration": 0,
    "start_time": "2024-07-03T20:57:39.956Z"
   },
   {
    "duration": 0,
    "start_time": "2024-07-03T20:57:39.959Z"
   },
   {
    "duration": 0,
    "start_time": "2024-07-03T20:57:39.962Z"
   },
   {
    "duration": 0,
    "start_time": "2024-07-03T20:57:39.965Z"
   },
   {
    "duration": 5,
    "start_time": "2024-07-03T20:57:59.670Z"
   },
   {
    "duration": 1685,
    "start_time": "2024-07-03T20:57:59.680Z"
   },
   {
    "duration": 11,
    "start_time": "2024-07-03T20:58:01.368Z"
   },
   {
    "duration": 6,
    "start_time": "2024-07-03T20:58:01.382Z"
   },
   {
    "duration": 20,
    "start_time": "2024-07-03T20:58:01.423Z"
   },
   {
    "duration": 18,
    "start_time": "2024-07-03T20:58:01.446Z"
   },
   {
    "duration": 6,
    "start_time": "2024-07-03T20:58:01.467Z"
   },
   {
    "duration": 52,
    "start_time": "2024-07-03T20:58:01.477Z"
   },
   {
    "duration": 27,
    "start_time": "2024-07-03T20:58:01.533Z"
   },
   {
    "duration": 5275,
    "start_time": "2024-07-03T20:58:01.564Z"
   },
   {
    "duration": 4,
    "start_time": "2024-07-03T20:58:06.843Z"
   },
   {
    "duration": 7,
    "start_time": "2024-07-03T20:58:06.851Z"
   },
   {
    "duration": 17,
    "start_time": "2024-07-03T20:58:06.862Z"
   },
   {
    "duration": 48,
    "start_time": "2024-07-03T20:58:06.886Z"
   },
   {
    "duration": 193,
    "start_time": "2024-07-03T20:58:06.938Z"
   },
   {
    "duration": 7,
    "start_time": "2024-07-03T20:58:07.134Z"
   },
   {
    "duration": 8,
    "start_time": "2024-07-03T20:58:07.147Z"
   },
   {
    "duration": 7837,
    "start_time": "2024-07-03T20:58:07.158Z"
   },
   {
    "duration": 431,
    "start_time": "2024-07-03T20:58:15.000Z"
   },
   {
    "duration": 0,
    "start_time": "2024-07-03T20:58:15.434Z"
   },
   {
    "duration": 0,
    "start_time": "2024-07-03T20:58:15.436Z"
   },
   {
    "duration": 0,
    "start_time": "2024-07-03T20:58:15.439Z"
   },
   {
    "duration": 0,
    "start_time": "2024-07-03T20:58:15.441Z"
   },
   {
    "duration": 0,
    "start_time": "2024-07-03T20:58:15.453Z"
   },
   {
    "duration": 0,
    "start_time": "2024-07-03T20:58:15.455Z"
   },
   {
    "duration": 0,
    "start_time": "2024-07-03T20:58:15.458Z"
   },
   {
    "duration": 0,
    "start_time": "2024-07-03T20:58:15.461Z"
   },
   {
    "duration": 0,
    "start_time": "2024-07-03T20:58:15.463Z"
   },
   {
    "duration": 0,
    "start_time": "2024-07-03T20:58:15.465Z"
   },
   {
    "duration": 4,
    "start_time": "2024-07-03T20:58:36.142Z"
   },
   {
    "duration": 1605,
    "start_time": "2024-07-03T20:58:36.151Z"
   },
   {
    "duration": 12,
    "start_time": "2024-07-03T20:58:37.760Z"
   },
   {
    "duration": 6,
    "start_time": "2024-07-03T20:58:37.775Z"
   },
   {
    "duration": 47,
    "start_time": "2024-07-03T20:58:37.788Z"
   },
   {
    "duration": 16,
    "start_time": "2024-07-03T20:58:37.838Z"
   },
   {
    "duration": 6,
    "start_time": "2024-07-03T20:58:37.858Z"
   },
   {
    "duration": 56,
    "start_time": "2024-07-03T20:58:37.867Z"
   },
   {
    "duration": 27,
    "start_time": "2024-07-03T20:58:37.927Z"
   },
   {
    "duration": 5388,
    "start_time": "2024-07-03T20:58:37.957Z"
   },
   {
    "duration": 4,
    "start_time": "2024-07-03T20:58:43.348Z"
   },
   {
    "duration": 6,
    "start_time": "2024-07-03T20:58:43.357Z"
   },
   {
    "duration": 16,
    "start_time": "2024-07-03T20:58:43.372Z"
   },
   {
    "duration": 42,
    "start_time": "2024-07-03T20:58:43.391Z"
   },
   {
    "duration": 111,
    "start_time": "2024-07-03T20:58:43.436Z"
   },
   {
    "duration": 6,
    "start_time": "2024-07-03T20:58:43.551Z"
   },
   {
    "duration": 7,
    "start_time": "2024-07-03T20:58:43.561Z"
   },
   {
    "duration": 7,
    "start_time": "2024-07-03T20:58:43.572Z"
   },
   {
    "duration": 164,
    "start_time": "2024-07-03T20:58:43.582Z"
   },
   {
    "duration": 5,
    "start_time": "2024-07-03T20:58:43.750Z"
   },
   {
    "duration": 5,
    "start_time": "2024-07-03T20:58:43.759Z"
   },
   {
    "duration": 63,
    "start_time": "2024-07-03T20:58:43.768Z"
   },
   {
    "duration": 3550,
    "start_time": "2024-07-03T20:58:43.834Z"
   },
   {
    "duration": 8,
    "start_time": "2024-07-03T20:58:47.390Z"
   },
   {
    "duration": 21,
    "start_time": "2024-07-03T20:58:47.402Z"
   },
   {
    "duration": 633,
    "start_time": "2024-07-03T20:58:47.426Z"
   },
   {
    "duration": 0,
    "start_time": "2024-07-03T20:58:48.062Z"
   },
   {
    "duration": 0,
    "start_time": "2024-07-03T20:58:48.064Z"
   },
   {
    "duration": 0,
    "start_time": "2024-07-03T20:58:48.068Z"
   },
   {
    "duration": 5,
    "start_time": "2024-07-03T20:59:54.694Z"
   },
   {
    "duration": 1568,
    "start_time": "2024-07-03T20:59:54.704Z"
   },
   {
    "duration": 12,
    "start_time": "2024-07-03T20:59:56.276Z"
   },
   {
    "duration": 6,
    "start_time": "2024-07-03T20:59:56.291Z"
   },
   {
    "duration": 20,
    "start_time": "2024-07-03T20:59:56.326Z"
   },
   {
    "duration": 19,
    "start_time": "2024-07-03T20:59:56.349Z"
   },
   {
    "duration": 5,
    "start_time": "2024-07-03T20:59:56.372Z"
   },
   {
    "duration": 56,
    "start_time": "2024-07-03T20:59:56.382Z"
   },
   {
    "duration": 36,
    "start_time": "2024-07-03T20:59:56.441Z"
   },
   {
    "duration": 5520,
    "start_time": "2024-07-03T20:59:56.480Z"
   },
   {
    "duration": 5,
    "start_time": "2024-07-03T21:00:02.003Z"
   },
   {
    "duration": 11,
    "start_time": "2024-07-03T21:00:02.012Z"
   },
   {
    "duration": 19,
    "start_time": "2024-07-03T21:00:02.026Z"
   },
   {
    "duration": 15,
    "start_time": "2024-07-03T21:00:02.052Z"
   },
   {
    "duration": 135,
    "start_time": "2024-07-03T21:00:02.071Z"
   },
   {
    "duration": 8,
    "start_time": "2024-07-03T21:00:02.223Z"
   },
   {
    "duration": 8,
    "start_time": "2024-07-03T21:00:02.234Z"
   },
   {
    "duration": 4,
    "start_time": "2024-07-03T21:00:02.246Z"
   },
   {
    "duration": 161,
    "start_time": "2024-07-03T21:00:02.253Z"
   },
   {
    "duration": 6,
    "start_time": "2024-07-03T21:00:02.417Z"
   },
   {
    "duration": 5,
    "start_time": "2024-07-03T21:00:02.427Z"
   },
   {
    "duration": 40,
    "start_time": "2024-07-03T21:00:02.438Z"
   },
   {
    "duration": 3173,
    "start_time": "2024-07-03T21:00:02.482Z"
   },
   {
    "duration": 7,
    "start_time": "2024-07-03T21:00:05.664Z"
   },
   {
    "duration": 6,
    "start_time": "2024-07-03T21:00:05.676Z"
   },
   {
    "duration": 43,
    "start_time": "2024-07-03T21:00:05.686Z"
   },
   {
    "duration": 7,
    "start_time": "2024-07-03T21:00:05.734Z"
   },
   {
    "duration": 6,
    "start_time": "2024-07-03T21:00:05.746Z"
   },
   {
    "duration": 65,
    "start_time": "2024-07-03T21:00:05.759Z"
   },
   {
    "duration": 6,
    "start_time": "2024-07-03T21:12:23.215Z"
   },
   {
    "duration": 21,
    "start_time": "2024-07-03T21:17:40.771Z"
   },
   {
    "duration": 6,
    "start_time": "2024-07-03T21:21:50.883Z"
   },
   {
    "duration": 5,
    "start_time": "2024-07-03T21:22:24.064Z"
   },
   {
    "duration": 1610,
    "start_time": "2024-07-03T21:22:24.074Z"
   },
   {
    "duration": 14,
    "start_time": "2024-07-03T21:22:25.688Z"
   },
   {
    "duration": 19,
    "start_time": "2024-07-03T21:22:25.706Z"
   },
   {
    "duration": 22,
    "start_time": "2024-07-03T21:22:25.732Z"
   },
   {
    "duration": 19,
    "start_time": "2024-07-03T21:22:25.758Z"
   },
   {
    "duration": 43,
    "start_time": "2024-07-03T21:22:25.781Z"
   },
   {
    "duration": 15,
    "start_time": "2024-07-03T21:22:25.828Z"
   },
   {
    "duration": 32,
    "start_time": "2024-07-03T21:22:25.847Z"
   },
   {
    "duration": 5701,
    "start_time": "2024-07-03T21:22:25.883Z"
   },
   {
    "duration": 4,
    "start_time": "2024-07-03T21:22:31.590Z"
   },
   {
    "duration": 12,
    "start_time": "2024-07-03T21:22:31.598Z"
   },
   {
    "duration": 23,
    "start_time": "2024-07-03T21:22:31.614Z"
   },
   {
    "duration": 16,
    "start_time": "2024-07-03T21:22:31.643Z"
   },
   {
    "duration": 135,
    "start_time": "2024-07-03T21:22:31.662Z"
   },
   {
    "duration": 8,
    "start_time": "2024-07-03T21:22:31.800Z"
   },
   {
    "duration": 10,
    "start_time": "2024-07-03T21:22:31.824Z"
   },
   {
    "duration": 5,
    "start_time": "2024-07-03T21:22:31.837Z"
   },
   {
    "duration": 170,
    "start_time": "2024-07-03T21:22:31.846Z"
   },
   {
    "duration": 6,
    "start_time": "2024-07-03T21:22:32.019Z"
   },
   {
    "duration": 7,
    "start_time": "2024-07-03T21:22:32.027Z"
   },
   {
    "duration": 39,
    "start_time": "2024-07-03T21:22:32.038Z"
   },
   {
    "duration": 3555,
    "start_time": "2024-07-03T21:22:32.083Z"
   },
   {
    "duration": 9,
    "start_time": "2024-07-03T21:22:35.642Z"
   },
   {
    "duration": 15,
    "start_time": "2024-07-03T21:22:35.655Z"
   },
   {
    "duration": 59,
    "start_time": "2024-07-03T21:22:35.674Z"
   },
   {
    "duration": 10,
    "start_time": "2024-07-03T21:22:35.737Z"
   },
   {
    "duration": 8,
    "start_time": "2024-07-03T21:22:35.751Z"
   },
   {
    "duration": 6,
    "start_time": "2024-07-03T21:22:35.824Z"
   },
   {
    "duration": 9,
    "start_time": "2024-07-03T21:22:35.835Z"
   },
   {
    "duration": 8,
    "start_time": "2024-07-03T21:22:35.848Z"
   },
   {
    "duration": 79,
    "start_time": "2024-07-03T21:22:35.860Z"
   },
   {
    "duration": 30,
    "start_time": "2024-07-03T21:25:06.007Z"
   },
   {
    "duration": 5,
    "start_time": "2024-07-03T22:30:22.979Z"
   },
   {
    "duration": 4,
    "start_time": "2024-07-03T22:30:46.656Z"
   },
   {
    "duration": 11,
    "start_time": "2024-07-03T22:31:21.729Z"
   },
   {
    "duration": 4,
    "start_time": "2024-07-03T22:34:13.338Z"
   },
   {
    "duration": 1608,
    "start_time": "2024-07-03T22:34:13.346Z"
   },
   {
    "duration": 11,
    "start_time": "2024-07-03T22:34:14.958Z"
   },
   {
    "duration": 6,
    "start_time": "2024-07-03T22:34:14.973Z"
   },
   {
    "duration": 48,
    "start_time": "2024-07-03T22:34:14.984Z"
   },
   {
    "duration": 19,
    "start_time": "2024-07-03T22:34:15.035Z"
   },
   {
    "duration": 6,
    "start_time": "2024-07-03T22:34:15.056Z"
   },
   {
    "duration": 16,
    "start_time": "2024-07-03T22:34:15.065Z"
   },
   {
    "duration": 26,
    "start_time": "2024-07-03T22:34:15.125Z"
   },
   {
    "duration": 5286,
    "start_time": "2024-07-03T22:34:15.154Z"
   },
   {
    "duration": 5,
    "start_time": "2024-07-03T22:34:20.447Z"
   },
   {
    "duration": 8,
    "start_time": "2024-07-03T22:34:20.456Z"
   },
   {
    "duration": 17,
    "start_time": "2024-07-03T22:34:20.468Z"
   },
   {
    "duration": 46,
    "start_time": "2024-07-03T22:34:20.488Z"
   },
   {
    "duration": 109,
    "start_time": "2024-07-03T22:34:20.538Z"
   },
   {
    "duration": 6,
    "start_time": "2024-07-03T22:34:20.650Z"
   },
   {
    "duration": 9,
    "start_time": "2024-07-03T22:34:20.660Z"
   },
   {
    "duration": 3,
    "start_time": "2024-07-03T22:34:20.675Z"
   },
   {
    "duration": 156,
    "start_time": "2024-07-03T22:34:20.683Z"
   },
   {
    "duration": 8,
    "start_time": "2024-07-03T22:34:20.842Z"
   },
   {
    "duration": 5,
    "start_time": "2024-07-03T22:34:20.853Z"
   },
   {
    "duration": 66,
    "start_time": "2024-07-03T22:34:20.862Z"
   },
   {
    "duration": 3545,
    "start_time": "2024-07-03T22:34:20.932Z"
   },
   {
    "duration": 10,
    "start_time": "2024-07-03T22:34:24.480Z"
   },
   {
    "duration": 6,
    "start_time": "2024-07-03T22:34:24.493Z"
   },
   {
    "duration": 17,
    "start_time": "2024-07-03T22:34:24.522Z"
   },
   {
    "duration": 9,
    "start_time": "2024-07-03T22:34:24.542Z"
   },
   {
    "duration": 69,
    "start_time": "2024-07-03T22:34:24.554Z"
   },
   {
    "duration": 8,
    "start_time": "2024-07-03T22:34:24.634Z"
   },
   {
    "duration": 78,
    "start_time": "2024-07-03T22:34:24.646Z"
   },
   {
    "duration": 6,
    "start_time": "2024-07-03T22:34:24.728Z"
   },
   {
    "duration": 13,
    "start_time": "2024-07-03T22:34:24.739Z"
   },
   {
    "duration": 86,
    "start_time": "2024-07-03T22:34:24.756Z"
   },
   {
    "duration": 79,
    "start_time": "2024-07-03T22:34:24.845Z"
   },
   {
    "duration": 4,
    "start_time": "2024-07-03T22:34:24.928Z"
   },
   {
    "duration": 12,
    "start_time": "2024-07-03T22:34:24.936Z"
   },
   {
    "duration": 11,
    "start_time": "2024-07-03T22:34:24.951Z"
   },
   {
    "duration": 4,
    "start_time": "2024-07-08T18:26:38.408Z"
   },
   {
    "duration": 5236,
    "start_time": "2024-07-08T18:26:38.416Z"
   },
   {
    "duration": 16,
    "start_time": "2024-07-08T18:26:43.656Z"
   },
   {
    "duration": 5,
    "start_time": "2024-07-08T18:26:43.676Z"
   },
   {
    "duration": 20,
    "start_time": "2024-07-08T18:26:43.684Z"
   },
   {
    "duration": 17,
    "start_time": "2024-07-08T18:26:43.730Z"
   },
   {
    "duration": 6,
    "start_time": "2024-07-08T18:26:43.749Z"
   },
   {
    "duration": 14,
    "start_time": "2024-07-08T18:26:43.759Z"
   },
   {
    "duration": 68,
    "start_time": "2024-07-08T18:26:43.779Z"
   },
   {
    "duration": 4857,
    "start_time": "2024-07-08T18:26:43.850Z"
   },
   {
    "duration": 4,
    "start_time": "2024-07-08T18:26:48.710Z"
   },
   {
    "duration": 7,
    "start_time": "2024-07-08T18:26:48.717Z"
   },
   {
    "duration": 17,
    "start_time": "2024-07-08T18:26:48.726Z"
   },
   {
    "duration": 14,
    "start_time": "2024-07-08T18:26:48.746Z"
   },
   {
    "duration": 310,
    "start_time": "2024-07-08T18:26:48.763Z"
   },
   {
    "duration": 6,
    "start_time": "2024-07-08T18:26:49.076Z"
   },
   {
    "duration": 6,
    "start_time": "2024-07-08T18:26:49.085Z"
   },
   {
    "duration": 4,
    "start_time": "2024-07-08T18:26:49.094Z"
   },
   {
    "duration": 436,
    "start_time": "2024-07-08T18:26:49.130Z"
   },
   {
    "duration": 0,
    "start_time": "2024-07-08T18:26:49.570Z"
   },
   {
    "duration": 0,
    "start_time": "2024-07-08T18:26:49.572Z"
   },
   {
    "duration": 0,
    "start_time": "2024-07-08T18:26:49.575Z"
   },
   {
    "duration": 0,
    "start_time": "2024-07-08T18:26:49.577Z"
   },
   {
    "duration": 0,
    "start_time": "2024-07-08T18:26:49.579Z"
   },
   {
    "duration": 0,
    "start_time": "2024-07-08T18:26:49.581Z"
   },
   {
    "duration": 0,
    "start_time": "2024-07-08T18:26:49.583Z"
   },
   {
    "duration": 0,
    "start_time": "2024-07-08T18:26:49.585Z"
   },
   {
    "duration": 0,
    "start_time": "2024-07-08T18:26:49.587Z"
   },
   {
    "duration": 0,
    "start_time": "2024-07-08T18:26:49.589Z"
   },
   {
    "duration": 0,
    "start_time": "2024-07-08T18:26:49.591Z"
   },
   {
    "duration": 0,
    "start_time": "2024-07-08T18:26:49.593Z"
   },
   {
    "duration": 0,
    "start_time": "2024-07-08T18:26:49.632Z"
   },
   {
    "duration": 0,
    "start_time": "2024-07-08T18:26:49.634Z"
   },
   {
    "duration": 0,
    "start_time": "2024-07-08T18:26:49.636Z"
   },
   {
    "duration": 0,
    "start_time": "2024-07-08T18:26:49.638Z"
   },
   {
    "duration": 0,
    "start_time": "2024-07-08T18:26:49.641Z"
   },
   {
    "duration": 0,
    "start_time": "2024-07-08T18:26:49.643Z"
   },
   {
    "duration": 0,
    "start_time": "2024-07-08T18:26:49.645Z"
   },
   {
    "duration": 5,
    "start_time": "2024-07-08T18:26:57.463Z"
   },
   {
    "duration": 1533,
    "start_time": "2024-07-08T18:26:57.472Z"
   },
   {
    "duration": 10,
    "start_time": "2024-07-08T18:26:59.008Z"
   },
   {
    "duration": 5,
    "start_time": "2024-07-08T18:26:59.030Z"
   },
   {
    "duration": 19,
    "start_time": "2024-07-08T18:26:59.041Z"
   },
   {
    "duration": 16,
    "start_time": "2024-07-08T18:26:59.062Z"
   },
   {
    "duration": 5,
    "start_time": "2024-07-08T18:26:59.081Z"
   },
   {
    "duration": 54,
    "start_time": "2024-07-08T18:26:59.088Z"
   },
   {
    "duration": 23,
    "start_time": "2024-07-08T18:26:59.146Z"
   },
   {
    "duration": 5015,
    "start_time": "2024-07-08T18:26:59.172Z"
   },
   {
    "duration": 4,
    "start_time": "2024-07-08T18:27:04.191Z"
   },
   {
    "duration": 7,
    "start_time": "2024-07-08T18:27:04.198Z"
   },
   {
    "duration": 29,
    "start_time": "2024-07-08T18:27:04.211Z"
   },
   {
    "duration": 14,
    "start_time": "2024-07-08T18:27:04.243Z"
   },
   {
    "duration": 196,
    "start_time": "2024-07-08T18:27:04.260Z"
   },
   {
    "duration": 7,
    "start_time": "2024-07-08T18:27:04.460Z"
   },
   {
    "duration": 12,
    "start_time": "2024-07-08T18:27:04.471Z"
   },
   {
    "duration": 7203,
    "start_time": "2024-07-08T18:27:04.486Z"
   },
   {
    "duration": 451,
    "start_time": "2024-07-08T18:27:11.695Z"
   },
   {
    "duration": 0,
    "start_time": "2024-07-08T18:27:12.150Z"
   },
   {
    "duration": 0,
    "start_time": "2024-07-08T18:27:12.152Z"
   },
   {
    "duration": 0,
    "start_time": "2024-07-08T18:27:12.154Z"
   },
   {
    "duration": 0,
    "start_time": "2024-07-08T18:27:12.156Z"
   },
   {
    "duration": 0,
    "start_time": "2024-07-08T18:27:12.159Z"
   },
   {
    "duration": 0,
    "start_time": "2024-07-08T18:27:12.161Z"
   },
   {
    "duration": 0,
    "start_time": "2024-07-08T18:27:12.163Z"
   },
   {
    "duration": 0,
    "start_time": "2024-07-08T18:27:12.165Z"
   },
   {
    "duration": 0,
    "start_time": "2024-07-08T18:27:12.168Z"
   },
   {
    "duration": 0,
    "start_time": "2024-07-08T18:27:12.170Z"
   },
   {
    "duration": 0,
    "start_time": "2024-07-08T18:27:12.172Z"
   },
   {
    "duration": 0,
    "start_time": "2024-07-08T18:27:12.174Z"
   },
   {
    "duration": 0,
    "start_time": "2024-07-08T18:27:12.176Z"
   },
   {
    "duration": 0,
    "start_time": "2024-07-08T18:27:12.178Z"
   },
   {
    "duration": 0,
    "start_time": "2024-07-08T18:27:12.180Z"
   },
   {
    "duration": 0,
    "start_time": "2024-07-08T18:27:12.234Z"
   },
   {
    "duration": 0,
    "start_time": "2024-07-08T18:27:12.238Z"
   },
   {
    "duration": 0,
    "start_time": "2024-07-08T18:27:12.243Z"
   },
   {
    "duration": 0,
    "start_time": "2024-07-08T18:27:12.245Z"
   },
   {
    "duration": 4,
    "start_time": "2024-07-08T18:27:26.374Z"
   },
   {
    "duration": 1446,
    "start_time": "2024-07-08T18:27:26.383Z"
   },
   {
    "duration": 10,
    "start_time": "2024-07-08T18:27:27.832Z"
   },
   {
    "duration": 6,
    "start_time": "2024-07-08T18:27:27.845Z"
   },
   {
    "duration": 19,
    "start_time": "2024-07-08T18:27:27.853Z"
   },
   {
    "duration": 18,
    "start_time": "2024-07-08T18:27:27.876Z"
   },
   {
    "duration": 6,
    "start_time": "2024-07-08T18:27:27.932Z"
   },
   {
    "duration": 17,
    "start_time": "2024-07-08T18:27:27.942Z"
   },
   {
    "duration": 26,
    "start_time": "2024-07-08T18:27:27.962Z"
   },
   {
    "duration": 4950,
    "start_time": "2024-07-08T18:27:28.029Z"
   },
   {
    "duration": 4,
    "start_time": "2024-07-08T18:27:32.983Z"
   },
   {
    "duration": 8,
    "start_time": "2024-07-08T18:27:32.990Z"
   },
   {
    "duration": 14,
    "start_time": "2024-07-08T18:27:33.001Z"
   },
   {
    "duration": 16,
    "start_time": "2024-07-08T18:27:33.030Z"
   },
   {
    "duration": 104,
    "start_time": "2024-07-08T18:27:33.055Z"
   },
   {
    "duration": 6,
    "start_time": "2024-07-08T18:27:33.162Z"
   },
   {
    "duration": 6,
    "start_time": "2024-07-08T18:27:33.172Z"
   },
   {
    "duration": 4,
    "start_time": "2024-07-08T18:27:33.181Z"
   },
   {
    "duration": 132,
    "start_time": "2024-07-08T18:27:33.189Z"
   },
   {
    "duration": 5,
    "start_time": "2024-07-08T18:27:33.330Z"
   },
   {
    "duration": 4,
    "start_time": "2024-07-08T18:27:33.338Z"
   },
   {
    "duration": 37,
    "start_time": "2024-07-08T18:27:33.345Z"
   },
   {
    "duration": 3446,
    "start_time": "2024-07-08T18:27:33.385Z"
   },
   {
    "duration": 1668,
    "start_time": "2024-07-08T18:27:36.835Z"
   },
   {
    "duration": 6,
    "start_time": "2024-07-08T18:27:38.530Z"
   },
   {
    "duration": 5,
    "start_time": "2024-07-08T18:27:38.540Z"
   },
   {
    "duration": 14,
    "start_time": "2024-07-08T18:27:38.548Z"
   },
   {
    "duration": 5,
    "start_time": "2024-07-08T18:27:38.565Z"
   },
   {
    "duration": 66,
    "start_time": "2024-07-08T18:27:38.572Z"
   },
   {
    "duration": 6,
    "start_time": "2024-07-08T18:27:38.640Z"
   },
   {
    "duration": 5,
    "start_time": "2024-07-08T18:27:38.650Z"
   },
   {
    "duration": 6,
    "start_time": "2024-07-08T18:27:38.731Z"
   },
   {
    "duration": 12,
    "start_time": "2024-07-08T18:27:38.739Z"
   },
   {
    "duration": 84,
    "start_time": "2024-07-08T18:27:38.753Z"
   },
   {
    "duration": 6,
    "start_time": "2024-07-08T18:27:38.841Z"
   },
   {
    "duration": 4,
    "start_time": "2024-07-08T18:27:38.850Z"
   },
   {
    "duration": 10,
    "start_time": "2024-07-08T18:27:38.931Z"
   },
   {
    "duration": 10,
    "start_time": "2024-07-08T18:27:38.945Z"
   },
   {
    "duration": 4,
    "start_time": "2024-07-08T18:39:40.708Z"
   },
   {
    "duration": 1519,
    "start_time": "2024-07-08T18:39:40.717Z"
   },
   {
    "duration": 18,
    "start_time": "2024-07-08T18:39:42.240Z"
   },
   {
    "duration": 5,
    "start_time": "2024-07-08T18:39:42.261Z"
   },
   {
    "duration": 26,
    "start_time": "2024-07-08T18:39:42.272Z"
   },
   {
    "duration": 41,
    "start_time": "2024-07-08T18:39:42.301Z"
   },
   {
    "duration": 5,
    "start_time": "2024-07-08T18:39:42.345Z"
   },
   {
    "duration": 15,
    "start_time": "2024-07-08T18:39:42.354Z"
   },
   {
    "duration": 68,
    "start_time": "2024-07-08T18:39:42.372Z"
   },
   {
    "duration": 4860,
    "start_time": "2024-07-08T18:39:42.443Z"
   },
   {
    "duration": 4,
    "start_time": "2024-07-08T18:39:47.306Z"
   },
   {
    "duration": 7,
    "start_time": "2024-07-08T18:39:47.313Z"
   },
   {
    "duration": 19,
    "start_time": "2024-07-08T18:39:47.322Z"
   },
   {
    "duration": 14,
    "start_time": "2024-07-08T18:39:47.347Z"
   },
   {
    "duration": 107,
    "start_time": "2024-07-08T18:39:47.365Z"
   },
   {
    "duration": 6,
    "start_time": "2024-07-08T18:39:47.475Z"
   },
   {
    "duration": 6,
    "start_time": "2024-07-08T18:39:47.484Z"
   },
   {
    "duration": 3,
    "start_time": "2024-07-08T18:39:47.494Z"
   },
   {
    "duration": 103,
    "start_time": "2024-07-08T18:39:47.532Z"
   },
   {
    "duration": 6,
    "start_time": "2024-07-08T18:39:47.637Z"
   },
   {
    "duration": 6,
    "start_time": "2024-07-08T18:39:47.646Z"
   },
   {
    "duration": 35,
    "start_time": "2024-07-08T18:39:47.654Z"
   },
   {
    "duration": 3182,
    "start_time": "2024-07-08T18:39:47.692Z"
   },
   {
    "duration": 1514,
    "start_time": "2024-07-08T18:39:50.877Z"
   },
   {
    "duration": 8,
    "start_time": "2024-07-08T18:39:52.394Z"
   },
   {
    "duration": 26,
    "start_time": "2024-07-08T18:39:52.406Z"
   },
   {
    "duration": 22,
    "start_time": "2024-07-08T18:39:52.435Z"
   },
   {
    "duration": 647,
    "start_time": "2024-07-08T18:39:52.459Z"
   },
   {
    "duration": 0,
    "start_time": "2024-07-08T18:39:53.109Z"
   },
   {
    "duration": 0,
    "start_time": "2024-07-08T18:39:53.111Z"
   },
   {
    "duration": 0,
    "start_time": "2024-07-08T18:39:53.114Z"
   },
   {
    "duration": 0,
    "start_time": "2024-07-08T18:39:53.116Z"
   },
   {
    "duration": 0,
    "start_time": "2024-07-08T18:39:53.133Z"
   },
   {
    "duration": 0,
    "start_time": "2024-07-08T18:39:53.136Z"
   },
   {
    "duration": 0,
    "start_time": "2024-07-08T18:39:53.138Z"
   },
   {
    "duration": 0,
    "start_time": "2024-07-08T18:39:53.141Z"
   },
   {
    "duration": 0,
    "start_time": "2024-07-08T18:39:53.144Z"
   },
   {
    "duration": 0,
    "start_time": "2024-07-08T18:39:53.145Z"
   },
   {
    "duration": 0,
    "start_time": "2024-07-08T18:39:53.147Z"
   },
   {
    "duration": 4,
    "start_time": "2024-07-08T18:40:20.275Z"
   },
   {
    "duration": 1413,
    "start_time": "2024-07-08T18:40:20.284Z"
   },
   {
    "duration": 10,
    "start_time": "2024-07-08T18:40:21.700Z"
   },
   {
    "duration": 17,
    "start_time": "2024-07-08T18:40:21.713Z"
   },
   {
    "duration": 19,
    "start_time": "2024-07-08T18:40:21.733Z"
   },
   {
    "duration": 18,
    "start_time": "2024-07-08T18:40:21.758Z"
   },
   {
    "duration": 5,
    "start_time": "2024-07-08T18:40:21.780Z"
   },
   {
    "duration": 43,
    "start_time": "2024-07-08T18:40:21.794Z"
   },
   {
    "duration": 25,
    "start_time": "2024-07-08T18:40:21.840Z"
   },
   {
    "duration": 5299,
    "start_time": "2024-07-08T18:40:21.868Z"
   },
   {
    "duration": 4,
    "start_time": "2024-07-08T18:40:27.174Z"
   },
   {
    "duration": 7,
    "start_time": "2024-07-08T18:40:27.182Z"
   },
   {
    "duration": 18,
    "start_time": "2024-07-08T18:40:27.192Z"
   },
   {
    "duration": 28,
    "start_time": "2024-07-08T18:40:27.213Z"
   },
   {
    "duration": 117,
    "start_time": "2024-07-08T18:40:27.250Z"
   },
   {
    "duration": 6,
    "start_time": "2024-07-08T18:40:27.370Z"
   },
   {
    "duration": 8,
    "start_time": "2024-07-08T18:40:27.380Z"
   },
   {
    "duration": 3,
    "start_time": "2024-07-08T18:40:27.392Z"
   },
   {
    "duration": 114,
    "start_time": "2024-07-08T18:40:27.431Z"
   },
   {
    "duration": 8,
    "start_time": "2024-07-08T18:40:27.548Z"
   },
   {
    "duration": 5,
    "start_time": "2024-07-08T18:40:27.564Z"
   },
   {
    "duration": 66,
    "start_time": "2024-07-08T18:40:27.572Z"
   },
   {
    "duration": 3015,
    "start_time": "2024-07-08T18:40:27.641Z"
   },
   {
    "duration": 1639,
    "start_time": "2024-07-08T18:40:30.659Z"
   },
   {
    "duration": 6,
    "start_time": "2024-07-08T18:40:32.302Z"
   },
   {
    "duration": 21,
    "start_time": "2024-07-08T18:40:32.312Z"
   },
   {
    "duration": 19,
    "start_time": "2024-07-08T18:40:32.336Z"
   },
   {
    "duration": 80,
    "start_time": "2024-07-08T18:40:32.358Z"
   },
   {
    "duration": 6,
    "start_time": "2024-07-08T18:40:32.441Z"
   },
   {
    "duration": 4,
    "start_time": "2024-07-08T18:40:32.451Z"
   },
   {
    "duration": 71,
    "start_time": "2024-07-08T18:40:32.459Z"
   },
   {
    "duration": 6,
    "start_time": "2024-07-08T18:40:32.533Z"
   },
   {
    "duration": 6,
    "start_time": "2024-07-08T18:40:32.541Z"
   },
   {
    "duration": 85,
    "start_time": "2024-07-08T18:40:32.550Z"
   },
   {
    "duration": 101,
    "start_time": "2024-07-08T18:40:32.638Z"
   },
   {
    "duration": 5,
    "start_time": "2024-07-08T18:40:32.743Z"
   },
   {
    "duration": 3,
    "start_time": "2024-07-08T18:40:32.752Z"
   },
   {
    "duration": 10,
    "start_time": "2024-07-08T18:40:32.758Z"
   },
   {
    "duration": 9,
    "start_time": "2024-07-08T18:40:32.771Z"
   }
  ],
  "kernelspec": {
   "display_name": "Python 3 (ipykernel)",
   "language": "python",
   "name": "python3"
  },
  "language_info": {
   "codemirror_mode": {
    "name": "ipython",
    "version": 3
   },
   "file_extension": ".py",
   "mimetype": "text/x-python",
   "name": "python",
   "nbconvert_exporter": "python",
   "pygments_lexer": "ipython3",
   "version": "3.9.19"
  },
  "toc": {
   "base_numbering": 1,
   "nav_menu": {},
   "number_sections": true,
   "sideBar": true,
   "skip_h1_title": true,
   "title_cell": "Table of Contents",
   "title_sidebar": "Contents",
   "toc_cell": false,
   "toc_position": {},
   "toc_section_display": true,
   "toc_window_display": false
  }
 },
 "nbformat": 4,
 "nbformat_minor": 4
}
