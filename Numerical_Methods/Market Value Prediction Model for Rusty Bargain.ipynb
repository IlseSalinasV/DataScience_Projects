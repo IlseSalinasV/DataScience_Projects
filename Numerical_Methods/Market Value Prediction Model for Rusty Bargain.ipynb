{
 "cells": [
  {
   "cell_type": "markdown",
   "metadata": {},
   "source": [
    "¡Hola!\n",
    "\n",
    "Mi nombre es Tonatiuh Cruz. Me complace revisar tu proyecto hoy.\n",
    "\n",
    "Al identificar cualquier error inicialmente, simplemente los destacaré. Te animo a localizar y abordar los problemas de forma independiente como parte de tu preparación para un rol como data-scientist. En un entorno profesional, tu líder de equipo seguiría un enfoque similar. Si encuentras la tarea desafiante, proporcionaré una pista más específica en la próxima iteración.\n",
    "\n",
    "Encontrarás mis comentarios a continuación - **por favor no los muevas, modifiques o elimines**.\n",
    "\n",
    "Puedes encontrar mis comentarios en cajas verdes, amarillas o rojas como esta:\n",
    "\n",
    "<div class=\"alert alert-block alert-success\">\n",
    "<b>Comentario del revisor</b> <a class=\"tocSkip\"></a>\n",
    "\n",
    "Éxito. Todo está hecho correctamente.\n",
    "</div>\n",
    "\n",
    "<div class=\"alert alert-block alert-warning\">\n",
    "<b>Comentario del revisor</b> <a class=\"tocSkip\"></a>\n",
    "\n",
    "Observaciones. Algunas recomendaciones.\n",
    "</div>\n",
    "\n",
    "<div class=\"alert alert-block alert-danger\">\n",
    "<b>Comentario del revisor</b> <a class=\"tocSkip\"></a>\n",
    "\n",
    "Necesita corrección. El bloque requiere algunas correcciones. El trabajo no puede ser aceptado con comentarios en rojo.\n",
    "</div>\n",
    "\n",
    "Puedes responderme utilizando esto:\n",
    "\n",
    "<div class=\"alert alert-block alert-info\">\n",
    "<b>Respuesta del estudiante.</b> <a class=\"tocSkip\"></a>\n",
    "</div>"
   ]
  },
  {
   "cell_type": "markdown",
   "metadata": {},
   "source": [
    "<div class=\"alert alert-block alert-info\">\n",
    "<b>Respuesta estudiante.</b> <a class=\"tocSkip\"></a>\n",
    "    Hola, muchas gracias por revisar mi proyecto. En algunas secciones tuve dudas que no supe como resolver, me gustaria que me dieras feedback para saber como puedo solucionarlo ya que intente algunas formas que no resultaron. Nuevamente muchas gracias y estoy al pendiente de tu feedback. Bonito dia.\n",
    "</div>"
   ]
  },
  {
   "cell_type": "markdown",
   "metadata": {},
   "source": [
    "<div class=\"alert alert-block alert-warning\">\n",
    "<b>Resumen de la revisión 1</b> <a class=\"tocSkip\"></a>\n",
    "\n",
    "Hola Ilse! Te hice algunas observaciones sobre la preparación de datos que son muy importantes para evitar los errores que me comentaste en la sección de entrenamiento del modelo. Los dos motivos principales que están causando estos problemas es la separación que hiciste de las fechas, debido a que aumentan mucho la memoria usada durante el entrenamiento y además estás usando OHE con la variable model, la cual causa una explosión en las dimensiones del DF. Te dejé comentarios al final de la sección de preparación de los datos para que puedas corregir estos detalles. No dudes en dejarme tus preguntas y comentarios en la siguiente iteración.\n",
    "</div>\n"
   ]
  },
  {
   "cell_type": "markdown",
   "metadata": {},
   "source": [
    "<div class=\"alert alert-block alert-warning\">\n",
    "<b>Resumen de la revisión 2</b> <a class=\"tocSkip\"></a>\n",
    "\n",
    "Te dejé un comentario para mejorar la forma en la que estás codificando los datos, lo cual puede ser el motivo de tus complicaciones durante el entramiento de los modelos. Si los problemas persisten házmelo saber y lo atiendo en la siguiente iteración.\n",
    "</div>"
   ]
  },
  {
   "cell_type": "markdown",
   "metadata": {},
   "source": [
    "<div class=\"alert alert-block alert-warning\">\n",
    "<b>Resumen de la revisión 3</b> <a class=\"tocSkip\"></a>\n",
    "\n",
    "Excelente trabajo! Considera escribir una sugerencia final sobre qué modelo usar tomando en cuenta el tiempo de entrenamiento, el RMSE y algún otro criterio que consideres pertinente.\n",
    "</div>"
   ]
  },
  {
   "cell_type": "markdown",
   "metadata": {},
   "source": [
    "# Sprint 12 - Ilse Salinas\n",
    "# Descripción"
   ]
  },
  {
   "cell_type": "markdown",
   "metadata": {},
   "source": [
    "El servicio de venta de autos usados Rusty Bargain está desarrollando una aplicación para atraer nuevos clientes. Gracias a esa app, puedes averiguar rápidamente el valor de mercado de tu coche. Tienes acceso al historial: especificaciones técnicas, versiones de equipamiento y precios. Tienes que crear un modelo que determine el valor de mercado.\n",
    "A Rusty Bargain le interesa:\n",
    "- la calidad de la predicción;\n",
    "- la velocidad de la predicción;\n",
    "- el tiempo requerido para el entrenamiento"
   ]
  },
  {
   "cell_type": "markdown",
   "metadata": {},
   "source": [
    "## Preparación de datos"
   ]
  },
  {
   "cell_type": "code",
   "execution_count": 1,
   "metadata": {},
   "outputs": [],
   "source": [
    "# importar liberias\n",
    "import numpy as np\n",
    "import pandas as pd\n",
    "import re\n",
    "\n",
    "from sklearn.preprocessing import OrdinalEncoder\n",
    "from sklearn.model_selection import train_test_split, GridSearchCV\n",
    "from sklearn.model_selection import RandomizedSearchCV\n",
    "from sklearn.metrics import mean_squared_error\n",
    "from sklearn.preprocessing import StandardScaler\n",
    "\n",
    "from sklearn.tree import DecisionTreeRegressor\n",
    "from sklearn.linear_model import LinearRegression\n",
    "from sklearn.linear_model import SGDRegressor\n",
    "from sklearn.ensemble import RandomForestRegressor\n",
    "\n",
    "from sklearn.ensemble import GradientBoostingRegressor\n",
    "import lightgbm as lgb\n",
    "import catboost as cb\n",
    "import xgboost as xgb\n",
    "import time"
   ]
  },
  {
   "cell_type": "code",
   "execution_count": 2,
   "metadata": {},
   "outputs": [
    {
     "name": "stdout",
     "output_type": "stream",
     "text": [
      "Informacion del dataframe: \n",
      "\n",
      "<class 'pandas.core.frame.DataFrame'>\n",
      "RangeIndex: 354369 entries, 0 to 354368\n",
      "Data columns (total 16 columns):\n",
      " #   Column             Non-Null Count   Dtype \n",
      "---  ------             --------------   ----- \n",
      " 0   DateCrawled        354369 non-null  object\n",
      " 1   Price              354369 non-null  int64 \n",
      " 2   VehicleType        316879 non-null  object\n",
      " 3   RegistrationYear   354369 non-null  int64 \n",
      " 4   Gearbox            334536 non-null  object\n",
      " 5   Power              354369 non-null  int64 \n",
      " 6   Model              334664 non-null  object\n",
      " 7   Mileage            354369 non-null  int64 \n",
      " 8   RegistrationMonth  354369 non-null  int64 \n",
      " 9   FuelType           321474 non-null  object\n",
      " 10  Brand              354369 non-null  object\n",
      " 11  NotRepaired        283215 non-null  object\n",
      " 12  DateCreated        354369 non-null  object\n",
      " 13  NumberOfPictures   354369 non-null  int64 \n",
      " 14  PostalCode         354369 non-null  int64 \n",
      " 15  LastSeen           354369 non-null  object\n",
      "dtypes: int64(7), object(9)\n",
      "memory usage: 43.3+ MB\n"
     ]
    }
   ],
   "source": [
    "# leer dataframe e imprimir su informacion\n",
    "df= pd.read_csv('/datasets/car_data.csv')\n",
    "print('Informacion del dataframe: \\n')\n",
    "df.info()"
   ]
  },
  {
   "cell_type": "markdown",
   "metadata": {},
   "source": [
    "<div class=\"alert alert-block alert-success\">\n",
    "<b>Comentario del revisor</b> <a class=\"tocSkip\"></a>\n",
    "\n",
    "Cargaste las librerías y la información adecuadamente! Desde la tabla resultante de df.ifno() puedes observar que existen valores nulo y que las variables categóricas son de clase object.\n",
    "</div>\n"
   ]
  },
  {
   "cell_type": "code",
   "execution_count": 3,
   "metadata": {},
   "outputs": [
    {
     "name": "stdout",
     "output_type": "stream",
     "text": [
      "        DateCrawled  Price VehicleType  RegistrationYear Gearbox  Power  \\\n",
      "0  24/03/2016 11:52    480         NaN              1993  manual      0   \n",
      "1  24/03/2016 10:58  18300       coupe              2011  manual    190   \n",
      "2  14/03/2016 12:52   9800         suv              2004    auto    163   \n",
      "3  17/03/2016 16:54   1500       small              2001  manual     75   \n",
      "4  31/03/2016 17:25   3600       small              2008  manual     69   \n",
      "\n",
      "   Model  Mileage  RegistrationMonth  FuelType       Brand NotRepaired  \\\n",
      "0   golf   150000                  0    petrol  volkswagen         NaN   \n",
      "1    NaN   125000                  5  gasoline        audi         yes   \n",
      "2  grand   125000                  8  gasoline        jeep         NaN   \n",
      "3   golf   150000                  6    petrol  volkswagen          no   \n",
      "4  fabia    90000                  7  gasoline       skoda          no   \n",
      "\n",
      "        DateCreated  NumberOfPictures  PostalCode          LastSeen  \n",
      "0  24/03/2016 00:00                 0       70435  07/04/2016 03:16  \n",
      "1  24/03/2016 00:00                 0       66954  07/04/2016 01:46  \n",
      "2  14/03/2016 00:00                 0       90480  05/04/2016 12:47  \n",
      "3  17/03/2016 00:00                 0       91074  17/03/2016 17:40  \n",
      "4  31/03/2016 00:00                 0       60437  06/04/2016 10:17  \n"
     ]
    }
   ],
   "source": [
    "# imprimir muestra de dataframe\n",
    "print(df.head())"
   ]
  },
  {
   "cell_type": "code",
   "execution_count": 4,
   "metadata": {},
   "outputs": [
    {
     "name": "stdout",
     "output_type": "stream",
     "text": [
      "        DateCrawled  Price    VehicleType  RegistrationYear Gearbox  Power  \\\n",
      "0  24/03/2016 11:52    480  indeterminado              1993  manual      0   \n",
      "1  24/03/2016 10:58  18300          coupe              2011  manual    190   \n",
      "2  14/03/2016 12:52   9800            suv              2004    auto    163   \n",
      "3  17/03/2016 16:54   1500          small              2001  manual     75   \n",
      "4  31/03/2016 17:25   3600          small              2008  manual     69   \n",
      "\n",
      "           Model  Mileage  RegistrationMonth  FuelType       Brand  \\\n",
      "0           golf   150000                  0    petrol  volkswagen   \n",
      "1  indeterminado   125000                  5  gasoline        audi   \n",
      "2          grand   125000                  8  gasoline        jeep   \n",
      "3           golf   150000                  6    petrol  volkswagen   \n",
      "4          fabia    90000                  7  gasoline       skoda   \n",
      "\n",
      "     NotRepaired       DateCreated  NumberOfPictures  PostalCode  \\\n",
      "0  indeterminado  24/03/2016 00:00                 0       70435   \n",
      "1            yes  24/03/2016 00:00                 0       66954   \n",
      "2  indeterminado  14/03/2016 00:00                 0       90480   \n",
      "3             no  17/03/2016 00:00                 0       91074   \n",
      "4             no  31/03/2016 00:00                 0       60437   \n",
      "\n",
      "           LastSeen  \n",
      "0  07/04/2016 03:16  \n",
      "1  07/04/2016 01:46  \n",
      "2  05/04/2016 12:47  \n",
      "3  17/03/2016 17:40  \n",
      "4  06/04/2016 10:17  \n"
     ]
    }
   ],
   "source": [
    "# definir valores nulos en dataframe\n",
    "def rellenar_nulos(columna):\n",
    "    if columna.dtype == 'object':\n",
    "        return columna.fillna('indeterminado')\n",
    "    elif columna.dtype in ['int64']:\n",
    "        return columna.fillna(0)\n",
    "    return columna\n",
    "\n",
    "df =  df.apply(rellenar_nulos)\n",
    "print(df.head())"
   ]
  },
  {
   "cell_type": "markdown",
   "metadata": {},
   "source": [
    "<div class=\"alert alert-block alert-success\">\n",
    "<b>Comentario del revisor</b> <a class=\"tocSkip\"></a>\n",
    "\n",
    "Excelente! Rellenar los valores nulos con algún valor que exprese explícitamente que no se cuenta con la información es la mejor manera de proceder en este caso. De esa forma evitas supuestos sobre la distribución de la información. La desventaja sería que le agregas una categoría más a las variables, pero es algo que se puede manejar bien en los siguientes incisos.\n",
    "</div>\n"
   ]
  },
  {
   "cell_type": "code",
   "execution_count": 5,
   "metadata": {},
   "outputs": [
    {
     "name": "stdout",
     "output_type": "stream",
     "text": [
      "Total de filas duplicadas: 262\n",
      "Muestra de filas duplicadas:              DateCrawled  Price VehicleType  RegistrationYear Gearbox  Power  \\\n",
      "197715  05/03/2016 14:26   1150       small              2002  manual     60   \n",
      "9538    30/03/2016 22:43   1180       wagon              2001  manual    110   \n",
      "168537  28/03/2016 11:50   9000       coupe              2010  manual    140   \n",
      "\n",
      "          Model  Mileage  RegistrationMonth  FuelType    Brand NotRepaired  \\\n",
      "197715  1_reihe   150000                  2    petrol  peugeot          no   \n",
      "9538    6_reihe   150000                  9  gasoline    mazda          no   \n",
      "168537    astra    60000                  6    petrol     opel          no   \n",
      "\n",
      "             DateCreated  NumberOfPictures  PostalCode          LastSeen  \n",
      "197715  05/03/2016 00:00                 0       56368  07/03/2016 14:16  \n",
      "9538    30/03/2016 00:00                 0       33649  03/04/2016 14:19  \n",
      "168537  28/03/2016 00:00                 0       72510  30/03/2016 02:16  \n",
      "\n",
      "\n",
      "Dataframe sin duplicados\n"
     ]
    }
   ],
   "source": [
    "# manejar y eliminar filas duplicadas del dataframe\n",
    "def manejar_duplicados(df):\n",
    "    # contar filas duplicadas\n",
    "    duplicados_totales = df.duplicated().sum()\n",
    "    print(f'Total de filas duplicadas: {duplicados_totales}')\n",
    "    \n",
    "    muestra_duplicados =  df[df.duplicated(keep = False)]\n",
    "    print(f'Muestra de filas duplicadas: {muestra_duplicados.sample(3)}')\n",
    "    print('\\n')\n",
    "    \n",
    "    # elminar filas duplicadas\n",
    "    sin_duplicados = df.drop_duplicates()\n",
    "    print(f'Dataframe sin duplicados')\n",
    "    \n",
    "    return sin_duplicados\n",
    "\n",
    "df = manejar_duplicados(df)"
   ]
  },
  {
   "cell_type": "code",
   "execution_count": 6,
   "metadata": {},
   "outputs": [],
   "source": [
    "# cambiar el nombre de las columnas para que sean legibles e imprimir dataframe final a ocupar\n",
    "def insertar_guion_bajo(nombre):\n",
    "    return re.sub(r'(?<!^)(?=[A-Z])', '_', nombre).lower()\n",
    "df.columns = [insertar_guion_bajo(col) for col in df.columns]"
   ]
  },
  {
   "cell_type": "markdown",
   "metadata": {},
   "source": [
    "<div class=\"alert alert-block alert-danger\">\n",
    "<b>Comentario del revisor</b> <a class=\"tocSkip\"></a>\n",
    "\n",
    "Noté que este código es algo tardado, recomiendo que antes de procesar de esta forma las fechas revises si esas columnas realmente aportan algo al modelo. Uno de los objetivos durante la preparación de los datos es dejar únicamente las columnas que tengan poder explicativo sobre la variable target, el precio. La variable de last seen, por ejemplo, no aportaría al modelo. Es necesario que revises qué otras variables no aportarían y que las elimines.\n"
   ]
  },
  {
   "cell_type": "markdown",
   "metadata": {},
   "source": [
    "<div class=\"alert alert-block alert-info\">\n",
    "<b>Respuesta estudiante.</b> <a class=\"tocSkip\"></a>\n",
    "    Perfecto, muchas gracias por la observacion. En este caso estuve analizando las columnas que aportan y no a la variable objetivo del modelo y en este caso estaría descartando las siguientes: 'date_crawled','date_created','last_seen', 'number_of_pictures', 'postal_code'.\n",
    "</div>"
   ]
  },
  {
   "cell_type": "markdown",
   "metadata": {},
   "source": [
    "<div class=\"alert alert-block alert-success\">\n",
    "<b>Comentario del revisor</b> <a class=\"tocSkip\"></a>\n",
    "\n",
    "Excelente! Ninguna de las variables que eliminaste aportan a la predicción del precio de los autos.\n",
    "\n",
    "</div>"
   ]
  },
  {
   "cell_type": "code",
   "execution_count": 7,
   "metadata": {},
   "outputs": [],
   "source": [
    "# revisar valores invalidos en las columnas\n",
    "df = df[df['power'] > 0]\n",
    "df = df[(df['registration_year'] >= 1900) & (df['registration_year'] <= 2024)]\n",
    "df = df[(df['registration_month'] >= 1) & (df['registration_month'] <= 12)]\n",
    "\n",
    "# eliminar las columnas que no aportan a la variable objetivo 'price' para el modelo de ml\n",
    "features_eliminar = ['date_crawled', 'date_created', 'last_seen', 'number_of_pictures', 'postal_code']\n",
    "df_limpio = df.drop(columns=features_eliminar)\n",
    "\n",
    "# aplicar el one-hot encoding en columnas categoricas, excepto 'model'\n",
    "columnas_categoricas_sin_model = ['vehicle_type', 'gearbox', 'fuel_type', 'brand', 'not_repaired']\n",
    "df_sin_model = df_limpio.drop(columns=['model'])  # Usar df_limpio en lugar de df\n",
    "df_ohe = pd.get_dummies(df_sin_model, columns=columnas_categoricas_sin_model, drop_first=True)\n",
    "\n",
    "# aplicar ordinal encoding a la variable 'model'\n",
    "columnas_categoricas = ['model', 'vehicle_type', 'gearbox', 'fuel_type', 'brand', 'not_repaired']\n",
    "df_ordinal_encoding = df_limpio\n",
    "df_ordinal_encoding[columnas_categoricas] = OrdinalEncoder().fit_transform(df_ordinal_encoding[columnas_categoricas])"
   ]
  },
  {
   "cell_type": "markdown",
   "metadata": {},
   "source": [
    "<div class=\"alert alert-block alert-danger\">\n",
    "<b>Comentario del revisor</b> <a class=\"tocSkip\"></a>\n",
    "\n",
    "Es correcto aplicar OHE encoding a tus variables categóricas ya que la mayoría de modelos de ML no reconocer los valores categóricos en texto; sin embargo, mi recomendación es que para el OHE excluyas la variable model, ya que esta al tener muchas categorías vuelve muy lento el entrenamiento de los modelos. Pero debido a que es una variable muy importante, sugiero que la utilices con Ordinal Encoding. Entonces los pasos serían:\n",
    "    \n",
    "    1.- Crear una tabla nueva a partir del df original que no contenga model y sobre esa aplicar OHE.\n",
    "    2.- Crear otra tabla a partir del df original que contenga model y sobre ella aplicar Ordinal Encoding.\n",
    "    3.- Eliminar los features o variables que no aportarían a la predicción del precio, como last seen, date created, pictures y las que tú consideres.\n",
    "    4.- Revisar valores inválidos que puedan tener algunas variables, power por ejemplo tiene valores 0, lo cual es imposible. El año de registro también podría tener valores inválidos. Explora los features con los que te quedes para asegurar que todo esté en orden.\n",
    "    5.- La única variable de fecha clave en la predicción del precio es RegistrationYear y RegistrationMonth, quédate con ambas variables. \n",
    "\n",
    "(comentario antiguo)"
   ]
  },
  {
   "cell_type": "markdown",
   "metadata": {},
   "source": [
    "<div class=\"alert alert-block alert-danger\">\n",
    "<b>Comentario del revisor</b> <a class=\"tocSkip\"></a>\n",
    "\n",
    "Me parece que hubo una pequeña confusión con respecto a las codificaciones. En tu bloque de código de arriba estás aplicando correctamente el OHE excluyendo la columna model para evitar dimensiones muy grandes de tu tabla. Esta tabla con OHE ya la puedes usar para el entrenamiento del modelo. Ordinal Encoding es una codificación que se debe hacer a todas las variables categóricas y debe ser una tabla diferente a la de OHE. Te dejo un ejemplo de cómo reescribir tu bloque de código:\n",
    "    \n",
    "    # Es preferible eliminar los valores inválidos antes de codificar, de esta forma solo es necesario hacerlo una vez\n",
    "    \n",
    "    # revisar valores invalidos en las columnas\n",
    "    df = df[df['power'] > 0]\n",
    "    df = df[(df['registration_year'] >= 1900) & (df['registration_year'] <= 2024)]\n",
    "    df = df[(df['registration_month'] >= 1) & (df['registration_month'] <= 12)]\n",
    "\n",
    "    # eliminar las columnas que no aportan a la variable objetivo 'price' para el modelo de ml\n",
    "    features_eliminar = ['date_crawled', 'date_created', 'last_seen', 'number_of_pictures', 'postal_code']\n",
    "    df_limpio = df.drop(columns=features_eliminar)\n",
    "\n",
    "    # Aplicar el one-hot encoding en columnas categoricas, excepto 'model'\n",
    "    columnas_categoricas_sin_model = ['vehicle_type', 'gearbox', 'fuel_type', 'brand', 'not_repaired']\n",
    "    df_sin_model = df_limpio.drop(columns=['model'])  # Usar df_limpio en lugar de df\n",
    "    df_ohe = pd.get_dummies(df_sin_model, columns=columnas_categoricas_sin_model, drop_first=True)\n",
    "                                                                              \n",
    "    # Aplicar Ordinal Encoding\n",
    "    columnas_categoricas = ['model', 'vehicle_type', 'gearbox', 'fuel_type', 'brand', 'not_repaired']\n",
    "    df_ordinal_encoding = df_limpio\n",
    "    df_ordinal_encoding[columnas_categoricas] = OrdinalEncoder().fit_transform(df_ordinal_encoding[columnas_categoricas])\n",
    "\n",
    "                                                                              \n",
    "Algunas consideraciones que hay que tomar en cuenta con estas codificaciones es que usar una de las dos o ambas depende del modelo. Por ejemplo para la regresión lineal o regresión logística no se puede utilizar ordinal encoding, ya que este método convierte los textos de las categorías en un número y estos modelos asignan una relación lineal entre ellos, lo cual no es correcto y por lo tanto en estos modelos es obligatorio usar OHE a menos que se cambie la manera en la que se asignan valores a las categorías. Por otro lado, para los modelos como Random Forest o Árbol de decisión es preferible usar Ordinal Encoding ya que estos modelos pueden manejar adecuadamente las variables categóricas. Por último hay modelos como CatBoost para los que no es necesario codificar (a menos que se desee mejorar el rendimiento, como es nuestro caso) ya que puede interpretar las categorías de texto adecuadamente."
   ]
  },
  {
   "cell_type": "markdown",
   "metadata": {},
   "source": [
    "<div class=\"alert alert-block alert-info\">\n",
    "<b>Respuesta estudiante.</b> <a class=\"tocSkip\"></a>\n",
    "    Vale ya me quedo mas claro, muchas gracias por la observacion y la correccion. Anotare lo que me mencionaste en mis notas sobre el tipo de codificacion segun el modelo para no olvidarlo.\n",
    "</div>"
   ]
  },
  {
   "cell_type": "markdown",
   "metadata": {},
   "source": [
    "## Entrenamiento del modelo "
   ]
  },
  {
   "cell_type": "code",
   "execution_count": 8,
   "metadata": {},
   "outputs": [],
   "source": [
    "# dividir el dataframe en caracteristicas y objetivo\n",
    "# se ocuparan estas caracteristicas y objetivo para la regresion lineal \n",
    "features_1 = df_ohe.drop('price', axis = 1)\n",
    "target_1 = df_ohe['price'] \n",
    "\n",
    "# se ocuparan estas caracteristicas y objetivo para el arbol de dessicion y bosque aleatorio\n",
    "features_2 = df_ordinal_encoding.drop('price', axis = 1)\n",
    "target_2 = df_ordinal_encoding['price'] "
   ]
  },
  {
   "cell_type": "code",
   "execution_count": 9,
   "metadata": {},
   "outputs": [
    {
     "name": "stdout",
     "output_type": "stream",
     "text": [
      "Tamaño de features_train: (233464, 62)\n",
      "Tamaño de features_test: (58366, 62)\n",
      "Tamaño de target_train: (233464,)\n",
      "Tamaño de target_test: (58366,)\n",
      "\n",
      "\n",
      "Tamaño de features_train: (233464, 10)\n",
      "Tamaño de features_test: (58366, 10)\n",
      "Tamaño de target_train: (233464,)\n",
      "Tamaño de target_test: (58366,)\n"
     ]
    }
   ],
   "source": [
    "# dividir el dataframe en conjunto de entrenamiento y prueba - regresion lineal\n",
    "features_train_1, features_test_1, target_train_1, target_test_1 = train_test_split(features_1, target_1, test_size= 0.2, random_state = 12345)\n",
    "\n",
    "print(\"Tamaño de features_train:\", features_train_1.shape)\n",
    "print(\"Tamaño de features_test:\", features_test_1.shape)\n",
    "print(\"Tamaño de target_train:\", target_train_1.shape)\n",
    "print(\"Tamaño de target_test:\", target_test_1.shape)\n",
    "print(\"\\n\")\n",
    "\n",
    "# dividir el dataframe en conjunto de entrenamiento y prueba - arbol y bosque\n",
    "features_train_2, features_test_2, target_train_2, target_test_2 = train_test_split(features_2, target_2, test_size= 0.2, random_state = 12345)\n",
    "\n",
    "print(\"Tamaño de features_train:\", features_train_2.shape)\n",
    "print(\"Tamaño de features_test:\", features_test_2.shape)\n",
    "print(\"Tamaño de target_train:\", target_train_2.shape)\n",
    "print(\"Tamaño de target_test:\", target_test_2.shape)"
   ]
  },
  {
   "cell_type": "code",
   "execution_count": 10,
   "metadata": {},
   "outputs": [],
   "source": [
    "# funcion para evaluar los modelos donde se analizara la calidad, velocidad y tiempo\n",
    "def evaluate_model(model, features_train, target_train, features_test, target_test):\n",
    "    start_time = time.time()\n",
    "    model.fit(features_train, target_train)\n",
    "    train_time = time.time() - start_time\n",
    "    \n",
    "    target_pred_train = model.predict(features_train)\n",
    "    target_pred_test = model.predict(features_test)\n",
    "    \n",
    "    rmse_train = np.sqrt(mean_squared_error(target_train, target_pred_train))\n",
    "    rmse_test = np.sqrt(mean_squared_error(target_test, target_pred_test))\n",
    "    \n",
    "    return rmse_train, rmse_test, train_time"
   ]
  },
  {
   "cell_type": "markdown",
   "metadata": {},
   "source": [
    "### Modelo de arbol de desicion"
   ]
  },
  {
   "cell_type": "code",
   "execution_count": 11,
   "metadata": {},
   "outputs": [],
   "source": [
    "tree_model = DecisionTreeRegressor(random_state = 42)\n",
    "rmse_train_tree, rmse_test_tree, train_time_tree = evaluate_model(tree_model, features_train_2, target_train_2, features_test_2, target_test_2)"
   ]
  },
  {
   "cell_type": "code",
   "execution_count": 12,
   "metadata": {},
   "outputs": [
    {
     "name": "stdout",
     "output_type": "stream",
     "text": [
      "RMSE en entrenamiento: 548.307947984339\n",
      "RMSE en prueba: 2183.3133446424467\n",
      "Tiempo de entrenamiento: 1.514838457107544\n"
     ]
    }
   ],
   "source": [
    "# imprimir los resultados\n",
    "print(\"RMSE en entrenamiento:\", rmse_train_tree)\n",
    "print(\"RMSE en prueba:\", rmse_test_tree)\n",
    "print(\"Tiempo de entrenamiento:\", train_time_tree)"
   ]
  },
  {
   "cell_type": "markdown",
   "metadata": {},
   "source": [
    "### Modelo de bosque aleatorio"
   ]
  },
  {
   "cell_type": "markdown",
   "metadata": {},
   "source": [
    "<div class=\"alert alert-block alert-info\">\n",
    "<b>Respuesta estudiante.</b> <a class=\"tocSkip\"></a>\n",
    "    Hola necesito ayuda en esta seccion. Intente implementar tanto GridSearchCV como RandomizedSearchCV para elegir los mejores hiperparametros para el modelo de bosque aleatorio pero se tarda bastante tiempo en definirlos. Necesito alguna recomendacion para que seea mas rapido ya que quiero comparar los tiempos con los otros modelos. Definitivamenete la ejecucion de este es la mas lenta pero tal vez la mas precisa en cuanto a las metricas de precision y asi. Estuve investigando que para mejorar un modelo de bosque aleatorio, puedo combinarlo con técnicas de boosting en un enfoque de Stacking pero me gustaria saber si es la mejor solucion.\n",
    "</div>"
   ]
  },
  {
   "cell_type": "markdown",
   "metadata": {},
   "source": [
    "<div class=\"alert alert-block alert-warning\">\n",
    "<b>Comentario del revisor</b> <a class=\"tocSkip\"></a>\n",
    "    \n",
    "Recomendaría limitar el rango de los hiperparámetros para explorar menos combinaciones y mejorar tus tiempos:\n",
    "    \n",
    "    param_distributions = {\n",
    "    'n_estimators': [100, 200],\n",
    "    'max_depth': [10, 20],\n",
    "    'min_samples_split': [2, 5],\n",
    "    'min_samples_leaf': [1, 2],\n",
    "    'bootstrap': [True]\n",
    "    }\n",
    "\n",
    "En caso de que siga siendo muy tardado también puedes probar disminuyendo el número de iteraciones del RandomizedSearchCV a 20.\n",
    "</div>"
   ]
  },
  {
   "cell_type": "markdown",
   "metadata": {},
   "source": [
    "<div class=\"alert alert-block alert-info\">\n",
    "<b>Respuesta estudiante.</b> <a class=\"tocSkip\"></a>\n",
    "    Al final lo deje en 10 en vez de 20 iteraciones porque se tardaba mucho en elegir los mejores hiperparametros. Lo bueno es que estuve checando mas o menos el tiempo empleado en cada iteracion dependiendo de los hiperparameetros escogidos, es por eso que lo modifique a ssolo 10. \n",
    "</div>"
   ]
  },
  {
   "cell_type": "code",
   "execution_count": 13,
   "metadata": {},
   "outputs": [
    {
     "name": "stdout",
     "output_type": "stream",
     "text": [
      "Fitting 3 folds for each of 10 candidates, totalling 30 fits\n",
      "[CV] END bootstrap=True, max_depth=20, min_samples_leaf=2, min_samples_split=5, n_estimators=100; total time=  55.2s\n",
      "[CV] END bootstrap=True, max_depth=20, min_samples_leaf=2, min_samples_split=5, n_estimators=100; total time=  55.5s\n",
      "[CV] END bootstrap=True, max_depth=20, min_samples_leaf=2, min_samples_split=5, n_estimators=100; total time=  55.0s\n",
      "[CV] END bootstrap=True, max_depth=10, min_samples_leaf=1, min_samples_split=2, n_estimators=200; total time= 1.1min\n",
      "[CV] END bootstrap=True, max_depth=10, min_samples_leaf=1, min_samples_split=2, n_estimators=200; total time= 1.1min\n",
      "[CV] END bootstrap=True, max_depth=10, min_samples_leaf=1, min_samples_split=2, n_estimators=200; total time= 1.1min\n",
      "[CV] END bootstrap=True, max_depth=10, min_samples_leaf=2, min_samples_split=2, n_estimators=200; total time= 1.1min\n",
      "[CV] END bootstrap=True, max_depth=10, min_samples_leaf=2, min_samples_split=2, n_estimators=200; total time= 1.1min\n",
      "[CV] END bootstrap=True, max_depth=10, min_samples_leaf=2, min_samples_split=2, n_estimators=200; total time= 1.1min\n",
      "[CV] END bootstrap=True, max_depth=10, min_samples_leaf=2, min_samples_split=5, n_estimators=200; total time= 1.1min\n",
      "[CV] END bootstrap=True, max_depth=10, min_samples_leaf=2, min_samples_split=5, n_estimators=200; total time= 1.1min\n",
      "[CV] END bootstrap=True, max_depth=10, min_samples_leaf=2, min_samples_split=5, n_estimators=200; total time= 1.1min\n",
      "[CV] END bootstrap=True, max_depth=10, min_samples_leaf=2, min_samples_split=2, n_estimators=100; total time=  33.8s\n",
      "[CV] END bootstrap=True, max_depth=10, min_samples_leaf=2, min_samples_split=2, n_estimators=100; total time=  33.3s\n",
      "[CV] END bootstrap=True, max_depth=10, min_samples_leaf=2, min_samples_split=2, n_estimators=100; total time=  33.3s\n",
      "[CV] END bootstrap=True, max_depth=20, min_samples_leaf=1, min_samples_split=2, n_estimators=200; total time= 1.9min\n",
      "[CV] END bootstrap=True, max_depth=20, min_samples_leaf=1, min_samples_split=2, n_estimators=200; total time= 1.9min\n",
      "[CV] END bootstrap=True, max_depth=20, min_samples_leaf=1, min_samples_split=2, n_estimators=200; total time= 1.9min\n",
      "[CV] END bootstrap=True, max_depth=20, min_samples_leaf=2, min_samples_split=2, n_estimators=100; total time=  54.5s\n",
      "[CV] END bootstrap=True, max_depth=20, min_samples_leaf=2, min_samples_split=2, n_estimators=100; total time=  54.2s\n",
      "[CV] END bootstrap=True, max_depth=20, min_samples_leaf=2, min_samples_split=2, n_estimators=100; total time=  54.3s\n",
      "[CV] END bootstrap=True, max_depth=10, min_samples_leaf=1, min_samples_split=5, n_estimators=100; total time=  33.0s\n",
      "[CV] END bootstrap=True, max_depth=10, min_samples_leaf=1, min_samples_split=5, n_estimators=100; total time=  33.0s\n",
      "[CV] END bootstrap=True, max_depth=10, min_samples_leaf=1, min_samples_split=5, n_estimators=100; total time=  33.5s\n",
      "[CV] END bootstrap=True, max_depth=20, min_samples_leaf=1, min_samples_split=2, n_estimators=100; total time=  57.7s\n",
      "[CV] END bootstrap=True, max_depth=20, min_samples_leaf=1, min_samples_split=2, n_estimators=100; total time=  57.3s\n",
      "[CV] END bootstrap=True, max_depth=20, min_samples_leaf=1, min_samples_split=2, n_estimators=100; total time=  57.4s\n",
      "[CV] END bootstrap=True, max_depth=20, min_samples_leaf=1, min_samples_split=5, n_estimators=200; total time= 1.8min\n",
      "[CV] END bootstrap=True, max_depth=20, min_samples_leaf=1, min_samples_split=5, n_estimators=200; total time= 1.8min\n",
      "[CV] END bootstrap=True, max_depth=20, min_samples_leaf=1, min_samples_split=5, n_estimators=200; total time= 1.8min\n",
      "Mejores parámetros: {'n_estimators': 200, 'min_samples_split': 5, 'min_samples_leaf': 1, 'max_depth': 20, 'bootstrap': True}\n"
     ]
    }
   ],
   "source": [
    "# definir hiperparametros para el modelo - de estos se escogera el mas optimo\n",
    "param_distributions = {\n",
    "'n_estimators': [100, 200],\n",
    "'max_depth': [10, 20],\n",
    "'min_samples_split': [2, 5],\n",
    "'min_samples_leaf': [1, 2],\n",
    "'bootstrap': [True]\n",
    "}\n",
    "\n",
    "forest_model = RandomForestRegressor(random_state=42)\n",
    "\n",
    "# crear el RandomizedSearchCV\n",
    "random_search = RandomizedSearchCV(estimator=forest_model, param_distributions=param_distributions,\n",
    "                                    n_iter=10, cv=3, scoring='neg_mean_squared_error', n_jobs=-1, verbose=2)\n",
    "\n",
    "# ejecutar la busqueda\n",
    "start_time = time.time()\n",
    "random_search.fit(features_train_2, target_train_2)\n",
    "search_time = time.time() - start_time\n",
    "\n",
    "# obtener los mejores parametros\n",
    "best_params = random_search.best_params_\n",
    "print(f\"Mejores parámetros: {best_params}\")\n",
    "\n",
    "# evaluar el mejor modelo encontrado\n",
    "best_random_forest = random_search.best_estimator_"
   ]
  },
  {
   "cell_type": "code",
   "execution_count": 14,
   "metadata": {},
   "outputs": [],
   "source": [
    "rmse_train_forest, rmse_test_forest, train_time_forest = evaluate_model(best_random_forest, features_train_2, target_train_2, features_test_2, target_test_2)"
   ]
  },
  {
   "cell_type": "code",
   "execution_count": 15,
   "metadata": {},
   "outputs": [
    {
     "name": "stdout",
     "output_type": "stream",
     "text": [
      "RMSE en entrenamiento: 1050.266064917754\n",
      "RMSE en prueba: 1674.0575746409475\n",
      "Tiempo de entrenamiento: 160.28659796714783\n"
     ]
    }
   ],
   "source": [
    "# imprimir los resultados\n",
    "print(\"RMSE en entrenamiento:\", rmse_train_forest)\n",
    "print(\"RMSE en prueba:\", rmse_test_forest)\n",
    "print(\"Tiempo de entrenamiento:\", train_time_forest)"
   ]
  },
  {
   "cell_type": "markdown",
   "metadata": {},
   "source": [
    "### Modelo de regresion lineal"
   ]
  },
  {
   "cell_type": "code",
   "execution_count": 16,
   "metadata": {},
   "outputs": [],
   "source": [
    "linear_model = LinearRegression()\n",
    "rmse_train_linear, rmse_test_linear, train_time_linear = evaluate_model(linear_model, features_train_1, target_train_1, features_test_1, target_test_1)"
   ]
  },
  {
   "cell_type": "code",
   "execution_count": 17,
   "metadata": {},
   "outputs": [
    {
     "name": "stdout",
     "output_type": "stream",
     "text": [
      "RMSE en entrenamiento: 3012.998140715104\n",
      "RMSE en prueba: 3016.249127987058\n",
      "Tiempo de entrenamiento: 2.064915657043457\n"
     ]
    }
   ],
   "source": [
    "# imprimir los resultados\n",
    "print(\"RMSE en entrenamiento:\", rmse_train_linear)\n",
    "print(\"RMSE en prueba:\", rmse_test_linear)\n",
    "print(\"Tiempo de entrenamiento:\", train_time_linear)"
   ]
  },
  {
   "cell_type": "markdown",
   "metadata": {},
   "source": [
    "#### Prueba de cordura"
   ]
  },
  {
   "cell_type": "code",
   "execution_count": 18,
   "metadata": {},
   "outputs": [],
   "source": [
    "# sirve para asegurarme que la potenciacion esta funcionando correctamente\n",
    "boosting_model = GradientBoostingRegressor(n_estimators=100, learning_rate=0.1, max_depth=3)\n",
    "rmse_train_boosting, rmse_test_boosting, train_time_boosting = evaluate_model(boosting_model, features_train_1, target_train_1, features_test_1, target_test_1)"
   ]
  },
  {
   "cell_type": "code",
   "execution_count": 19,
   "metadata": {},
   "outputs": [
    {
     "name": "stdout",
     "output_type": "stream",
     "text": [
      "Boosting - RMSE en entrenamiento: 2040.040760011356\n",
      "Boosting - RMSE en prueba: 2057.4529147378366\n",
      "Boosting - Tiempo de entrenamiento: 44.71599984169006\n"
     ]
    }
   ],
   "source": [
    "print(\"Boosting - RMSE en entrenamiento:\", rmse_train_boosting)\n",
    "print(\"Boosting - RMSE en prueba:\", rmse_test_boosting)\n",
    "print(\"Boosting - Tiempo de entrenamiento:\", train_time_boosting)"
   ]
  },
  {
   "cell_type": "markdown",
   "metadata": {},
   "source": [
    "Al comparar ambos resultados, es decir, tanto el del modelo lineal como el modelo de potenciacion, siendo éste parte de la prueba de cordura para verificar que si esta funcionando correctamente, los valores de RMSE son mas bajos que los originales pero el tiempo de entrenamiento es significantemente mayor. Se sacrifica el tiempo por mayor precisión y felxibilidad en las métricas."
   ]
  },
  {
   "cell_type": "markdown",
   "metadata": {},
   "source": [
    "#### Descenso de gradiente estocástico"
   ]
  },
  {
   "cell_type": "markdown",
   "metadata": {},
   "source": [
    "<div class=\"alert alert-block alert-info\">\n",
    "<b>Respuesta estudiante.</b> <a class=\"tocSkip\"></a>\n",
    "   Aqui creo que funciona peor la aplicacion del gradiente en la regresion lineal que la misma regresion. No estoy muy segura de que podria hacer para que fueran mejor los tiempos y resultados que la regresion lineal original ya que hice la prueba de cordura y salio bien pero no se si estoy pasando por alto algun detalle.   \n",
    "</div>"
   ]
  },
  {
   "cell_type": "markdown",
   "metadata": {},
   "source": [
    "<div class=\"alert alert-block alert-warning\">\n",
    "<b>Comentario del revisor</b> <a class=\"tocSkip\"></a>\n",
    "\n",
    "El modelo puede estar siendo afectado debido a la codificación que usaste en tu iteración anterior. Prueba a implementar los cambios que te sugerí y en caso de que persista me lo puedes volver a comentar.\n",
    "</div>"
   ]
  },
  {
   "cell_type": "code",
   "execution_count": 20,
   "metadata": {},
   "outputs": [],
   "source": [
    "# escalar las caracteristicas\n",
    "scaler = StandardScaler()\n",
    "features_train_scaled = scaler.fit_transform(features_train_1)\n",
    "features_test_scaled = scaler.transform(features_test_1)"
   ]
  },
  {
   "cell_type": "code",
   "execution_count": 31,
   "metadata": {},
   "outputs": [],
   "source": [
    "# modelo de regresion lineal con aplicacion del gradiente estocastico - ayuda a encontrar los valores optimos de los coeficientes que minimicen el error entre las predicciones \n",
    "# calcular el gradiente usando pequeñas partes del conjunto de entrenamiento (minilotes/lotes)\n",
    "sgd_regressor = SGDRegressor(max_iter=1000, tol=1e-3, learning_rate='optimal')\n",
    "rmse_train_sgd, rmse_test_sgd, train_time_sgd = evaluate_model(sgd_regressor, features_train_scaled, target_train_1, features_test_scaled, target_test_1)"
   ]
  },
  {
   "cell_type": "code",
   "execution_count": 32,
   "metadata": {},
   "outputs": [
    {
     "name": "stdout",
     "output_type": "stream",
     "text": [
      "RMSE en entrenamiento: 3049.2773555436565\n",
      "RMSE en prueba: 3056.4328359766114\n",
      "Tiempo de entrenamiento: 11.111968278884888\n"
     ]
    }
   ],
   "source": [
    "# imprimir los resultados\n",
    "print(\"RMSE en entrenamiento:\", rmse_train_sgd)\n",
    "print(\"RMSE en prueba:\", rmse_test_sgd)\n",
    "print(\"Tiempo de entrenamiento:\", train_time_sgd)"
   ]
  },
  {
   "cell_type": "markdown",
   "metadata": {},
   "source": [
    "### Tecnicas de Potenciacion del gradiente"
   ]
  },
  {
   "cell_type": "markdown",
   "metadata": {},
   "source": [
    "<div class=\"alert alert-block alert-info\">\n",
    "<b>Respuesta estudiante.</b> <a class=\"tocSkip\"></a>\n",
    "   Aqui no entiendo muy bien porque Catboost y XGBoost se tardan bastante en procesar. Creo que resolviendo el problema del descenso del gradiente de la regresion lineal estos funcionaran correctamente.   \n",
    "</div>"
   ]
  },
  {
   "cell_type": "markdown",
   "metadata": {},
   "source": [
    "<div class=\"alert alert-block alert-warning\">\n",
    "<b>Comentario del revisor</b> <a class=\"tocSkip\"></a>\n",
    "\n",
    "Lo ideal para el entrenamiento de estos modelos es Ordinal Encoding debido a que OHE aumenta considerablemente el tiempo de entrenamiento. Prueba a realizar los cambios sugeridos sobre la codificación y en caso de que persista me lo comentas y lo atiendo en la siguiente iteración.\n",
    "</div>"
   ]
  },
  {
   "cell_type": "markdown",
   "metadata": {},
   "source": [
    "#### LightGBM "
   ]
  },
  {
   "cell_type": "code",
   "execution_count": 23,
   "metadata": {},
   "outputs": [],
   "source": [
    "lgb_model = lgb.LGBMRegressor(random_state=42)\n",
    "param_grid_lgb = {'num_leaves': [31, 50], 'n_estimators': [100, 200], 'learning_rate': [0.1, 0.05]}\n",
    "lgb_search = GridSearchCV(lgb_model, param_grid_lgb, cv=3, scoring='neg_mean_squared_error', n_jobs=-1)\n",
    "rmse_train_lgb, rmse_test_lgb, train_time_lgb = evaluate_model(lgb_search, features_train_2, target_train_2, features_test_2, target_test_2)"
   ]
  },
  {
   "cell_type": "code",
   "execution_count": 24,
   "metadata": {},
   "outputs": [
    {
     "name": "stdout",
     "output_type": "stream",
     "text": [
      "RMSE en entrenamiento: 1626.3301752036452\n",
      "RMSE en prueba: 1720.0527752806831\n",
      "Tiempo de entrenamiento: 129.42557764053345\n"
     ]
    }
   ],
   "source": [
    "# imprimir los resultados\n",
    "print(\"RMSE en entrenamiento:\", rmse_train_lgb)\n",
    "print(\"RMSE en prueba:\", rmse_test_lgb)\n",
    "print(\"Tiempo de entrenamiento:\", train_time_lgb)"
   ]
  },
  {
   "cell_type": "markdown",
   "metadata": {},
   "source": [
    "#### Catboost "
   ]
  },
  {
   "cell_type": "code",
   "execution_count": 25,
   "metadata": {},
   "outputs": [],
   "source": [
    "cb_model = cb.CatBoostRegressor(random_seed=42, silent=True)\n",
    "param_grid_cb = {'depth': [6, 10], 'iterations': [100, 200], 'learning_rate': [0.1, 0.05]}\n",
    "cb_search = GridSearchCV(cb_model, param_grid_cb, cv=3, scoring='neg_mean_squared_error', n_jobs=-1)\n",
    "rmse_train_cb, rmse_test_cb, train_time_cb = evaluate_model(cb_search, features_train_2, target_train_2, features_test_2, target_test_2)"
   ]
  },
  {
   "cell_type": "code",
   "execution_count": 26,
   "metadata": {},
   "outputs": [
    {
     "name": "stdout",
     "output_type": "stream",
     "text": [
      "RMSE en entrenamiento: 1667.9620698186648\n",
      "RMSE en prueba: 1747.5186764329871\n",
      "Tiempo de entrenamiento: 269.46257734298706\n"
     ]
    }
   ],
   "source": [
    "# imprimir los resultados\n",
    "print(\"RMSE en entrenamiento:\", rmse_train_cb)\n",
    "print(\"RMSE en prueba:\", rmse_test_cb)\n",
    "print(\"Tiempo de entrenamiento:\", train_time_cb)"
   ]
  },
  {
   "cell_type": "markdown",
   "metadata": {},
   "source": [
    "#### XGBoost"
   ]
  },
  {
   "cell_type": "code",
   "execution_count": 27,
   "metadata": {},
   "outputs": [],
   "source": [
    "xgb_model = xgb.XGBRegressor(random_state=42, n_jobs=-1)\n",
    "param_grid_xgb = {'max_depth': [3, 6], 'n_estimators': [100, 200], 'learning_rate': [0.1, 0.05]}\n",
    "xgb_search = GridSearchCV(xgb_model, param_grid_xgb, cv=3, scoring='neg_mean_squared_error', n_jobs=-1)\n",
    "rmse_train_xgb, rmse_test_xgb, train_time_xgb = evaluate_model(xgb_search, features_train_2, target_train_2, features_test_2, target_test_2)"
   ]
  },
  {
   "cell_type": "code",
   "execution_count": 28,
   "metadata": {},
   "outputs": [
    {
     "name": "stdout",
     "output_type": "stream",
     "text": [
      "RMSE en entrenamiento: 1659.8840519031405\n",
      "RMSE en prueba: 1746.6738603975207\n",
      "Tiempo de entrenamiento: 674.4306752681732\n"
     ]
    }
   ],
   "source": [
    "# imprimir los resultados\n",
    "print(\"RMSE en entrenamiento:\", rmse_train_xgb)\n",
    "print(\"RMSE en prueba:\", rmse_test_xgb)\n",
    "print(\"Tiempo de entrenamiento:\", train_time_xgb)"
   ]
  },
  {
   "cell_type": "markdown",
   "metadata": {},
   "source": [
    "## Análisis del modelo"
   ]
  },
  {
   "cell_type": "code",
   "execution_count": 33,
   "metadata": {},
   "outputs": [],
   "source": [
    "# mostar resultados\n",
    "resultados = pd.DataFrame({\n",
    "    'Modelo': ['Regresion Lineal', 'SDG Gradiente Estocastico','Arbol de Desicion', 'Bosque Aleatorio', 'LightGBM', 'CatBoost', 'XGBoost'],\n",
    "    'RMSE Train': [rmse_train_linear, rmse_train_sgd, rmse_train_tree, rmse_train_forest, rmse_train_lgb, rmse_train_cb, rmse_train_xgb],\n",
    "    'RMSE Test': [rmse_test_linear, rmse_test_sgd, rmse_test_tree, rmse_test_forest, rmse_test_lgb, rmse_test_cb, rmse_test_xgb],\n",
    "    'Train Time (s)': [train_time_linear, train_time_sgd, train_time_tree, train_time_forest, train_time_lgb, train_time_cb, train_time_xgb]\n",
    "})"
   ]
  },
  {
   "cell_type": "code",
   "execution_count": 34,
   "metadata": {},
   "outputs": [
    {
     "name": "stdout",
     "output_type": "stream",
     "text": [
      "                       Model   RMSE Train    RMSE Test  Train Time (s)\n",
      "0           Regresion Lineal  3012.998141  3016.249128        2.064916\n",
      "1  SDG Gradiente Estocastico  3049.277356  3056.432836       11.111968\n",
      "2          Arbol de Desicion   548.307948  2183.313345        1.514838\n",
      "3           Bosque Aleatorio  1050.266065  1674.057575      160.286598\n",
      "4                   LightGBM  1626.330175  1720.052775      129.425578\n",
      "5                   CatBoost  1667.962070  1747.518676      269.462577\n",
      "6                    XGBoost  1659.884052  1746.673860      674.430675\n"
     ]
    }
   ],
   "source": [
    "print(resultados)"
   ]
  },
  {
   "cell_type": "markdown",
   "metadata": {},
   "source": [
    "# Lista de control"
   ]
  },
  {
   "cell_type": "markdown",
   "metadata": {},
   "source": [
    "Escribe 'x' para verificar. Luego presiona Shift+Enter"
   ]
  },
  {
   "cell_type": "markdown",
   "metadata": {},
   "source": [
    "- [x]  Jupyter Notebook está abierto\n",
    "- [ ]  El código no tiene errores- [ ]  Las celdas con el código han sido colocadas en orden de ejecución- [ ]  Los datos han sido descargados y preparados- [ ]  Los modelos han sido entrenados\n",
    "- [ ]  Se realizó el análisis de velocidad y calidad de los modelos"
   ]
  },
  {
   "cell_type": "code",
   "execution_count": null,
   "metadata": {},
   "outputs": [],
   "source": []
  }
 ],
 "metadata": {
  "ExecuteTimeLog": [
   {
    "duration": 15,
    "start_time": "2024-07-16T18:08:13.653Z"
   },
   {
    "duration": 434,
    "start_time": "2024-07-16T18:08:26.074Z"
   },
   {
    "duration": 374,
    "start_time": "2024-07-16T18:08:46.928Z"
   },
   {
    "duration": 1002,
    "start_time": "2024-07-16T18:08:58.557Z"
   },
   {
    "duration": 481,
    "start_time": "2024-07-16T18:09:06.528Z"
   },
   {
    "duration": 886,
    "start_time": "2024-07-16T18:09:07.013Z"
   },
   {
    "duration": 448,
    "start_time": "2024-07-16T18:24:41.817Z"
   },
   {
    "duration": 10,
    "start_time": "2024-07-16T18:24:53.489Z"
   },
   {
    "duration": 12,
    "start_time": "2024-07-16T18:25:01.312Z"
   },
   {
    "duration": 184,
    "start_time": "2024-07-16T18:28:55.286Z"
   },
   {
    "duration": 38,
    "start_time": "2024-07-16T18:29:25.837Z"
   },
   {
    "duration": 6,
    "start_time": "2024-07-16T18:30:05.305Z"
   },
   {
    "duration": 447,
    "start_time": "2024-07-16T18:30:37.605Z"
   },
   {
    "duration": 909,
    "start_time": "2024-07-16T18:30:38.055Z"
   },
   {
    "duration": 144,
    "start_time": "2024-07-16T18:30:38.969Z"
   },
   {
    "duration": 432,
    "start_time": "2024-07-16T18:30:59.812Z"
   },
   {
    "duration": 883,
    "start_time": "2024-07-16T18:31:00.249Z"
   },
   {
    "duration": 135,
    "start_time": "2024-07-16T18:31:01.135Z"
   },
   {
    "duration": 858,
    "start_time": "2024-07-16T18:31:10.754Z"
   },
   {
    "duration": 483,
    "start_time": "2024-07-16T18:31:27.244Z"
   },
   {
    "duration": 949,
    "start_time": "2024-07-16T18:31:27.730Z"
   },
   {
    "duration": 148,
    "start_time": "2024-07-16T18:31:28.681Z"
   },
   {
    "duration": 14,
    "start_time": "2024-07-16T18:32:54.291Z"
   },
   {
    "duration": 257,
    "start_time": "2024-07-16T18:39:01.960Z"
   },
   {
    "duration": 862,
    "start_time": "2024-07-16T18:49:17.351Z"
   },
   {
    "duration": 1306,
    "start_time": "2024-07-16T18:50:22.652Z"
   },
   {
    "duration": 439,
    "start_time": "2024-07-16T18:50:44.701Z"
   },
   {
    "duration": 859,
    "start_time": "2024-07-16T18:50:45.143Z"
   },
   {
    "duration": 27,
    "start_time": "2024-07-16T18:50:46.006Z"
   },
   {
    "duration": 254,
    "start_time": "2024-07-16T18:50:46.036Z"
   },
   {
    "duration": 1238,
    "start_time": "2024-07-16T18:50:46.293Z"
   },
   {
    "duration": 466,
    "start_time": "2024-07-16T18:51:16.723Z"
   },
   {
    "duration": 861,
    "start_time": "2024-07-16T18:51:17.192Z"
   },
   {
    "duration": 14,
    "start_time": "2024-07-16T18:51:18.056Z"
   },
   {
    "duration": 249,
    "start_time": "2024-07-16T18:51:18.074Z"
   },
   {
    "duration": 1226,
    "start_time": "2024-07-16T18:51:18.330Z"
   },
   {
    "duration": 458,
    "start_time": "2024-07-16T18:51:56.834Z"
   },
   {
    "duration": 862,
    "start_time": "2024-07-16T18:51:57.296Z"
   },
   {
    "duration": 13,
    "start_time": "2024-07-16T18:51:58.161Z"
   },
   {
    "duration": 256,
    "start_time": "2024-07-16T18:51:58.177Z"
   },
   {
    "duration": 1233,
    "start_time": "2024-07-16T18:51:58.438Z"
   },
   {
    "duration": 164,
    "start_time": "2024-07-16T18:52:50.602Z"
   },
   {
    "duration": 1291,
    "start_time": "2024-07-16T18:59:50.747Z"
   },
   {
    "duration": 935,
    "start_time": "2024-07-16T18:59:52.044Z"
   },
   {
    "duration": 13,
    "start_time": "2024-07-16T18:59:52.981Z"
   },
   {
    "duration": 263,
    "start_time": "2024-07-16T18:59:52.997Z"
   },
   {
    "duration": 1312,
    "start_time": "2024-07-16T18:59:53.265Z"
   },
   {
    "duration": 152,
    "start_time": "2024-07-16T18:59:54.580Z"
   },
   {
    "duration": 3,
    "start_time": "2024-07-16T18:59:54.736Z"
   },
   {
    "duration": 1188,
    "start_time": "2024-07-16T19:06:37.913Z"
   },
   {
    "duration": 902,
    "start_time": "2024-07-16T19:06:39.105Z"
   },
   {
    "duration": 26,
    "start_time": "2024-07-16T19:06:40.010Z"
   },
   {
    "duration": 273,
    "start_time": "2024-07-16T19:06:40.039Z"
   },
   {
    "duration": 1307,
    "start_time": "2024-07-16T19:06:40.316Z"
   },
   {
    "duration": 171,
    "start_time": "2024-07-16T19:06:41.630Z"
   },
   {
    "duration": 1308,
    "start_time": "2024-07-16T19:06:41.804Z"
   },
   {
    "duration": 1151,
    "start_time": "2024-07-16T19:09:07.286Z"
   },
   {
    "duration": 868,
    "start_time": "2024-07-16T19:09:08.440Z"
   },
   {
    "duration": 20,
    "start_time": "2024-07-16T19:09:09.311Z"
   },
   {
    "duration": 251,
    "start_time": "2024-07-16T19:09:09.334Z"
   },
   {
    "duration": 1315,
    "start_time": "2024-07-16T19:09:09.589Z"
   },
   {
    "duration": 151,
    "start_time": "2024-07-16T19:09:10.907Z"
   },
   {
    "duration": 40,
    "start_time": "2024-07-16T19:09:11.061Z"
   },
   {
    "duration": 178,
    "start_time": "2024-07-16T19:12:33.157Z"
   },
   {
    "duration": 367,
    "start_time": "2024-07-16T19:23:18.009Z"
   },
   {
    "duration": 1261,
    "start_time": "2024-07-17T17:58:42.862Z"
   },
   {
    "duration": 963,
    "start_time": "2024-07-17T17:58:44.126Z"
   },
   {
    "duration": 12,
    "start_time": "2024-07-17T17:58:45.093Z"
   },
   {
    "duration": 289,
    "start_time": "2024-07-17T17:58:45.110Z"
   },
   {
    "duration": 1367,
    "start_time": "2024-07-17T17:58:45.402Z"
   },
   {
    "duration": 5,
    "start_time": "2024-07-17T17:58:46.772Z"
   },
   {
    "duration": 81605,
    "start_time": "2024-07-17T17:58:46.781Z"
   },
   {
    "duration": 735,
    "start_time": "2024-07-17T18:00:08.390Z"
   },
   {
    "duration": 183,
    "start_time": "2024-07-17T18:00:09.128Z"
   },
   {
    "duration": 1029,
    "start_time": "2024-07-17T18:00:09.315Z"
   },
   {
    "duration": 759,
    "start_time": "2024-07-17T18:00:10.347Z"
   },
   {
    "duration": 1254,
    "start_time": "2024-07-17T18:06:08.089Z"
   },
   {
    "duration": 876,
    "start_time": "2024-07-17T18:06:09.347Z"
   },
   {
    "duration": 12,
    "start_time": "2024-07-17T18:06:10.226Z"
   },
   {
    "duration": 257,
    "start_time": "2024-07-17T18:06:10.241Z"
   },
   {
    "duration": 1304,
    "start_time": "2024-07-17T18:06:10.502Z"
   },
   {
    "duration": 4,
    "start_time": "2024-07-17T18:06:11.811Z"
   },
   {
    "duration": 77955,
    "start_time": "2024-07-17T18:06:11.819Z"
   },
   {
    "duration": 790,
    "start_time": "2024-07-17T18:07:29.777Z"
   },
   {
    "duration": 166,
    "start_time": "2024-07-17T18:07:30.570Z"
   },
   {
    "duration": 1056,
    "start_time": "2024-07-17T18:07:30.739Z"
   },
   {
    "duration": 17528,
    "start_time": "2024-07-17T18:07:31.798Z"
   },
   {
    "duration": 1213,
    "start_time": "2024-07-17T18:18:48.516Z"
   },
   {
    "duration": 896,
    "start_time": "2024-07-17T18:18:49.733Z"
   },
   {
    "duration": 13,
    "start_time": "2024-07-17T18:18:50.635Z"
   },
   {
    "duration": 272,
    "start_time": "2024-07-17T18:18:50.652Z"
   },
   {
    "duration": 1308,
    "start_time": "2024-07-17T18:18:50.928Z"
   },
   {
    "duration": 7,
    "start_time": "2024-07-17T18:18:52.239Z"
   },
   {
    "duration": 1247,
    "start_time": "2024-07-17T21:34:49.087Z"
   },
   {
    "duration": 920,
    "start_time": "2024-07-17T21:34:50.338Z"
   },
   {
    "duration": 12,
    "start_time": "2024-07-17T21:34:51.271Z"
   },
   {
    "duration": 249,
    "start_time": "2024-07-17T21:34:51.286Z"
   },
   {
    "duration": 1305,
    "start_time": "2024-07-17T21:34:51.539Z"
   },
   {
    "duration": 5,
    "start_time": "2024-07-17T21:34:52.847Z"
   },
   {
    "duration": 80144,
    "start_time": "2024-07-17T21:34:52.856Z"
   },
   {
    "duration": 761,
    "start_time": "2024-07-17T21:36:13.003Z"
   },
   {
    "duration": 179,
    "start_time": "2024-07-17T21:36:13.767Z"
   },
   {
    "duration": 1089,
    "start_time": "2024-07-17T21:36:13.950Z"
   },
   {
    "duration": 18001,
    "start_time": "2024-07-17T21:36:15.042Z"
   },
   {
    "duration": 1270,
    "start_time": "2024-07-17T21:40:25.587Z"
   },
   {
    "duration": 939,
    "start_time": "2024-07-17T21:40:26.862Z"
   },
   {
    "duration": 14,
    "start_time": "2024-07-17T21:40:27.804Z"
   },
   {
    "duration": 288,
    "start_time": "2024-07-17T21:40:27.822Z"
   },
   {
    "duration": 1358,
    "start_time": "2024-07-17T21:40:28.116Z"
   },
   {
    "duration": 6,
    "start_time": "2024-07-17T21:40:29.476Z"
   },
   {
    "duration": 80517,
    "start_time": "2024-07-17T21:40:29.485Z"
   },
   {
    "duration": 762,
    "start_time": "2024-07-17T21:41:50.005Z"
   },
   {
    "duration": 167,
    "start_time": "2024-07-17T21:41:50.770Z"
   },
   {
    "duration": 1078,
    "start_time": "2024-07-17T21:41:50.939Z"
   },
   {
    "duration": 17511,
    "start_time": "2024-07-17T21:41:52.020Z"
   },
   {
    "duration": 496,
    "start_time": "2024-07-17T21:42:09.534Z"
   },
   {
    "duration": 0,
    "start_time": "2024-07-17T21:42:10.033Z"
   },
   {
    "duration": 1262,
    "start_time": "2024-07-17T21:46:55.373Z"
   },
   {
    "duration": 895,
    "start_time": "2024-07-17T21:46:56.642Z"
   },
   {
    "duration": 13,
    "start_time": "2024-07-17T21:46:57.540Z"
   },
   {
    "duration": 277,
    "start_time": "2024-07-17T21:46:57.569Z"
   },
   {
    "duration": 1359,
    "start_time": "2024-07-17T21:46:57.854Z"
   },
   {
    "duration": 5,
    "start_time": "2024-07-17T21:46:59.216Z"
   },
   {
    "duration": 81806,
    "start_time": "2024-07-17T21:46:59.225Z"
   },
   {
    "duration": 760,
    "start_time": "2024-07-17T21:48:21.034Z"
   },
   {
    "duration": 179,
    "start_time": "2024-07-17T21:48:21.796Z"
   },
   {
    "duration": 1117,
    "start_time": "2024-07-17T21:48:21.977Z"
   },
   {
    "duration": 17439,
    "start_time": "2024-07-17T21:48:23.097Z"
   },
   {
    "duration": 269247,
    "start_time": "2024-07-17T21:48:40.540Z"
   },
   {
    "duration": 0,
    "start_time": "2024-07-17T21:53:09.789Z"
   },
   {
    "duration": 1509,
    "start_time": "2024-07-17T21:57:40.819Z"
   },
   {
    "duration": 850,
    "start_time": "2024-07-17T21:57:42.332Z"
   },
   {
    "duration": 12,
    "start_time": "2024-07-17T21:57:43.186Z"
   },
   {
    "duration": 261,
    "start_time": "2024-07-17T21:57:43.200Z"
   },
   {
    "duration": 1298,
    "start_time": "2024-07-17T21:57:43.474Z"
   },
   {
    "duration": 5,
    "start_time": "2024-07-17T21:57:44.775Z"
   },
   {
    "duration": 79858,
    "start_time": "2024-07-17T21:57:44.783Z"
   },
   {
    "duration": 763,
    "start_time": "2024-07-17T21:59:04.644Z"
   },
   {
    "duration": 174,
    "start_time": "2024-07-17T21:59:05.409Z"
   },
   {
    "duration": 1094,
    "start_time": "2024-07-17T21:59:05.586Z"
   },
   {
    "duration": 7,
    "start_time": "2024-07-17T21:59:06.683Z"
   },
   {
    "duration": 18096,
    "start_time": "2024-07-17T21:59:06.693Z"
   },
   {
    "duration": 1430,
    "start_time": "2024-07-17T22:03:02.636Z"
   },
   {
    "duration": 873,
    "start_time": "2024-07-17T22:03:04.069Z"
   },
   {
    "duration": 23,
    "start_time": "2024-07-17T22:03:04.945Z"
   },
   {
    "duration": 261,
    "start_time": "2024-07-17T22:03:04.971Z"
   },
   {
    "duration": 1347,
    "start_time": "2024-07-17T22:03:05.238Z"
   },
   {
    "duration": 6,
    "start_time": "2024-07-17T22:03:06.588Z"
   },
   {
    "duration": 79407,
    "start_time": "2024-07-17T22:03:06.599Z"
   },
   {
    "duration": 772,
    "start_time": "2024-07-17T22:04:26.009Z"
   },
   {
    "duration": 179,
    "start_time": "2024-07-17T22:04:26.783Z"
   },
   {
    "duration": 1097,
    "start_time": "2024-07-17T22:04:26.965Z"
   },
   {
    "duration": 8,
    "start_time": "2024-07-17T22:04:28.071Z"
   },
   {
    "duration": 509,
    "start_time": "2024-07-17T22:04:28.083Z"
   },
   {
    "duration": 0,
    "start_time": "2024-07-17T22:04:28.595Z"
   },
   {
    "duration": 0,
    "start_time": "2024-07-17T22:04:28.596Z"
   },
   {
    "duration": 0,
    "start_time": "2024-07-17T22:04:28.598Z"
   },
   {
    "duration": 1507,
    "start_time": "2024-07-17T22:05:13.771Z"
   },
   {
    "duration": 890,
    "start_time": "2024-07-17T22:05:15.284Z"
   },
   {
    "duration": 14,
    "start_time": "2024-07-17T22:05:16.178Z"
   },
   {
    "duration": 275,
    "start_time": "2024-07-17T22:05:16.195Z"
   },
   {
    "duration": 1350,
    "start_time": "2024-07-17T22:05:16.475Z"
   },
   {
    "duration": 11,
    "start_time": "2024-07-17T22:05:17.831Z"
   },
   {
    "duration": 82823,
    "start_time": "2024-07-17T22:05:17.845Z"
   },
   {
    "duration": 753,
    "start_time": "2024-07-17T22:06:40.671Z"
   },
   {
    "duration": 203,
    "start_time": "2024-07-17T22:06:41.426Z"
   },
   {
    "duration": 1080,
    "start_time": "2024-07-17T22:06:41.632Z"
   },
   {
    "duration": 6,
    "start_time": "2024-07-17T22:06:42.715Z"
   },
   {
    "duration": 1518,
    "start_time": "2024-07-17T22:41:27.873Z"
   },
   {
    "duration": 926,
    "start_time": "2024-07-17T22:41:29.394Z"
   },
   {
    "duration": 12,
    "start_time": "2024-07-17T22:41:30.323Z"
   },
   {
    "duration": 243,
    "start_time": "2024-07-17T22:41:30.338Z"
   },
   {
    "duration": 1214,
    "start_time": "2024-07-17T22:41:30.585Z"
   },
   {
    "duration": 5,
    "start_time": "2024-07-17T22:41:31.802Z"
   },
   {
    "duration": 79663,
    "start_time": "2024-07-17T22:41:31.810Z"
   },
   {
    "duration": 748,
    "start_time": "2024-07-17T22:42:51.478Z"
   },
   {
    "duration": 172,
    "start_time": "2024-07-17T22:42:52.229Z"
   },
   {
    "duration": 1047,
    "start_time": "2024-07-17T22:42:52.404Z"
   },
   {
    "duration": 5,
    "start_time": "2024-07-17T22:42:53.454Z"
   },
   {
    "duration": 1471,
    "start_time": "2024-07-17T22:46:08.192Z"
   },
   {
    "duration": 924,
    "start_time": "2024-07-17T22:46:09.666Z"
   },
   {
    "duration": 13,
    "start_time": "2024-07-17T22:46:10.593Z"
   },
   {
    "duration": 266,
    "start_time": "2024-07-17T22:46:10.609Z"
   },
   {
    "duration": 1310,
    "start_time": "2024-07-17T22:46:10.880Z"
   },
   {
    "duration": 8,
    "start_time": "2024-07-17T22:46:12.200Z"
   },
   {
    "duration": 81989,
    "start_time": "2024-07-17T22:46:12.211Z"
   },
   {
    "duration": 759,
    "start_time": "2024-07-17T22:47:34.204Z"
   },
   {
    "duration": 178,
    "start_time": "2024-07-17T22:47:34.968Z"
   },
   {
    "duration": 1081,
    "start_time": "2024-07-17T22:47:35.149Z"
   },
   {
    "duration": 6,
    "start_time": "2024-07-17T22:47:36.234Z"
   },
   {
    "duration": 18114,
    "start_time": "2024-07-17T22:47:36.244Z"
   },
   {
    "duration": 1484,
    "start_time": "2024-07-17T23:06:21.941Z"
   },
   {
    "duration": 919,
    "start_time": "2024-07-17T23:06:23.429Z"
   },
   {
    "duration": 24,
    "start_time": "2024-07-17T23:06:24.351Z"
   },
   {
    "duration": 244,
    "start_time": "2024-07-17T23:06:24.378Z"
   },
   {
    "duration": 1250,
    "start_time": "2024-07-17T23:06:24.626Z"
   },
   {
    "duration": 6,
    "start_time": "2024-07-17T23:06:25.879Z"
   },
   {
    "duration": 78852,
    "start_time": "2024-07-17T23:06:25.888Z"
   },
   {
    "duration": 766,
    "start_time": "2024-07-17T23:07:44.743Z"
   },
   {
    "duration": 180,
    "start_time": "2024-07-17T23:07:45.512Z"
   },
   {
    "duration": 1043,
    "start_time": "2024-07-17T23:07:45.696Z"
   },
   {
    "duration": 6,
    "start_time": "2024-07-17T23:07:46.742Z"
   },
   {
    "duration": 18100,
    "start_time": "2024-07-17T23:07:46.767Z"
   },
   {
    "duration": 10,
    "start_time": "2024-07-17T23:08:04.870Z"
   },
   {
    "duration": 1495,
    "start_time": "2024-07-18T00:13:38.690Z"
   },
   {
    "duration": 958,
    "start_time": "2024-07-18T00:13:40.192Z"
   },
   {
    "duration": 13,
    "start_time": "2024-07-18T00:13:41.155Z"
   },
   {
    "duration": 261,
    "start_time": "2024-07-18T00:13:41.173Z"
   },
   {
    "duration": 1265,
    "start_time": "2024-07-18T00:13:41.439Z"
   },
   {
    "duration": 5,
    "start_time": "2024-07-18T00:13:42.708Z"
   },
   {
    "duration": 80726,
    "start_time": "2024-07-18T00:13:42.725Z"
   },
   {
    "duration": 752,
    "start_time": "2024-07-18T00:15:03.454Z"
   },
   {
    "duration": 173,
    "start_time": "2024-07-18T00:15:04.209Z"
   },
   {
    "duration": 1106,
    "start_time": "2024-07-18T00:15:04.385Z"
   },
   {
    "duration": 7,
    "start_time": "2024-07-18T00:15:05.495Z"
   },
   {
    "duration": 18579,
    "start_time": "2024-07-18T00:15:05.507Z"
   },
   {
    "duration": 6,
    "start_time": "2024-07-18T00:15:24.088Z"
   },
   {
    "duration": 27,
    "start_time": "2024-07-18T00:15:24.099Z"
   },
   {
    "duration": 1584,
    "start_time": "2024-07-19T01:56:22.563Z"
   },
   {
    "duration": 986,
    "start_time": "2024-07-19T01:56:32.376Z"
   },
   {
    "duration": 17,
    "start_time": "2024-07-19T01:56:35.840Z"
   },
   {
    "duration": 10,
    "start_time": "2024-07-19T01:57:52.832Z"
   },
   {
    "duration": 228,
    "start_time": "2024-07-19T01:57:58.599Z"
   },
   {
    "duration": 1237,
    "start_time": "2024-07-19T01:59:51.560Z"
   },
   {
    "duration": 5,
    "start_time": "2024-07-19T02:38:27.778Z"
   },
   {
    "duration": 1466,
    "start_time": "2024-07-19T02:39:34.080Z"
   },
   {
    "duration": 893,
    "start_time": "2024-07-19T02:39:36.981Z"
   },
   {
    "duration": 13,
    "start_time": "2024-07-19T02:39:39.922Z"
   },
   {
    "duration": 237,
    "start_time": "2024-07-19T02:39:40.738Z"
   },
   {
    "duration": 1440,
    "start_time": "2024-07-19T02:39:42.395Z"
   },
   {
    "duration": 9,
    "start_time": "2024-07-19T02:39:45.360Z"
   },
   {
    "duration": 5,
    "start_time": "2024-07-19T02:39:50.224Z"
   },
   {
    "duration": 81887,
    "start_time": "2024-07-19T02:39:51.310Z"
   },
   {
    "duration": 724,
    "start_time": "2024-07-19T02:43:48.758Z"
   },
   {
    "duration": 64,
    "start_time": "2024-07-19T02:43:59.246Z"
   },
   {
    "duration": 1500,
    "start_time": "2024-07-21T01:52:38.971Z"
   },
   {
    "duration": 918,
    "start_time": "2024-07-21T01:52:40.475Z"
   },
   {
    "duration": 12,
    "start_time": "2024-07-21T01:52:41.396Z"
   },
   {
    "duration": 274,
    "start_time": "2024-07-21T01:52:41.411Z"
   },
   {
    "duration": 1317,
    "start_time": "2024-07-21T01:52:41.691Z"
   },
   {
    "duration": 5,
    "start_time": "2024-07-21T01:52:43.011Z"
   },
   {
    "duration": 10,
    "start_time": "2024-07-21T01:52:43.019Z"
   },
   {
    "duration": 0,
    "start_time": "2024-07-21T01:52:43.033Z"
   },
   {
    "duration": 0,
    "start_time": "2024-07-21T01:52:43.035Z"
   },
   {
    "duration": 0,
    "start_time": "2024-07-21T01:52:43.068Z"
   },
   {
    "duration": 0,
    "start_time": "2024-07-21T01:52:43.070Z"
   },
   {
    "duration": 0,
    "start_time": "2024-07-21T01:52:43.073Z"
   },
   {
    "duration": 0,
    "start_time": "2024-07-21T01:52:43.076Z"
   },
   {
    "duration": 0,
    "start_time": "2024-07-21T01:52:43.078Z"
   },
   {
    "duration": 0,
    "start_time": "2024-07-21T01:52:43.081Z"
   },
   {
    "duration": 0,
    "start_time": "2024-07-21T01:52:43.084Z"
   },
   {
    "duration": 0,
    "start_time": "2024-07-21T01:52:43.086Z"
   },
   {
    "duration": 0,
    "start_time": "2024-07-21T01:52:43.088Z"
   },
   {
    "duration": 0,
    "start_time": "2024-07-21T01:52:43.091Z"
   },
   {
    "duration": 0,
    "start_time": "2024-07-21T01:52:43.093Z"
   },
   {
    "duration": 1438,
    "start_time": "2024-07-21T01:53:53.398Z"
   },
   {
    "duration": 892,
    "start_time": "2024-07-21T01:53:54.839Z"
   },
   {
    "duration": 13,
    "start_time": "2024-07-21T01:53:55.734Z"
   },
   {
    "duration": 246,
    "start_time": "2024-07-21T01:53:55.769Z"
   },
   {
    "duration": 1272,
    "start_time": "2024-07-21T01:53:56.020Z"
   },
   {
    "duration": 6,
    "start_time": "2024-07-21T01:53:57.295Z"
   },
   {
    "duration": 2297,
    "start_time": "2024-07-21T01:53:57.304Z"
   },
   {
    "duration": 0,
    "start_time": "2024-07-21T01:53:59.604Z"
   },
   {
    "duration": 0,
    "start_time": "2024-07-21T01:53:59.606Z"
   },
   {
    "duration": 0,
    "start_time": "2024-07-21T01:53:59.608Z"
   },
   {
    "duration": 0,
    "start_time": "2024-07-21T01:53:59.610Z"
   },
   {
    "duration": 0,
    "start_time": "2024-07-21T01:53:59.613Z"
   },
   {
    "duration": 0,
    "start_time": "2024-07-21T01:53:59.615Z"
   },
   {
    "duration": 0,
    "start_time": "2024-07-21T01:53:59.617Z"
   },
   {
    "duration": 0,
    "start_time": "2024-07-21T01:53:59.619Z"
   },
   {
    "duration": 0,
    "start_time": "2024-07-21T01:53:59.620Z"
   },
   {
    "duration": 0,
    "start_time": "2024-07-21T01:53:59.623Z"
   },
   {
    "duration": 0,
    "start_time": "2024-07-21T01:53:59.625Z"
   },
   {
    "duration": 0,
    "start_time": "2024-07-21T01:53:59.627Z"
   },
   {
    "duration": 0,
    "start_time": "2024-07-21T01:53:59.668Z"
   },
   {
    "duration": 1514,
    "start_time": "2024-07-21T01:56:04.642Z"
   },
   {
    "duration": 895,
    "start_time": "2024-07-21T01:56:06.160Z"
   },
   {
    "duration": 22,
    "start_time": "2024-07-21T01:56:07.058Z"
   },
   {
    "duration": 256,
    "start_time": "2024-07-21T01:56:07.083Z"
   },
   {
    "duration": 1270,
    "start_time": "2024-07-21T01:56:07.343Z"
   },
   {
    "duration": 6,
    "start_time": "2024-07-21T01:56:08.615Z"
   },
   {
    "duration": 1853,
    "start_time": "2024-07-21T01:56:08.624Z"
   },
   {
    "duration": 0,
    "start_time": "2024-07-21T01:56:10.480Z"
   },
   {
    "duration": 0,
    "start_time": "2024-07-21T01:56:10.483Z"
   },
   {
    "duration": 0,
    "start_time": "2024-07-21T01:56:10.485Z"
   },
   {
    "duration": 0,
    "start_time": "2024-07-21T01:56:10.488Z"
   },
   {
    "duration": 0,
    "start_time": "2024-07-21T01:56:10.490Z"
   },
   {
    "duration": 0,
    "start_time": "2024-07-21T01:56:10.494Z"
   },
   {
    "duration": 0,
    "start_time": "2024-07-21T01:56:10.496Z"
   },
   {
    "duration": 0,
    "start_time": "2024-07-21T01:56:10.499Z"
   },
   {
    "duration": 0,
    "start_time": "2024-07-21T01:56:10.501Z"
   },
   {
    "duration": 0,
    "start_time": "2024-07-21T01:56:10.504Z"
   },
   {
    "duration": 0,
    "start_time": "2024-07-21T01:56:10.506Z"
   },
   {
    "duration": 0,
    "start_time": "2024-07-21T01:56:10.508Z"
   },
   {
    "duration": 0,
    "start_time": "2024-07-21T01:56:10.511Z"
   },
   {
    "duration": 1441,
    "start_time": "2024-07-21T01:57:12.011Z"
   },
   {
    "duration": 872,
    "start_time": "2024-07-21T01:57:13.455Z"
   },
   {
    "duration": 12,
    "start_time": "2024-07-21T01:57:14.329Z"
   },
   {
    "duration": 273,
    "start_time": "2024-07-21T01:57:14.345Z"
   },
   {
    "duration": 1370,
    "start_time": "2024-07-21T01:57:14.623Z"
   },
   {
    "duration": 6,
    "start_time": "2024-07-21T01:57:15.996Z"
   },
   {
    "duration": 1849,
    "start_time": "2024-07-21T01:57:16.006Z"
   },
   {
    "duration": 0,
    "start_time": "2024-07-21T01:57:17.861Z"
   },
   {
    "duration": 0,
    "start_time": "2024-07-21T01:57:17.868Z"
   },
   {
    "duration": 0,
    "start_time": "2024-07-21T01:57:17.870Z"
   },
   {
    "duration": 0,
    "start_time": "2024-07-21T01:57:17.872Z"
   },
   {
    "duration": 0,
    "start_time": "2024-07-21T01:57:17.874Z"
   },
   {
    "duration": 0,
    "start_time": "2024-07-21T01:57:17.881Z"
   },
   {
    "duration": 0,
    "start_time": "2024-07-21T01:57:17.883Z"
   },
   {
    "duration": 0,
    "start_time": "2024-07-21T01:57:17.886Z"
   },
   {
    "duration": 0,
    "start_time": "2024-07-21T01:57:17.889Z"
   },
   {
    "duration": 0,
    "start_time": "2024-07-21T01:57:17.892Z"
   },
   {
    "duration": 0,
    "start_time": "2024-07-21T01:57:17.894Z"
   },
   {
    "duration": 0,
    "start_time": "2024-07-21T01:57:17.896Z"
   },
   {
    "duration": 0,
    "start_time": "2024-07-21T01:57:17.900Z"
   },
   {
    "duration": 1444,
    "start_time": "2024-07-21T01:58:49.004Z"
   },
   {
    "duration": 882,
    "start_time": "2024-07-21T01:58:50.452Z"
   },
   {
    "duration": 14,
    "start_time": "2024-07-21T01:58:51.338Z"
   },
   {
    "duration": 243,
    "start_time": "2024-07-21T01:58:51.370Z"
   },
   {
    "duration": 1319,
    "start_time": "2024-07-21T01:58:51.618Z"
   },
   {
    "duration": 6,
    "start_time": "2024-07-21T01:58:52.940Z"
   },
   {
    "duration": 582,
    "start_time": "2024-07-21T01:58:52.949Z"
   },
   {
    "duration": 48,
    "start_time": "2024-07-21T01:58:53.535Z"
   },
   {
    "duration": 180,
    "start_time": "2024-07-21T01:58:53.586Z"
   },
   {
    "duration": 5,
    "start_time": "2024-07-21T01:58:53.769Z"
   },
   {
    "duration": 412,
    "start_time": "2024-07-21T01:58:53.777Z"
   },
   {
    "duration": 0,
    "start_time": "2024-07-21T01:58:54.192Z"
   },
   {
    "duration": 0,
    "start_time": "2024-07-21T01:58:54.195Z"
   },
   {
    "duration": 0,
    "start_time": "2024-07-21T01:58:54.196Z"
   },
   {
    "duration": 0,
    "start_time": "2024-07-21T01:58:54.198Z"
   },
   {
    "duration": 0,
    "start_time": "2024-07-21T01:58:54.201Z"
   },
   {
    "duration": 0,
    "start_time": "2024-07-21T01:58:54.203Z"
   },
   {
    "duration": 0,
    "start_time": "2024-07-21T01:58:54.205Z"
   },
   {
    "duration": 0,
    "start_time": "2024-07-21T01:58:54.207Z"
   },
   {
    "duration": 0,
    "start_time": "2024-07-21T01:58:54.211Z"
   },
   {
    "duration": 1494,
    "start_time": "2024-07-21T01:59:04.931Z"
   },
   {
    "duration": 872,
    "start_time": "2024-07-21T01:59:06.429Z"
   },
   {
    "duration": 14,
    "start_time": "2024-07-21T01:59:07.304Z"
   },
   {
    "duration": 263,
    "start_time": "2024-07-21T01:59:07.321Z"
   },
   {
    "duration": 1349,
    "start_time": "2024-07-21T01:59:07.589Z"
   },
   {
    "duration": 5,
    "start_time": "2024-07-21T01:59:08.941Z"
   },
   {
    "duration": 593,
    "start_time": "2024-07-21T01:59:08.949Z"
   },
   {
    "duration": 49,
    "start_time": "2024-07-21T01:59:09.545Z"
   },
   {
    "duration": 162,
    "start_time": "2024-07-21T01:59:09.597Z"
   },
   {
    "duration": 10,
    "start_time": "2024-07-21T01:59:09.762Z"
   },
   {
    "duration": 414,
    "start_time": "2024-07-21T01:59:09.774Z"
   },
   {
    "duration": 0,
    "start_time": "2024-07-21T01:59:10.192Z"
   },
   {
    "duration": 0,
    "start_time": "2024-07-21T01:59:10.194Z"
   },
   {
    "duration": 0,
    "start_time": "2024-07-21T01:59:10.197Z"
   },
   {
    "duration": 0,
    "start_time": "2024-07-21T01:59:10.199Z"
   },
   {
    "duration": 0,
    "start_time": "2024-07-21T01:59:10.201Z"
   },
   {
    "duration": 0,
    "start_time": "2024-07-21T01:59:10.204Z"
   },
   {
    "duration": 0,
    "start_time": "2024-07-21T01:59:10.206Z"
   },
   {
    "duration": 0,
    "start_time": "2024-07-21T01:59:10.209Z"
   },
   {
    "duration": 0,
    "start_time": "2024-07-21T01:59:10.211Z"
   },
   {
    "duration": 1465,
    "start_time": "2024-07-21T02:01:23.605Z"
   },
   {
    "duration": 888,
    "start_time": "2024-07-21T02:01:25.073Z"
   },
   {
    "duration": 14,
    "start_time": "2024-07-21T02:01:25.969Z"
   },
   {
    "duration": 261,
    "start_time": "2024-07-21T02:01:25.987Z"
   },
   {
    "duration": 1350,
    "start_time": "2024-07-21T02:01:26.252Z"
   },
   {
    "duration": 6,
    "start_time": "2024-07-21T02:01:27.606Z"
   },
   {
    "duration": 2009,
    "start_time": "2024-07-21T02:01:27.615Z"
   },
   {
    "duration": 0,
    "start_time": "2024-07-21T02:01:29.628Z"
   },
   {
    "duration": 0,
    "start_time": "2024-07-21T02:01:29.630Z"
   },
   {
    "duration": 0,
    "start_time": "2024-07-21T02:01:29.632Z"
   },
   {
    "duration": 0,
    "start_time": "2024-07-21T02:01:29.633Z"
   },
   {
    "duration": 0,
    "start_time": "2024-07-21T02:01:29.635Z"
   },
   {
    "duration": 0,
    "start_time": "2024-07-21T02:01:29.637Z"
   },
   {
    "duration": 0,
    "start_time": "2024-07-21T02:01:29.640Z"
   },
   {
    "duration": 0,
    "start_time": "2024-07-21T02:01:29.641Z"
   },
   {
    "duration": 0,
    "start_time": "2024-07-21T02:01:29.668Z"
   },
   {
    "duration": 0,
    "start_time": "2024-07-21T02:01:29.671Z"
   },
   {
    "duration": 0,
    "start_time": "2024-07-21T02:01:29.673Z"
   },
   {
    "duration": 0,
    "start_time": "2024-07-21T02:01:29.675Z"
   },
   {
    "duration": 0,
    "start_time": "2024-07-21T02:01:29.677Z"
   },
   {
    "duration": 1457,
    "start_time": "2024-07-21T02:01:39.967Z"
   },
   {
    "duration": 892,
    "start_time": "2024-07-21T02:01:41.428Z"
   },
   {
    "duration": 12,
    "start_time": "2024-07-21T02:01:42.323Z"
   },
   {
    "duration": 251,
    "start_time": "2024-07-21T02:01:42.339Z"
   },
   {
    "duration": 1260,
    "start_time": "2024-07-21T02:01:42.594Z"
   },
   {
    "duration": 11,
    "start_time": "2024-07-21T02:01:43.857Z"
   },
   {
    "duration": 915,
    "start_time": "2024-07-21T02:01:43.872Z"
   },
   {
    "duration": 43,
    "start_time": "2024-07-21T02:01:44.790Z"
   },
   {
    "duration": 250,
    "start_time": "2024-07-21T02:01:44.835Z"
   },
   {
    "duration": 5,
    "start_time": "2024-07-21T02:01:45.092Z"
   },
   {
    "duration": 431,
    "start_time": "2024-07-21T02:01:45.101Z"
   },
   {
    "duration": 0,
    "start_time": "2024-07-21T02:01:45.535Z"
   },
   {
    "duration": 0,
    "start_time": "2024-07-21T02:01:45.537Z"
   },
   {
    "duration": 0,
    "start_time": "2024-07-21T02:01:45.539Z"
   },
   {
    "duration": 0,
    "start_time": "2024-07-21T02:01:45.541Z"
   },
   {
    "duration": 0,
    "start_time": "2024-07-21T02:01:45.543Z"
   },
   {
    "duration": 0,
    "start_time": "2024-07-21T02:01:45.544Z"
   },
   {
    "duration": 0,
    "start_time": "2024-07-21T02:01:45.546Z"
   },
   {
    "duration": 0,
    "start_time": "2024-07-21T02:01:45.549Z"
   },
   {
    "duration": 0,
    "start_time": "2024-07-21T02:01:45.572Z"
   },
   {
    "duration": 1484,
    "start_time": "2024-07-21T02:02:57.836Z"
   },
   {
    "duration": 882,
    "start_time": "2024-07-21T02:02:59.323Z"
   },
   {
    "duration": 13,
    "start_time": "2024-07-21T02:03:00.208Z"
   },
   {
    "duration": 264,
    "start_time": "2024-07-21T02:03:00.224Z"
   },
   {
    "duration": 1229,
    "start_time": "2024-07-21T02:03:00.492Z"
   },
   {
    "duration": 6,
    "start_time": "2024-07-21T02:03:01.724Z"
   },
   {
    "duration": 1896,
    "start_time": "2024-07-21T02:03:01.734Z"
   },
   {
    "duration": 0,
    "start_time": "2024-07-21T02:03:03.633Z"
   },
   {
    "duration": 0,
    "start_time": "2024-07-21T02:03:03.636Z"
   },
   {
    "duration": 0,
    "start_time": "2024-07-21T02:03:03.638Z"
   },
   {
    "duration": 0,
    "start_time": "2024-07-21T02:03:03.641Z"
   },
   {
    "duration": 0,
    "start_time": "2024-07-21T02:03:03.643Z"
   },
   {
    "duration": 0,
    "start_time": "2024-07-21T02:03:03.646Z"
   },
   {
    "duration": 0,
    "start_time": "2024-07-21T02:03:03.647Z"
   },
   {
    "duration": 0,
    "start_time": "2024-07-21T02:03:03.668Z"
   },
   {
    "duration": 0,
    "start_time": "2024-07-21T02:03:03.671Z"
   },
   {
    "duration": 0,
    "start_time": "2024-07-21T02:03:03.674Z"
   },
   {
    "duration": 0,
    "start_time": "2024-07-21T02:03:03.676Z"
   },
   {
    "duration": 0,
    "start_time": "2024-07-21T02:03:03.679Z"
   },
   {
    "duration": 0,
    "start_time": "2024-07-21T02:03:03.680Z"
   },
   {
    "duration": 868,
    "start_time": "2024-07-21T02:04:07.419Z"
   },
   {
    "duration": 1548,
    "start_time": "2024-07-21T02:04:16.472Z"
   },
   {
    "duration": 886,
    "start_time": "2024-07-21T02:04:18.024Z"
   },
   {
    "duration": 14,
    "start_time": "2024-07-21T02:04:18.913Z"
   },
   {
    "duration": 270,
    "start_time": "2024-07-21T02:04:18.930Z"
   },
   {
    "duration": 1236,
    "start_time": "2024-07-21T02:04:19.204Z"
   },
   {
    "duration": 5,
    "start_time": "2024-07-21T02:04:20.443Z"
   },
   {
    "duration": 875,
    "start_time": "2024-07-21T02:04:20.452Z"
   },
   {
    "duration": 49,
    "start_time": "2024-07-21T02:04:21.332Z"
   },
   {
    "duration": 184,
    "start_time": "2024-07-21T02:04:21.383Z"
   },
   {
    "duration": 6,
    "start_time": "2024-07-21T02:04:21.570Z"
   },
   {
    "duration": 419,
    "start_time": "2024-07-21T02:04:21.580Z"
   },
   {
    "duration": 0,
    "start_time": "2024-07-21T02:04:22.002Z"
   },
   {
    "duration": 0,
    "start_time": "2024-07-21T02:04:22.005Z"
   },
   {
    "duration": 0,
    "start_time": "2024-07-21T02:04:22.007Z"
   },
   {
    "duration": 0,
    "start_time": "2024-07-21T02:04:22.009Z"
   },
   {
    "duration": 0,
    "start_time": "2024-07-21T02:04:22.012Z"
   },
   {
    "duration": 0,
    "start_time": "2024-07-21T02:04:22.015Z"
   },
   {
    "duration": 0,
    "start_time": "2024-07-21T02:04:22.016Z"
   },
   {
    "duration": 0,
    "start_time": "2024-07-21T02:04:22.019Z"
   },
   {
    "duration": 0,
    "start_time": "2024-07-21T02:04:22.024Z"
   },
   {
    "duration": 1422,
    "start_time": "2024-07-21T02:07:11.516Z"
   },
   {
    "duration": 886,
    "start_time": "2024-07-21T02:07:12.941Z"
   },
   {
    "duration": 12,
    "start_time": "2024-07-21T02:07:13.830Z"
   },
   {
    "duration": 265,
    "start_time": "2024-07-21T02:07:13.845Z"
   },
   {
    "duration": 1358,
    "start_time": "2024-07-21T02:07:14.115Z"
   },
   {
    "duration": 10,
    "start_time": "2024-07-21T02:07:15.476Z"
   },
   {
    "duration": 870,
    "start_time": "2024-07-21T02:07:15.489Z"
   },
   {
    "duration": 21,
    "start_time": "2024-07-21T02:07:16.362Z"
   },
   {
    "duration": 209,
    "start_time": "2024-07-21T02:07:16.385Z"
   },
   {
    "duration": 7,
    "start_time": "2024-07-21T02:07:16.599Z"
   },
   {
    "duration": 3725,
    "start_time": "2024-07-21T02:07:16.610Z"
   },
   {
    "duration": 5,
    "start_time": "2024-07-21T02:07:20.338Z"
   },
   {
    "duration": 26,
    "start_time": "2024-07-21T02:07:20.347Z"
   },
   {
    "duration": 1769,
    "start_time": "2024-07-21T02:07:20.380Z"
   },
   {
    "duration": 0,
    "start_time": "2024-07-21T02:07:22.152Z"
   },
   {
    "duration": 0,
    "start_time": "2024-07-21T02:07:22.153Z"
   },
   {
    "duration": 0,
    "start_time": "2024-07-21T02:07:22.155Z"
   },
   {
    "duration": 0,
    "start_time": "2024-07-21T02:07:22.168Z"
   },
   {
    "duration": 0,
    "start_time": "2024-07-21T02:07:22.170Z"
   },
   {
    "duration": 0,
    "start_time": "2024-07-21T02:07:22.172Z"
   },
   {
    "duration": 1475,
    "start_time": "2024-07-21T02:11:42.501Z"
   },
   {
    "duration": 893,
    "start_time": "2024-07-21T02:11:43.980Z"
   },
   {
    "duration": 14,
    "start_time": "2024-07-21T02:11:44.876Z"
   },
   {
    "duration": 274,
    "start_time": "2024-07-21T02:11:44.894Z"
   },
   {
    "duration": 1385,
    "start_time": "2024-07-21T02:11:45.173Z"
   },
   {
    "duration": 6,
    "start_time": "2024-07-21T02:11:46.569Z"
   },
   {
    "duration": 884,
    "start_time": "2024-07-21T02:11:46.579Z"
   },
   {
    "duration": 19,
    "start_time": "2024-07-21T02:11:47.467Z"
   },
   {
    "duration": 202,
    "start_time": "2024-07-21T02:11:47.489Z"
   },
   {
    "duration": 7,
    "start_time": "2024-07-21T02:11:47.695Z"
   },
   {
    "duration": 3710,
    "start_time": "2024-07-21T02:11:47.705Z"
   },
   {
    "duration": 5,
    "start_time": "2024-07-21T02:11:51.418Z"
   },
   {
    "duration": 2552,
    "start_time": "2024-07-21T02:11:51.426Z"
   },
   {
    "duration": 82,
    "start_time": "2024-07-21T02:11:53.987Z"
   },
   {
    "duration": 88,
    "start_time": "2024-07-21T02:11:54.079Z"
   },
   {
    "duration": 1806,
    "start_time": "2024-07-21T02:11:54.170Z"
   },
   {
    "duration": 0,
    "start_time": "2024-07-21T02:11:55.979Z"
   },
   {
    "duration": 0,
    "start_time": "2024-07-21T02:11:55.981Z"
   },
   {
    "duration": 0,
    "start_time": "2024-07-21T02:11:55.984Z"
   },
   {
    "duration": 0,
    "start_time": "2024-07-21T02:11:55.986Z"
   },
   {
    "duration": 0,
    "start_time": "2024-07-21T02:11:55.988Z"
   },
   {
    "duration": 1,
    "start_time": "2024-07-21T02:11:55.989Z"
   },
   {
    "duration": 1415,
    "start_time": "2024-07-21T02:16:19.322Z"
   },
   {
    "duration": 864,
    "start_time": "2024-07-21T02:16:20.741Z"
   },
   {
    "duration": 12,
    "start_time": "2024-07-21T02:16:21.609Z"
   },
   {
    "duration": 248,
    "start_time": "2024-07-21T02:16:21.625Z"
   },
   {
    "duration": 1236,
    "start_time": "2024-07-21T02:16:21.876Z"
   },
   {
    "duration": 6,
    "start_time": "2024-07-21T02:16:23.114Z"
   },
   {
    "duration": 867,
    "start_time": "2024-07-21T02:16:23.123Z"
   },
   {
    "duration": 19,
    "start_time": "2024-07-21T02:16:23.992Z"
   },
   {
    "duration": 192,
    "start_time": "2024-07-21T02:16:24.014Z"
   },
   {
    "duration": 5,
    "start_time": "2024-07-21T02:16:24.212Z"
   },
   {
    "duration": 3741,
    "start_time": "2024-07-21T02:16:24.220Z"
   },
   {
    "duration": 16,
    "start_time": "2024-07-21T02:16:27.963Z"
   },
   {
    "duration": 2504,
    "start_time": "2024-07-21T02:16:27.982Z"
   },
   {
    "duration": 80,
    "start_time": "2024-07-21T02:16:30.489Z"
   },
   {
    "duration": 84131,
    "start_time": "2024-07-21T02:16:30.572Z"
   },
   {
    "duration": 5,
    "start_time": "2024-07-21T02:17:54.769Z"
   },
   {
    "duration": 578,
    "start_time": "2024-07-21T02:17:54.777Z"
   },
   {
    "duration": 0,
    "start_time": "2024-07-21T02:17:55.357Z"
   },
   {
    "duration": 0,
    "start_time": "2024-07-21T02:17:55.361Z"
   },
   {
    "duration": 0,
    "start_time": "2024-07-21T02:17:55.368Z"
   },
   {
    "duration": 0,
    "start_time": "2024-07-21T02:17:55.370Z"
   },
   {
    "duration": 0,
    "start_time": "2024-07-21T02:17:55.373Z"
   },
   {
    "duration": 1475,
    "start_time": "2024-07-21T02:22:30.394Z"
   },
   {
    "duration": 867,
    "start_time": "2024-07-21T02:22:31.874Z"
   },
   {
    "duration": 20,
    "start_time": "2024-07-21T02:22:32.747Z"
   },
   {
    "duration": 256,
    "start_time": "2024-07-21T02:22:32.770Z"
   },
   {
    "duration": 1342,
    "start_time": "2024-07-21T02:22:33.031Z"
   },
   {
    "duration": 6,
    "start_time": "2024-07-21T02:22:34.376Z"
   },
   {
    "duration": 874,
    "start_time": "2024-07-21T02:22:34.385Z"
   },
   {
    "duration": 24,
    "start_time": "2024-07-21T02:22:35.262Z"
   },
   {
    "duration": 194,
    "start_time": "2024-07-21T02:22:35.288Z"
   },
   {
    "duration": 6,
    "start_time": "2024-07-21T02:22:35.485Z"
   },
   {
    "duration": 3711,
    "start_time": "2024-07-21T02:22:35.494Z"
   },
   {
    "duration": 6,
    "start_time": "2024-07-21T02:22:39.208Z"
   },
   {
    "duration": 2468,
    "start_time": "2024-07-21T02:22:39.218Z"
   },
   {
    "duration": 85,
    "start_time": "2024-07-21T02:22:41.691Z"
   },
   {
    "duration": 93900,
    "start_time": "2024-07-21T02:22:41.785Z"
   },
   {
    "duration": 82,
    "start_time": "2024-07-21T02:24:15.688Z"
   },
   {
    "duration": 4,
    "start_time": "2024-07-21T02:24:15.774Z"
   },
   {
    "duration": 155598,
    "start_time": "2024-07-21T02:24:15.781Z"
   },
   {
    "duration": 264134,
    "start_time": "2024-07-21T02:26:51.382Z"
   },
   {
    "duration": 1506,
    "start_time": "2024-07-21T02:35:29.659Z"
   },
   {
    "duration": 871,
    "start_time": "2024-07-21T02:35:31.169Z"
   },
   {
    "duration": 13,
    "start_time": "2024-07-21T02:35:32.043Z"
   },
   {
    "duration": 245,
    "start_time": "2024-07-21T02:35:32.072Z"
   },
   {
    "duration": 1219,
    "start_time": "2024-07-21T02:35:32.322Z"
   },
   {
    "duration": 5,
    "start_time": "2024-07-21T02:35:33.544Z"
   },
   {
    "duration": 861,
    "start_time": "2024-07-21T02:35:33.552Z"
   },
   {
    "duration": 20,
    "start_time": "2024-07-21T02:35:34.416Z"
   },
   {
    "duration": 205,
    "start_time": "2024-07-21T02:35:34.439Z"
   },
   {
    "duration": 20,
    "start_time": "2024-07-21T02:35:34.647Z"
   },
   {
    "duration": 3731,
    "start_time": "2024-07-21T02:35:34.670Z"
   },
   {
    "duration": 6,
    "start_time": "2024-07-21T02:35:38.403Z"
   },
   {
    "duration": 1548,
    "start_time": "2024-07-21T02:43:57.692Z"
   },
   {
    "duration": 961,
    "start_time": "2024-07-21T02:43:59.244Z"
   },
   {
    "duration": 12,
    "start_time": "2024-07-21T02:44:00.208Z"
   },
   {
    "duration": 264,
    "start_time": "2024-07-21T02:44:00.223Z"
   },
   {
    "duration": 1322,
    "start_time": "2024-07-21T02:44:00.491Z"
   },
   {
    "duration": 5,
    "start_time": "2024-07-21T02:44:01.816Z"
   },
   {
    "duration": 862,
    "start_time": "2024-07-21T02:44:01.825Z"
   },
   {
    "duration": 18,
    "start_time": "2024-07-21T02:44:02.690Z"
   },
   {
    "duration": 194,
    "start_time": "2024-07-21T02:44:02.711Z"
   },
   {
    "duration": 6,
    "start_time": "2024-07-21T02:44:02.909Z"
   },
   {
    "duration": 3656,
    "start_time": "2024-07-21T02:44:02.918Z"
   },
   {
    "duration": 5,
    "start_time": "2024-07-21T02:44:06.577Z"
   },
   {
    "duration": 527,
    "start_time": "2024-07-21T02:44:06.586Z"
   },
   {
    "duration": 0,
    "start_time": "2024-07-21T02:44:07.116Z"
   },
   {
    "duration": 0,
    "start_time": "2024-07-21T02:44:07.120Z"
   },
   {
    "duration": 0,
    "start_time": "2024-07-21T02:44:07.123Z"
   },
   {
    "duration": 0,
    "start_time": "2024-07-21T02:44:07.125Z"
   },
   {
    "duration": 0,
    "start_time": "2024-07-21T02:44:07.127Z"
   },
   {
    "duration": 0,
    "start_time": "2024-07-21T02:44:07.129Z"
   },
   {
    "duration": 0,
    "start_time": "2024-07-21T02:44:07.131Z"
   },
   {
    "duration": 0,
    "start_time": "2024-07-21T02:44:07.133Z"
   },
   {
    "duration": 0,
    "start_time": "2024-07-21T02:44:07.135Z"
   },
   {
    "duration": 0,
    "start_time": "2024-07-21T02:44:07.136Z"
   },
   {
    "duration": 0,
    "start_time": "2024-07-21T02:44:07.169Z"
   },
   {
    "duration": 0,
    "start_time": "2024-07-21T02:44:07.172Z"
   },
   {
    "duration": 1462,
    "start_time": "2024-07-21T02:44:27.328Z"
   },
   {
    "duration": 895,
    "start_time": "2024-07-21T02:44:28.795Z"
   },
   {
    "duration": 12,
    "start_time": "2024-07-21T02:44:29.693Z"
   },
   {
    "duration": 267,
    "start_time": "2024-07-21T02:44:29.709Z"
   },
   {
    "duration": 1316,
    "start_time": "2024-07-21T02:44:29.981Z"
   },
   {
    "duration": 5,
    "start_time": "2024-07-21T02:44:31.302Z"
   },
   {
    "duration": 871,
    "start_time": "2024-07-21T02:44:31.309Z"
   },
   {
    "duration": 20,
    "start_time": "2024-07-21T02:44:32.184Z"
   },
   {
    "duration": 206,
    "start_time": "2024-07-21T02:44:32.207Z"
   },
   {
    "duration": 6,
    "start_time": "2024-07-21T02:44:32.415Z"
   },
   {
    "duration": 3649,
    "start_time": "2024-07-21T02:44:32.425Z"
   },
   {
    "duration": 6,
    "start_time": "2024-07-21T02:44:36.076Z"
   },
   {
    "duration": 1495,
    "start_time": "2024-07-21T02:56:20.884Z"
   },
   {
    "duration": 884,
    "start_time": "2024-07-21T02:56:22.383Z"
   },
   {
    "duration": 13,
    "start_time": "2024-07-21T02:56:23.271Z"
   },
   {
    "duration": 267,
    "start_time": "2024-07-21T02:56:23.288Z"
   },
   {
    "duration": 1339,
    "start_time": "2024-07-21T02:56:23.560Z"
   },
   {
    "duration": 6,
    "start_time": "2024-07-21T02:56:24.901Z"
   },
   {
    "duration": 884,
    "start_time": "2024-07-21T02:56:24.911Z"
   },
   {
    "duration": 18,
    "start_time": "2024-07-21T02:56:25.798Z"
   },
   {
    "duration": 202,
    "start_time": "2024-07-21T02:56:25.820Z"
   },
   {
    "duration": 6,
    "start_time": "2024-07-21T02:56:26.025Z"
   },
   {
    "duration": 3716,
    "start_time": "2024-07-21T02:56:26.033Z"
   },
   {
    "duration": 5,
    "start_time": "2024-07-21T02:56:29.753Z"
   },
   {
    "duration": 1464,
    "start_time": "2024-07-21T03:03:00.787Z"
   },
   {
    "duration": 870,
    "start_time": "2024-07-21T03:03:02.255Z"
   },
   {
    "duration": 12,
    "start_time": "2024-07-21T03:03:03.128Z"
   },
   {
    "duration": 263,
    "start_time": "2024-07-21T03:03:03.143Z"
   },
   {
    "duration": 1263,
    "start_time": "2024-07-21T03:03:03.411Z"
   },
   {
    "duration": 5,
    "start_time": "2024-07-21T03:03:04.677Z"
   },
   {
    "duration": 871,
    "start_time": "2024-07-21T03:03:04.685Z"
   },
   {
    "duration": 27,
    "start_time": "2024-07-21T03:03:05.559Z"
   },
   {
    "duration": 201,
    "start_time": "2024-07-21T03:03:05.589Z"
   },
   {
    "duration": 6,
    "start_time": "2024-07-21T03:03:05.793Z"
   },
   {
    "duration": 3699,
    "start_time": "2024-07-21T03:03:05.801Z"
   },
   {
    "duration": 5,
    "start_time": "2024-07-21T03:03:09.503Z"
   },
   {
    "duration": 2484,
    "start_time": "2024-07-21T03:03:09.511Z"
   },
   {
    "duration": 7,
    "start_time": "2024-07-21T03:03:12.073Z"
   },
   {
    "duration": 384,
    "start_time": "2024-07-21T03:03:12.083Z"
   },
   {
    "duration": 568,
    "start_time": "2024-07-21T03:03:12.471Z"
   },
   {
    "duration": 1,
    "start_time": "2024-07-21T03:03:13.042Z"
   },
   {
    "duration": 0,
    "start_time": "2024-07-21T03:03:13.044Z"
   },
   {
    "duration": 0,
    "start_time": "2024-07-21T03:03:13.047Z"
   },
   {
    "duration": 0,
    "start_time": "2024-07-21T03:03:13.049Z"
   },
   {
    "duration": 0,
    "start_time": "2024-07-21T03:03:13.069Z"
   },
   {
    "duration": 0,
    "start_time": "2024-07-21T03:03:13.070Z"
   },
   {
    "duration": 1446,
    "start_time": "2024-07-21T03:07:32.911Z"
   },
   {
    "duration": 879,
    "start_time": "2024-07-21T03:07:34.360Z"
   },
   {
    "duration": 12,
    "start_time": "2024-07-21T03:07:35.242Z"
   },
   {
    "duration": 263,
    "start_time": "2024-07-21T03:07:35.270Z"
   },
   {
    "duration": 1367,
    "start_time": "2024-07-21T03:07:35.539Z"
   },
   {
    "duration": 7,
    "start_time": "2024-07-21T03:07:36.909Z"
   },
   {
    "duration": 878,
    "start_time": "2024-07-21T03:07:36.920Z"
   },
   {
    "duration": 20,
    "start_time": "2024-07-21T03:07:37.800Z"
   },
   {
    "duration": 215,
    "start_time": "2024-07-21T03:07:37.823Z"
   },
   {
    "duration": 8,
    "start_time": "2024-07-21T03:07:38.041Z"
   },
   {
    "duration": 3603,
    "start_time": "2024-07-21T03:07:38.073Z"
   },
   {
    "duration": 6,
    "start_time": "2024-07-21T03:07:41.679Z"
   },
   {
    "duration": 2479,
    "start_time": "2024-07-21T03:07:41.689Z"
   },
   {
    "duration": 6,
    "start_time": "2024-07-21T03:07:44.174Z"
   },
   {
    "duration": 404,
    "start_time": "2024-07-21T03:07:44.185Z"
   },
   {
    "duration": 104930,
    "start_time": "2024-07-21T03:07:44.592Z"
   },
   {
    "duration": 7,
    "start_time": "2024-07-21T03:09:29.567Z"
   },
   {
    "duration": 5,
    "start_time": "2024-07-21T03:09:29.578Z"
   },
   {
    "duration": 158900,
    "start_time": "2024-07-21T03:09:29.586Z"
   },
   {
    "duration": 263822,
    "start_time": "2024-07-21T03:12:08.489Z"
   },
   {
    "duration": 1583,
    "start_time": "2024-07-21T03:40:53.267Z"
   },
   {
    "duration": 922,
    "start_time": "2024-07-21T03:40:54.857Z"
   },
   {
    "duration": 14,
    "start_time": "2024-07-21T03:40:55.783Z"
   },
   {
    "duration": 284,
    "start_time": "2024-07-21T03:40:55.803Z"
   },
   {
    "duration": 1379,
    "start_time": "2024-07-21T03:40:56.093Z"
   },
   {
    "duration": 7,
    "start_time": "2024-07-21T03:40:57.475Z"
   },
   {
    "duration": 936,
    "start_time": "2024-07-21T03:40:57.485Z"
   },
   {
    "duration": 20,
    "start_time": "2024-07-21T03:40:58.425Z"
   },
   {
    "duration": 239,
    "start_time": "2024-07-21T03:40:58.449Z"
   },
   {
    "duration": 6,
    "start_time": "2024-07-21T03:40:58.691Z"
   },
   {
    "duration": 3781,
    "start_time": "2024-07-21T03:40:58.701Z"
   },
   {
    "duration": 6,
    "start_time": "2024-07-21T03:41:02.486Z"
   },
   {
    "duration": 2996,
    "start_time": "2024-07-21T03:41:02.496Z"
   },
   {
    "duration": 12,
    "start_time": "2024-07-21T03:41:05.580Z"
   },
   {
    "duration": 56753,
    "start_time": "2024-07-21T03:41:05.596Z"
   },
   {
    "duration": 17,
    "start_time": "2024-07-21T03:42:02.351Z"
   },
   {
    "duration": 314,
    "start_time": "2024-07-21T03:42:02.370Z"
   },
   {
    "duration": 102805,
    "start_time": "2024-07-21T03:42:02.686Z"
   },
   {
    "duration": 75,
    "start_time": "2024-07-21T03:43:45.495Z"
   },
   {
    "duration": 151329,
    "start_time": "2024-07-21T03:43:45.574Z"
   },
   {
    "duration": 263197,
    "start_time": "2024-07-21T03:46:16.906Z"
   },
   {
    "duration": 12,
    "start_time": "2024-07-23T02:43:19.249Z"
   },
   {
    "duration": 1539,
    "start_time": "2024-07-23T03:20:06.532Z"
   },
   {
    "duration": 944,
    "start_time": "2024-07-23T03:20:08.075Z"
   },
   {
    "duration": 12,
    "start_time": "2024-07-23T03:20:11.834Z"
   },
   {
    "duration": 228,
    "start_time": "2024-07-23T03:20:13.924Z"
   },
   {
    "duration": 1269,
    "start_time": "2024-07-23T03:20:16.028Z"
   },
   {
    "duration": 1787,
    "start_time": "2024-07-23T03:21:03.068Z"
   },
   {
    "duration": 1436,
    "start_time": "2024-07-23T03:21:12.411Z"
   },
   {
    "duration": 886,
    "start_time": "2024-07-23T03:21:13.851Z"
   },
   {
    "duration": 13,
    "start_time": "2024-07-23T03:21:14.740Z"
   },
   {
    "duration": 264,
    "start_time": "2024-07-23T03:21:14.755Z"
   },
   {
    "duration": 1272,
    "start_time": "2024-07-23T03:21:15.031Z"
   },
   {
    "duration": 5,
    "start_time": "2024-07-23T03:21:16.306Z"
   },
   {
    "duration": 343,
    "start_time": "2024-07-23T03:21:19.467Z"
   },
   {
    "duration": 16,
    "start_time": "2024-07-23T03:21:35.730Z"
   },
   {
    "duration": 131,
    "start_time": "2024-07-23T03:21:50.559Z"
   },
   {
    "duration": 152,
    "start_time": "2024-07-23T03:22:11.484Z"
   },
   {
    "duration": 1391,
    "start_time": "2024-07-23T06:52:14.358Z"
   },
   {
    "duration": 877,
    "start_time": "2024-07-23T06:52:15.753Z"
   },
   {
    "duration": 13,
    "start_time": "2024-07-23T06:52:16.634Z"
   },
   {
    "duration": 270,
    "start_time": "2024-07-23T06:52:16.651Z"
   },
   {
    "duration": 1276,
    "start_time": "2024-07-23T06:52:16.924Z"
   },
   {
    "duration": 5,
    "start_time": "2024-07-23T06:52:18.205Z"
   },
   {
    "duration": 851,
    "start_time": "2024-07-23T06:52:18.214Z"
   },
   {
    "duration": 1426,
    "start_time": "2024-07-23T07:02:37.505Z"
   },
   {
    "duration": 853,
    "start_time": "2024-07-23T07:02:38.934Z"
   },
   {
    "duration": 13,
    "start_time": "2024-07-23T07:02:39.791Z"
   },
   {
    "duration": 250,
    "start_time": "2024-07-23T07:02:39.807Z"
   },
   {
    "duration": 1220,
    "start_time": "2024-07-23T07:02:40.061Z"
   },
   {
    "duration": 5,
    "start_time": "2024-07-23T07:02:41.284Z"
   },
   {
    "duration": 1366,
    "start_time": "2024-07-23T07:03:03.255Z"
   },
   {
    "duration": 47,
    "start_time": "2024-07-23T07:03:12.810Z"
   },
   {
    "duration": 29,
    "start_time": "2024-07-23T07:03:20.001Z"
   },
   {
    "duration": 1475,
    "start_time": "2024-07-23T18:04:01.248Z"
   },
   {
    "duration": 900,
    "start_time": "2024-07-23T18:04:02.726Z"
   },
   {
    "duration": 12,
    "start_time": "2024-07-23T18:04:03.629Z"
   },
   {
    "duration": 246,
    "start_time": "2024-07-23T18:04:03.644Z"
   },
   {
    "duration": 1210,
    "start_time": "2024-07-23T18:04:03.895Z"
   },
   {
    "duration": 6,
    "start_time": "2024-07-23T18:04:05.108Z"
   },
   {
    "duration": 1387,
    "start_time": "2024-07-23T18:04:05.129Z"
   },
   {
    "duration": 38,
    "start_time": "2024-07-23T18:04:06.519Z"
   },
   {
    "duration": 234,
    "start_time": "2024-07-23T18:04:06.560Z"
   },
   {
    "duration": 6,
    "start_time": "2024-07-23T18:04:06.797Z"
   },
   {
    "duration": 1733,
    "start_time": "2024-07-23T18:04:06.806Z"
   },
   {
    "duration": 5,
    "start_time": "2024-07-23T18:04:08.542Z"
   },
   {
    "duration": 510,
    "start_time": "2024-07-23T18:04:08.550Z"
   },
   {
    "duration": 0,
    "start_time": "2024-07-23T18:04:09.064Z"
   },
   {
    "duration": 0,
    "start_time": "2024-07-23T18:04:09.067Z"
   },
   {
    "duration": 0,
    "start_time": "2024-07-23T18:04:09.069Z"
   },
   {
    "duration": 0,
    "start_time": "2024-07-23T18:04:09.071Z"
   },
   {
    "duration": 1,
    "start_time": "2024-07-23T18:04:09.074Z"
   },
   {
    "duration": 0,
    "start_time": "2024-07-23T18:04:09.077Z"
   },
   {
    "duration": 0,
    "start_time": "2024-07-23T18:04:09.079Z"
   },
   {
    "duration": 0,
    "start_time": "2024-07-23T18:04:09.081Z"
   },
   {
    "duration": 0,
    "start_time": "2024-07-23T18:04:09.084Z"
   },
   {
    "duration": 0,
    "start_time": "2024-07-23T18:04:09.086Z"
   },
   {
    "duration": 0,
    "start_time": "2024-07-23T18:04:09.127Z"
   },
   {
    "duration": 0,
    "start_time": "2024-07-23T18:04:09.129Z"
   },
   {
    "duration": 0,
    "start_time": "2024-07-23T18:04:09.132Z"
   },
   {
    "duration": 0,
    "start_time": "2024-07-23T18:04:09.134Z"
   },
   {
    "duration": 0,
    "start_time": "2024-07-23T18:04:09.137Z"
   },
   {
    "duration": 0,
    "start_time": "2024-07-23T18:04:09.139Z"
   },
   {
    "duration": 1411,
    "start_time": "2024-07-23T18:04:34.960Z"
   },
   {
    "duration": 857,
    "start_time": "2024-07-23T18:04:36.375Z"
   },
   {
    "duration": 12,
    "start_time": "2024-07-23T18:04:37.235Z"
   },
   {
    "duration": 267,
    "start_time": "2024-07-23T18:04:37.251Z"
   },
   {
    "duration": 1313,
    "start_time": "2024-07-23T18:04:37.527Z"
   },
   {
    "duration": 7,
    "start_time": "2024-07-23T18:04:38.843Z"
   },
   {
    "duration": 1449,
    "start_time": "2024-07-23T18:04:38.853Z"
   },
   {
    "duration": 47,
    "start_time": "2024-07-23T18:04:40.304Z"
   },
   {
    "duration": 227,
    "start_time": "2024-07-23T18:04:40.354Z"
   },
   {
    "duration": 6,
    "start_time": "2024-07-23T18:04:40.584Z"
   },
   {
    "duration": 1715,
    "start_time": "2024-07-23T18:04:40.594Z"
   },
   {
    "duration": 14,
    "start_time": "2024-07-23T18:04:42.312Z"
   },
   {
    "duration": 1403,
    "start_time": "2024-07-23T18:08:54.800Z"
   },
   {
    "duration": 914,
    "start_time": "2024-07-23T18:08:56.208Z"
   },
   {
    "duration": 13,
    "start_time": "2024-07-23T18:08:57.126Z"
   },
   {
    "duration": 245,
    "start_time": "2024-07-23T18:08:57.142Z"
   },
   {
    "duration": 1264,
    "start_time": "2024-07-23T18:08:57.399Z"
   },
   {
    "duration": 5,
    "start_time": "2024-07-23T18:08:58.666Z"
   },
   {
    "duration": 1392,
    "start_time": "2024-07-23T18:08:58.675Z"
   },
   {
    "duration": 35,
    "start_time": "2024-07-23T18:09:00.070Z"
   },
   {
    "duration": 240,
    "start_time": "2024-07-23T18:09:00.107Z"
   },
   {
    "duration": 5,
    "start_time": "2024-07-23T18:09:00.351Z"
   },
   {
    "duration": 1737,
    "start_time": "2024-07-23T18:09:00.360Z"
   },
   {
    "duration": 5,
    "start_time": "2024-07-23T18:09:02.099Z"
   },
   {
    "duration": 1388,
    "start_time": "2024-07-23T18:15:22.376Z"
   },
   {
    "duration": 874,
    "start_time": "2024-07-23T18:15:23.768Z"
   },
   {
    "duration": 12,
    "start_time": "2024-07-23T18:15:24.645Z"
   },
   {
    "duration": 257,
    "start_time": "2024-07-23T18:15:24.661Z"
   },
   {
    "duration": 1293,
    "start_time": "2024-07-23T18:15:24.927Z"
   },
   {
    "duration": 5,
    "start_time": "2024-07-23T18:15:26.227Z"
   },
   {
    "duration": 1383,
    "start_time": "2024-07-23T18:15:26.235Z"
   },
   {
    "duration": 39,
    "start_time": "2024-07-23T18:15:27.620Z"
   },
   {
    "duration": 245,
    "start_time": "2024-07-23T18:15:27.661Z"
   },
   {
    "duration": 6,
    "start_time": "2024-07-23T18:15:27.909Z"
   },
   {
    "duration": 1726,
    "start_time": "2024-07-23T18:15:27.926Z"
   },
   {
    "duration": 5,
    "start_time": "2024-07-23T18:15:29.655Z"
   },
   {
    "duration": 2141462,
    "start_time": "2024-07-23T18:15:29.663Z"
   },
   {
    "duration": 177530,
    "start_time": "2024-07-23T18:51:11.132Z"
   },
   {
    "duration": 5,
    "start_time": "2024-07-23T18:54:08.664Z"
   },
   {
    "duration": 2375,
    "start_time": "2024-07-23T18:54:08.672Z"
   },
   {
    "duration": 78,
    "start_time": "2024-07-23T18:54:11.050Z"
   },
   {
    "duration": 45721,
    "start_time": "2024-07-23T18:54:11.133Z"
   },
   {
    "duration": 4,
    "start_time": "2024-07-23T18:54:56.857Z"
   },
   {
    "duration": 399,
    "start_time": "2024-07-23T18:54:56.864Z"
   },
   {
    "duration": 97961,
    "start_time": "2024-07-23T18:54:57.265Z"
   },
   {
    "duration": 8,
    "start_time": "2024-07-23T18:56:35.234Z"
   },
   {
    "duration": 135083,
    "start_time": "2024-07-23T18:56:35.250Z"
   },
   {
    "duration": 6,
    "start_time": "2024-07-23T18:58:50.336Z"
   },
   {
    "duration": 269762,
    "start_time": "2024-07-23T18:58:50.346Z"
   },
   {
    "duration": 5,
    "start_time": "2024-07-23T19:03:20.111Z"
   },
   {
    "duration": 677033,
    "start_time": "2024-07-23T19:03:20.127Z"
   },
   {
    "duration": 8,
    "start_time": "2024-07-23T19:14:37.163Z"
   },
   {
    "duration": 52,
    "start_time": "2024-07-23T19:14:37.174Z"
   },
   {
    "duration": 8,
    "start_time": "2024-07-23T19:15:12.966Z"
   },
   {
    "duration": 11133,
    "start_time": "2024-07-23T19:20:39.748Z"
   },
   {
    "duration": 5,
    "start_time": "2024-07-23T19:20:56.281Z"
   },
   {
    "duration": 6,
    "start_time": "2024-07-23T19:23:17.020Z"
   },
   {
    "duration": 7,
    "start_time": "2024-07-23T19:23:18.646Z"
   }
  ],
  "kernelspec": {
   "display_name": "Python 3 (ipykernel)",
   "language": "python",
   "name": "python3"
  },
  "language_info": {
   "codemirror_mode": {
    "name": "ipython",
    "version": 3
   },
   "file_extension": ".py",
   "mimetype": "text/x-python",
   "name": "python",
   "nbconvert_exporter": "python",
   "pygments_lexer": "ipython3",
   "version": "3.9.19"
  },
  "toc": {
   "base_numbering": 1,
   "nav_menu": {},
   "number_sections": true,
   "sideBar": true,
   "skip_h1_title": true,
   "title_cell": "Table of Contents",
   "title_sidebar": "Contents",
   "toc_cell": false,
   "toc_position": {},
   "toc_section_display": true,
   "toc_window_display": false
  }
 },
 "nbformat": 4,
 "nbformat_minor": 2
}
