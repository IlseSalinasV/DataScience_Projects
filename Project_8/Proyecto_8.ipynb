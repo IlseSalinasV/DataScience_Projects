{
 "cells": [
  {
   "cell_type": "markdown",
   "metadata": {},
   "source": [
    "¡Hola Ilse! Como te va?\n",
    "\n",
    "Mi nombre es Facundo Lozano! Un gusto conocerte, seré tu revisor en este proyecto.\n",
    "\n",
    "A continuación un poco sobre la modalidad de revisión que usaremos:\n",
    "\n",
    "Cuando enccuentro un error por primera vez, simplemente lo señalaré, te dejaré encontrarlo y arreglarlo tú cuenta. Además, a lo largo del texto iré haciendo algunas observaciones sobre mejora en tu código y también haré comentarios sobre tus percepciones sobre el tema. Pero si aún no puedes realizar esta tarea, te daré una pista más precisa en la próxima iteración y también algunos ejemplos prácticos. Estaré abierto a comentarios y discusiones sobre el tema.\n",
    "\n",
    "Encontrará mis comentarios a continuación: **no los mueva, modifique ni elimine**.\n",
    "\n",
    "Puedes encontrar mis comentarios en cuadros verdes, amarillos o rojos como este:\n",
    "\n",
    "<div class=\"alert alert-block alert-success\">\n",
    "<b>Comentario del revisor.</b> <a class=\"tocSkip\"></a>\n",
    "\n",
    "Exito. Todo se ha hecho de forma exitosa.\n",
    "</div>\n",
    "\n",
    "<div class=\"alert alert-block alert-warning\">\n",
    "<b>Comentario del revisor.</b> <a class=\"tocSkip\"></a>\n",
    "\n",
    "Observación. Algunas recomendaciones.\n",
    "</div>\n",
    "\n",
    "<div class=\"alert alert-block alert-danger\">\n",
    "\n",
    "<b>Comentario del revisor.</b> <a class=\"tocSkip\"></a>\n",
    "\n",
    "Necesita arreglos. Este apartado necesita algunas correcciones. El trabajo no puede ser aceptado con comentarios rojos. \n",
    "</div>\n",
    "\n",
    "Puedes responder utilizando esto:\n",
    "\n",
    "<div class=\"alert alert-block alert-info\">\n",
    "<b>Respuesta de estudiante.</b> <a class=\"tocSkip\"></a>\n",
    "</div>"
   ]
  },
  {
   "cell_type": "markdown",
   "metadata": {},
   "source": [
    "# Proyecto Sprint 8 - Ilse Salinas\n",
    "## Descripción general\n",
    "La compañía móvil Megaline no está satisfecha al ver que muchos de sus clientes utilizan planes heredados. Quieren desarrollar un modelo que pueda analizar el comportamiento de los clientes y recomendar uno de los nuevos planes de Megaline: Smart o Ultra.\n",
    "\n",
    "Tienes acceso a los datos de comportamiento de los suscriptores que ya se han cambiado a los planes nuevos (del proyecto del sprint de Análisis estadístico de datos). Para esta tarea de clasificación debes crear un modelo que escoja el plan correcto. Como ya hiciste el paso de procesar los datos, puedes lanzarte directo a crear el modelo.\n",
    "\n",
    "Desarrolla un modelo con la mayor exactitud posible. En este proyecto, el umbral de exactitud es 0.75. Usa el dataset para comprobar la exactitud."
   ]
  },
  {
   "cell_type": "markdown",
   "metadata": {},
   "source": [
    "<div class=\"alert alert-block alert-success\">\n",
    "<b>Review General. (Iteración 1) </b> <a class=\"tocSkip\"></a>\n",
    "\n",
    "Ilse, siempre me tomo este tiempo al inicio de tu proyecto para comentarte mis apreciaciones generales de esta iteración de tu entrega.\n",
    "\n",
    "Me gusta comenzar dando la bienvenida al mundo de los datos a los estudiantes, te deseo lo mejor y espero que consigas lograr tus objetivos. Personalmente me gusta brindar el siguiente consejo, \"Está bien equivocarse, es normal y es lo mejor que te puede pasar. Aprendemos de los errores y eso te hará mejor programadora ya que podrás descubrir cosas a medida que avances y son estas cosas las que te darán esa experiencia para ser una gran Data Scientist\"\n",
    "    \n",
    "Ahora si yendo a esta notebook. Quería felicitarte Ilse porque has logrado resolver todos los pasos implementando grandes lógicas, se ha notado tu manejo sobre python y las herramientas ML utilizadas. Muy bien hecho!\n",
    "\n",
    "Tu trabajo está en condiciones de ser aprobado, te felicito nuevamente! Éxitos en tu camino dentro del mundo de los datos!\n",
    "\n",
    "Saludos!"
   ]
  },
  {
   "cell_type": "markdown",
   "metadata": {},
   "source": [
    "### Preprocesamiento de la información"
   ]
  },
  {
   "cell_type": "code",
   "execution_count": 1,
   "metadata": {},
   "outputs": [],
   "source": [
    "# Se importan todas las librerias utilizadas para la elaboracion de este proyecto\n",
    "import pandas as pd\n",
    "import numpy as np\n",
    "import matplotlib.pyplot as plt\n",
    "\n",
    "# Estas otras son para la generacion del modelo \n",
    "from sklearn.tree import DecisionTreeClassifier\n",
    "from sklearn.model_selection import train_test_split\n",
    "from sklearn.ensemble import RandomForestClassifier\n",
    "from sklearn.linear_model import LogisticRegression\n",
    "from sklearn.dummy import DummyClassifier\n",
    "from sklearn.metrics import accuracy_score, precision_score, recall_score, f1_score\n",
    "\n",
    "# Estas son liberias extras que considere en el desarrollo del proyecto\n",
    "from sklearn.model_selection import validation_curve\n",
    "from IPython.display import Image\n",
    "from sklearn.model_selection import GridSearchCV"
   ]
  },
  {
   "cell_type": "code",
   "execution_count": 2,
   "metadata": {},
   "outputs": [
    {
     "name": "stdout",
     "output_type": "stream",
     "text": [
      "<class 'pandas.core.frame.DataFrame'>\n",
      "RangeIndex: 3214 entries, 0 to 3213\n",
      "Data columns (total 5 columns):\n",
      " #   Column    Non-Null Count  Dtype  \n",
      "---  ------    --------------  -----  \n",
      " 0   calls     3214 non-null   float64\n",
      " 1   minutes   3214 non-null   float64\n",
      " 2   messages  3214 non-null   float64\n",
      " 3   mb_used   3214 non-null   float64\n",
      " 4   is_ultra  3214 non-null   int64  \n",
      "dtypes: float64(4), int64(1)\n",
      "memory usage: 125.7 KB\n",
      "\n",
      "   calls  minutes  messages   mb_used  is_ultra\n",
      "0   40.0   311.90      83.0  19915.42         0\n",
      "1   85.0   516.75      56.0  22696.96         0\n",
      "2   77.0   467.66      86.0  21060.45         0\n",
      "3  106.0   745.53      81.0   8437.39         1\n",
      "4   66.0   418.74       1.0  14502.75         0\n"
     ]
    }
   ],
   "source": [
    "# Abrimos y examinamos el dataset del proyecto \n",
    "df = pd.read_csv('/datasets/users_behavior.csv')\n",
    "df.info()\n",
    "print()\n",
    "\n",
    "print(df.head(5))"
   ]
  },
  {
   "cell_type": "markdown",
   "metadata": {},
   "source": [
    "<div class=\"alert alert-block alert-success\">\n",
    "\n",
    "<b>Comentario del revisor. (Iteración 1)\n",
    "    \n",
    "</b> <a class=\"tocSkip\"></a>\n",
    "\n",
    "    \n",
    "Excelente implementación de importaciones y carga de datos. Felicitaciones por mantener los procesos en celdas separadas! A la vez excelente implementación de los métodos para observar la composición de los datos!"
   ]
  },
  {
   "cell_type": "code",
   "execution_count": 3,
   "metadata": {},
   "outputs": [
    {
     "name": "stdout",
     "output_type": "stream",
     "text": [
      "   calls  minutes  messages    gb_used  is_ultra\n",
      "0   40.0   311.90      83.0  19.448652         0\n",
      "1   85.0   516.75      56.0  22.165000         0\n",
      "2   77.0   467.66      86.0  20.566846         0\n",
      "3  106.0   745.53      81.0   8.239639         1\n",
      "4   66.0   418.74       1.0  14.162842         0\n"
     ]
    }
   ],
   "source": [
    "# Para simplificar la tarea, en esta parte se convierte la columna de mb_used de megabytes a gigabytes\n",
    "def mb_to_gb(megabytes):\n",
    "    return megabytes / 1024\n",
    "\n",
    "df['mb_used'] = df['mb_used'].apply(lambda x: mb_to_gb(x))\n",
    "df.rename(columns={'mb_used': 'gb_used'}, inplace=True)\n",
    "print(df.head(5)) "
   ]
  },
  {
   "cell_type": "code",
   "execution_count": 4,
   "metadata": {},
   "outputs": [
    {
     "name": "stdout",
     "output_type": "stream",
     "text": [
      "   calls  minutes  messages    gb_used  is_ultra\n",
      "0     40   311.90        83  19.448652         0\n",
      "1     85   516.75        56  22.165000         0\n",
      "2     77   467.66        86  20.566846         0\n",
      "3    106   745.53        81   8.239639         1\n",
      "4     66   418.74         1  14.162842         0\n"
     ]
    }
   ],
   "source": [
    "# Tambien se cambiara el tipo de las columnas calls y messages de flotante a entero\n",
    "df['calls'] = df['calls'].astype(int)\n",
    "df['messages'] = df['messages'].astype(int)\n",
    "print(df.head(5))"
   ]
  },
  {
   "cell_type": "code",
   "execution_count": 5,
   "metadata": {},
   "outputs": [
    {
     "name": "stdout",
     "output_type": "stream",
     "text": [
      "Hay 0 datos duplicados. No es necesario descartar datos.\n"
     ]
    }
   ],
   "source": [
    "# Antes de proceder al analisis y planteamiento del modelo, se verifica si hay datos repetidos para poderlos descartar \n",
    "duplicados = df.duplicated()\n",
    "print('Hay {} datos duplicados. No es necesario descartar datos.'.format(duplicados.sum()))"
   ]
  },
  {
   "cell_type": "code",
   "execution_count": 6,
   "metadata": {},
   "outputs": [
    {
     "name": "stdout",
     "output_type": "stream",
     "text": [
      "Cantidad de planes Smart: 2229\n",
      "Cantidad de planes Ultra: 985\n"
     ]
    }
   ],
   "source": [
    "# Es importante tambien definir en la columna is_ultra cuantos corresponden a este plan y cuantos al otro\n",
    "# Si la columna tiene 1 es el plan Ultra si no es Smart\n",
    "# is_ultra — plan para el mes actual (Ultra - 1, Smart - 0).\n",
    "valores = df['is_ultra'].isin([0, 1])\n",
    "conteo = df.loc[valores, 'is_ultra'].value_counts()\n",
    "\n",
    "print(\"Cantidad de planes Smart:\", conteo.get(0, 0))\n",
    "print(\"Cantidad de planes Ultra:\", conteo.get(1, 0))"
   ]
  },
  {
   "cell_type": "markdown",
   "metadata": {},
   "source": [
    "<div class=\"alert alert-block alert-success\">\n",
    "\n",
    "<b>Comentario del revisor. (Iteración 1)\n",
    "    \n",
    "</b> <a class=\"tocSkip\"></a>\n",
    "\n",
    "    \n",
    "Excelente profundización sobre los tipos de datos de nuestras columnas y sobre el chequeo de duplicados."
   ]
  },
  {
   "cell_type": "markdown",
   "metadata": {},
   "source": [
    "### Segmentación de la Información\n",
    "Después de haber revisado el conjunto de datos, procedemos al análisis y generación de modelo. Para ello hay que primero pensar en las características y objetivo correspondientes y verificar si se trata de un modelo de clasificación o numérica. \n",
    "\n",
    "Si repasamos el objetivo que la compañía Megaline desea obtener, el modelo debe ser de clasificacion binaria ya que el resultado depende de uno de los dos planes que se quiere recomendar pues radica entre Smart o Ultra. Por lo tanto la columna is_ultra debe de ser tratada con objetivo mientras que el resto de las columnas fungen el papel de características. Habiendo definido esto, se puede proceder a la segmentacion de los datos para generar los conjuntos de entrenamiento, validacion y prueba."
   ]
  },
  {
   "cell_type": "markdown",
   "metadata": {},
   "source": [
    "Como el conjunto de prueba no existe, en este caso los datos fuente se deben dividir en tres partes: entrenamiento, validación y prueba. Usualmente, el tamaño del conjunto de validación y del de prueba son iguales. Esto da como resultado una proporción de datos fuente de 3:1:1, es decir, 60% para el conjunto de entrenamiento, 20% para el conjunto de validación y 20% para el conjunto de prueba como se muestra en la siguiente imagen."
   ]
  },
  {
   "cell_type": "code",
   "execution_count": 7,
   "metadata": {},
   "outputs": [
    {
     "data": {
      "image/png": "[encoded data removed]",
      "text/plain": [
       "<IPython.core.display.Image object>"
      ]
     },
     "execution_count": 7,
     "metadata": {
      "image/png": {
       "height": 500,
       "width": 500
      }
     },
     "output_type": "execute_result"
    }
   ],
   "source": [
    "Image(filename='segmentacion.png', width=500, height=500)\n",
    "# Los derechos de autor de esta imagen corresponde a Tripleten"
   ]
  },
  {
   "cell_type": "markdown",
   "metadata": {},
   "source": [
    "### Procedimiento de Generación de un Modelo de Aprendizaje\n",
    "\n",
    "Antes de continuar con el proyecto, es importante entender la razón por la que estos tres segmentos son esenciales para la generación del modelo. El modelo ciertamente antes de poder generar resultados necesita ser entrenado con información del dataset para poder después predecir y comparar información.\n",
    "Es por ello que los tres segmentos de datos son indispensables, ya que el conjunto de entrenamiento su propósito, como bien dice su nombre, es entrenar al modelo para que después aprenda patrones dentro del conjunto de datos alimentándose de las características y objetivo y ajustando sus parámetros para minimizar la pérdida (o error) en estos datos.\n",
    "Una vez que se tiene el modelo entrenado con la infromación, con el objetivo de verificar que esté funcionando correctamente, se le designa el conjunto de validación cuyo propísto es ajustar los hiperparámetros del modelo y evaluar su rendimiento.\n",
    "Finalmente, con el objetivo de obtener el mejor resultado del modelo decidido, se compara la salida de los datos del conjunto de validación con el de prueba y verificar que conjunto de datos da un resultado de exactitud mayor. Hay que recordar que entre más cercano sea el valor de la exactitud al número uno, más preciso es el modelo al obtener o predecir un resultado siendo éste eficiente para la tarea en cuestión.  "
   ]
  },
  {
   "cell_type": "markdown",
   "metadata": {},
   "source": [
    "En la siguiente imagen se puede observar a modo de diagrama el proceso descrito anteriormente para poder generar un modelo eficiente con el conjunto de datos mencionado."
   ]
  },
  {
   "cell_type": "code",
   "execution_count": 8,
   "metadata": {},
   "outputs": [
    {
     "data": {
      "image/png": "[encoded data removed]",
      "text/plain": [
       "<IPython.core.display.Image object>"
      ]
     },
     "execution_count": 8,
     "metadata": {
      "image/png": {
       "height": 500,
       "width": 500
      }
     },
     "output_type": "execute_result"
    }
   ],
   "source": [
    "Image(filename='procedimiento.png', width=500, height=500)\n",
    "# Los derechos de autor de esta imagen corresponde a Tripleten"
   ]
  },
  {
   "cell_type": "markdown",
   "metadata": {},
   "source": [
    "A continuación, en el siguiente código se puede observar la forma en la que el dataset es dividido en tres segmentos para la elaboración del modelo."
   ]
  },
  {
   "cell_type": "code",
   "execution_count": 9,
   "metadata": {},
   "outputs": [
    {
     "name": "stdout",
     "output_type": "stream",
     "text": [
      "(1928, 4)\n",
      "(1928,)\n",
      "\n",
      "(643, 4)\n",
      "(643,)\n",
      "\n",
      "(643, 4)\n",
      "(643,)\n"
     ]
    }
   ],
   "source": [
    "# Después de este paso, se procede a segmentar los datos fuente en un conjunto de entrenamiento, validación y prueba.\n",
    "# Se divide el conjunto de datos en entrenamiento (60%), validación (20%) y prueba (20%)\n",
    "df_train, df_restante = train_test_split(df, test_size=0.4, random_state=12345)\n",
    "df_valid, df_test = train_test_split(df_restante, test_size=0.5, random_state=12345)\n",
    "\n",
    "# Se definen las características y el objetivo para cada conjunto\n",
    "features_train = df_train.drop(['is_ultra'], axis=1)\n",
    "target_train = df_train['is_ultra']\n",
    "features_valid = df_valid.drop(['is_ultra'], axis=1)\n",
    "target_valid = df_valid['is_ultra']\n",
    "features_test = df_test.drop(['is_ultra'], axis=1)\n",
    "target_test = df_test['is_ultra']\n",
    "\n",
    "print(features_train.shape)\n",
    "print(target_train.shape)\n",
    "print()\n",
    "\n",
    "print(features_valid.shape)\n",
    "print(target_valid.shape)\n",
    "print()\n",
    "\n",
    "print(features_test.shape)\n",
    "print(target_test.shape)"
   ]
  },
  {
   "cell_type": "markdown",
   "metadata": {},
   "source": [
    "<div class=\"alert alert-block alert-success\">\n",
    "\n",
    "<b>Comentario del revisor. (Iteración 1)\n",
    "    \n",
    "</b> <a class=\"tocSkip\"></a>\n",
    "\n",
    "    \n",
    "Perfecto Ilse, aquí hemos realizado la implementación perfecta sobre la división de los datos en los 3 conjuntos, tal como debíamos. A la vez te agradezco por tu cmopromiso con el proceso al agregar imagenes que respalden tus decisiones."
   ]
  },
  {
   "cell_type": "markdown",
   "metadata": {},
   "source": [
    "Ahora que se tienen los tres conjuntos de datos, procedemos a la aplicación de diferentes modelos cambiando los hiperparámetros. Este paso es necesario para identificar el mejor modelo para una clasficación binaria y que se adecué al resultado final ya que el umbral de exactitud esperado es de 0.75. Se estarán entonces comprobando los siguientes modelos a continuación: árbol de decisión, bosque aleatorio y regresión logística."
   ]
  },
  {
   "cell_type": "markdown",
   "metadata": {},
   "source": [
    "#### Árbol de decisión\n",
    "\n",
    "Hay que pensar en un árbol de decisión como un condicional if sencillo anidado idefinidamente con otros hasta obtener el reusltado esperado. Dependiendo de que tan compleja queremos la respuesta mayor cantidad de condiciones agregadas al árbol, como si fuesen ramas. Es por eso que es importante definir que tan profundo o alto crecerá dicho árbol, por obvias razones entre más profundo o grande sea es mejor pero eso también tiene consecuencias como la exactitud del resultado y también la velocidad del modelo.\n",
    "\n",
    "A continuación se muestran dos ejemplos, uno donde no se define la profundidad del árbol max_depth siendo su valor None de forma predeterminada y en el otro considerando un rango con base en el siguiente código. Este código es adicional al momento de decidir el valor de max_depth mediante el método de Curva de Validación. Este método se  puede visualizar mediante una gráfica, el cual proporcionará información sobre cómo varía el rendimiento del modelo en el conjunto de entrenamiento y el conjunto de validación a medida que cambias el valor de max_depth. \n",
    "\n",
    "Para dedfinir entonces el valor de max_depth, es importante observar que las líneas que representan el rendimiento en el conjunto de entrenamiento y el conjunto de validación sean similares ya que es cuando ambas alcanzan un nivel alto de rendimiento, esto puede ser un indicador de que el modelo está generalizando bien y no está sufriendo de sobreajuste ni subajuste.\n",
    "\n",
    "##### Curva de Validacion para Árbol de decisión"
   ]
  },
  {
   "cell_type": "code",
   "execution_count": 10,
   "metadata": {},
   "outputs": [
    {
     "data": {
      "image/png": "[encoded data removed]",
      "text/plain": [
       "<Figure size 1000x600 with 1 Axes>"
      ]
     },
     "metadata": {},
     "output_type": "display_data"
    }
   ],
   "source": [
    "# Se define el rango de valores para max_depth, el valor elegido es de 1 a 10 de profundidad\n",
    "param_range = np.arange(1, 11)\n",
    "\n",
    "# Se calcula el puntaje de validacion para cada valor de max_depth\n",
    "train_scores, valid_scores = validation_curve(\n",
    "    DecisionTreeClassifier(), features_train, target_train, param_name=\"max_depth\", param_range=param_range,\n",
    "    scoring=\"accuracy\", cv=5)\n",
    "\n",
    "# Se calcula la media y la desviacion estandar de los puntajes de entrenamiento y validacion\n",
    "train_scores_mean = np.mean(train_scores, axis=1)\n",
    "train_scores_std = np.std(train_scores, axis=1)\n",
    "valid_scores_mean = np.mean(valid_scores, axis=1)\n",
    "valid_scores_std = np.std(valid_scores, axis=1)\n",
    "\n",
    "# Se grafica la Curva de Validacion\n",
    "plt.figure(figsize=(10, 6))\n",
    "plt.title(\"Curva de Validación\")\n",
    "plt.xlabel(\"max_depth\")\n",
    "plt.ylabel(\"Puntaje Total\")\n",
    "plt.ylim(0.0, 1.1)\n",
    "plt.xticks(param_range)\n",
    "plt.plot(param_range, train_scores_mean, label=\"Puntaje de Entrenamiento\", color=\"r\")\n",
    "plt.fill_between(param_range, train_scores_mean - train_scores_std,\n",
    "                 train_scores_mean + train_scores_std, alpha=0.2, color=\"r\")\n",
    "plt.plot(param_range, valid_scores_mean, label=\"Puntaje de Validación\", color=\"g\")\n",
    "plt.fill_between(param_range, valid_scores_mean - valid_scores_std,\n",
    "                 valid_scores_mean + valid_scores_std, alpha=0.2, color=\"g\")\n",
    "plt.legend(loc=\"best\")\n",
    "plt.show()"
   ]
  },
  {
   "cell_type": "markdown",
   "metadata": {},
   "source": [
    "Para este dataset, se puede observar que tanto para el conjunto de entrenamiento como para el conjunto de validación, sus valores son similares hasta una profundidad máxima de 3, ya que a partir de este punto en adelante se van separando las líneas lo cual puede resultar en un sobreajuste de los datos del modelo. Es por esta razón que en los siguientes códigos la elección del valor de este hiperparámetro sera de 1 a 4.  \n",
    "\n",
    "##### Árbol de decisión sin profundidad máxima definida"
   ]
  },
  {
   "cell_type": "code",
   "execution_count": 11,
   "metadata": {},
   "outputs": [
    {
     "name": "stdout",
     "output_type": "stream",
     "text": [
      "Precisión en el conjunto de validación: 0.7278382581648523\n",
      "Precisión en el conjunto de prueba: 0.7340590979782271\n"
     ]
    }
   ],
   "source": [
    "# Arbol binario sin profundidad maxima\n",
    "# Modelo 1:\n",
    "# Se crea un modelo de árbol de decisiones sin considerar la profundidad del arbol, es decir que max_depth sea None\n",
    "model_1 = DecisionTreeClassifier()\n",
    "\n",
    "# Se entrena el modelo en el conjunto de entrenamiento\n",
    "model_1.fit(features_train, target_train)\n",
    "\n",
    "# Se predice en el conjunto de validación\n",
    "predictions_valid_1 = model_1.predict(features_valid)\n",
    "\n",
    "# Se evalua el rendimiento en el conjunto de validación\n",
    "accuracy_valid_1 = accuracy_score(target_valid, predictions_valid_1)\n",
    "print(\"Precisión en el conjunto de validación:\", accuracy_valid_1)\n",
    "\n",
    "# Se predice en el conjunto de prueba\n",
    "predictions_test_1 = model_1.predict(features_test)\n",
    "\n",
    "# Se evalua el rendimiento en el conjunto de prueba\n",
    "accuracy_test_1 = accuracy_score(target_test, predictions_test_1)\n",
    "print(\"Precisión en el conjunto de prueba:\", accuracy_test_1)"
   ]
  },
  {
   "cell_type": "markdown",
   "metadata": {},
   "source": [
    "##### Árbol de decisión con profundidad máxima definida"
   ]
  },
  {
   "cell_type": "code",
   "execution_count": 12,
   "metadata": {},
   "outputs": [
    {
     "name": "stdout",
     "output_type": "stream",
     "text": [
      "Resultado Validación\n",
      "max_depth = 1 : 0.7542768273716952\n",
      "\n",
      "Resultado Prueba\n",
      "max_depth = 1 : 0.7356143079315708\n",
      "\n",
      "Resultado Validación\n",
      "max_depth = 2 : 0.7822706065318819\n",
      "\n",
      "Resultado Prueba\n",
      "max_depth = 2 : 0.7744945567651633\n",
      "\n",
      "Resultado Validación\n",
      "max_depth = 3 : 0.7853810264385692\n",
      "\n",
      "Resultado Prueba\n",
      "max_depth = 3 : 0.7791601866251944\n",
      "\n"
     ]
    }
   ],
   "source": [
    "# Repetiremos el mismo modelo que el anterior con la diferencia de que se ajustara el hiperparametro max_depth\n",
    "for depth in range(1, 4):\n",
    "    model_1_1 = DecisionTreeClassifier(random_state=12345, max_depth=depth)\n",
    "    model_1_1.fit(features_train, target_train)\n",
    "    \n",
    "    print('Resultado Validación')\n",
    "    predictions_valid_1_1 = model_1_1.predict(features_valid)\n",
    "    print('max_depth =', depth, ': ', end='')\n",
    "    print(accuracy_score(target_valid, predictions_valid_1_1))\n",
    "    print()\n",
    "    \n",
    "    print('Resultado Prueba')\n",
    "    predictions_test_1_1 = model_1_1.predict(features_test)\n",
    "    print('max_depth =', depth, ': ', end='')\n",
    "    print(accuracy_score(target_test, predictions_test_1_1))\n",
    "    print()"
   ]
  },
  {
   "cell_type": "markdown",
   "metadata": {},
   "source": [
    "<div class=\"alert alert-block alert-success\">\n",
    "\n",
    "<b>Comentario del revisor. (Iteración 1)\n",
    "    \n",
    "</b> <a class=\"tocSkip\"></a>\n",
    "\n",
    "    \n",
    "Excelente trabajo sobre el modelo de arbol de decisión Ilse, has implementado 3 procedimientos que nos permiten visualizar el rendimiento del mismo y has aplicado todos los pasos necesarios como por ejemplio haber aplicado un loop para ver como impactan los diferentes valores de hiperparámetros."
   ]
  },
  {
   "cell_type": "markdown",
   "metadata": {},
   "source": [
    "Conclusión\n",
    "\n",
    "Como se puede observar en ambos modelos, el resultado final de la exactitud depende mucho del valor del hiperparámetro max_depth cuando es definido y cuando no. Este valor es importante ya que puede tener un impacto significativo en el rendimiento y la interpretación del modelo de árbol de decisiones. Una profundidad más grande puede permitir que el árbol capture relaciones más complejas en los datos, pero también puede aumentar el riesgo de sobreajuste. Es por esta razón que se fue un paso esencial considerar el resultado de la curva de validación para designar un valor que al mismo tiempo superara el valor esperado por la empresa Megaline. "
   ]
  },
  {
   "cell_type": "markdown",
   "metadata": {},
   "source": [
    "#### Bosque aleatorio\n",
    "\n",
    "Un solo árbol a veces no es suficiente para poder encontrar la respuesta ideal o mejor eficiencia. Es por ello que el siguiente modelo no solo conidera como hiperparámetro la profundidad máxima sino también la cantidad de árboles que pueden componer el modelo de bosque aleatorio. Como este es otro hiperparámetro que puede afectar el valor final de la exactitud en el modelo, esta vez recurriremos a un método de la validación cruzada para definir de una mejor forma la cantidad de estimadores o árboles del bosque. Cabe mencionar que el método de la validación cruzada es una técnica utilizada en aprendizaje automático para evaluar el rendimiento de un modelo utilizando un conjunto de datos limitado. Consiste en dividir los datos disponibles en varios subconjuntos llamados \"folds\" o \"pliegues\". Luego, se entrena y evalúa el modelo varias veces, utilizando diferentes combinaciones de pliegues como datos de entrenamiento y prueba en cada iteración.\n",
    "\n",
    "##### Validación Cruzada para Bosque aleatorio"
   ]
  },
  {
   "cell_type": "code",
   "execution_count": 13,
   "metadata": {},
   "outputs": [
    {
     "name": "stdout",
     "output_type": "stream",
     "text": [
      "El mejor número de estimadores encontrado: 200\n",
      "Puntuación de validación del mejor modelo: 0.8101796648946907\n"
     ]
    }
   ],
   "source": [
    "# Se definen diferentes rangos limites como hiperparámetros para n_estimators a ajustar\n",
    "param_grid = {\n",
    "    'n_estimators': [10, 50, 100, 200]  # Define el rango de valores para n_estimators\n",
    "}\n",
    "\n",
    "# Se inicializa el clasificador de bosque aleatorio\n",
    "rf = RandomForestClassifier(random_state=54321)\n",
    "\n",
    "# Se inicializa la búsqueda de cuadrícula con validación cruzada\n",
    "grid_search = GridSearchCV(estimator=rf, param_grid=param_grid, cv=5, scoring='accuracy')\n",
    "\n",
    "# Se realiza la búsqueda de cuadrícula en el conjunto de entrenamiento\n",
    "grid_search.fit(features_train, target_train)\n",
    "\n",
    "# Se obtiene el mejor modelo y su puntuación en el conjunto de validación\n",
    "best_estimator = grid_search.best_estimator_\n",
    "validation_score = grid_search.best_score_\n",
    "\n",
    "print(\"El mejor número de estimadores encontrado:\", best_estimator.n_estimators)\n",
    "print(\"Puntuación de validación del mejor modelo:\", validation_score)"
   ]
  },
  {
   "cell_type": "markdown",
   "metadata": {},
   "source": [
    "Con base en este resultado, dado que la exactitud ya está alcanzado valores de 0.8 para arriba, superando las expecativas de los esperado por la compañía, se empleará el rango de 1 hasta 200 árboles como estimadores aunque esto pueda representar que el modelo sea haga más lento en dar una respuesta."
   ]
  },
  {
   "cell_type": "code",
   "execution_count": 14,
   "metadata": {},
   "outputs": [
    {
     "name": "stdout",
     "output_type": "stream",
     "text": [
      "La exactitud del mejor modelo en el conjunto de validación (n_estimators = 33, max_depth = 3): 0.7978227060653188\n",
      "La exactitud del mejor modelo en el conjunto de prueba (n_estimators = 33, max_depth = 3): 0.7791601866251944\n"
     ]
    }
   ],
   "source": [
    "# Modelo 2:\n",
    "best_score = 0\n",
    "best_est = 0\n",
    "best_depth = 0\n",
    "\n",
    "# Bucle para definir numero de estimadores (cantidad de arboles del modelo)\n",
    "for est in range(1, 200): # Se define est de 1 a 200 de acuerdo con el resultado de la validacion cruzada\n",
    "    for depth in range(1, 4):  # Se define max_depth de acuerdo con la curva de validacion de antes\n",
    "        model_2 = RandomForestClassifier(random_state=54321, n_estimators=est, max_depth=depth)\n",
    "        # Se entrena el modelo en el conjunto de entrenamiento\n",
    "        model_2.fit(features_train, target_train)  \n",
    "        # Se calcula la puntuación de accuracy en el conjunto de validación\n",
    "        score = model_2.score(features_valid, target_valid)  \n",
    "        if score > best_score: \n",
    "            # Se guardan los mejor valores correspondiente a la puntuacion de accuracy del conjunto de validacion, numero de estimadores que corresponden a la mejor puntuación de exactitud y la profundidad máxima que corresponde a la mejor puntuación de exactitud\n",
    "            best_score = score\n",
    "            best_est = est\n",
    "            best_depth = depth\n",
    "\n",
    "# Se entrena el mejor modelo en el conjunto de entrenamiento y se evalua en el conjunto de prueba\n",
    "best_model = RandomForestClassifier(random_state=54321, n_estimators=best_est, max_depth=best_depth)\n",
    "best_model.fit(features_train, target_train)\n",
    "validation_score = best_model.score(features_valid, target_valid)  # Puntuación de validación del mejor modelo\n",
    "test_score = best_model.score(features_test, target_test)  # Puntuación de prueba del mejor modelo\n",
    "\n",
    "# Se comparan los resultados de exactitud entre el conjunto de validacion y prueba\n",
    "print(\"La exactitud del mejor modelo en el conjunto de validación (n_estimators = {}, max_depth = {}): {}\".format(best_est, best_depth, validation_score))\n",
    "print(\"La exactitud del mejor modelo en el conjunto de prueba (n_estimators = {}, max_depth = {}): {}\".format(best_est, best_depth, test_score))"
   ]
  },
  {
   "cell_type": "markdown",
   "metadata": {},
   "source": [
    "<div class=\"alert alert-block alert-success\">\n",
    "\n",
    "<b>Comentario del revisor. (Iteración 1)\n",
    "    \n",
    "</b> <a class=\"tocSkip\"></a>\n",
    "\n",
    "    \n",
    "Nuevamente un proceso similar, bien hecho! A la vez felicitaciones por aplicar el método de GridSearch para buscar los mejores hiperparametros, excelente!\n",
    "    "
   ]
  },
  {
   "cell_type": "markdown",
   "metadata": {},
   "source": [
    "Conclusión\n",
    "\n",
    "Al final en el modelo, como rewsultado presenta que el mejor valor de la exactitud es cuando los hiperparámetros de profundidad y estimadores son de 3 y 33 aproximadamente. Como el modelo lo hicimos con base en la validación cruzada, puede ser que hubiera sido mejor ocupar menos cantidad de árboles ya que el resultado no supera los 100. Esto puede hacer que el modelo sea más rápido y también eficiente con el resultado final. "
   ]
  },
  {
   "cell_type": "markdown",
   "metadata": {},
   "source": [
    "#### Regresión Logística\n",
    "\n",
    "La regresión logística es un tipo de modelo utilizado en aprendizaje automático para predecir la probabilidad de que ocurra un resultado binario, como sí/no, verdadero/falso, o positivo/negativo. En otras palabras, toma datos de entrada y los utiliza para predecir la probabilidad de que ocurra un resultado específico."
   ]
  },
  {
   "cell_type": "code",
   "execution_count": 15,
   "metadata": {},
   "outputs": [
    {
     "name": "stdout",
     "output_type": "stream",
     "text": [
      "Precisión del modelo de regresión logística en el conjunto de entrenamiento: 0.7520746887966805\n",
      "Precisión del modelo de regresión logística en el conjunto de validación: 0.7573872472783826\n",
      "Precisión del modelo de regresión logística en el conjunto de prueba: 0.7433903576982893\n"
     ]
    }
   ],
   "source": [
    "# Modelo 3: \n",
    "# Se inicializa el constructor de regresión logística con los parámetros\n",
    "model_3 = LogisticRegression(random_state=54321, solver='liblinear')\n",
    "\n",
    "# Se entrena el modelo en el conjunto de entrenamiento\n",
    "model_3.fit(features_train, target_train)\n",
    "\n",
    "# Se calcula la puntuación de precisión en el conjunto de entrenamiento\n",
    "score_train = model_3.score(features_train, target_train)\n",
    "\n",
    "# Se calcula la puntuación de precisión en el conjunto de validación\n",
    "score_valid = model_3.score(features_valid, target_valid)\n",
    "\n",
    "print(\"Precisión del modelo de regresión logística en el conjunto de entrenamiento:\", score_train)\n",
    "print(\"Precisión del modelo de regresión logística en el conjunto de validación:\", score_valid)\n",
    "\n",
    "# Después de evaluar en el conjunto de validación, evalúa el modelo en el conjunto de prueba\n",
    "score_test = model_3.score(features_test, target_test)\n",
    "print(\"Precisión del modelo de regresión logística en el conjunto de prueba:\", score_test)"
   ]
  },
  {
   "cell_type": "markdown",
   "metadata": {},
   "source": [
    "<div class=\"alert alert-block alert-success\">\n",
    "\n",
    "<b>Comentario del revisor. (Iteración 1)\n",
    "    \n",
    "</b> <a class=\"tocSkip\"></a>\n",
    "\n",
    "    \n",
    "Un modelo más tradicional pero lo has aplicado perfectamente Ilse, bien hecho!"
   ]
  },
  {
   "cell_type": "markdown",
   "metadata": {},
   "source": [
    "#### Prueba de cordura\n",
    "La prueba de cordura, en el contexto de aprendizaje automático, implica verificar si el modelo desarrollado tiene sentido desde una perspectiva lógica o de dominio del problema. Esta prueba puede variar según el tipo de modelo y el problema específico que estés abordando. A menudo implica verificar si las predicciones del modelo tienen sentido en relación con el conocimiento previo del dominio del problema.\n",
    "\n",
    "Es por ello que en el siguiente código, se utiliza la librería DummyClassifier. Este clasificador se entrena para predecir siempre la clase más frecuente en el conjunto de entrenamiento. Luego, se emplean las características del conjunto de validación para realizar predicciones con este clasificador Dummy. Se calculan diversas métricas de evaluación, tales como precisión, recall y F1-score, comparando estas predicciones del modelo Dummy con las etiquetas verdaderas del conjunto de validación.\n",
    "\n",
    "Al comparar las métricas obtenidas con el modelo Dummy con las métricas de tu modelo real, puedes evaluar si tu modelo real supera una predicción tan simple como predecir siempre la clase más frecuente. Esta comparación proporciona una medida inicial de la calidad de tu modelo y te ayuda a identificar posibles problemas."
   ]
  },
  {
   "cell_type": "code",
   "execution_count": 16,
   "metadata": {},
   "outputs": [
    {
     "name": "stdout",
     "output_type": "stream",
     "text": [
      "Métricas del modelo Dummy:\n",
      "Accuracy: 0.7060653188180405\n",
      "Precision: 0.0\n",
      "Recall: 0.0\n",
      "F1 Score: 0.0\n"
     ]
    },
    {
     "name": "stderr",
     "output_type": "stream",
     "text": [
      "/opt/conda/envs/python3/lib/python3.9/site-packages/sklearn/metrics/_classification.py:1245: UndefinedMetricWarning: Precision is ill-defined and being set to 0.0 due to no predicted samples. Use `zero_division` parameter to control this behavior.\n",
      "  _warn_prf(average, modifier, msg_start, len(result))\n"
     ]
    }
   ],
   "source": [
    "# Entrenar un clasificador Dummy que predice siempre la clase más frecuente\n",
    "dummy_clf = DummyClassifier(strategy=\"most_frequent\")\n",
    "dummy_clf.fit(features_train, target_train)\n",
    "\n",
    "# Obtener predicciones del modelo Dummy en el conjunto de validación\n",
    "predicciones_dummy = dummy_clf.predict(features_valid)\n",
    "\n",
    "# Calcular métricas de evaluación para el modelo Dummy\n",
    "accuracy_dummy = accuracy_score(target_valid, predicciones_dummy)\n",
    "precision_dummy = precision_score(target_valid, predicciones_dummy)\n",
    "recall_dummy = recall_score(target_valid, predicciones_dummy)\n",
    "f1_dummy = f1_score(target_valid, predicciones_dummy)\n",
    "\n",
    "print(\"Métricas del modelo Dummy:\")\n",
    "print(\"Accuracy:\", accuracy_dummy)\n",
    "print(\"Precision:\", precision_dummy)\n",
    "print(\"Recall:\", recall_dummy)\n",
    "print(\"F1 Score:\", f1_dummy)"
   ]
  },
  {
   "cell_type": "markdown",
   "metadata": {},
   "source": [
    "<div class=\"alert alert-block alert-warning\">\n",
    "\n",
    "<b>Comentario del revisor. (Iteración 1)\n",
    "    \n",
    "</b> <a class=\"tocSkip\"></a>\n",
    "\n",
    "    \n",
    "Aquí el proceso del modelo de cordura es correcto, DummyClassifier es un metodo adecuado sin embargo podríamos mejorarlo si tenemos en cuenta un valor de stratey como constant. Te invito a que investigues en los mejores parametros para un modelo constante."
   ]
  },
  {
   "cell_type": "markdown",
   "metadata": {},
   "source": [
    "## Conclusión"
   ]
  },
  {
   "cell_type": "markdown",
   "metadata": {},
   "source": [
    "Como bien fue de esperarse, entre mejor definidos estén los hiperparámetros del modelo, mejor tipo de respuestas en cuanto a la exactitud de éste tendremos. Para este proyecto, como el objetivo era poder sino es que superar o encontrar un valor igual o mayor a 0.75, el mejor modelo adecuado es el bosque aleatorio a pesar de que su velocidad disminuya a medida de agregar mayor cantidad de árboles o profundidad en ello. No obstante es conocido por ser un modelo donde su exactitud es más alta que en los otros dos presentados para un modelo de clasificación binaria. Tomando en cuenta esta información, es como la empresa Megaline puede abordar mejor a sus clientes y la probabilidad de poder promocionar sus nuevos planes hacia Ultra que tiene mayor número de beneficios a futuro tanto para ellos como en relfexión a las ganancias de la empresa."
   ]
  },
  {
   "cell_type": "markdown",
   "metadata": {},
   "source": [
    "<div class=\"alert alert-block alert-success\">\n",
    "\n",
    "<b>Comentario del revisor. (Iteración 1)\n",
    "    \n",
    "</b> <a class=\"tocSkip\"></a>\n",
    "\n",
    "Quería felicitarte Ilse porque has tenido un gran compromiso con tus conclusiones y con tus códigos a lo largo de todo el trabajo, el trabajo refleja tu gran capacidad por lo que felicitiaciones!"
   ]
  },
  {
   "cell_type": "code",
   "execution_count": null,
   "metadata": {},
   "outputs": [],
   "source": []
  }
 ],
 "metadata": {
  "ExecuteTimeLog": [
   {
    "duration": 1434,
    "start_time": "2024-05-16T21:04:07.116Z"
   },
   {
    "duration": 28,
    "start_time": "2024-05-16T21:04:08.554Z"
   },
   {
    "duration": 11,
    "start_time": "2024-05-16T21:04:08.586Z"
   },
   {
    "duration": 30,
    "start_time": "2024-05-16T21:04:08.602Z"
   },
   {
    "duration": 8,
    "start_time": "2024-05-16T21:04:08.635Z"
   },
   {
    "duration": 9,
    "start_time": "2024-05-16T21:04:08.646Z"
   },
   {
    "duration": 110,
    "start_time": "2024-05-16T21:04:08.658Z"
   },
   {
    "duration": 9,
    "start_time": "2024-05-16T21:04:08.772Z"
   },
   {
    "duration": 47,
    "start_time": "2024-05-16T21:04:08.785Z"
   },
   {
    "duration": 865,
    "start_time": "2024-05-16T21:04:08.838Z"
   },
   {
    "duration": 33,
    "start_time": "2024-05-16T21:04:09.706Z"
   },
   {
    "duration": 36,
    "start_time": "2024-05-16T21:04:09.742Z"
   },
   {
    "duration": 9013,
    "start_time": "2024-05-16T21:04:09.780Z"
   },
   {
    "duration": 135652,
    "start_time": "2024-05-16T21:04:18.797Z"
   },
   {
    "duration": 24,
    "start_time": "2024-05-16T21:06:34.453Z"
   },
   {
    "duration": 14,
    "start_time": "2024-05-16T21:06:34.480Z"
   }
  ],
  "kernelspec": {
   "display_name": "Python 3 (ipykernel)",
   "language": "python",
   "name": "python3"
  },
  "language_info": {
   "codemirror_mode": {
    "name": "ipython",
    "version": 3
   },
   "file_extension": ".py",
   "mimetype": "text/x-python",
   "name": "python",
   "nbconvert_exporter": "python",
   "pygments_lexer": "ipython3",
   "version": "3.9.19"
  },
  "toc": {
   "base_numbering": 1,
   "nav_menu": {},
   "number_sections": true,
   "sideBar": true,
   "skip_h1_title": true,
   "title_cell": "Table of Contents",
   "title_sidebar": "Contents",
   "toc_cell": false,
   "toc_position": {},
   "toc_section_display": true,
   "toc_window_display": false
  }
 },
 "nbformat": 4,
 "nbformat_minor": 2
}
