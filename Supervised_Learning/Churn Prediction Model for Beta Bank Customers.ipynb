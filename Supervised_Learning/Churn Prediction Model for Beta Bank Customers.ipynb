{
 "cells": [
  {
   "cell_type": "markdown",
   "metadata": {},
   "source": [
    "# ¡Hola, Ilse!  \n",
    "\n",
    "Mi nombre es Francisco Benavides, soy code reviewer de Tripleten y voy a revisar el proyecto que acabas de desarrollar.\n",
    "\n",
    "\n",
    "Cada ves que vea un error por primera vez, lo señalaré. Deberás encontrarlo y arreglarlo, ya que buscamos que te prepares para un trabajo real, en el cual tu líder de equipo hará lo mismo. Si no puedes solucionar el error, te brindaré algunos tips más especificos la proxima vez.\n",
    "\n",
    "Podrás encontrar mis comentarios más abajo - **por favor, no los muevas, no los modifiques ni los borres**.\n",
    "\n",
    "¿Cómo lo voy a hacer? Voy a leer cuidadosamente cada una de tus implementaciones que has llevado a cabo para complir con tu informe. Cada uno de mis comentarios tiene el siguiente código de colores:\n",
    "\n",
    "<div class=\"alert alert-block alert-success\">\n",
    "<b>Comentario del revisor</b> <a class=\"tocSkip\"></a>\n",
    "    \n",
    "Si todo está perfecto.\n",
    "</div>\n",
    "\n",
    "\n",
    "<div class=\"alert alert-block alert-warning\">\n",
    "<b>Comentario del revisor</b> <a class=\"tocSkip\"></a>\n",
    "    \n",
    "Si tu código está bien pero se puede mejorar o hay algún detalle que le hace falta.\n",
    "</div>\n",
    "\n",
    "\n",
    "<div class=\"alert alert-block alert-danger\">\n",
    "    \n",
    "<b>Comentario del revisor</b> <a class=\"tocSkip\"></a>\n",
    "    \n",
    "    \n",
    "Si de pronto hace falta algo o existe algún problema con tu código o conclusiones.\n",
    "</div>\n",
    "\n",
    "\n",
    "Si encuentras que es necesario, puedes responderme de esta forma: \n",
    "\n",
    "<div class=\"alert alert-block alert-info\">\n",
    "<b>Respuesta del estudiante</b> <a class=\"tocSkip\"></a>\n",
    "</div>\n",
    "\n",
    "Mucho éxito!"
   ]
  },
  {
   "cell_type": "markdown",
   "metadata": {},
   "source": [
    "# Proyecto Sprint 9 - Ilse Salinas\n",
    "## Descripción general\n",
    "Los clientes de Beta Bank se están yendo, cada mes, poco a poco. Los banqueros descubrieron que es más barato salvar a los clientes existentes que atraer nuevos.\n",
    "Necesitamos predecir si un cliente dejará el banco pronto. Tú tienes los datos sobre el comportamiento pasado de los clientes y la terminación de contratos con el banco.\n",
    "\n",
    "Crea un modelo con el máximo valor F1 posible. Para aprobar la revisión, necesitas un valor F1 de al menos 0.59. Verifica F1 para el conjunto de prueba. Además, debes medir la métrica AUC-ROC y compararla con el valor F1."
   ]
  },
  {
   "cell_type": "markdown",
   "metadata": {},
   "source": [
    "### Preprocesamiento de la información"
   ]
  },
  {
   "cell_type": "code",
   "execution_count": 1,
   "metadata": {},
   "outputs": [],
   "source": [
    "# Se importan todas las librerias utilizadas para la elaboracion de este proyecto\n",
    "import pandas as pd\n",
    "import numpy as np\n",
    "import matplotlib.pyplot as plt\n",
    "\n",
    "# Estas otras son para la generacion del modelo \n",
    "from sklearn.model_selection import train_test_split\n",
    "from sklearn.linear_model import LogisticRegression\n",
    "from sklearn.preprocessing import StandardScaler\n",
    "from sklearn.tree import DecisionTreeClassifier\n",
    "from sklearn.ensemble import RandomForestClassifier\n",
    "\n",
    "from sklearn.metrics import classification_report\n",
    "from sklearn.metrics import f1_score\n",
    "from sklearn.utils import shuffle\n",
    "from sklearn.metrics import roc_curve\n",
    "from sklearn.metrics import roc_auc_score\n",
    "import matplotlib.pyplot as plt\n",
    "import seaborn as sns"
   ]
  },
  {
   "cell_type": "code",
   "execution_count": 2,
   "metadata": {},
   "outputs": [
    {
     "name": "stdout",
     "output_type": "stream",
     "text": [
      "<class 'pandas.core.frame.DataFrame'>\n",
      "RangeIndex: 10000 entries, 0 to 9999\n",
      "Data columns (total 14 columns):\n",
      " #   Column           Non-Null Count  Dtype  \n",
      "---  ------           --------------  -----  \n",
      " 0   RowNumber        10000 non-null  int64  \n",
      " 1   CustomerId       10000 non-null  int64  \n",
      " 2   Surname          10000 non-null  object \n",
      " 3   CreditScore      10000 non-null  int64  \n",
      " 4   Geography        10000 non-null  object \n",
      " 5   Gender           10000 non-null  object \n",
      " 6   Age              10000 non-null  int64  \n",
      " 7   Tenure           9091 non-null   float64\n",
      " 8   Balance          10000 non-null  float64\n",
      " 9   NumOfProducts    10000 non-null  int64  \n",
      " 10  HasCrCard        10000 non-null  int64  \n",
      " 11  IsActiveMember   10000 non-null  int64  \n",
      " 12  EstimatedSalary  10000 non-null  float64\n",
      " 13  Exited           10000 non-null  int64  \n",
      "dtypes: float64(3), int64(8), object(3)\n",
      "memory usage: 1.1+ MB\n"
     ]
    }
   ],
   "source": [
    "# Abrimos y examinamos el dataset del proyecto\n",
    "df = pd.read_csv('/datasets/Churn.csv')\n",
    "df.info()"
   ]
  },
  {
   "cell_type": "code",
   "execution_count": 3,
   "metadata": {
    "scrolled": true
   },
   "outputs": [
    {
     "name": "stdout",
     "output_type": "stream",
     "text": [
      "      RowNumber  CustomerId          Surname  CreditScore Geography  Gender  \\\n",
      "1962       1963    15692416        Aikenhead          358     Spain  Female   \n",
      "4689       4690    15737832        Robertson          771     Spain    Male   \n",
      "2539       2540    15569571         Davydova          584   Germany  Female   \n",
      "4347       4348    15645271  Radcliffe-Brown          615   Germany    Male   \n",
      "9052       9053    15597949          Gilbert          768   Germany  Female   \n",
      "\n",
      "      Age  Tenure    Balance  NumOfProducts  HasCrCard  IsActiveMember  \\\n",
      "1962   52     8.0  143542.36              3          1               0   \n",
      "4689   45     0.0  139825.56              1          0               0   \n",
      "2539   46     6.0   87361.02              2          1               0   \n",
      "4347   24     8.0  108528.07              2          0               0   \n",
      "9052   47     5.0  104552.61              1          1               0   \n",
      "\n",
      "      EstimatedSalary  Exited  \n",
      "1962        141959.11       1  \n",
      "4689        170984.97       1  \n",
      "2539        120376.87       1  \n",
      "4347        179488.41       1  \n",
      "9052         48137.08       1  \n"
     ]
    }
   ],
   "source": [
    "# Imprimimos un ejemplo del dataframe para ver como se muestran los datos de las columnas\n",
    "print(df.sample(5))"
   ]
  },
  {
   "cell_type": "markdown",
   "metadata": {},
   "source": [
    "Antes de continuar con el análisis de los datos e implementación de modelos de machine learning, es necesario corregir algunos errores presentados en la información y también averigurar si existen duplicados para que no interfiera con el resultado final.\n",
    "\n",
    "En este caso, se necesita hacer enfásis en la columna Tenure ya que se necesita tanto reemplazar todos los datos nulos con ceros y cambiar su tipo de dato de flotante a entero ya que representa el período durante el cual ha madurado el depósito a plazo fijo de un cliente en años. A pesar de que en la columna Surname se ha notado que existen apellidos incompletos con signos de interrogación al final, para no obstruir los resultados del análisis posterior no se descartarán pero simplemente se quiere haceer esta acalaración al lector.\n",
    "\n",
    "Después se verificará si existen valores duplicados para que aquellos que los estén sean descartados. Por último, se modificarán los nombres de las columnas para que éstos sean más legibles tanto para quienes hagan una revisión o análisis como para los mismos clientes. "
   ]
  },
  {
   "cell_type": "code",
   "execution_count": 4,
   "metadata": {},
   "outputs": [
    {
     "name": "stdout",
     "output_type": "stream",
     "text": [
      "No hay valores nulos en la columna 'Tenure' después de reemplazarlos por ceros.\n"
     ]
    }
   ],
   "source": [
    "# Sustituimos los valores nulos de la columna Tenure por ceros\n",
    "# Cambiamos el tipo de dato de la columna Tenure de flotante a entero\n",
    "df['Tenure'].fillna(0, inplace=True)\n",
    "df['Tenure'] = df['Tenure'].astype(int)\n",
    "null_in_Tenure = df['Tenure'].isnull().any()\n",
    "\n",
    "if null_in_Tenure:\n",
    "    print(\"Todavía hay valores nulos en la columna 'Tenure'.\")\n",
    "else:\n",
    "    print(\"No hay valores nulos en la columna 'Tenure' después de reemplazarlos por ceros.\")"
   ]
  },
  {
   "cell_type": "markdown",
   "metadata": {},
   "source": [
    "<div class=\"alert alert-block alert-success\">\n",
    "<b>Comentario del revisor</b> <a class=\"tocSkip\"></a>\n",
    "    \n",
    "Buena decisión en cuanto a la variable *Tenure*\n",
    "</div>\n"
   ]
  },
  {
   "cell_type": "markdown",
   "metadata": {},
   "source": [
    "<div class=\"alert alert-block alert-warning\">\n",
    "<b>Comentario del revisor</b> <a class=\"tocSkip\"></a>\n",
    "    \n",
    "La columna *SurName* NO es útil para el modelo de machine learning, vale la pena entonces eliminar filas completas por una columna que debes eliminar completamente del modelo?\n",
    "</div>\n"
   ]
  },
  {
   "cell_type": "code",
   "execution_count": 5,
   "metadata": {},
   "outputs": [
    {
     "name": "stdout",
     "output_type": "stream",
     "text": [
      "No se encontraron valores duplicados en el DataFrame.\n"
     ]
    }
   ],
   "source": [
    "# Idetificamos duplicados y en caso de que haya se eliminan del dataframe\n",
    "duplicates = df.duplicated()\n",
    "\n",
    "if duplicates.any():\n",
    "    print(\"Se encontraron valores duplicados en el DataFrame.\")\n",
    "    print(\"Filas duplicadas:\")\n",
    "    print(df[duplicates])\n",
    "else:\n",
    "    print(\"No se encontraron valores duplicados en el DataFrame.\")"
   ]
  },
  {
   "cell_type": "code",
   "execution_count": 6,
   "metadata": {},
   "outputs": [
    {
     "name": "stdout",
     "output_type": "stream",
     "text": [
      "Index(['row_number', 'customer_id', 'surname', 'credit_score', 'geography',\n",
      "       'gender', 'age', 'tenure', 'balance', 'num_products', 'has_cr_card',\n",
      "       'active_member', 'estimated_salary', 'exited'],\n",
      "      dtype='object')\n"
     ]
    }
   ],
   "source": [
    "# Renombramos las columnas del dataset para una mejor legibilidad\n",
    "df.rename(columns={'RowNumber': 'Row_Number', 'CustomerId': 'Customer_Id', 'CreditScore':'Credit_Score','NumOfProducts':'Num_Products', 'HasCrCard':'Has_Cr_Card', 'IsActiveMember':'Active_Member', 'EstimatedSalary':'Estimated_Salary'}, inplace=True)\n",
    "df.columns = [col.lower() for col in df.columns]\n",
    "print(df.columns)"
   ]
  },
  {
   "cell_type": "markdown",
   "metadata": {},
   "source": [
    "<div class=\"alert alert-block alert-warning\">\n",
    "<b>Comentario del revisor</b> <a class=\"tocSkip\"></a>\n",
    "    \n",
    "Podrias aplicar el método lower además de esto para dejar los nombres en minusculas\n",
    "</div>\n"
   ]
  },
  {
   "cell_type": "markdown",
   "metadata": {},
   "source": [
    "### Ánalisis de la información\n",
    "Una vez que se tiene preparada la información del dataframe, procedemos a la elaboración del modelo de aprendizaje supervisado en donde primero hay que estipular cuales serán las características y objetivo. El propósito del proeyecto es predecir que clientes son los que tienen mayor probabilidad de dejar los servicios de Beta Bank, es por esta razón que el objetivo será la columna 'exited' mientras que el resto serán tratadas como características. Esta decisión fue tomada de esta manera ya que todo dependerá si el usuario sigue en existencia o se ha dado de baja de su cuenta bancaria. \n",
    "\n",
    "#### Análisis de objetivo y características\n",
    "Antes de dividirla información del dataframe en los conjuntos de entrenamiento y validación para poder generar el modelo, primero verificaremos cuantos clientes tienen actividad y cuantos no. Este paso es para examinar el equilibrio de clases ya que al tratase de un problema de clasificación binaria, un conjunto de datos está equilibrado si la cantidad de ejemplos en cada clase es más o menos similar."
   ]
  },
  {
   "cell_type": "markdown",
   "metadata": {},
   "source": [
    "<div class=\"alert alert-block alert-danger\">\n",
    "<b>Comentario del revisor</b> <a class=\"tocSkip\"></a>\n",
    "    \n",
    "La variable target no es *Exit*?\n",
    "</div>\n"
   ]
  },
  {
   "cell_type": "markdown",
   "metadata": {},
   "source": [
    "<div class=\"alert alert-block alert-info\">\n",
    "<b>Respuesta del estudiante </b> <a class=\"tocSkip\"></a>\n",
    "    \n",
    "Lo había pensando desde el punto de vista si el cliente seguía teniendo actividad en su cuenta o no pero si tiene razón ya que el enfoque es si se ha salido o no y verificar con base en esta información cuantos más pueden salirse, muchas gracias por la observación. También no leí bien las instrucciones una disculpa.\n",
    "</div>"
   ]
  },
  {
   "cell_type": "code",
   "execution_count": 7,
   "metadata": {},
   "outputs": [
    {
     "name": "stdout",
     "output_type": "stream",
     "text": [
      "Conteo de instancias por clase en la columna exited:\n",
      "0    7963\n",
      "1    2037\n",
      "Name: exited, dtype: int64\n"
     ]
    }
   ],
   "source": [
    "# Contamos cuantos clientes tienen actividad y cuantos otros no\n",
    "target_counts = df['exited'].value_counts()\n",
    "\n",
    "print(\"Conteo de instancias por clase en la columna exited:\")\n",
    "print(target_counts)"
   ]
  },
  {
   "cell_type": "markdown",
   "metadata": {},
   "source": [
    "<div class=\"alert alert-block alert-danger\">\n",
    "<b>Comentario del revisor</b> <a class=\"tocSkip\"></a>\n",
    "    \n",
    "Añade un analisis descripto de las features a considerar en el modelo.\n",
    "</div>\n"
   ]
  },
  {
   "cell_type": "markdown",
   "metadata": {},
   "source": [
    "Se puede observar que no existe un equilibrio entre las clases de la columna 'exited', ya que hay una mayor cantidad de clientes que aún siguen con su cuenta bancaria representados con el valor cero el cual son 7963 y muy pocos que se han salido rpresentado con el valor uno que son 2037. \n",
    "\n",
    "Este análisis es particularmente relevante, dado que el objetivo es predecir cuántos clientes podrían cancelar su cuenta bancaria. La desigualdad en la distribución de clases puede tener un impacto significativo en la generación del modelo, ya que podría subestimar el número real de usuarios que cancelarán haciéndolo ver en este caso con el desbalanceo como un menor impacto de lo que realmente puede ser.\n",
    "\n",
    "Antes de generar el modelo con este desequilibrio en las clases, primero se describirán las características relevantes para el modelo ya que el dataframe puede contener columnas que no sean de tanta relevancia para el resultado final. \n",
    "\n",
    "Se puede decir de forma inicial que las columnas categóricas como surname, gener y geogrpahy no son relevantes para la decisión del cliente en caso de salir del servicio. Adicional a este descarte, se ha decidio usar una matriz de correlación para identificar que tanta relación tienen las columnas restantes con el obejtivo 'exited'. \n",
    "Hay que recordar que los valores de la matriz pueden ser positivos, negativos o incluso cero, a continuación se describe cada una de las situaciones:\n",
    "\n",
    "- Cercano a 1: Fuerte correlación positiva (cuando la característica aumenta, es probable que \"exited\" también aumente).\n",
    "- Cercano a -1: Fuerte correlación negativa (cuando la característica aumenta, es probable que \"exited\" disminuya).\n",
    "- Cercano a 0: Poca o ninguna correlación\n",
    "\n",
    "A modo de ejemplo, si en el caso de credit_score tiene una correlación de -0.28 con exited, significa que a medida que el crédito del cliente baja, es más probable que el cliente se vaya (relación negativa). Aunque también si age tiene una correlación de 0.35 con exited, significa que a medida que la edad del cliente aumenta, es más probable que el cliente se vaya (relación positiva)."
   ]
  },
  {
   "cell_type": "markdown",
   "metadata": {},
   "source": [
    "<div class=\"alert alert-block alert-danger\">\n",
    "<b>Comentario del revisor</b> <a class=\"tocSkip\"></a>\n",
    "    \n",
    "Tus datos SI estan balanceados, cuando hagas el cambio a la columna *Exit* notaras que el desbalance. Para la que estas considerando ahora NO lo hay\n",
    "</div>\n"
   ]
  },
  {
   "cell_type": "code",
   "execution_count": 8,
   "metadata": {},
   "outputs": [
    {
     "name": "stdout",
     "output_type": "stream",
     "text": [
      "<class 'pandas.core.frame.DataFrame'>\n",
      "RangeIndex: 10000 entries, 0 to 9999\n",
      "Data columns (total 11 columns):\n",
      " #   Column            Non-Null Count  Dtype  \n",
      "---  ------            --------------  -----  \n",
      " 0   row_number        10000 non-null  int64  \n",
      " 1   customer_id       10000 non-null  int64  \n",
      " 2   credit_score      10000 non-null  int64  \n",
      " 3   age               10000 non-null  int64  \n",
      " 4   tenure            10000 non-null  int64  \n",
      " 5   balance           10000 non-null  float64\n",
      " 6   num_products      10000 non-null  int64  \n",
      " 7   has_cr_card       10000 non-null  int64  \n",
      " 8   active_member     10000 non-null  int64  \n",
      " 9   estimated_salary  10000 non-null  float64\n",
      " 10  exited            10000 non-null  int64  \n",
      "dtypes: float64(2), int64(9)\n",
      "memory usage: 859.5 KB\n"
     ]
    }
   ],
   "source": [
    "# Descartamos la columnas categoricas del analisis antes de la matriz de correlacion\n",
    "df = df.drop(columns=['surname','geography','gender'])\n",
    "df.info()"
   ]
  },
  {
   "cell_type": "code",
   "execution_count": 9,
   "metadata": {},
   "outputs": [
    {
     "name": "stdout",
     "output_type": "stream",
     "text": [
      "exited              1.000000\n",
      "age                 0.285323\n",
      "balance             0.118533\n",
      "estimated_salary    0.012097\n",
      "customer_id        -0.006248\n",
      "has_cr_card        -0.007138\n",
      "tenure             -0.013319\n",
      "row_number         -0.016571\n",
      "credit_score       -0.027094\n",
      "num_products       -0.047820\n",
      "active_member      -0.156128\n",
      "Name: exited, dtype: float64\n"
     ]
    },
    {
     "data": {
      "image/png": "[encoded data removed]",
      "text/plain": [
       "<Figure size 1000x800 with 2 Axes>"
      ]
     },
     "metadata": {},
     "output_type": "display_data"
    }
   ],
   "source": [
    "# Generamos la matriz de correlacion para el dataframe\n",
    "corr_matrix = df.corr()\n",
    "\n",
    "# Mostramos la correlación con la variable objetivo 'exited'\n",
    "print(corr_matrix['exited'].sort_values(ascending=False))\n",
    "\n",
    "plt.figure(figsize=(10, 8))\n",
    "sns.heatmap(corr_matrix, annot=True, cmap='coolwarm')\n",
    "plt.title('Matriz de Correlación')\n",
    "plt.show()"
   ]
  },
  {
   "cell_type": "markdown",
   "metadata": {},
   "source": [
    "Conclusión\n",
    "\n",
    "Al observar la matriz de correlación, se puede observar que las columnas estimated_salary, customer_id, has_cr_card, tenure y row_number tienen valores muy cercanos al cero con respecto a exited haciendo que éstas sean poco relevantes para el análisis. No obstante estas columnas no se descartarán como las anteriores pero si tomara poca relevancia que si un usuario futuro decida retirarse del servicio haya sido por poseer una tarjeta de crédito o no, ni por el salario estimado o por el período durante el cual ha madurado el depósito a plazo fijo.    "
   ]
  },
  {
   "cell_type": "markdown",
   "metadata": {},
   "source": [
    "#### Generación del modelo de aprendizaje\n",
    "##### Equilibrio de clases - Modelo desequilibrado\n",
    "\n",
    "Es esencial abordar este desequilibrio para garantizar que el modelo tenga en cuenta adecuadamente todas las posibles eventualidades y produzca resultados más precisos. Para demostrar lo anterior, a continuación se muestra el modelo considerandolo y después sin tomar en cuenta para poder comparar ambos resultados. \n",
    "\n",
    "Se manejarán los modelos de regresión logística, árbol de desiciones y bosque para encotrar las métricas, hacer comparación entre ellas e identificar el mejor modelo."
   ]
  },
  {
   "cell_type": "markdown",
   "metadata": {},
   "source": [
    "######  Modelo de Regresión Logística"
   ]
  },
  {
   "cell_type": "code",
   "execution_count": 10,
   "metadata": {},
   "outputs": [],
   "source": [
    "# Objetivo y caracteristicas\n",
    "target = df['exited']\n",
    "features = df.drop('exited', axis=1)\n",
    "\n",
    "# Como el escalamiento solo se hace en variables numericas y no binarias se han descartado : 'exited', 'has_cr_card' y 'active_memeber'\n",
    "# Otras como row_number y customer_id ha sido descartadas del escalamiento porque no es necesario\n",
    "\n",
    "# Escalado de características\n",
    "numeric_columns = ['credit_score', 'age', 'tenure', 'balance', 'num_products', 'estimated_salary']\n",
    "scaler = StandardScaler()\n",
    "scaler.fit(features[numeric_columns])\n",
    "features[numeric_columns] = scaler.transform(features[numeric_columns])"
   ]
  },
  {
   "cell_type": "code",
   "execution_count": 11,
   "metadata": {},
   "outputs": [
    {
     "name": "stdout",
     "output_type": "stream",
     "text": [
      "Rendimiento del modelo con desequilibrio de clases:\n",
      "              precision    recall  f1-score   support\n",
      "\n",
      "           0       0.79      1.00      0.88      1965\n",
      "           1       0.00      0.00      0.00       535\n",
      "\n",
      "    accuracy                           0.79      2500\n",
      "   macro avg       0.39      0.50      0.44      2500\n",
      "weighted avg       0.62      0.79      0.69      2500\n",
      "\n",
      "\n"
     ]
    },
    {
     "name": "stderr",
     "output_type": "stream",
     "text": [
      "/opt/conda/envs/python3/lib/python3.9/site-packages/sklearn/metrics/_classification.py:1245: UndefinedMetricWarning: Precision and F-score are ill-defined and being set to 0.0 in labels with no predicted samples. Use `zero_division` parameter to control this behavior.\n",
      "  _warn_prf(average, modifier, msg_start, len(result))\n",
      "/opt/conda/envs/python3/lib/python3.9/site-packages/sklearn/metrics/_classification.py:1245: UndefinedMetricWarning: Precision and F-score are ill-defined and being set to 0.0 in labels with no predicted samples. Use `zero_division` parameter to control this behavior.\n",
      "  _warn_prf(average, modifier, msg_start, len(result))\n",
      "/opt/conda/envs/python3/lib/python3.9/site-packages/sklearn/metrics/_classification.py:1245: UndefinedMetricWarning: Precision and F-score are ill-defined and being set to 0.0 in labels with no predicted samples. Use `zero_division` parameter to control this behavior.\n",
      "  _warn_prf(average, modifier, msg_start, len(result))\n"
     ]
    }
   ],
   "source": [
    "# Dividimos el conjunto de datos en entrenamiento y validación\n",
    "features_train, features_valid, target_train, target_valid = train_test_split(features, target, test_size=0.25, random_state=12345)\n",
    "\n",
    "# Entrenamos el modelo de regresión logística\n",
    "model = LogisticRegression(random_state=12345, solver='liblinear')\n",
    "model.fit(features_train, target_train)\n",
    "\n",
    "# Realizamos las predicciones en el conjunto de validación\n",
    "predicted_valid = model.predict(features_valid)\n",
    "\n",
    "print(\"Rendimiento del modelo con desequilibrio de clases:\")\n",
    "print(classification_report(target_valid, predicted_valid))\n",
    "print()"
   ]
  },
  {
   "cell_type": "markdown",
   "metadata": {},
   "source": [
    "<div class=\"alert alert-block alert-danger\">\n",
    "<b>Comentario del revisor</b> <a class=\"tocSkip\"></a>\n",
    "    \n",
    "- Debes eliminar las columnas que no aportan información relevante respecto al problema, tal como Surname, que otras columnas podrias eliminar segun este criterio?\n",
    "    \n",
    "- El escalamiento es solo para variables númericas NO binarias\n",
    "</div>\n"
   ]
  },
  {
   "cell_type": "markdown",
   "metadata": {},
   "source": [
    "La evaluación del rendimiento del modelo mediante la métrica classification_report de scikit-learn proporciona varias métricas de evaluación clave como la precisión, recall, f1-score, support, accuracy, entre otra más. A continuación se define que es lo que cada una de estas métricas busca y lo que representa el valor como resultado.\n",
    "\n",
    "- La precisión es la proporción de verdaderos positivos sobre el número total de elementos que fueron etiquetados como positivos (verdaderos positivos + falsos positivos). La interpretación que esto tiene sobre el desarrollo del proyecto es que para la clase 0 (clientes que no se han ido del servicio bancario) es del 79%, lo que significa que el 79% de los clientes que el modelo predijo como no habiéndose ido realmente no se han ido. \n",
    "\n",
    "- El recall es la proporción de verdaderos positivos sobre el número total de elementos que realmente son positivos (verdaderos positivos + falsos negativos). La interpretación que esto tiene sobre el desarrollo del proyecto es que para la clase 0,el recall para la clase 0 es del 100%, lo que significa que el modelo identificó correctamente a todos los clientes que no se han ido.\n",
    "\n",
    "- El f1-score es la media armónica de la precisión y el recall. Es una métrica útil cuando necesitas un balance entre precisión y recall. La interpretación que esto tiene sobre el desarrollo del proyecto es que para la clase 0, el f1-score es del 88%.\n",
    "\n",
    "Para estas tres métricas no se tiene información sobre ellas con respecto a la clase 1, es decir, los clientes que si se han ido, y esto muy prpbablemente se deba al desequlibrio. \n",
    "\n",
    "- El support es el número de ocurrencias de cada clase en el conjunto de datos. La interpretación que esto tiene sobre el desarrollo del proyecto es que para la clase 0, el support es 1965, lo que significa que hay 1965 clientes que aún están registrados y ocupan el servicio bancario. Por otro lado, para la clase 1, el support es 535, lo que significa que hay 535 clientes que lo han descartado.\n",
    "\n",
    "- La exactitud es la proporción de predicciones correctas (tanto verdaderos positivos como verdaderos negativos) sobre el número total de predicciones. La exactitud global del modelo es 0.79, lo que significa que el 79% de todas las predicciones fueron correctas."
   ]
  },
  {
   "cell_type": "markdown",
   "metadata": {},
   "source": [
    "######  Modelo de Árbol de Desiciones"
   ]
  },
  {
   "cell_type": "code",
   "execution_count": 12,
   "metadata": {},
   "outputs": [
    {
     "name": "stdout",
     "output_type": "stream",
     "text": [
      "Rendimiento del modelo de árbol de decisión con desequilibrio de clases:\n",
      "              precision    recall  f1-score   support\n",
      "\n",
      "           0       0.86      0.86      0.86      1965\n",
      "           1       0.48      0.46      0.47       535\n",
      "\n",
      "    accuracy                           0.78      2500\n",
      "   macro avg       0.67      0.66      0.67      2500\n",
      "weighted avg       0.78      0.78      0.78      2500\n",
      "\n",
      "\n"
     ]
    }
   ],
   "source": [
    "# Entrenamos el modelo de árbol de decisión\n",
    "model_2 = DecisionTreeClassifier(random_state=12345)\n",
    "model_2.fit(features_train, target_train)\n",
    "\n",
    "# Realizamos las predicciones en el conjunto de validación\n",
    "predicted_valid_2 = model_2.predict(features_valid)\n",
    "\n",
    "print(\"Rendimiento del modelo de árbol de decisión con desequilibrio de clases:\")\n",
    "print(classification_report(target_valid, predicted_valid_2))\n",
    "print()"
   ]
  },
  {
   "cell_type": "markdown",
   "metadata": {},
   "source": [
    "######  Modelo de Bosque Aleatorio"
   ]
  },
  {
   "cell_type": "code",
   "execution_count": 13,
   "metadata": {},
   "outputs": [
    {
     "name": "stdout",
     "output_type": "stream",
     "text": [
      "Rendimiento del modelo Random Forest con el desequilibrio de clases:\n",
      "              precision    recall  f1-score   support\n",
      "\n",
      "           0       0.86      0.97      0.91      1965\n",
      "           1       0.76      0.41      0.53       535\n",
      "\n",
      "    accuracy                           0.85      2500\n",
      "   macro avg       0.81      0.69      0.72      2500\n",
      "weighted avg       0.84      0.85      0.83      2500\n",
      "\n"
     ]
    }
   ],
   "source": [
    "# Inicializamos el modelo Random Forest\n",
    "rf_model = RandomForestClassifier(random_state=12345)\n",
    "\n",
    "# Entrenamos el modelo con tus datos de entrenamiento\n",
    "rf_model.fit(features_train, target_train)\n",
    "\n",
    "# Realizamos predicciones en tus datos de validación\n",
    "predicted_valid_rf = rf_model.predict(features_valid)\n",
    "\n",
    "print(\"Rendimiento del modelo Random Forest con el desequilibrio de clases:\")\n",
    "print(classification_report(target_valid, predicted_valid_rf))"
   ]
  },
  {
   "cell_type": "markdown",
   "metadata": {},
   "source": [
    "A diferencia del modelo anterior, en los últimos dos si se reflejan datos para la clase 1 que es de aquellos usuarios que salieron del sistema bancario. Esto se debe a diferentes factores como hiperparámetros establecidos, capacidad de captura de patrones ya que Los modelos de árbol de decisión pueden capturar relaciones no lineales y decisiones más complejas en los datos y también el desbalance de clases en los datos, ya que el árbol de decisión podría ser más efectivo para manejarlo que la regresión logística porque al ser un modelo no paramétrico, los árboles de decisión pueden adaptarse mejor a las distribuciones desiguales de las clases y mejor aún los bosques."
   ]
  },
  {
   "cell_type": "markdown",
   "metadata": {},
   "source": [
    "Conclusión\n",
    "\n",
    "Este modelo que considerar el desequilibrio de clases proporciona las métricas anteriores, no obstante la aplicación de éste es errónea hay un desbalance significativo entre las clases en los datos de entrenamiento y algunos modelos pueden tener dificultades para predecir la clase minoritaria como es el caso de la regresión logística. Por ejemplo, si la clase 1 (clientes que se han ido) está subrepresentada en comparación con la clase 0 (clientes que no se han ido), es posible que un modelo tenga dificultades para identificar correctamente los casos positivos. Es importante que este balcaneada entonces porque así podremos encontrar y predecir cuántos más pueden dejarlo."
   ]
  },
  {
   "cell_type": "markdown",
   "metadata": {},
   "source": [
    "<div class=\"alert alert-block alert-success\">\n",
    "<b>Comentario del revisor</b> <a class=\"tocSkip\"></a>\n",
    "    \n",
    "El analisis del modelo esta perfecto! te felicito\n",
    "</div>\n"
   ]
  },
  {
   "cell_type": "markdown",
   "metadata": {},
   "source": [
    "<div class=\"alert alert-block alert-danger\">\n",
    "<b>Comentario del revisor</b> <a class=\"tocSkip\"></a>\n",
    "    \n",
    "Prueba con otros modelos para poder contrastar \n",
    "</div>\n"
   ]
  },
  {
   "cell_type": "markdown",
   "metadata": {},
   "source": [
    "##### Equilibrio de clases - Modelo equilibrado\n",
    "Se ha visto que es indispensable generar un equilibrio entre las clases 0 y 1 ya que hay más de la clase 0. En este caso lo ideal sería generarlo a través del sobremuestreo de la clase 1 o el submuestreo de la clase 0. A continuación se observa cada uno de estos métodos y como impacta en las métricas especialmente en f1_score que es requerido que al menos este en 0.59 en ambos modelos presentados anteriormente.\n",
    "\n",
    "Para ambas funciones, es importante considerar la proporción siguiente correspondiente a la cantidad de datos que hay por clase:\n",
    "\n",
    "Proporción = Instancias de clase 0 / Instancias de clase 1 = 7963 / 2037 ≈ 3.91\n",
    "Esto significa que hay aproximadamente 3.91 veces más instancias de la clase mayoritaria que de la clase minoritaria.\n",
    "Este valor lo usaremos ya sea para multiplicar la clase 1 o divividr la clase 0 hasta tener un resultado de ambas clases equilibrado. Es un aproximado pero puedo variar dependiendo de los resultados deseados.\n",
    "\n",
    "######  Sobremuestreo y Submuestreo"
   ]
  },
  {
   "cell_type": "code",
   "execution_count": 42,
   "metadata": {},
   "outputs": [],
   "source": [
    "# Esta funcion es para poder hacer un sobremuestreo\n",
    "def upsample(features, target, repeat):\n",
    "    features_zeros = features[target == 0]\n",
    "    features_ones = features[target == 1]\n",
    "    target_zeros = target[target == 0]\n",
    "    target_ones = target[target == 1]\n",
    "\n",
    "    features_upsampled = pd.concat([features_zeros] + [features_ones] * repeat)\n",
    "    target_upsampled = pd.concat([target_zeros] + [target_ones] * repeat)\n",
    "\n",
    "    features_upsampled, target_upsampled = shuffle(features_upsampled, target_upsampled, random_state=12345)\n",
    "\n",
    "    return features_upsampled, target_upsampled\n",
    "\n",
    "features_upsampled, target_upsampled = upsample(features_train, target_train, 4)"
   ]
  },
  {
   "cell_type": "code",
   "execution_count": 43,
   "metadata": {},
   "outputs": [],
   "source": [
    "# Esta funcion es para poder hacer un submuestreo\n",
    "def downsample(features, target, fraction):\n",
    "    features_zeros = features[target == 0]\n",
    "    features_ones = features[target == 1]\n",
    "    target_zeros = target[target == 0]\n",
    "    target_ones = target[target == 1]\n",
    "\n",
    "    features_downsampled = pd.concat([features_zeros.sample(frac=fraction, random_state=12345)] + [features_ones])\n",
    "    target_downsampled = pd.concat([target_zeros.sample(frac=fraction, random_state=12345)] + [target_ones])\n",
    "\n",
    "    features_downsampled, target_downsampled = shuffle(features_downsampled, target_downsampled, random_state=12345)\n",
    "\n",
    "    return features_downsampled, target_downsampled\n",
    "\n",
    "\n",
    "features_downsampled, target_downsampled = downsample(features_train, target_train, 0.5)"
   ]
  },
  {
   "cell_type": "markdown",
   "metadata": {},
   "source": [
    "######  Modelo de Regresión Logística con sobremuestreo y submuestreo"
   ]
  },
  {
   "cell_type": "code",
   "execution_count": 44,
   "metadata": {},
   "outputs": [
    {
     "name": "stdout",
     "output_type": "stream",
     "text": [
      "F1: 0.2994895065229722\n"
     ]
    }
   ],
   "source": [
    "# Entrenamos al modelo con el sobremuestreo\n",
    "model_3 = LogisticRegression(random_state = 12345, solver='liblinear')\n",
    "model_3.fit(features_upsampled,target_upsampled)\n",
    "predicted_valid_3 = model_3.predict(features_valid)\n",
    "\n",
    "print('F1:', f1_score(target_valid, predicted_valid_3))"
   ]
  },
  {
   "cell_type": "code",
   "execution_count": 45,
   "metadata": {},
   "outputs": [
    {
     "name": "stdout",
     "output_type": "stream",
     "text": [
      "F1: 0.0\n"
     ]
    }
   ],
   "source": [
    "# Entrenamos al modelo con el submuestreo\n",
    "model_4 = LogisticRegression(random_state = 12345, solver='liblinear')\n",
    "model_4.fit(features_downsampled,target_downsampled)\n",
    "predicted_valid_4 = model_4.predict(features_valid)\n",
    "\n",
    "print('F1:', f1_score(target_valid, predicted_valid_4))"
   ]
  },
  {
   "cell_type": "markdown",
   "metadata": {},
   "source": [
    "######  Modelo de Árbol de Desiciones con sobremuestreo y submuestreo"
   ]
  },
  {
   "cell_type": "code",
   "execution_count": 46,
   "metadata": {},
   "outputs": [
    {
     "name": "stdout",
     "output_type": "stream",
     "text": [
      "F1: 0.46241674595623217\n"
     ]
    }
   ],
   "source": [
    "model_5 = DecisionTreeClassifier(random_state=12345)\n",
    "model_5.fit(features_upsampled,target_upsampled)\n",
    "predicted_valid_5 = model_5.predict(features_valid)\n",
    "\n",
    "print('F1:', f1_score(target_valid, predicted_valid_5))"
   ]
  },
  {
   "cell_type": "code",
   "execution_count": 47,
   "metadata": {},
   "outputs": [
    {
     "name": "stdout",
     "output_type": "stream",
     "text": [
      "F1: 0.4770784770784771\n"
     ]
    }
   ],
   "source": [
    "model_6 = DecisionTreeClassifier(random_state=12345)\n",
    "model_6.fit(features_downsampled,target_downsampled)\n",
    "predicted_valid_6 = model_6.predict(features_valid)\n",
    "\n",
    "print('F1:', f1_score(target_valid, predicted_valid_6))"
   ]
  },
  {
   "cell_type": "markdown",
   "metadata": {},
   "source": [
    "######  Modelo de Bosque Aleatorio con sobremuestreo y submuestreo"
   ]
  },
  {
   "cell_type": "code",
   "execution_count": 48,
   "metadata": {},
   "outputs": [
    {
     "name": "stdout",
     "output_type": "stream",
     "text": [
      "F1: 0.5652173913043478\n"
     ]
    }
   ],
   "source": [
    "model_rf_2 = RandomForestClassifier(random_state=12345)\n",
    "model_rf_2.fit(features_upsampled,target_upsampled)\n",
    "predicted_valid_rf_2 = model_rf_2.predict(features_valid)\n",
    "\n",
    "print('F1:', f1_score(target_valid, predicted_valid_rf_2))"
   ]
  },
  {
   "cell_type": "code",
   "execution_count": 49,
   "metadata": {},
   "outputs": [
    {
     "name": "stdout",
     "output_type": "stream",
     "text": [
      "F1: 0.5965583173996176\n"
     ]
    }
   ],
   "source": [
    "model_rf_3 = RandomForestClassifier(random_state=12345)\n",
    "model_rf_3.fit(features_downsampled,target_downsampled)\n",
    "predicted_valid_rf_3 = model_rf_3.predict(features_valid)\n",
    "\n",
    "print('F1:', f1_score(target_valid, predicted_valid_rf_3))"
   ]
  },
  {
   "cell_type": "markdown",
   "metadata": {},
   "source": [
    "Conclusión\n",
    "\n",
    "Se llevaron a cabo pruebas con tres modelos diferentes: regresión logística, árbol de decisiones y bosque aleatorio, con el objetivo de lograr un F1-score igual o superior a 0.59. Se implementaron técnicas de sobremuestreo y submuestreo para abordar el desequilibrio de clases en los datos, y se experimentaron con diferentes valores en ambas funciones hasta encontrar el punto óptimo que condujera al resultado deseado.\n",
    "\n",
    "Aunque se realizaron ajustes y pruebas exhaustivas en los tres modelos, se observó que el bosque aleatorio fue el que produjo los mejores resultados. Esto se debe a que el bosque aleatorio combina las características de un árbol de decisiones en múltiples árboles, lo que permite capturar relaciones no lineales y mejorar la generalización del modelo. Como resultado, el bosque aleatorio con submuestreo logró un F1-score de 0.59 o superior, superando así las expectativas y demostrando ser la mejor opción entre los tres modelos evaluados."
   ]
  },
  {
   "cell_type": "markdown",
   "metadata": {},
   "source": [
    "<div class=\"alert alert-block alert-success\">\n",
    "<b>Comentario del revisor</b> <a class=\"tocSkip\"></a>\n",
    "    \n",
    "Resuelto: Lograste complementar con diferentes modelos obteniendo \n",
    "</div>\n"
   ]
  },
  {
   "cell_type": "markdown",
   "metadata": {},
   "source": [
    "#### AUC-ROC del modelo\n",
    "El área bajo la curva ROC (AUC-ROC) es una medida que sirve para medir qué tan bien puede distinguir un modelo entre las clases positiva y negativa, lo que es crucial en problemas de clasificación donde hay desequilibrio entre estas clases. Es una forma de evaluar la capacidad de un modelo para clasificar correctamente las instancias, incluso cuando hay más ejemplos de una clase que de la otra.\n",
    "En este caso se verificará el AUC-ROC tanto en el modelo original como en el modelo con submuestreo es fundamental para comprender cómo afecta esta técnica al rendimiento del modelo. Al calcular el AUC-ROC en el modelo original, podemos tener una visión general del rendimiento del modelo sin ninguna modificación en los datos. Esto nos permite entender cómo se comporta el modelo en su estado inicial y nos sirve como punto de referencia para comparar con el rendimiento obtenido después de aplicar el submuestreo."
   ]
  },
  {
   "cell_type": "code",
   "execution_count": 22,
   "metadata": {},
   "outputs": [
    {
     "data": {
      "image/png": "[encoded data removed]",
      "text/plain": [
       "<Figure size 640x480 with 1 Axes>"
      ]
     },
     "metadata": {},
     "output_type": "display_data"
    }
   ],
   "source": [
    "# Definimos ROC con los valores del modelo original\n",
    "probabilities_valid = model.predict_proba(features_valid)\n",
    "probabilities_one_valid = probabilities_valid[:, 1]\n",
    "\n",
    "fpr, tpr, thresholds = roc_curve(target_valid,probabilities_one_valid)\n",
    "\n",
    "plt.figure()\n",
    "plt.plot(fpr, tpr)\n",
    "plt.plot([0, 1], [0, 1], linestyle='--')\n",
    "plt.xlim([0.0, 1.0])\n",
    "plt.ylim([0.0, 1.0])\n",
    "plt.xlabel('Tasa de falsos positivos')\n",
    "plt.ylabel('Tasa de verdaderos positivos')\n",
    "plt.title('Curva ROC - modelo original')\n",
    "plt.show()"
   ]
  },
  {
   "cell_type": "code",
   "execution_count": 23,
   "metadata": {},
   "outputs": [
    {
     "name": "stdout",
     "output_type": "stream",
     "text": [
      "0.5208313714299303\n"
     ]
    }
   ],
   "source": [
    "# Examinamos los valores AUC-ROC en el modelo original\n",
    "auc_roc = roc_auc_score(target_valid, probabilities_one_valid)\n",
    "print(auc_roc)"
   ]
  },
  {
   "cell_type": "code",
   "execution_count": 50,
   "metadata": {},
   "outputs": [
    {
     "data": {
      "image/png": "[encoded data removed]",
      "text/plain": [
       "<Figure size 640x480 with 1 Axes>"
      ]
     },
     "metadata": {},
     "output_type": "display_data"
    }
   ],
   "source": [
    "# Definimos ROC con los valores del modelo de bosque aleatorio con submuestreo\n",
    "probabilities_valid_rf = model_rf_3.predict_proba(features_valid)\n",
    "probabilities_one_valid_rf = probabilities_valid_rf[:, 1]\n",
    "\n",
    "fpr, tpr, thresholds = roc_curve(target_valid,probabilities_one_valid_rf)\n",
    "\n",
    "plt.figure()\n",
    "plt.plot(fpr, tpr)\n",
    "plt.plot([0, 1], [0, 1], linestyle='--')\n",
    "plt.xlim([0.0, 1.0])\n",
    "plt.ylim([0.0, 1.0])\n",
    "plt.xlabel('Tasa de falsos positivos')\n",
    "plt.ylabel('Tasa de verdaderos positivos')\n",
    "plt.title('Curva ROC - modelo con submuestreo - bosque aleatorio')\n",
    "plt.show()"
   ]
  },
  {
   "cell_type": "code",
   "execution_count": 25,
   "metadata": {},
   "outputs": [
    {
     "name": "stdout",
     "output_type": "stream",
     "text": [
      "0.6640912225630782\n"
     ]
    }
   ],
   "source": [
    "# Examinamos los valores AUC-ROC en el modelo con el submuestreo\n",
    "auc_roc = roc_auc_score(target_valid, probabilities_one_valid_2)\n",
    "print(auc_roc)"
   ]
  },
  {
   "cell_type": "markdown",
   "metadata": {},
   "source": [
    "Conclusión\n",
    "\n",
    "Un aumento en el valor del AUC-ROC de 0.52 a 0.66 después de aplicar el submuestreo sugiere una gran mejora en el rendimiento del modelo en la capacidad de distinguir entre las clases positiva y negativa. Sin embargo, dado que el aumento es pequeño, es posible que esta mejora sea marginal. Es importante tener en cuenta otros aspectos del rendimiento del modelo, como la precisión, el recall y la especificidad, para tener una evaluación más completa de su efectividad."
   ]
  },
  {
   "cell_type": "markdown",
   "metadata": {},
   "source": [
    "### Conclusión\n",
    "En cuanto a identificar clientes propensos a cancelar sus cuentas bancarias, la métrica F1 es fundamental para evaluar el rendimiento del modelo de manera integral. La combinación de precisión y recall en el F1-score proporciona una medida equilibrada del rendimiento del modelo, especialmente en situaciones de desequilibrio entre las clases. Maximizar el F1-score es crucial para garantizar que el modelo identifique correctamente a los clientes propensos a cancelar sin etiquetar erróneamente a demasiados clientes que no lo están. Por lo tanto, al desarrollar y ajustar modelos de predicción de cancelaciones bancarias, es esencial tener en cuenta y optimizar el F1-score para obtener resultados precisos y útiles en la identificación de clientes propensos a cancelar sus cuentas."
   ]
  },
  {
   "cell_type": "markdown",
   "metadata": {},
   "source": [
    "<div class=\"alert alert-block alert-success\">\n",
    "<b>Comentario del revisor</b> <a class=\"tocSkip\"></a>\n",
    "    \n",
    "Muy bien resuelto! los cambios mejoraron bastante tus resultados.\n",
    "Felicidades! tu analisis fue muy bueno en general y logras resaltar los aspectos más relevantes.\n",
    "</div>\n"
   ]
  },
  {
   "cell_type": "code",
   "execution_count": null,
   "metadata": {},
   "outputs": [],
   "source": []
  }
 ],
 "metadata": {
  "ExecuteTimeLog": [
   {
    "duration": 5076,
    "start_time": "2024-05-28T20:07:02.546Z"
   },
   {
    "duration": 52,
    "start_time": "2024-05-28T20:07:09.226Z"
   },
   {
    "duration": 6,
    "start_time": "2024-05-28T20:13:44.393Z"
   },
   {
    "duration": 41,
    "start_time": "2024-05-28T20:14:08.538Z"
   },
   {
    "duration": 41,
    "start_time": "2024-05-28T20:14:18.328Z"
   },
   {
    "duration": 11,
    "start_time": "2024-05-28T20:17:07.398Z"
   },
   {
    "duration": 12,
    "start_time": "2024-05-28T20:18:31.338Z"
   },
   {
    "duration": 41,
    "start_time": "2024-05-28T20:19:24.722Z"
   },
   {
    "duration": 6,
    "start_time": "2024-05-28T20:31:01.790Z"
   },
   {
    "duration": 1424,
    "start_time": "2024-05-28T20:33:46.782Z"
   },
   {
    "duration": 50,
    "start_time": "2024-05-28T20:33:48.210Z"
   },
   {
    "duration": 7,
    "start_time": "2024-05-28T20:33:48.264Z"
   },
   {
    "duration": 46,
    "start_time": "2024-05-28T20:33:48.275Z"
   },
   {
    "duration": 14,
    "start_time": "2024-05-28T20:35:52.286Z"
   },
   {
    "duration": 1557,
    "start_time": "2024-05-28T20:36:54.598Z"
   },
   {
    "duration": 50,
    "start_time": "2024-05-28T20:36:56.159Z"
   },
   {
    "duration": 15,
    "start_time": "2024-05-28T20:36:56.212Z"
   },
   {
    "duration": 9,
    "start_time": "2024-05-28T20:36:56.230Z"
   },
   {
    "duration": 6,
    "start_time": "2024-05-28T20:36:56.245Z"
   },
   {
    "duration": 56,
    "start_time": "2024-05-28T20:36:56.254Z"
   },
   {
    "duration": 1406,
    "start_time": "2024-05-28T20:40:16.434Z"
   },
   {
    "duration": 36,
    "start_time": "2024-05-28T20:40:17.844Z"
   },
   {
    "duration": 30,
    "start_time": "2024-05-28T20:40:17.883Z"
   },
   {
    "duration": 7,
    "start_time": "2024-05-28T20:40:17.916Z"
   },
   {
    "duration": 15,
    "start_time": "2024-05-28T20:40:17.927Z"
   },
   {
    "duration": 7,
    "start_time": "2024-05-28T20:40:17.945Z"
   },
   {
    "duration": 1420,
    "start_time": "2024-05-28T20:43:38.682Z"
   },
   {
    "duration": 37,
    "start_time": "2024-05-28T20:43:40.105Z"
   },
   {
    "duration": 14,
    "start_time": "2024-05-28T20:43:40.144Z"
   },
   {
    "duration": 9,
    "start_time": "2024-05-28T20:43:40.162Z"
   },
   {
    "duration": 50,
    "start_time": "2024-05-28T20:43:40.175Z"
   },
   {
    "duration": 20,
    "start_time": "2024-05-28T20:43:40.228Z"
   },
   {
    "duration": 1443,
    "start_time": "2024-05-28T21:02:53.700Z"
   },
   {
    "duration": 37,
    "start_time": "2024-05-28T21:02:55.146Z"
   },
   {
    "duration": 27,
    "start_time": "2024-05-28T21:02:55.188Z"
   },
   {
    "duration": 8,
    "start_time": "2024-05-28T21:02:55.221Z"
   },
   {
    "duration": 522,
    "start_time": "2024-05-28T21:02:55.233Z"
   },
   {
    "duration": 0,
    "start_time": "2024-05-28T21:02:55.759Z"
   },
   {
    "duration": 0,
    "start_time": "2024-05-28T21:02:55.761Z"
   },
   {
    "duration": 1383,
    "start_time": "2024-05-28T21:03:22.049Z"
   },
   {
    "duration": 35,
    "start_time": "2024-05-28T21:03:23.436Z"
   },
   {
    "duration": 35,
    "start_time": "2024-05-28T21:03:23.474Z"
   },
   {
    "duration": 9,
    "start_time": "2024-05-28T21:03:23.512Z"
   },
   {
    "duration": 112,
    "start_time": "2024-05-28T21:03:23.526Z"
   },
   {
    "duration": 14,
    "start_time": "2024-05-28T21:03:23.641Z"
   },
   {
    "duration": 18,
    "start_time": "2024-05-28T21:03:23.658Z"
   },
   {
    "duration": 1410,
    "start_time": "2024-05-28T21:04:25.039Z"
   },
   {
    "duration": 41,
    "start_time": "2024-05-28T21:04:26.453Z"
   },
   {
    "duration": 24,
    "start_time": "2024-05-28T21:04:26.497Z"
   },
   {
    "duration": 9,
    "start_time": "2024-05-28T21:04:26.524Z"
   },
   {
    "duration": 127,
    "start_time": "2024-05-28T21:04:26.539Z"
   },
   {
    "duration": 13,
    "start_time": "2024-05-28T21:04:26.669Z"
   },
   {
    "duration": 37,
    "start_time": "2024-05-28T21:04:26.685Z"
   },
   {
    "duration": 15,
    "start_time": "2024-05-28T21:04:53.707Z"
   },
   {
    "duration": 1420,
    "start_time": "2024-05-28T21:05:01.994Z"
   },
   {
    "duration": 38,
    "start_time": "2024-05-28T21:05:03.418Z"
   },
   {
    "duration": 15,
    "start_time": "2024-05-28T21:05:03.459Z"
   },
   {
    "duration": 38,
    "start_time": "2024-05-28T21:05:03.478Z"
   },
   {
    "duration": 23,
    "start_time": "2024-05-28T21:05:03.522Z"
   },
   {
    "duration": 103,
    "start_time": "2024-05-28T21:05:03.548Z"
   },
   {
    "duration": 18,
    "start_time": "2024-05-28T21:05:03.655Z"
   },
   {
    "duration": 1397,
    "start_time": "2024-05-28T21:10:10.929Z"
   },
   {
    "duration": 37,
    "start_time": "2024-05-28T21:10:12.329Z"
   },
   {
    "duration": 14,
    "start_time": "2024-05-28T21:10:12.368Z"
   },
   {
    "duration": 28,
    "start_time": "2024-05-28T21:10:12.386Z"
   },
   {
    "duration": 16,
    "start_time": "2024-05-28T21:10:12.417Z"
   },
   {
    "duration": 110,
    "start_time": "2024-05-28T21:10:12.436Z"
   },
   {
    "duration": 7,
    "start_time": "2024-05-28T21:10:12.549Z"
   },
   {
    "duration": 433,
    "start_time": "2024-05-28T21:35:19.710Z"
   },
   {
    "duration": 8,
    "start_time": "2024-05-28T21:35:28.244Z"
   },
   {
    "duration": 34,
    "start_time": "2024-05-28T21:49:04.132Z"
   },
   {
    "duration": 13,
    "start_time": "2024-05-28T21:49:12.362Z"
   },
   {
    "duration": 62,
    "start_time": "2024-05-28T21:56:49.916Z"
   },
   {
    "duration": 9,
    "start_time": "2024-05-28T22:27:53.241Z"
   },
   {
    "duration": 1432,
    "start_time": "2024-05-28T22:34:56.617Z"
   },
   {
    "duration": 37,
    "start_time": "2024-05-28T22:34:58.053Z"
   },
   {
    "duration": 24,
    "start_time": "2024-05-28T22:34:58.093Z"
   },
   {
    "duration": 8,
    "start_time": "2024-05-28T22:34:58.121Z"
   },
   {
    "duration": 15,
    "start_time": "2024-05-28T22:34:58.133Z"
   },
   {
    "duration": 16,
    "start_time": "2024-05-28T22:34:58.151Z"
   },
   {
    "duration": 6,
    "start_time": "2024-05-28T22:34:58.210Z"
   },
   {
    "duration": 7,
    "start_time": "2024-05-28T22:34:58.219Z"
   },
   {
    "duration": 628,
    "start_time": "2024-05-28T22:34:58.229Z"
   },
   {
    "duration": 1371,
    "start_time": "2024-05-28T22:35:26.674Z"
   },
   {
    "duration": 36,
    "start_time": "2024-05-28T22:35:28.049Z"
   },
   {
    "duration": 29,
    "start_time": "2024-05-28T22:35:28.089Z"
   },
   {
    "duration": 8,
    "start_time": "2024-05-28T22:35:28.121Z"
   },
   {
    "duration": 16,
    "start_time": "2024-05-28T22:35:28.134Z"
   },
   {
    "duration": 57,
    "start_time": "2024-05-28T22:35:28.153Z"
   },
   {
    "duration": 8,
    "start_time": "2024-05-28T22:35:28.213Z"
   },
   {
    "duration": 7,
    "start_time": "2024-05-28T22:35:28.224Z"
   },
   {
    "duration": 655,
    "start_time": "2024-05-28T22:35:28.234Z"
   },
   {
    "duration": 1361,
    "start_time": "2024-05-28T22:36:59.149Z"
   },
   {
    "duration": 40,
    "start_time": "2024-05-28T22:37:00.514Z"
   },
   {
    "duration": 14,
    "start_time": "2024-05-28T22:37:00.557Z"
   },
   {
    "duration": 38,
    "start_time": "2024-05-28T22:37:00.574Z"
   },
   {
    "duration": 15,
    "start_time": "2024-05-28T22:37:00.616Z"
   },
   {
    "duration": 17,
    "start_time": "2024-05-28T22:37:00.634Z"
   },
   {
    "duration": 7,
    "start_time": "2024-05-28T22:37:00.653Z"
   },
   {
    "duration": 48,
    "start_time": "2024-05-28T22:37:00.663Z"
   },
   {
    "duration": 642,
    "start_time": "2024-05-28T22:37:00.715Z"
   },
   {
    "duration": 9,
    "start_time": "2024-05-28T22:46:49.482Z"
   },
   {
    "duration": 1370,
    "start_time": "2024-05-28T22:50:01.736Z"
   },
   {
    "duration": 37,
    "start_time": "2024-05-28T22:50:03.110Z"
   },
   {
    "duration": 16,
    "start_time": "2024-05-28T22:50:03.149Z"
   },
   {
    "duration": 8,
    "start_time": "2024-05-28T22:50:03.168Z"
   },
   {
    "duration": 16,
    "start_time": "2024-05-28T22:50:03.212Z"
   },
   {
    "duration": 16,
    "start_time": "2024-05-28T22:50:03.230Z"
   },
   {
    "duration": 6,
    "start_time": "2024-05-28T22:50:03.250Z"
   },
   {
    "duration": 49,
    "start_time": "2024-05-28T22:50:03.260Z"
   },
   {
    "duration": 723,
    "start_time": "2024-05-28T22:50:03.312Z"
   },
   {
    "duration": 1573,
    "start_time": "2024-05-28T22:51:39.402Z"
   },
   {
    "duration": 60,
    "start_time": "2024-05-28T22:51:40.984Z"
   },
   {
    "duration": 18,
    "start_time": "2024-05-28T22:51:41.049Z"
   },
   {
    "duration": 9,
    "start_time": "2024-05-28T22:51:41.072Z"
   },
   {
    "duration": 41,
    "start_time": "2024-05-28T22:51:41.086Z"
   },
   {
    "duration": 18,
    "start_time": "2024-05-28T22:51:41.130Z"
   },
   {
    "duration": 6,
    "start_time": "2024-05-28T22:51:41.153Z"
   },
   {
    "duration": 8,
    "start_time": "2024-05-28T22:51:41.163Z"
   },
   {
    "duration": 783,
    "start_time": "2024-05-28T22:51:41.175Z"
   },
   {
    "duration": 5218,
    "start_time": "2024-05-28T23:58:32.023Z"
   },
   {
    "duration": 42,
    "start_time": "2024-05-28T23:58:37.244Z"
   },
   {
    "duration": 23,
    "start_time": "2024-05-28T23:58:37.290Z"
   },
   {
    "duration": 8,
    "start_time": "2024-05-28T23:58:37.317Z"
   },
   {
    "duration": 16,
    "start_time": "2024-05-28T23:58:37.329Z"
   },
   {
    "duration": 16,
    "start_time": "2024-05-28T23:58:37.348Z"
   },
   {
    "duration": 7,
    "start_time": "2024-05-28T23:58:37.407Z"
   },
   {
    "duration": 7,
    "start_time": "2024-05-28T23:58:37.417Z"
   },
   {
    "duration": 1422,
    "start_time": "2024-05-28T23:58:37.428Z"
   },
   {
    "duration": 1432,
    "start_time": "2024-05-28T23:59:00.350Z"
   },
   {
    "duration": 47,
    "start_time": "2024-05-28T23:59:01.786Z"
   },
   {
    "duration": 13,
    "start_time": "2024-05-28T23:59:01.839Z"
   },
   {
    "duration": 10,
    "start_time": "2024-05-28T23:59:01.856Z"
   },
   {
    "duration": 47,
    "start_time": "2024-05-28T23:59:01.871Z"
   },
   {
    "duration": 20,
    "start_time": "2024-05-28T23:59:01.922Z"
   },
   {
    "duration": 8,
    "start_time": "2024-05-28T23:59:01.946Z"
   },
   {
    "duration": 8,
    "start_time": "2024-05-28T23:59:01.958Z"
   },
   {
    "duration": 824,
    "start_time": "2024-05-28T23:59:02.008Z"
   },
   {
    "duration": 1448,
    "start_time": "2024-05-29T00:31:32.218Z"
   },
   {
    "duration": 43,
    "start_time": "2024-05-29T00:31:33.671Z"
   },
   {
    "duration": 14,
    "start_time": "2024-05-29T00:31:33.717Z"
   },
   {
    "duration": 10,
    "start_time": "2024-05-29T00:31:33.737Z"
   },
   {
    "duration": 17,
    "start_time": "2024-05-29T00:31:33.752Z"
   },
   {
    "duration": 18,
    "start_time": "2024-05-29T00:31:33.806Z"
   },
   {
    "duration": 7,
    "start_time": "2024-05-29T00:31:33.827Z"
   },
   {
    "duration": 7,
    "start_time": "2024-05-29T00:31:33.837Z"
   },
   {
    "duration": 770,
    "start_time": "2024-05-29T00:31:33.848Z"
   },
   {
    "duration": 501,
    "start_time": "2024-05-29T00:31:34.621Z"
   },
   {
    "duration": 1420,
    "start_time": "2024-05-29T00:34:29.196Z"
   },
   {
    "duration": 36,
    "start_time": "2024-05-29T00:34:30.619Z"
   },
   {
    "duration": 17,
    "start_time": "2024-05-29T00:34:30.659Z"
   },
   {
    "duration": 33,
    "start_time": "2024-05-29T00:34:30.680Z"
   },
   {
    "duration": 18,
    "start_time": "2024-05-29T00:34:30.715Z"
   },
   {
    "duration": 17,
    "start_time": "2024-05-29T00:34:30.736Z"
   },
   {
    "duration": 7,
    "start_time": "2024-05-29T00:34:30.756Z"
   },
   {
    "duration": 45,
    "start_time": "2024-05-29T00:34:30.766Z"
   },
   {
    "duration": 797,
    "start_time": "2024-05-29T00:34:30.814Z"
   },
   {
    "duration": 1437,
    "start_time": "2024-05-29T00:35:00.917Z"
   },
   {
    "duration": 52,
    "start_time": "2024-05-29T00:35:02.359Z"
   },
   {
    "duration": 15,
    "start_time": "2024-05-29T00:35:02.414Z"
   },
   {
    "duration": 8,
    "start_time": "2024-05-29T00:35:02.434Z"
   },
   {
    "duration": 58,
    "start_time": "2024-05-29T00:35:02.448Z"
   },
   {
    "duration": 21,
    "start_time": "2024-05-29T00:35:02.509Z"
   },
   {
    "duration": 8,
    "start_time": "2024-05-29T00:35:02.534Z"
   },
   {
    "duration": 8,
    "start_time": "2024-05-29T00:35:02.546Z"
   },
   {
    "duration": 847,
    "start_time": "2024-05-29T00:35:02.559Z"
   },
   {
    "duration": 1423,
    "start_time": "2024-05-29T00:41:35.289Z"
   },
   {
    "duration": 46,
    "start_time": "2024-05-29T00:41:36.716Z"
   },
   {
    "duration": 14,
    "start_time": "2024-05-29T00:41:36.765Z"
   },
   {
    "duration": 29,
    "start_time": "2024-05-29T00:41:36.783Z"
   },
   {
    "duration": 17,
    "start_time": "2024-05-29T00:41:36.816Z"
   },
   {
    "duration": 17,
    "start_time": "2024-05-29T00:41:36.839Z"
   },
   {
    "duration": 9,
    "start_time": "2024-05-29T00:41:36.858Z"
   },
   {
    "duration": 42,
    "start_time": "2024-05-29T00:41:36.870Z"
   },
   {
    "duration": 796,
    "start_time": "2024-05-29T00:41:36.915Z"
   },
   {
    "duration": 11,
    "start_time": "2024-05-29T00:41:37.717Z"
   },
   {
    "duration": 12,
    "start_time": "2024-05-29T00:44:04.609Z"
   },
   {
    "duration": 1433,
    "start_time": "2024-05-29T00:44:13.679Z"
   },
   {
    "duration": 41,
    "start_time": "2024-05-29T00:44:15.116Z"
   },
   {
    "duration": 14,
    "start_time": "2024-05-29T00:44:15.160Z"
   },
   {
    "duration": 28,
    "start_time": "2024-05-29T00:44:15.178Z"
   },
   {
    "duration": 16,
    "start_time": "2024-05-29T00:44:15.209Z"
   },
   {
    "duration": 17,
    "start_time": "2024-05-29T00:44:15.228Z"
   },
   {
    "duration": 7,
    "start_time": "2024-05-29T00:44:15.248Z"
   },
   {
    "duration": 50,
    "start_time": "2024-05-29T00:44:15.258Z"
   },
   {
    "duration": 841,
    "start_time": "2024-05-29T00:44:15.310Z"
   },
   {
    "duration": 51,
    "start_time": "2024-05-29T00:44:16.156Z"
   },
   {
    "duration": 2028,
    "start_time": "2024-05-29T00:46:41.485Z"
   },
   {
    "duration": 0,
    "start_time": "2024-05-29T00:46:43.517Z"
   },
   {
    "duration": 0,
    "start_time": "2024-05-29T00:46:43.519Z"
   },
   {
    "duration": 0,
    "start_time": "2024-05-29T00:46:43.521Z"
   },
   {
    "duration": 0,
    "start_time": "2024-05-29T00:46:43.522Z"
   },
   {
    "duration": 1,
    "start_time": "2024-05-29T00:46:43.524Z"
   },
   {
    "duration": 0,
    "start_time": "2024-05-29T00:46:43.526Z"
   },
   {
    "duration": 0,
    "start_time": "2024-05-29T00:46:43.528Z"
   },
   {
    "duration": 0,
    "start_time": "2024-05-29T00:46:43.529Z"
   },
   {
    "duration": 0,
    "start_time": "2024-05-29T00:46:43.531Z"
   },
   {
    "duration": 1975,
    "start_time": "2024-05-29T00:46:53.884Z"
   },
   {
    "duration": 0,
    "start_time": "2024-05-29T00:46:55.862Z"
   },
   {
    "duration": 0,
    "start_time": "2024-05-29T00:46:55.865Z"
   },
   {
    "duration": 0,
    "start_time": "2024-05-29T00:46:55.867Z"
   },
   {
    "duration": 0,
    "start_time": "2024-05-29T00:46:55.868Z"
   },
   {
    "duration": 0,
    "start_time": "2024-05-29T00:46:55.870Z"
   },
   {
    "duration": 0,
    "start_time": "2024-05-29T00:46:55.872Z"
   },
   {
    "duration": 0,
    "start_time": "2024-05-29T00:46:55.874Z"
   },
   {
    "duration": 0,
    "start_time": "2024-05-29T00:46:55.876Z"
   },
   {
    "duration": 0,
    "start_time": "2024-05-29T00:46:55.878Z"
   },
   {
    "duration": 16590,
    "start_time": "2024-05-29T00:48:50.672Z"
   },
   {
    "duration": 1902,
    "start_time": "2024-05-29T00:49:07.266Z"
   },
   {
    "duration": 0,
    "start_time": "2024-05-29T00:49:09.172Z"
   },
   {
    "duration": 0,
    "start_time": "2024-05-29T00:49:09.175Z"
   },
   {
    "duration": 0,
    "start_time": "2024-05-29T00:49:09.177Z"
   },
   {
    "duration": 0,
    "start_time": "2024-05-29T00:49:09.179Z"
   },
   {
    "duration": 0,
    "start_time": "2024-05-29T00:49:09.181Z"
   },
   {
    "duration": 0,
    "start_time": "2024-05-29T00:49:09.207Z"
   },
   {
    "duration": 0,
    "start_time": "2024-05-29T00:49:09.209Z"
   },
   {
    "duration": 0,
    "start_time": "2024-05-29T00:49:09.212Z"
   },
   {
    "duration": 0,
    "start_time": "2024-05-29T00:49:09.213Z"
   },
   {
    "duration": 33,
    "start_time": "2024-05-29T00:51:30.002Z"
   },
   {
    "duration": 1921,
    "start_time": "2024-05-29T00:51:57.573Z"
   },
   {
    "duration": 0,
    "start_time": "2024-05-29T00:51:59.499Z"
   },
   {
    "duration": 0,
    "start_time": "2024-05-29T00:51:59.500Z"
   },
   {
    "duration": 0,
    "start_time": "2024-05-29T00:51:59.507Z"
   },
   {
    "duration": 0,
    "start_time": "2024-05-29T00:51:59.508Z"
   },
   {
    "duration": 0,
    "start_time": "2024-05-29T00:51:59.510Z"
   },
   {
    "duration": 0,
    "start_time": "2024-05-29T00:51:59.511Z"
   },
   {
    "duration": 0,
    "start_time": "2024-05-29T00:51:59.513Z"
   },
   {
    "duration": 0,
    "start_time": "2024-05-29T00:51:59.515Z"
   },
   {
    "duration": 0,
    "start_time": "2024-05-29T00:51:59.516Z"
   },
   {
    "duration": 2426,
    "start_time": "2024-05-29T00:52:45.676Z"
   },
   {
    "duration": 1911,
    "start_time": "2024-05-29T00:52:48.110Z"
   },
   {
    "duration": 0,
    "start_time": "2024-05-29T00:52:50.025Z"
   },
   {
    "duration": 0,
    "start_time": "2024-05-29T00:52:50.030Z"
   },
   {
    "duration": 0,
    "start_time": "2024-05-29T00:52:50.033Z"
   },
   {
    "duration": 0,
    "start_time": "2024-05-29T00:52:50.035Z"
   },
   {
    "duration": 0,
    "start_time": "2024-05-29T00:52:50.036Z"
   },
   {
    "duration": 0,
    "start_time": "2024-05-29T00:52:50.037Z"
   },
   {
    "duration": 0,
    "start_time": "2024-05-29T00:52:50.039Z"
   },
   {
    "duration": 0,
    "start_time": "2024-05-29T00:52:50.041Z"
   },
   {
    "duration": 0,
    "start_time": "2024-05-29T00:52:50.043Z"
   },
   {
    "duration": 1962,
    "start_time": "2024-05-29T00:53:49.888Z"
   },
   {
    "duration": 0,
    "start_time": "2024-05-29T00:53:51.854Z"
   },
   {
    "duration": 0,
    "start_time": "2024-05-29T00:53:51.855Z"
   },
   {
    "duration": 1,
    "start_time": "2024-05-29T00:53:51.856Z"
   },
   {
    "duration": 0,
    "start_time": "2024-05-29T00:53:51.858Z"
   },
   {
    "duration": 0,
    "start_time": "2024-05-29T00:53:51.860Z"
   },
   {
    "duration": 0,
    "start_time": "2024-05-29T00:53:51.862Z"
   },
   {
    "duration": 0,
    "start_time": "2024-05-29T00:53:51.864Z"
   },
   {
    "duration": 0,
    "start_time": "2024-05-29T00:53:51.865Z"
   },
   {
    "duration": 0,
    "start_time": "2024-05-29T00:53:51.867Z"
   },
   {
    "duration": 1457,
    "start_time": "2024-05-29T00:55:32.710Z"
   },
   {
    "duration": 40,
    "start_time": "2024-05-29T00:55:34.171Z"
   },
   {
    "duration": 13,
    "start_time": "2024-05-29T00:55:34.214Z"
   },
   {
    "duration": 9,
    "start_time": "2024-05-29T00:55:34.230Z"
   },
   {
    "duration": 18,
    "start_time": "2024-05-29T00:55:34.244Z"
   },
   {
    "duration": 53,
    "start_time": "2024-05-29T00:55:34.265Z"
   },
   {
    "duration": 7,
    "start_time": "2024-05-29T00:55:34.322Z"
   },
   {
    "duration": 8,
    "start_time": "2024-05-29T00:55:34.332Z"
   },
   {
    "duration": 869,
    "start_time": "2024-05-29T00:55:34.343Z"
   },
   {
    "duration": 12,
    "start_time": "2024-05-29T00:55:35.214Z"
   },
   {
    "duration": 1431,
    "start_time": "2024-05-29T00:59:53.560Z"
   },
   {
    "duration": 41,
    "start_time": "2024-05-29T00:59:54.997Z"
   },
   {
    "duration": 15,
    "start_time": "2024-05-29T00:59:55.041Z"
   },
   {
    "duration": 9,
    "start_time": "2024-05-29T00:59:55.059Z"
   },
   {
    "duration": 17,
    "start_time": "2024-05-29T00:59:55.106Z"
   },
   {
    "duration": 17,
    "start_time": "2024-05-29T00:59:55.126Z"
   },
   {
    "duration": 7,
    "start_time": "2024-05-29T00:59:55.146Z"
   },
   {
    "duration": 7,
    "start_time": "2024-05-29T00:59:55.157Z"
   },
   {
    "duration": 796,
    "start_time": "2024-05-29T00:59:55.168Z"
   },
   {
    "duration": 1221,
    "start_time": "2024-05-29T00:59:56.007Z"
   },
   {
    "duration": 3,
    "start_time": "2024-05-29T00:59:57.231Z"
   },
   {
    "duration": 4,
    "start_time": "2024-05-29T00:59:57.237Z"
   },
   {
    "duration": 1438,
    "start_time": "2024-05-29T01:03:14.326Z"
   },
   {
    "duration": 45,
    "start_time": "2024-05-29T01:03:15.767Z"
   },
   {
    "duration": 15,
    "start_time": "2024-05-29T01:03:15.815Z"
   },
   {
    "duration": 8,
    "start_time": "2024-05-29T01:03:15.833Z"
   },
   {
    "duration": 16,
    "start_time": "2024-05-29T01:03:15.845Z"
   },
   {
    "duration": 53,
    "start_time": "2024-05-29T01:03:15.864Z"
   },
   {
    "duration": 6,
    "start_time": "2024-05-29T01:03:15.921Z"
   },
   {
    "duration": 6,
    "start_time": "2024-05-29T01:03:15.930Z"
   },
   {
    "duration": 792,
    "start_time": "2024-05-29T01:03:15.939Z"
   },
   {
    "duration": 800,
    "start_time": "2024-05-29T01:03:16.734Z"
   },
   {
    "duration": 1098,
    "start_time": "2024-05-29T01:03:17.536Z"
   },
   {
    "duration": 4,
    "start_time": "2024-05-29T01:03:18.637Z"
   },
   {
    "duration": 68,
    "start_time": "2024-05-29T01:03:18.643Z"
   },
   {
    "duration": 3,
    "start_time": "2024-05-29T01:03:18.719Z"
   },
   {
    "duration": 787,
    "start_time": "2024-05-29T01:04:56.639Z"
   },
   {
    "duration": 1168,
    "start_time": "2024-05-29T01:04:59.188Z"
   },
   {
    "duration": 883,
    "start_time": "2024-05-29T01:05:26.783Z"
   },
   {
    "duration": 1377,
    "start_time": "2024-05-29T01:05:28.629Z"
   },
   {
    "duration": 983,
    "start_time": "2024-05-29T01:05:37.534Z"
   },
   {
    "duration": 1438,
    "start_time": "2024-05-29T01:05:40.774Z"
   },
   {
    "duration": 1104,
    "start_time": "2024-05-29T01:05:47.654Z"
   },
   {
    "duration": 333,
    "start_time": "2024-05-29T01:05:59.526Z"
   },
   {
    "duration": 1390,
    "start_time": "2024-05-29T01:06:12.856Z"
   },
   {
    "duration": 41,
    "start_time": "2024-05-29T01:06:14.250Z"
   },
   {
    "duration": 23,
    "start_time": "2024-05-29T01:06:14.294Z"
   },
   {
    "duration": 8,
    "start_time": "2024-05-29T01:06:14.320Z"
   },
   {
    "duration": 17,
    "start_time": "2024-05-29T01:06:14.333Z"
   },
   {
    "duration": 54,
    "start_time": "2024-05-29T01:06:14.354Z"
   },
   {
    "duration": 11,
    "start_time": "2024-05-29T01:06:14.415Z"
   },
   {
    "duration": 7,
    "start_time": "2024-05-29T01:06:14.429Z"
   },
   {
    "duration": 789,
    "start_time": "2024-05-29T01:06:14.442Z"
   },
   {
    "duration": 1085,
    "start_time": "2024-05-29T01:06:15.234Z"
   },
   {
    "duration": 1338,
    "start_time": "2024-05-29T01:06:16.322Z"
   },
   {
    "duration": 44,
    "start_time": "2024-05-29T01:06:17.663Z"
   },
   {
    "duration": 5,
    "start_time": "2024-05-29T01:06:17.709Z"
   },
   {
    "duration": 4,
    "start_time": "2024-05-29T01:06:17.718Z"
   },
   {
    "duration": 1377,
    "start_time": "2024-05-29T01:07:51.466Z"
   },
   {
    "duration": 45,
    "start_time": "2024-05-29T01:07:52.847Z"
   },
   {
    "duration": 16,
    "start_time": "2024-05-29T01:07:52.906Z"
   },
   {
    "duration": 9,
    "start_time": "2024-05-29T01:07:52.925Z"
   },
   {
    "duration": 18,
    "start_time": "2024-05-29T01:07:52.939Z"
   },
   {
    "duration": 55,
    "start_time": "2024-05-29T01:07:52.961Z"
   },
   {
    "duration": 6,
    "start_time": "2024-05-29T01:07:53.021Z"
   },
   {
    "duration": 7,
    "start_time": "2024-05-29T01:07:53.030Z"
   },
   {
    "duration": 773,
    "start_time": "2024-05-29T01:07:53.040Z"
   },
   {
    "duration": 1091,
    "start_time": "2024-05-29T01:07:53.818Z"
   },
   {
    "duration": 1455,
    "start_time": "2024-05-29T01:07:54.912Z"
   },
   {
    "duration": 384,
    "start_time": "2024-05-29T01:07:56.370Z"
   },
   {
    "duration": 4,
    "start_time": "2024-05-29T01:07:56.756Z"
   },
   {
    "duration": 4,
    "start_time": "2024-05-29T01:07:56.765Z"
   },
   {
    "duration": 1509,
    "start_time": "2024-05-29T01:12:27.841Z"
   },
   {
    "duration": 41,
    "start_time": "2024-05-29T01:12:29.354Z"
   },
   {
    "duration": 20,
    "start_time": "2024-05-29T01:12:29.410Z"
   },
   {
    "duration": 9,
    "start_time": "2024-05-29T01:12:29.437Z"
   },
   {
    "duration": 29,
    "start_time": "2024-05-29T01:12:29.452Z"
   },
   {
    "duration": 31,
    "start_time": "2024-05-29T01:12:29.484Z"
   },
   {
    "duration": 12,
    "start_time": "2024-05-29T01:12:29.519Z"
   },
   {
    "duration": 11,
    "start_time": "2024-05-29T01:12:29.535Z"
   },
   {
    "duration": 870,
    "start_time": "2024-05-29T01:12:29.549Z"
   },
   {
    "duration": 1181,
    "start_time": "2024-05-29T01:12:30.428Z"
   },
   {
    "duration": 1403,
    "start_time": "2024-05-29T01:12:31.612Z"
   },
   {
    "duration": 408,
    "start_time": "2024-05-29T01:12:33.019Z"
   },
   {
    "duration": 246,
    "start_time": "2024-05-29T01:12:33.430Z"
   },
   {
    "duration": 3,
    "start_time": "2024-05-29T01:12:33.710Z"
   },
   {
    "duration": 274,
    "start_time": "2024-05-29T01:13:59.524Z"
   },
   {
    "duration": 231,
    "start_time": "2024-05-29T01:14:01.684Z"
   },
   {
    "duration": 338,
    "start_time": "2024-05-29T01:14:05.610Z"
   },
   {
    "duration": 254,
    "start_time": "2024-05-29T01:14:07.595Z"
   },
   {
    "duration": 307,
    "start_time": "2024-05-29T01:14:11.743Z"
   },
   {
    "duration": 289,
    "start_time": "2024-05-29T01:14:15.099Z"
   },
   {
    "duration": 317,
    "start_time": "2024-05-29T01:14:18.878Z"
   },
   {
    "duration": 304,
    "start_time": "2024-05-29T01:14:20.873Z"
   },
   {
    "duration": 352,
    "start_time": "2024-05-29T01:14:26.274Z"
   },
   {
    "duration": 322,
    "start_time": "2024-05-29T01:14:28.313Z"
   },
   {
    "duration": 352,
    "start_time": "2024-05-29T01:14:31.882Z"
   },
   {
    "duration": 304,
    "start_time": "2024-05-29T01:14:33.803Z"
   },
   {
    "duration": 403,
    "start_time": "2024-05-29T01:14:37.978Z"
   },
   {
    "duration": 341,
    "start_time": "2024-05-29T01:14:41.027Z"
   },
   {
    "duration": 549,
    "start_time": "2024-05-29T01:14:44.775Z"
   },
   {
    "duration": 428,
    "start_time": "2024-05-29T01:14:46.610Z"
   },
   {
    "duration": 393,
    "start_time": "2024-05-29T01:14:52.153Z"
   },
   {
    "duration": 438,
    "start_time": "2024-05-29T01:14:54.447Z"
   },
   {
    "duration": 361,
    "start_time": "2024-05-29T01:15:02.207Z"
   },
   {
    "duration": 342,
    "start_time": "2024-05-29T01:15:04.002Z"
   },
   {
    "duration": 471,
    "start_time": "2024-05-29T01:15:08.971Z"
   },
   {
    "duration": 350,
    "start_time": "2024-05-29T01:15:10.713Z"
   },
   {
    "duration": 637,
    "start_time": "2024-05-29T01:37:59.019Z"
   },
   {
    "duration": 1399,
    "start_time": "2024-05-29T01:38:25.210Z"
   },
   {
    "duration": 36,
    "start_time": "2024-05-29T01:38:26.612Z"
   },
   {
    "duration": 13,
    "start_time": "2024-05-29T01:38:26.654Z"
   },
   {
    "duration": 35,
    "start_time": "2024-05-29T01:38:26.670Z"
   },
   {
    "duration": 17,
    "start_time": "2024-05-29T01:38:26.710Z"
   },
   {
    "duration": 17,
    "start_time": "2024-05-29T01:38:26.730Z"
   },
   {
    "duration": 7,
    "start_time": "2024-05-29T01:38:26.750Z"
   },
   {
    "duration": 45,
    "start_time": "2024-05-29T01:38:26.761Z"
   },
   {
    "duration": 753,
    "start_time": "2024-05-29T01:38:26.809Z"
   },
   {
    "duration": 1128,
    "start_time": "2024-05-29T01:38:27.564Z"
   },
   {
    "duration": 1443,
    "start_time": "2024-05-29T01:38:28.695Z"
   },
   {
    "duration": 405,
    "start_time": "2024-05-29T01:38:30.142Z"
   },
   {
    "duration": 269,
    "start_time": "2024-05-29T01:38:30.551Z"
   },
   {
    "duration": 183,
    "start_time": "2024-05-29T01:38:30.828Z"
   },
   {
    "duration": 70,
    "start_time": "2024-05-29T01:39:28.576Z"
   },
   {
    "duration": 1596,
    "start_time": "2024-05-29T01:45:26.750Z"
   },
   {
    "duration": 48,
    "start_time": "2024-05-29T01:45:28.349Z"
   },
   {
    "duration": 18,
    "start_time": "2024-05-29T01:45:28.400Z"
   },
   {
    "duration": 9,
    "start_time": "2024-05-29T01:45:28.422Z"
   },
   {
    "duration": 18,
    "start_time": "2024-05-29T01:45:28.434Z"
   },
   {
    "duration": 18,
    "start_time": "2024-05-29T01:45:28.455Z"
   },
   {
    "duration": 6,
    "start_time": "2024-05-29T01:45:28.508Z"
   },
   {
    "duration": 6,
    "start_time": "2024-05-29T01:45:28.518Z"
   },
   {
    "duration": 990,
    "start_time": "2024-05-29T01:45:28.527Z"
   },
   {
    "duration": 1265,
    "start_time": "2024-05-29T01:45:29.527Z"
   },
   {
    "duration": 1737,
    "start_time": "2024-05-29T01:45:30.799Z"
   },
   {
    "duration": 427,
    "start_time": "2024-05-29T01:45:32.548Z"
   },
   {
    "duration": 274,
    "start_time": "2024-05-29T01:45:32.982Z"
   },
   {
    "duration": 520,
    "start_time": "2024-05-29T01:45:33.259Z"
   },
   {
    "duration": 10,
    "start_time": "2024-05-29T01:45:33.782Z"
   },
   {
    "duration": 461,
    "start_time": "2024-05-29T01:45:33.807Z"
   },
   {
    "duration": 11,
    "start_time": "2024-05-29T01:45:34.275Z"
   },
   {
    "duration": 1518,
    "start_time": "2024-05-29T01:55:00.108Z"
   },
   {
    "duration": 38,
    "start_time": "2024-05-29T01:55:01.631Z"
   },
   {
    "duration": 34,
    "start_time": "2024-05-29T01:55:01.672Z"
   },
   {
    "duration": 9,
    "start_time": "2024-05-29T01:55:01.711Z"
   },
   {
    "duration": 17,
    "start_time": "2024-05-29T01:55:01.725Z"
   },
   {
    "duration": 16,
    "start_time": "2024-05-29T01:55:01.746Z"
   },
   {
    "duration": 8,
    "start_time": "2024-05-29T01:55:01.806Z"
   },
   {
    "duration": 7,
    "start_time": "2024-05-29T01:55:01.817Z"
   },
   {
    "duration": 821,
    "start_time": "2024-05-29T01:55:01.830Z"
   },
   {
    "duration": 1108,
    "start_time": "2024-05-29T01:55:02.655Z"
   },
   {
    "duration": 1396,
    "start_time": "2024-05-29T01:55:03.766Z"
   },
   {
    "duration": 364,
    "start_time": "2024-05-29T01:55:05.165Z"
   },
   {
    "duration": 234,
    "start_time": "2024-05-29T01:55:05.532Z"
   },
   {
    "duration": 490,
    "start_time": "2024-05-29T01:55:05.772Z"
   },
   {
    "duration": 8,
    "start_time": "2024-05-29T01:55:06.266Z"
   },
   {
    "duration": 428,
    "start_time": "2024-05-29T01:55:06.280Z"
   },
   {
    "duration": 9,
    "start_time": "2024-05-29T01:55:06.711Z"
   },
   {
    "duration": 18,
    "start_time": "2024-05-30T16:49:23.181Z"
   },
   {
    "duration": 6,
    "start_time": "2024-05-30T17:05:18.051Z"
   },
   {
    "duration": 5117,
    "start_time": "2024-05-30T22:34:42.863Z"
   },
   {
    "duration": 43,
    "start_time": "2024-05-30T22:34:47.983Z"
   },
   {
    "duration": 14,
    "start_time": "2024-05-30T22:34:48.032Z"
   },
   {
    "duration": 8,
    "start_time": "2024-05-30T22:34:48.049Z"
   },
   {
    "duration": 15,
    "start_time": "2024-05-30T22:34:48.062Z"
   },
   {
    "duration": 7,
    "start_time": "2024-05-30T22:34:48.080Z"
   },
   {
    "duration": 1250,
    "start_time": "2024-05-30T22:34:48.132Z"
   },
   {
    "duration": 0,
    "start_time": "2024-05-30T22:34:49.385Z"
   },
   {
    "duration": 0,
    "start_time": "2024-05-30T22:34:49.386Z"
   },
   {
    "duration": 0,
    "start_time": "2024-05-30T22:34:49.389Z"
   },
   {
    "duration": 0,
    "start_time": "2024-05-30T22:34:49.390Z"
   },
   {
    "duration": 0,
    "start_time": "2024-05-30T22:34:49.392Z"
   },
   {
    "duration": 0,
    "start_time": "2024-05-30T22:34:49.394Z"
   },
   {
    "duration": 0,
    "start_time": "2024-05-30T22:34:49.397Z"
   },
   {
    "duration": 0,
    "start_time": "2024-05-30T22:34:49.399Z"
   },
   {
    "duration": 0,
    "start_time": "2024-05-30T22:34:49.400Z"
   },
   {
    "duration": 1452,
    "start_time": "2024-05-30T22:37:40.897Z"
   },
   {
    "duration": 41,
    "start_time": "2024-05-30T22:37:42.354Z"
   },
   {
    "duration": 34,
    "start_time": "2024-05-30T22:37:42.398Z"
   },
   {
    "duration": 9,
    "start_time": "2024-05-30T22:37:42.436Z"
   },
   {
    "duration": 17,
    "start_time": "2024-05-30T22:37:42.454Z"
   },
   {
    "duration": 9,
    "start_time": "2024-05-30T22:37:42.475Z"
   },
   {
    "duration": 8,
    "start_time": "2024-05-30T22:37:42.487Z"
   },
   {
    "duration": 1490,
    "start_time": "2024-05-30T22:37:42.532Z"
   },
   {
    "duration": 0,
    "start_time": "2024-05-30T22:37:44.031Z"
   },
   {
    "duration": 0,
    "start_time": "2024-05-30T22:37:44.034Z"
   },
   {
    "duration": 1,
    "start_time": "2024-05-30T22:37:44.035Z"
   },
   {
    "duration": 0,
    "start_time": "2024-05-30T22:37:44.038Z"
   },
   {
    "duration": 0,
    "start_time": "2024-05-30T22:37:44.041Z"
   },
   {
    "duration": 0,
    "start_time": "2024-05-30T22:37:44.043Z"
   },
   {
    "duration": 0,
    "start_time": "2024-05-30T22:37:44.046Z"
   },
   {
    "duration": 0,
    "start_time": "2024-05-30T22:37:44.048Z"
   },
   {
    "duration": 43,
    "start_time": "2024-05-30T22:50:53.643Z"
   },
   {
    "duration": 38,
    "start_time": "2024-05-30T22:55:13.281Z"
   },
   {
    "duration": 1544,
    "start_time": "2024-05-30T22:55:29.633Z"
   },
   {
    "duration": 39,
    "start_time": "2024-05-30T22:55:31.181Z"
   },
   {
    "duration": 14,
    "start_time": "2024-05-30T22:55:31.231Z"
   },
   {
    "duration": 8,
    "start_time": "2024-05-30T22:55:31.248Z"
   },
   {
    "duration": 16,
    "start_time": "2024-05-30T22:55:31.262Z"
   },
   {
    "duration": 7,
    "start_time": "2024-05-30T22:55:31.281Z"
   },
   {
    "duration": 6,
    "start_time": "2024-05-30T22:55:31.330Z"
   },
   {
    "duration": 1432,
    "start_time": "2024-05-30T22:55:31.339Z"
   },
   {
    "duration": 1339,
    "start_time": "2024-05-30T22:55:32.774Z"
   },
   {
    "duration": 0,
    "start_time": "2024-05-30T22:55:34.116Z"
   },
   {
    "duration": 0,
    "start_time": "2024-05-30T22:55:34.119Z"
   },
   {
    "duration": 0,
    "start_time": "2024-05-30T22:55:34.121Z"
   },
   {
    "duration": 0,
    "start_time": "2024-05-30T22:55:34.131Z"
   },
   {
    "duration": 0,
    "start_time": "2024-05-30T22:55:34.134Z"
   },
   {
    "duration": 0,
    "start_time": "2024-05-30T22:55:34.136Z"
   },
   {
    "duration": 0,
    "start_time": "2024-05-30T22:55:34.138Z"
   },
   {
    "duration": 0,
    "start_time": "2024-05-30T22:55:34.140Z"
   },
   {
    "duration": 465,
    "start_time": "2024-05-30T22:56:40.579Z"
   },
   {
    "duration": 68003,
    "start_time": "2024-05-30T22:57:00.633Z"
   },
   {
    "duration": 89,
    "start_time": "2024-05-30T22:59:42.789Z"
   },
   {
    "duration": 1356,
    "start_time": "2024-05-30T22:59:50.611Z"
   },
   {
    "duration": 1556,
    "start_time": "2024-05-30T23:18:23.040Z"
   },
   {
    "duration": 45,
    "start_time": "2024-05-30T23:18:24.600Z"
   },
   {
    "duration": 14,
    "start_time": "2024-05-30T23:18:24.648Z"
   },
   {
    "duration": 10,
    "start_time": "2024-05-30T23:18:24.665Z"
   },
   {
    "duration": 14,
    "start_time": "2024-05-30T23:18:24.680Z"
   },
   {
    "duration": 7,
    "start_time": "2024-05-30T23:18:24.731Z"
   },
   {
    "duration": 6,
    "start_time": "2024-05-30T23:18:24.741Z"
   },
   {
    "duration": 7,
    "start_time": "2024-05-30T23:18:24.750Z"
   },
   {
    "duration": 1447,
    "start_time": "2024-05-30T23:18:24.760Z"
   },
   {
    "duration": 4,
    "start_time": "2024-05-30T23:18:26.210Z"
   },
   {
    "duration": 1289,
    "start_time": "2024-05-30T23:18:26.217Z"
   },
   {
    "duration": 0,
    "start_time": "2024-05-30T23:18:27.509Z"
   },
   {
    "duration": 0,
    "start_time": "2024-05-30T23:18:27.511Z"
   },
   {
    "duration": 0,
    "start_time": "2024-05-30T23:18:27.513Z"
   },
   {
    "duration": 0,
    "start_time": "2024-05-30T23:18:27.515Z"
   },
   {
    "duration": 0,
    "start_time": "2024-05-30T23:18:27.532Z"
   },
   {
    "duration": 0,
    "start_time": "2024-05-30T23:18:27.534Z"
   },
   {
    "duration": 0,
    "start_time": "2024-05-30T23:18:27.537Z"
   },
   {
    "duration": 0,
    "start_time": "2024-05-30T23:18:27.539Z"
   },
   {
    "duration": 1734,
    "start_time": "2024-05-30T23:18:55.265Z"
   },
   {
    "duration": 48,
    "start_time": "2024-05-30T23:18:57.003Z"
   },
   {
    "duration": 15,
    "start_time": "2024-05-30T23:18:57.054Z"
   },
   {
    "duration": 14,
    "start_time": "2024-05-30T23:18:57.075Z"
   },
   {
    "duration": 36,
    "start_time": "2024-05-30T23:18:57.095Z"
   },
   {
    "duration": 6,
    "start_time": "2024-05-30T23:18:57.134Z"
   },
   {
    "duration": 7,
    "start_time": "2024-05-30T23:18:57.143Z"
   },
   {
    "duration": 18,
    "start_time": "2024-05-30T23:18:57.153Z"
   },
   {
    "duration": 1545,
    "start_time": "2024-05-30T23:18:57.174Z"
   },
   {
    "duration": 5,
    "start_time": "2024-05-30T23:18:58.722Z"
   },
   {
    "duration": 1353,
    "start_time": "2024-05-30T23:18:58.731Z"
   },
   {
    "duration": 0,
    "start_time": "2024-05-30T23:19:00.088Z"
   },
   {
    "duration": 0,
    "start_time": "2024-05-30T23:19:00.091Z"
   },
   {
    "duration": 0,
    "start_time": "2024-05-30T23:19:00.093Z"
   },
   {
    "duration": 0,
    "start_time": "2024-05-30T23:19:00.097Z"
   },
   {
    "duration": 0,
    "start_time": "2024-05-30T23:19:00.099Z"
   },
   {
    "duration": 0,
    "start_time": "2024-05-30T23:19:00.102Z"
   },
   {
    "duration": 0,
    "start_time": "2024-05-30T23:19:00.104Z"
   },
   {
    "duration": 0,
    "start_time": "2024-05-30T23:19:00.106Z"
   },
   {
    "duration": 1525,
    "start_time": "2024-05-30T23:21:50.471Z"
   },
   {
    "duration": 52,
    "start_time": "2024-05-30T23:21:52.001Z"
   },
   {
    "duration": 14,
    "start_time": "2024-05-30T23:21:52.056Z"
   },
   {
    "duration": 8,
    "start_time": "2024-05-30T23:21:52.073Z"
   },
   {
    "duration": 55,
    "start_time": "2024-05-30T23:21:52.087Z"
   },
   {
    "duration": 8,
    "start_time": "2024-05-30T23:21:52.145Z"
   },
   {
    "duration": 6,
    "start_time": "2024-05-30T23:21:52.157Z"
   },
   {
    "duration": 120,
    "start_time": "2024-05-30T23:21:52.167Z"
   },
   {
    "duration": 1421,
    "start_time": "2024-05-30T23:21:52.290Z"
   },
   {
    "duration": 3,
    "start_time": "2024-05-30T23:21:53.714Z"
   },
   {
    "duration": 1330,
    "start_time": "2024-05-30T23:21:53.721Z"
   },
   {
    "duration": 0,
    "start_time": "2024-05-30T23:21:55.054Z"
   },
   {
    "duration": 0,
    "start_time": "2024-05-30T23:21:55.056Z"
   },
   {
    "duration": 0,
    "start_time": "2024-05-30T23:21:55.058Z"
   },
   {
    "duration": 0,
    "start_time": "2024-05-30T23:21:55.060Z"
   },
   {
    "duration": 0,
    "start_time": "2024-05-30T23:21:55.062Z"
   },
   {
    "duration": 0,
    "start_time": "2024-05-30T23:21:55.064Z"
   },
   {
    "duration": 0,
    "start_time": "2024-05-30T23:21:55.065Z"
   },
   {
    "duration": 0,
    "start_time": "2024-05-30T23:21:55.067Z"
   },
   {
    "duration": 1591,
    "start_time": "2024-05-30T23:22:33.405Z"
   },
   {
    "duration": 51,
    "start_time": "2024-05-30T23:22:35.001Z"
   },
   {
    "duration": 14,
    "start_time": "2024-05-30T23:22:35.055Z"
   },
   {
    "duration": 9,
    "start_time": "2024-05-30T23:22:35.072Z"
   },
   {
    "duration": 49,
    "start_time": "2024-05-30T23:22:35.087Z"
   },
   {
    "duration": 7,
    "start_time": "2024-05-30T23:22:35.140Z"
   },
   {
    "duration": 8,
    "start_time": "2024-05-30T23:22:35.150Z"
   },
   {
    "duration": 104,
    "start_time": "2024-05-30T23:22:35.161Z"
   },
   {
    "duration": 1623,
    "start_time": "2024-05-30T23:23:35.256Z"
   },
   {
    "duration": 52,
    "start_time": "2024-05-30T23:23:36.883Z"
   },
   {
    "duration": 16,
    "start_time": "2024-05-30T23:23:36.938Z"
   },
   {
    "duration": 7,
    "start_time": "2024-05-30T23:23:36.958Z"
   },
   {
    "duration": 14,
    "start_time": "2024-05-30T23:23:36.971Z"
   },
   {
    "duration": 47,
    "start_time": "2024-05-30T23:23:36.988Z"
   },
   {
    "duration": 7,
    "start_time": "2024-05-30T23:23:37.038Z"
   },
   {
    "duration": 14,
    "start_time": "2024-05-30T23:23:37.048Z"
   },
   {
    "duration": 1938,
    "start_time": "2024-05-30T23:23:37.065Z"
   },
   {
    "duration": 4,
    "start_time": "2024-05-30T23:23:39.006Z"
   },
   {
    "duration": 1309,
    "start_time": "2024-05-30T23:23:39.013Z"
   },
   {
    "duration": 0,
    "start_time": "2024-05-30T23:23:40.326Z"
   },
   {
    "duration": 0,
    "start_time": "2024-05-30T23:23:40.330Z"
   },
   {
    "duration": 0,
    "start_time": "2024-05-30T23:23:40.332Z"
   },
   {
    "duration": 0,
    "start_time": "2024-05-30T23:23:40.334Z"
   },
   {
    "duration": 0,
    "start_time": "2024-05-30T23:23:40.336Z"
   },
   {
    "duration": 0,
    "start_time": "2024-05-30T23:23:40.338Z"
   },
   {
    "duration": 0,
    "start_time": "2024-05-30T23:23:40.341Z"
   },
   {
    "duration": 0,
    "start_time": "2024-05-30T23:23:40.343Z"
   },
   {
    "duration": 1635,
    "start_time": "2024-05-30T23:24:42.915Z"
   },
   {
    "duration": 38,
    "start_time": "2024-05-30T23:24:44.554Z"
   },
   {
    "duration": 14,
    "start_time": "2024-05-30T23:24:44.595Z"
   },
   {
    "duration": 8,
    "start_time": "2024-05-30T23:24:44.634Z"
   },
   {
    "duration": 16,
    "start_time": "2024-05-30T23:24:44.645Z"
   },
   {
    "duration": 7,
    "start_time": "2024-05-30T23:24:44.663Z"
   },
   {
    "duration": 7,
    "start_time": "2024-05-30T23:24:44.674Z"
   },
   {
    "duration": 13,
    "start_time": "2024-05-30T23:24:44.732Z"
   },
   {
    "duration": 1588,
    "start_time": "2024-05-30T23:24:44.747Z"
   },
   {
    "duration": 4,
    "start_time": "2024-05-30T23:24:46.340Z"
   },
   {
    "duration": 1288,
    "start_time": "2024-05-30T23:24:46.347Z"
   },
   {
    "duration": 0,
    "start_time": "2024-05-30T23:24:47.638Z"
   },
   {
    "duration": 0,
    "start_time": "2024-05-30T23:24:47.640Z"
   },
   {
    "duration": 0,
    "start_time": "2024-05-30T23:24:47.643Z"
   },
   {
    "duration": 0,
    "start_time": "2024-05-30T23:24:47.645Z"
   },
   {
    "duration": 0,
    "start_time": "2024-05-30T23:24:47.647Z"
   },
   {
    "duration": 0,
    "start_time": "2024-05-30T23:24:47.650Z"
   },
   {
    "duration": 0,
    "start_time": "2024-05-30T23:24:47.652Z"
   },
   {
    "duration": 0,
    "start_time": "2024-05-30T23:24:47.655Z"
   },
   {
    "duration": 5531,
    "start_time": "2024-05-31T00:33:20.895Z"
   },
   {
    "duration": 68,
    "start_time": "2024-05-31T00:33:26.429Z"
   },
   {
    "duration": 16,
    "start_time": "2024-05-31T00:33:26.501Z"
   },
   {
    "duration": 13,
    "start_time": "2024-05-31T00:33:26.525Z"
   },
   {
    "duration": 16,
    "start_time": "2024-05-31T00:33:26.545Z"
   },
   {
    "duration": 9,
    "start_time": "2024-05-31T00:33:26.565Z"
   },
   {
    "duration": 46,
    "start_time": "2024-05-31T00:33:26.578Z"
   },
   {
    "duration": 21,
    "start_time": "2024-05-31T00:33:26.628Z"
   },
   {
    "duration": 1627,
    "start_time": "2024-05-31T00:33:26.653Z"
   },
   {
    "duration": 4,
    "start_time": "2024-05-31T00:33:28.283Z"
   },
   {
    "duration": 1451,
    "start_time": "2024-05-31T00:33:28.290Z"
   },
   {
    "duration": 0,
    "start_time": "2024-05-31T00:33:29.746Z"
   },
   {
    "duration": 0,
    "start_time": "2024-05-31T00:33:29.748Z"
   },
   {
    "duration": 0,
    "start_time": "2024-05-31T00:33:29.750Z"
   },
   {
    "duration": 0,
    "start_time": "2024-05-31T00:33:29.763Z"
   },
   {
    "duration": 0,
    "start_time": "2024-05-31T00:33:29.765Z"
   },
   {
    "duration": 0,
    "start_time": "2024-05-31T00:33:29.769Z"
   },
   {
    "duration": 0,
    "start_time": "2024-05-31T00:33:29.771Z"
   },
   {
    "duration": 0,
    "start_time": "2024-05-31T00:33:29.773Z"
   },
   {
    "duration": 1574,
    "start_time": "2024-05-31T00:54:34.044Z"
   },
   {
    "duration": 39,
    "start_time": "2024-05-31T00:54:35.624Z"
   },
   {
    "duration": 15,
    "start_time": "2024-05-31T00:54:35.666Z"
   },
   {
    "duration": 11,
    "start_time": "2024-05-31T00:54:35.684Z"
   },
   {
    "duration": 20,
    "start_time": "2024-05-31T00:54:35.727Z"
   },
   {
    "duration": 8,
    "start_time": "2024-05-31T00:54:35.750Z"
   },
   {
    "duration": 8,
    "start_time": "2024-05-31T00:54:35.761Z"
   },
   {
    "duration": 61,
    "start_time": "2024-05-31T00:54:35.772Z"
   },
   {
    "duration": 1428,
    "start_time": "2024-05-31T00:54:35.836Z"
   },
   {
    "duration": 70,
    "start_time": "2024-05-31T00:54:37.268Z"
   },
   {
    "duration": 96,
    "start_time": "2024-05-31T00:54:37.347Z"
   },
   {
    "duration": 104,
    "start_time": "2024-05-31T00:54:37.447Z"
   },
   {
    "duration": 78,
    "start_time": "2024-05-31T00:54:37.555Z"
   },
   {
    "duration": 93,
    "start_time": "2024-05-31T00:54:37.638Z"
   },
   {
    "duration": 361,
    "start_time": "2024-05-31T00:54:37.734Z"
   },
   {
    "duration": 12,
    "start_time": "2024-05-31T00:54:38.098Z"
   },
   {
    "duration": 357,
    "start_time": "2024-05-31T00:54:38.123Z"
   },
   {
    "duration": 9,
    "start_time": "2024-05-31T00:54:38.484Z"
   },
   {
    "duration": 1562,
    "start_time": "2024-05-31T00:57:21.215Z"
   },
   {
    "duration": 42,
    "start_time": "2024-05-31T00:57:22.780Z"
   },
   {
    "duration": 14,
    "start_time": "2024-05-31T00:57:22.826Z"
   },
   {
    "duration": 7,
    "start_time": "2024-05-31T00:57:22.846Z"
   },
   {
    "duration": 19,
    "start_time": "2024-05-31T00:57:22.856Z"
   },
   {
    "duration": 46,
    "start_time": "2024-05-31T00:57:22.878Z"
   },
   {
    "duration": 8,
    "start_time": "2024-05-31T00:57:22.928Z"
   },
   {
    "duration": 21,
    "start_time": "2024-05-31T00:57:22.939Z"
   },
   {
    "duration": 1777,
    "start_time": "2024-05-31T00:57:22.963Z"
   },
   {
    "duration": 84,
    "start_time": "2024-05-31T00:57:24.751Z"
   },
   {
    "duration": 91,
    "start_time": "2024-05-31T00:57:24.839Z"
   },
   {
    "duration": 105,
    "start_time": "2024-05-31T00:57:24.933Z"
   },
   {
    "duration": 83,
    "start_time": "2024-05-31T00:57:25.041Z"
   },
   {
    "duration": 16,
    "start_time": "2024-05-31T00:57:25.127Z"
   },
   {
    "duration": 457,
    "start_time": "2024-05-31T00:57:25.145Z"
   },
   {
    "duration": 16,
    "start_time": "2024-05-31T00:57:25.607Z"
   },
   {
    "duration": 347,
    "start_time": "2024-05-31T00:57:25.626Z"
   },
   {
    "duration": 9,
    "start_time": "2024-05-31T00:57:25.977Z"
   },
   {
    "duration": 1610,
    "start_time": "2024-05-31T01:14:36.918Z"
   },
   {
    "duration": 39,
    "start_time": "2024-05-31T01:14:38.532Z"
   },
   {
    "duration": 15,
    "start_time": "2024-05-31T01:14:38.573Z"
   },
   {
    "duration": 34,
    "start_time": "2024-05-31T01:14:38.590Z"
   },
   {
    "duration": 15,
    "start_time": "2024-05-31T01:14:38.630Z"
   },
   {
    "duration": 11,
    "start_time": "2024-05-31T01:14:38.648Z"
   },
   {
    "duration": 7,
    "start_time": "2024-05-31T01:14:38.661Z"
   },
   {
    "duration": 62,
    "start_time": "2024-05-31T01:14:38.671Z"
   },
   {
    "duration": 1443,
    "start_time": "2024-05-31T01:14:38.737Z"
   },
   {
    "duration": 30,
    "start_time": "2024-05-31T01:14:40.187Z"
   },
   {
    "duration": 39,
    "start_time": "2024-05-31T01:14:40.220Z"
   },
   {
    "duration": 97,
    "start_time": "2024-05-31T01:14:40.330Z"
   },
   {
    "duration": 30,
    "start_time": "2024-05-31T01:14:40.430Z"
   },
   {
    "duration": 67,
    "start_time": "2024-05-31T01:14:40.466Z"
   },
   {
    "duration": 91,
    "start_time": "2024-05-31T01:14:40.536Z"
   },
   {
    "duration": 343,
    "start_time": "2024-05-31T01:14:40.635Z"
   },
   {
    "duration": 9,
    "start_time": "2024-05-31T01:14:40.981Z"
   },
   {
    "duration": 313,
    "start_time": "2024-05-31T01:14:40.994Z"
   },
   {
    "duration": 23,
    "start_time": "2024-05-31T01:14:41.311Z"
   },
   {
    "duration": 1703,
    "start_time": "2024-05-31T01:15:49.014Z"
   },
   {
    "duration": 40,
    "start_time": "2024-05-31T01:15:50.724Z"
   },
   {
    "duration": 14,
    "start_time": "2024-05-31T01:15:50.767Z"
   },
   {
    "duration": 12,
    "start_time": "2024-05-31T01:15:50.785Z"
   },
   {
    "duration": 18,
    "start_time": "2024-05-31T01:15:50.826Z"
   },
   {
    "duration": 7,
    "start_time": "2024-05-31T01:15:50.848Z"
   },
   {
    "duration": 6,
    "start_time": "2024-05-31T01:15:50.858Z"
   },
   {
    "duration": 56,
    "start_time": "2024-05-31T01:15:50.867Z"
   },
   {
    "duration": 1373,
    "start_time": "2024-05-31T01:15:50.926Z"
   },
   {
    "duration": 28,
    "start_time": "2024-05-31T01:15:52.304Z"
   },
   {
    "duration": 89,
    "start_time": "2024-05-31T01:15:52.334Z"
   },
   {
    "duration": 97,
    "start_time": "2024-05-31T01:15:52.426Z"
   },
   {
    "duration": 34,
    "start_time": "2024-05-31T01:15:52.526Z"
   },
   {
    "duration": 19,
    "start_time": "2024-05-31T01:15:52.622Z"
   },
   {
    "duration": 87,
    "start_time": "2024-05-31T01:15:52.644Z"
   },
   {
    "duration": 347,
    "start_time": "2024-05-31T01:15:52.734Z"
   },
   {
    "duration": 9,
    "start_time": "2024-05-31T01:15:53.084Z"
   },
   {
    "duration": 347,
    "start_time": "2024-05-31T01:15:53.097Z"
   },
   {
    "duration": 9,
    "start_time": "2024-05-31T01:15:53.448Z"
   },
   {
    "duration": 1800,
    "start_time": "2024-05-31T01:19:26.359Z"
   },
   {
    "duration": 62,
    "start_time": "2024-05-31T01:19:28.164Z"
   },
   {
    "duration": 19,
    "start_time": "2024-05-31T01:19:28.232Z"
   },
   {
    "duration": 11,
    "start_time": "2024-05-31T01:19:28.257Z"
   },
   {
    "duration": 57,
    "start_time": "2024-05-31T01:19:28.278Z"
   },
   {
    "duration": 8,
    "start_time": "2024-05-31T01:19:28.338Z"
   },
   {
    "duration": 9,
    "start_time": "2024-05-31T01:19:28.350Z"
   },
   {
    "duration": 69,
    "start_time": "2024-05-31T01:19:28.363Z"
   },
   {
    "duration": 1540,
    "start_time": "2024-05-31T01:19:28.436Z"
   },
   {
    "duration": 30,
    "start_time": "2024-05-31T01:19:29.980Z"
   },
   {
    "duration": 42,
    "start_time": "2024-05-31T01:19:30.014Z"
   },
   {
    "duration": 667,
    "start_time": "2024-05-31T01:19:30.059Z"
   },
   {
    "duration": 0,
    "start_time": "2024-05-31T01:19:30.729Z"
   },
   {
    "duration": 0,
    "start_time": "2024-05-31T01:19:30.732Z"
   },
   {
    "duration": 0,
    "start_time": "2024-05-31T01:19:30.736Z"
   },
   {
    "duration": 0,
    "start_time": "2024-05-31T01:19:30.739Z"
   },
   {
    "duration": 0,
    "start_time": "2024-05-31T01:19:30.740Z"
   },
   {
    "duration": 0,
    "start_time": "2024-05-31T01:19:30.743Z"
   },
   {
    "duration": 0,
    "start_time": "2024-05-31T01:19:30.746Z"
   },
   {
    "duration": 0,
    "start_time": "2024-05-31T01:19:30.748Z"
   },
   {
    "duration": 95,
    "start_time": "2024-05-31T01:21:31.828Z"
   },
   {
    "duration": 1633,
    "start_time": "2024-05-31T01:27:17.273Z"
   },
   {
    "duration": 47,
    "start_time": "2024-05-31T01:27:18.910Z"
   },
   {
    "duration": 17,
    "start_time": "2024-05-31T01:27:18.960Z"
   },
   {
    "duration": 12,
    "start_time": "2024-05-31T01:27:18.980Z"
   },
   {
    "duration": 19,
    "start_time": "2024-05-31T01:27:19.023Z"
   },
   {
    "duration": 7,
    "start_time": "2024-05-31T01:27:19.045Z"
   },
   {
    "duration": 7,
    "start_time": "2024-05-31T01:27:19.056Z"
   },
   {
    "duration": 60,
    "start_time": "2024-05-31T01:27:19.066Z"
   },
   {
    "duration": 1457,
    "start_time": "2024-05-31T01:27:19.130Z"
   },
   {
    "duration": 29,
    "start_time": "2024-05-31T01:27:20.591Z"
   },
   {
    "duration": 36,
    "start_time": "2024-05-31T01:27:20.623Z"
   },
   {
    "duration": 225,
    "start_time": "2024-05-31T01:27:20.662Z"
   },
   {
    "duration": 38,
    "start_time": "2024-05-31T01:27:20.891Z"
   },
   {
    "duration": 33,
    "start_time": "2024-05-31T01:27:20.934Z"
   },
   {
    "duration": 63,
    "start_time": "2024-05-31T01:27:20.969Z"
   },
   {
    "duration": 93,
    "start_time": "2024-05-31T01:27:21.035Z"
   },
   {
    "duration": 353,
    "start_time": "2024-05-31T01:27:21.135Z"
   },
   {
    "duration": 8,
    "start_time": "2024-05-31T01:27:21.494Z"
   },
   {
    "duration": 375,
    "start_time": "2024-05-31T01:27:21.505Z"
   },
   {
    "duration": 9,
    "start_time": "2024-05-31T01:27:21.884Z"
   },
   {
    "duration": 1660,
    "start_time": "2024-05-31T01:51:27.848Z"
   },
   {
    "duration": 47,
    "start_time": "2024-05-31T01:51:29.511Z"
   },
   {
    "duration": 14,
    "start_time": "2024-05-31T01:51:29.561Z"
   },
   {
    "duration": 9,
    "start_time": "2024-05-31T01:51:29.579Z"
   },
   {
    "duration": 17,
    "start_time": "2024-05-31T01:51:29.622Z"
   },
   {
    "duration": 9,
    "start_time": "2024-05-31T01:51:29.642Z"
   },
   {
    "duration": 10,
    "start_time": "2024-05-31T01:51:29.654Z"
   },
   {
    "duration": 69,
    "start_time": "2024-05-31T01:51:29.669Z"
   },
   {
    "duration": 1496,
    "start_time": "2024-05-31T01:51:29.743Z"
   },
   {
    "duration": 30,
    "start_time": "2024-05-31T01:51:31.243Z"
   },
   {
    "duration": 59,
    "start_time": "2024-05-31T01:51:31.276Z"
   },
   {
    "duration": 170,
    "start_time": "2024-05-31T01:51:31.338Z"
   },
   {
    "duration": 458,
    "start_time": "2024-05-31T01:51:31.525Z"
   },
   {
    "duration": 0,
    "start_time": "2024-05-31T01:51:31.987Z"
   },
   {
    "duration": 0,
    "start_time": "2024-05-31T01:51:31.990Z"
   },
   {
    "duration": 0,
    "start_time": "2024-05-31T01:51:31.993Z"
   },
   {
    "duration": 0,
    "start_time": "2024-05-31T01:51:31.997Z"
   },
   {
    "duration": 0,
    "start_time": "2024-05-31T01:51:32.023Z"
   },
   {
    "duration": 0,
    "start_time": "2024-05-31T01:51:32.026Z"
   },
   {
    "duration": 0,
    "start_time": "2024-05-31T01:51:32.030Z"
   },
   {
    "duration": 0,
    "start_time": "2024-05-31T01:51:32.033Z"
   },
   {
    "duration": 0,
    "start_time": "2024-05-31T01:51:32.037Z"
   },
   {
    "duration": 1740,
    "start_time": "2024-05-31T01:52:01.929Z"
   },
   {
    "duration": 41,
    "start_time": "2024-05-31T01:52:03.673Z"
   },
   {
    "duration": 16,
    "start_time": "2024-05-31T01:52:03.724Z"
   },
   {
    "duration": 10,
    "start_time": "2024-05-31T01:52:03.743Z"
   },
   {
    "duration": 18,
    "start_time": "2024-05-31T01:52:03.759Z"
   },
   {
    "duration": 49,
    "start_time": "2024-05-31T01:52:03.780Z"
   },
   {
    "duration": 8,
    "start_time": "2024-05-31T01:52:03.832Z"
   },
   {
    "duration": 20,
    "start_time": "2024-05-31T01:52:03.848Z"
   },
   {
    "duration": 1468,
    "start_time": "2024-05-31T01:52:03.872Z"
   },
   {
    "duration": 30,
    "start_time": "2024-05-31T01:52:05.343Z"
   },
   {
    "duration": 54,
    "start_time": "2024-05-31T01:52:05.376Z"
   },
   {
    "duration": 173,
    "start_time": "2024-05-31T01:52:05.433Z"
   },
   {
    "duration": 22,
    "start_time": "2024-05-31T01:52:05.622Z"
   },
   {
    "duration": 20,
    "start_time": "2024-05-31T01:52:05.650Z"
   },
   {
    "duration": 89,
    "start_time": "2024-05-31T01:52:05.675Z"
   },
   {
    "duration": 68,
    "start_time": "2024-05-31T01:52:05.767Z"
   },
   {
    "duration": 253,
    "start_time": "2024-05-31T01:52:05.838Z"
   },
   {
    "duration": 66,
    "start_time": "2024-05-31T01:52:06.094Z"
   },
   {
    "duration": 323,
    "start_time": "2024-05-31T01:52:06.162Z"
   },
   {
    "duration": 10,
    "start_time": "2024-05-31T01:52:06.489Z"
   },
   {
    "duration": 203,
    "start_time": "2024-05-31T01:52:06.523Z"
   },
   {
    "duration": 7,
    "start_time": "2024-05-31T01:52:06.730Z"
   },
   {
    "duration": 21,
    "start_time": "2024-05-31T01:53:26.763Z"
   },
   {
    "duration": 22,
    "start_time": "2024-05-31T01:53:27.637Z"
   },
   {
    "duration": 28,
    "start_time": "2024-05-31T01:53:29.271Z"
   },
   {
    "duration": 19,
    "start_time": "2024-05-31T01:53:30.675Z"
   },
   {
    "duration": 115,
    "start_time": "2024-05-31T01:53:42.383Z"
   },
   {
    "duration": 60,
    "start_time": "2024-05-31T01:53:43.310Z"
   },
   {
    "duration": 18,
    "start_time": "2024-05-31T01:54:18.380Z"
   },
   {
    "duration": 17,
    "start_time": "2024-05-31T01:54:22.990Z"
   },
   {
    "duration": 36,
    "start_time": "2024-05-31T01:54:25.863Z"
   },
   {
    "duration": 32,
    "start_time": "2024-05-31T01:54:27.350Z"
   },
   {
    "duration": 115,
    "start_time": "2024-05-31T01:54:38.290Z"
   },
   {
    "duration": 66,
    "start_time": "2024-05-31T01:54:40.865Z"
   },
   {
    "duration": 19,
    "start_time": "2024-05-31T01:54:55.363Z"
   },
   {
    "duration": 19,
    "start_time": "2024-05-31T01:54:56.017Z"
   },
   {
    "duration": 34,
    "start_time": "2024-05-31T01:54:58.067Z"
   },
   {
    "duration": 20,
    "start_time": "2024-05-31T01:54:59.626Z"
   },
   {
    "duration": 125,
    "start_time": "2024-05-31T01:55:02.432Z"
   },
   {
    "duration": 78,
    "start_time": "2024-05-31T01:55:03.837Z"
   },
   {
    "duration": 20,
    "start_time": "2024-05-31T01:55:45.064Z"
   },
   {
    "duration": 17,
    "start_time": "2024-05-31T01:55:46.275Z"
   },
   {
    "duration": 34,
    "start_time": "2024-05-31T01:55:48.678Z"
   },
   {
    "duration": 20,
    "start_time": "2024-05-31T01:55:49.603Z"
   },
   {
    "duration": 127,
    "start_time": "2024-05-31T01:55:51.839Z"
   },
   {
    "duration": 72,
    "start_time": "2024-05-31T01:55:52.943Z"
   },
   {
    "duration": 18,
    "start_time": "2024-05-31T01:56:01.680Z"
   },
   {
    "duration": 18,
    "start_time": "2024-05-31T01:56:02.410Z"
   },
   {
    "duration": 94,
    "start_time": "2024-05-31T01:56:03.429Z"
   },
   {
    "duration": 21,
    "start_time": "2024-05-31T01:56:04.740Z"
   },
   {
    "duration": 105,
    "start_time": "2024-05-31T01:56:07.506Z"
   },
   {
    "duration": 75,
    "start_time": "2024-05-31T01:56:10.106Z"
   },
   {
    "duration": 17,
    "start_time": "2024-05-31T01:56:25.675Z"
   },
   {
    "duration": 1778,
    "start_time": "2024-05-31T01:56:32.931Z"
   },
   {
    "duration": 41,
    "start_time": "2024-05-31T01:56:34.713Z"
   },
   {
    "duration": 14,
    "start_time": "2024-05-31T01:56:34.758Z"
   },
   {
    "duration": 8,
    "start_time": "2024-05-31T01:56:34.777Z"
   },
   {
    "duration": 43,
    "start_time": "2024-05-31T01:56:34.791Z"
   },
   {
    "duration": 8,
    "start_time": "2024-05-31T01:56:34.837Z"
   },
   {
    "duration": 7,
    "start_time": "2024-05-31T01:56:34.848Z"
   },
   {
    "duration": 16,
    "start_time": "2024-05-31T01:56:34.859Z"
   },
   {
    "duration": 1403,
    "start_time": "2024-05-31T01:56:34.923Z"
   },
   {
    "duration": 28,
    "start_time": "2024-05-31T01:56:36.330Z"
   },
   {
    "duration": 69,
    "start_time": "2024-05-31T01:56:36.360Z"
   },
   {
    "duration": 168,
    "start_time": "2024-05-31T01:56:36.433Z"
   },
   {
    "duration": 31,
    "start_time": "2024-05-31T01:56:36.604Z"
   },
   {
    "duration": 15,
    "start_time": "2024-05-31T01:56:36.641Z"
   },
   {
    "duration": 83,
    "start_time": "2024-05-31T01:56:36.659Z"
   },
   {
    "duration": 88,
    "start_time": "2024-05-31T01:56:36.744Z"
   },
   {
    "duration": 256,
    "start_time": "2024-05-31T01:56:36.837Z"
   },
   {
    "duration": 68,
    "start_time": "2024-05-31T01:56:37.096Z"
   },
   {
    "duration": 320,
    "start_time": "2024-05-31T01:56:37.168Z"
   },
   {
    "duration": 7,
    "start_time": "2024-05-31T01:56:37.491Z"
   },
   {
    "duration": 230,
    "start_time": "2024-05-31T01:56:37.501Z"
   },
   {
    "duration": 9,
    "start_time": "2024-05-31T01:56:37.733Z"
   },
   {
    "duration": 15,
    "start_time": "2024-05-31T01:58:23.124Z"
   },
   {
    "duration": 27,
    "start_time": "2024-05-31T01:58:27.849Z"
   },
   {
    "duration": 1649,
    "start_time": "2024-05-31T01:58:37.561Z"
   },
   {
    "duration": 42,
    "start_time": "2024-05-31T01:58:39.214Z"
   },
   {
    "duration": 15,
    "start_time": "2024-05-31T01:58:39.259Z"
   },
   {
    "duration": 9,
    "start_time": "2024-05-31T01:58:39.279Z"
   },
   {
    "duration": 16,
    "start_time": "2024-05-31T01:58:39.323Z"
   },
   {
    "duration": 7,
    "start_time": "2024-05-31T01:58:39.342Z"
   },
   {
    "duration": 8,
    "start_time": "2024-05-31T01:58:39.353Z"
   },
   {
    "duration": 76,
    "start_time": "2024-05-31T01:58:39.364Z"
   },
   {
    "duration": 1581,
    "start_time": "2024-05-31T01:58:39.443Z"
   },
   {
    "duration": 32,
    "start_time": "2024-05-31T01:58:41.028Z"
   },
   {
    "duration": 66,
    "start_time": "2024-05-31T01:58:41.064Z"
   },
   {
    "duration": 174,
    "start_time": "2024-05-31T01:58:41.133Z"
   },
   {
    "duration": 26,
    "start_time": "2024-05-31T01:58:41.311Z"
   },
   {
    "duration": 18,
    "start_time": "2024-05-31T01:58:41.344Z"
   },
   {
    "duration": 62,
    "start_time": "2024-05-31T01:58:41.365Z"
   },
   {
    "duration": 99,
    "start_time": "2024-05-31T01:58:41.430Z"
   },
   {
    "duration": 252,
    "start_time": "2024-05-31T01:58:41.532Z"
   },
   {
    "duration": 77,
    "start_time": "2024-05-31T01:58:41.788Z"
   },
   {
    "duration": 330,
    "start_time": "2024-05-31T01:58:41.868Z"
   },
   {
    "duration": 23,
    "start_time": "2024-05-31T01:58:42.201Z"
   },
   {
    "duration": 217,
    "start_time": "2024-05-31T01:58:42.227Z"
   },
   {
    "duration": 9,
    "start_time": "2024-05-31T01:58:42.448Z"
   },
   {
    "duration": 1638,
    "start_time": "2024-05-31T02:01:38.894Z"
   },
   {
    "duration": 36,
    "start_time": "2024-05-31T02:01:40.536Z"
   },
   {
    "duration": 13,
    "start_time": "2024-05-31T02:01:40.575Z"
   },
   {
    "duration": 36,
    "start_time": "2024-05-31T02:01:40.592Z"
   },
   {
    "duration": 16,
    "start_time": "2024-05-31T02:01:40.633Z"
   },
   {
    "duration": 7,
    "start_time": "2024-05-31T02:01:40.652Z"
   },
   {
    "duration": 8,
    "start_time": "2024-05-31T02:01:40.662Z"
   },
   {
    "duration": 62,
    "start_time": "2024-05-31T02:01:40.674Z"
   },
   {
    "duration": 1493,
    "start_time": "2024-05-31T02:01:40.739Z"
   },
   {
    "duration": 29,
    "start_time": "2024-05-31T02:01:42.236Z"
   },
   {
    "duration": 62,
    "start_time": "2024-05-31T02:01:42.268Z"
   },
   {
    "duration": 170,
    "start_time": "2024-05-31T02:01:42.336Z"
   },
   {
    "duration": 17,
    "start_time": "2024-05-31T02:01:42.522Z"
   },
   {
    "duration": 17,
    "start_time": "2024-05-31T02:01:42.544Z"
   },
   {
    "duration": 60,
    "start_time": "2024-05-31T02:01:42.564Z"
   },
   {
    "duration": 98,
    "start_time": "2024-05-31T02:01:42.628Z"
   },
   {
    "duration": 176,
    "start_time": "2024-05-31T02:01:42.730Z"
   },
   {
    "duration": 42,
    "start_time": "2024-05-31T02:01:42.909Z"
   },
   {
    "duration": 329,
    "start_time": "2024-05-31T02:01:42.955Z"
   },
   {
    "duration": 10,
    "start_time": "2024-05-31T02:01:43.290Z"
   },
   {
    "duration": 231,
    "start_time": "2024-05-31T02:01:43.303Z"
   },
   {
    "duration": 7,
    "start_time": "2024-05-31T02:01:43.538Z"
   },
   {
    "duration": 16,
    "start_time": "2024-05-31T02:04:18.613Z"
   },
   {
    "duration": 19,
    "start_time": "2024-05-31T02:04:19.042Z"
   },
   {
    "duration": 58,
    "start_time": "2024-05-31T02:04:20.285Z"
   },
   {
    "duration": 15,
    "start_time": "2024-05-31T02:04:21.492Z"
   },
   {
    "duration": 105,
    "start_time": "2024-05-31T02:04:23.691Z"
   },
   {
    "duration": 34,
    "start_time": "2024-05-31T02:04:24.791Z"
   },
   {
    "duration": 18,
    "start_time": "2024-05-31T02:04:58.126Z"
   },
   {
    "duration": 15,
    "start_time": "2024-05-31T02:05:02.033Z"
   },
   {
    "duration": 26,
    "start_time": "2024-05-31T02:05:04.740Z"
   },
   {
    "duration": 16,
    "start_time": "2024-05-31T02:05:05.884Z"
   },
   {
    "duration": 117,
    "start_time": "2024-05-31T02:05:12.497Z"
   },
   {
    "duration": 39,
    "start_time": "2024-05-31T02:05:14.573Z"
   },
   {
    "duration": 18,
    "start_time": "2024-05-31T02:05:53.939Z"
   },
   {
    "duration": 20,
    "start_time": "2024-05-31T02:05:57.126Z"
   },
   {
    "duration": 36,
    "start_time": "2024-05-31T02:05:58.304Z"
   },
   {
    "duration": 20,
    "start_time": "2024-05-31T02:06:00.010Z"
   },
   {
    "duration": 123,
    "start_time": "2024-05-31T02:06:02.068Z"
   },
   {
    "duration": 51,
    "start_time": "2024-05-31T02:06:03.820Z"
   },
   {
    "duration": 26,
    "start_time": "2024-05-31T02:07:09.902Z"
   },
   {
    "duration": 18,
    "start_time": "2024-05-31T02:07:14.015Z"
   },
   {
    "duration": 31,
    "start_time": "2024-05-31T02:07:15.522Z"
   },
   {
    "duration": 17,
    "start_time": "2024-05-31T02:07:16.581Z"
   },
   {
    "duration": 123,
    "start_time": "2024-05-31T02:07:19.198Z"
   },
   {
    "duration": 64,
    "start_time": "2024-05-31T02:07:21.039Z"
   },
   {
    "duration": 22,
    "start_time": "2024-05-31T02:08:07.739Z"
   },
   {
    "duration": 18,
    "start_time": "2024-05-31T02:08:08.196Z"
   },
   {
    "duration": 33,
    "start_time": "2024-05-31T02:08:09.150Z"
   },
   {
    "duration": 21,
    "start_time": "2024-05-31T02:08:09.738Z"
   },
   {
    "duration": 136,
    "start_time": "2024-05-31T02:08:11.009Z"
   },
   {
    "duration": 60,
    "start_time": "2024-05-31T02:08:12.831Z"
   },
   {
    "duration": 474,
    "start_time": "2024-05-31T02:13:29.454Z"
   },
   {
    "duration": 1659,
    "start_time": "2024-05-31T02:13:36.143Z"
   },
   {
    "duration": 46,
    "start_time": "2024-05-31T02:13:37.806Z"
   },
   {
    "duration": 15,
    "start_time": "2024-05-31T02:13:37.856Z"
   },
   {
    "duration": 10,
    "start_time": "2024-05-31T02:13:37.874Z"
   },
   {
    "duration": 46,
    "start_time": "2024-05-31T02:13:37.889Z"
   },
   {
    "duration": 7,
    "start_time": "2024-05-31T02:13:37.938Z"
   },
   {
    "duration": 8,
    "start_time": "2024-05-31T02:13:37.949Z"
   },
   {
    "duration": 17,
    "start_time": "2024-05-31T02:13:37.960Z"
   },
   {
    "duration": 1396,
    "start_time": "2024-05-31T02:13:38.024Z"
   },
   {
    "duration": 31,
    "start_time": "2024-05-31T02:13:39.424Z"
   },
   {
    "duration": 75,
    "start_time": "2024-05-31T02:13:39.458Z"
   },
   {
    "duration": 186,
    "start_time": "2024-05-31T02:13:39.536Z"
   },
   {
    "duration": 1863,
    "start_time": "2024-05-31T02:13:39.731Z"
   },
   {
    "duration": 36,
    "start_time": "2024-05-31T02:13:41.600Z"
   },
   {
    "duration": 18,
    "start_time": "2024-05-31T02:13:41.639Z"
   },
   {
    "duration": 63,
    "start_time": "2024-05-31T02:13:41.661Z"
   },
   {
    "duration": 103,
    "start_time": "2024-05-31T02:13:41.727Z"
   },
   {
    "duration": 274,
    "start_time": "2024-05-31T02:13:41.840Z"
   },
   {
    "duration": 61,
    "start_time": "2024-05-31T02:13:42.122Z"
   },
   {
    "duration": 307,
    "start_time": "2024-05-31T02:13:42.186Z"
   },
   {
    "duration": 28,
    "start_time": "2024-05-31T02:13:42.496Z"
   },
   {
    "duration": 215,
    "start_time": "2024-05-31T02:13:42.527Z"
   },
   {
    "duration": 8,
    "start_time": "2024-05-31T02:13:42.746Z"
   },
   {
    "duration": 1673,
    "start_time": "2024-05-31T02:15:16.363Z"
   },
   {
    "duration": 39,
    "start_time": "2024-05-31T02:15:18.041Z"
   },
   {
    "duration": 38,
    "start_time": "2024-05-31T02:15:18.084Z"
   },
   {
    "duration": 10,
    "start_time": "2024-05-31T02:15:18.125Z"
   },
   {
    "duration": 16,
    "start_time": "2024-05-31T02:15:18.142Z"
   },
   {
    "duration": 8,
    "start_time": "2024-05-31T02:15:18.161Z"
   },
   {
    "duration": 54,
    "start_time": "2024-05-31T02:15:18.174Z"
   },
   {
    "duration": 22,
    "start_time": "2024-05-31T02:15:18.232Z"
   },
   {
    "duration": 1455,
    "start_time": "2024-05-31T02:15:18.258Z"
   },
   {
    "duration": 36,
    "start_time": "2024-05-31T02:15:19.717Z"
   },
   {
    "duration": 73,
    "start_time": "2024-05-31T02:15:19.757Z"
   },
   {
    "duration": 170,
    "start_time": "2024-05-31T02:15:19.838Z"
   },
   {
    "duration": 1850,
    "start_time": "2024-05-31T02:15:20.012Z"
   },
   {
    "duration": 22,
    "start_time": "2024-05-31T02:15:21.867Z"
   },
   {
    "duration": 39,
    "start_time": "2024-05-31T02:15:21.891Z"
   },
   {
    "duration": 34,
    "start_time": "2024-05-31T02:15:21.932Z"
   },
   {
    "duration": 77,
    "start_time": "2024-05-31T02:15:21.968Z"
   },
   {
    "duration": 207,
    "start_time": "2024-05-31T02:15:22.129Z"
   },
   {
    "duration": 59,
    "start_time": "2024-05-31T02:15:22.342Z"
   },
   {
    "duration": 362,
    "start_time": "2024-05-31T02:15:22.405Z"
   },
   {
    "duration": 9,
    "start_time": "2024-05-31T02:15:22.770Z"
   },
   {
    "duration": 220,
    "start_time": "2024-05-31T02:15:22.782Z"
   },
   {
    "duration": 18,
    "start_time": "2024-05-31T02:15:23.005Z"
   },
   {
    "duration": 1706,
    "start_time": "2024-05-31T02:21:10.476Z"
   },
   {
    "duration": 47,
    "start_time": "2024-05-31T02:21:12.186Z"
   },
   {
    "duration": 15,
    "start_time": "2024-05-31T02:21:12.238Z"
   },
   {
    "duration": 8,
    "start_time": "2024-05-31T02:21:12.256Z"
   },
   {
    "duration": 18,
    "start_time": "2024-05-31T02:21:12.268Z"
   },
   {
    "duration": 9,
    "start_time": "2024-05-31T02:21:12.324Z"
   },
   {
    "duration": 9,
    "start_time": "2024-05-31T02:21:12.337Z"
   },
   {
    "duration": 21,
    "start_time": "2024-05-31T02:21:12.351Z"
   },
   {
    "duration": 1466,
    "start_time": "2024-05-31T02:21:12.377Z"
   },
   {
    "duration": 29,
    "start_time": "2024-05-31T02:21:13.847Z"
   },
   {
    "duration": 50,
    "start_time": "2024-05-31T02:21:13.879Z"
   },
   {
    "duration": 167,
    "start_time": "2024-05-31T02:21:13.933Z"
   },
   {
    "duration": 1827,
    "start_time": "2024-05-31T02:21:14.104Z"
   },
   {
    "duration": 22,
    "start_time": "2024-05-31T02:21:15.938Z"
   },
   {
    "duration": 16,
    "start_time": "2024-05-31T02:21:15.963Z"
   },
   {
    "duration": 68,
    "start_time": "2024-05-31T02:21:15.983Z"
   },
   {
    "duration": 88,
    "start_time": "2024-05-31T02:21:16.054Z"
   },
   {
    "duration": 740,
    "start_time": "2024-05-31T02:21:16.145Z"
   },
   {
    "duration": 0,
    "start_time": "2024-05-31T02:21:16.888Z"
   },
   {
    "duration": 0,
    "start_time": "2024-05-31T02:21:16.891Z"
   },
   {
    "duration": 0,
    "start_time": "2024-05-31T02:21:16.894Z"
   },
   {
    "duration": 0,
    "start_time": "2024-05-31T02:21:16.896Z"
   },
   {
    "duration": 0,
    "start_time": "2024-05-31T02:21:16.898Z"
   },
   {
    "duration": 0,
    "start_time": "2024-05-31T02:21:16.900Z"
   },
   {
    "duration": 0,
    "start_time": "2024-05-31T02:21:16.923Z"
   },
   {
    "duration": 133,
    "start_time": "2024-05-31T02:23:22.082Z"
   },
   {
    "duration": 1655,
    "start_time": "2024-05-31T02:23:30.349Z"
   },
   {
    "duration": 53,
    "start_time": "2024-05-31T02:23:32.009Z"
   },
   {
    "duration": 17,
    "start_time": "2024-05-31T02:23:32.065Z"
   },
   {
    "duration": 9,
    "start_time": "2024-05-31T02:23:32.085Z"
   },
   {
    "duration": 18,
    "start_time": "2024-05-31T02:23:32.127Z"
   },
   {
    "duration": 7,
    "start_time": "2024-05-31T02:23:32.148Z"
   },
   {
    "duration": 8,
    "start_time": "2024-05-31T02:23:32.159Z"
   },
   {
    "duration": 63,
    "start_time": "2024-05-31T02:23:32.170Z"
   },
   {
    "duration": 1663,
    "start_time": "2024-05-31T02:23:32.237Z"
   },
   {
    "duration": 33,
    "start_time": "2024-05-31T02:23:33.903Z"
   },
   {
    "duration": 84,
    "start_time": "2024-05-31T02:23:33.940Z"
   },
   {
    "duration": 167,
    "start_time": "2024-05-31T02:23:34.027Z"
   },
   {
    "duration": 1825,
    "start_time": "2024-05-31T02:23:34.198Z"
   },
   {
    "duration": 22,
    "start_time": "2024-05-31T02:23:36.029Z"
   },
   {
    "duration": 15,
    "start_time": "2024-05-31T02:23:36.054Z"
   },
   {
    "duration": 68,
    "start_time": "2024-05-31T02:23:36.072Z"
   },
   {
    "duration": 93,
    "start_time": "2024-05-31T02:23:36.142Z"
   },
   {
    "duration": 277,
    "start_time": "2024-05-31T02:23:36.239Z"
   },
   {
    "duration": 471,
    "start_time": "2024-05-31T02:23:36.522Z"
   },
   {
    "duration": 0,
    "start_time": "2024-05-31T02:23:36.996Z"
   },
   {
    "duration": 0,
    "start_time": "2024-05-31T02:23:36.998Z"
   },
   {
    "duration": 0,
    "start_time": "2024-05-31T02:23:37.000Z"
   },
   {
    "duration": 0,
    "start_time": "2024-05-31T02:23:37.003Z"
   },
   {
    "duration": 0,
    "start_time": "2024-05-31T02:23:37.023Z"
   },
   {
    "duration": 0,
    "start_time": "2024-05-31T02:23:37.025Z"
   },
   {
    "duration": 1700,
    "start_time": "2024-05-31T02:24:03.941Z"
   },
   {
    "duration": 41,
    "start_time": "2024-05-31T02:24:05.644Z"
   },
   {
    "duration": 36,
    "start_time": "2024-05-31T02:24:05.688Z"
   },
   {
    "duration": 10,
    "start_time": "2024-05-31T02:24:05.728Z"
   },
   {
    "duration": 18,
    "start_time": "2024-05-31T02:24:05.742Z"
   },
   {
    "duration": 7,
    "start_time": "2024-05-31T02:24:05.764Z"
   },
   {
    "duration": 50,
    "start_time": "2024-05-31T02:24:05.774Z"
   },
   {
    "duration": 17,
    "start_time": "2024-05-31T02:24:05.827Z"
   },
   {
    "duration": 1473,
    "start_time": "2024-05-31T02:24:05.847Z"
   },
   {
    "duration": 38,
    "start_time": "2024-05-31T02:24:07.323Z"
   },
   {
    "duration": 65,
    "start_time": "2024-05-31T02:24:07.367Z"
   },
   {
    "duration": 170,
    "start_time": "2024-05-31T02:24:07.435Z"
   },
   {
    "duration": 1848,
    "start_time": "2024-05-31T02:24:07.608Z"
   },
   {
    "duration": 28,
    "start_time": "2024-05-31T02:24:09.464Z"
   },
   {
    "duration": 45,
    "start_time": "2024-05-31T02:24:09.495Z"
   },
   {
    "duration": 76,
    "start_time": "2024-05-31T02:24:09.547Z"
   },
   {
    "duration": 96,
    "start_time": "2024-05-31T02:24:09.626Z"
   },
   {
    "duration": 211,
    "start_time": "2024-05-31T02:24:09.729Z"
   },
   {
    "duration": 61,
    "start_time": "2024-05-31T02:24:09.944Z"
   },
   {
    "duration": 3368,
    "start_time": "2024-05-31T02:24:10.023Z"
   },
   {
    "duration": 1264,
    "start_time": "2024-05-31T02:24:13.394Z"
   },
   {
    "duration": 321,
    "start_time": "2024-05-31T02:24:14.661Z"
   },
   {
    "duration": 9,
    "start_time": "2024-05-31T02:24:14.986Z"
   },
   {
    "duration": 238,
    "start_time": "2024-05-31T02:24:14.998Z"
   },
   {
    "duration": 8,
    "start_time": "2024-05-31T02:24:15.240Z"
   },
   {
    "duration": 21,
    "start_time": "2024-05-31T02:24:42.063Z"
   },
   {
    "duration": 15,
    "start_time": "2024-05-31T02:24:44.350Z"
   },
   {
    "duration": 34,
    "start_time": "2024-05-31T02:24:45.817Z"
   },
   {
    "duration": 20,
    "start_time": "2024-05-31T02:24:46.718Z"
   },
   {
    "duration": 139,
    "start_time": "2024-05-31T02:24:48.350Z"
   },
   {
    "duration": 68,
    "start_time": "2024-05-31T02:24:49.208Z"
   },
   {
    "duration": 3443,
    "start_time": "2024-05-31T02:24:50.792Z"
   },
   {
    "duration": 1398,
    "start_time": "2024-05-31T02:24:56.862Z"
   },
   {
    "duration": 19,
    "start_time": "2024-05-31T02:26:32.161Z"
   },
   {
    "duration": 24,
    "start_time": "2024-05-31T02:26:32.945Z"
   },
   {
    "duration": 32,
    "start_time": "2024-05-31T02:26:34.894Z"
   },
   {
    "duration": 17,
    "start_time": "2024-05-31T02:26:35.630Z"
   },
   {
    "duration": 117,
    "start_time": "2024-05-31T02:26:39.346Z"
   },
   {
    "duration": 48,
    "start_time": "2024-05-31T02:26:40.406Z"
   },
   {
    "duration": 2941,
    "start_time": "2024-05-31T02:26:41.996Z"
   },
   {
    "duration": 971,
    "start_time": "2024-05-31T02:26:46.864Z"
   },
   {
    "duration": 19,
    "start_time": "2024-05-31T02:27:38.676Z"
   },
   {
    "duration": 19,
    "start_time": "2024-05-31T02:27:40.223Z"
   },
   {
    "duration": 57,
    "start_time": "2024-05-31T02:27:43.837Z"
   },
   {
    "duration": 18,
    "start_time": "2024-05-31T02:27:44.633Z"
   },
   {
    "duration": 107,
    "start_time": "2024-05-31T02:27:46.790Z"
   },
   {
    "duration": 52,
    "start_time": "2024-05-31T02:27:48.995Z"
   },
   {
    "duration": 2539,
    "start_time": "2024-05-31T02:27:50.341Z"
   },
   {
    "duration": 1117,
    "start_time": "2024-05-31T02:27:52.884Z"
   },
   {
    "duration": 264,
    "start_time": "2024-05-31T02:36:06.032Z"
   }
  ],
  "kernelspec": {
   "display_name": "Python 3 (ipykernel)",
   "language": "python",
   "name": "python3"
  },
  "language_info": {
   "codemirror_mode": {
    "name": "ipython",
    "version": 3
   },
   "file_extension": ".py",
   "mimetype": "text/x-python",
   "name": "python",
   "nbconvert_exporter": "python",
   "pygments_lexer": "ipython3",
   "version": "3.9.19"
  },
  "toc": {
   "base_numbering": 1,
   "nav_menu": {},
   "number_sections": true,
   "sideBar": true,
   "skip_h1_title": true,
   "title_cell": "Table of Contents",
   "title_sidebar": "Contents",
   "toc_cell": false,
   "toc_position": {},
   "toc_section_display": true,
   "toc_window_display": false
  }
 },
 "nbformat": 4,
 "nbformat_minor": 2
}
